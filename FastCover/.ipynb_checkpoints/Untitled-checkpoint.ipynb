{
 "cells": [
  {
   "cell_type": "markdown",
   "metadata": {},
   "source": [
    "## Cargando los grafos de prueba"
   ]
  },
  {
   "cell_type": "code",
   "execution_count": 63,
   "metadata": {
    "ExecuteTime": {
     "end_time": "2022-10-19T08:25:17.883997Z",
     "start_time": "2022-10-19T08:25:17.859925Z"
    }
   },
   "outputs": [],
   "source": [
    "import igraph\n",
    "import dgl\n",
    "import torch\n",
    "import heapq\n",
    "import time\n",
    "import progressbar\n",
    "import pickle\n",
    "import matplotlib.pyplot as plt\n",
    "import os\n",
    "import networkx as nx\n",
    "import matplotlib.pyplot as plt"
   ]
  },
  {
   "cell_type": "code",
   "execution_count": 50,
   "metadata": {
    "ExecuteTime": {
     "end_time": "2022-10-19T08:20:20.654453Z",
     "start_time": "2022-10-19T08:20:20.639449Z"
    }
   },
   "outputs": [],
   "source": [
    "PATH = \"data/\"\n",
    "PATH_INSTANCES = \"data/ER_graphs/\"\n",
    "FEATURE_TYPE = \"1\"\n",
    "HIDDEN_FEATS = [32]*6\n",
    "input_dim = 32\n",
    "directed_train = False\n",
    "use_cuda = False"
   ]
  },
  {
   "cell_type": "markdown",
   "metadata": {},
   "source": [
    "### Funciones"
   ]
  },
  {
   "cell_type": "code",
   "execution_count": 54,
   "metadata": {
    "ExecuteTime": {
     "end_time": "2022-10-19T08:21:42.050699Z",
     "start_time": "2022-10-19T08:21:42.033391Z"
    }
   },
   "outputs": [],
   "source": [
    "def get_rev_dgl(graph, feature_type='0', feature_dim=None, is_directed=False, use_cuda=False):\n",
    "    \"\"\"get dgl graph from igraph\n",
    "    \"\"\"\n",
    "    \n",
    "    src, dst = zip(*graph.get_edgelist())\n",
    "\n",
    "    if use_cuda:\n",
    "        dglgraph = dgl.graph((dst, src)).to(torch.device(\"cuda:0\"))\n",
    "    else:\n",
    "        dglgraph = dgl.graph((dst, src))\n",
    "        \n",
    "    if not is_directed:\n",
    "        dglgraph.add_edges(src, dst)\n",
    "\n",
    "    if use_cuda:\n",
    "        dglgraph.ndata['feat'] = FEATURE_TYPE_DICT[feature_type](graph, feature_dim).cuda()\n",
    "        dglgraph.ndata['degree'] = torch.tensor(graph.degree()).float().cuda()\n",
    "\n",
    "    else:\n",
    "        dglgraph.ndata['feat'] = FEATURE_TYPE_DICT[feature_type](graph, feature_dim)\n",
    "        dglgraph.ndata['degree'] = torch.tensor(graph.degree()).float()\n",
    "        \n",
    "    return dglgraph\n",
    "\n",
    "def gen_one_feature(graph, feature_dim):\n",
    "    \"\"\"Generate all-one features\n",
    "    \"\"\"\n",
    "    return torch.ones(graph.vcount(), feature_dim)\n",
    "\n",
    "\n",
    "FEATURE_TYPE_DICT = {\n",
    "    \"1\": gen_one_feature,\n",
    "}"
   ]
  },
  {
   "cell_type": "code",
   "execution_count": 27,
   "metadata": {
    "ExecuteTime": {
     "end_time": "2022-10-15T14:10:10.848245Z",
     "start_time": "2022-10-15T14:09:56.838303Z"
    }
   },
   "outputs": [
    {
     "name": "stderr",
     "output_type": "stream",
     "text": [
      "100% (29 of 29) |########################| Elapsed Time: 0:00:13 Time:  0:00:13\n"
     ]
    },
    {
     "name": "stdout",
     "output_type": "stream",
     "text": [
      "MEAN NODES: 44170.41\n",
      "STD:67189.83\n",
      "MAX: 317080.00\n",
      "MIN: 620.00\n"
     ]
    }
   ],
   "source": [
    "Graphs = [graph for graph in os.listdir(PATH) if \".txt\" in graph]\n",
    "#\"\"\"\n",
    "MeanNodes = []\n",
    "\n",
    "N = len(Graphs)\n",
    "\n",
    "for file in progressbar.progressbar(Graphs):\n",
    "    graph = igraph.Graph().Read_Edgelist(\n",
    "        f\"{PATH}{file}\", directed=False)\n",
    "\n",
    "    dglgraph = get_rev_dgl(graph, FEATURE_TYPE, input_dim, directed_train, use_cuda = False)\n",
    "    \n",
    "    MeanNodes.append(dglgraph.num_nodes())\n",
    "#\"\"\"\n",
    "print(f\"MEAN NODES: {np.mean(MeanNodes):.2f}\\nSTD:{np.std(MeanNodes):.2f}\\nMAX: {np.max(MeanNodes):.2f}\\nMIN: {np.min(MeanNodes):.2f}\")"
   ]
  },
  {
   "cell_type": "code",
   "execution_count": 38,
   "metadata": {
    "ExecuteTime": {
     "end_time": "2022-10-15T10:37:42.313197Z",
     "start_time": "2022-10-15T10:37:42.176318Z"
    }
   },
   "outputs": [
    {
     "data": {
      "text/plain": [
       "(array([7., 3., 4., 1., 2., 3., 1., 2., 1., 2.]),\n",
       " array([  620. ,  6931.1, 13242.2, 19553.3, 25864.4, 32175.5, 38486.6,\n",
       "        44797.7, 51108.8, 57419.9, 63731. ]),\n",
       " <BarContainer object of 10 artists>)"
      ]
     },
     "execution_count": 38,
     "metadata": {},
     "output_type": "execute_result"
    },
    {
     "data": {
      "image/png": "[encoded data removed]",
      "text/plain": [
       "<Figure size 432x288 with 1 Axes>"
      ]
     },
     "metadata": {
      "needs_background": "light"
     },
     "output_type": "display_data"
    }
   ],
   "source": [
    "MeanNodes = np.array(MeanNodes)\n",
    "plt.hist(MeanNodes[MeanNodes < 100_000], bins = 10)"
   ]
  },
  {
   "cell_type": "markdown",
   "metadata": {},
   "source": [
    "## Convirtiendo dimacs a txt"
   ]
  },
  {
   "cell_type": "code",
   "execution_count": 8,
   "metadata": {
    "ExecuteTime": {
     "end_time": "2022-10-19T08:02:25.742235Z",
     "start_time": "2022-10-19T08:02:25.734234Z"
    }
   },
   "outputs": [],
   "source": [
    "PATH = \"../BRKGA/instances/dimacs/\"\n",
    "NEW_PATH = \"../BRKGA/instances/txt/\""
   ]
  },
  {
   "cell_type": "code",
   "execution_count": 9,
   "metadata": {
    "ExecuteTime": {
     "end_time": "2022-10-19T08:02:26.332127Z",
     "start_time": "2022-10-19T08:02:26.324996Z"
    }
   },
   "outputs": [],
   "source": [
    "Graphs = [graph for graph in os.listdir(PATH)]"
   ]
  },
  {
   "cell_type": "code",
   "execution_count": 10,
   "metadata": {
    "ExecuteTime": {
     "end_time": "2022-10-19T08:02:26.937160Z",
     "start_time": "2022-10-19T08:02:26.915359Z"
    }
   },
   "outputs": [
    {
     "data": {
      "text/plain": [
       "['Amazon0302.dimacs',\n",
       " 'Amazon0312.dimacs',\n",
       " 'Amazon0505.dimacs',\n",
       " 'Amazon0601.dimacs',\n",
       " 'com-dblp.ungraph.dimacs',\n",
       " 'com-youtube.ungraph.dimacs',\n",
       " 'deezer_HR.dimacs',\n",
       " 'ego-facebook.dimacs',\n",
       " 'gemsec_facebook_artist.dimacs',\n",
       " 'graph_actors_dat.dimacs',\n",
       " 'graph_CA-AstroPh.dimacs',\n",
       " 'graph_CA-CondMat.dimacs',\n",
       " 'graph_CA-GrQc.dimacs',\n",
       " 'graph_CA-HepPh.dimacs',\n",
       " 'graph_CA-HepTh.dimacs',\n",
       " 'graph_dolphins.dimacs',\n",
       " 'graph_Email-Enron.dimacs',\n",
       " 'graph_football.dimacs',\n",
       " 'graph_jazz.dimacs',\n",
       " 'graph_karate.dimacs',\n",
       " 'graph_ncstrlwg2.dimacs',\n",
       " 'loc-gowalla_edges.dimacs',\n",
       " 'musae_git.dimacs',\n",
       " 'soc-gplus.dimacs',\n",
       " 'socfb-Brandeis99.dimacs',\n",
       " 'socfb-Mich67.dimacs',\n",
       " 'socfb-nips-ego.dimacs']"
      ]
     },
     "execution_count": 10,
     "metadata": {},
     "output_type": "execute_result"
    }
   ],
   "source": [
    "Graphs"
   ]
  },
  {
   "cell_type": "code",
   "execution_count": 36,
   "metadata": {
    "ExecuteTime": {
     "end_time": "2022-10-19T08:13:16.664436Z",
     "start_time": "2022-10-19T08:13:16.646923Z"
    }
   },
   "outputs": [],
   "source": [
    "def Dimacs2Txt(ruta, nuevaruta):\n",
    "    file1 = open(ruta, 'rb')\n",
    "    Lines = file1.readlines()\n",
    "    newname = \".\".join((PATH+file).split(\"/\")[-1].split(\".\")[:-1])+\".txt\"\n",
    "    file2 = open(nuevaruta+newname, 'wb')\n",
    "    file1.close()\n",
    "    for line in Lines[1:]:\n",
    "        v = line.strip().split()\n",
    "        file2.write(f\"{int(v[1])-1} {int(v[2])-1}\")\n",
    "        file2.write('\\n')\n",
    "    file2.close()\n",
    "    return newname\n"
   ]
  },
  {
   "cell_type": "code",
   "execution_count": 12,
   "metadata": {
    "ExecuteTime": {
     "end_time": "2022-10-19T08:03:54.529034Z",
     "start_time": "2022-10-19T08:02:33.351068Z"
    }
   },
   "outputs": [
    {
     "name": "stderr",
     "output_type": "stream",
     "text": [
      "100% (27 of 27) |########################| Elapsed Time: 0:01:21 Time:  0:01:21\n"
     ]
    }
   ],
   "source": [
    "for file in progressbar.progressbar(Graphs):\n",
    "    Dimacs2Txt(PATH+file, NEW_PATH)"
   ]
  },
  {
   "cell_type": "code",
   "execution_count": null,
   "metadata": {
    "ExecuteTime": {
     "end_time": "2022-10-15T13:01:45.533006Z",
     "start_time": "2022-10-15T13:01:44.911550Z"
    }
   },
   "outputs": [],
   "source": [
    "# los txt de instances son los de prueba para TSS\n",
    "# Los utilizados en el FastCava son de puro entrenamiento"
   ]
  },
  {
   "cell_type": "code",
   "execution_count": 24,
   "metadata": {
    "ExecuteTime": {
     "end_time": "2022-10-15T13:07:58.220279Z",
     "start_time": "2022-10-15T13:07:58.204315Z"
    }
   },
   "outputs": [
    {
     "data": {
      "text/plain": [
       "0.0005"
      ]
     },
     "execution_count": 24,
     "metadata": {},
     "output_type": "execute_result"
    }
   ],
   "source": [
    "5*10**-4"
   ]
  },
  {
   "cell_type": "markdown",
   "metadata": {},
   "source": [
    "### Creando grafos totalmente conectados"
   ]
  },
  {
   "cell_type": "code",
   "execution_count": 136,
   "metadata": {
    "ExecuteTime": {
     "end_time": "2022-10-15T14:39:41.597936Z",
     "start_time": "2022-10-15T14:39:38.699954Z"
    }
   },
   "outputs": [],
   "source": [
    "Cont = 0\n",
    "NumGrafos = 20\n",
    "n = 1000\n",
    "p = 10/n\n",
    "INSTANCES = []\n",
    "\n",
    "while True:\n",
    "    G = nx.erdos_renyi_graph(n, p, directed = False)\n",
    "    AllConected = True if len([i for i in nx.connected_components(G)]) == 1 else False\n",
    "    if AllConected:\n",
    "        INSTANCES.append(G)\n",
    "        Cont += 1\n",
    "    if Cont == NumGrafos:\n",
    "        break\n",
    "        "
   ]
  },
  {
   "cell_type": "markdown",
   "metadata": {},
   "source": [
    "### Salvando los grafos"
   ]
  },
  {
   "cell_type": "code",
   "execution_count": 137,
   "metadata": {
    "ExecuteTime": {
     "end_time": "2022-10-15T14:39:43.797594Z",
     "start_time": "2022-10-15T14:39:43.386513Z"
    }
   },
   "outputs": [],
   "source": [
    "for i in range(len(INSTANCES)):\n",
    "    igraph.Graph().from_networkx(INSTANCES[i]).write_pickle(f\"{PATH_INSTANCES}ER_{i}.pkl\")"
   ]
  },
  {
   "cell_type": "markdown",
   "metadata": {},
   "source": [
    "### Recuperando las instancias guardadas"
   ]
  },
  {
   "cell_type": "code",
   "execution_count": 127,
   "metadata": {
    "ExecuteTime": {
     "end_time": "2022-10-15T14:37:34.656907Z",
     "start_time": "2022-10-15T14:37:34.646746Z"
    }
   },
   "outputs": [],
   "source": [
    "ERInstances = [graph for graph in os.listdir(PATH_INSTANCES)]"
   ]
  },
  {
   "cell_type": "code",
   "execution_count": 142,
   "metadata": {
    "ExecuteTime": {
     "end_time": "2022-10-15T14:42:47.640256Z",
     "start_time": "2022-10-15T14:42:47.350237Z"
    }
   },
   "outputs": [
    {
     "name": "stderr",
     "output_type": "stream",
     "text": [
      "100% (20 of 20) |########################| Elapsed Time: 0:00:00 Time:  0:00:00\n"
     ]
    }
   ],
   "source": [
    "graphs = []\n",
    "dglgraphs = []\n",
    "\n",
    "for er in progressbar.progressbar(ERInstances):\n",
    "    graph = igraph.Graph().Read_Pickle(PATH_INSTANCES+er)\n",
    "    graphs.append(graph)\n",
    "    \n",
    "    dglgraph = get_rev_dgl(graph, FEATURE_TYPE, input_dim, directed_train, use_cuda)\n",
    "    dglgraphs.append(dglgraph)"
   ]
  },
  {
   "cell_type": "code",
   "execution_count": 145,
   "metadata": {
    "ExecuteTime": {
     "end_time": "2022-10-15T14:46:29.284793Z",
     "start_time": "2022-10-15T14:46:29.267608Z"
    }
   },
   "outputs": [
    {
     "data": {
      "text/plain": [
       "['ER_0.pkl',\n",
       " 'ER_1.pkl',\n",
       " 'ER_10.pkl',\n",
       " 'ER_11.pkl',\n",
       " 'ER_12.pkl',\n",
       " 'ER_13.pkl',\n",
       " 'ER_14.pkl',\n",
       " 'ER_15.pkl',\n",
       " 'ER_16.pkl',\n",
       " 'ER_17.pkl',\n",
       " 'ER_18.pkl',\n",
       " 'ER_19.pkl',\n",
       " 'ER_2.pkl',\n",
       " 'ER_3.pkl',\n",
       " 'ER_4.pkl',\n",
       " 'ER_5.pkl',\n",
       " 'ER_6.pkl',\n",
       " 'ER_7.pkl',\n",
       " 'ER_8.pkl',\n",
       " 'ER_9.pkl']"
      ]
     },
     "execution_count": 145,
     "metadata": {},
     "output_type": "execute_result"
    }
   ],
   "source": [
    "ERInstances"
   ]
  },
  {
   "cell_type": "code",
   "execution_count": null,
   "metadata": {},
   "outputs": [],
   "source": []
  },
  {
   "cell_type": "code",
   "execution_count": 146,
   "metadata": {
    "ExecuteTime": {
     "end_time": "2022-10-15T14:55:47.435829Z",
     "start_time": "2022-10-15T14:55:47.423120Z"
    }
   },
   "outputs": [],
   "source": [
    "PATH_TO_TRAIN = \"data/ER_graphs/train/\"\n",
    "PATH_TO_TEST = \"data/ER_graphs/test/\"\n",
    "\n",
    "TRAIN_LIST = [graph for graph in os.listdir(PATH_TO_TRAIN)]"
   ]
  },
  {
   "cell_type": "code",
   "execution_count": 147,
   "metadata": {
    "ExecuteTime": {
     "end_time": "2022-10-15T14:55:49.211603Z",
     "start_time": "2022-10-15T14:55:48.972614Z"
    }
   },
   "outputs": [
    {
     "name": "stdout",
     "output_type": "stream",
     "text": [
      "Cargando data/ER_graphs/train/ER_0.pkl ...\n",
      "Cargando data/ER_graphs/train/ER_1.pkl ...\n",
      "Cargando data/ER_graphs/train/ER_10.pkl ...\n",
      "Cargando data/ER_graphs/train/ER_11.pkl ...\n",
      "Cargando data/ER_graphs/train/ER_12.pkl ...\n",
      "Cargando data/ER_graphs/train/ER_13.pkl ...\n",
      "Cargando data/ER_graphs/train/ER_14.pkl ...\n",
      "Cargando data/ER_graphs/train/ER_2.pkl ...\n",
      "Cargando data/ER_graphs/train/ER_3.pkl ...\n",
      "Cargando data/ER_graphs/train/ER_4.pkl ...\n",
      "Cargando data/ER_graphs/train/ER_5.pkl ...\n",
      "Cargando data/ER_graphs/train/ER_6.pkl ...\n",
      "Cargando data/ER_graphs/train/ER_7.pkl ...\n",
      "Cargando data/ER_graphs/train/ER_8.pkl ...\n",
      "Cargando data/ER_graphs/train/ER_9.pkl ...\n"
     ]
    }
   ],
   "source": [
    "graphs = []\n",
    "dglgraphs = []\n",
    "\n",
    "for file in TRAIN_LIST:\n",
    "    print(f\"Cargando {PATH_TO_TRAIN+file} ...\")\n",
    "    graph = igraph.Graph().Read_Pickle(PATH_TO_TRAIN+file)\n",
    "    graphs.append(graph)\n",
    "    \n",
    "    dglgraph = get_rev_dgl(graph, FEATURE_TYPE, input_dim, directed_train, use_cuda)\n",
    "    dglgraphs.append(dglgraph)"
   ]
  },
  {
   "cell_type": "code",
   "execution_count": 148,
   "metadata": {
    "ExecuteTime": {
     "end_time": "2022-10-15T14:56:01.007266Z",
     "start_time": "2022-10-15T14:56:00.987254Z"
    }
   },
   "outputs": [
    {
     "data": {
      "text/plain": [
       "[<igraph.Graph at 0x14b75ee0310>,\n",
       " <igraph.Graph at 0x14b073317c0>,\n",
       " <igraph.Graph at 0x14b073314f0>,\n",
       " <igraph.Graph at 0x14b07331b80>,\n",
       " <igraph.Graph at 0x14b07331d60>,\n",
       " <igraph.Graph at 0x14b073319a0>,\n",
       " <igraph.Graph at 0x14b073316d0>,\n",
       " <igraph.Graph at 0x14b07331400>,\n",
       " <igraph.Graph at 0x14b06ca49a0>,\n",
       " <igraph.Graph at 0x14b06ca4e50>,\n",
       " <igraph.Graph at 0x14b06ca45e0>,\n",
       " <igraph.Graph at 0x14b757727c0>,\n",
       " <igraph.Graph at 0x14b757729a0>,\n",
       " <igraph.Graph at 0x14b75772b80>,\n",
       " <igraph.Graph at 0x14b757728b0>]"
      ]
     },
     "execution_count": 148,
     "metadata": {},
     "output_type": "execute_result"
    }
   ],
   "source": [
    "graphs"
   ]
  },
  {
   "cell_type": "code",
   "execution_count": null,
   "metadata": {},
   "outputs": [],
   "source": []
  },
  {
   "cell_type": "code",
   "execution_count": 118,
   "metadata": {
    "ExecuteTime": {
     "end_time": "2022-10-15T14:32:27.340716Z",
     "start_time": "2022-10-15T14:32:27.205054Z"
    }
   },
   "outputs": [
    {
     "data": {
      "image/png": "[encoded data removed]",
      "text/plain": [
       "<Figure size 432x288 with 1 Axes>"
      ]
     },
     "metadata": {},
     "output_type": "display_data"
    }
   ],
   "source": [
    "G = nx.erdos_renyi_graph(10, 0.1, directed = False)\n",
    "nx.draw(G)"
   ]
  },
  {
   "cell_type": "code",
   "execution_count": 153,
   "metadata": {
    "ExecuteTime": {
     "end_time": "2022-10-15T15:30:24.827858Z",
     "start_time": "2022-10-15T15:30:24.802410Z"
    }
   },
   "outputs": [],
   "source": []
  },
  {
   "cell_type": "markdown",
   "metadata": {},
   "source": [
    "### Maximum Degree Heuristic"
   ]
  },
  {
   "cell_type": "code",
   "execution_count": 345,
   "metadata": {
    "ExecuteTime": {
     "end_time": "2022-10-15T16:53:47.887816Z",
     "start_time": "2022-10-15T16:53:47.877932Z"
    }
   },
   "outputs": [],
   "source": [
    "theta = 0.1"
   ]
  },
  {
   "cell_type": "code",
   "execution_count": 355,
   "metadata": {
    "ExecuteTime": {
     "end_time": "2022-10-15T16:56:39.014519Z",
     "start_time": "2022-10-15T16:56:38.912261Z"
    }
   },
   "outputs": [
    {
     "data": {
      "image/png": "[encoded data removed]",
      "text/plain": [
       "<Figure size 432x288 with 1 Axes>"
      ]
     },
     "metadata": {},
     "output_type": "display_data"
    }
   ],
   "source": [
    "n = 10\n",
    "while True:\n",
    "    G = nx.erdos_renyi_graph(n, 0.2, directed = False)\n",
    "    AllConected = True if len([i for i in nx.connected_components(G)]) == 1 else False\n",
    "    if AllConected:\n",
    "        break\n",
    "nx.draw(G, with_labels=1)"
   ]
  },
  {
   "cell_type": "code",
   "execution_count": 453,
   "metadata": {
    "ExecuteTime": {
     "end_time": "2022-10-15T17:33:26.494452Z",
     "start_time": "2022-10-15T17:33:25.947144Z"
    }
   },
   "outputs": [
    {
     "data": {
      "text/plain": [
       "16"
      ]
     },
     "execution_count": 453,
     "metadata": {},
     "output_type": "execute_result"
    }
   ],
   "source": [
    "F = MDH(G, 0.2, print_ = False)\n",
    "len(F)"
   ]
  },
  {
   "cell_type": "code",
   "execution_count": 441,
   "metadata": {
    "ExecuteTime": {
     "end_time": "2022-10-15T17:28:33.232924Z",
     "start_time": "2022-10-15T17:28:33.222415Z"
    }
   },
   "outputs": [
    {
     "data": {
      "text/plain": [
       "216"
      ]
     },
     "execution_count": 441,
     "metadata": {},
     "output_type": "execute_result"
    }
   ],
   "source": [
    "len(F)"
   ]
  },
  {
   "cell_type": "code",
   "execution_count": 416,
   "metadata": {
    "ExecuteTime": {
     "end_time": "2022-10-15T17:20:01.793793Z",
     "start_time": "2022-10-15T17:20:01.772195Z"
    }
   },
   "outputs": [],
   "source": [
    "def MDH(G, threshold, print_ =False):\n",
    "    NodesDegree = np.array(nx.degree(G))\n",
    "    Infected = []\n",
    "    Solution = []\n",
    "    while len(NodesDegree) != 0 and len(Infected) != len(G.nodes()):\n",
    "\n",
    "        posMaxDegreeNode = np.argmax(NodesDegree.T[1])\n",
    "        MaxDegreeNode = NodesDegree[posMaxDegreeNode][0]\n",
    "\n",
    "        NodesDegree = np.delete(NodesDegree, posMaxDegreeNode, axis=0)\n",
    "\n",
    "        Solution.append(MaxDegreeNode)\n",
    "        Infected.append(MaxDegreeNode)\n",
    "\n",
    "        InfectedTemp = []\n",
    "        while len(InfectedTemp) != len(Infected):\n",
    "            InfectedTemp = Infected.copy()\n",
    "            for Inf in InfectedTemp:\n",
    "                for neighborL1 in nx.neighbors(G, Inf):\n",
    "\n",
    "                    if neighborL1 in Infected:\n",
    "                        continue\n",
    "\n",
    "                    TotalNeighbors = [v for v in nx.neighbors(G, neighborL1)]\n",
    "                    NeighborsInfedted = [v for v in TotalNeighbors if v in Infected]\n",
    "\n",
    "                    ratio = len(NeighborsInfedted)/len(TotalNeighbors)\n",
    "                    if ratio > threshold:\n",
    "                        Infected.append(neighborL1)\n",
    "                        NodesDegree = np.delete(NodesDegree, np.where(NodesDegree.T[0] == neighborL1)[0], axis = 0)\n",
    "        if print_:\n",
    "            print(f\"{len(Infected)/len(G.nodes()):.3f} infectado\")\n",
    "    return Solution"
   ]
  },
  {
   "cell_type": "markdown",
   "metadata": {},
   "source": [
    "### Revisar si un conjunto de nodos infecta toda la red"
   ]
  },
  {
   "cell_type": "code",
   "execution_count": 59,
   "metadata": {
    "ExecuteTime": {
     "end_time": "2022-10-19T08:23:45.127972Z",
     "start_time": "2022-10-19T08:23:45.110428Z"
    }
   },
   "outputs": [],
   "source": [
    "def CheckInfect(G, Infected, threshold):\n",
    "    \"\"\"\n",
    "    Recibe Una red G, conjunto de nodos infectados y el umbral\n",
    "    Propaga la infección en la red todo lo que puede\n",
    "    Regresa verdadero si se ha infectado toda la red o\n",
    "    falso en lo contrario\n",
    "    \"\"\"\n",
    "    InfectedTemp = []\n",
    "    while len(InfectedTemp) != len(Infected):\n",
    "        InfectedTemp = Infected.copy()\n",
    "        for Inf in InfectedTemp:\n",
    "            for neighborL1 in nx.neighbors(G, Inf):\n",
    "\n",
    "                if neighborL1 in Infected:\n",
    "                    continue\n",
    "\n",
    "                TotalNeighbors = [v for v in nx.neighbors(G, neighborL1)]\n",
    "                NeighborsInfedted = [v for v in TotalNeighbors if v in Infected]\n",
    "\n",
    "                ratio = len(NeighborsInfedted)/len(TotalNeighbors)\n",
    "                if ratio > threshold:\n",
    "                    Infected.append(neighborL1)\n",
    "    return len(Infected) == len(G.nodes()), len(Infected)/len(G.nodes())"
   ]
  },
  {
   "cell_type": "code",
   "execution_count": 381,
   "metadata": {
    "ExecuteTime": {
     "end_time": "2022-10-15T17:02:39.647068Z",
     "start_time": "2022-10-15T17:02:39.634699Z"
    }
   },
   "outputs": [
    {
     "data": {
      "text/plain": [
       "(False, 0.4)"
      ]
     },
     "execution_count": 381,
     "metadata": {},
     "output_type": "execute_result"
    }
   ],
   "source": [
    "CheckInfect(G, [1,5,2], 0.7)"
   ]
  },
  {
   "cell_type": "markdown",
   "metadata": {
    "ExecuteTime": {
     "end_time": "2022-10-15T17:03:29.385258Z",
     "start_time": "2022-10-15T17:03:29.378377Z"
    }
   },
   "source": [
    "## Cargando la red entrenada"
   ]
  },
  {
   "cell_type": "code",
   "execution_count": 55,
   "metadata": {
    "ExecuteTime": {
     "end_time": "2022-10-19T08:21:52.100033Z",
     "start_time": "2022-10-19T08:21:52.066783Z"
    }
   },
   "outputs": [],
   "source": [
    "import torch\n",
    "import torch.nn as nn\n",
    "import torch.nn.functional as F\n",
    "from dgl.nn.pytorch.softmax import edge_softmax\n",
    "# Guanhao's GRAT\n",
    "class GRATLayer(nn.Module):\n",
    "    def __init__(self, in_feats, out_feats):\n",
    "        # TODO: why not another linear layer before entering the net\n",
    "        super(GRATLayer, self).__init__()\n",
    "        # linear layer\n",
    "        self.fc = nn.Linear(in_feats, out_feats, bias=True)  # bias=True in Guanhao's original code\n",
    "        \n",
    "        # attention layer\n",
    "        self.attn_fc = nn.Linear(2 * in_feats, 1, bias=True)  # bias=True in Guanhao's original code\n",
    "\n",
    "        # initialize parameters\n",
    "        # self.reset_parameters()\n",
    "\n",
    "    def reset_parameters(self):\n",
    "        gain = nn.init.calculate_gain('relu')\n",
    "        nn.init.xavier_normal_(self.fc.weight, gain=gain)\n",
    "        nn.init.xavier_normal_(self.attn_fc.weight, gain=gain)\n",
    "\n",
    "    def edge_attention(self, edges):\n",
    "        h2 = torch.cat([edges.src['h'], edges.dst['h']], dim=1)\n",
    "        a = self.attn_fc(h2)\n",
    "        return {'e': torch.relu(a)}\n",
    "\n",
    "    def message_func(self, edges):\n",
    "        return {'h': edges.src['h'] * edges.data['alpha']}  # message divided by weight\n",
    "\n",
    "    def reduce_func(self, nodes):\n",
    "        return {'h': torch.sum(nodes.mailbox['h'], dim=1)}\n",
    "\n",
    "    def forward(self, g, feature):\n",
    "        with g.local_scope():\n",
    "            g.ndata['h'] = feature\n",
    "            # Equation (2)\n",
    "            g.apply_edges(self.edge_attention)  # calculate e_{ij}\n",
    "\n",
    "            # Calculate softmax on source code -> on the reversed graph\n",
    "            rg = g.reverse(copy_ndata=False, copy_edata=True)\n",
    "            g.edata['alpha'] = edge_softmax(rg, rg.edata['e'])\n",
    "            \n",
    "            # Convolution\n",
    "            g.update_all(self.message_func, self.reduce_func)\n",
    "            \n",
    "            g.ndata['h'] = self.fc(g.ndata['h'])\n",
    "            h = g.ndata['h']\n",
    "            return h\n",
    "\n",
    "import torch.nn as nn\n",
    "\n",
    "\n",
    "class GRAT3_(nn.Module):\n",
    "    def __init__(self, in_feats, hidden_feats1, hidden_feats2, out_feats, *args):\n",
    "        super(GRAT3_, self).__init__()\n",
    "        self.grat1 = GRATLayer(in_feats, hidden_feats1)\n",
    "        self.grat2 = GRATLayer(hidden_feats1, hidden_feats2)\n",
    "        self.grat3 = GRATLayer(hidden_feats2, out_feats)\n",
    "\n",
    "    def forward(self, g, feature):\n",
    "        h = torch.relu(self.grat1(g, feature))\n",
    "        h = torch.relu(self.grat2(g, h))\n",
    "        h = self.grat3(g, h)\n",
    "        return h\n",
    "\n",
    "\n",
    "class GRAT3(nn.Module):\n",
    "    def __init__(self, in_feats, hidden_feats1, hidden_feats2, *args):\n",
    "        super(GRAT3, self).__init__()\n",
    "        self.grat = GRAT3_(in_feats, hidden_feats1, hidden_feats2, 1, *args)  # out_feats=1\n",
    "\n",
    "    def forward(self, g, feature):\n",
    "        h = self.grat(g, feature)\n",
    "        h = torch.sigmoid(h)\n",
    "        return h"
   ]
  },
  {
   "cell_type": "code",
   "execution_count": 57,
   "metadata": {
    "ExecuteTime": {
     "end_time": "2022-10-19T08:22:27.859772Z",
     "start_time": "2022-10-19T08:22:27.836814Z"
    }
   },
   "outputs": [
    {
     "name": "stdout",
     "output_type": "stream",
     "text": [
      "['GRAT_seed_13_10-15_17-40.pt']\n"
     ]
    }
   ],
   "source": [
    "PATH_SAVE_TRAINS = \"runs/\"\n",
    "RUNS_LIST = [run for run in os.listdir(PATH_SAVE_TRAINS) if \".pt\" in run]\n",
    "print(RUNS_LIST)\n",
    "\n",
    "PATH_TO_TEST = \"data/ER_graphs/test/\"\n",
    "TEST_LIST = [graph for graph in os.listdir(PATH_TO_TEST)]"
   ]
  },
  {
   "cell_type": "code",
   "execution_count": 53,
   "metadata": {
    "ExecuteTime": {
     "end_time": "2022-10-19T08:21:33.537990Z",
     "start_time": "2022-10-19T08:21:33.517967Z"
    }
   },
   "outputs": [
    {
     "ename": "NameError",
     "evalue": "name 'GRAT3' is not defined",
     "output_type": "error",
     "traceback": [
      "\u001b[1;31m---------------------------------------------------------------------------\u001b[0m",
      "\u001b[1;31mNameError\u001b[0m                                 Traceback (most recent call last)",
      "\u001b[1;32m<ipython-input-53-a0d8b4c72577>\u001b[0m in \u001b[0;36m<module>\u001b[1;34m\u001b[0m\n\u001b[1;32m----> 1\u001b[1;33m \u001b[0mnet\u001b[0m \u001b[1;33m=\u001b[0m \u001b[0mGRAT3\u001b[0m\u001b[1;33m(\u001b[0m\u001b[1;33m*\u001b[0m\u001b[0mHIDDEN_FEATS\u001b[0m\u001b[1;33m)\u001b[0m\u001b[1;33m\u001b[0m\u001b[1;33m\u001b[0m\u001b[0m\n\u001b[0m\u001b[0;32m      2\u001b[0m \u001b[0mnet\u001b[0m\u001b[1;33m.\u001b[0m\u001b[0mload_state_dict\u001b[0m\u001b[1;33m(\u001b[0m\u001b[0mtorch\u001b[0m\u001b[1;33m.\u001b[0m\u001b[0mload\u001b[0m\u001b[1;33m(\u001b[0m\u001b[0mPATH_SAVE_TRAINS\u001b[0m\u001b[1;33m+\u001b[0m\u001b[1;34m'GRAT_seed_13_10-15_17-40.pt'\u001b[0m\u001b[1;33m)\u001b[0m\u001b[1;33m)\u001b[0m\u001b[1;33m\u001b[0m\u001b[1;33m\u001b[0m\u001b[0m\n\u001b[0;32m      3\u001b[0m \u001b[1;32mif\u001b[0m \u001b[0muse_cuda\u001b[0m\u001b[1;33m:\u001b[0m\u001b[1;33m\u001b[0m\u001b[1;33m\u001b[0m\u001b[0m\n\u001b[0;32m      4\u001b[0m     \u001b[0mnet\u001b[0m\u001b[1;33m.\u001b[0m\u001b[0mcuda\u001b[0m\u001b[1;33m(\u001b[0m\u001b[1;33m)\u001b[0m\u001b[1;33m\u001b[0m\u001b[1;33m\u001b[0m\u001b[0m\n",
      "\u001b[1;31mNameError\u001b[0m: name 'GRAT3' is not defined"
     ]
    }
   ],
   "source": [
    "net = GRAT3(*HIDDEN_FEATS)\n",
    "net.load_state_dict(torch.load(PATH_SAVE_TRAINS+'GRAT_seed_13_10-15_17-40.pt'))\n",
    "if use_cuda:\n",
    "    net.cuda()"
   ]
  },
  {
   "cell_type": "code",
   "execution_count": 400,
   "metadata": {
    "ExecuteTime": {
     "end_time": "2022-10-15T17:16:24.034316Z",
     "start_time": "2022-10-15T17:16:23.972797Z"
    }
   },
   "outputs": [
    {
     "name": "stdout",
     "output_type": "stream",
     "text": [
      "Cargando data/ER_graphs/test/ER_15.pkl ...\n",
      "Cargando data/ER_graphs/test/ER_16.pkl ...\n",
      "Cargando data/ER_graphs/test/ER_17.pkl ...\n",
      "Cargando data/ER_graphs/test/ER_18.pkl ...\n",
      "Cargando data/ER_graphs/test/ER_19.pkl ...\n"
     ]
    }
   ],
   "source": [
    "graphs = []\n",
    "dglgraphs = []\n",
    "\n",
    "for file in TEST_LIST:\n",
    "    print(f\"Cargando {PATH_TO_TEST+file} ...\")\n",
    "    graph = igraph.Graph().Read_Pickle(PATH_TO_TEST+file)\n",
    "    graphs.append(graph)\n",
    "    \n",
    "    dglgraph = get_rev_dgl(graph, FEATURE_TYPE, input_dim, directed_train, use_cuda)\n",
    "    dglgraphs.append(dglgraph)"
   ]
  },
  {
   "cell_type": "code",
   "execution_count": 401,
   "metadata": {
    "ExecuteTime": {
     "end_time": "2022-10-15T17:16:31.916620Z",
     "start_time": "2022-10-15T17:16:31.772082Z"
    }
   },
   "outputs": [],
   "source": [
    "out = net.grat(dglgraph, dglgraph.ndata['feat']).squeeze(1)"
   ]
  },
  {
   "cell_type": "code",
   "execution_count": 495,
   "metadata": {
    "ExecuteTime": {
     "end_time": "2022-10-15T17:59:01.831422Z",
     "start_time": "2022-10-15T17:58:38.639797Z"
    }
   },
   "outputs": [
    {
     "name": "stderr",
     "output_type": "stream",
     "text": [
      " 80% (8 of 10) |####################     | Elapsed Time: 0:00:18 ETA:   0:00:07"
     ]
    },
    {
     "name": "stdout",
     "output_type": "stream",
     "text": [
      "El mejor es 243\n"
     ]
    }
   ],
   "source": [
    "#for k in range(len(dglgraph.num_nodes())):\n",
    "G = graph.to_networkx()\n",
    "threshold = 0.5\n",
    "kMax = int(len(G.nodes()) * threshold)\n",
    "kMin = 0\n",
    "j = []\n",
    "for _ in progressbar.progressbar(range(10)):\n",
    "    _, Infected = torch.topk(out, kMax)\n",
    "    \n",
    "    Inf = CheckInfect(G, list(Infected.numpy()), threshold)\n",
    "    \n",
    "    if Inf[0]:\n",
    "        kMax = kMax - (kMax - kMin)//2\n",
    "    else:\n",
    "        t = kMax\n",
    "        kMax = kMax + (kMax - kMin)//2\n",
    "        kMin = t\n",
    "    if (kMax - kMin) == 1:\n",
    "        break\n",
    "        \n",
    "print(f\"El mejor es {kMax}\")"
   ]
  },
  {
   "cell_type": "code",
   "execution_count": 494,
   "metadata": {
    "ExecuteTime": {
     "end_time": "2022-10-15T17:57:42.989011Z",
     "start_time": "2022-10-15T17:57:39.280315Z"
    }
   },
   "outputs": [
    {
     "data": {
      "text/plain": [
       "(True, 1.0)"
      ]
     },
     "execution_count": 494,
     "metadata": {},
     "output_type": "execute_result"
    }
   ],
   "source": [
    "_, Infected = torch.topk(out, 243)\n",
    "CheckInfect(G, list(Infected.numpy()), threshold)"
   ]
  },
  {
   "cell_type": "code",
   "execution_count": null,
   "metadata": {
    "ExecuteTime": {
     "end_time": "2022-10-15T17:21:43.659765Z",
     "start_time": "2022-10-15T17:21:42.534870Z"
    }
   },
   "outputs": [],
   "source": [
    "records = []\n",
    "repeat = 3\n",
    "ts = np.zeros(repeat)\n",
    "for i in range(repeat):\n",
    "    # Select seeds\n",
    "    t_start = time.time()\n",
    "    ## =================================================================================================\n",
    "    # Este es el output de la red, en donde se tienen las probabilidades de que cada nodo sea parte de la\n",
    "    # solución final\n",
    "    ## =================================================================================================\n",
    "    out = net.grat(dglgraph, dglgraph.ndata['feat']).squeeze(1)#!!!!!!!!!!!!!!\n",
    "    ## =================================================================================================\n",
    "    # Esta función regresas el k nodos con la máxima influencia\n",
    "    _, nn_seeds = torch.topk(out, k)\n",
    "    ## =================================================================================================\n",
    "    ts[i] = (time.time() - t_start)\n",
    "\n",
    "# Evaluate time\n",
    "t_mean = ts.mean() \n",
    "t_std = ts.std() / np.sqrt(repeat)\n",
    "\n",
    "## =================================================================================================\n",
    "# Nodos cubiertos del total, para nosotros d = 1 ya que solo se puede llegar al siguiente\n",
    "# baselines.heuristics.py -> get_influence_d\n",
    "# \n",
    "## =================================================================================================\n",
    "n_covered = get_influence(graph, nn_seeds)\n",
    "n, m = graph.vcount(), graph.ecount()\n",
    "## =================================================================================================\n",
    "print(f\"k: {k}. Coverage: {n_covered}/{n}={n_covered/n:.2f}. Time: {t_mean:.2f} ({t_std:.2f})\")\n",
    "model_name = \"GRAT3\"\n",
    "# Write to records\n",
    "records.append({\n",
    "    \"graph\": graph_name,\n",
    "    \"model\": model_name,\n",
    "    \"seed\": seed,\n",
    "    \"n\": n,\n",
    "    \"m\": m,\n",
    "    \"d\": d,\n",
    "    \"k\": k,\n",
    "    \"n_covered\": n_covered,\n",
    "    \"coverage\": n_covered/n,\n",
    "    \"t_mean\": t_mean,\n",
    "    \"t_std\": t_std,\n",
    "})"
   ]
  },
  {
   "cell_type": "code",
   "execution_count": 421,
   "metadata": {
    "ExecuteTime": {
     "end_time": "2022-10-15T17:22:59.342237Z",
     "start_time": "2022-10-15T17:22:59.315165Z"
    }
   },
   "outputs": [
    {
     "data": {
      "text/plain": [
       "<networkx.classes.graph.Graph at 0x14b007a47f0>"
      ]
     },
     "execution_count": 421,
     "metadata": {},
     "output_type": "execute_result"
    }
   ],
   "source": []
  },
  {
   "cell_type": "markdown",
   "metadata": {},
   "source": [
    "## Métrica rápida sobre el dataset del TSS"
   ]
  },
  {
   "cell_type": "code",
   "execution_count": 44,
   "metadata": {
    "ExecuteTime": {
     "end_time": "2022-10-19T08:18:46.088329Z",
     "start_time": "2022-10-19T08:18:46.081499Z"
    }
   },
   "outputs": [],
   "source": [
    "PATH_TO_TEST = \"../BRKGA/instances/txt/\""
   ]
  },
  {
   "cell_type": "code",
   "execution_count": 45,
   "metadata": {
    "ExecuteTime": {
     "end_time": "2022-10-19T08:18:52.667890Z",
     "start_time": "2022-10-19T08:18:52.645298Z"
    }
   },
   "outputs": [
    {
     "data": {
      "text/plain": [
       "['Amazon0302.txt',\n",
       " 'Amazon0312.txt',\n",
       " 'Amazon0505.txt',\n",
       " 'Amazon0601.txt',\n",
       " 'com-dblp.ungraph.txt',\n",
       " 'com-youtube.ungraph.txt',\n",
       " 'deezer_HR.txt',\n",
       " 'ego-facebook.txt',\n",
       " 'gemsec_facebook_artist.txt',\n",
       " 'graph_actors_dat.txt',\n",
       " 'graph_CA-AstroPh.txt',\n",
       " 'graph_CA-CondMat.txt',\n",
       " 'graph_CA-GrQc.txt',\n",
       " 'graph_CA-HepPh.txt',\n",
       " 'graph_CA-HepTh.txt',\n",
       " 'graph_dolphins.txt',\n",
       " 'graph_Email-Enron.txt',\n",
       " 'graph_football.txt',\n",
       " 'graph_jazz.txt',\n",
       " 'graph_karate.txt',\n",
       " 'graph_ncstrlwg2.txt',\n",
       " 'loc-gowalla_edges.txt',\n",
       " 'musae_git.txt',\n",
       " 'soc-gplus.txt',\n",
       " 'socfb-Brandeis99.txt',\n",
       " 'socfb-Mich67.txt',\n",
       " 'socfb-nips-ego.txt']"
      ]
     },
     "execution_count": 45,
     "metadata": {},
     "output_type": "execute_result"
    }
   ],
   "source": [
    "Graphs = [graph for graph in os.listdir(PATH_TO_TEST)]\n",
    "Graphs"
   ]
  },
  {
   "cell_type": "code",
   "execution_count": 52,
   "metadata": {
    "ExecuteTime": {
     "end_time": "2022-10-19T08:21:12.322842Z",
     "start_time": "2022-10-19T08:20:51.228281Z"
    }
   },
   "outputs": [
    {
     "name": "stdout",
     "output_type": "stream",
     "text": [
      "Cargando ../BRKGA/instances/txt/Amazon0302.txt ...\n",
      "Cargando ../BRKGA/instances/txt/Amazon0312.txt ...\n",
      "Cargando ../BRKGA/instances/txt/Amazon0505.txt ...\n",
      "Cargando ../BRKGA/instances/txt/Amazon0601.txt ...\n",
      "Cargando ../BRKGA/instances/txt/com-dblp.ungraph.txt ...\n"
     ]
    }
   ],
   "source": [
    "graphs = []\n",
    "dglgraphs = []\n",
    "\n",
    "for file in Graphs[:5]:\n",
    "    #try:\n",
    "        print(f\"Cargando {PATH_TO_TEST+file} ...\")\n",
    "        #g = Dimacs2Txt(PATH_TO_TEST+file, NEW_PATH)\n",
    "        #print(PATH_TO_TEST+g)\n",
    "        #graph = igraph.Graph().Read_Edgelist(\n",
    "        #Dimacs2Txt(f\"{PATH_TO_TEST}{file}\"), directed=False)\n",
    "        \n",
    "        graph = igraph.Graph().Read_Edgelist(\"../BRKGA/instances/txt/\"+file)\n",
    "        #graphs.append(graph)\n",
    "\n",
    "        dglgraph = get_rev_dgl(graph, FEATURE_TYPE, input_dim, directed_train, use_cuda)\n",
    "        dglgraphs.append(dglgraph)\n",
    "    #except:\n",
    "        #print(\"No se pudo\")"
   ]
  },
  {
   "cell_type": "code",
   "execution_count": 20,
   "metadata": {
    "ExecuteTime": {
     "end_time": "2022-10-19T08:05:31.971586Z",
     "start_time": "2022-10-19T08:05:31.957950Z"
    }
   },
   "outputs": [
    {
     "data": {
      "text/plain": [
       "'Amazon0302.txt'"
      ]
     },
     "execution_count": 20,
     "metadata": {},
     "output_type": "execute_result"
    }
   ],
   "source": [
    "Dimacs2Txt(PATH_TO_TEST+file, NEW_PATH)"
   ]
  },
  {
   "cell_type": "code",
   "execution_count": 58,
   "metadata": {
    "ExecuteTime": {
     "end_time": "2022-10-19T08:22:37.880336Z",
     "start_time": "2022-10-19T08:22:37.822970Z"
    }
   },
   "outputs": [],
   "source": [
    "net = GRAT3(*HIDDEN_FEATS)\n",
    "net.load_state_dict(torch.load(PATH_SAVE_TRAINS+'GRAT_seed_13_10-15_17-40.pt'))\n",
    "if use_cuda:\n",
    "    net.cuda()"
   ]
  },
  {
   "cell_type": "code",
   "execution_count": 60,
   "metadata": {
    "ExecuteTime": {
     "end_time": "2022-10-19T08:24:15.932157Z",
     "start_time": "2022-10-19T08:24:05.554201Z"
    }
   },
   "outputs": [],
   "source": [
    "out = net.grat(dglgraph, dglgraph.ndata['feat']).squeeze(1)"
   ]
  },
  {
   "cell_type": "code",
   "execution_count": 61,
   "metadata": {
    "ExecuteTime": {
     "end_time": "2022-10-19T08:24:26.723149Z",
     "start_time": "2022-10-19T08:24:26.704859Z"
    }
   },
   "outputs": [],
   "source": [
    "def FindMinimumTarget(graph, out):\n",
    "#for k in range(len(dglgraph.num_nodes())):\n",
    "    G = graph.to_networkx()\n",
    "    threshold = 0.5\n",
    "    kMax = int(len(G.nodes()) * threshold)\n",
    "    kMin = 0\n",
    "    j = []\n",
    "    for _ in progressbar.progressbar(range(10)):\n",
    "        _, Infected = torch.topk(out, kMax)\n",
    "\n",
    "        Inf = CheckInfect(G, list(Infected.numpy()), threshold)\n",
    "\n",
    "        if Inf[0]:\n",
    "            kMax = kMax - (kMax - kMin)//2\n",
    "        else:\n",
    "            t = kMax\n",
    "            kMax = kMax + (kMax - kMin)//2\n",
    "            kMin = t\n",
    "        if (kMax - kMin) == 1:\n",
    "            break\n",
    "\n",
    "    print(f\"El mejor es {kMax}\")\n",
    "    return kMax"
   ]
  },
  {
   "cell_type": "code",
   "execution_count": null,
   "metadata": {
    "ExecuteTime": {
     "start_time": "2022-10-19T08:25:21.903Z"
    }
   },
   "outputs": [],
   "source": [
    "FindMinimumTarget(graph, out)"
   ]
  }
 ],
 "metadata": {
  "hide_input": false,
  "kernelspec": {
   "display_name": "Python 3",
   "language": "python",
   "name": "python3"
  },
  "language_info": {
   "codemirror_mode": {
    "name": "ipython",
    "version": 3
   },
   "file_extension": ".py",
   "mimetype": "text/x-python",
   "name": "python",
   "nbconvert_exporter": "python",
   "pygments_lexer": "ipython3",
   "version": "3.8.5"
  },
  "varInspector": {
   "cols": {
    "lenName": 16,
    "lenType": 16,
    "lenVar": 40
   },
   "kernels_config": {
    "python": {
     "delete_cmd_postfix": "",
     "delete_cmd_prefix": "del ",
     "library": "var_list.py",
     "varRefreshCmd": "print(var_dic_list())"
    },
    "r": {
     "delete_cmd_postfix": ") ",
     "delete_cmd_prefix": "rm(",
     "library": "var_list.r",
     "varRefreshCmd": "cat(var_dic_list()) "
    }
   },
   "types_to_exclude": [
    "module",
    "function",
    "builtin_function_or_method",
    "instance",
    "_Feature"
   ],
   "window_display": false
  }
 },
 "nbformat": 4,
 "nbformat_minor": 4
}
