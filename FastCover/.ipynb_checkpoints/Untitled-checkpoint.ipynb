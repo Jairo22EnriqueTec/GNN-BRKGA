{
 "cells": [
  {
   "cell_type": "markdown",
   "metadata": {},
   "source": [
    "## Cargando los grafos de prueba"
   ]
  },
  {
   "cell_type": "code",
   "execution_count": 5,
   "metadata": {
    "ExecuteTime": {
     "end_time": "2022-10-15T12:57:38.417887Z",
     "start_time": "2022-10-15T12:57:35.188527Z"
    }
   },
   "outputs": [],
   "source": [
    "import igraph\n",
    "import dgl\n",
    "import torch\n",
    "import heapq\n",
    "import time\n",
    "import progressbar\n",
    "import pickle\n",
    "import matplotlib.pyplot as plt\n",
    "import os"
   ]
  },
  {
   "cell_type": "code",
   "execution_count": 6,
   "metadata": {
    "ExecuteTime": {
     "end_time": "2022-10-15T12:57:42.063753Z",
     "start_time": "2022-10-15T12:57:42.056393Z"
    }
   },
   "outputs": [],
   "source": [
    "PATH = \"data/\"\n",
    "FEATURE_TYPE = \"1\"\n",
    "input_dim = 32\n",
    "directed_train = False"
   ]
  },
  {
   "cell_type": "markdown",
   "metadata": {},
   "source": [
    "### Funciones"
   ]
  },
  {
   "cell_type": "code",
   "execution_count": 8,
   "metadata": {
    "ExecuteTime": {
     "end_time": "2022-10-15T12:57:54.182109Z",
     "start_time": "2022-10-15T12:57:54.168048Z"
    }
   },
   "outputs": [],
   "source": [
    "def get_rev_dgl(graph, feature_type='0', feature_dim=None, is_directed=False, use_cuda=False):\n",
    "    \"\"\"get dgl graph from igraph\n",
    "    \"\"\"\n",
    "    \n",
    "    src, dst = zip(*graph.get_edgelist())\n",
    "\n",
    "    if use_cuda:\n",
    "        dglgraph = dgl.graph((dst, src)).to(torch.device(\"cuda:0\"))\n",
    "    else:\n",
    "        dglgraph = dgl.graph((dst, src))\n",
    "        \n",
    "    if not is_directed:\n",
    "        dglgraph.add_edges(src, dst)\n",
    "\n",
    "    if use_cuda:\n",
    "        dglgraph.ndata['feat'] = FEATURE_TYPE_DICT[feature_type](graph, feature_dim).cuda()\n",
    "        dglgraph.ndata['degree'] = torch.tensor(graph.degree()).float().cuda()\n",
    "\n",
    "    else:\n",
    "        dglgraph.ndata['feat'] = FEATURE_TYPE_DICT[feature_type](graph, feature_dim)\n",
    "        dglgraph.ndata['degree'] = torch.tensor(graph.degree()).float()\n",
    "        \n",
    "    return dglgraph\n",
    "\n",
    "def gen_one_feature(graph, feature_dim):\n",
    "    \"\"\"Generate all-one features\n",
    "    \"\"\"\n",
    "    return torch.ones(graph.vcount(), feature_dim)\n",
    "\n",
    "\n",
    "FEATURE_TYPE_DICT = {\n",
    "    \"1\": gen_one_feature,\n",
    "}"
   ]
  },
  {
   "cell_type": "code",
   "execution_count": 9,
   "metadata": {
    "ExecuteTime": {
     "end_time": "2022-10-15T12:58:09.387946Z",
     "start_time": "2022-10-15T12:57:55.048571Z"
    }
   },
   "outputs": [
    {
     "name": "stderr",
     "output_type": "stream",
     "text": [
      "100% (29 of 29) |########################| Elapsed Time: 0:00:14 Time:  0:00:14\n"
     ]
    },
    {
     "name": "stdout",
     "output_type": "stream",
     "text": [
      "MEAN NODES: 44170.41\n",
      "STD:67189.83\n",
      "MAX: 317080.00\n",
      "MIN: 620.00\n"
     ]
    }
   ],
   "source": [
    "Graphs = [graph for graph in os.listdir(PATH) if \".txt\" in graph]\n",
    "#\"\"\"\n",
    "MeanNodes = []\n",
    "\n",
    "N = len(Graphs)\n",
    "\n",
    "for file in progressbar.progressbar(Graphs):\n",
    "    graph = igraph.Graph().Read_Edgelist(\n",
    "        f\"{PATH}{file}\", directed=False)\n",
    "\n",
    "    dglgraph = get_rev_dgl(graph, FEATURE_TYPE, input_dim, directed_train, use_cuda = False)\n",
    "    \n",
    "    MeanNodes.append(dglgraph.num_nodes())\n",
    "#\"\"\"\n",
    "print(f\"MEAN NODES: {np.mean(MeanNodes):.2f}\\nSTD:{np.std(MeanNodes):.2f}\\nMAX: {np.max(MeanNodes):.2f}\\nMIN: {np.min(MeanNodes):.2f}\")"
   ]
  },
  {
   "cell_type": "code",
   "execution_count": 38,
   "metadata": {
    "ExecuteTime": {
     "end_time": "2022-10-15T10:37:42.313197Z",
     "start_time": "2022-10-15T10:37:42.176318Z"
    }
   },
   "outputs": [
    {
     "data": {
      "text/plain": [
       "(array([7., 3., 4., 1., 2., 3., 1., 2., 1., 2.]),\n",
       " array([  620. ,  6931.1, 13242.2, 19553.3, 25864.4, 32175.5, 38486.6,\n",
       "        44797.7, 51108.8, 57419.9, 63731. ]),\n",
       " <BarContainer object of 10 artists>)"
      ]
     },
     "execution_count": 38,
     "metadata": {},
     "output_type": "execute_result"
    },
    {
     "data": {
      "image/png": "[encoded data removed]",
      "text/plain": [
       "<Figure size 432x288 with 1 Axes>"
      ]
     },
     "metadata": {
      "needs_background": "light"
     },
     "output_type": "display_data"
    }
   ],
   "source": [
    "MeanNodes = np.array(MeanNodes)\n",
    "plt.hist(MeanNodes[MeanNodes < 100_000], bins = 10)"
   ]
  },
  {
   "cell_type": "markdown",
   "metadata": {},
   "source": [
    "## Convirtiendo dimacs a txt"
   ]
  },
  {
   "cell_type": "code",
   "execution_count": 10,
   "metadata": {
    "ExecuteTime": {
     "end_time": "2022-10-15T12:58:20.312309Z",
     "start_time": "2022-10-15T12:58:20.298256Z"
    }
   },
   "outputs": [],
   "source": [
    "PATH = \"../BRKGA/instances/dimacs/\"\n",
    "NEW_PATH = \"../BRKGA/instances/txt/\""
   ]
  },
  {
   "cell_type": "code",
   "execution_count": 11,
   "metadata": {
    "ExecuteTime": {
     "end_time": "2022-10-15T12:58:31.563342Z",
     "start_time": "2022-10-15T12:58:31.551876Z"
    }
   },
   "outputs": [],
   "source": [
    "Graphs = [graph for graph in os.listdir(PATH)]"
   ]
  },
  {
   "cell_type": "code",
   "execution_count": 15,
   "metadata": {
    "ExecuteTime": {
     "end_time": "2022-10-15T13:00:04.191700Z",
     "start_time": "2022-10-15T13:00:04.176630Z"
    }
   },
   "outputs": [
    {
     "data": {
      "text/plain": [
       "['Amazon0302.dimacs',\n",
       " 'Amazon0312.dimacs',\n",
       " 'Amazon0505.dimacs',\n",
       " 'Amazon0601.dimacs',\n",
       " 'com-dblp.ungraph.dimacs',\n",
       " 'com-youtube.ungraph.dimacs',\n",
       " 'deezer_HR.dimacs',\n",
       " 'ego-facebook.dimacs',\n",
       " 'gemsec_facebook_artist.dimacs',\n",
       " 'graph_actors_dat.dimacs',\n",
       " 'graph_CA-AstroPh.dimacs',\n",
       " 'graph_CA-CondMat.dimacs',\n",
       " 'graph_CA-GrQc.dimacs',\n",
       " 'graph_CA-HepPh.dimacs',\n",
       " 'graph_CA-HepTh.dimacs',\n",
       " 'graph_dolphins.dimacs',\n",
       " 'graph_Email-Enron.dimacs',\n",
       " 'graph_football.dimacs',\n",
       " 'graph_jazz.dimacs',\n",
       " 'graph_karate.dimacs',\n",
       " 'graph_ncstrlwg2.dimacs',\n",
       " 'loc-gowalla_edges.dimacs',\n",
       " 'musae_git.dimacs',\n",
       " 'soc-gplus.dimacs',\n",
       " 'socfb-Brandeis99.dimacs',\n",
       " 'socfb-Mich67.dimacs',\n",
       " 'socfb-nips-ego.dimacs']"
      ]
     },
     "execution_count": 15,
     "metadata": {},
     "output_type": "execute_result"
    }
   ],
   "source": [
    "Graphs"
   ]
  },
  {
   "cell_type": "code",
   "execution_count": 21,
   "metadata": {
    "ExecuteTime": {
     "end_time": "2022-10-15T13:01:28.154941Z",
     "start_time": "2022-10-15T13:01:28.144867Z"
    }
   },
   "outputs": [],
   "source": [
    "def Dimacs2Txt(ruta, nuevaruta):\n",
    "    file1 = open(ruta, 'r')\n",
    "    Lines = file1.readlines()\n",
    "    newname = \".\".join((PATH+file).split(\"/\")[-1].split(\".\")[:-1])+\".txt\"\n",
    "    file2 = open(nuevaruta+newname, 'w')\n",
    "    file1.close()\n",
    "    for line in Lines[1:]:\n",
    "        v = line.strip().split()\n",
    "        file2.write(f\"{int(v[1])-1} {int(v[2])-1}\")\n",
    "        file2.write('\\n')\n",
    "    file2.close()\n",
    "    return newname\n"
   ]
  },
  {
   "cell_type": "code",
   "execution_count": 23,
   "metadata": {
    "ExecuteTime": {
     "end_time": "2022-10-15T13:03:42.003796Z",
     "start_time": "2022-10-15T13:03:04.830383Z"
    }
   },
   "outputs": [
    {
     "name": "stderr",
     "output_type": "stream",
     "text": [
      "100% (27 of 27) |########################| Elapsed Time: 0:00:37 Time:  0:00:37\n"
     ]
    }
   ],
   "source": [
    "for file in progressbar.progressbar(Graphs):\n",
    "    Dimacs2Txt(PATH+file, NEW_PATH)"
   ]
  },
  {
   "cell_type": "code",
   "execution_count": null,
   "metadata": {
    "ExecuteTime": {
     "end_time": "2022-10-15T13:01:45.533006Z",
     "start_time": "2022-10-15T13:01:44.911550Z"
    }
   },
   "outputs": [],
   "source": [
    "# los txt de instances son los de prueba para TSS\n",
    "# Los utilizados en el FastCava son de puro entrenamiento"
   ]
  },
  {
   "cell_type": "code",
   "execution_count": 24,
   "metadata": {
    "ExecuteTime": {
     "end_time": "2022-10-15T13:07:58.220279Z",
     "start_time": "2022-10-15T13:07:58.204315Z"
    }
   },
   "outputs": [
    {
     "data": {
      "text/plain": [
       "0.0005"
      ]
     },
     "execution_count": 24,
     "metadata": {},
     "output_type": "execute_result"
    }
   ],
   "source": [
    "5*10**-4"
   ]
  },
  {
   "cell_type": "code",
   "execution_count": null,
   "metadata": {},
   "outputs": [],
   "source": [
    "import networkx as nx\n",
    "import matplotlib.pyplot as plt\n",
    "\n",
    "G= nx.erdos_renyi_graph(10, 0.3, directed = False)\n",
    "nx.draw(G, with_labels=True)\n",
    "plt.show()"
   ]
  }
 ],
 "metadata": {
  "hide_input": false,
  "kernelspec": {
   "display_name": "Python 3",
   "language": "python",
   "name": "python3"
  },
  "language_info": {
   "codemirror_mode": {
    "name": "ipython",
    "version": 3
   },
   "file_extension": ".py",
   "mimetype": "text/x-python",
   "name": "python",
   "nbconvert_exporter": "python",
   "pygments_lexer": "ipython3",
   "version": "3.8.5"
  },
  "varInspector": {
   "cols": {
    "lenName": 16,
    "lenType": 16,
    "lenVar": 40
   },
   "kernels_config": {
    "python": {
     "delete_cmd_postfix": "",
     "delete_cmd_prefix": "del ",
     "library": "var_list.py",
     "varRefreshCmd": "print(var_dic_list())"
    },
    "r": {
     "delete_cmd_postfix": ") ",
     "delete_cmd_prefix": "rm(",
     "library": "var_list.r",
     "varRefreshCmd": "cat(var_dic_list()) "
    }
   },
   "types_to_exclude": [
    "module",
    "function",
    "builtin_function_or_method",
    "instance",
    "_Feature"
   ],
   "window_display": false
  }
 },
 "nbformat": 4,
 "nbformat_minor": 4
}
