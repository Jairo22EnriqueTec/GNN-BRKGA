{
 "cells": [
  {
   "cell_type": "markdown",
   "metadata": {},
   "source": [
    "## Cargando los grafos de prueba"
   ]
  },
  {
   "cell_type": "code",
   "execution_count": 1,
   "metadata": {
    "ExecuteTime": {
     "end_time": "2022-11-05T11:13:29.298074Z",
     "start_time": "2022-11-05T11:13:21.111105Z"
    }
   },
   "outputs": [],
   "source": [
    "import igraph\n",
    "import dgl\n",
    "import torch\n",
    "import heapq\n",
    "import time\n",
    "import progressbar\n",
    "import pickle\n",
    "import matplotlib.pyplot as plt\n",
    "import os\n",
    "import gc\n",
    "import networkx as nx\n",
    "from datetime import datetime"
   ]
  },
  {
   "cell_type": "code",
   "execution_count": 2,
   "metadata": {
    "ExecuteTime": {
     "end_time": "2022-11-05T11:13:30.748205Z",
     "start_time": "2022-11-05T11:13:30.740571Z"
    }
   },
   "outputs": [],
   "source": [
    "PATH = \"data/\"\n",
    "PATH_INSTANCES = \"data/ER_graphs/train/\"\n",
    "PATH_SAVE_TRAINS = \"runs/\"\n",
    "FEATURE_TYPE = \"1\"\n",
    "HIDDEN_FEATS = [32]*6\n",
    "input_dim = 32\n",
    "directed_train = False\n",
    "use_cuda = False"
   ]
  },
  {
   "cell_type": "markdown",
   "metadata": {},
   "source": [
    "### Funciones"
   ]
  },
  {
   "cell_type": "code",
   "execution_count": 2,
   "metadata": {
    "ExecuteTime": {
     "end_time": "2022-10-29T17:23:54.216525Z",
     "start_time": "2022-10-29T17:23:54.193067Z"
    }
   },
   "outputs": [],
   "source": [
    "def get_rev_dgl(graph, feature_type='0', feature_dim=None, is_directed=False, use_cuda=False):\n",
    "    \"\"\"get dgl graph from igraph\n",
    "    \"\"\"\n",
    "    \n",
    "    src, dst = zip(*graph.get_edgelist())\n",
    "\n",
    "    if use_cuda:\n",
    "        dglgraph = dgl.graph((dst, src)).to(torch.device(\"cuda:0\"))\n",
    "    else:\n",
    "        dglgraph = dgl.graph((dst, src))\n",
    "        \n",
    "        \n",
    "    if not is_directed:\n",
    "        dglgraph.add_edges(src, dst)\n",
    "\n",
    "    if use_cuda:\n",
    "        dglgraph.ndata['feat'] = FEATURE_TYPE_DICT[feature_type](graph, feature_dim).cuda()\n",
    "        dglgraph.ndata['degree'] = torch.tensor(graph.degree()).float().cuda()\n",
    "\n",
    "    else:\n",
    "        dglgraph.ndata['feat'] = FEATURE_TYPE_DICT[feature_type](graph, feature_dim)\n",
    "        dglgraph.ndata['degree'] = torch.tensor(graph.degree()).float()\n",
    "        \n",
    "    return dglgraph\n",
    "\n",
    "def gen_one_feature(graph, feature_dim):\n",
    "    \"\"\"Generate all-one features\n",
    "    \"\"\"\n",
    "    return torch.ones(graph.vcount(), feature_dim)\n",
    "\n",
    "\n",
    "FEATURE_TYPE_DICT = {\n",
    "    \"1\": gen_one_feature,\n",
    "}"
   ]
  },
  {
   "cell_type": "code",
   "execution_count": 27,
   "metadata": {
    "ExecuteTime": {
     "end_time": "2022-10-15T14:10:10.848245Z",
     "start_time": "2022-10-15T14:09:56.838303Z"
    }
   },
   "outputs": [
    {
     "name": "stderr",
     "output_type": "stream",
     "text": [
      "100% (29 of 29) |########################| Elapsed Time: 0:00:13 Time:  0:00:13\n"
     ]
    },
    {
     "name": "stdout",
     "output_type": "stream",
     "text": [
      "MEAN NODES: 44170.41\n",
      "STD:67189.83\n",
      "MAX: 317080.00\n",
      "MIN: 620.00\n"
     ]
    }
   ],
   "source": [
    "Graphs = [graph for graph in os.listdir(PATH) if \".txt\" in graph]\n",
    "#\"\"\"\n",
    "MeanNodes = []\n",
    "\n",
    "N = len(Graphs)\n",
    "\n",
    "for file in progressbar.progressbar(Graphs):\n",
    "    graph = igraph.Graph().Read_Edgelist(\n",
    "        f\"{PATH}{file}\", directed=False)\n",
    "\n",
    "    dglgraph = get_rev_dgl(graph, FEATURE_TYPE, input_dim, directed_train, use_cuda = False)\n",
    "    \n",
    "    MeanNodes.append(dglgraph.num_nodes())\n",
    "#\"\"\"\n",
    "print(f\"MEAN NODES: {np.mean(MeanNodes):.2f}\\nSTD:{np.std(MeanNodes):.2f}\\nMAX: {np.max(MeanNodes):.2f}\\nMIN: {np.min(MeanNodes):.2f}\")"
   ]
  },
  {
   "cell_type": "code",
   "execution_count": 38,
   "metadata": {
    "ExecuteTime": {
     "end_time": "2022-10-15T10:37:42.313197Z",
     "start_time": "2022-10-15T10:37:42.176318Z"
    }
   },
   "outputs": [
    {
     "data": {
      "text/plain": [
       "(array([7., 3., 4., 1., 2., 3., 1., 2., 1., 2.]),\n",
       " array([  620. ,  6931.1, 13242.2, 19553.3, 25864.4, 32175.5, 38486.6,\n",
       "        44797.7, 51108.8, 57419.9, 63731. ]),\n",
       " <BarContainer object of 10 artists>)"
      ]
     },
     "execution_count": 38,
     "metadata": {},
     "output_type": "execute_result"
    },
    {
     "data": {
      "image/png": "[encoded data removed]",
      "text/plain": [
       "<Figure size 432x288 with 1 Axes>"
      ]
     },
     "metadata": {
      "needs_background": "light"
     },
     "output_type": "display_data"
    }
   ],
   "source": [
    "MeanNodes = np.array(MeanNodes)\n",
    "plt.hist(MeanNodes[MeanNodes < 100_000], bins = 10)"
   ]
  },
  {
   "cell_type": "markdown",
   "metadata": {},
   "source": [
    "## Convirtiendo dimacs a txt"
   ]
  },
  {
   "cell_type": "code",
   "execution_count": 8,
   "metadata": {
    "ExecuteTime": {
     "end_time": "2022-10-19T08:02:25.742235Z",
     "start_time": "2022-10-19T08:02:25.734234Z"
    }
   },
   "outputs": [],
   "source": [
    "PATH = \"../BRKGA/instances/dimacs/\"\n",
    "NEW_PATH = \"../BRKGA/instances/txt/\""
   ]
  },
  {
   "cell_type": "code",
   "execution_count": 9,
   "metadata": {
    "ExecuteTime": {
     "end_time": "2022-10-19T08:02:26.332127Z",
     "start_time": "2022-10-19T08:02:26.324996Z"
    }
   },
   "outputs": [],
   "source": [
    "Graphs = [graph for graph in os.listdir(PATH)]"
   ]
  },
  {
   "cell_type": "code",
   "execution_count": 10,
   "metadata": {
    "ExecuteTime": {
     "end_time": "2022-10-19T08:02:26.937160Z",
     "start_time": "2022-10-19T08:02:26.915359Z"
    }
   },
   "outputs": [
    {
     "data": {
      "text/plain": [
       "['Amazon0302.dimacs',\n",
       " 'Amazon0312.dimacs',\n",
       " 'Amazon0505.dimacs',\n",
       " 'Amazon0601.dimacs',\n",
       " 'com-dblp.ungraph.dimacs',\n",
       " 'com-youtube.ungraph.dimacs',\n",
       " 'deezer_HR.dimacs',\n",
       " 'ego-facebook.dimacs',\n",
       " 'gemsec_facebook_artist.dimacs',\n",
       " 'graph_actors_dat.dimacs',\n",
       " 'graph_CA-AstroPh.dimacs',\n",
       " 'graph_CA-CondMat.dimacs',\n",
       " 'graph_CA-GrQc.dimacs',\n",
       " 'graph_CA-HepPh.dimacs',\n",
       " 'graph_CA-HepTh.dimacs',\n",
       " 'graph_dolphins.dimacs',\n",
       " 'graph_Email-Enron.dimacs',\n",
       " 'graph_football.dimacs',\n",
       " 'graph_jazz.dimacs',\n",
       " 'graph_karate.dimacs',\n",
       " 'graph_ncstrlwg2.dimacs',\n",
       " 'loc-gowalla_edges.dimacs',\n",
       " 'musae_git.dimacs',\n",
       " 'soc-gplus.dimacs',\n",
       " 'socfb-Brandeis99.dimacs',\n",
       " 'socfb-Mich67.dimacs',\n",
       " 'socfb-nips-ego.dimacs']"
      ]
     },
     "execution_count": 10,
     "metadata": {},
     "output_type": "execute_result"
    }
   ],
   "source": [
    "Graphs"
   ]
  },
  {
   "cell_type": "code",
   "execution_count": 36,
   "metadata": {
    "ExecuteTime": {
     "end_time": "2022-10-19T08:13:16.664436Z",
     "start_time": "2022-10-19T08:13:16.646923Z"
    }
   },
   "outputs": [],
   "source": [
    "def Dimacs2Txt(ruta, nuevaruta):\n",
    "    file1 = open(ruta, 'rb')\n",
    "    Lines = file1.readlines()\n",
    "    newname = \".\".join((PATH+file).split(\"/\")[-1].split(\".\")[:-1])+\".txt\"\n",
    "    file2 = open(nuevaruta+newname, 'wb')\n",
    "    file1.close()\n",
    "    for line in Lines[1:]:\n",
    "        v = line.strip().split()\n",
    "        file2.write(f\"{int(v[1])-1} {int(v[2])-1}\")\n",
    "        file2.write('\\n')\n",
    "    file2.close()\n",
    "    return newname\n"
   ]
  },
  {
   "cell_type": "code",
   "execution_count": 12,
   "metadata": {
    "ExecuteTime": {
     "end_time": "2022-10-19T08:03:54.529034Z",
     "start_time": "2022-10-19T08:02:33.351068Z"
    }
   },
   "outputs": [
    {
     "name": "stderr",
     "output_type": "stream",
     "text": [
      "100% (27 of 27) |########################| Elapsed Time: 0:01:21 Time:  0:01:21\n"
     ]
    }
   ],
   "source": [
    "for file in progressbar.progressbar(Graphs):\n",
    "    Dimacs2Txt(PATH+file, NEW_PATH)"
   ]
  },
  {
   "cell_type": "code",
   "execution_count": null,
   "metadata": {
    "ExecuteTime": {
     "end_time": "2022-10-15T13:01:45.533006Z",
     "start_time": "2022-10-15T13:01:44.911550Z"
    }
   },
   "outputs": [],
   "source": [
    "# los txt de instances son los de prueba para TSS\n",
    "# Los utilizados en el FastCava son de puro entrenamiento"
   ]
  },
  {
   "cell_type": "code",
   "execution_count": 24,
   "metadata": {
    "ExecuteTime": {
     "end_time": "2022-10-15T13:07:58.220279Z",
     "start_time": "2022-10-15T13:07:58.204315Z"
    }
   },
   "outputs": [
    {
     "data": {
      "text/plain": [
       "0.0005"
      ]
     },
     "execution_count": 24,
     "metadata": {},
     "output_type": "execute_result"
    }
   ],
   "source": [
    "5*10**-4"
   ]
  },
  {
   "cell_type": "markdown",
   "metadata": {},
   "source": [
    "### Creando grafos totalmente conectados"
   ]
  },
  {
   "cell_type": "code",
   "execution_count": 136,
   "metadata": {
    "ExecuteTime": {
     "end_time": "2022-10-15T14:39:41.597936Z",
     "start_time": "2022-10-15T14:39:38.699954Z"
    }
   },
   "outputs": [],
   "source": [
    "Cont = 0\n",
    "NumGrafos = 20\n",
    "n = 1000\n",
    "p = 10/n\n",
    "INSTANCES = []\n",
    "\n",
    "while True:\n",
    "    G = nx.erdos_renyi_graph(n, p, directed = False)\n",
    "    AllConected = True if len([i for i in nx.connected_components(G)]) == 1 else False\n",
    "    if AllConected:\n",
    "        INSTANCES.append(G)\n",
    "        Cont += 1\n",
    "    if Cont == NumGrafos:\n",
    "        break\n",
    "        "
   ]
  },
  {
   "cell_type": "markdown",
   "metadata": {},
   "source": [
    "### Salvando los grafos"
   ]
  },
  {
   "cell_type": "code",
   "execution_count": 137,
   "metadata": {
    "ExecuteTime": {
     "end_time": "2022-10-15T14:39:43.797594Z",
     "start_time": "2022-10-15T14:39:43.386513Z"
    }
   },
   "outputs": [],
   "source": [
    "for i in range(len(INSTANCES)):\n",
    "    igraph.Graph().from_networkx(INSTANCES[i]).write_pickle(f\"{PATH_INSTANCES}ER_{i}.pkl\")"
   ]
  },
  {
   "cell_type": "markdown",
   "metadata": {},
   "source": [
    "### Recuperando las instancias guardadas"
   ]
  },
  {
   "cell_type": "code",
   "execution_count": 9,
   "metadata": {
    "ExecuteTime": {
     "end_time": "2022-10-29T17:24:50.270667Z",
     "start_time": "2022-10-29T17:24:50.250127Z"
    }
   },
   "outputs": [],
   "source": [
    "ERInstances = [graph for graph in os.listdir(PATH_INSTANCES)]"
   ]
  },
  {
   "cell_type": "code",
   "execution_count": 13,
   "metadata": {
    "ExecuteTime": {
     "end_time": "2022-10-29T17:26:27.664765Z",
     "start_time": "2022-10-29T17:26:27.612632Z"
    }
   },
   "outputs": [
    {
     "name": "stderr",
     "output_type": "stream",
     "text": [
      "100% (15 of 15) |########################| Elapsed Time: 0:00:00 Time:  0:00:00\n"
     ]
    }
   ],
   "source": [
    "graphs = []\n",
    "dglgraphs = []\n",
    "\n",
    "for er in progressbar.progressbar(ERInstances):\n",
    "    graph = igraph.Graph().Read_Pickle(PATH_INSTANCES+er)\n",
    "    \n",
    "    graphs.append(graph)\n",
    "    \n",
    "    dglgraph = get_rev_dgl(graph, FEATURE_TYPE, input_dim, directed_train, use_cuda)\n",
    "    dglgraphs.append(dglgraph)"
   ]
  },
  {
   "cell_type": "code",
   "execution_count": 41,
   "metadata": {
    "ExecuteTime": {
     "end_time": "2022-10-29T17:50:23.317957Z",
     "start_time": "2022-10-29T17:50:22.646099Z"
    }
   },
   "outputs": [
    {
     "name": "stderr",
     "output_type": "stream",
     "text": [
      "100% (15 of 15) |########################| Elapsed Time: 0:00:00 Time:  0:00:00\n"
     ]
    }
   ],
   "source": [
    "ERInstances = [graph for graph in os.listdir('data/ER_graphs/train/pkl/')]\n",
    "#ERInstances = [graph for graph in os.listdir('data/ER_graphs/test/pkl/')]\n",
    "\n",
    "for er in progressbar.progressbar(ERInstances):\n",
    "    graph = igraph.Graph().Read_Pickle('data/ER_graphs/train/pkl/'+er)\n",
    "    graph2dimacs('data/ER_graphs/train/dimacs/', graph.to_networkx(), er)"
   ]
  },
  {
   "cell_type": "code",
   "execution_count": 31,
   "metadata": {
    "ExecuteTime": {
     "end_time": "2022-10-29T17:38:30.148838Z",
     "start_time": "2022-10-29T17:38:30.129671Z"
    }
   },
   "outputs": [
    {
     "data": {
      "text/plain": [
       "['dimacs', 'pkl']"
      ]
     },
     "execution_count": 31,
     "metadata": {},
     "output_type": "execute_result"
    }
   ],
   "source": [
    "ERInstances"
   ]
  },
  {
   "cell_type": "code",
   "execution_count": 39,
   "metadata": {
    "ExecuteTime": {
     "end_time": "2022-10-29T17:50:11.548941Z",
     "start_time": "2022-10-29T17:50:11.529364Z"
    }
   },
   "outputs": [],
   "source": [
    "def graph2dimacs(path, g, name):\n",
    "    \"\"\"\n",
    "    path [str] - where to save\n",
    "    graph [networkxs] - object to save\n",
    "    \"\"\"\n",
    "    #g = graph.to_networkx()\n",
    "    name = name.split(\".\")[0]\n",
    "    dimacs_filename = f\"{name}.dimacs\"\n",
    "\n",
    "    with open(path + dimacs_filename, \"w\") as f:\n",
    "        # write the header\n",
    "        f.write(\"p edge {} {}\\n\".format(g.number_of_nodes(), g.number_of_edges()))\n",
    "        # now write all edges\n",
    "        for u, v in g.edges():\n",
    "            f.write(\"e {} {}\\n\".format(int(u+1), int(v+1)))"
   ]
  },
  {
   "cell_type": "code",
   "execution_count": null,
   "metadata": {},
   "outputs": [],
   "source": []
  },
  {
   "cell_type": "code",
   "execution_count": 146,
   "metadata": {
    "ExecuteTime": {
     "end_time": "2022-10-15T14:55:47.435829Z",
     "start_time": "2022-10-15T14:55:47.423120Z"
    }
   },
   "outputs": [],
   "source": [
    "PATH_TO_TRAIN = \"data/ER_graphs/train/\"\n",
    "PATH_TO_TEST = \"data/ER_graphs/test/\"\n",
    "\n",
    "TRAIN_LIST = [graph for graph in os.listdir(PATH_TO_TRAIN)]"
   ]
  },
  {
   "cell_type": "code",
   "execution_count": 147,
   "metadata": {
    "ExecuteTime": {
     "end_time": "2022-10-15T14:55:49.211603Z",
     "start_time": "2022-10-15T14:55:48.972614Z"
    }
   },
   "outputs": [
    {
     "name": "stdout",
     "output_type": "stream",
     "text": [
      "Cargando data/ER_graphs/train/ER_0.pkl ...\n",
      "Cargando data/ER_graphs/train/ER_1.pkl ...\n",
      "Cargando data/ER_graphs/train/ER_10.pkl ...\n",
      "Cargando data/ER_graphs/train/ER_11.pkl ...\n",
      "Cargando data/ER_graphs/train/ER_12.pkl ...\n",
      "Cargando data/ER_graphs/train/ER_13.pkl ...\n",
      "Cargando data/ER_graphs/train/ER_14.pkl ...\n",
      "Cargando data/ER_graphs/train/ER_2.pkl ...\n",
      "Cargando data/ER_graphs/train/ER_3.pkl ...\n",
      "Cargando data/ER_graphs/train/ER_4.pkl ...\n",
      "Cargando data/ER_graphs/train/ER_5.pkl ...\n",
      "Cargando data/ER_graphs/train/ER_6.pkl ...\n",
      "Cargando data/ER_graphs/train/ER_7.pkl ...\n",
      "Cargando data/ER_graphs/train/ER_8.pkl ...\n",
      "Cargando data/ER_graphs/train/ER_9.pkl ...\n"
     ]
    }
   ],
   "source": [
    "graphs = []\n",
    "dglgraphs = []\n",
    "\n",
    "for file in TRAIN_LIST:\n",
    "    print(f\"Cargando {PATH_TO_TRAIN+file} ...\")\n",
    "    graph = igraph.Graph().Read_Pickle(PATH_TO_TRAIN+file)\n",
    "    graphs.append(graph)\n",
    "    \n",
    "    dglgraph = get_rev_dgl(graph, FEATURE_TYPE, input_dim, directed_train, use_cuda)\n",
    "    dglgraphs.append(dglgraph)"
   ]
  },
  {
   "cell_type": "code",
   "execution_count": 148,
   "metadata": {
    "ExecuteTime": {
     "end_time": "2022-10-15T14:56:01.007266Z",
     "start_time": "2022-10-15T14:56:00.987254Z"
    }
   },
   "outputs": [
    {
     "data": {
      "text/plain": [
       "[<igraph.Graph at 0x14b75ee0310>,\n",
       " <igraph.Graph at 0x14b073317c0>,\n",
       " <igraph.Graph at 0x14b073314f0>,\n",
       " <igraph.Graph at 0x14b07331b80>,\n",
       " <igraph.Graph at 0x14b07331d60>,\n",
       " <igraph.Graph at 0x14b073319a0>,\n",
       " <igraph.Graph at 0x14b073316d0>,\n",
       " <igraph.Graph at 0x14b07331400>,\n",
       " <igraph.Graph at 0x14b06ca49a0>,\n",
       " <igraph.Graph at 0x14b06ca4e50>,\n",
       " <igraph.Graph at 0x14b06ca45e0>,\n",
       " <igraph.Graph at 0x14b757727c0>,\n",
       " <igraph.Graph at 0x14b757729a0>,\n",
       " <igraph.Graph at 0x14b75772b80>,\n",
       " <igraph.Graph at 0x14b757728b0>]"
      ]
     },
     "execution_count": 148,
     "metadata": {},
     "output_type": "execute_result"
    }
   ],
   "source": [
    "graphs"
   ]
  },
  {
   "cell_type": "code",
   "execution_count": null,
   "metadata": {},
   "outputs": [],
   "source": []
  },
  {
   "cell_type": "code",
   "execution_count": 118,
   "metadata": {
    "ExecuteTime": {
     "end_time": "2022-10-15T14:32:27.340716Z",
     "start_time": "2022-10-15T14:32:27.205054Z"
    }
   },
   "outputs": [
    {
     "data": {
      "image/png": "[encoded data removed]",
      "text/plain": [
       "<Figure size 432x288 with 1 Axes>"
      ]
     },
     "metadata": {},
     "output_type": "display_data"
    }
   ],
   "source": [
    "G = nx.erdos_renyi_graph(10, 0.1, directed = False)\n",
    "nx.draw(G)"
   ]
  },
  {
   "cell_type": "code",
   "execution_count": 153,
   "metadata": {
    "ExecuteTime": {
     "end_time": "2022-10-15T15:30:24.827858Z",
     "start_time": "2022-10-15T15:30:24.802410Z"
    }
   },
   "outputs": [],
   "source": []
  },
  {
   "cell_type": "markdown",
   "metadata": {},
   "source": [
    "### Maximum Degree Heuristic"
   ]
  },
  {
   "cell_type": "code",
   "execution_count": 345,
   "metadata": {
    "ExecuteTime": {
     "end_time": "2022-10-15T16:53:47.887816Z",
     "start_time": "2022-10-15T16:53:47.877932Z"
    }
   },
   "outputs": [],
   "source": [
    "theta = 0.1"
   ]
  },
  {
   "cell_type": "code",
   "execution_count": 355,
   "metadata": {
    "ExecuteTime": {
     "end_time": "2022-10-15T16:56:39.014519Z",
     "start_time": "2022-10-15T16:56:38.912261Z"
    }
   },
   "outputs": [
    {
     "data": {
      "image/png": "[encoded data removed]",
      "text/plain": [
       "<Figure size 432x288 with 1 Axes>"
      ]
     },
     "metadata": {},
     "output_type": "display_data"
    }
   ],
   "source": [
    "n = 10\n",
    "while True:\n",
    "    G = nx.erdos_renyi_graph(n, 0.2, directed = False)\n",
    "    AllConected = True if len([i for i in nx.connected_components(G)]) == 1 else False\n",
    "    if AllConected:\n",
    "        break\n",
    "nx.draw(G, with_labels=1)"
   ]
  },
  {
   "cell_type": "code",
   "execution_count": 453,
   "metadata": {
    "ExecuteTime": {
     "end_time": "2022-10-15T17:33:26.494452Z",
     "start_time": "2022-10-15T17:33:25.947144Z"
    }
   },
   "outputs": [
    {
     "data": {
      "text/plain": [
       "16"
      ]
     },
     "execution_count": 453,
     "metadata": {},
     "output_type": "execute_result"
    }
   ],
   "source": [
    "F = MDH(G, 0.2, print_ = False)\n",
    "len(F)"
   ]
  },
  {
   "cell_type": "code",
   "execution_count": 441,
   "metadata": {
    "ExecuteTime": {
     "end_time": "2022-10-15T17:28:33.232924Z",
     "start_time": "2022-10-15T17:28:33.222415Z"
    }
   },
   "outputs": [
    {
     "data": {
      "text/plain": [
       "216"
      ]
     },
     "execution_count": 441,
     "metadata": {},
     "output_type": "execute_result"
    }
   ],
   "source": [
    "len(F)"
   ]
  },
  {
   "cell_type": "code",
   "execution_count": 4,
   "metadata": {
    "ExecuteTime": {
     "end_time": "2022-10-29T12:21:03.107271Z",
     "start_time": "2022-10-29T12:21:03.096668Z"
    }
   },
   "outputs": [],
   "source": [
    "import igraph\n",
    "import dgl\n",
    "import torch\n",
    "import numpy as np\n",
    "import networkx as nx\n",
    "\n",
    "def MDH(G, threshold = 0.5, print_ =False):\n",
    "    \"\"\"\n",
    "    Aplica la Heurística del Grado Mínimo para obtener el conjunto \n",
    "    más pequeño posible de nodos.\n",
    "    \n",
    "    In:\n",
    "    G - Grafo networkx\n",
    "    threshold = 0.5 - Umbral de infección\n",
    "    print_ = False - Mostrar avance de infección\n",
    "    \n",
    "    out:\n",
    "    solution - Conjunto mínimo encontrado de nodos infectados\n",
    "    \"\"\"\n",
    "    \n",
    "    NodesDegree = np.array(nx.degree(G))\n",
    "    Infected = [k for k in nx.isolates(G)]\n",
    "    # Si llega a existir nodos aislados, estos harán que el método sea trivial\n",
    "    # Por eso los infectados iniciales son los aislados\n",
    "    Solution = []\n",
    "    while len(NodesDegree) != 0 and len(Infected) != len(G.nodes()):\n",
    "\n",
    "        posMaxDegreeNode = np.argmax(NodesDegree.T[1])\n",
    "        MaxDegreeNode = NodesDegree[posMaxDegreeNode][0]\n",
    "\n",
    "        NodesDegree = np.delete(NodesDegree, posMaxDegreeNode, axis=0)\n",
    "\n",
    "        Solution.append(MaxDegreeNode)\n",
    "        Infected.append(MaxDegreeNode)\n",
    "            \n",
    "        InfectedTemp = []\n",
    "        while len(InfectedTemp) != len(Infected):\n",
    "            InfectedTemp = Infected.copy()\n",
    "            for Inf in InfectedTemp:\n",
    "                for neighborL1 in nx.neighbors(G, Inf):\n",
    "\n",
    "                    if neighborL1 in Infected:\n",
    "                        continue\n",
    "\n",
    "                    TotalNeighbors = [v for v in nx.neighbors(G, neighborL1)]\n",
    "                    NeighborsInfedted = [v for v in TotalNeighbors if v in Infected]\n",
    "\n",
    "                    ratio = len(NeighborsInfedted)/len(TotalNeighbors)\n",
    "                    if ratio > threshold:\n",
    "                        Infected.append(neighborL1)\n",
    "                        NodesDegree = np.delete(NodesDegree, np.where(NodesDegree.T[0] == neighborL1)[0], axis = 0)\n",
    "        if print_:\n",
    "            print(f\"{len(Infected)/len(G.nodes()):.3f} infectado\")\n",
    "    return Solution, len(Infected)"
   ]
  },
  {
   "cell_type": "markdown",
   "metadata": {},
   "source": [
    "### Revisar si un conjunto de nodos infecta toda la red"
   ]
  },
  {
   "cell_type": "code",
   "execution_count": 5,
   "metadata": {
    "ExecuteTime": {
     "end_time": "2022-10-29T12:21:04.420518Z",
     "start_time": "2022-10-29T12:21:04.412489Z"
    }
   },
   "outputs": [],
   "source": [
    "def CheckInfect(G, Infected, threshold):\n",
    "    \"\"\"\n",
    "    Recibe Una red G, conjunto de nodos infectados y el umbral\n",
    "    Propaga la infección en la red todo lo que puede\n",
    "    Regresa verdadero si se ha infectado toda la red o\n",
    "    falso en lo contrario\n",
    "    \n",
    "    In:\n",
    "    G - grafo networkx\n",
    "    Infected - Conjunto de nodos iniciales infectados\n",
    "    threshold - Umbral de infección\n",
    "    \"\"\"\n",
    "    InfectedTemp = []\n",
    "    while len(InfectedTemp) != len(Infected):\n",
    "        InfectedTemp = Infected.copy()\n",
    "        for Inf in InfectedTemp:\n",
    "            for neighborL1 in nx.neighbors(G, Inf):\n",
    "                if neighborL1 in Infected:\n",
    "                    continue\n",
    "                \n",
    "                TotalNeighbors = [v for v in nx.neighbors(G, neighborL1)]\n",
    "                    \n",
    "                NeighborsInfedted = [v for v in TotalNeighbors if v in Infected]\n",
    "                \n",
    "                ratio = len(NeighborsInfedted)/len(TotalNeighbors)\n",
    "                if ratio > threshold:\n",
    "                    Infected.append(neighborL1)\n",
    "    return len(Infected) == len(G.nodes()), len(Infected)/len(G.nodes())\n"
   ]
  },
  {
   "cell_type": "code",
   "execution_count": 381,
   "metadata": {
    "ExecuteTime": {
     "end_time": "2022-10-15T17:02:39.647068Z",
     "start_time": "2022-10-15T17:02:39.634699Z"
    }
   },
   "outputs": [
    {
     "data": {
      "text/plain": [
       "(False, 0.4)"
      ]
     },
     "execution_count": 381,
     "metadata": {},
     "output_type": "execute_result"
    }
   ],
   "source": [
    "CheckInfect(G, [1,5,2], 0.7)"
   ]
  },
  {
   "cell_type": "markdown",
   "metadata": {
    "ExecuteTime": {
     "end_time": "2022-10-15T17:03:29.385258Z",
     "start_time": "2022-10-15T17:03:29.378377Z"
    }
   },
   "source": [
    "## Cargando la red entrenada"
   ]
  },
  {
   "cell_type": "code",
   "execution_count": 31,
   "metadata": {
    "ExecuteTime": {
     "end_time": "2022-10-29T12:47:44.588109Z",
     "start_time": "2022-10-29T12:47:44.556376Z"
    }
   },
   "outputs": [],
   "source": [
    "import torch\n",
    "import torch.nn as nn\n",
    "import torch.nn.functional as F\n",
    "from dgl.nn.pytorch.softmax import edge_softmax\n",
    "# Guanhao's GRAT\n",
    "class GRATLayer(nn.Module):\n",
    "    def __init__(self, in_feats, out_feats):\n",
    "        # TODO: why not another linear layer before entering the net\n",
    "        super(GRATLayer, self).__init__()\n",
    "        # linear layer\n",
    "        self.fc = nn.Linear(in_feats, out_feats, bias=True)  # bias=True in Guanhao's original code\n",
    "        \n",
    "        # attention layer\n",
    "        self.attn_fc = nn.Linear(2 * in_feats, 1, bias=True)  # bias=True in Guanhao's original code\n",
    "\n",
    "        # initialize parameters\n",
    "        # self.reset_parameters()\n",
    "\n",
    "    def reset_parameters(self):\n",
    "        gain = nn.init.calculate_gain('relu')\n",
    "        nn.init.xavier_normal_(self.fc.weight, gain=gain)\n",
    "        nn.init.xavier_normal_(self.attn_fc.weight, gain=gain)\n",
    "\n",
    "    def edge_attention(self, edges):\n",
    "        h2 = torch.cat([edges.src['h'], edges.dst['h']], dim=1)\n",
    "        a = self.attn_fc(h2)\n",
    "        return {'e': torch.relu(a)}\n",
    "\n",
    "    def message_func(self, edges):\n",
    "        return {'h': edges.src['h'] * edges.data['alpha']}  # message divided by weight\n",
    "\n",
    "    def reduce_func(self, nodes):\n",
    "        return {'h': torch.sum(nodes.mailbox['h'], dim=1)}\n",
    "\n",
    "    def forward(self, g, feature):\n",
    "        with g.local_scope():\n",
    "            g.ndata['h'] = feature\n",
    "            # Equation (2)\n",
    "            g.apply_edges(self.edge_attention)  # calculate e_{ij}\n",
    "\n",
    "            # Calculate softmax on source code -> on the reversed graph\n",
    "            rg = g.reverse(copy_ndata=False, copy_edata=True)\n",
    "            g.edata['alpha'] = edge_softmax(rg, rg.edata['e'])\n",
    "            \n",
    "            # Convolution\n",
    "            g.update_all(self.message_func, self.reduce_func)\n",
    "            \n",
    "            g.ndata['h'] = self.fc(g.ndata['h'])\n",
    "            h = g.ndata['h']\n",
    "            return h\n",
    "\n",
    "import torch.nn as nn\n",
    "\n",
    "\n",
    "class GRAT3_(nn.Module):\n",
    "    def __init__(self, in_feats, hidden_feats1, hidden_feats2, out_feats, *args):\n",
    "        super(GRAT3_, self).__init__()\n",
    "        self.grat1 = GRATLayer(in_feats, hidden_feats1)\n",
    "        self.grat2 = GRATLayer(hidden_feats1, hidden_feats2)\n",
    "        self.grat3 = GRATLayer(hidden_feats2, out_feats)\n",
    "\n",
    "    def forward(self, g, feature):\n",
    "        h = torch.relu(self.grat1(g, feature))\n",
    "        h = torch.relu(self.grat2(g, h))\n",
    "        h = self.grat3(g, h)\n",
    "        return h\n",
    "\n",
    "\n",
    "class GRAT3(nn.Module):\n",
    "    def __init__(self, in_feats, hidden_feats1, hidden_feats2, *args):\n",
    "        super(GRAT3, self).__init__()\n",
    "        self.grat = GRAT3_(in_feats, hidden_feats1, hidden_feats2, 1, *args)  # out_feats=1\n",
    "\n",
    "    def forward(self, g, feature):\n",
    "        h = self.grat(g, feature)\n",
    "        h = torch.sigmoid(h)\n",
    "        return h"
   ]
  },
  {
   "cell_type": "code",
   "execution_count": 32,
   "metadata": {
    "ExecuteTime": {
     "end_time": "2022-10-29T12:47:45.368786Z",
     "start_time": "2022-10-29T12:47:45.358282Z"
    }
   },
   "outputs": [
    {
     "name": "stdout",
     "output_type": "stream",
     "text": [
      "['GRAT_seed_13_10-15_17-40.pt']\n"
     ]
    }
   ],
   "source": [
    "RUNS_LIST = [run for run in os.listdir(PATH_SAVE_TRAINS) if \".pt\" in run]\n",
    "print(RUNS_LIST)\n",
    "\n",
    "PATH_TO_TEST = \"data/ER_graphs/test/\"\n",
    "TEST_LIST = [graph for graph in os.listdir(PATH_TO_TEST)]"
   ]
  },
  {
   "cell_type": "code",
   "execution_count": 33,
   "metadata": {
    "ExecuteTime": {
     "end_time": "2022-10-29T12:47:47.369267Z",
     "start_time": "2022-10-29T12:47:47.284337Z"
    }
   },
   "outputs": [],
   "source": [
    "net = GRAT3(*HIDDEN_FEATS)\n",
    "net.load_state_dict(torch.load(PATH_SAVE_TRAINS+'GRAT_seed_13_10-15_17-40.pt'))\n",
    "if use_cuda:\n",
    "    net.cuda()"
   ]
  },
  {
   "cell_type": "code",
   "execution_count": 34,
   "metadata": {
    "ExecuteTime": {
     "end_time": "2022-10-29T12:47:49.961049Z",
     "start_time": "2022-10-29T12:47:49.836738Z"
    }
   },
   "outputs": [
    {
     "name": "stdout",
     "output_type": "stream",
     "text": [
      "Cargando data/ER_graphs/test/ER_15.pkl ...\n",
      "Cargando data/ER_graphs/test/ER_16.pkl ...\n",
      "Cargando data/ER_graphs/test/ER_17.pkl ...\n",
      "Cargando data/ER_graphs/test/ER_18.pkl ...\n",
      "Cargando data/ER_graphs/test/ER_19.pkl ...\n"
     ]
    }
   ],
   "source": [
    "graphs = []\n",
    "dglgraphs = []\n",
    "\n",
    "for file in TEST_LIST:\n",
    "    print(f\"Cargando {PATH_TO_TEST+file} ...\")\n",
    "    graph = igraph.Graph().Read_Pickle(PATH_TO_TEST+file)\n",
    "    graphs.append(graph)\n",
    "    \n",
    "    dglgraph = get_rev_dgl(graph, FEATURE_TYPE, input_dim, directed_train, use_cuda)\n",
    "    dglgraphs.append(dglgraph)"
   ]
  },
  {
   "cell_type": "code",
   "execution_count": 35,
   "metadata": {
    "ExecuteTime": {
     "end_time": "2022-10-29T12:47:52.435337Z",
     "start_time": "2022-10-29T12:47:52.224942Z"
    }
   },
   "outputs": [],
   "source": [
    "out = net.grat(dglgraph, dglgraph.ndata['feat']).squeeze(1)"
   ]
  },
  {
   "cell_type": "code",
   "execution_count": 495,
   "metadata": {
    "ExecuteTime": {
     "end_time": "2022-10-15T17:59:01.831422Z",
     "start_time": "2022-10-15T17:58:38.639797Z"
    }
   },
   "outputs": [
    {
     "name": "stderr",
     "output_type": "stream",
     "text": [
      " 80% (8 of 10) |####################     | Elapsed Time: 0:00:18 ETA:   0:00:07"
     ]
    },
    {
     "name": "stdout",
     "output_type": "stream",
     "text": [
      "El mejor es 243\n"
     ]
    }
   ],
   "source": [
    "#for k in range(len(dglgraph.num_nodes())):\n",
    "G = graph.to_networkx()\n",
    "threshold = 0.5\n",
    "kMax = int(len(G.nodes()) * threshold)\n",
    "kMin = 0\n",
    "j = []\n",
    "for _ in progressbar.progressbar(range(10)):\n",
    "    _, Infected = torch.topk(out, kMax)\n",
    "    \n",
    "    Inf = CheckInfect(G, list(Infected.numpy()), threshold)\n",
    "    \n",
    "    if Inf[0]:\n",
    "        kMax = kMax - (kMax - kMin)//2\n",
    "    else:\n",
    "        t = kMax\n",
    "        kMax = kMax + (kMax - kMin)//2\n",
    "        kMin = t\n",
    "    if (kMax - kMin) == 1:\n",
    "        break\n",
    "        \n",
    "print(f\"El mejor es {kMax}\")"
   ]
  },
  {
   "cell_type": "code",
   "execution_count": 494,
   "metadata": {
    "ExecuteTime": {
     "end_time": "2022-10-15T17:57:42.989011Z",
     "start_time": "2022-10-15T17:57:39.280315Z"
    }
   },
   "outputs": [
    {
     "data": {
      "text/plain": [
       "(True, 1.0)"
      ]
     },
     "execution_count": 494,
     "metadata": {},
     "output_type": "execute_result"
    }
   ],
   "source": [
    "_, Infected = torch.topk(out, 243)\n",
    "CheckInfect(G, list(Infected.numpy()), threshold)"
   ]
  },
  {
   "cell_type": "code",
   "execution_count": null,
   "metadata": {
    "ExecuteTime": {
     "end_time": "2022-10-15T17:21:43.659765Z",
     "start_time": "2022-10-15T17:21:42.534870Z"
    }
   },
   "outputs": [],
   "source": [
    "records = []\n",
    "repeat = 3\n",
    "ts = np.zeros(repeat)\n",
    "for i in range(repeat):\n",
    "    # Select seeds\n",
    "    t_start = time.time()\n",
    "    ## =================================================================================================\n",
    "    # Este es el output de la red, en donde se tienen las probabilidades de que cada nodo sea parte de la\n",
    "    # solución final\n",
    "    ## =================================================================================================\n",
    "    out = net.grat(dglgraph, dglgraph.ndata['feat']).squeeze(1)#!!!!!!!!!!!!!!\n",
    "    ## =================================================================================================\n",
    "    # Esta función regresas el k nodos con la máxima influencia\n",
    "    _, nn_seeds = torch.topk(out, k)\n",
    "    ## =================================================================================================\n",
    "    ts[i] = (time.time() - t_start)\n",
    "\n",
    "# Evaluate time\n",
    "t_mean = ts.mean() \n",
    "t_std = ts.std() / np.sqrt(repeat)\n",
    "\n",
    "## =================================================================================================\n",
    "# Nodos cubiertos del total, para nosotros d = 1 ya que solo se puede llegar al siguiente\n",
    "# baselines.heuristics.py -> get_influence_d\n",
    "# \n",
    "## =================================================================================================\n",
    "n_covered = get_influence(graph, nn_seeds)\n",
    "n, m = graph.vcount(), graph.ecount()\n",
    "## =================================================================================================\n",
    "print(f\"k: {k}. Coverage: {n_covered}/{n}={n_covered/n:.2f}. Time: {t_mean:.2f} ({t_std:.2f})\")\n",
    "model_name = \"GRAT3\"\n",
    "# Write to records\n",
    "records.append({\n",
    "    \"graph\": graph_name,\n",
    "    \"model\": model_name,\n",
    "    \"seed\": seed,\n",
    "    \"n\": n,\n",
    "    \"m\": m,\n",
    "    \"d\": d,\n",
    "    \"k\": k,\n",
    "    \"n_covered\": n_covered,\n",
    "    \"coverage\": n_covered/n,\n",
    "    \"t_mean\": t_mean,\n",
    "    \"t_std\": t_std,\n",
    "})"
   ]
  },
  {
   "cell_type": "code",
   "execution_count": 421,
   "metadata": {
    "ExecuteTime": {
     "end_time": "2022-10-15T17:22:59.342237Z",
     "start_time": "2022-10-15T17:22:59.315165Z"
    }
   },
   "outputs": [
    {
     "data": {
      "text/plain": [
       "<networkx.classes.graph.Graph at 0x14b007a47f0>"
      ]
     },
     "execution_count": 421,
     "metadata": {},
     "output_type": "execute_result"
    }
   ],
   "source": []
  },
  {
   "cell_type": "markdown",
   "metadata": {},
   "source": [
    "## Métrica rápida sobre el dataset del TSS"
   ]
  },
  {
   "cell_type": "code",
   "execution_count": null,
   "metadata": {},
   "outputs": [],
   "source": []
  },
  {
   "cell_type": "code",
   "execution_count": 4,
   "metadata": {
    "ExecuteTime": {
     "end_time": "2022-10-22T10:06:01.546897Z",
     "start_time": "2022-10-22T10:06:01.536315Z"
    }
   },
   "outputs": [],
   "source": [
    "PATH_TO_TEST = \"../BRKGA/instances/txt/\""
   ]
  },
  {
   "cell_type": "code",
   "execution_count": 6,
   "metadata": {
    "ExecuteTime": {
     "end_time": "2022-10-22T10:06:23.612159Z",
     "start_time": "2022-10-22T10:06:23.604100Z"
    }
   },
   "outputs": [],
   "source": [
    "Graphs = [graph for graph in os.listdir(PATH_TO_TEST)]\n",
    "Graphs = ['soc-gplus.txt']"
   ]
  },
  {
   "cell_type": "code",
   "execution_count": 7,
   "metadata": {
    "ExecuteTime": {
     "end_time": "2022-10-22T10:06:27.760788Z",
     "start_time": "2022-10-22T10:06:27.431857Z"
    }
   },
   "outputs": [
    {
     "name": "stdout",
     "output_type": "stream",
     "text": [
      "Cargando ../BRKGA/instances/txt/soc-gplus.txt ...\n"
     ]
    }
   ],
   "source": [
    "graphs = []\n",
    "dglgraphs = []\n",
    "\n",
    "for file in Graphs:\n",
    "    #try:\n",
    "        print(f\"Cargando {PATH_TO_TEST+file} ...\")\n",
    "        #g = Dimacs2Txt(PATH_TO_TEST+file, NEW_PATH)\n",
    "        #print(PATH_TO_TEST+g)\n",
    "        #graph = igraph.Graph().Read_Edgelist(\n",
    "        #Dimacs2Txt(f\"{PATH_TO_TEST}{file}\"), directed=False)\n",
    "        \n",
    "        graph = igraph.Graph().Read_Edgelist(\"../BRKGA/instances/txt/\"+file)\n",
    "        #graphs.append(graph)\n",
    "\n",
    "        dglgraph = get_rev_dgl(graph, FEATURE_TYPE, input_dim, directed_train, use_cuda)\n",
    "        dglgraphs.append(dglgraph)\n",
    "    #except:\n",
    "        #print(\"No se pudo\")"
   ]
  },
  {
   "cell_type": "code",
   "execution_count": null,
   "metadata": {
    "ExecuteTime": {
     "end_time": "2022-10-19T08:05:31.971586Z",
     "start_time": "2022-10-19T08:05:31.957950Z"
    }
   },
   "outputs": [],
   "source": []
  },
  {
   "cell_type": "code",
   "execution_count": 12,
   "metadata": {
    "ExecuteTime": {
     "end_time": "2022-10-22T10:08:23.357410Z",
     "start_time": "2022-10-22T10:08:23.316074Z"
    }
   },
   "outputs": [],
   "source": [
    "net = GRAT3(*HIDDEN_FEATS)\n",
    "net.load_state_dict(torch.load(PATH_SAVE_TRAINS+'GRAT_seed_13_10-15_17-40.pt'))\n",
    "if use_cuda:\n",
    "    net.cuda()"
   ]
  },
  {
   "cell_type": "code",
   "execution_count": 13,
   "metadata": {
    "ExecuteTime": {
     "end_time": "2022-10-22T10:08:27.267615Z",
     "start_time": "2022-10-22T10:08:25.865313Z"
    }
   },
   "outputs": [],
   "source": [
    "out = net.grat(dglgraph, dglgraph.ndata['feat']).squeeze(1)"
   ]
  },
  {
   "cell_type": "code",
   "execution_count": 14,
   "metadata": {
    "ExecuteTime": {
     "end_time": "2022-10-22T10:08:29.448117Z",
     "start_time": "2022-10-22T10:08:29.433541Z"
    }
   },
   "outputs": [],
   "source": [
    "def FindMinimumTarget(G, out, threshold = 0.5):\n",
    "    \"\"\"\n",
    "    in:\n",
    "    G - networkx\n",
    "    out - probabilities from torch\n",
    "    threshold = 0.5 - umbral de infección\n",
    "    \n",
    "    \"\"\"\n",
    "    #G = graph.to_networkx()\n",
    "    \n",
    "    kMax = int(len(G.nodes()) * threshold)\n",
    "    kMin = 0\n",
    "    j = []\n",
    "    for mm in range(10):\n",
    "        print(f\"Entrando {mm} de 10\")\n",
    "        \n",
    "        \n",
    "        _, Infected = torch.topk(out, kMax)\n",
    "        \n",
    "        # Anexando los nodos isolados, si existen\n",
    "        Infected = list(Infected.numpy())\n",
    "        for i in nx.isolates(G):\n",
    "            Infected.append(i)\n",
    "        \n",
    "        \n",
    "        Inf, _ = CheckInfect(G, Infected, threshold)\n",
    "        \n",
    "        \n",
    "        if Inf:\n",
    "            kMax = kMax - (kMax - kMin)//2\n",
    "        else:\n",
    "            t = kMax\n",
    "            kMax = kMax + (kMax - kMin)//2\n",
    "            kMin = t\n",
    "        if (kMax - kMin) == 1:\n",
    "            break\n",
    "    #print(f\"El mejor es {kMax}\")\n",
    "    return Infected, kMax\n"
   ]
  },
  {
   "cell_type": "code",
   "execution_count": 18,
   "metadata": {
    "ExecuteTime": {
     "end_time": "2022-10-22T10:08:58.708177Z",
     "start_time": "2022-10-22T10:08:58.349634Z"
    }
   },
   "outputs": [
    {
     "name": "stderr",
     "output_type": "stream",
     "text": [
      "\r",
      "  0% (0 of 10) |                         | Elapsed Time: 0:00:00 ETA:  --:--:--"
     ]
    },
    {
     "ename": "ZeroDivisionError",
     "evalue": "division by zero",
     "output_type": "error",
     "traceback": [
      "\u001b[1;31m---------------------------------------------------------------------------\u001b[0m",
      "\u001b[1;31mZeroDivisionError\u001b[0m                         Traceback (most recent call last)",
      "\u001b[1;32m<ipython-input-18-6d0c70c515ea>\u001b[0m in \u001b[0;36m<module>\u001b[1;34m\u001b[0m\n\u001b[1;32m----> 1\u001b[1;33m \u001b[0mFindMinimumTarget\u001b[0m\u001b[1;33m(\u001b[0m\u001b[0mgraph\u001b[0m\u001b[1;33m,\u001b[0m \u001b[0mout\u001b[0m\u001b[1;33m)\u001b[0m\u001b[1;33m\u001b[0m\u001b[1;33m\u001b[0m\u001b[0m\n\u001b[0m",
      "\u001b[1;32m<ipython-input-14-71b5ff281fc7>\u001b[0m in \u001b[0;36mFindMinimumTarget\u001b[1;34m(graph, out)\u001b[0m\n\u001b[0;32m      8\u001b[0m         \u001b[0m_\u001b[0m\u001b[1;33m,\u001b[0m \u001b[0mInfected\u001b[0m \u001b[1;33m=\u001b[0m \u001b[0mtorch\u001b[0m\u001b[1;33m.\u001b[0m\u001b[0mtopk\u001b[0m\u001b[1;33m(\u001b[0m\u001b[0mout\u001b[0m\u001b[1;33m,\u001b[0m \u001b[0mkMax\u001b[0m\u001b[1;33m)\u001b[0m\u001b[1;33m\u001b[0m\u001b[1;33m\u001b[0m\u001b[0m\n\u001b[0;32m      9\u001b[0m \u001b[1;33m\u001b[0m\u001b[0m\n\u001b[1;32m---> 10\u001b[1;33m         \u001b[0mInf\u001b[0m \u001b[1;33m=\u001b[0m \u001b[0mCheckInfect\u001b[0m\u001b[1;33m(\u001b[0m\u001b[0mG\u001b[0m\u001b[1;33m,\u001b[0m \u001b[0mlist\u001b[0m\u001b[1;33m(\u001b[0m\u001b[0mInfected\u001b[0m\u001b[1;33m.\u001b[0m\u001b[0mnumpy\u001b[0m\u001b[1;33m(\u001b[0m\u001b[1;33m)\u001b[0m\u001b[1;33m)\u001b[0m\u001b[1;33m,\u001b[0m \u001b[0mthreshold\u001b[0m\u001b[1;33m)\u001b[0m\u001b[1;33m\u001b[0m\u001b[1;33m\u001b[0m\u001b[0m\n\u001b[0m\u001b[0;32m     11\u001b[0m \u001b[1;33m\u001b[0m\u001b[0m\n\u001b[0;32m     12\u001b[0m         \u001b[1;32mif\u001b[0m \u001b[0mInf\u001b[0m\u001b[1;33m[\u001b[0m\u001b[1;36m0\u001b[0m\u001b[1;33m]\u001b[0m\u001b[1;33m:\u001b[0m\u001b[1;33m\u001b[0m\u001b[1;33m\u001b[0m\u001b[0m\n",
      "\u001b[1;32m<ipython-input-16-e02d76f91fd0>\u001b[0m in \u001b[0;36mCheckInfect\u001b[1;34m(G, Infected, threshold)\u001b[0m\n\u001b[0;32m     18\u001b[0m                 \u001b[0mNeighborsInfedted\u001b[0m \u001b[1;33m=\u001b[0m \u001b[1;33m[\u001b[0m\u001b[0mv\u001b[0m \u001b[1;32mfor\u001b[0m \u001b[0mv\u001b[0m \u001b[1;32min\u001b[0m \u001b[0mTotalNeighbors\u001b[0m \u001b[1;32mif\u001b[0m \u001b[0mv\u001b[0m \u001b[1;32min\u001b[0m \u001b[0mInfected\u001b[0m\u001b[1;33m]\u001b[0m\u001b[1;33m\u001b[0m\u001b[1;33m\u001b[0m\u001b[0m\n\u001b[0;32m     19\u001b[0m \u001b[1;33m\u001b[0m\u001b[0m\n\u001b[1;32m---> 20\u001b[1;33m                 \u001b[0mratio\u001b[0m \u001b[1;33m=\u001b[0m \u001b[0mlen\u001b[0m\u001b[1;33m(\u001b[0m\u001b[0mNeighborsInfedted\u001b[0m\u001b[1;33m)\u001b[0m\u001b[1;33m/\u001b[0m\u001b[0mlen\u001b[0m\u001b[1;33m(\u001b[0m\u001b[0mTotalNeighbors\u001b[0m\u001b[1;33m)\u001b[0m\u001b[1;33m\u001b[0m\u001b[1;33m\u001b[0m\u001b[0m\n\u001b[0m\u001b[0;32m     21\u001b[0m                 \u001b[1;32mif\u001b[0m \u001b[0mratio\u001b[0m \u001b[1;33m>\u001b[0m \u001b[0mthreshold\u001b[0m\u001b[1;33m:\u001b[0m\u001b[1;33m\u001b[0m\u001b[1;33m\u001b[0m\u001b[0m\n\u001b[0;32m     22\u001b[0m                     \u001b[0mInfected\u001b[0m\u001b[1;33m.\u001b[0m\u001b[0mappend\u001b[0m\u001b[1;33m(\u001b[0m\u001b[0mneighborL1\u001b[0m\u001b[1;33m)\u001b[0m\u001b[1;33m\u001b[0m\u001b[1;33m\u001b[0m\u001b[0m\n",
      "\u001b[1;31mZeroDivisionError\u001b[0m: division by zero"
     ]
    }
   ],
   "source": [
    "FindMinimumTarget(graph, out)"
   ]
  },
  {
   "cell_type": "code",
   "execution_count": 3,
   "metadata": {
    "ExecuteTime": {
     "end_time": "2022-10-22T13:38:33.995054Z",
     "start_time": "2022-10-22T13:38:33.979976Z"
    }
   },
   "outputs": [],
   "source": [
    "import os\n",
    "PATH_TO_TEST = \"../BRKGA/instances/txt/\"\n",
    "Graphs = [graph for graph in os.listdir(PATH_TO_TEST)]"
   ]
  },
  {
   "cell_type": "code",
   "execution_count": 4,
   "metadata": {
    "ExecuteTime": {
     "end_time": "2022-10-22T13:38:38.856474Z",
     "start_time": "2022-10-22T13:38:38.842457Z"
    }
   },
   "outputs": [
    {
     "data": {
      "text/plain": [
       "['Amazon0302.txt',\n",
       " 'Amazon0312.txt',\n",
       " 'Amazon0505.txt',\n",
       " 'Amazon0601.txt',\n",
       " 'com-dblp.ungraph.txt',\n",
       " 'com-youtube.ungraph.txt',\n",
       " 'deezer_HR.txt',\n",
       " 'ego-facebook.txt',\n",
       " 'gemsec_facebook_artist.txt',\n",
       " 'graph_actors_dat.txt',\n",
       " 'graph_CA-AstroPh.txt',\n",
       " 'graph_CA-CondMat.txt',\n",
       " 'graph_CA-GrQc.txt',\n",
       " 'graph_CA-HepPh.txt',\n",
       " 'graph_CA-HepTh.txt',\n",
       " 'graph_dolphins.txt',\n",
       " 'graph_Email-Enron.txt',\n",
       " 'graph_football.txt',\n",
       " 'graph_jazz.txt',\n",
       " 'graph_karate.txt',\n",
       " 'graph_ncstrlwg2.txt',\n",
       " 'loc-gowalla_edges.txt',\n",
       " 'musae_git.txt',\n",
       " 'soc-gplus.txt',\n",
       " 'socfb-Brandeis99.txt',\n",
       " 'socfb-Mich67.txt',\n",
       " 'socfb-nips-ego.txt']"
      ]
     },
     "execution_count": 4,
     "metadata": {},
     "output_type": "execute_result"
    }
   ],
   "source": [
    "Graphs"
   ]
  },
  {
   "cell_type": "code",
   "execution_count": 5,
   "metadata": {
    "ExecuteTime": {
     "end_time": "2022-10-22T13:41:33.143032Z",
     "start_time": "2022-10-22T13:41:33.136408Z"
    }
   },
   "outputs": [],
   "source": [
    "Graphs_short = [\n",
    " 'ego-facebook.txt',\n",
    " 'gemsec_facebook_artist.txt',\n",
    " 'graph_actors_dat.txt',\n",
    " 'graph_CA-AstroPh.txt',\n",
    " 'graph_CA-CondMat.txt',\n",
    " 'graph_CA-GrQc.txt',\n",
    " 'graph_CA-HepPh.txt',\n",
    " 'graph_CA-HepTh.txt',\n",
    " 'graph_dolphins.txt',\n",
    " 'graph_Email-Enron.txt',\n",
    " 'graph_football.txt',\n",
    " 'graph_jazz.txt',\n",
    " 'graph_karate.txt',\n",
    " 'graph_ncstrlwg2.txt',\n",
    " \n",
    " 'musae_git.txt',\n",
    " 'soc-gplus.txt',\n",
    " 'socfb-Brandeis99.txt',\n",
    " 'socfb-Mich67.txt',\n",
    " 'socfb-nips-ego.txt']\n",
    "\n",
    "Graphs_Large = ['Amazon0302.txt',\n",
    " 'Amazon0312.txt',\n",
    " 'Amazon0505.txt',\n",
    " 'Amazon0601.txt',\n",
    " 'com-youtube.ungraph.txt',\n",
    " 'com-dblp.ungraph.txt',\n",
    " 'loc-gowalla_edges.txt',\n",
    " 'deezer_HR.txt']"
   ]
  },
  {
   "cell_type": "code",
   "execution_count": null,
   "metadata": {},
   "outputs": [],
   "source": []
  },
  {
   "cell_type": "code",
   "execution_count": 14,
   "metadata": {
    "ExecuteTime": {
     "end_time": "2022-10-29T12:22:39.386809Z",
     "start_time": "2022-10-29T12:22:39.322974Z"
    }
   },
   "outputs": [],
   "source": [
    "n = 500\n",
    "while True:\n",
    "    G = nx.erdos_renyi_graph(n, 0.2, directed = False)\n",
    "    AllConected = True if len([i for i in nx.connected_components(G)]) == 1 else False\n",
    "    if AllConected:\n",
    "        break\n",
    "#nx.draw(G, with_labels=1)"
   ]
  },
  {
   "cell_type": "code",
   "execution_count": 30,
   "metadata": {
    "ExecuteTime": {
     "end_time": "2022-10-29T12:41:59.283353Z",
     "start_time": "2022-10-29T12:41:59.273352Z"
    }
   },
   "outputs": [
    {
     "data": {
      "text/plain": [
       "(False, 0.002, [1])"
      ]
     },
     "execution_count": 30,
     "metadata": {},
     "output_type": "execute_result"
    }
   ],
   "source": [
    "CheckInfect(G, [1], threshold = 1)"
   ]
  },
  {
   "cell_type": "code",
   "execution_count": 6,
   "metadata": {
    "ExecuteTime": {
     "end_time": "2022-10-29T12:22:04.424026Z",
     "start_time": "2022-10-29T12:22:04.403492Z"
    }
   },
   "outputs": [],
   "source": [
    "def MDH(G, threshold = 0.5, print_ =False):\n",
    "    \"\"\"\n",
    "    Aplica la Heurística del Grado Mínimo para obtener el conjunto \n",
    "    más pequeño posible de nodos.\n",
    "    \n",
    "    In:\n",
    "    G - Grafo networkx\n",
    "    threshold = 0.5 - Umbral de infección\n",
    "    print_ = False - Mostrar avance de infección\n",
    "    \n",
    "    out:\n",
    "    solution - Conjunto mínimo encontrado de nodos infectados\n",
    "    \"\"\"\n",
    "    \n",
    "    NodesDegree = np.array(nx.degree(G))\n",
    "    Infected = [k for k in nx.isolates(G)]\n",
    "    # Si llega a existir nodos aislados, estos harán que el método sea trivial\n",
    "    # Por eso los infectados iniciales son los aislados\n",
    "    Solution = []\n",
    "    while len(NodesDegree) != 0 and len(Infected) != len(G.nodes()):\n",
    "\n",
    "        posMaxDegreeNode = np.argmax(NodesDegree.T[1])\n",
    "        MaxDegreeNode = NodesDegree[posMaxDegreeNode][0]\n",
    "\n",
    "        NodesDegree = np.delete(NodesDegree, posMaxDegreeNode, axis=0)\n",
    "\n",
    "        Solution.append(MaxDegreeNode)\n",
    "        Infected.append(MaxDegreeNode)\n",
    "            \n",
    "        InfectedTemp = []\n",
    "        while len(InfectedTemp) != len(Infected):\n",
    "            InfectedTemp = Infected.copy()\n",
    "            for Inf in InfectedTemp:\n",
    "                for neighborL1 in nx.neighbors(G, Inf):\n",
    "\n",
    "                    if neighborL1 in Infected:\n",
    "                        continue\n",
    "\n",
    "                    TotalNeighbors = [v for v in nx.neighbors(G, neighborL1)]\n",
    "                    NeighborsInfedted = [v for v in TotalNeighbors if v in Infected]\n",
    "\n",
    "                    ratio = len(NeighborsInfedted)/len(TotalNeighbors)\n",
    "                    if ratio >= threshold:\n",
    "                        Infected.append(neighborL1)\n",
    "                        NodesDegree = np.delete(NodesDegree, np.where(NodesDegree.T[0] == neighborL1)[0], axis = 0)\n",
    "        if print_:\n",
    "            print(f\"{len(Infected)/len(G.nodes()):.3f} infectado\")\n",
    "    return Solution, len(Infected)"
   ]
  },
  {
   "cell_type": "code",
   "execution_count": 19,
   "metadata": {
    "ExecuteTime": {
     "end_time": "2022-10-29T12:40:38.297905Z",
     "start_time": "2022-10-29T12:40:38.283949Z"
    }
   },
   "outputs": [],
   "source": [
    "def CheckInfect(G, Infected, threshold):\n",
    "    \"\"\"\n",
    "    Recibe Una red G, conjunto de nodos infectados y el umbral\n",
    "    Propaga la infección en la red todo lo que puede\n",
    "    Regresa verdadero si se ha infectado toda la red o\n",
    "    falso en lo contrario\n",
    "    \n",
    "    In:\n",
    "    G - grafo networkx\n",
    "    Infected - Conjunto de nodos iniciales infectados\n",
    "    threshold - Umbral de infección\n",
    "    \"\"\"\n",
    "    InfectedTemp = []\n",
    "    while len(InfectedTemp) != len(Infected):\n",
    "        InfectedTemp = Infected.copy()\n",
    "        for Inf in InfectedTemp:\n",
    "            for neighborL1 in nx.neighbors(G, Inf):\n",
    "                if neighborL1 in Infected:\n",
    "                    continue\n",
    "                \n",
    "                TotalNeighbors = [v for v in nx.neighbors(G, neighborL1)]\n",
    "                    \n",
    "                NeighborsInfedted = [v for v in TotalNeighbors if v in Infected]\n",
    "                \n",
    "                ratio = len(NeighborsInfedted)/len(TotalNeighbors)\n",
    "                if ratio >= threshold:\n",
    "                    Infected.append(neighborL1)\n",
    "    return len(Infected) == len(G.nodes()), len(Infected)/len(G.nodes()), Infected\n"
   ]
  },
  {
   "cell_type": "code",
   "execution_count": 217,
   "metadata": {
    "ExecuteTime": {
     "end_time": "2022-10-29T13:25:34.599844Z",
     "start_time": "2022-10-29T13:25:34.578806Z"
    }
   },
   "outputs": [],
   "source": [
    "def FindMinimumTarget(G, out, threshold = 0.5):\n",
    "    \"\"\"\n",
    "    in:\n",
    "    G - networkx\n",
    "    out - probabilities from torch\n",
    "    threshold = 0.5 - umbral de infección\n",
    "    \"\"\"\n",
    "    n = len(G.nodes())\n",
    "    Solution = []\n",
    "    Infected = []\n",
    "    #G = graph.to_networkx()\n",
    "    out_ = out.detach().numpy().copy()\n",
    "    for i in range(len(G.nodes())):\n",
    "\n",
    "        Inf = np.argmax(out_)\n",
    "        out_ = np.delete(out_, Inf)\n",
    "\n",
    "        if Inf not in Solution:\n",
    "            Solution.append(Inf)\n",
    "        if Inf not in Infected:\n",
    "            Infected.append(Inf)\n",
    "        Sol, P,  Infected = CheckInfect(G, Infected, threshold = threshold)\n",
    "        if Sol:\n",
    "            break\n",
    "        if i % n//6 == 0:\n",
    "            print(f\"{P:.2f} Infected\")\n",
    "    return Solution"
   ]
  },
  {
   "cell_type": "code",
   "execution_count": 45,
   "metadata": {
    "ExecuteTime": {
     "end_time": "2022-10-29T12:49:27.364816Z",
     "start_time": "2022-10-29T12:49:27.341726Z"
    },
    "collapsed": true
   },
   "outputs": [
    {
     "data": {
      "text/plain": [
       "array([-18.704893  ,  -4.415993  , -16.894844  , -13.760403  ,\n",
       "        -7.0761404 ,  -8.466249  , -13.825104  , -10.793812  ,\n",
       "         5.659068  ,  -5.469513  ,  48.132225  ,  -7.183133  ,\n",
       "        -5.18293   , -17.056873  ,  -2.6675646 , -13.847842  ,\n",
       "       -11.71733   ,  -6.393609  ,  10.274358  ,  -4.8399386 ,\n",
       "        -3.5980585 , -11.293314  , -14.819129  ,  -7.26083   ,\n",
       "       -13.85424   ,  -9.700453  ,   5.116164  ,  -3.5602603 ,\n",
       "       -11.573757  , -21.416765  , -14.193986  ,  -6.1144314 ,\n",
       "        -8.616354  ,  -3.2580562 , -15.164506  ,   6.871195  ,\n",
       "        28.402075  ,  77.513115  ,  -6.2086544 ,  -5.07298   ,\n",
       "        -9.968903  ,  16.516848  , -28.429197  ,  69.3845    ,\n",
       "        -2.2428544 ,  -7.7459545 , -13.552621  , -15.525105  ,\n",
       "       -10.04236   , -10.7674885 , -15.789352  , -15.743552  ,\n",
       "       -17.458525  , -24.605066  , -22.461376  ,  84.50481   ,\n",
       "       -10.6726675 ,  -1.4974539 , -12.87787   , -16.874802  ,\n",
       "        -7.2026052 , -12.5540905 ,  -5.9975257 , -26.467438  ,\n",
       "        -4.560685  , -12.703081  , -10.067675  , -23.74513   ,\n",
       "        -8.552022  ,  73.35336   , -26.680956  , -13.291374  ,\n",
       "        -3.3064191 ,  -9.367094  ,  -6.785245  ,  -1.8034691 ,\n",
       "        -4.3029556 , -38.605755  ,  -4.9425497 ,  -8.525874  ,\n",
       "        -7.0814533 , -14.1082735 ,  44.7834    , -20.996244  ,\n",
       "       -13.426069  ,  -8.280449  , -19.09324   ,  -6.841714  ,\n",
       "       -13.948445  , -16.152666  , -14.470122  , -24.759441  ,\n",
       "       -16.287865  , -10.486459  ,  -6.1973248 , -27.501461  ,\n",
       "        12.982125  , -11.69965   , -14.832661  , -12.840658  ,\n",
       "       -11.377962  ,  -8.382253  ,   3.7955797 , -11.620625  ,\n",
       "        -6.9184637 ,  -3.6635923 ,  -5.42293   ,  -6.5245953 ,\n",
       "       -14.304698  , -13.37836   , -20.781897  , -11.011452  ,\n",
       "       -27.81632   , -34.183395  ,  -3.7062635 , -13.039248  ,\n",
       "       -14.968751  , -17.137348  ,   4.713134  ,  -6.048398  ,\n",
       "        -8.19948   ,  -8.546999  ,  -5.808008  , -16.222479  ,\n",
       "        -9.557387  ,  -6.9130983 ,  -8.600211  , -13.660806  ,\n",
       "        -9.601298  , -13.303788  ,  49.904385  , -15.614209  ,\n",
       "       -17.22105   , -12.507     , -17.617603  , -12.618251  ,\n",
       "        -7.615906  ,  22.321129  , -15.216043  , -12.77312   ,\n",
       "        -9.299299  , 170.71857   , -10.61088   , -17.585423  ,\n",
       "        -8.024135  ,  -7.418789  , -23.504105  ,  -6.691967  ,\n",
       "        -7.1422567 , 113.439545  ,  32.548866  , -13.978578  ,\n",
       "        -5.5448647 , -16.085781  , -10.57714   , -12.846337  ,\n",
       "        -3.2859988 , -11.709368  ,  39.09068   , -17.040215  ,\n",
       "        -6.3894715 , -18.762426  , -16.279484  , -27.466494  ,\n",
       "        89.66074   , -13.133621  , -16.476885  , -14.557531  ,\n",
       "        -4.413729  ,  -7.7013445 ,  -9.651236  ,  -7.2715    ,\n",
       "       -11.943498  ,  -8.767941  ,  -9.6878195 , -20.306154  ,\n",
       "        -9.512204  ,  -6.7170324 ,  -4.0402575 , -12.803138  ,\n",
       "        -2.1510937 , -10.821588  ,  -9.099105  , -21.119574  ,\n",
       "        47.130703  , -23.242321  , -21.396843  , -11.533479  ,\n",
       "       -20.686457  , -22.644762  ,  -9.376178  , -18.258823  ,\n",
       "       -12.720716  ,  -4.8850584 , -17.442066  ,  -1.7928436 ,\n",
       "       -16.55485   ,  -8.37592   , -18.260244  ,  -4.589636  ,\n",
       "       -10.623051  ,  -3.3590972 , -21.390974  ,   6.606037  ,\n",
       "       -10.4644785 ,  -7.780216  , -25.089624  , -19.238638  ,\n",
       "        -6.568928  , -31.099419  ,  -7.0471344 , -13.648305  ,\n",
       "        -8.748779  , -11.249451  , -13.667112  , -19.235062  ,\n",
       "       -10.313819  , -14.4290695 ,  70.25463   , -16.981792  ,\n",
       "       -13.514592  , -13.412089  , -17.774372  ,  -2.3984902 ,\n",
       "       -15.564806  ,  -7.5514536 ,  37.572407  ,  -6.519427  ,\n",
       "       -10.994055  ,  37.3359    ,  57.87717   ,  -5.150373  ,\n",
       "       -15.518326  , -20.238087  ,  -5.7553806 , -23.509586  ,\n",
       "       -17.617378  , -13.325285  ,  -5.2283916 , -23.43692   ,\n",
       "         7.619917  ,  -6.0803595 ,   5.5214167 ,  -5.3837748 ,\n",
       "        -2.8941195 ,  -8.983561  ,  -5.0892525 ,  -7.0413113 ,\n",
       "       -12.604767  ,   7.6231995 , -22.589567  ,  -3.9988642 ,\n",
       "        -8.605825  , -11.33822   ,  -3.2438676 ,  -8.931538  ,\n",
       "        -7.867944  , -28.834875  , -18.55639   , -15.62402   ,\n",
       "       -11.597338  , -13.936111  ,  -8.248525  , -16.154488  ,\n",
       "       -24.642183  , -22.663897  ,  -5.962365  , -10.0968275 ,\n",
       "       -13.73083   , -15.145908  ,  19.50725   ,  -8.281353  ,\n",
       "        -5.015532  , -17.08837   , -11.811421  ,  -9.29797   ,\n",
       "        13.752362  , -13.328296  ,  41.62016   , -21.051764  ,\n",
       "        -7.7130537 ,  -7.1691875 , -11.086065  ,  82.72387   ,\n",
       "        -5.456236  , -24.259575  , -17.21928   ,  14.399072  ,\n",
       "       -12.773308  ,  28.758833  , -18.59561   ,  -3.9628136 ,\n",
       "       -23.423956  ,  -5.317236  ,  -6.9796386 ,  -7.615279  ,\n",
       "       -17.53385   ,  -5.6397395 , -19.919138  ,  75.33989   ,\n",
       "        -7.1831985 ,  33.247505  , -14.025869  ,  -6.8840723 ,\n",
       "        -5.919959  , -11.715165  , -12.435824  , -32.028957  ,\n",
       "        -5.3586645 , -22.24786   , -10.343786  ,  -8.817723  ,\n",
       "        30.76319   ,  -8.843311  , -11.451769  , -21.430117  ,\n",
       "       -18.404024  , -13.084634  , -21.242006  , -10.954744  ,\n",
       "       -15.817409  , -11.05206   , -24.820694  , -22.54634   ,\n",
       "        -9.009902  ,  -6.1435046 , -12.6433525 ,  -3.258604  ,\n",
       "        -4.773687  ,  18.52521   , -13.302573  , -11.609728  ,\n",
       "        -0.9760926 , -33.278763  ,   6.054741  ,  -6.4721165 ,\n",
       "        -6.5814466 ,  -8.197744  ,  -4.5200605 , -19.217348  ,\n",
       "       134.71605   ,  50.893585  , -20.90683   , -13.84496   ,\n",
       "        57.510277  , -29.831797  ,  -8.800847  , -12.116393  ,\n",
       "        85.19247   ,  69.56383   ,  -7.2894506 ,  89.55487   ,\n",
       "       -12.723439  , -15.346335  , -23.104805  , -14.367984  ,\n",
       "       -22.493357  ,  -6.810231  , -17.790892  ,  23.029177  ,\n",
       "        -7.0466905 ,  -3.2792735 , -27.575857  ,  31.32976   ,\n",
       "       -13.07468   ,  -8.071445  , -13.994817  ,   1.3511536 ,\n",
       "       112.5693    ,  -3.292021  ,  99.09971   ,  -5.873811  ,\n",
       "       -11.960926  ,  -9.611212  , -19.468073  ,  -7.556222  ,\n",
       "        -6.923709  , -26.773224  , -13.160676  ,  -3.853701  ,\n",
       "       -20.267582  ,  -8.9171    , -15.763145  ,  -3.7565603 ,\n",
       "        -4.066331  ,  33.310112  ,  65.88896   , -12.081756  ,\n",
       "        -2.9868484 , -10.102572  ,  -3.5203807 ,  -3.330289  ,\n",
       "       -28.177103  , -18.414846  , -17.103243  ,  44.87073   ,\n",
       "       -16.747759  ,   2.2905138 , -21.11057   , -28.763136  ,\n",
       "         3.9272668 ,  -5.849654  ,  -4.4032693 , -12.31841   ,\n",
       "        12.5531645 , -24.992386  , -11.977658  , -18.571438  ,\n",
       "       -12.580313  ,  -9.716763  ,   1.9309285 ,  -9.546629  ,\n",
       "         1.087426  ,  -4.6369944 , -11.727129  ,  19.342825  ,\n",
       "       -12.172666  ,  -0.3592217 ,  -9.818199  ,  25.512838  ,\n",
       "       -13.748591  , -14.205203  , -14.651341  , -10.593287  ,\n",
       "        -6.2468023 , -11.968286  ,  -9.013576  ,  -9.78183   ,\n",
       "       -13.159604  , -12.218246  , -14.217615  , -11.976294  ,\n",
       "       -17.486246  ,  -9.912779  , -18.583607  , -10.896598  ,\n",
       "         5.348548  , -15.639688  , -12.600364  , -13.095746  ,\n",
       "        -1.4616773 , -17.5293    ,  -6.82385   ,  -9.555334  ,\n",
       "        -4.232724  ,  -9.472949  , -11.254679  ,  -7.462595  ,\n",
       "       -13.670837  ,  23.225552  , -20.294739  ,  -5.24067   ,\n",
       "       -20.448465  , -11.205437  ,  -7.991297  ,  -5.697344  ,\n",
       "       -20.169914  ,   9.465793  ,  -7.827612  , 105.16375   ,\n",
       "        -2.9783056 , -19.869982  , -16.111362  , -30.199228  ,\n",
       "        -8.775684  , -24.541462  ,  -4.612572  ,  -4.05474   ,\n",
       "        -9.985581  , 128.89413   ,  -4.943521  ,  -7.6626253 ,\n",
       "        99.100395  ,  -8.903738  ,  23.532856  , -10.40753   ,\n",
       "        21.676195  , -15.894489  , -10.000966  ,  -8.555186  ,\n",
       "       -15.071658  ,  -7.6626806 ,  -9.118173  ,  56.975372  ,\n",
       "       130.72298   , -14.53218   ,  -5.6422644 ,  -2.3762498 ,\n",
       "        -3.4719503 ,  90.72578   ,  -7.663397  ,  -9.274728  ,\n",
       "        -4.2746882 , -12.570729  ,  -4.87994   , -10.088513  ,\n",
       "        16.345531  , -21.079222  , -12.939141  , -13.888438  ,\n",
       "       -22.954105  ,  -5.3852215 ,  -3.3310862 , -11.767091  ,\n",
       "       -14.403501  ,  -4.686245  ,  -5.6233344 ,  -7.712186  ,\n",
       "       -14.130505  , -23.352055  , -11.97713   , -12.782215  ,\n",
       "        -7.4941444 , -34.513874  , -12.5516615 , -26.359375  ,\n",
       "       -13.974691  ,  -6.300152  , -12.968795  ,  -7.877124  ,\n",
       "        -5.5236654 ,  37.091415  ,  -4.464097  , -15.406819  ,\n",
       "       -15.747097  , -19.873755  ,  -6.2884254 , -16.886108  ,\n",
       "        -8.429654  , -21.502186  , -18.317127  , -12.1946745 ,\n",
       "        16.815512  , -11.297381  , -15.729754  ,  -7.3135824 ,\n",
       "       -11.274266  , -11.584401  ,  -7.1161914 , -11.565628  ,\n",
       "       -12.580902  ,  -8.8193245 , -22.443476  ,  -2.1149323 ,\n",
       "       206.16786   , -13.162341  , -12.77353   , -15.010705  ,\n",
       "        -5.2126226 , -12.670734  , -14.810016  , -10.91872   ,\n",
       "       -13.613482  , -19.740284  , -20.646555  ,  -5.970043  ,\n",
       "         8.576828  , -19.210749  ,  -8.082555  ,  16.246634  ,\n",
       "       -13.135515  , -14.486728  , -13.548467  , -10.051105  ,\n",
       "       -14.973593  ,  59.076836  , -10.527973  ,  48.33025   ,\n",
       "        25.673563  ,  64.805466  ,  28.129889  , -16.731037  ,\n",
       "       -28.34913   , -14.672887  , -12.468758  ,  -5.1275744 ,\n",
       "         0.34573054, -12.26524   ,  -4.6766925 ,  -3.4421005 ,\n",
       "        -3.495215  , -12.894462  ,  -8.252877  ,  -8.105328  ,\n",
       "        -7.651285  , -13.769593  ,  -9.643606  , -13.161625  ,\n",
       "        -3.8865836 ,   7.446474  , -20.966803  ,  16.891012  ,\n",
       "       -16.899202  ,  -3.8156507 ,  24.399214  ,  36.893536  ,\n",
       "        -5.399722  ,  -8.861253  , -18.341085  , -14.625747  ,\n",
       "       -18.24116   ,  -4.792492  , -12.296363  , -10.036708  ,\n",
       "       -11.291607  ,   5.9569845 ,  33.96993   ,  -7.680208  ,\n",
       "        -3.5197842 , 151.7353    , -30.173185  ,   9.414011  ,\n",
       "        -7.2690783 , 148.76385   , -10.021319  ,  41.606857  ,\n",
       "       -15.976778  , -16.478739  , -17.97286   ,  -9.060351  ,\n",
       "       -16.411844  , -19.932892  ,  -9.131997  ,   5.336647  ,\n",
       "        -1.9244281 , -11.763847  , -20.34802   ,  -9.29624   ,\n",
       "       -25.009943  ,  25.016752  , -11.597714  ,  -5.65874   ,\n",
       "       -19.823034  , -15.675031  , -15.997209  , -25.634539  ,\n",
       "       -18.3049    , -13.653992  ,  -4.521758  , -12.061243  ,\n",
       "        -6.6443233 , -20.721125  , -20.65533   , -15.299208  ,\n",
       "        -7.7529764 ,  -9.984066  , -12.816449  , -13.083029  ,\n",
       "       -19.029432  ,  -6.98604   ,   2.027127  ,  -3.4944308 ,\n",
       "        -9.758647  ,  -6.7732773 ,  93.807     , -11.216225  ,\n",
       "       -10.882875  , -12.872366  , -13.9336605 ,  -9.049273  ,\n",
       "        -5.2361913 ,  -6.8740635 ,  -5.0046806 ,  -5.8862705 ,\n",
       "       -18.33633   , -17.070066  ,  -5.948309  , -15.321014  ,\n",
       "       -11.163583  , -13.4545355 , -10.804635  ,  65.75807   ,\n",
       "       -10.682536  , -13.633765  , -15.281606  ,  -8.685604  ,\n",
       "         3.6366165 ,   2.7036865 ,  -9.168251  ,  -9.674604  ,\n",
       "        -8.549256  ,  -7.6664257 ,  -9.582118  , -13.46166   ,\n",
       "        57.678204  , -12.172997  ,  -8.871704  , -27.663527  ,\n",
       "        -7.8646994 ,  -4.1876035 ,  -3.7138011 , 127.70342   ,\n",
       "       -21.74133   ,  -6.0216208 , -20.897764  ,  -4.2744412 ,\n",
       "       -17.838799  , -26.081457  , -12.712074  ,  86.03093   ,\n",
       "        -6.2666054 ,  -7.1247926 ,  -7.234737  ,  -4.997243  ,\n",
       "       137.04854   ,  95.32382   ,  -8.657751  ,  -7.0615377 ,\n",
       "        -9.020981  , -15.093218  ,  -5.532593  , -15.519771  ,\n",
       "       -11.791786  , -11.072915  ,  -7.380659  ,  -5.76723   ,\n",
       "        52.045757  , -15.975112  ,  -6.582222  , -16.552217  ,\n",
       "       -18.729818  , -13.186862  , -19.06006   , -23.728268  ,\n",
       "        80.21712   , -10.095707  , -24.416641  ,  -4.7674866 ,\n",
       "        -3.317161  ,  20.061258  , -12.968182  , -15.65125   ,\n",
       "        -5.1561685 ,  -6.7006693 ,  -6.345052  ,  -7.603795  ,\n",
       "       -12.644464  ,  -7.624653  , -14.472338  , -10.322487  ,\n",
       "       -28.822514  ,  -6.9250803 , -16.911285  , -14.38732   ,\n",
       "       -11.49641   ,  -7.2794943 ,  -5.7210255 ,  -4.660607  ,\n",
       "       -17.883654  ,  -9.93525   , -11.012275  , -13.0919485 ,\n",
       "       -21.064426  , -11.286698  , -12.009399  ,  -7.867367  ,\n",
       "       -10.310369  , -20.955593  , -16.860561  , -14.754925  ,\n",
       "       -13.010377  , -16.179945  , -18.412422  ,  -9.806414  ,\n",
       "        -6.5552654 ,  -9.853025  , -20.121468  ,  -5.315874  ,\n",
       "       -16.911789  ,  -5.3584404 ,  72.81444   ,  -7.936655  ,\n",
       "       -17.109097  ,  -9.050176  ,  -7.8284836 , -11.790503  ,\n",
       "        -7.786813  , -20.35069   , -14.137074  , -23.911097  ,\n",
       "        -9.878933  , -14.672593  ,  -4.4652824 , -22.37056   ,\n",
       "        60.336018  , -11.307033  ,   9.793566  ,  15.120555  ,\n",
       "       -20.187511  ,  -7.7114697 , -13.316578  ,  -1.4501269 ,\n",
       "       -16.4767    ,  -4.166864  , -14.337435  ,   3.9929545 ,\n",
       "       -21.996592  ,  83.80651   ,  -5.460161  ,  -3.9130123 ,\n",
       "        -6.572312  ,  -7.1484737 , -12.899422  ,  -9.736101  ,\n",
       "       -11.482778  , -23.496788  , -28.98858   , -13.196975  ,\n",
       "       -10.721398  ,  -7.7339544 , -15.083345  ,  35.9828    ,\n",
       "       172.63937   , -10.5851145 ,  -4.7266574 , -21.023148  ,\n",
       "       -13.181166  ,  -7.41232   , -18.164417  ,  -8.417371  ,\n",
       "       -25.220352  , -20.425922  , -13.519729  , -18.856041  ,\n",
       "        -6.131142  ,  -3.9894924 ,  42.266846  , 133.69858   ,\n",
       "       -10.098396  ,  -5.921422  , -24.392101  , -19.643114  ,\n",
       "         2.9942768 ,  -8.8701515 ,  -9.188543  , -22.511309  ,\n",
       "       -17.470488  ,  10.322895  ,  -6.352533  , -11.825492  ,\n",
       "       -13.329257  ,  -4.4218    , -29.789385  , -21.901743  ,\n",
       "       -12.357648  , -13.204756  , -16.95578   ,  -5.7506638 ,\n",
       "        -5.639817  ,  10.470455  ,  -6.145802  ,  -7.377013  ,\n",
       "       -10.532225  ,   2.7444713 , -14.184639  , -10.523885  ,\n",
       "        42.181835  , -15.773961  ,  -9.912336  , -21.504961  ,\n",
       "       -11.002222  ,   3.9939806 ,  -8.1819725 , -16.79669   ,\n",
       "       -11.573238  ,  -3.9797587 ,  -8.956963  ,  -6.3104477 ,\n",
       "        94.55438   ,  -1.6425545 ,  -7.7364416 ,  -4.1422343 ,\n",
       "       -10.073851  ,   3.2292945 ,  -2.1970217 , -14.637649  ,\n",
       "       -15.189959  , -17.516264  ,  -2.5388196 ,   0.64985776,\n",
       "       -16.794397  , -13.391976  , 126.217964  , -15.693788  ,\n",
       "       -12.353276  ,  51.201504  , -11.212193  ,  -8.976892  ,\n",
       "       -22.586777  , -10.910385  , -11.730813  ,  -9.125289  ,\n",
       "       -14.079138  , 101.54396   ,  -3.2349772 , -21.149012  ,\n",
       "        -8.252675  , -15.921293  , 182.45332   , -20.265871  ,\n",
       "       -24.08762   , -22.232971  ,  -5.1564465 ,  -1.7840931 ,\n",
       "        -2.9090238 , -10.199583  , -14.447354  ,  43.173504  ,\n",
       "        66.690834  ,  54.617092  , -14.70058   ,  -5.171066  ,\n",
       "       -11.207993  ,  -9.480789  ,  -4.0745325 ,  -8.22813   ,\n",
       "       -15.863348  ,  -3.1875253 ,  -6.6154566 ,  -2.3663704 ,\n",
       "        14.577098  ,  -9.723705  , -18.18662   ,   2.1660354 ,\n",
       "       -13.156217  , -11.544747  ,  16.899574  ,  -7.6476574 ,\n",
       "        -5.4918985 , -14.8668785 , -12.257217  ,  -9.305132  ,\n",
       "        -9.8466625 , -10.76156   ,  -4.930646  ,  51.489185  ,\n",
       "       -18.971317  , -12.177911  , -12.00661   ,  -8.738974  ,\n",
       "       -14.66879   ,  26.234648  ,  -8.903062  ,  -8.304561  ,\n",
       "       -22.345394  ,  -6.5032372 , 116.38149   , -11.1585245 ,\n",
       "       -13.62911   ,  -5.7458925 , -14.594744  , -10.263501  ,\n",
       "       -12.123526  , -10.664048  , -12.785859  ,  -8.775793  ,\n",
       "       -29.596823  ,  -6.3281765 ,  -6.9855957 ,   8.8483515 ,\n",
       "       -19.092432  , -12.492105  , -19.306751  ,  -6.1693783 ,\n",
       "        -7.584053  , -11.945966  , -15.187943  , -22.664186  ,\n",
       "        -8.4858465 , -16.199068  ,  -4.1094694 ,  -7.3512516 ,\n",
       "       -17.929937  , -17.1004    , -12.00198   ,  -9.84254   ,\n",
       "        -5.5803814 ,  77.99092   ,  -8.590767  , -11.464108  ,\n",
       "        -9.610377  , -12.46075   ,  35.518723  ,  -7.9364576 ,\n",
       "         9.288217  , -14.139405  , -18.578411  , -25.358305  ,\n",
       "        -7.3868666 , -11.407049  , -11.040521  , -11.799058  ,\n",
       "        44.47486   ,   6.3277845 , 115.16941   , -10.61782   ,\n",
       "        -8.6690035 ,  -4.750414  ,  -9.383521  ], dtype=float32)"
      ]
     },
     "execution_count": 45,
     "metadata": {},
     "output_type": "execute_result"
    }
   ],
   "source": [
    "D = out.detach().numpy()\n",
    "np.delete(D, 0)"
   ]
  },
  {
   "cell_type": "code",
   "execution_count": 160,
   "metadata": {
    "ExecuteTime": {
     "end_time": "2022-10-29T13:09:14.143103Z",
     "start_time": "2022-10-29T13:09:14.135540Z"
    }
   },
   "outputs": [
    {
     "data": {
      "text/plain": [
       "1667048954.1365404"
      ]
     },
     "execution_count": 160,
     "metadata": {},
     "output_type": "execute_result"
    }
   ],
   "source": [
    "import time\n",
    "time.time()"
   ]
  },
  {
   "cell_type": "code",
   "execution_count": 225,
   "metadata": {
    "ExecuteTime": {
     "end_time": "2022-10-29T13:30:42.590444Z",
     "start_time": "2022-10-29T13:26:52.852959Z"
    }
   },
   "outputs": [
    {
     "name": "stdout",
     "output_type": "stream",
     "text": [
      "0.001\n",
      "0.051\n",
      "0.096\n",
      "0.141\n",
      "0.181\n",
      "0.216\n",
      "0.256\n",
      "0.291\n",
      "0.319\n",
      "0.347\n",
      "0.366\n",
      "0.394\n",
      "0.415\n",
      "0.438\n",
      "0.453\n",
      "0.466\n",
      "0.478\n",
      "0.49\n",
      "0.504\n",
      "0.509\n",
      "Segundos: 229.72373414039612\n",
      "490\n"
     ]
    }
   ],
   "source": [
    "s = time.time()\n",
    "S = FindMinimumTarget(graph.to_networkx(), out, threshold = 0.8)\n",
    "print(f\"Segundos: {time.time() - s}\")\n",
    "print(len(S))"
   ]
  },
  {
   "cell_type": "code",
   "execution_count": 229,
   "metadata": {
    "ExecuteTime": {
     "end_time": "2022-10-29T13:37:01.197715Z",
     "start_time": "2022-10-29T13:34:13.574632Z"
    }
   },
   "outputs": [
    {
     "name": "stdout",
     "output_type": "stream",
     "text": [
      "0.001 infectado\n",
      "0.002 infectado\n",
      "0.003 infectado\n",
      "0.004 infectado\n",
      "0.005 infectado\n",
      "0.006 infectado\n",
      "0.007 infectado\n",
      "0.008 infectado\n",
      "0.009 infectado\n",
      "0.010 infectado\n",
      "0.011 infectado\n",
      "0.012 infectado\n",
      "0.013 infectado\n",
      "0.014 infectado\n",
      "0.015 infectado\n",
      "0.016 infectado\n",
      "0.017 infectado\n",
      "0.018 infectado\n",
      "0.019 infectado\n",
      "0.020 infectado\n",
      "0.021 infectado\n",
      "0.022 infectado\n",
      "0.023 infectado\n",
      "0.024 infectado\n",
      "0.025 infectado\n",
      "0.026 infectado\n",
      "0.027 infectado\n",
      "0.028 infectado\n",
      "0.029 infectado\n",
      "0.030 infectado\n",
      "0.031 infectado\n",
      "0.032 infectado\n",
      "0.033 infectado\n",
      "0.034 infectado\n",
      "0.035 infectado\n",
      "0.036 infectado\n",
      "0.037 infectado\n",
      "0.038 infectado\n",
      "0.039 infectado\n",
      "0.040 infectado\n",
      "0.041 infectado\n",
      "0.042 infectado\n",
      "0.043 infectado\n",
      "0.044 infectado\n",
      "0.045 infectado\n",
      "0.046 infectado\n",
      "0.047 infectado\n",
      "0.048 infectado\n",
      "0.049 infectado\n",
      "0.050 infectado\n",
      "0.051 infectado\n",
      "0.052 infectado\n",
      "0.053 infectado\n",
      "0.054 infectado\n",
      "0.055 infectado\n",
      "0.056 infectado\n",
      "0.057 infectado\n",
      "0.058 infectado\n",
      "0.059 infectado\n",
      "0.060 infectado\n",
      "0.061 infectado\n",
      "0.062 infectado\n",
      "0.063 infectado\n",
      "0.064 infectado\n",
      "0.065 infectado\n",
      "0.066 infectado\n",
      "0.067 infectado\n",
      "0.068 infectado\n",
      "0.069 infectado\n",
      "0.070 infectado\n",
      "0.071 infectado\n",
      "0.072 infectado\n",
      "0.073 infectado\n",
      "0.074 infectado\n",
      "0.075 infectado\n",
      "0.076 infectado\n",
      "0.077 infectado\n",
      "0.078 infectado\n",
      "0.079 infectado\n",
      "0.080 infectado\n",
      "0.081 infectado\n",
      "0.082 infectado\n",
      "0.083 infectado\n",
      "0.084 infectado\n",
      "0.085 infectado\n",
      "0.086 infectado\n",
      "0.087 infectado\n",
      "0.088 infectado\n",
      "0.089 infectado\n",
      "0.090 infectado\n",
      "0.091 infectado\n",
      "0.092 infectado\n",
      "0.093 infectado\n",
      "0.094 infectado\n",
      "0.095 infectado\n",
      "0.096 infectado\n",
      "0.097 infectado\n",
      "0.098 infectado\n",
      "0.099 infectado\n",
      "0.100 infectado\n",
      "0.101 infectado\n",
      "0.102 infectado\n",
      "0.103 infectado\n",
      "0.104 infectado\n",
      "0.105 infectado\n",
      "0.106 infectado\n",
      "0.107 infectado\n",
      "0.108 infectado\n",
      "0.109 infectado\n",
      "0.110 infectado\n",
      "0.111 infectado\n",
      "0.112 infectado\n",
      "0.113 infectado\n",
      "0.114 infectado\n",
      "0.115 infectado\n",
      "0.116 infectado\n",
      "0.117 infectado\n",
      "0.118 infectado\n",
      "0.119 infectado\n",
      "0.120 infectado\n",
      "0.121 infectado\n",
      "0.122 infectado\n",
      "0.123 infectado\n",
      "0.124 infectado\n",
      "0.125 infectado\n",
      "0.126 infectado\n",
      "0.127 infectado\n",
      "0.128 infectado\n",
      "0.129 infectado\n",
      "0.130 infectado\n",
      "0.131 infectado\n",
      "0.132 infectado\n",
      "0.133 infectado\n",
      "0.134 infectado\n",
      "0.135 infectado\n",
      "0.136 infectado\n",
      "0.137 infectado\n",
      "0.138 infectado\n",
      "0.139 infectado\n",
      "0.140 infectado\n",
      "0.141 infectado\n",
      "0.142 infectado\n",
      "0.143 infectado\n",
      "0.144 infectado\n",
      "0.145 infectado\n",
      "0.146 infectado\n",
      "0.147 infectado\n",
      "0.148 infectado\n",
      "0.149 infectado\n",
      "0.150 infectado\n",
      "0.151 infectado\n",
      "0.152 infectado\n",
      "0.153 infectado\n",
      "0.154 infectado\n",
      "0.155 infectado\n",
      "0.156 infectado\n",
      "0.157 infectado\n",
      "0.158 infectado\n",
      "0.159 infectado\n",
      "0.160 infectado\n",
      "0.161 infectado\n",
      "0.162 infectado\n",
      "0.163 infectado\n",
      "0.164 infectado\n",
      "0.165 infectado\n",
      "0.166 infectado\n",
      "0.167 infectado\n",
      "0.168 infectado\n",
      "0.169 infectado\n",
      "0.170 infectado\n",
      "0.171 infectado\n",
      "0.172 infectado\n",
      "0.173 infectado\n",
      "0.174 infectado\n",
      "0.175 infectado\n",
      "0.176 infectado\n",
      "0.177 infectado\n",
      "0.178 infectado\n",
      "0.179 infectado\n",
      "0.180 infectado\n",
      "0.181 infectado\n",
      "0.182 infectado\n",
      "0.183 infectado\n",
      "0.184 infectado\n",
      "0.185 infectado\n",
      "0.186 infectado\n",
      "0.187 infectado\n",
      "0.188 infectado\n",
      "0.189 infectado\n",
      "0.190 infectado\n",
      "0.191 infectado\n",
      "0.192 infectado\n",
      "0.193 infectado\n",
      "0.194 infectado\n",
      "0.195 infectado\n",
      "0.196 infectado\n",
      "0.197 infectado\n",
      "0.198 infectado\n",
      "0.199 infectado\n",
      "0.200 infectado\n",
      "0.201 infectado\n",
      "0.202 infectado\n",
      "0.203 infectado\n",
      "0.204 infectado\n",
      "0.205 infectado\n",
      "0.206 infectado\n",
      "0.208 infectado\n",
      "0.209 infectado\n",
      "0.210 infectado\n",
      "0.211 infectado\n",
      "0.212 infectado\n",
      "0.213 infectado\n",
      "0.214 infectado\n",
      "0.215 infectado\n",
      "0.216 infectado\n",
      "0.217 infectado\n",
      "0.218 infectado\n",
      "0.219 infectado\n",
      "0.220 infectado\n",
      "0.221 infectado\n",
      "0.222 infectado\n",
      "0.223 infectado\n",
      "0.224 infectado\n",
      "0.225 infectado\n",
      "0.226 infectado\n",
      "0.227 infectado\n",
      "0.228 infectado\n",
      "0.229 infectado\n",
      "0.230 infectado\n",
      "0.231 infectado\n",
      "0.232 infectado\n",
      "0.233 infectado\n",
      "0.234 infectado\n",
      "0.235 infectado\n",
      "0.236 infectado\n",
      "0.237 infectado\n",
      "0.238 infectado\n",
      "0.239 infectado\n",
      "0.240 infectado\n",
      "0.241 infectado\n",
      "0.242 infectado\n",
      "0.243 infectado\n",
      "0.244 infectado\n",
      "0.245 infectado\n",
      "0.246 infectado\n",
      "0.247 infectado\n",
      "0.249 infectado\n",
      "0.250 infectado\n",
      "0.251 infectado\n",
      "0.252 infectado\n",
      "0.253 infectado\n",
      "0.254 infectado\n",
      "0.255 infectado\n",
      "0.257 infectado\n",
      "0.258 infectado\n",
      "0.259 infectado\n",
      "0.260 infectado\n",
      "0.261 infectado\n",
      "0.263 infectado\n",
      "0.264 infectado\n",
      "0.265 infectado\n",
      "0.266 infectado\n",
      "0.267 infectado\n",
      "0.269 infectado\n",
      "0.270 infectado\n",
      "0.271 infectado\n",
      "0.272 infectado\n",
      "0.273 infectado\n",
      "0.274 infectado\n",
      "0.276 infectado\n",
      "0.277 infectado\n",
      "0.278 infectado\n",
      "0.280 infectado\n",
      "0.281 infectado\n",
      "0.283 infectado\n",
      "0.284 infectado\n",
      "0.285 infectado\n",
      "0.286 infectado\n",
      "0.287 infectado\n",
      "0.288 infectado\n",
      "0.289 infectado\n",
      "0.290 infectado\n",
      "0.292 infectado\n",
      "0.293 infectado\n",
      "0.294 infectado\n",
      "0.295 infectado\n",
      "0.296 infectado\n",
      "0.297 infectado\n",
      "0.299 infectado\n",
      "0.300 infectado\n",
      "0.304 infectado\n",
      "0.305 infectado\n",
      "0.306 infectado\n",
      "0.307 infectado\n",
      "0.308 infectado\n",
      "0.309 infectado\n",
      "0.310 infectado\n",
      "0.311 infectado\n",
      "0.312 infectado\n",
      "0.313 infectado\n",
      "0.314 infectado\n",
      "0.315 infectado\n",
      "0.316 infectado\n",
      "0.318 infectado\n",
      "0.320 infectado\n",
      "0.321 infectado\n",
      "0.322 infectado\n",
      "0.323 infectado\n",
      "0.324 infectado\n",
      "0.325 infectado\n",
      "0.326 infectado\n",
      "0.327 infectado\n",
      "0.329 infectado\n",
      "0.330 infectado\n",
      "0.331 infectado\n",
      "0.332 infectado\n",
      "0.333 infectado\n",
      "0.334 infectado\n",
      "0.335 infectado\n",
      "0.336 infectado\n",
      "0.337 infectado\n",
      "0.338 infectado\n",
      "0.339 infectado\n",
      "0.340 infectado\n",
      "0.341 infectado\n",
      "0.343 infectado\n",
      "0.345 infectado\n",
      "0.346 infectado\n",
      "0.347 infectado\n",
      "0.348 infectado\n",
      "0.349 infectado\n",
      "0.350 infectado\n",
      "0.351 infectado\n",
      "0.353 infectado\n",
      "0.354 infectado\n",
      "0.355 infectado\n",
      "0.356 infectado\n",
      "0.357 infectado\n",
      "0.361 infectado\n",
      "0.362 infectado\n",
      "0.363 infectado\n",
      "0.364 infectado\n",
      "0.365 infectado\n",
      "0.366 infectado\n",
      "0.368 infectado\n",
      "0.370 infectado\n",
      "0.371 infectado\n",
      "0.372 infectado\n",
      "0.373 infectado\n",
      "0.374 infectado\n",
      "0.375 infectado\n",
      "0.376 infectado\n",
      "0.377 infectado\n",
      "0.379 infectado\n",
      "0.380 infectado\n",
      "0.381 infectado\n",
      "0.382 infectado\n",
      "0.383 infectado\n",
      "0.384 infectado\n",
      "0.385 infectado\n",
      "0.387 infectado\n",
      "0.388 infectado\n",
      "0.389 infectado\n",
      "0.390 infectado\n",
      "0.391 infectado\n",
      "0.392 infectado\n",
      "0.394 infectado\n",
      "0.397 infectado\n",
      "0.398 infectado\n",
      "0.399 infectado\n",
      "0.400 infectado\n",
      "0.401 infectado\n",
      "0.402 infectado\n",
      "0.405 infectado\n",
      "0.406 infectado\n",
      "0.407 infectado\n",
      "0.410 infectado\n",
      "0.411 infectado\n",
      "0.413 infectado\n",
      "0.414 infectado\n",
      "0.415 infectado\n",
      "0.416 infectado\n",
      "0.418 infectado\n",
      "0.419 infectado\n",
      "0.420 infectado\n",
      "0.422 infectado\n",
      "0.423 infectado\n",
      "0.425 infectado\n",
      "0.427 infectado\n",
      "0.428 infectado\n",
      "0.429 infectado\n",
      "0.430 infectado\n",
      "0.431 infectado\n",
      "0.432 infectado\n",
      "0.433 infectado\n",
      "0.434 infectado\n",
      "0.435 infectado\n",
      "0.436 infectado\n",
      "0.437 infectado\n",
      "0.438 infectado\n",
      "0.439 infectado\n",
      "0.440 infectado\n",
      "0.441 infectado\n",
      "0.442 infectado\n",
      "0.443 infectado\n",
      "0.444 infectado\n",
      "0.445 infectado\n",
      "0.446 infectado\n",
      "0.447 infectado\n",
      "0.448 infectado\n",
      "0.450 infectado\n",
      "0.451 infectado\n",
      "0.452 infectado\n",
      "0.453 infectado\n",
      "0.454 infectado\n",
      "0.458 infectado\n",
      "0.460 infectado\n",
      "0.462 infectado\n",
      "0.464 infectado\n",
      "0.466 infectado\n",
      "0.468 infectado\n",
      "0.469 infectado\n",
      "0.470 infectado\n",
      "0.471 infectado\n",
      "0.472 infectado\n",
      "0.473 infectado\n",
      "0.474 infectado\n",
      "0.475 infectado\n",
      "0.476 infectado\n",
      "0.477 infectado\n",
      "0.478 infectado\n",
      "0.479 infectado\n",
      "0.480 infectado\n",
      "0.482 infectado\n",
      "0.485 infectado\n",
      "0.488 infectado\n",
      "0.489 infectado\n",
      "0.490 infectado\n",
      "0.491 infectado\n",
      "0.492 infectado\n",
      "0.495 infectado\n",
      "0.497 infectado\n",
      "0.498 infectado\n",
      "0.500 infectado\n",
      "0.502 infectado\n",
      "0.503 infectado\n",
      "0.506 infectado\n",
      "0.508 infectado\n",
      "0.509 infectado\n",
      "0.510 infectado\n",
      "0.511 infectado\n",
      "0.514 infectado\n",
      "0.515 infectado\n",
      "0.516 infectado\n",
      "0.517 infectado\n",
      "0.518 infectado\n",
      "0.519 infectado\n",
      "0.520 infectado\n",
      "0.521 infectado\n",
      "0.523 infectado\n",
      "0.526 infectado\n",
      "0.527 infectado\n",
      "0.529 infectado\n",
      "0.534 infectado\n",
      "0.535 infectado\n",
      "0.536 infectado\n",
      "0.538 infectado\n",
      "0.540 infectado\n",
      "0.543 infectado\n",
      "0.545 infectado\n",
      "0.546 infectado\n",
      "0.547 infectado\n",
      "0.549 infectado\n",
      "0.550 infectado\n",
      "0.551 infectado\n",
      "0.552 infectado\n",
      "0.554 infectado\n",
      "0.555 infectado\n",
      "0.560 infectado\n",
      "0.563 infectado\n",
      "0.565 infectado\n",
      "0.568 infectado\n",
      "0.571 infectado\n",
      "0.572 infectado\n",
      "0.574 infectado\n",
      "0.577 infectado\n",
      "0.580 infectado\n",
      "0.581 infectado\n",
      "0.585 infectado\n",
      "0.587 infectado\n",
      "0.588 infectado\n",
      "0.589 infectado\n",
      "0.590 infectado\n",
      "0.592 infectado\n",
      "0.594 infectado\n",
      "0.595 infectado\n",
      "0.598 infectado\n",
      "0.601 infectado\n",
      "0.603 infectado\n",
      "0.604 infectado\n",
      "0.605 infectado\n",
      "0.606 infectado\n",
      "0.608 infectado\n",
      "0.610 infectado\n",
      "0.612 infectado\n",
      "0.613 infectado\n",
      "0.614 infectado\n",
      "0.617 infectado\n",
      "0.619 infectado\n",
      "0.622 infectado\n",
      "0.625 infectado\n",
      "0.626 infectado\n",
      "0.628 infectado\n"
     ]
    },
    {
     "name": "stdout",
     "output_type": "stream",
     "text": [
      "0.631 infectado\n",
      "0.633 infectado\n",
      "0.635 infectado\n",
      "0.637 infectado\n",
      "0.641 infectado\n",
      "0.645 infectado\n",
      "0.646 infectado\n",
      "0.647 infectado\n",
      "0.651 infectado\n",
      "0.652 infectado\n",
      "0.656 infectado\n",
      "0.657 infectado\n",
      "0.659 infectado\n",
      "0.661 infectado\n",
      "0.663 infectado\n",
      "0.665 infectado\n",
      "0.667 infectado\n",
      "0.669 infectado\n",
      "0.672 infectado\n",
      "0.679 infectado\n",
      "0.680 infectado\n",
      "0.685 infectado\n",
      "0.687 infectado\n",
      "0.689 infectado\n",
      "0.690 infectado\n",
      "0.694 infectado\n",
      "0.698 infectado\n",
      "0.699 infectado\n",
      "0.707 infectado\n",
      "0.708 infectado\n",
      "0.713 infectado\n",
      "0.714 infectado\n",
      "0.715 infectado\n",
      "0.716 infectado\n",
      "0.720 infectado\n",
      "0.721 infectado\n",
      "0.722 infectado\n",
      "0.724 infectado\n",
      "0.726 infectado\n",
      "0.732 infectado\n",
      "0.733 infectado\n",
      "0.734 infectado\n",
      "0.736 infectado\n",
      "0.737 infectado\n",
      "0.739 infectado\n",
      "0.741 infectado\n",
      "0.742 infectado\n",
      "0.744 infectado\n",
      "0.745 infectado\n",
      "0.747 infectado\n",
      "0.750 infectado\n",
      "0.753 infectado\n",
      "0.758 infectado\n",
      "0.761 infectado\n",
      "0.763 infectado\n",
      "0.764 infectado\n",
      "0.766 infectado\n",
      "0.767 infectado\n",
      "0.769 infectado\n",
      "0.770 infectado\n",
      "0.771 infectado\n",
      "0.773 infectado\n",
      "0.774 infectado\n",
      "0.775 infectado\n",
      "0.780 infectado\n",
      "0.783 infectado\n",
      "0.787 infectado\n",
      "0.789 infectado\n",
      "0.790 infectado\n",
      "0.795 infectado\n",
      "0.796 infectado\n",
      "0.799 infectado\n",
      "0.804 infectado\n",
      "0.805 infectado\n",
      "0.809 infectado\n",
      "0.816 infectado\n",
      "0.817 infectado\n",
      "0.818 infectado\n",
      "0.820 infectado\n",
      "0.824 infectado\n",
      "0.829 infectado\n",
      "0.833 infectado\n",
      "0.838 infectado\n",
      "0.840 infectado\n",
      "0.843 infectado\n",
      "0.846 infectado\n",
      "0.848 infectado\n",
      "0.850 infectado\n",
      "0.852 infectado\n",
      "0.860 infectado\n",
      "0.865 infectado\n",
      "0.867 infectado\n",
      "0.871 infectado\n",
      "0.878 infectado\n",
      "0.881 infectado\n",
      "0.882 infectado\n",
      "0.885 infectado\n",
      "0.887 infectado\n",
      "0.890 infectado\n",
      "0.895 infectado\n",
      "0.896 infectado\n",
      "0.900 infectado\n",
      "0.905 infectado\n",
      "0.908 infectado\n",
      "0.911 infectado\n",
      "0.914 infectado\n",
      "0.916 infectado\n",
      "0.920 infectado\n",
      "0.924 infectado\n",
      "0.927 infectado\n",
      "0.930 infectado\n",
      "0.932 infectado\n",
      "0.935 infectado\n",
      "0.939 infectado\n",
      "0.943 infectado\n",
      "0.948 infectado\n",
      "0.957 infectado\n",
      "0.961 infectado\n",
      "0.968 infectado\n",
      "0.972 infectado\n",
      "0.976 infectado\n",
      "0.980 infectado\n",
      "0.983 infectado\n",
      "0.990 infectado\n",
      "0.992 infectado\n",
      "0.996 infectado\n",
      "1.000 infectado\n",
      "Segundos: 167.61557245254517\n"
     ]
    },
    {
     "data": {
      "text/plain": [
       "640"
      ]
     },
     "execution_count": 229,
     "metadata": {},
     "output_type": "execute_result"
    }
   ],
   "source": [
    "s = time.time()\n",
    "SMDH, _ = MDH(graph.to_networkx(), threshold = 0.8, print_ = True)\n",
    "print(f\"Segundos: {time.time() - s}\")\n",
    "len(SMDH)"
   ]
  },
  {
   "cell_type": "code",
   "execution_count": 211,
   "metadata": {
    "ExecuteTime": {
     "end_time": "2022-10-29T13:24:49.523202Z",
     "start_time": "2022-10-29T13:24:49.509139Z"
    }
   },
   "outputs": [],
   "source": [
    "Solution = []\n",
    "Infected = []"
   ]
  },
  {
   "cell_type": "code",
   "execution_count": 213,
   "metadata": {
    "ExecuteTime": {
     "end_time": "2022-10-29T13:24:52.318102Z",
     "start_time": "2022-10-29T13:24:52.306101Z"
    }
   },
   "outputs": [
    {
     "data": {
      "text/plain": [
       "[545]"
      ]
     },
     "execution_count": 213,
     "metadata": {},
     "output_type": "execute_result"
    }
   ],
   "source": [
    "Solution"
   ]
  },
  {
   "cell_type": "code",
   "execution_count": 212,
   "metadata": {
    "ExecuteTime": {
     "end_time": "2022-10-29T13:24:50.740678Z",
     "start_time": "2022-10-29T13:24:50.720098Z"
    }
   },
   "outputs": [
    {
     "name": "stdout",
     "output_type": "stream",
     "text": [
      "0.001\n",
      "\n",
      "1\n",
      "\n",
      "1\n"
     ]
    }
   ],
   "source": [
    "G = graph.to_networkx()\n",
    "out_ = out.detach().numpy().copy()\n",
    "#for i in range(len(G.nodes())):\n",
    "\n",
    "Inf = np.argmax(out_)\n",
    "out_ = np.delete(out_, Inf)\n",
    "\n",
    "Solution.append(Inf)\n",
    "if Inf not in Infected:\n",
    "    Infected.append(Inf)\n",
    "#print(Infected)\n",
    "Sol, P,  Infected = CheckInfect(G, Infected, threshold = 0.1)\n",
    "#print(Infected)\n",
    "if i % 50 == 0:\n",
    "    print(P)\n",
    "\n",
    "if Sol:\n",
    "    print(\"Se acabó\")\n",
    "    #break\n",
    "\n",
    "print(P)\n",
    "print()\n",
    "print(len(Solution))\n",
    "print()\n",
    "print(len(Infected))"
   ]
  },
  {
   "cell_type": "code",
   "execution_count": 216,
   "metadata": {
    "ExecuteTime": {
     "end_time": "2022-10-29T13:25:15.948476Z",
     "start_time": "2022-10-29T13:25:15.941470Z"
    }
   },
   "outputs": [
    {
     "data": {
      "text/plain": [
       "[545]"
      ]
     },
     "execution_count": 216,
     "metadata": {},
     "output_type": "execute_result"
    }
   ],
   "source": [
    "Infected"
   ]
  },
  {
   "cell_type": "code",
   "execution_count": 145,
   "metadata": {
    "ExecuteTime": {
     "end_time": "2022-10-29T13:03:09.524208Z",
     "start_time": "2022-10-29T13:03:09.505313Z"
    }
   },
   "outputs": [
    {
     "data": {
      "text/plain": [
       "382"
      ]
     },
     "execution_count": 145,
     "metadata": {},
     "output_type": "execute_result"
    }
   ],
   "source": [
    "len(Solution)"
   ]
  },
  {
   "cell_type": "code",
   "execution_count": 141,
   "metadata": {
    "ExecuteTime": {
     "end_time": "2022-10-29T13:01:22.727912Z",
     "start_time": "2022-10-29T13:01:22.706915Z"
    }
   },
   "outputs": [
    {
     "data": {
      "text/plain": [
       "Graph(num_nodes=1000, num_edges=9962,\n",
       "      ndata_schemes={'feat': Scheme(shape=(32,), dtype=torch.float32), 'degree': Scheme(shape=(), dtype=torch.float32)}\n",
       "      edata_schemes={})"
      ]
     },
     "execution_count": 141,
     "metadata": {},
     "output_type": "execute_result"
    }
   ],
   "source": [
    "dglgraph"
   ]
  },
  {
   "cell_type": "code",
   "execution_count": 151,
   "metadata": {
    "ExecuteTime": {
     "end_time": "2022-10-29T13:04:49.158514Z",
     "start_time": "2022-10-29T13:04:49.145514Z"
    }
   },
   "outputs": [
    {
     "data": {
      "text/plain": [
       "(1000,)"
      ]
     },
     "execution_count": 151,
     "metadata": {},
     "output_type": "execute_result"
    }
   ],
   "source": [
    "np.unique(Infected).shape"
   ]
  },
  {
   "cell_type": "code",
   "execution_count": 282,
   "metadata": {
    "ExecuteTime": {
     "end_time": "2022-11-05T10:39:00.915494Z",
     "start_time": "2022-11-05T10:38:54.303048Z"
    }
   },
   "outputs": [
    {
     "name": "stdout",
     "output_type": "stream",
     "text": [
      "\n",
      "Evaluation of model: GRAT, seed: 13 in GRAT_seed_13_10-15_17-40.pt\n",
      "\n",
      "Loading ../BRKGA/instances/txt/gemsec_facebook_artist.txt ...\n"
     ]
    }
   ],
   "source": [
    "import igraph\n",
    "import dgl\n",
    "import torch\n",
    "import time\n",
    "import os\n",
    "import networkx as nx\n",
    "from datetime import datetime\n",
    "import pandas as pd\n",
    "from utils import *\n",
    "from GRAT import GRAT3\n",
    "import warnings\n",
    "warnings.filterwarnings('ignore')\n",
    "import argparse\n",
    "\n",
    "\n",
    "Graphs_short = [\n",
    "    'gemsec_facebook_artist.txt']\n",
    " #'graph_ncstrlwg2.txt']\n",
    " #   'graph_karate.txt']\n",
    "\n",
    "Graphs_large = ['Amazon0302.txt',\n",
    " 'Amazon0312.txt',\n",
    " 'Amazon0505.txt',\n",
    " 'Amazon0601.txt',\n",
    " 'com-youtube.ungraph.txt',\n",
    " 'com-dblp.ungraph.txt',\n",
    " 'loc-gowalla_edges.txt',\n",
    " 'deezer_HR.txt',\n",
    " 'musae_git.txt']\n",
    "\n",
    "PATH_TO_TEST = \"../BRKGA/instances/txt/\"\n",
    "Graphs = Graphs_short\n",
    "\n",
    "PATH_SAVE_TRAINS = \"runs/\"\n",
    "PATH_SAVE_RESULTS = 'results/'\n",
    "\n",
    "NAME_SAVE_RESULTS = 'FastCover' #Change this\n",
    "\n",
    "FEATURE_TYPE = \"1\"\n",
    "HIDDEN_FEATS = [32]*6\n",
    "input_dim = 32\n",
    "use_cuda = False\n",
    "directed_test = False\n",
    "\n",
    "threshold = 0.1\n",
    "dt_string = datetime.now().strftime(\"%m-%d_%H-%M\")\n",
    "\n",
    "RUNS_LIST = [run for run in os.listdir(PATH_SAVE_TRAINS) if \".pt\" in run]\n",
    "\n",
    "SEEDS = []\n",
    "MODELS = []\n",
    "for run_name in RUNS_LIST:\n",
    "    SEEDS.append(run_name.split(\"_\")[2])\n",
    "    MODELS.append(run_name.split(\"_\")[0])\n",
    "\n",
    "\n",
    "records = []\n",
    "\n",
    "Total = len(Graphs)\n",
    "    \n",
    "for run_name, model, seed in zip(RUNS_LIST, MODELS, SEEDS):\n",
    "    print()\n",
    "    print(f\"Evaluation of model: {model}, seed: {seed} in {run_name}\")\n",
    "    print()\n",
    "    \n",
    "    if model == 'GRAT':\n",
    "        net = GRAT3(*HIDDEN_FEATS)\n",
    "        net.load_state_dict(torch.load(PATH_SAVE_TRAINS+run_name))\n",
    "    if use_cuda:\n",
    "        net.cuda()\n",
    "\n",
    "    c = 1\n",
    "    for file in Graphs:\n",
    "            print(f\"Loading {PATH_TO_TEST+file} ...\")\n",
    "            name = file.split(\".\")[0].replace(\"graph_\", \"\")\n",
    "\n",
    "            graph = igraph.Graph().Read_Edgelist(PATH_TO_TEST + file)\n",
    "\n",
    "            dglgraph = get_rev_dgl(graph, FEATURE_TYPE, input_dim, directed_test, use_cuda)\n",
    "            start_time = time.time()\n",
    "\n",
    "            out = net.grat(dglgraph, dglgraph.ndata['feat']).squeeze(1)\n",
    "            \n",
    "            G = graph.to_networkx().to_undirected()\n",
    "\n",
    "            n = len(G.nodes())\n",
    "            "
   ]
  },
  {
   "cell_type": "code",
   "execution_count": 2,
   "metadata": {
    "ExecuteTime": {
     "end_time": "2022-11-01T11:18:18.062855Z",
     "start_time": "2022-11-01T11:18:18.044056Z"
    }
   },
   "outputs": [],
   "source": [
    "def CheckInfect(G, Infected, threshold = 0.5):\n",
    "    \"\"\"\n",
    "    Recibe Una red G, conjunto de nodos infectados y el umbral\n",
    "    Propaga la infección en la red todo lo que puede\n",
    "    Regresa verdadero si se ha infectado toda la red o\n",
    "    falso en lo contrario\n",
    "    \n",
    "    In:\n",
    "    G - grafo networkx\n",
    "    Infected - Conjunto de nodos iniciales infectados\n",
    "    threshold - Umbral de infección\n",
    "    \"\"\"\n",
    "    InfectedTemp = []\n",
    "    while len(InfectedTemp) != len(Infected):\n",
    "        InfectedTemp = Infected.copy()\n",
    "        for Inf in InfectedTemp:\n",
    "            for neighborL1 in nx.neighbors(G, Inf):\n",
    "                if neighborL1 in Infected:\n",
    "                    continue\n",
    "                \n",
    "                TotalNeighbors = [v for v in nx.neighbors(G, neighborL1)]\n",
    "                    \n",
    "                NeighborsInfedted = [v for v in TotalNeighbors if v in Infected]\n",
    "                \n",
    "                ratio = len(NeighborsInfedted)/len(TotalNeighbors)\n",
    "                if ratio >= threshold:\n",
    "                    Infected.append(neighborL1)\n",
    "    return len(Infected) == len(G.nodes()), len(Infected)/len(G.nodes()), Infected"
   ]
  },
  {
   "cell_type": "code",
   "execution_count": 2,
   "metadata": {
    "ExecuteTime": {
     "end_time": "2022-11-01T10:58:40.001705Z",
     "start_time": "2022-11-01T10:58:39.984668Z"
    }
   },
   "outputs": [],
   "source": [
    "def size(V):\n",
    "    return np.dot(V, np.ones(len(V)))"
   ]
  },
  {
   "cell_type": "code",
   "execution_count": 2,
   "metadata": {
    "ExecuteTime": {
     "end_time": "2022-11-01T11:40:30.630165Z",
     "start_time": "2022-11-01T11:40:30.626237Z"
    }
   },
   "outputs": [],
   "source": [
    "from utils import FindMinimumTarget"
   ]
  },
  {
   "cell_type": "code",
   "execution_count": 3,
   "metadata": {
    "ExecuteTime": {
     "end_time": "2022-11-01T11:40:40.168387Z",
     "start_time": "2022-11-01T11:40:31.371941Z"
    }
   },
   "outputs": [
    {
     "name": "stdout",
     "output_type": "stream",
     "text": [
      "0.68 Infected\n",
      "time sol: 8.763\n",
      "Length sol: 804\n",
      "\n"
     ]
    }
   ],
   "source": [
    "s = time.time()\n",
    "Sol, _ = FindMinimumTarget(G, out, threshold = 0.5)\n",
    "print(f\"time sol: {time.time() - s:.3f}\")\n",
    "print(f\"Length sol: {len(Sol)}\")\n",
    "print()"
   ]
  },
  {
   "cell_type": "code",
   "execution_count": 31,
   "metadata": {
    "ExecuteTime": {
     "end_time": "2022-11-01T11:29:54.258506Z",
     "start_time": "2022-11-01T11:29:54.241502Z"
    }
   },
   "outputs": [
    {
     "data": {
      "text/plain": [
       "True"
      ]
     },
     "execution_count": 31,
     "metadata": {},
     "output_type": "execute_result"
    }
   ],
   "source": [
    "Temp = np.zeros(n, dtype = \"int16\")\n",
    "            \n",
    "#Temp[] = 1\n",
    "np.array(list(nx.neighbors(G, 2463))).shape[0] == 0"
   ]
  },
  {
   "cell_type": "code",
   "execution_count": 57,
   "metadata": {
    "ExecuteTime": {
     "end_time": "2022-11-01T11:39:16.377997Z",
     "start_time": "2022-11-01T11:39:08.609586Z"
    }
   },
   "outputs": [
    {
     "name": "stdout",
     "output_type": "stream",
     "text": [
      "0.68 Infected\n",
      "time sol: 7.750\n",
      "Length sol: 1004\n",
      "\n"
     ]
    }
   ],
   "source": [
    "s = time.time()\n",
    "Sol, _ = FindMinimumTarget4(G, out = None, threshold = 0.5)\n",
    "print(f\"time sol: {time.time() - s:.3f}\")\n",
    "print(f\"Length sol: {len(Sol)}\")\n",
    "print()"
   ]
  },
  {
   "cell_type": "code",
   "execution_count": 9,
   "metadata": {
    "ExecuteTime": {
     "end_time": "2022-11-01T11:19:37.978620Z",
     "start_time": "2022-11-01T11:19:37.966557Z"
    }
   },
   "outputs": [
    {
     "data": {
      "text/plain": [
       "54573"
      ]
     },
     "execution_count": 9,
     "metadata": {},
     "output_type": "execute_result"
    }
   ],
   "source": [
    "len(G.nodes())"
   ]
  },
  {
   "cell_type": "code",
   "execution_count": 38,
   "metadata": {
    "ExecuteTime": {
     "end_time": "2022-11-01T11:04:19.328447Z",
     "start_time": "2022-11-01T11:04:19.313044Z"
    }
   },
   "outputs": [
    {
     "data": {
      "text/plain": [
       "array([ 1,  6, 12, 17, 27, 29, 32, 34, 36, 37, 41, 43, 51], dtype=int64)"
      ]
     },
     "execution_count": 38,
     "metadata": {},
     "output_type": "execute_result"
    }
   ],
   "source": [
    "np.sort(np.array(Sol))"
   ]
  },
  {
   "cell_type": "code",
   "execution_count": null,
   "metadata": {},
   "outputs": [],
   "source": []
  },
  {
   "cell_type": "code",
   "execution_count": 6,
   "metadata": {
    "ExecuteTime": {
     "end_time": "2022-11-01T10:59:01.005888Z",
     "start_time": "2022-11-01T10:59:00.988375Z"
    }
   },
   "outputs": [],
   "source": [
    "AM = nx.adjacency_matrix(G).todense()\n",
    "AM = np.matrix(AM, dtype = \"int16\")"
   ]
  },
  {
   "cell_type": "code",
   "execution_count": 7,
   "metadata": {
    "ExecuteTime": {
     "end_time": "2022-11-01T10:59:01.257763Z",
     "start_time": "2022-11-01T10:59:01.244772Z"
    }
   },
   "outputs": [],
   "source": [
    "Solution = []\n",
    "n = len(G.nodes())\n",
    "Infected = np.zeros(n, dtype = \"int16\")\n",
    "Infected[[5,1,16, 40]] = 1"
   ]
  },
  {
   "cell_type": "code",
   "execution_count": 8,
   "metadata": {
    "ExecuteTime": {
     "end_time": "2022-11-01T10:59:01.544170Z",
     "start_time": "2022-11-01T10:59:01.525171Z"
    }
   },
   "outputs": [],
   "source": [
    "Num_Neighs = np.array(nx.degree(G)).T[1]\n",
    "Num_Neighs_Infected = np.zeros(n, dtype = \"int16\")\n",
    "Can_Sum = np.ones(n, dtype = \"int16\")"
   ]
  },
  {
   "cell_type": "code",
   "execution_count": 59,
   "metadata": {
    "ExecuteTime": {
     "end_time": "2022-11-01T11:10:56.692211Z",
     "start_time": "2022-11-01T11:10:19.948559Z"
    },
    "scrolled": false
   },
   "outputs": [
    {
     "name": "stdout",
     "output_type": "stream",
     "text": [
      "0.00 Infected\n",
      "0.11 Infected\n",
      "0.22 Infected\n",
      "0.35 Infected\n"
     ]
    },
    {
     "data": {
      "text/plain": [
       "13909"
      ]
     },
     "execution_count": 59,
     "metadata": {},
     "output_type": "execute_result"
    }
   ],
   "source": [
    "d, s = FindMinimumTarget4(G, out = None, threshold = 0.5)\n",
    "s"
   ]
  },
  {
   "cell_type": "code",
   "execution_count": 32,
   "metadata": {
    "ExecuteTime": {
     "end_time": "2022-11-01T11:03:50.366021Z",
     "start_time": "2022-11-01T11:03:50.238216Z"
    }
   },
   "outputs": [
    {
     "name": "stdout",
     "output_type": "stream",
     "text": [
      "0.02 Infected\n",
      "0.19 Infected\n",
      "0.82 Infected\n"
     ]
    },
    {
     "data": {
      "text/plain": [
       "14"
      ]
     },
     "execution_count": 32,
     "metadata": {},
     "output_type": "execute_result"
    }
   ],
   "source": [
    "d, s = FindMinimumTarget3(G, out = None, threshold = 0.5)\n",
    "s"
   ]
  },
  {
   "cell_type": "code",
   "execution_count": 321,
   "metadata": {
    "ExecuteTime": {
     "end_time": "2022-11-01T10:53:58.520823Z",
     "start_time": "2022-11-01T10:53:58.499803Z"
    }
   },
   "outputs": [
    {
     "name": "stdout",
     "output_type": "stream",
     "text": [
      "3\n"
     ]
    },
    {
     "data": {
      "text/plain": [
       "array([1, 0, 1, 1, 1, 0, 1, 1, 1, 1, 1, 1, 1, 1, 1, 1, 1, 1, 1, 1, 1, 1,\n",
       "       1, 1, 1, 1, 1, 1, 1, 1, 1, 1, 1, 1, 1, 1, 1, 1, 1, 1, 1, 1, 1, 1,\n",
       "       1, 1, 1, 1, 1, 1, 1, 1, 1, 1, 1, 1, 0, 1, 1, 1, 1, 1], dtype=int16)"
      ]
     },
     "execution_count": 321,
     "metadata": {},
     "output_type": "execute_result"
    }
   ],
   "source": [
    "Infected = np.zeros(n, dtype = \"int16\")\n",
    "Infected[[5,1]] = 1\n",
    "Num_Neighs_Infected = np.zeros(n, dtype = \"int16\")\n",
    "Can_Sum = np.ones(n, dtype = \"int16\")\n",
    "\n",
    "_, _, s, cs = CheckInfect4(G, Infected, Num_Neighs,Num_Neighs_Infected, Can_Sum,  n, threshold = 0.5)\n",
    "print(size(s))\n",
    "cs"
   ]
  },
  {
   "cell_type": "code",
   "execution_count": 43,
   "metadata": {
    "ExecuteTime": {
     "end_time": "2022-11-01T11:35:34.658119Z",
     "start_time": "2022-11-01T11:35:34.639057Z"
    }
   },
   "outputs": [
    {
     "data": {
      "text/plain": [
       "16926"
      ]
     },
     "execution_count": 43,
     "metadata": {},
     "output_type": "execute_result"
    }
   ],
   "source": [
    "G.remove_nodes_from(list(nx.isolates(G)))\n",
    "len(G.nodes())"
   ]
  },
  {
   "cell_type": "code",
   "execution_count": 23,
   "metadata": {
    "ExecuteTime": {
     "end_time": "2022-11-01T11:28:10.789273Z",
     "start_time": "2022-11-01T11:28:10.776028Z"
    }
   },
   "outputs": [
    {
     "data": {
      "text/plain": [
       "0"
      ]
     },
     "execution_count": 23,
     "metadata": {},
     "output_type": "execute_result"
    }
   ],
   "source": [
    "Infected = np.zeros(n, dtype = \"int16\")\n",
    "Infected[[]] = 1\n",
    "np.sum(Infected)"
   ]
  },
  {
   "cell_type": "code",
   "execution_count": 204,
   "metadata": {
    "ExecuteTime": {
     "end_time": "2022-11-01T10:38:35.472369Z",
     "start_time": "2022-11-01T10:38:35.460361Z"
    }
   },
   "outputs": [],
   "source": [
    "threshold = 0.1\n",
    "Infected = np.zeros(n, dtype = \"int16\")\n",
    "Infected[[5]] = 1\n",
    "Num_Neighs_Infected = np.zeros(n, dtype = \"int16\")\n",
    "Can_Sum = np.ones(n, dtype = \"int16\")"
   ]
  },
  {
   "cell_type": "code",
   "execution_count": 51,
   "metadata": {
    "ExecuteTime": {
     "end_time": "2022-11-01T11:38:20.659144Z",
     "start_time": "2022-11-01T11:38:20.648062Z"
    }
   },
   "outputs": [],
   "source": [
    "def FindMinimumTarget4(G, out = None, threshold = 0.5):\n",
    "    \"\"\"\n",
    "    in:\n",
    "    G - networkx\n",
    "    out - probabilities from torch\n",
    "    threshold = 0.5 - umbral de infección\n",
    "    if out = None --> MDH\n",
    "    \"\"\"\n",
    "    #G.remove_nodes_from(list(nx.isolates(G)))\n",
    "    \n",
    "    Solution = []#list(nx.isolates(G))\n",
    "    n = len(G.nodes())\n",
    "    Isolates = list(nx.isolates(G))\n",
    "    \n",
    "    Num_Neighs = np.array(nx.degree(G)).T[1]\n",
    "    Num_Neighs_Infected = np.zeros(n, dtype = \"int16\")\n",
    "    Can_Sum = np.ones(n, dtype = \"int16\")\n",
    "    \n",
    "    Can_Sum[Isolates] = 0\n",
    "    \n",
    "    Infected = np.zeros(n, dtype = \"int16\")\n",
    "    Infected[Isolates] = 1\n",
    "    \n",
    "    if out == None:\n",
    "        out_ = Num_Neighs.copy()\n",
    "    else:\n",
    "        out_ = out.detach().numpy().copy()\n",
    "    \n",
    "    #G = graph.to_networkx()\n",
    "    for i in range(n):\n",
    "\n",
    "        Inf = np.argmax(out_)\n",
    "        out_ = np.delete(out_, Inf)\n",
    "\n",
    "        if Infected[Inf] == 1:\n",
    "            continue\n",
    "        \n",
    "        Solution.append(Inf)\n",
    "        Infected[Inf] = 1\n",
    "        \n",
    "        Sol, P, Infected, Can_Sum = CheckInfect4(G, Infected, Num_Neighs, Num_Neighs_Infected, Can_Sum, n,  threshold = threshold)\n",
    "        #print(Can_Sum)\n",
    "        #Infected = list(Infected)\n",
    "        \n",
    "        if Sol:\n",
    "            break\n",
    "        if i % (n//10) == 0:\n",
    "            print(f\"{P:.2f} Infected\")\n",
    "    #gc.collect()\n",
    "    \n",
    "    return Solution, len(Solution)"
   ]
  },
  {
   "cell_type": "code",
   "execution_count": 52,
   "metadata": {
    "ExecuteTime": {
     "end_time": "2022-11-01T11:38:21.891011Z",
     "start_time": "2022-11-01T11:38:21.875995Z"
    }
   },
   "outputs": [],
   "source": [
    "def CheckInfect4(G, Infected, Num_Neighs, Num_Neighs_Infected, Can_Sum, n, threshold = 0.5):    \n",
    "#Infected = np.zeros(n, dtype = \"int16\")\n",
    "#Infected[Init] = 1\n",
    "\n",
    "\n",
    "    InfectedTemp = np.array([])\n",
    "\n",
    "    #\"\"\"\n",
    "    #print(Can_Sum)\n",
    "    #print(Num_Neighs)\n",
    "    while size(InfectedTemp) != size(Infected):\n",
    "        InfectedTemp = Infected.copy()\n",
    "\n",
    "        for Inf in np.where((Infected * Can_Sum) == 1)[0]:\n",
    "            #print(f\"Nodo inf act {Inf}\")\n",
    "            N_ = np.array(list(nx.neighbors(G, Inf)))\n",
    "            Can_Sum[Inf] = 0\n",
    "            if N_.shape[0] == 0:\n",
    "                continue\n",
    "            Temp = np.zeros(n, dtype = \"int16\")\n",
    "            Temp[N_] = 1\n",
    "\n",
    "            # A cada vecino del nodo infectado actual se le suma 1 si están conectados a este nodo\n",
    "            Num_Neighs_Infected += Temp\n",
    "            # El nodo infectado actual ya no puede sumar puesto ya ha sumado a todos sus vecinos un nodo infectado\n",
    "            \n",
    "            # si el número el ratio de vecinos infectados supera el umbral, dichos nodos se infectan, si no, no suma nada\n",
    "\n",
    "            Infected += (Num_Neighs_Infected/Num_Neighs >= threshold)\n",
    "\n",
    "            Infected[Infected>1]=1\n",
    "    return size(Infected) == n, size(Infected)/n, Infected, Can_Sum"
   ]
  },
  {
   "cell_type": "code",
   "execution_count": 53,
   "metadata": {
    "ExecuteTime": {
     "end_time": "2022-11-01T11:38:23.968337Z",
     "start_time": "2022-11-01T11:38:23.941336Z"
    }
   },
   "outputs": [
    {
     "ename": "NameError",
     "evalue": "name 'Can_Sum' is not defined",
     "output_type": "error",
     "traceback": [
      "\u001b[1;31m---------------------------------------------------------------------------\u001b[0m",
      "\u001b[1;31mNameError\u001b[0m                                 Traceback (most recent call last)",
      "Input \u001b[1;32mIn [53]\u001b[0m, in \u001b[0;36m<cell line: 1>\u001b[1;34m()\u001b[0m\n\u001b[1;32m----> 1\u001b[0m \u001b[43mCan_Sum\u001b[49m\n",
      "\u001b[1;31mNameError\u001b[0m: name 'Can_Sum' is not defined"
     ]
    }
   ],
   "source": [
    "Can_Sum"
   ]
  },
  {
   "cell_type": "code",
   "execution_count": 229,
   "metadata": {
    "ExecuteTime": {
     "end_time": "2022-11-01T10:40:35.437874Z",
     "start_time": "2022-11-01T10:40:35.425895Z"
    }
   },
   "outputs": [
    {
     "data": {
      "text/plain": [
       "array([ 6,  8,  4,  3,  1,  4,  6,  5,  6,  7,  5,  1,  1,  8, 12,  7,  6,\n",
       "        9,  7,  4,  9,  6,  1,  3,  6,  3,  3,  5,  5,  9,  5,  1,  3, 10,\n",
       "        5,  1,  7, 11,  8,  2,  8,  5,  6,  7,  4, 11,  2,  6,  1,  2,  7,\n",
       "       10,  4,  2,  7,  2,  2,  9,  1,  5,  1,  3], dtype=int16)"
      ]
     },
     "execution_count": 229,
     "metadata": {},
     "output_type": "execute_result"
    }
   ],
   "source": [
    "Num_Neighs_Infected"
   ]
  },
  {
   "cell_type": "code",
   "execution_count": 217,
   "metadata": {
    "ExecuteTime": {
     "end_time": "2022-11-01T10:39:38.406189Z",
     "start_time": "2022-11-01T10:39:38.396240Z"
    }
   },
   "outputs": [
    {
     "data": {
      "text/plain": [
       "array([7, 8, 2, 9])"
      ]
     },
     "execution_count": 217,
     "metadata": {},
     "output_type": "execute_result"
    }
   ],
   "source": [
    "Num_Neighs[list(nx.neighbors(G, 5))]"
   ]
  },
  {
   "cell_type": "code",
   "execution_count": 210,
   "metadata": {
    "ExecuteTime": {
     "end_time": "2022-11-01T10:38:42.166966Z",
     "start_time": "2022-11-01T10:38:42.147929Z"
    }
   },
   "outputs": [
    {
     "data": {
      "text/plain": [
       "array([1, 1, 1, 1], dtype=int16)"
      ]
     },
     "execution_count": 210,
     "metadata": {},
     "output_type": "execute_result"
    }
   ],
   "source": [
    "Temp[list(nx.neighbors(G, 5))]"
   ]
  },
  {
   "cell_type": "code",
   "execution_count": 211,
   "metadata": {
    "ExecuteTime": {
     "end_time": "2022-11-01T10:38:46.101256Z",
     "start_time": "2022-11-01T10:38:46.083243Z"
    }
   },
   "outputs": [
    {
     "data": {
      "text/plain": [
       "[9, 13, 56, 57]"
      ]
     },
     "execution_count": 211,
     "metadata": {},
     "output_type": "execute_result"
    }
   ],
   "source": [
    "list(nx.neighbors(G, 5))"
   ]
  },
  {
   "cell_type": "code",
   "execution_count": 213,
   "metadata": {
    "ExecuteTime": {
     "end_time": "2022-11-01T10:38:58.106761Z",
     "start_time": "2022-11-01T10:38:58.084703Z"
    }
   },
   "outputs": [
    {
     "data": {
      "text/plain": [
       "array([0, 0, 0, 0, 0, 1, 0, 0, 0, 1, 0, 0, 0, 1, 0, 0, 0, 0, 0, 0, 0, 0,\n",
       "       0, 0, 0, 0, 0, 0, 0, 0, 0, 0, 0, 0, 0, 0, 0, 0, 0, 0, 0, 0, 0, 0,\n",
       "       0, 0, 0, 0, 0, 0, 0, 0, 0, 0, 0, 0, 1, 1, 0, 0, 0, 0], dtype=int16)"
      ]
     },
     "execution_count": 213,
     "metadata": {},
     "output_type": "execute_result"
    }
   ],
   "source": [
    "Infected"
   ]
  },
  {
   "cell_type": "code",
   "execution_count": 212,
   "metadata": {
    "ExecuteTime": {
     "end_time": "2022-11-01T10:38:54.349360Z",
     "start_time": "2022-11-01T10:38:54.341305Z"
    }
   },
   "outputs": [
    {
     "data": {
      "text/plain": [
       "array([ 5,  6,  9, 13, 17, 32, 39, 41, 48, 54, 56, 57], dtype=int64)"
      ]
     },
     "execution_count": 212,
     "metadata": {},
     "output_type": "execute_result"
    }
   ],
   "source": [
    "np.where(((np.array(np.dot(AM, Infected.T))[0] / np.array(Num_Neighs)) >= threshold))[0]"
   ]
  },
  {
   "cell_type": "code",
   "execution_count": 183,
   "metadata": {
    "ExecuteTime": {
     "end_time": "2022-11-01T10:35:32.122612Z",
     "start_time": "2022-11-01T10:35:32.102600Z"
    }
   },
   "outputs": [
    {
     "data": {
      "text/plain": [
       "False"
      ]
     },
     "execution_count": 183,
     "metadata": {},
     "output_type": "execute_result"
    }
   ],
   "source": [
    "((np.array(np.dot(AM, Infected.T))[0] / np.array(Num_Neighs)) >= threshold)[0]"
   ]
  },
  {
   "cell_type": "code",
   "execution_count": null,
   "metadata": {},
   "outputs": [],
   "source": []
  },
  {
   "cell_type": "code",
   "execution_count": 22,
   "metadata": {
    "ExecuteTime": {
     "end_time": "2022-11-01T11:02:52.796669Z",
     "start_time": "2022-11-01T11:02:52.778159Z"
    }
   },
   "outputs": [],
   "source": [
    "def FindMinimumTarget3(G, out = None, threshold = 0.5):\n",
    "    \"\"\"\n",
    "    in:\n",
    "    G - networkx\n",
    "    out - probabilities from torch\n",
    "    threshold = 0.5 - umbral de infección\n",
    "    if out = None --> MDH\n",
    "    \"\"\"\n",
    "    \n",
    "    Solution = []\n",
    "    n = len(G.nodes())\n",
    "\n",
    "    \n",
    "    Infected = np.zeros(n, dtype = \"int16\")\n",
    "    \n",
    "    AM = nx.adjacency_matrix(G).todense()\n",
    "    AM = np.matrix(AM, dtype = \"int16\")\n",
    "    \n",
    "    Num_Neighs = size(AM)\n",
    "    Num_Neighs = np.array(Num_Neighs, dtype = \"int16\")\n",
    "    \n",
    "    if out == None:\n",
    "        out_ = Num_Neighs.copy()\n",
    "    else:\n",
    "        out_ = out.detach().numpy().copy()\n",
    "    \n",
    "    #G = graph.to_networkx()\n",
    "    for i in range(n):\n",
    "\n",
    "        Inf = np.argmax(out_)\n",
    "        out_ = np.delete(out_, Inf)\n",
    "\n",
    "        if Infected[Inf] == 1:\n",
    "            continue\n",
    "        \n",
    "        Solution.append(Inf)\n",
    "        Infected[Inf] = 1\n",
    "        \n",
    "        Sol, P,  Infected = CheckInfect3(G, Infected, AM, Num_Neighs, n,  threshold = threshold)\n",
    "        #Infected = list(Infected)\n",
    "        \n",
    "        if Sol:\n",
    "            break\n",
    "        if i % (n//10) == 0:\n",
    "            print(f\"{P:.2f} Infected\")\n",
    "    \n",
    "    del AM, Num_Neighs\n",
    "    gc.collect()\n",
    "    \n",
    "    return Solution, len(Solution)"
   ]
  },
  {
   "cell_type": "code",
   "execution_count": 23,
   "metadata": {
    "ExecuteTime": {
     "end_time": "2022-11-01T11:02:52.996072Z",
     "start_time": "2022-11-01T11:02:52.985536Z"
    }
   },
   "outputs": [],
   "source": [
    "def CheckInfect3(G, Infected, AM, Num_Neighs, n, threshold = 0.5):    \n",
    "    #Infected = np.zeros(n, dtype = \"int16\")\n",
    "    #Infected[Init] = 1\n",
    "    \n",
    "    InfectedTemp = np.array([])\n",
    "    #\"\"\"\n",
    "    while size(InfectedTemp) != size(Infected):\n",
    "        InfectedTemp = Infected.copy()\n",
    "        New = ((np.array(np.dot(AM, Infected.T))[0] / np.array(Num_Neighs)) >= threshold)\n",
    "        if np.all(New[0] == Infected):\n",
    "            break\n",
    "        Infected += New[0]\n",
    "        Infected[Infected>1] = 1\n",
    "        \n",
    "    return size(Infected) == n, size(Infected)/n, Infected"
   ]
  },
  {
   "cell_type": "code",
   "execution_count": 184,
   "metadata": {
    "ExecuteTime": {
     "end_time": "2022-11-01T10:35:54.331613Z",
     "start_time": "2022-11-01T10:35:54.308858Z"
    }
   },
   "outputs": [
    {
     "data": {
      "text/plain": [
       "matrix([[0, 0, 0, ..., 0, 0, 0],\n",
       "        [0, 0, 0, ..., 0, 0, 0],\n",
       "        [0, 0, 0, ..., 0, 0, 1],\n",
       "        ...,\n",
       "        [0, 0, 0, ..., 0, 0, 0],\n",
       "        [0, 0, 0, ..., 0, 0, 0],\n",
       "        [0, 0, 1, ..., 0, 0, 0]], dtype=int16)"
      ]
     },
     "execution_count": 184,
     "metadata": {},
     "output_type": "execute_result"
    }
   ],
   "source": [
    "AM"
   ]
  },
  {
   "cell_type": "code",
   "execution_count": 29,
   "metadata": {
    "ExecuteTime": {
     "end_time": "2022-10-31T22:34:11.078851Z",
     "start_time": "2022-10-31T22:34:11.054973Z"
    }
   },
   "outputs": [],
   "source": [
    "Infected = np.zeros(n)\n",
    "Infected[[1,7,34,8]] = 1"
   ]
  },
  {
   "cell_type": "code",
   "execution_count": 17,
   "metadata": {
    "ExecuteTime": {
     "end_time": "2022-10-31T18:39:06.126260Z",
     "start_time": "2022-10-31T18:39:06.113311Z"
    }
   },
   "outputs": [
    {
     "data": {
      "text/plain": [
       "2160"
      ]
     },
     "execution_count": 17,
     "metadata": {},
     "output_type": "execute_result"
    }
   ],
   "source": [
    "len(S)"
   ]
  },
  {
   "cell_type": "code",
   "execution_count": 25,
   "metadata": {
    "ExecuteTime": {
     "end_time": "2022-10-31T17:16:37.794209Z",
     "start_time": "2022-10-31T17:16:37.779763Z"
    }
   },
   "outputs": [
    {
     "data": {
      "text/plain": [
       "6396"
      ]
     },
     "execution_count": 25,
     "metadata": {},
     "output_type": "execute_result"
    }
   ],
   "source": [
    "n"
   ]
  },
  {
   "cell_type": "code",
   "execution_count": 410,
   "metadata": {
    "ExecuteTime": {
     "end_time": "2022-10-31T16:43:01.409291Z",
     "start_time": "2022-10-31T16:43:01.165711Z"
    }
   },
   "outputs": [],
   "source": [
    "AM = nx.adjacency_matrix(G).todense()\n",
    "n = len(G.nodes())\n",
    "Num_Neighs = size(AM)"
   ]
  },
  {
   "cell_type": "code",
   "execution_count": 479,
   "metadata": {
    "ExecuteTime": {
     "end_time": "2022-10-31T16:50:45.393662Z",
     "start_time": "2022-10-31T16:50:45.353657Z"
    }
   },
   "outputs": [],
   "source": [
    "AM = np.matrix(AM, dtype = \"int16\")"
   ]
  },
  {
   "cell_type": "code",
   "execution_count": 42,
   "metadata": {
    "ExecuteTime": {
     "end_time": "2022-10-31T22:45:53.506380Z",
     "start_time": "2022-10-31T22:45:53.490695Z"
    }
   },
   "outputs": [
    {
     "data": {
      "text/plain": [
       "array([  0,   2,   3,   5,   6,   7,   8,  10,  11,  12,  13,  14,  15,\n",
       "        17,  18,  19,  20,  21,  22,  24,  25,  26,  27,  28,  29,  30,\n",
       "        31,  32,  34,  36,  37,  38,  39,  40,  42,  43,  44,  45,  46,\n",
       "        47,  48,  49,  50,  51,  52,  53,  54,  55,  56,  57,  58,  59,\n",
       "        60,  61,  62,  63,  64,  66,  67,  68,  69,  70,  71,  72,  73,\n",
       "        74,  75,  76,  77,  78,  79,  80,  81,  82,  83,  84,  85,  86,\n",
       "        87,  88,  89,  91,  92,  94,  95,  96,  97,  98,  99, 100, 101,\n",
       "       102, 103, 105, 106, 107, 108, 109, 110, 111, 112, 113, 114],\n",
       "      dtype=int64)"
      ]
     },
     "execution_count": 42,
     "metadata": {},
     "output_type": "execute_result"
    }
   ],
   "source": [
    "Inf = 0\n",
    "Neighs_Inf = np.zeros(n, dtype = \"int32\")\n",
    "Neighs_Inf[list(nx.neighbors(G, Inf))] = 1\n",
    "\n",
    "np.where(Neighs_Inf ==0)[0]"
   ]
  },
  {
   "cell_type": "code",
   "execution_count": 4,
   "metadata": {
    "ExecuteTime": {
     "end_time": "2022-10-31T22:52:00.287539Z",
     "start_time": "2022-10-31T22:52:00.276076Z"
    }
   },
   "outputs": [],
   "source": [
    "def CheckInfect2(G, Init, Num_Neighs, n, threshold = 0.5):\n",
    "    \n",
    "    Infected = np.zeros(n)\n",
    "    Infected[Init] = 1\n",
    "    InfectedTemp = np.array([])\n",
    "\n",
    "\n",
    "    while size(InfectedTemp) != size(Infected):\n",
    "        InfectedTemp = Infected.copy()\n",
    "        for Inf in np.where(Infected==1)[0]:\n",
    "            \n",
    "            #Neighs_Inf = np.zeros(n, dtype = \"int32\")\n",
    "            #Neighs_Inf[list(nx.neighbors(G, Inf))] = 1\n",
    "            \n",
    "            for neighborL1 in nx.neighbors(G, Inf):\n",
    "                if Infected[neighborL1] == 1:\n",
    "                    continue\n",
    "                \n",
    "                Neighs = np.zeros(n, dtype = \"int32\")\n",
    "                Neighs[list(nx.neighbors(G, neighborL1))] = 1\n",
    "\n",
    "                Num_N_Infected = np.dot(Neighs, Infected)\n",
    "\n",
    "                ratio = Num_N_Infected/Num_Neighs[neighborL1]\n",
    "\n",
    "                if ratio >= threshold:\n",
    "                    Infected[neighborL1] = 1\n",
    "\n",
    "    return size(Infected) == n, size(Infected)/n, np.where(Infected)[0]"
   ]
  },
  {
   "cell_type": "code",
   "execution_count": 5,
   "metadata": {
    "ExecuteTime": {
     "end_time": "2022-10-31T22:52:00.992021Z",
     "start_time": "2022-10-31T22:52:00.982055Z"
    }
   },
   "outputs": [],
   "source": [
    "def FindMinimumTarget2(G, out, threshold = 0.5):\n",
    "    \"\"\"\n",
    "    in:\n",
    "    G - networkx\n",
    "    out - probabilities from torch\n",
    "    threshold = 0.5 - umbral de infección\n",
    "    \"\"\"\n",
    "    n = len(G.nodes())\n",
    "    Num_Neighs = np.array(nx.degree(G)).T[1]\n",
    "    \n",
    "    Solution = []\n",
    "    Infected = []\n",
    "    #G = graph.to_networkx()\n",
    "    out_ = out.detach().numpy().copy()\n",
    "    for i in range(len(G.nodes())):\n",
    "\n",
    "        Inf = np.argmax(out_)\n",
    "        out_ = np.delete(out_, Inf)\n",
    "\n",
    "        if Inf not in Solution:\n",
    "            Solution.append(Inf)\n",
    "        if Inf not in Infected:\n",
    "            Infected.append(Inf)\n",
    "        else:\n",
    "            continue\n",
    "        Sol, P,  Infected = CheckInfect2(G, Infected, Num_Neighs, n, threshold = threshold)\n",
    "        Infected = list(Infected)\n",
    "        if Sol:\n",
    "            break\n",
    "        if i % (n//10) == 0:\n",
    "            print(f\"{P:.2f} Infected\")\n",
    "            \n",
    "    return Solution, len(Solution)"
   ]
  },
  {
   "cell_type": "code",
   "execution_count": 6,
   "metadata": {
    "ExecuteTime": {
     "end_time": "2022-10-31T16:53:50.026025Z",
     "start_time": "2022-10-31T16:53:50.011923Z"
    }
   },
   "outputs": [],
   "source": [
    "def FindMinimumTarget3(G, out, threshold = 0.5):\n",
    "    \"\"\"\n",
    "    in:\n",
    "    G - networkx\n",
    "    out - probabilities from torch\n",
    "    threshold = 0.5 - umbral de infección\n",
    "    \"\"\"\n",
    "    n = len(G.nodes())\n",
    "    Solution = []\n",
    "    Infected = []\n",
    "    AM = nx.adjacency_matrix(G).todense()\n",
    "    AM = np.matrix(AM, dtype = \"int16\")\n",
    "    \n",
    "    Num_Neighs = size(AM)\n",
    "    Num_Neighs = np.array(Num_Neighs, dtype = \"int16\")\n",
    "    \n",
    "    #G = graph.to_networkx()\n",
    "    out_ = out.detach().numpy().copy()\n",
    "    for i in range(len(G.nodes())):\n",
    "\n",
    "        Inf = np.argmax(out_)\n",
    "        out_ = np.delete(out_, Inf)\n",
    "\n",
    "        if Inf not in Solution:\n",
    "            Solution.append(Inf)\n",
    "        if Inf not in Infected:\n",
    "            Infected.append(Inf)\n",
    "        else:\n",
    "            continue\n",
    "        Sol, P,  Infected = CheckInfect3(G, Infected, AM, Num_Neighs, n,  threshold = threshold)\n",
    "        Infected = list(Infected)\n",
    "        if Sol:\n",
    "            break\n",
    "        if i % (n//10) == 0:\n",
    "            print(f\"{P:.2f} Infected\")\n",
    "    \n",
    "    del AM, Num_Neighs\n",
    "    gc.collect()\n",
    "    \n",
    "    return Solution"
   ]
  },
  {
   "cell_type": "code",
   "execution_count": 356,
   "metadata": {
    "ExecuteTime": {
     "end_time": "2022-10-31T16:08:26.419466Z",
     "start_time": "2022-10-31T16:08:26.396605Z"
    }
   },
   "outputs": [],
   "source": [
    "def FindMinimumTarget(G, out, threshold = 0.5):\n",
    "    \"\"\"\n",
    "    in:\n",
    "    G - networkx\n",
    "    out - probabilities from torch\n",
    "    threshold = 0.5 - umbral de infección\n",
    "    \"\"\"\n",
    "    n = len(G.nodes())\n",
    "    Solution = []\n",
    "    Infected = []\n",
    "    #G = graph.to_networkx()\n",
    "    out_ = out.detach().numpy().copy()\n",
    "    for i in range(len(G.nodes())):\n",
    "\n",
    "        Inf = np.argmax(out_)\n",
    "        out_ = np.delete(out_, Inf)\n",
    "\n",
    "        if Inf not in Solution:\n",
    "            Solution.append(Inf)\n",
    "        if Inf not in Infected:\n",
    "            Infected.append(Inf)\n",
    "        else:\n",
    "            continue\n",
    "        Sol, P,  Infected = CheckInfect(G, Infected, threshold = threshold)\n",
    "        if Sol:\n",
    "            break\n",
    "        if i % 20 == 0:\n",
    "            print(f\"{P:.2f} Infected\")\n",
    "    return Solution"
   ]
  },
  {
   "cell_type": "code",
   "execution_count": 12,
   "metadata": {
    "ExecuteTime": {
     "end_time": "2022-10-31T14:47:31.680113Z",
     "start_time": "2022-10-31T14:47:17.430746Z"
    }
   },
   "outputs": [
    {
     "data": {
      "text/plain": [
       "([107], 1)"
      ]
     },
     "execution_count": 12,
     "metadata": {},
     "output_type": "execute_result"
    }
   ],
   "source": [
    "FindMinimumTarget(G, out, threshold = 0.)"
   ]
  },
  {
   "cell_type": "code",
   "execution_count": 238,
   "metadata": {
    "ExecuteTime": {
     "end_time": "2022-10-29T13:55:23.657111Z",
     "start_time": "2022-10-29T13:55:23.647593Z"
    }
   },
   "outputs": [],
   "source": [
    "n = len(G.nodes())\n",
    "Solution = []\n",
    "Infected = []"
   ]
  },
  {
   "cell_type": "code",
   "execution_count": null,
   "metadata": {},
   "outputs": [],
   "source": []
  },
  {
   "cell_type": "code",
   "execution_count": null,
   "metadata": {},
   "outputs": [],
   "source": []
  },
  {
   "cell_type": "code",
   "execution_count": 54,
   "metadata": {
    "ExecuteTime": {
     "end_time": "2022-10-29T18:21:04.506012Z",
     "start_time": "2022-10-29T18:21:04.459345Z"
    }
   },
   "outputs": [
    {
     "name": "stderr",
     "output_type": "stream",
     "text": [
      "100% (15 of 15) |########################| Elapsed Time: 0:00:00 Time:  0:00:00\n"
     ]
    },
    {
     "name": "stdout",
     "output_type": "stream",
     "text": [
      "['ER_0.pkl', 'ER_1.pkl', 'ER_10.pkl', 'ER_11.pkl', 'ER_12.pkl', 'ER_13.pkl', 'ER_14.pkl', 'ER_2.pkl', 'ER_3.pkl', 'ER_4.pkl', 'ER_5.pkl', 'ER_6.pkl', 'ER_7.pkl', 'ER_8.pkl', 'ER_9.pkl']\n"
     ]
    }
   ],
   "source": [
    "ERInstances = [graph for graph in os.listdir('data/ER_graphs/train/pkl/')]\n",
    "print(ERInstances)\n",
    "graphs = []\n",
    "names = []\n",
    "#ERInstances = [graph for graph in os.listdir('data/ER_graphs/test/pkl/')]\n",
    "\n",
    "for er in progressbar.progressbar(ERInstances):\n",
    "    graph = igraph.Graph().Read_Pickle('data/ER_graphs/train/pkl/'+er)\n",
    "    graphs.append(graph)\n",
    "    names.append(er)\n",
    "    #graph2dimacs('data/ER_graphs/train/dimacs/', graph.to_networkx(), er)"
   ]
  },
  {
   "cell_type": "code",
   "execution_count": 55,
   "metadata": {
    "ExecuteTime": {
     "end_time": "2022-10-29T18:27:26.702550Z",
     "start_time": "2022-10-29T18:21:17.484465Z"
    }
   },
   "outputs": [
    {
     "name": "stdout",
     "output_type": "stream",
     "text": [
      "Set óptimo para ER_0.pkl: 208\n",
      "Set óptimo para ER_1.pkl: 215\n",
      "Set óptimo para ER_10.pkl: 205\n",
      "Set óptimo para ER_11.pkl: 209\n",
      "Set óptimo para ER_12.pkl: 217\n",
      "Set óptimo para ER_13.pkl: 217\n",
      "Set óptimo para ER_14.pkl: 222\n",
      "Set óptimo para ER_2.pkl: 208\n",
      "Set óptimo para ER_3.pkl: 212\n",
      "Set óptimo para ER_4.pkl: 217\n",
      "Set óptimo para ER_5.pkl: 208\n",
      "Set óptimo para ER_6.pkl: 207\n",
      "Set óptimo para ER_7.pkl: 206\n",
      "Set óptimo para ER_8.pkl: 210\n",
      "Set óptimo para ER_9.pkl: 214\n"
     ]
    }
   ],
   "source": [
    "for i in range(len(graphs)):\n",
    "    S, _ = MDH(graphs[i].to_networkx(), threshold = 0.5)\n",
    "    print(f\"Set óptimo para {names[i]}: {len(S)}\")"
   ]
  },
  {
   "cell_type": "markdown",
   "metadata": {
    "ExecuteTime": {
     "end_time": "2022-10-29T18:05:59.195331Z",
     "start_time": "2022-10-29T18:05:59.188377Z"
    }
   },
   "source": [
    "## Revision del proceso de difusión"
   ]
  },
  {
   "cell_type": "code",
   "execution_count": 3,
   "metadata": {
    "ExecuteTime": {
     "end_time": "2022-11-05T11:13:53.274273Z",
     "start_time": "2022-11-05T11:13:53.254831Z"
    }
   },
   "outputs": [],
   "source": [
    "from utils import FindMinimumTarget"
   ]
  },
  {
   "cell_type": "code",
   "execution_count": 4,
   "metadata": {
    "ExecuteTime": {
     "end_time": "2022-11-05T11:13:54.404880Z",
     "start_time": "2022-11-05T11:13:54.046885Z"
    }
   },
   "outputs": [
    {
     "name": "stdout",
     "output_type": "stream",
     "text": [
      "\n",
      "Evaluation of model: GRAT, seed: 13 in GRAT_seed_13_10-15_17-40.pt\n",
      "\n",
      "Loading ../BRKGA/instances/txt/graph_ncstrlwg2.txt ...\n"
     ]
    }
   ],
   "source": [
    "Graphs_short = [\n",
    "    #'graph_actors_dat.txt']\n",
    "    #'graph_dolphins.txt']\n",
    " 'graph_ncstrlwg2.txt']\n",
    " #   'graph_karate.txt']\n",
    "\n",
    "PATH_TO_TEST = \"../BRKGA/instances/txt/\"\n",
    "Graphs = Graphs_short\n",
    "\n",
    "PATH_SAVE_TRAINS = \"runs/\"\n",
    "PATH_SAVE_RESULTS = 'results/'\n",
    "\n",
    "NAME_SAVE_RESULTS = 'FastCover' #Change this\n",
    "\n",
    "FEATURE_TYPE = \"1\"\n",
    "HIDDEN_FEATS = [32]*6\n",
    "input_dim = 32\n",
    "use_cuda = False\n",
    "directed_test = False\n",
    "\n",
    "threshold = 0.5\n",
    "dt_string = datetime.now().strftime(\"%m-%d_%H-%M\")\n",
    "\n",
    "RUNS_LIST = [run for run in os.listdir(PATH_SAVE_TRAINS) if \".pt\" in run]\n",
    "\n",
    "SEEDS = []\n",
    "MODELS = []\n",
    "for run_name in RUNS_LIST:\n",
    "    SEEDS.append(run_name.split(\"_\")[2])\n",
    "    MODELS.append(run_name.split(\"_\")[0])\n",
    "\n",
    "\n",
    "records = []\n",
    "\n",
    "Total = len(Graphs)\n",
    "    \n",
    "for run_name, model, seed in zip(RUNS_LIST, MODELS, SEEDS):\n",
    "    print()\n",
    "    print(f\"Evaluation of model: {model}, seed: {seed} in {run_name}\")\n",
    "    print()\n",
    "    \n",
    "    #if model == 'GRAT':\n",
    "    #    net = GRAT3(*HIDDEN_FEATS)\n",
    "    #    net.load_state_dict(torch.load(PATH_SAVE_TRAINS+run_name))\n",
    "    #if use_cuda:\n",
    "    #    net.cuda()\n",
    "\n",
    "    c = 1\n",
    "    for file in Graphs:\n",
    "            print(f\"Loading {PATH_TO_TEST+file} ...\")\n",
    "            name = file.split(\".\")[0].replace(\"graph_\", \"\")\n",
    "\n",
    "            graph = igraph.Graph().Read_Edgelist(PATH_TO_TEST + file)\n",
    "\n",
    "            #dglgraph = get_rev_dgl(graph, FEATURE_TYPE, input_dim, directed_test, use_cuda)\n",
    "            start_time = time.time()\n",
    "\n",
    "            #out = net.grat(dglgraph, dglgraph.ndata['feat']).squeeze(1)\n",
    "            \n",
    "            G = graph.to_networkx().to_undirected()\n",
    "\n",
    "            n = len(G.nodes())\n",
    "            "
   ]
  },
  {
   "cell_type": "code",
   "execution_count": 6,
   "metadata": {
    "ExecuteTime": {
     "end_time": "2022-11-05T11:14:05.341911Z",
     "start_time": "2022-11-05T11:14:05.326841Z"
    }
   },
   "outputs": [
    {
     "name": "stdout",
     "output_type": "stream",
     "text": [
      "[320, 106, 1570, 916, 913, 156, 1282, 347, 1719, 29, 3131, 1280, 178, 285, 289, 2800, 58, 63, 142, 3757]\n",
      "1108\n"
     ]
    }
   ],
   "source": [
    "print(S[:20])\n",
    "print(M)"
   ]
  },
  {
   "cell_type": "code",
   "execution_count": 5,
   "metadata": {
    "ExecuteTime": {
     "end_time": "2022-11-05T11:13:58.604996Z",
     "start_time": "2022-11-05T11:13:57.034874Z"
    }
   },
   "outputs": [
    {
     "name": "stdout",
     "output_type": "stream",
     "text": [
      "\n",
      "0.00 Infected\n",
      "0.27 Infected\n",
      "0.64 Infected\n",
      "0.73 Infected\n",
      "0.85 Infected\n",
      "0.89 Infected\n",
      "0.97 Infected\n",
      "1.00 Infected\n",
      "\n"
     ]
    }
   ],
   "source": [
    "S, M = FindMinimumTarget(G, out = None, threshold = 0.5)"
   ]
  },
  {
   "cell_type": "code",
   "execution_count": 332,
   "metadata": {
    "ExecuteTime": {
     "end_time": "2022-11-05T10:58:25.215539Z",
     "start_time": "2022-11-05T10:58:25.194340Z"
    }
   },
   "outputs": [],
   "source": [
    "opt = []\n",
    "with open(\"data/compare_dolphins.txt\") as f:\n",
    "    for line in f.readlines():\n",
    "        opt.append(int(line.replace(\"\\n\", \"\")))\n",
    "opt = np.array(opt)\n",
    "#opt"
   ]
  },
  {
   "cell_type": "code",
   "execution_count": 335,
   "metadata": {
    "ExecuteTime": {
     "end_time": "2022-11-05T10:58:46.507883Z",
     "start_time": "2022-11-05T10:58:44.288840Z"
    }
   },
   "outputs": [
    {
     "data": {
      "text/plain": [
       "(True,\n",
       " 1.0,\n",
       " array([1, 1, 1, ..., 1, 1, 1], dtype=int16),\n",
       " array([0, 0, 0, ..., 0, 0, 0], dtype=int16))"
      ]
     },
     "execution_count": 335,
     "metadata": {},
     "output_type": "execute_result"
    }
   ],
   "source": [
    "Solution = []#list(nx.isolates(G))\n",
    "n = len(G.nodes())\n",
    "Isolates = list(nx.isolates(G))\n",
    "\n",
    "Num_Neighs = np.array(nx.degree(G)).T[1]\n",
    "Num_Neighs_Infected = np.zeros(n, dtype = \"int16\")\n",
    "Can_Sum = np.ones(n, dtype = \"int16\")\n",
    "\n",
    "Can_Sum[Isolates] = 0\n",
    "\n",
    "Infected = np.zeros(n, dtype = \"int16\")\n",
    "Infected[Isolates] = 1\n",
    "\n",
    "Infected[S] = 1\n",
    "#Infected[opt] = 1\n",
    "\n",
    "CheckInfect(G, Infected, Num_Neighs, Num_Neighs_Infected, Can_Sum, n,  threshold = threshold)\n"
   ]
  }
 ],
 "metadata": {
  "hide_input": false,
  "kernelspec": {
   "display_name": "Python 3 (ipykernel)",
   "language": "python",
   "name": "python3"
  },
  "language_info": {
   "codemirror_mode": {
    "name": "ipython",
    "version": 3
   },
   "file_extension": ".py",
   "mimetype": "text/x-python",
   "name": "python",
   "nbconvert_exporter": "python",
   "pygments_lexer": "ipython3",
   "version": "3.8.5"
  },
  "varInspector": {
   "cols": {
    "lenName": 16,
    "lenType": 16,
    "lenVar": 40
   },
   "kernels_config": {
    "python": {
     "delete_cmd_postfix": "",
     "delete_cmd_prefix": "del ",
     "library": "var_list.py",
     "varRefreshCmd": "print(var_dic_list())"
    },
    "r": {
     "delete_cmd_postfix": ") ",
     "delete_cmd_prefix": "rm(",
     "library": "var_list.r",
     "varRefreshCmd": "cat(var_dic_list()) "
    }
   },
   "types_to_exclude": [
    "module",
    "function",
    "builtin_function_or_method",
    "instance",
    "_Feature"
   ],
   "window_display": false
  }
 },
 "nbformat": 4,
 "nbformat_minor": 4
}
