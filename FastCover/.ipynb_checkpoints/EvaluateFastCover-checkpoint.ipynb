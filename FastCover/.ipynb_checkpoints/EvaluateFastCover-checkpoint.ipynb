{
 "cells": [
  {
   "cell_type": "code",
   "execution_count": 111,
   "metadata": {
    "ExecuteTime": {
     "end_time": "2022-10-22T11:36:26.804930Z",
     "start_time": "2022-10-22T11:36:26.788893Z"
    }
   },
   "outputs": [],
   "source": [
    "import igraph\n",
    "import dgl\n",
    "import torch\n",
    "import heapq\n",
    "import time\n",
    "import pickle\n",
    "import matplotlib.pyplot as plt\n",
    "import os\n",
    "import networkx as nx\n",
    "from datetime import datetime\n",
    "import pandas as pd"
   ]
  },
  {
   "cell_type": "code",
   "execution_count": 117,
   "metadata": {
    "ExecuteTime": {
     "end_time": "2022-10-22T11:41:09.571125Z",
     "start_time": "2022-10-22T11:41:09.562600Z"
    }
   },
   "outputs": [],
   "source": [
    "PATH_SAVE_TRAINS = \"runs/\"\n",
    "\n",
    "PATH_SAVE_RESULTS = 'results/'\n",
    "NAME_SAVE_RESULTS = 'FastCover'\n",
    "\n",
    "PATH_TO_TEST = \"../BRKGA/instances/txt/\"\n",
    "\n",
    "FEATURE_TYPE = \"1\"\n",
    "HIDDEN_FEATS = [32]*6\n",
    "input_dim = 32\n",
    "use_cuda = False\n",
    "directed_test = False\n",
    "\n",
    "threshold = 0.5\n",
    "\n",
    "dt_string = datetime.now().strftime(\"%m-%d_%H-%M\")"
   ]
  },
  {
   "cell_type": "markdown",
   "metadata": {},
   "source": [
    "## Funciones"
   ]
  },
  {
   "cell_type": "code",
   "execution_count": 3,
   "metadata": {
    "ExecuteTime": {
     "end_time": "2022-10-22T10:36:21.441899Z",
     "start_time": "2022-10-22T10:36:21.414635Z"
    }
   },
   "outputs": [],
   "source": [
    "def get_rev_dgl(graph, feature_type='0', feature_dim=None, is_directed=False, use_cuda=False):\n",
    "    \"\"\"get dgl graph from igraph\n",
    "    \"\"\"\n",
    "    \n",
    "    src, dst = zip(*graph.get_edgelist())\n",
    "\n",
    "    if use_cuda:\n",
    "        dglgraph = dgl.graph((dst, src)).to(torch.device(\"cuda:0\"))\n",
    "    else:\n",
    "        dglgraph = dgl.graph((dst, src))\n",
    "        \n",
    "    if not is_directed:\n",
    "        dglgraph.add_edges(src, dst)\n",
    "\n",
    "    if use_cuda:\n",
    "        dglgraph.ndata['feat'] = FEATURE_TYPE_DICT[feature_type](graph, feature_dim).cuda()\n",
    "        dglgraph.ndata['degree'] = torch.tensor(graph.degree()).float().cuda()\n",
    "\n",
    "    else:\n",
    "        dglgraph.ndata['feat'] = FEATURE_TYPE_DICT[feature_type](graph, feature_dim)\n",
    "        dglgraph.ndata['degree'] = torch.tensor(graph.degree()).float()\n",
    "        \n",
    "    return dglgraph\n",
    "\n",
    "def gen_one_feature(graph, feature_dim):\n",
    "    \"\"\"Generate all-one features\n",
    "    \"\"\"\n",
    "    return torch.ones(graph.vcount(), feature_dim)\n",
    "\n",
    "\n",
    "FEATURE_TYPE_DICT = {\n",
    "    \"1\": gen_one_feature,\n",
    "}"
   ]
  },
  {
   "cell_type": "markdown",
   "metadata": {},
   "source": [
    "### Funciones de difusion"
   ]
  },
  {
   "cell_type": "code",
   "execution_count": 93,
   "metadata": {
    "ExecuteTime": {
     "end_time": "2022-10-22T11:20:33.122241Z",
     "start_time": "2022-10-22T11:20:33.095641Z"
    }
   },
   "outputs": [],
   "source": [
    "def MDH(G, threshold = 0.5, print_ =False):\n",
    "    \"\"\"\n",
    "    Aplica la Heurística del Grado Mínimo para obtener el conjunto \n",
    "    más pequeño posible de nodos.\n",
    "    \n",
    "    In:\n",
    "    G - Grafo networkx\n",
    "    threshold = 0.5 - Umbral de infección\n",
    "    print_ = False - Mostrar avance de infección\n",
    "    \n",
    "    out:\n",
    "    solution - Conjunto mínimo encontrado de nodos infectados\n",
    "    \"\"\"\n",
    "    \n",
    "    NodesDegree = np.array(nx.degree(G))\n",
    "    Infected = [k for k in nx.isolates(G)]\n",
    "    # Si llega a existir nodos aislados, estos harán que el método sea trivial\n",
    "    # Por eso los infectados iniciales son los aislados\n",
    "    Solution = []\n",
    "    while len(NodesDegree) != 0 and len(Infected) != len(G.nodes()):\n",
    "\n",
    "        posMaxDegreeNode = np.argmax(NodesDegree.T[1])\n",
    "        MaxDegreeNode = NodesDegree[posMaxDegreeNode][0]\n",
    "\n",
    "        NodesDegree = np.delete(NodesDegree, posMaxDegreeNode, axis=0)\n",
    "\n",
    "        Solution.append(MaxDegreeNode)\n",
    "        Infected.append(MaxDegreeNode)\n",
    "            \n",
    "        InfectedTemp = []\n",
    "        while len(InfectedTemp) != len(Infected):\n",
    "            InfectedTemp = Infected.copy()\n",
    "            for Inf in InfectedTemp:\n",
    "                for neighborL1 in nx.neighbors(G, Inf):\n",
    "\n",
    "                    if neighborL1 in Infected:\n",
    "                        continue\n",
    "\n",
    "                    TotalNeighbors = [v for v in nx.neighbors(G, neighborL1)]\n",
    "                    NeighborsInfedted = [v for v in TotalNeighbors if v in Infected]\n",
    "\n",
    "                    ratio = len(NeighborsInfedted)/len(TotalNeighbors)\n",
    "                    if ratio > threshold:\n",
    "                        Infected.append(neighborL1)\n",
    "                        NodesDegree = np.delete(NodesDegree, np.where(NodesDegree.T[0] == neighborL1)[0], axis = 0)\n",
    "        if print_:\n",
    "            print(f\"{len(Infected)/len(G.nodes()):.3f} infectado\")\n",
    "    return Solution, len(Infected)"
   ]
  },
  {
   "cell_type": "code",
   "execution_count": 33,
   "metadata": {
    "ExecuteTime": {
     "end_time": "2022-10-22T10:45:28.779193Z",
     "start_time": "2022-10-22T10:45:28.754880Z"
    }
   },
   "outputs": [],
   "source": [
    "def CheckInfect(G, Infected, threshold):\n",
    "    \"\"\"\n",
    "    Recibe Una red G, conjunto de nodos infectados y el umbral\n",
    "    Propaga la infección en la red todo lo que puede\n",
    "    Regresa verdadero si se ha infectado toda la red o\n",
    "    falso en lo contrario\n",
    "    \n",
    "    In:\n",
    "    G - grafo networkx\n",
    "    Infected - Conjunto de nodos iniciales infectados\n",
    "    threshold - Umbral de infección\n",
    "    \"\"\"\n",
    "    InfectedTemp = []\n",
    "    while len(InfectedTemp) != len(Infected):\n",
    "        InfectedTemp = Infected.copy()\n",
    "        for Inf in InfectedTemp:\n",
    "            for neighborL1 in nx.neighbors(G, Inf):\n",
    "                if neighborL1 in Infected:\n",
    "                    continue\n",
    "                \n",
    "                TotalNeighbors = [v for v in nx.neighbors(G, neighborL1)]\n",
    "                    \n",
    "                NeighborsInfedted = [v for v in TotalNeighbors if v in Infected]\n",
    "                \n",
    "                ratio = len(NeighborsInfedted)/len(TotalNeighbors)\n",
    "                if ratio > threshold:\n",
    "                    Infected.append(neighborL1)\n",
    "    return len(Infected) == len(G.nodes()), len(Infected)/len(G.nodes())"
   ]
  },
  {
   "cell_type": "code",
   "execution_count": 115,
   "metadata": {
    "ExecuteTime": {
     "end_time": "2022-10-22T11:40:03.691721Z",
     "start_time": "2022-10-22T11:40:03.670926Z"
    }
   },
   "outputs": [],
   "source": [
    "def FindMinimumTarget(G, out, threshold = 0.5):\n",
    "    \"\"\"\n",
    "    in:\n",
    "    G - networkx\n",
    "    out - probabilities from torch\n",
    "    threshold = 0.5 - umbral de infección\n",
    "    \n",
    "    \"\"\"\n",
    "    #G = graph.to_networkx()\n",
    "    \n",
    "    kMax = int(len(G.nodes()) * threshold)\n",
    "    kMin = 0\n",
    "    j = []\n",
    "    for _ in range(10):\n",
    "        \n",
    "        \n",
    "        _, Infected = torch.topk(out, kMax)\n",
    "        \n",
    "        # Anexando los nodos isolados, si existen\n",
    "        Infected = list(Infected.numpy())\n",
    "        for i in nx.isolates(G):\n",
    "            Infected.append(i)\n",
    "        \n",
    "        \n",
    "        Inf, _ = CheckInfect(G, Infected, threshold)\n",
    "        \n",
    "        \n",
    "        if Inf:\n",
    "            kMax = kMax - (kMax - kMin)//2\n",
    "        else:\n",
    "            t = kMax\n",
    "            kMax = kMax + (kMax - kMin)//2\n",
    "            kMin = t\n",
    "        if (kMax - kMin) == 1:\n",
    "            break\n",
    "    #print(f\"El mejor es {kMax}\")\n",
    "    return Infected, kMax"
   ]
  },
  {
   "cell_type": "code",
   "execution_count": null,
   "metadata": {},
   "outputs": [],
   "source": []
  },
  {
   "cell_type": "markdown",
   "metadata": {},
   "source": [
    "## GRAT"
   ]
  },
  {
   "cell_type": "code",
   "execution_count": 7,
   "metadata": {
    "ExecuteTime": {
     "end_time": "2022-10-22T10:36:45.593120Z",
     "start_time": "2022-10-22T10:36:45.560656Z"
    }
   },
   "outputs": [],
   "source": [
    "import torch\n",
    "import torch.nn as nn\n",
    "import torch.nn.functional as F\n",
    "from dgl.nn.pytorch.softmax import edge_softmax\n",
    "# Guanhao's GRAT\n",
    "class GRATLayer(nn.Module):\n",
    "    def __init__(self, in_feats, out_feats):\n",
    "        # TODO: why not another linear layer before entering the net\n",
    "        super(GRATLayer, self).__init__()\n",
    "        # linear layer\n",
    "        self.fc = nn.Linear(in_feats, out_feats, bias=True)  # bias=True in Guanhao's original code\n",
    "        \n",
    "        # attention layer\n",
    "        self.attn_fc = nn.Linear(2 * in_feats, 1, bias=True)  # bias=True in Guanhao's original code\n",
    "\n",
    "        # initialize parameters\n",
    "        # self.reset_parameters()\n",
    "\n",
    "    def reset_parameters(self):\n",
    "        gain = nn.init.calculate_gain('relu')\n",
    "        nn.init.xavier_normal_(self.fc.weight, gain=gain)\n",
    "        nn.init.xavier_normal_(self.attn_fc.weight, gain=gain)\n",
    "\n",
    "    def edge_attention(self, edges):\n",
    "        h2 = torch.cat([edges.src['h'], edges.dst['h']], dim=1)\n",
    "        a = self.attn_fc(h2)\n",
    "        return {'e': torch.relu(a)}\n",
    "\n",
    "    def message_func(self, edges):\n",
    "        return {'h': edges.src['h'] * edges.data['alpha']}  # message divided by weight\n",
    "\n",
    "    def reduce_func(self, nodes):\n",
    "        return {'h': torch.sum(nodes.mailbox['h'], dim=1)}\n",
    "\n",
    "    def forward(self, g, feature):\n",
    "        with g.local_scope():\n",
    "            g.ndata['h'] = feature\n",
    "            # Equation (2)\n",
    "            g.apply_edges(self.edge_attention)  # calculate e_{ij}\n",
    "\n",
    "            # Calculate softmax on source code -> on the reversed graph\n",
    "            rg = g.reverse(copy_ndata=False, copy_edata=True)\n",
    "            g.edata['alpha'] = edge_softmax(rg, rg.edata['e'])\n",
    "            \n",
    "            # Convolution\n",
    "            g.update_all(self.message_func, self.reduce_func)\n",
    "            \n",
    "            g.ndata['h'] = self.fc(g.ndata['h'])\n",
    "            h = g.ndata['h']\n",
    "            return h\n",
    "\n",
    "import torch.nn as nn\n",
    "\n",
    "\n",
    "class GRAT3_(nn.Module):\n",
    "    def __init__(self, in_feats, hidden_feats1, hidden_feats2, out_feats, *args):\n",
    "        super(GRAT3_, self).__init__()\n",
    "        self.grat1 = GRATLayer(in_feats, hidden_feats1)\n",
    "        self.grat2 = GRATLayer(hidden_feats1, hidden_feats2)\n",
    "        self.grat3 = GRATLayer(hidden_feats2, out_feats)\n",
    "\n",
    "    def forward(self, g, feature):\n",
    "        h = torch.relu(self.grat1(g, feature))\n",
    "        h = torch.relu(self.grat2(g, h))\n",
    "        h = self.grat3(g, h)\n",
    "        return h\n",
    "\n",
    "\n",
    "class GRAT3(nn.Module):\n",
    "    def __init__(self, in_feats, hidden_feats1, hidden_feats2, *args):\n",
    "        super(GRAT3, self).__init__()\n",
    "        self.grat = GRAT3_(in_feats, hidden_feats1, hidden_feats2, 1, *args)  # out_feats=1\n",
    "\n",
    "    def forward(self, g, feature):\n",
    "        h = self.grat(g, feature)\n",
    "        h = torch.sigmoid(h)\n",
    "        return h"
   ]
  },
  {
   "cell_type": "markdown",
   "metadata": {},
   "source": [
    "## Evaluando"
   ]
  },
  {
   "cell_type": "code",
   "execution_count": 8,
   "metadata": {
    "ExecuteTime": {
     "end_time": "2022-10-22T10:36:47.882336Z",
     "start_time": "2022-10-22T10:36:47.865584Z"
    }
   },
   "outputs": [
    {
     "name": "stdout",
     "output_type": "stream",
     "text": [
      "['GRAT_seed_13_10-15_17-40.pt']\n"
     ]
    }
   ],
   "source": [
    "RUNS_LIST = [run for run in os.listdir(PATH_SAVE_TRAINS) if \".pt\" in run]"
   ]
  },
  {
   "cell_type": "code",
   "execution_count": 86,
   "metadata": {
    "ExecuteTime": {
     "end_time": "2022-10-22T11:13:15.383227Z",
     "start_time": "2022-10-22T11:13:15.369900Z"
    }
   },
   "outputs": [],
   "source": [
    "SEEDS = []\n",
    "MODELS = []\n",
    "for run_name in RUNS_LIST:\n",
    "    SEEDS.append(run_name.split(\"_\")[2])\n",
    "    MODELS.append(run_name.split(\"_\")[0])"
   ]
  },
  {
   "cell_type": "code",
   "execution_count": 121,
   "metadata": {
    "ExecuteTime": {
     "end_time": "2022-10-22T11:47:30.036494Z",
     "start_time": "2022-10-22T11:47:19.604784Z"
    }
   },
   "outputs": [
    {
     "name": "stdout",
     "output_type": "stream",
     "text": [
      "\n",
      "Evaluation of model: GRAT, seed: 13 in GRAT_seed_13_10-15_17-40.pt\n",
      "\n",
      "Loading ../BRKGA/instances/txt/graph_football.txt ...\n",
      "Loading ../BRKGA/instances/txt/graph_karate.txt ...\n",
      "Loading ../BRKGA/instances/txt/graph_dolphins.txt ...\n",
      "Loading ../BRKGA/instances/txt/graph_jazz.txt ...\n",
      "\n",
      "----- Beginning evaluation -----\n",
      "\n",
      "1/4 Graph: football\n",
      "Best Target Set length: 48 out of 115\n",
      "Ratio Solution / Graph lentgh: 0.42\n",
      "\n",
      "2/4 Graph: karate\n",
      "Best Target Set length: 17 out of 62\n",
      "Ratio Solution / Graph lentgh: 0.27\n",
      "\n",
      "3/4 Graph: dolphins\n",
      "Best Target Set length: 12 out of 34\n",
      "Ratio Solution / Graph lentgh: 0.35\n",
      "\n",
      "4/4 Graph: jazz\n",
      "Best Target Set length: 90 out of 198\n",
      "Ratio Solution / Graph lentgh: 0.45\n",
      "\n"
     ]
    }
   ],
   "source": [
    "for run_name, model, seed in zip(RUNS_LIST, MODELS, SEEDS):\n",
    "    print()\n",
    "    print(f\"Evaluation of model: {model}, seed: {seed} in {run_name}\")\n",
    "    print()\n",
    "    \n",
    "    if model == 'GRAT':\n",
    "        net = GRAT3(*HIDDEN_FEATS)\n",
    "        net.load_state_dict(torch.load(PATH_SAVE_TRAINS+run_name))\n",
    "    if use_cuda:\n",
    "        net.cuda()\n",
    "\n",
    "    Graphs = [graph for graph in os.listdir(PATH_TO_TEST)]\n",
    "    Graphs = ['graph_football.txt', 'graph_karate.txt', 'graph_dolphins.txt', 'graph_jazz.txt']\n",
    "    \n",
    "    graphs = []\n",
    "    dglgraphs = []\n",
    "    names = []\n",
    "    for file in Graphs:\n",
    "            print(f\"Loading {PATH_TO_TEST+file} ...\")\n",
    "            names.append(file.split(\".\")[0].replace(\"graph_\", \"\"))\n",
    "\n",
    "            graph = igraph.Graph().Read_Edgelist(\"../BRKGA/instances/txt/\"+file)\n",
    "            graphs.append(graph)\n",
    "\n",
    "            dglgraph = get_rev_dgl(graph, FEATURE_TYPE, input_dim, directed_test, use_cuda)\n",
    "            dglgraphs.append(dglgraph)\n",
    "\n",
    "    print()\n",
    "    print(\"----- Beginning evaluation -----\")\n",
    "    print()\n",
    "    records = []\n",
    "    \n",
    "    c = 1\n",
    "    Total = len(names)\n",
    "    \n",
    "    for dglgraph, graph, name in zip(dglgraphs, graphs, names):\n",
    "        start_time = time.time()\n",
    "\n",
    "        out = net.grat(dglgraph, dglgraph.ndata['feat']).squeeze(1)\n",
    "\n",
    "        G = graph.to_networkx().to_undirected()\n",
    "\n",
    "        n = len(G.nodes())\n",
    "\n",
    "        _, minTargetGRAT = FindMinimumTarget(G, out, threshold)\n",
    "\n",
    "        final_time = (time.time() - start_time)\n",
    "\n",
    "        print(f\"{c}/{Total} Graph: {name}\")\n",
    "        print(f\"Best Target Set length: {minTargetGRAT} out of {n}\")\n",
    "        print(f\"Ratio Solution / Graph lentgh: {minTargetGRAT/n:.2f}\")\n",
    "        print()\n",
    "        records.append({\n",
    "        \"graph\": name,\n",
    "        \"model\": model,\n",
    "        \"seed\": seed,\n",
    "        \"threshold\": threshold,\n",
    "        \"n_covered\": minTargetGRAT,\n",
    "        \"n\": n,\n",
    "        \"coverage\": minTargetGRAT/n,\n",
    "        \"t_mean\": final_time\n",
    "        })\n",
    "    \n",
    "        pd.DataFrame(records).to_csv(PATH_SAVE_RESULTS + NAME_SAVE_RESULTS +\"_\" + dt_string + \".csv\")\n",
    "        \n",
    "        c+=1\n"
   ]
  },
  {
   "cell_type": "code",
   "execution_count": null,
   "metadata": {},
   "outputs": [],
   "source": []
  }
 ],
 "metadata": {
  "hide_input": false,
  "kernelspec": {
   "display_name": "Python 3",
   "language": "python",
   "name": "python3"
  },
  "language_info": {
   "codemirror_mode": {
    "name": "ipython",
    "version": 3
   },
   "file_extension": ".py",
   "mimetype": "text/x-python",
   "name": "python",
   "nbconvert_exporter": "python",
   "pygments_lexer": "ipython3",
   "version": "3.8.5"
  },
  "varInspector": {
   "cols": {
    "lenName": 16,
    "lenType": 16,
    "lenVar": 40
   },
   "kernels_config": {
    "python": {
     "delete_cmd_postfix": "",
     "delete_cmd_prefix": "del ",
     "library": "var_list.py",
     "varRefreshCmd": "print(var_dic_list())"
    },
    "r": {
     "delete_cmd_postfix": ") ",
     "delete_cmd_prefix": "rm(",
     "library": "var_list.r",
     "varRefreshCmd": "cat(var_dic_list()) "
    }
   },
   "types_to_exclude": [
    "module",
    "function",
    "builtin_function_or_method",
    "instance",
    "_Feature"
   ],
   "window_display": false
  }
 },
 "nbformat": 4,
 "nbformat_minor": 4
}
