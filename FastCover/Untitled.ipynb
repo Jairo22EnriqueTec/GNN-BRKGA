{
 "cells": [
  {
   "cell_type": "markdown",
   "metadata": {},
   "source": [
    "## Cargando los grafos de prueba"
   ]
  },
  {
   "cell_type": "code",
   "execution_count": 140,
   "metadata": {
    "ExecuteTime": {
     "end_time": "2022-10-15T14:40:53.711742Z",
     "start_time": "2022-10-15T14:40:53.704482Z"
    }
   },
   "outputs": [],
   "source": [
    "import igraph\n",
    "import dgl\n",
    "import torch\n",
    "import heapq\n",
    "import time\n",
    "import progressbar\n",
    "import pickle\n",
    "import matplotlib.pyplot as plt\n",
    "import os"
   ]
  },
  {
   "cell_type": "code",
   "execution_count": 122,
   "metadata": {
    "ExecuteTime": {
     "end_time": "2022-10-15T14:35:00.643198Z",
     "start_time": "2022-10-15T14:35:00.639122Z"
    }
   },
   "outputs": [],
   "source": [
    "PATH = \"data/\"\n",
    "PATH_INSTANCES = \"data/ER_graphs/\"\n",
    "FEATURE_TYPE = \"1\"\n",
    "input_dim = 32\n",
    "directed_train = False\n",
    "use_cuda = False"
   ]
  },
  {
   "cell_type": "markdown",
   "metadata": {},
   "source": [
    "### Funciones"
   ]
  },
  {
   "cell_type": "code",
   "execution_count": 134,
   "metadata": {
    "ExecuteTime": {
     "end_time": "2022-10-15T14:39:16.433420Z",
     "start_time": "2022-10-15T14:39:16.419709Z"
    }
   },
   "outputs": [],
   "source": [
    "def get_rev_dgl(graph, feature_type='0', feature_dim=None, is_directed=False, use_cuda=False):\n",
    "    \"\"\"get dgl graph from igraph\n",
    "    \"\"\"\n",
    "    \n",
    "    src, dst = zip(*graph.get_edgelist())\n",
    "\n",
    "    if use_cuda:\n",
    "        dglgraph = dgl.graph((dst, src)).to(torch.device(\"cuda:0\"))\n",
    "    else:\n",
    "        dglgraph = dgl.graph((dst, src))\n",
    "        \n",
    "    if not is_directed:\n",
    "        dglgraph.add_edges(src, dst)\n",
    "\n",
    "    if use_cuda:\n",
    "        dglgraph.ndata['feat'] = FEATURE_TYPE_DICT[feature_type](graph, feature_dim).cuda()\n",
    "        dglgraph.ndata['degree'] = torch.tensor(graph.degree()).float().cuda()\n",
    "\n",
    "    else:\n",
    "        dglgraph.ndata['feat'] = FEATURE_TYPE_DICT[feature_type](graph, feature_dim)\n",
    "        dglgraph.ndata['degree'] = torch.tensor(graph.degree()).float()\n",
    "        \n",
    "    return dglgraph\n",
    "\n",
    "def gen_one_feature(graph, feature_dim):\n",
    "    \"\"\"Generate all-one features\n",
    "    \"\"\"\n",
    "    return torch.ones(graph.vcount(), feature_dim)\n",
    "\n",
    "\n",
    "FEATURE_TYPE_DICT = {\n",
    "    \"1\": gen_one_feature,\n",
    "}"
   ]
  },
  {
   "cell_type": "code",
   "execution_count": 27,
   "metadata": {
    "ExecuteTime": {
     "end_time": "2022-10-15T14:10:10.848245Z",
     "start_time": "2022-10-15T14:09:56.838303Z"
    }
   },
   "outputs": [
    {
     "name": "stderr",
     "output_type": "stream",
     "text": [
      "100% (29 of 29) |########################| Elapsed Time: 0:00:13 Time:  0:00:13\n"
     ]
    },
    {
     "name": "stdout",
     "output_type": "stream",
     "text": [
      "MEAN NODES: 44170.41\n",
      "STD:67189.83\n",
      "MAX: 317080.00\n",
      "MIN: 620.00\n"
     ]
    }
   ],
   "source": [
    "Graphs = [graph for graph in os.listdir(PATH) if \".txt\" in graph]\n",
    "#\"\"\"\n",
    "MeanNodes = []\n",
    "\n",
    "N = len(Graphs)\n",
    "\n",
    "for file in progressbar.progressbar(Graphs):\n",
    "    graph = igraph.Graph().Read_Edgelist(\n",
    "        f\"{PATH}{file}\", directed=False)\n",
    "\n",
    "    dglgraph = get_rev_dgl(graph, FEATURE_TYPE, input_dim, directed_train, use_cuda = False)\n",
    "    \n",
    "    MeanNodes.append(dglgraph.num_nodes())\n",
    "#\"\"\"\n",
    "print(f\"MEAN NODES: {np.mean(MeanNodes):.2f}\\nSTD:{np.std(MeanNodes):.2f}\\nMAX: {np.max(MeanNodes):.2f}\\nMIN: {np.min(MeanNodes):.2f}\")"
   ]
  },
  {
   "cell_type": "code",
   "execution_count": 38,
   "metadata": {
    "ExecuteTime": {
     "end_time": "2022-10-15T10:37:42.313197Z",
     "start_time": "2022-10-15T10:37:42.176318Z"
    }
   },
   "outputs": [
    {
     "data": {
      "text/plain": [
       "(array([7., 3., 4., 1., 2., 3., 1., 2., 1., 2.]),\n",
       " array([  620. ,  6931.1, 13242.2, 19553.3, 25864.4, 32175.5, 38486.6,\n",
       "        44797.7, 51108.8, 57419.9, 63731. ]),\n",
       " <BarContainer object of 10 artists>)"
      ]
     },
     "execution_count": 38,
     "metadata": {},
     "output_type": "execute_result"
    },
    {
     "data": {
      "image/png": "[encoded data removed]",
      "text/plain": [
       "<Figure size 432x288 with 1 Axes>"
      ]
     },
     "metadata": {
      "needs_background": "light"
     },
     "output_type": "display_data"
    }
   ],
   "source": [
    "MeanNodes = np.array(MeanNodes)\n",
    "plt.hist(MeanNodes[MeanNodes < 100_000], bins = 10)"
   ]
  },
  {
   "cell_type": "markdown",
   "metadata": {},
   "source": [
    "## Convirtiendo dimacs a txt"
   ]
  },
  {
   "cell_type": "code",
   "execution_count": 10,
   "metadata": {
    "ExecuteTime": {
     "end_time": "2022-10-15T12:58:20.312309Z",
     "start_time": "2022-10-15T12:58:20.298256Z"
    }
   },
   "outputs": [],
   "source": [
    "PATH = \"../BRKGA/instances/dimacs/\"\n",
    "NEW_PATH = \"../BRKGA/instances/txt/\""
   ]
  },
  {
   "cell_type": "code",
   "execution_count": 11,
   "metadata": {
    "ExecuteTime": {
     "end_time": "2022-10-15T12:58:31.563342Z",
     "start_time": "2022-10-15T12:58:31.551876Z"
    }
   },
   "outputs": [],
   "source": [
    "Graphs = [graph for graph in os.listdir(PATH)]"
   ]
  },
  {
   "cell_type": "code",
   "execution_count": 15,
   "metadata": {
    "ExecuteTime": {
     "end_time": "2022-10-15T13:00:04.191700Z",
     "start_time": "2022-10-15T13:00:04.176630Z"
    }
   },
   "outputs": [
    {
     "data": {
      "text/plain": [
       "['Amazon0302.dimacs',\n",
       " 'Amazon0312.dimacs',\n",
       " 'Amazon0505.dimacs',\n",
       " 'Amazon0601.dimacs',\n",
       " 'com-dblp.ungraph.dimacs',\n",
       " 'com-youtube.ungraph.dimacs',\n",
       " 'deezer_HR.dimacs',\n",
       " 'ego-facebook.dimacs',\n",
       " 'gemsec_facebook_artist.dimacs',\n",
       " 'graph_actors_dat.dimacs',\n",
       " 'graph_CA-AstroPh.dimacs',\n",
       " 'graph_CA-CondMat.dimacs',\n",
       " 'graph_CA-GrQc.dimacs',\n",
       " 'graph_CA-HepPh.dimacs',\n",
       " 'graph_CA-HepTh.dimacs',\n",
       " 'graph_dolphins.dimacs',\n",
       " 'graph_Email-Enron.dimacs',\n",
       " 'graph_football.dimacs',\n",
       " 'graph_jazz.dimacs',\n",
       " 'graph_karate.dimacs',\n",
       " 'graph_ncstrlwg2.dimacs',\n",
       " 'loc-gowalla_edges.dimacs',\n",
       " 'musae_git.dimacs',\n",
       " 'soc-gplus.dimacs',\n",
       " 'socfb-Brandeis99.dimacs',\n",
       " 'socfb-Mich67.dimacs',\n",
       " 'socfb-nips-ego.dimacs']"
      ]
     },
     "execution_count": 15,
     "metadata": {},
     "output_type": "execute_result"
    }
   ],
   "source": [
    "Graphs"
   ]
  },
  {
   "cell_type": "code",
   "execution_count": 26,
   "metadata": {
    "ExecuteTime": {
     "end_time": "2022-10-15T14:09:40.068248Z",
     "start_time": "2022-10-15T14:09:40.060738Z"
    }
   },
   "outputs": [],
   "source": [
    "def Dimacs2Txt(ruta, nuevaruta):\n",
    "    file1 = open(ruta, 'r')\n",
    "    Lines = file1.readlines()\n",
    "    newname = \".\".join((PATH+file).split(\"/\")[-1].split(\".\")[:-1])+\".txt\"\n",
    "    file2 = open(nuevaruta+newname, 'w')\n",
    "    file1.close()\n",
    "    for line in Lines[1:]:\n",
    "        v = line.strip().split()\n",
    "        file2.write(f\"{int(v[1])-1} {int(v[2])-1}\")\n",
    "        file2.write('\\n')\n",
    "    file2.close()\n",
    "    return newname\n"
   ]
  },
  {
   "cell_type": "code",
   "execution_count": 23,
   "metadata": {
    "ExecuteTime": {
     "end_time": "2022-10-15T13:03:42.003796Z",
     "start_time": "2022-10-15T13:03:04.830383Z"
    }
   },
   "outputs": [
    {
     "name": "stderr",
     "output_type": "stream",
     "text": [
      "100% (27 of 27) |########################| Elapsed Time: 0:00:37 Time:  0:00:37\n"
     ]
    }
   ],
   "source": [
    "for file in progressbar.progressbar(Graphs):\n",
    "    Dimacs2Txt(PATH+file, NEW_PATH)"
   ]
  },
  {
   "cell_type": "code",
   "execution_count": null,
   "metadata": {
    "ExecuteTime": {
     "end_time": "2022-10-15T13:01:45.533006Z",
     "start_time": "2022-10-15T13:01:44.911550Z"
    }
   },
   "outputs": [],
   "source": [
    "# los txt de instances son los de prueba para TSS\n",
    "# Los utilizados en el FastCava son de puro entrenamiento"
   ]
  },
  {
   "cell_type": "code",
   "execution_count": 24,
   "metadata": {
    "ExecuteTime": {
     "end_time": "2022-10-15T13:07:58.220279Z",
     "start_time": "2022-10-15T13:07:58.204315Z"
    }
   },
   "outputs": [
    {
     "data": {
      "text/plain": [
       "0.0005"
      ]
     },
     "execution_count": 24,
     "metadata": {},
     "output_type": "execute_result"
    }
   ],
   "source": [
    "5*10**-4"
   ]
  },
  {
   "cell_type": "code",
   "execution_count": 136,
   "metadata": {
    "ExecuteTime": {
     "end_time": "2022-10-15T14:39:41.597936Z",
     "start_time": "2022-10-15T14:39:38.699954Z"
    }
   },
   "outputs": [],
   "source": [
    "import networkx as nx\n",
    "import matplotlib.pyplot as plt\n",
    "\n",
    "Cont = 0\n",
    "NumGrafos = 20\n",
    "n = 1000\n",
    "p = 10/n\n",
    "INSTANCES = []\n",
    "\n",
    "while True:\n",
    "    G = nx.erdos_renyi_graph(n, p, directed = False)\n",
    "    AllConected = True if len([i for i in nx.connected_components(G)]) == 1 else False\n",
    "    if AllConected:\n",
    "        INSTANCES.append(G)\n",
    "        Cont += 1\n",
    "    if Cont == NumGrafos:\n",
    "        break\n",
    "        "
   ]
  },
  {
   "cell_type": "code",
   "execution_count": 137,
   "metadata": {
    "ExecuteTime": {
     "end_time": "2022-10-15T14:39:43.797594Z",
     "start_time": "2022-10-15T14:39:43.386513Z"
    }
   },
   "outputs": [],
   "source": [
    "for i in range(len(INSTANCES)):\n",
    "    igraph.Graph().from_networkx(INSTANCES[i]).write_pickle(f\"{PATH_INSTANCES}ER_{i}.pkl\")"
   ]
  },
  {
   "cell_type": "markdown",
   "metadata": {},
   "source": [
    "### Recuperando las instancias guardadas"
   ]
  },
  {
   "cell_type": "code",
   "execution_count": 127,
   "metadata": {
    "ExecuteTime": {
     "end_time": "2022-10-15T14:37:34.656907Z",
     "start_time": "2022-10-15T14:37:34.646746Z"
    }
   },
   "outputs": [],
   "source": [
    "ERInstances = [graph for graph in os.listdir(PATH_INSTANCES)]"
   ]
  },
  {
   "cell_type": "code",
   "execution_count": 128,
   "metadata": {
    "ExecuteTime": {
     "end_time": "2022-10-15T14:37:36.351538Z",
     "start_time": "2022-10-15T14:37:36.296806Z"
    }
   },
   "outputs": [
    {
     "name": "stderr",
     "output_type": "stream",
     "text": [
      "\r",
      "  0% (0 of 20) |                         | Elapsed Time: 0:00:00 ETA:  --:--:--"
     ]
    },
    {
     "ename": "AttributeError",
     "evalue": "'DGLHeteroGraph' object has no attribute 'graph'",
     "output_type": "error",
     "traceback": [
      "\u001b[1;31m---------------------------------------------------------------------------\u001b[0m",
      "\u001b[1;31mAttributeError\u001b[0m                            Traceback (most recent call last)",
      "\u001b[1;32m<ipython-input-128-d3aac3368b6a>\u001b[0m in \u001b[0;36m<module>\u001b[1;34m\u001b[0m\n\u001b[0;32m      6\u001b[0m     \u001b[0mgraphs\u001b[0m\u001b[1;33m.\u001b[0m\u001b[0mappend\u001b[0m\u001b[1;33m(\u001b[0m\u001b[0mgraph\u001b[0m\u001b[1;33m)\u001b[0m\u001b[1;33m\u001b[0m\u001b[1;33m\u001b[0m\u001b[0m\n\u001b[0;32m      7\u001b[0m \u001b[1;33m\u001b[0m\u001b[0m\n\u001b[1;32m----> 8\u001b[1;33m     \u001b[0mdgl\u001b[0m \u001b[1;33m=\u001b[0m \u001b[0mget_rev_dgl\u001b[0m\u001b[1;33m(\u001b[0m\u001b[0mgraph\u001b[0m\u001b[1;33m,\u001b[0m \u001b[0mFEATURE_TYPE\u001b[0m\u001b[1;33m,\u001b[0m \u001b[0minput_dim\u001b[0m\u001b[1;33m,\u001b[0m \u001b[0mdirected_train\u001b[0m\u001b[1;33m,\u001b[0m \u001b[0muse_cuda\u001b[0m\u001b[1;33m)\u001b[0m\u001b[1;33m\u001b[0m\u001b[1;33m\u001b[0m\u001b[0m\n\u001b[0m\u001b[0;32m      9\u001b[0m     \u001b[0mdglgraphs\u001b[0m\u001b[1;33m.\u001b[0m\u001b[0mappend\u001b[0m\u001b[1;33m(\u001b[0m\u001b[0mdgl\u001b[0m\u001b[1;33m)\u001b[0m\u001b[1;33m\u001b[0m\u001b[1;33m\u001b[0m\u001b[0m\n",
      "\u001b[1;32m<ipython-input-6-dd83100e0366>\u001b[0m in \u001b[0;36mget_rev_dgl\u001b[1;34m(graph, feature_type, feature_dim, is_directed, use_cuda)\u001b[0m\n\u001b[0;32m      8\u001b[0m         \u001b[0mdglgraph\u001b[0m \u001b[1;33m=\u001b[0m \u001b[0mdgl\u001b[0m\u001b[1;33m.\u001b[0m\u001b[0mgraph\u001b[0m\u001b[1;33m(\u001b[0m\u001b[1;33m(\u001b[0m\u001b[0mdst\u001b[0m\u001b[1;33m,\u001b[0m \u001b[0msrc\u001b[0m\u001b[1;33m)\u001b[0m\u001b[1;33m)\u001b[0m\u001b[1;33m.\u001b[0m\u001b[0mto\u001b[0m\u001b[1;33m(\u001b[0m\u001b[0mtorch\u001b[0m\u001b[1;33m.\u001b[0m\u001b[0mdevice\u001b[0m\u001b[1;33m(\u001b[0m\u001b[1;34m\"cuda:0\"\u001b[0m\u001b[1;33m)\u001b[0m\u001b[1;33m)\u001b[0m\u001b[1;33m\u001b[0m\u001b[1;33m\u001b[0m\u001b[0m\n\u001b[0;32m      9\u001b[0m     \u001b[1;32melse\u001b[0m\u001b[1;33m:\u001b[0m\u001b[1;33m\u001b[0m\u001b[1;33m\u001b[0m\u001b[0m\n\u001b[1;32m---> 10\u001b[1;33m         \u001b[0mdglgraph\u001b[0m \u001b[1;33m=\u001b[0m \u001b[0mdgl\u001b[0m\u001b[1;33m.\u001b[0m\u001b[0mgraph\u001b[0m\u001b[1;33m(\u001b[0m\u001b[1;33m(\u001b[0m\u001b[0mdst\u001b[0m\u001b[1;33m,\u001b[0m \u001b[0msrc\u001b[0m\u001b[1;33m)\u001b[0m\u001b[1;33m)\u001b[0m\u001b[1;33m\u001b[0m\u001b[1;33m\u001b[0m\u001b[0m\n\u001b[0m\u001b[0;32m     11\u001b[0m \u001b[1;33m\u001b[0m\u001b[0m\n\u001b[0;32m     12\u001b[0m     \u001b[1;32mif\u001b[0m \u001b[1;32mnot\u001b[0m \u001b[0mis_directed\u001b[0m\u001b[1;33m:\u001b[0m\u001b[1;33m\u001b[0m\u001b[1;33m\u001b[0m\u001b[0m\n",
      "\u001b[1;31mAttributeError\u001b[0m: 'DGLHeteroGraph' object has no attribute 'graph'"
     ]
    }
   ],
   "source": [
    "graphs = []\n",
    "dglgraphs = []\n",
    "\n",
    "for er in progressbar.progressbar(ERInstances):\n",
    "    graph = igraph.Graph().Read_Pickle(PATH_INSTANCES+er)\n",
    "    graphs.append(graph)\n",
    "    \n",
    "    dgl = get_rev_dgl(graph, FEATURE_TYPE, input_dim, directed_train, use_cuda)\n",
    "    dglgraphs.append(dgl)"
   ]
  },
  {
   "cell_type": "code",
   "execution_count": 132,
   "metadata": {
    "ExecuteTime": {
     "end_time": "2022-10-15T14:38:25.756784Z",
     "start_time": "2022-10-15T14:38:25.719278Z"
    }
   },
   "outputs": [
    {
     "ename": "AttributeError",
     "evalue": "'DGLHeteroGraph' object has no attribute 'graph'",
     "output_type": "error",
     "traceback": [
      "\u001b[1;31m---------------------------------------------------------------------------\u001b[0m",
      "\u001b[1;31mAttributeError\u001b[0m                            Traceback (most recent call last)",
      "\u001b[1;32m<ipython-input-132-bdac82e05ef1>\u001b[0m in \u001b[0;36m<module>\u001b[1;34m\u001b[0m\n\u001b[1;32m----> 1\u001b[1;33m \u001b[0mget_rev_dgl\u001b[0m\u001b[1;33m(\u001b[0m\u001b[0mgraph\u001b[0m\u001b[1;33m,\u001b[0m \u001b[0mFEATURE_TYPE\u001b[0m\u001b[1;33m,\u001b[0m \u001b[0minput_dim\u001b[0m\u001b[1;33m,\u001b[0m \u001b[0mdirected_train\u001b[0m\u001b[1;33m,\u001b[0m \u001b[0muse_cuda\u001b[0m\u001b[1;33m)\u001b[0m\u001b[1;33m\u001b[0m\u001b[1;33m\u001b[0m\u001b[0m\n\u001b[0m",
      "\u001b[1;32m<ipython-input-6-dd83100e0366>\u001b[0m in \u001b[0;36mget_rev_dgl\u001b[1;34m(graph, feature_type, feature_dim, is_directed, use_cuda)\u001b[0m\n\u001b[0;32m      8\u001b[0m         \u001b[0mdglgraph\u001b[0m \u001b[1;33m=\u001b[0m \u001b[0mdgl\u001b[0m\u001b[1;33m.\u001b[0m\u001b[0mgraph\u001b[0m\u001b[1;33m(\u001b[0m\u001b[1;33m(\u001b[0m\u001b[0mdst\u001b[0m\u001b[1;33m,\u001b[0m \u001b[0msrc\u001b[0m\u001b[1;33m)\u001b[0m\u001b[1;33m)\u001b[0m\u001b[1;33m.\u001b[0m\u001b[0mto\u001b[0m\u001b[1;33m(\u001b[0m\u001b[0mtorch\u001b[0m\u001b[1;33m.\u001b[0m\u001b[0mdevice\u001b[0m\u001b[1;33m(\u001b[0m\u001b[1;34m\"cuda:0\"\u001b[0m\u001b[1;33m)\u001b[0m\u001b[1;33m)\u001b[0m\u001b[1;33m\u001b[0m\u001b[1;33m\u001b[0m\u001b[0m\n\u001b[0;32m      9\u001b[0m     \u001b[1;32melse\u001b[0m\u001b[1;33m:\u001b[0m\u001b[1;33m\u001b[0m\u001b[1;33m\u001b[0m\u001b[0m\n\u001b[1;32m---> 10\u001b[1;33m         \u001b[0mdglgraph\u001b[0m \u001b[1;33m=\u001b[0m \u001b[0mdgl\u001b[0m\u001b[1;33m.\u001b[0m\u001b[0mgraph\u001b[0m\u001b[1;33m(\u001b[0m\u001b[1;33m(\u001b[0m\u001b[0mdst\u001b[0m\u001b[1;33m,\u001b[0m \u001b[0msrc\u001b[0m\u001b[1;33m)\u001b[0m\u001b[1;33m)\u001b[0m\u001b[1;33m\u001b[0m\u001b[1;33m\u001b[0m\u001b[0m\n\u001b[0m\u001b[0;32m     11\u001b[0m \u001b[1;33m\u001b[0m\u001b[0m\n\u001b[0;32m     12\u001b[0m     \u001b[1;32mif\u001b[0m \u001b[1;32mnot\u001b[0m \u001b[0mis_directed\u001b[0m\u001b[1;33m:\u001b[0m\u001b[1;33m\u001b[0m\u001b[1;33m\u001b[0m\u001b[0m\n",
      "\u001b[1;31mAttributeError\u001b[0m: 'DGLHeteroGraph' object has no attribute 'graph'"
     ]
    }
   ],
   "source": [
    "get_rev_dgl(graph, FEATURE_TYPE, input_dim, directed_train, use_cuda)"
   ]
  },
  {
   "cell_type": "code",
   "execution_count": 139,
   "metadata": {
    "ExecuteTime": {
     "end_time": "2022-10-15T14:40:36.293152Z",
     "start_time": "2022-10-15T14:40:36.253315Z"
    }
   },
   "outputs": [
    {
     "ename": "AttributeError",
     "evalue": "'DGLHeteroGraph' object has no attribute 'graph'",
     "output_type": "error",
     "traceback": [
      "\u001b[1;31m---------------------------------------------------------------------------\u001b[0m",
      "\u001b[1;31mAttributeError\u001b[0m                            Traceback (most recent call last)",
      "\u001b[1;32m<ipython-input-139-a420747bac4a>\u001b[0m in \u001b[0;36m<module>\u001b[1;34m\u001b[0m\n\u001b[1;32m----> 1\u001b[1;33m \u001b[0mf\u001b[0m \u001b[1;33m=\u001b[0m \u001b[0mget_rev_dgl\u001b[0m\u001b[1;33m(\u001b[0m\u001b[0migraph\u001b[0m\u001b[1;33m.\u001b[0m\u001b[0mGraph\u001b[0m\u001b[1;33m(\u001b[0m\u001b[1;33m)\u001b[0m\u001b[1;33m.\u001b[0m\u001b[0mRead_Pickle\u001b[0m\u001b[1;33m(\u001b[0m\u001b[1;34m\"nombre.pkl\"\u001b[0m\u001b[1;33m)\u001b[0m\u001b[1;33m,\u001b[0m \u001b[0mFEATURE_TYPE\u001b[0m\u001b[1;33m,\u001b[0m \u001b[0minput_dim\u001b[0m\u001b[1;33m,\u001b[0m \u001b[0mdirected_train\u001b[0m\u001b[1;33m,\u001b[0m \u001b[0muse_cuda\u001b[0m\u001b[1;33m)\u001b[0m\u001b[1;33m\u001b[0m\u001b[1;33m\u001b[0m\u001b[0m\n\u001b[0m",
      "\u001b[1;32m<ipython-input-134-dd83100e0366>\u001b[0m in \u001b[0;36mget_rev_dgl\u001b[1;34m(graph, feature_type, feature_dim, is_directed, use_cuda)\u001b[0m\n\u001b[0;32m      8\u001b[0m         \u001b[0mdglgraph\u001b[0m \u001b[1;33m=\u001b[0m \u001b[0mdgl\u001b[0m\u001b[1;33m.\u001b[0m\u001b[0mgraph\u001b[0m\u001b[1;33m(\u001b[0m\u001b[1;33m(\u001b[0m\u001b[0mdst\u001b[0m\u001b[1;33m,\u001b[0m \u001b[0msrc\u001b[0m\u001b[1;33m)\u001b[0m\u001b[1;33m)\u001b[0m\u001b[1;33m.\u001b[0m\u001b[0mto\u001b[0m\u001b[1;33m(\u001b[0m\u001b[0mtorch\u001b[0m\u001b[1;33m.\u001b[0m\u001b[0mdevice\u001b[0m\u001b[1;33m(\u001b[0m\u001b[1;34m\"cuda:0\"\u001b[0m\u001b[1;33m)\u001b[0m\u001b[1;33m)\u001b[0m\u001b[1;33m\u001b[0m\u001b[1;33m\u001b[0m\u001b[0m\n\u001b[0;32m      9\u001b[0m     \u001b[1;32melse\u001b[0m\u001b[1;33m:\u001b[0m\u001b[1;33m\u001b[0m\u001b[1;33m\u001b[0m\u001b[0m\n\u001b[1;32m---> 10\u001b[1;33m         \u001b[0mdglgraph\u001b[0m \u001b[1;33m=\u001b[0m \u001b[0mdgl\u001b[0m\u001b[1;33m.\u001b[0m\u001b[0mgraph\u001b[0m\u001b[1;33m(\u001b[0m\u001b[1;33m(\u001b[0m\u001b[0mdst\u001b[0m\u001b[1;33m,\u001b[0m \u001b[0msrc\u001b[0m\u001b[1;33m)\u001b[0m\u001b[1;33m)\u001b[0m\u001b[1;33m\u001b[0m\u001b[1;33m\u001b[0m\u001b[0m\n\u001b[0m\u001b[0;32m     11\u001b[0m \u001b[1;33m\u001b[0m\u001b[0m\n\u001b[0;32m     12\u001b[0m     \u001b[1;32mif\u001b[0m \u001b[1;32mnot\u001b[0m \u001b[0mis_directed\u001b[0m\u001b[1;33m:\u001b[0m\u001b[1;33m\u001b[0m\u001b[1;33m\u001b[0m\u001b[0m\n",
      "\u001b[1;31mAttributeError\u001b[0m: 'DGLHeteroGraph' object has no attribute 'graph'"
     ]
    }
   ],
   "source": [
    "f = get_rev_dgl(igraph.Graph().Read_Pickle(\"nombre.pkl\"), FEATURE_TYPE, input_dim, directed_train, use_cuda)"
   ]
  },
  {
   "cell_type": "code",
   "execution_count": 118,
   "metadata": {
    "ExecuteTime": {
     "end_time": "2022-10-15T14:32:27.340716Z",
     "start_time": "2022-10-15T14:32:27.205054Z"
    }
   },
   "outputs": [
    {
     "data": {
      "image/png": "[encoded data removed]",
      "text/plain": [
       "<Figure size 432x288 with 1 Axes>"
      ]
     },
     "metadata": {},
     "output_type": "display_data"
    }
   ],
   "source": [
    "G = nx.erdos_renyi_graph(10, 0.1, directed = False)\n",
    "nx.draw(G)"
   ]
  },
  {
   "cell_type": "code",
   "execution_count": 138,
   "metadata": {
    "ExecuteTime": {
     "end_time": "2022-10-15T14:40:24.232788Z",
     "start_time": "2022-10-15T14:40:24.211753Z"
    }
   },
   "outputs": [
    {
     "data": {
      "text/plain": [
       "['ER_0.pkl',\n",
       " 'ER_1.pkl',\n",
       " 'ER_10.pkl',\n",
       " 'ER_11.pkl',\n",
       " 'ER_12.pkl',\n",
       " 'ER_13.pkl',\n",
       " 'ER_14.pkl',\n",
       " 'ER_15.pkl',\n",
       " 'ER_16.pkl',\n",
       " 'ER_17.pkl',\n",
       " 'ER_18.pkl',\n",
       " 'ER_19.pkl',\n",
       " 'ER_2.pkl',\n",
       " 'ER_3.pkl',\n",
       " 'ER_4.pkl',\n",
       " 'ER_5.pkl',\n",
       " 'ER_6.pkl',\n",
       " 'ER_7.pkl',\n",
       " 'ER_8.pkl',\n",
       " 'ER_9.pkl']"
      ]
     },
     "execution_count": 138,
     "metadata": {},
     "output_type": "execute_result"
    }
   ],
   "source": [
    "ERInstances"
   ]
  }
 ],
 "metadata": {
  "hide_input": false,
  "kernelspec": {
   "display_name": "Python 3",
   "language": "python",
   "name": "python3"
  },
  "language_info": {
   "codemirror_mode": {
    "name": "ipython",
    "version": 3
   },
   "file_extension": ".py",
   "mimetype": "text/x-python",
   "name": "python",
   "nbconvert_exporter": "python",
   "pygments_lexer": "ipython3",
   "version": "3.8.5"
  },
  "varInspector": {
   "cols": {
    "lenName": 16,
    "lenType": 16,
    "lenVar": 40
   },
   "kernels_config": {
    "python": {
     "delete_cmd_postfix": "",
     "delete_cmd_prefix": "del ",
     "library": "var_list.py",
     "varRefreshCmd": "print(var_dic_list())"
    },
    "r": {
     "delete_cmd_postfix": ") ",
     "delete_cmd_prefix": "rm(",
     "library": "var_list.r",
     "varRefreshCmd": "cat(var_dic_list()) "
    }
   },
   "types_to_exclude": [
    "module",
    "function",
    "builtin_function_or_method",
    "instance",
    "_Feature"
   ],
   "window_display": false
  }
 },
 "nbformat": 4,
 "nbformat_minor": 4
}
