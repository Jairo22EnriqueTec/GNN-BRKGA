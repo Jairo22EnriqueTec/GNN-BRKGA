{
 "cells": [
  {
   "cell_type": "markdown",
   "metadata": {},
   "source": [
    "## Cargando los grafos de prueba"
   ]
  },
  {
   "cell_type": "code",
   "execution_count": 27,
   "metadata": {
    "ExecuteTime": {
     "end_time": "2022-10-15T10:32:59.768094Z",
     "start_time": "2022-10-15T10:32:59.717967Z"
    }
   },
   "outputs": [],
   "source": [
    "import igraph\n",
    "import dgl\n",
    "import torch\n",
    "import heapq\n",
    "import time\n",
    "import progressbar\n",
    "import pickle\n",
    "import matplotlib.pyplot as plt\n",
    "import os"
   ]
  },
  {
   "cell_type": "code",
   "execution_count": 14,
   "metadata": {
    "ExecuteTime": {
     "end_time": "2022-10-15T10:29:15.218468Z",
     "start_time": "2022-10-15T10:29:15.213971Z"
    }
   },
   "outputs": [],
   "source": [
    "PATH = \"data/\"\n",
    "FEATURE_TYPE = \"1\"\n",
    "input_dim = 32\n",
    "directed_train = False"
   ]
  },
  {
   "cell_type": "markdown",
   "metadata": {},
   "source": [
    "### Funciones"
   ]
  },
  {
   "cell_type": "code",
   "execution_count": 11,
   "metadata": {
    "ExecuteTime": {
     "end_time": "2022-10-15T10:28:11.140723Z",
     "start_time": "2022-10-15T10:28:11.132716Z"
    }
   },
   "outputs": [],
   "source": [
    "def get_rev_dgl(graph, feature_type='0', feature_dim=None, is_directed=False, use_cuda=False):\n",
    "    \"\"\"get dgl graph from igraph\n",
    "    \"\"\"\n",
    "    \n",
    "    src, dst = zip(*graph.get_edgelist())\n",
    "\n",
    "    if use_cuda:\n",
    "        dglgraph = dgl.graph((dst, src)).to(torch.device(\"cuda:0\"))\n",
    "    else:\n",
    "        dglgraph = dgl.graph((dst, src))\n",
    "        \n",
    "    if not is_directed:\n",
    "        dglgraph.add_edges(src, dst)\n",
    "\n",
    "    if use_cuda:\n",
    "        dglgraph.ndata['feat'] = FEATURE_TYPE_DICT[feature_type](graph, feature_dim).cuda()\n",
    "        dglgraph.ndata['degree'] = torch.tensor(graph.degree()).float().cuda()\n",
    "\n",
    "    else:\n",
    "        dglgraph.ndata['feat'] = FEATURE_TYPE_DICT[feature_type](graph, feature_dim)\n",
    "        dglgraph.ndata['degree'] = torch.tensor(graph.degree()).float()\n",
    "        \n",
    "    return dglgraph\n",
    "\n",
    "\n",
    "def gen_zero_feature(graph, feature_dim):\n",
    "    \"\"\"Generate all-zero features\n",
    "    \"\"\"\n",
    "    return torch.zeros(graph.vcount(), feature_dim)\n",
    "\n",
    "\n",
    "def gen_one_feature(graph, feature_dim):\n",
    "    \"\"\"Generate all-one features\n",
    "    \"\"\"\n",
    "    return torch.ones(graph.vcount(), feature_dim)\n",
    "\n",
    "\n",
    "def gen_deg_feature(graph, *args):  # args is only a placeholder\n",
    "    indegree = torch.tensor(graph.indegree()).float()\n",
    "    zeros = torch.zeros(graph.vcount(), 1).squeeze(1)\n",
    "    return torch.stack([indegree, zeros], dim=1)\n",
    "\n",
    "\n",
    "def gen_one_hot_feayture(graph, *args):  # args is only a placeholder\n",
    "    return torch.eye(graph.vcount()).float()\n",
    "\n",
    "\n",
    "FEATURE_TYPE_DICT = {\n",
    "    \"0\": gen_zero_feature,\n",
    "    \"1\": gen_one_feature,\n",
    "    \"onehot\": gen_one_hot_feayture,\n",
    "    \"deg\": gen_deg_feature,\n",
    "}"
   ]
  },
  {
   "cell_type": "code",
   "execution_count": 32,
   "metadata": {
    "ExecuteTime": {
     "end_time": "2022-10-15T10:35:58.146807Z",
     "start_time": "2022-10-15T10:35:58.130931Z"
    }
   },
   "outputs": [
    {
     "name": "stdout",
     "output_type": "stream",
     "text": [
      "MEAN NODES: 44170.41\n",
      " STD:67189.83\n",
      "MAX: 317080.00\n",
      "MIN: 620.00\n"
     ]
    }
   ],
   "source": [
    "Graphs = [graph for graph in os.listdir(PATH) if \".txt\" in graph]\n",
    "#\"\"\"\n",
    "MeanNodes = []\n",
    "\n",
    "N = len(Graphs)\n",
    "\n",
    "for file in progressbar.progressbar(Graphs):\n",
    "    graph = igraph.Graph().Read_Edgelist(\n",
    "        f\"{PATH}{file}\", directed=False)\n",
    "\n",
    "    dglgraph = get_rev_dgl(graph, FEATURE_TYPE, input_dim, directed_train, use_cuda = False)\n",
    "    \n",
    "    MeanNodes.append(dglgraph.num_nodes())\n",
    "#\"\"\"\n",
    "print(f\"MEAN NODES: {np.mean(MeanNodes):.2f}\\nSTD:{np.std(MeanNodes):.2f}\\nMAX: {np.max(MeanNodes):.2f}\\nMIN: {np.min(MeanNodes):.2f}\")"
   ]
  },
  {
   "cell_type": "code",
   "execution_count": 38,
   "metadata": {
    "ExecuteTime": {
     "end_time": "2022-10-15T10:37:42.313197Z",
     "start_time": "2022-10-15T10:37:42.176318Z"
    }
   },
   "outputs": [
    {
     "data": {
      "text/plain": [
       "(array([7., 3., 4., 1., 2., 3., 1., 2., 1., 2.]),\n",
       " array([  620. ,  6931.1, 13242.2, 19553.3, 25864.4, 32175.5, 38486.6,\n",
       "        44797.7, 51108.8, 57419.9, 63731. ]),\n",
       " <BarContainer object of 10 artists>)"
      ]
     },
     "execution_count": 38,
     "metadata": {},
     "output_type": "execute_result"
    },
    {
     "data": {
      "image/png": "[encoded data removed]",
      "text/plain": [
       "<Figure size 432x288 with 1 Axes>"
      ]
     },
     "metadata": {
      "needs_background": "light"
     },
     "output_type": "display_data"
    }
   ],
   "source": [
    "MeanNodes = np.array(MeanNodes)\n",
    "plt.hist(MeanNodes[MeanNodes < 100_000], bins = 10)"
   ]
  },
  {
   "cell_type": "markdown",
   "metadata": {},
   "source": [
    "## Convirtiendo dimacs a txt"
   ]
  },
  {
   "cell_type": "code",
   "execution_count": 40,
   "metadata": {
    "ExecuteTime": {
     "end_time": "2022-10-15T11:57:12.130998Z",
     "start_time": "2022-10-15T11:57:12.058239Z"
    }
   },
   "outputs": [
    {
     "data": {
      "text/plain": [
       "['as-caida20071105.txt',\n",
       " 'ca-AstroPh.txt',\n",
       " 'DBLP.txt',\n",
       " 'dnc-corecipient.txt',\n",
       " 'douban.txt',\n",
       " 'Enron.txt',\n",
       " 'facebook-wosn-links.txt',\n",
       " 'Facebook.txt',\n",
       " 'fb-pages-artist.txt',\n",
       " 'fb-pages-company.txt',\n",
       " 'fb-pages-food.txt',\n",
       " 'fb-pages-government.txt',\n",
       " 'fb-pages-media.txt',\n",
       " 'fb-pages-politician.txt',\n",
       " 'fb-pages-public-figure.txt',\n",
       " 'fb-pages-sport.txt',\n",
       " 'fb-pages-tvshow.txt',\n",
       " 'git.txt',\n",
       " 'HepPh.txt',\n",
       " 'loc-brightkite_edges.txt',\n",
       " 'loc-gowalla_edges.txt',\n",
       " 'moreno_names_names.txt',\n",
       " 'Nethept.txt',\n",
       " 'petster-friendships-hamster-uniq.txt',\n",
       " 'soc-gemsec-HR.txt',\n",
       " 'soc-gemsec-HU.txt',\n",
       " 'soc-gemsec-RO.txt',\n",
       " 'soc-hamsterster.txt',\n",
       " 'topology.txt']"
      ]
     },
     "execution_count": 40,
     "metadata": {},
     "output_type": "execute_result"
    }
   ],
   "source": [
    "Graphs"
   ]
  },
  {
   "cell_type": "code",
   "execution_count": null,
   "metadata": {},
   "outputs": [],
   "source": []
  }
 ],
 "metadata": {
  "hide_input": false,
  "kernelspec": {
   "display_name": "Python 3",
   "language": "python",
   "name": "python3"
  },
  "language_info": {
   "codemirror_mode": {
    "name": "ipython",
    "version": 3
   },
   "file_extension": ".py",
   "mimetype": "text/x-python",
   "name": "python",
   "nbconvert_exporter": "python",
   "pygments_lexer": "ipython3",
   "version": "3.8.5"
  },
  "varInspector": {
   "cols": {
    "lenName": 16,
    "lenType": 16,
    "lenVar": 40
   },
   "kernels_config": {
    "python": {
     "delete_cmd_postfix": "",
     "delete_cmd_prefix": "del ",
     "library": "var_list.py",
     "varRefreshCmd": "print(var_dic_list())"
    },
    "r": {
     "delete_cmd_postfix": ") ",
     "delete_cmd_prefix": "rm(",
     "library": "var_list.r",
     "varRefreshCmd": "cat(var_dic_list()) "
    }
   },
   "types_to_exclude": [
    "module",
    "function",
    "builtin_function_or_method",
    "instance",
    "_Feature"
   ],
   "window_display": false
  }
 },
 "nbformat": 4,
 "nbformat_minor": 4
}
