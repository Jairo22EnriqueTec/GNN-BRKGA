{
 "cells": [
  {
   "cell_type": "code",
   "execution_count": 2,
   "id": "6352166e",
   "metadata": {
    "ExecuteTime": {
     "end_time": "2022-10-29T13:43:59.545834Z",
     "start_time": "2022-10-29T13:43:59.526836Z"
    }
   },
   "outputs": [
    {
     "data": {
      "text/plain": [
       "'\\nparser = argparse.ArgumentParser()\\n\\nparser.add_argument(\"-th\", \"--Threshold\", help = \"Infection Threshold\", type = float)\\nparser.add_argument(\"-type\", \"--Type\", help = \"short, large or full\", type = str)\\nargs = parser.parse_args()\\n'"
      ]
     },
     "execution_count": 2,
     "metadata": {},
     "output_type": "execute_result"
    }
   ],
   "source": [
    "import igraph\n",
    "import dgl\n",
    "import torch\n",
    "import time\n",
    "import os\n",
    "import networkx as nx\n",
    "from datetime import datetime\n",
    "import pandas as pd\n",
    "from utils import *\n",
    "from GRAT import GRAT3\n",
    "import warnings\n",
    "warnings.filterwarnings('ignore')\n",
    "import argparse\n",
    "\"\"\"\n",
    "parser = argparse.ArgumentParser()\n",
    "\n",
    "parser.add_argument(\"-th\", \"--Threshold\", help = \"Infection Threshold\", type = float)\n",
    "parser.add_argument(\"-type\", \"--Type\", help = \"short, large or full\", type = str)\n",
    "args = parser.parse_args()\n",
    "\"\"\""
   ]
  },
  {
   "cell_type": "code",
   "execution_count": 4,
   "id": "4ecafdaf",
   "metadata": {
    "ExecuteTime": {
     "end_time": "2022-10-29T13:49:56.777567Z",
     "start_time": "2022-10-29T13:46:06.225675Z"
    }
   },
   "outputs": [
    {
     "name": "stdout",
     "output_type": "stream",
     "text": [
      "\n",
      "Evaluation of model: GRAT, seed: 13 in GRAT_seed_13_10-15_17-40.pt\n",
      "\n",
      "Loading ../BRKGA/instances/txt/ego-facebook.txt ...\n",
      "0.81 Infected\n",
      "0.81 Infected\n",
      "0.81 Infected\n",
      "0.81 Infected\n",
      "0.81 Infected\n",
      "0.81 Infected\n"
     ]
    },
    {
     "ename": "KeyboardInterrupt",
     "evalue": "",
     "output_type": "error",
     "traceback": [
      "\u001b[1;31m---------------------------------------------------------------------------\u001b[0m",
      "\u001b[1;31mKeyboardInterrupt\u001b[0m                         Traceback (most recent call last)",
      "Input \u001b[1;32mIn [4]\u001b[0m, in \u001b[0;36m<cell line: 74>\u001b[1;34m()\u001b[0m\n\u001b[0;32m     97\u001b[0m G \u001b[38;5;241m=\u001b[39m graph\u001b[38;5;241m.\u001b[39mto_networkx()\u001b[38;5;241m.\u001b[39mto_undirected()\n\u001b[0;32m     99\u001b[0m n \u001b[38;5;241m=\u001b[39m \u001b[38;5;28mlen\u001b[39m(G\u001b[38;5;241m.\u001b[39mnodes())\n\u001b[1;32m--> 101\u001b[0m _, minTargetGRAT \u001b[38;5;241m=\u001b[39m \u001b[43mFindMinimumTarget\u001b[49m\u001b[43m(\u001b[49m\u001b[43mG\u001b[49m\u001b[43m,\u001b[49m\u001b[43m \u001b[49m\u001b[43mout\u001b[49m\u001b[43m,\u001b[49m\u001b[43m \u001b[49m\u001b[43mthreshold\u001b[49m\u001b[43m)\u001b[49m\n\u001b[0;32m    103\u001b[0m final_time \u001b[38;5;241m=\u001b[39m (time\u001b[38;5;241m.\u001b[39mtime() \u001b[38;5;241m-\u001b[39m start_time)\n\u001b[0;32m    105\u001b[0m \u001b[38;5;28mprint\u001b[39m(\u001b[38;5;124mf\u001b[39m\u001b[38;5;124m\"\u001b[39m\u001b[38;5;132;01m{\u001b[39;00mc\u001b[38;5;132;01m}\u001b[39;00m\u001b[38;5;124m/\u001b[39m\u001b[38;5;132;01m{\u001b[39;00mTotal\u001b[38;5;132;01m}\u001b[39;00m\u001b[38;5;124m Graph: \u001b[39m\u001b[38;5;132;01m{\u001b[39;00mname\u001b[38;5;132;01m}\u001b[39;00m\u001b[38;5;124m\"\u001b[39m)\n",
      "File \u001b[1;32m~\\OneDrive - Instituto Tecnologico y de Estudios Superiores de Monterrey\\UAB\\IIIA\\GNN-BRKGA\\FastCover\\utils.py:58\u001b[0m, in \u001b[0;36mFindMinimumTarget\u001b[1;34m(G, out, threshold)\u001b[0m\n\u001b[0;32m     56\u001b[0m \u001b[38;5;28;01mif\u001b[39;00m Inf \u001b[38;5;129;01mnot\u001b[39;00m \u001b[38;5;129;01min\u001b[39;00m Infected:\n\u001b[0;32m     57\u001b[0m     Infected\u001b[38;5;241m.\u001b[39mappend(Inf)\n\u001b[1;32m---> 58\u001b[0m Sol, P,  Infected \u001b[38;5;241m=\u001b[39m \u001b[43mCheckInfect\u001b[49m\u001b[43m(\u001b[49m\u001b[43mG\u001b[49m\u001b[43m,\u001b[49m\u001b[43m \u001b[49m\u001b[43mInfected\u001b[49m\u001b[43m,\u001b[49m\u001b[43m \u001b[49m\u001b[43mthreshold\u001b[49m\u001b[43m \u001b[49m\u001b[38;5;241;43m=\u001b[39;49m\u001b[43m \u001b[49m\u001b[43mthreshold\u001b[49m\u001b[43m)\u001b[49m\n\u001b[0;32m     59\u001b[0m \u001b[38;5;28;01mif\u001b[39;00m Sol:\n\u001b[0;32m     60\u001b[0m     \u001b[38;5;28;01mbreak\u001b[39;00m\n",
      "File \u001b[1;32m~\\OneDrive - Instituto Tecnologico y de Estudios Superiores de Monterrey\\UAB\\IIIA\\GNN-BRKGA\\FastCover\\utils.py:24\u001b[0m, in \u001b[0;36mCheckInfect\u001b[1;34m(G, Infected, threshold)\u001b[0m\n\u001b[0;32m     22\u001b[0m \u001b[38;5;28;01mfor\u001b[39;00m Inf \u001b[38;5;129;01min\u001b[39;00m InfectedTemp:\n\u001b[0;32m     23\u001b[0m     \u001b[38;5;28;01mfor\u001b[39;00m neighborL1 \u001b[38;5;129;01min\u001b[39;00m nx\u001b[38;5;241m.\u001b[39mneighbors(G, Inf):\n\u001b[1;32m---> 24\u001b[0m         \u001b[38;5;28;01mif\u001b[39;00m neighborL1 \u001b[38;5;129;01min\u001b[39;00m \u001b[43mInfected\u001b[49m:\n\u001b[0;32m     25\u001b[0m             \u001b[38;5;28;01mcontinue\u001b[39;00m\n\u001b[0;32m     27\u001b[0m         TotalNeighbors \u001b[38;5;241m=\u001b[39m [v \u001b[38;5;28;01mfor\u001b[39;00m v \u001b[38;5;129;01min\u001b[39;00m nx\u001b[38;5;241m.\u001b[39mneighbors(G, neighborL1)]\n",
      "\u001b[1;31mKeyboardInterrupt\u001b[0m: "
     ]
    }
   ],
   "source": [
    "\n",
    "\n",
    "Graphs_short = [\n",
    " 'ego-facebook.txt']\n",
    "\"\"\"\n",
    " 'gemsec_facebook_artist.txt',\n",
    " 'graph_actors_dat.txt',\n",
    " 'graph_CA-AstroPh.txt',\n",
    " 'graph_CA-CondMat.txt',\n",
    " 'graph_CA-GrQc.txt',\n",
    " 'graph_CA-HepPh.txt',\n",
    " 'graph_CA-HepTh.txt',\n",
    " 'graph_dolphins.txt',\n",
    " 'graph_Email-Enron.txt',\n",
    " 'graph_football.txt',\n",
    " 'graph_jazz.txt',\n",
    " 'graph_karate.txt',\n",
    " 'graph_ncstrlwg2.txt',\n",
    " 'soc-gplus.txt',\n",
    " 'socfb-Brandeis99.txt',\n",
    " 'socfb-Mich67.txt',\n",
    " 'socfb-nips-ego.txt']\n",
    "\"\"\"\n",
    "\n",
    "Graphs_large = ['Amazon0302.txt',\n",
    " 'Amazon0312.txt',\n",
    " 'Amazon0505.txt',\n",
    " 'Amazon0601.txt',\n",
    " 'com-youtube.ungraph.txt',\n",
    " 'com-dblp.ungraph.txt',\n",
    " 'loc-gowalla_edges.txt',\n",
    " 'deezer_HR.txt',\n",
    " 'musae_git.txt']\n",
    "\n",
    "PATH_TO_TEST = \"../BRKGA/instances/txt/\"\n",
    "Graphs = Graphs_short\n",
    "\"\"\"\n",
    "if args.Type == \"short\":\n",
    "    Graphs = Graphs_short\n",
    "elif args.Type == \"large\":\n",
    "    Graphs = Graphs_large\n",
    "elif args.Type == \"full\":\n",
    "    Graphs = [graph for graph in os.listdir(PATH_TO_TEST)]\n",
    "else:\n",
    "    raise NameError(\"Only: 'short', 'large' or 'full\")\n",
    "\"\"\"\n",
    "\n",
    "PATH_SAVE_TRAINS = \"runs/\"\n",
    "PATH_SAVE_RESULTS = 'results/'\n",
    "\n",
    "NAME_SAVE_RESULTS = 'FastCover' #Change this\n",
    "\n",
    "FEATURE_TYPE = \"1\"\n",
    "HIDDEN_FEATS = [32]*6\n",
    "input_dim = 32\n",
    "use_cuda = False\n",
    "directed_test = False\n",
    "\n",
    "#threshold = args.Threshold\n",
    "threshold = 0.1\n",
    "dt_string = datetime.now().strftime(\"%m-%d_%H-%M\")\n",
    "\n",
    "RUNS_LIST = [run for run in os.listdir(PATH_SAVE_TRAINS) if \".pt\" in run]\n",
    "\n",
    "SEEDS = []\n",
    "MODELS = []\n",
    "for run_name in RUNS_LIST:\n",
    "    SEEDS.append(run_name.split(\"_\")[2])\n",
    "    MODELS.append(run_name.split(\"_\")[0])\n",
    "\n",
    "\n",
    "records = []\n",
    "\n",
    "Total = len(Graphs)\n",
    "    \n",
    "for run_name, model, seed in zip(RUNS_LIST, MODELS, SEEDS):\n",
    "    print()\n",
    "    print(f\"Evaluation of model: {model}, seed: {seed} in {run_name}\")\n",
    "    print()\n",
    "    \n",
    "    if model == 'GRAT':\n",
    "        net = GRAT3(*HIDDEN_FEATS)\n",
    "        net.load_state_dict(torch.load(PATH_SAVE_TRAINS+run_name))\n",
    "    if use_cuda:\n",
    "        net.cuda()\n",
    "\n",
    "    c = 1\n",
    "    for file in Graphs:\n",
    "            print(f\"Loading {PATH_TO_TEST+file} ...\")\n",
    "            name = file.split(\".\")[0].replace(\"graph_\", \"\")\n",
    "\n",
    "            graph = igraph.Graph().Read_Edgelist(PATH_TO_TEST + file)\n",
    "\n",
    "            dglgraph = get_rev_dgl(graph, FEATURE_TYPE, input_dim, directed_test, use_cuda)\n",
    "            \n",
    "            print(\"Starting infection\")\n",
    "            \n",
    "            start_time = time.time()\n",
    "\n",
    "            out = net.grat(dglgraph, dglgraph.ndata['feat']).squeeze(1)\n",
    "\n",
    "            G = graph.to_networkx().to_undirected()\n",
    "\n",
    "            n = len(G.nodes())\n",
    "\n",
    "            _, minTargetGRAT = FindMinimumTarget(G, out, threshold)\n",
    "\n",
    "            final_time = (time.time() - start_time)\n",
    "\n",
    "            print(f\"{c}/{Total} Graph: {name}\")\n",
    "            print(f\"Best Target Set length: {minTargetGRAT} out of {n}\")\n",
    "            print(f\"Ratio Solution / Graph lentgh: {minTargetGRAT/n:.2f}\")\n",
    "            print()\n",
    "            records.append({\n",
    "            \"graph\": name,\n",
    "            \"model\": model,\n",
    "            \"seed\": seed,\n",
    "            \"threshold\": threshold,\n",
    "            \"n_covered\": minTargetGRAT,\n",
    "            \"n\": n,\n",
    "            \"coverage\": minTargetGRAT/n,\n",
    "            \"t_mean\": final_time\n",
    "            })\n",
    "\n",
    "            pd.DataFrame(records).to_csv(PATH_SAVE_RESULTS + NAME_SAVE_RESULTS +\"_\" + dt_string + \".csv\")\n",
    "\n",
    "            c+=1\n",
    "print(f\"Evaluation has finnished successfully. \\nData saved in {PATH_SAVE_RESULTS}\")"
   ]
  }
 ],
 "metadata": {
  "hide_input": false,
  "kernelspec": {
   "display_name": "Python 3 (ipykernel)",
   "language": "python",
   "name": "python3"
  },
  "language_info": {
   "codemirror_mode": {
    "name": "ipython",
    "version": 3
   },
   "file_extension": ".py",
   "mimetype": "text/x-python",
   "name": "python",
   "nbconvert_exporter": "python",
   "pygments_lexer": "ipython3",
   "version": "3.8.5"
  },
  "varInspector": {
   "cols": {
    "lenName": 16,
    "lenType": 16,
    "lenVar": 40
   },
   "kernels_config": {
    "python": {
     "delete_cmd_postfix": "",
     "delete_cmd_prefix": "del ",
     "library": "var_list.py",
     "varRefreshCmd": "print(var_dic_list())"
    },
    "r": {
     "delete_cmd_postfix": ") ",
     "delete_cmd_prefix": "rm(",
     "library": "var_list.r",
     "varRefreshCmd": "cat(var_dic_list()) "
    }
   },
   "types_to_exclude": [
    "module",
    "function",
    "builtin_function_or_method",
    "instance",
    "_Feature"
   ],
   "window_display": false
  }
 },
 "nbformat": 4,
 "nbformat_minor": 5
}
