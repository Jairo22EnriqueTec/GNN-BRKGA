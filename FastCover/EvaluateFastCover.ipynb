{
 "cells": [
  {
   "cell_type": "code",
   "execution_count": 1,
   "metadata": {
    "ExecuteTime": {
     "end_time": "2022-10-22T11:55:53.821898Z",
     "start_time": "2022-10-22T11:55:49.889834Z"
    }
   },
   "outputs": [],
   "source": [
    "import igraph\n",
    "import dgl\n",
    "import torch\n",
    "import time\n",
    "import os\n",
    "import networkx as nx\n",
    "from datetime import datetime\n",
    "import pandas as pd\n",
    "from utils import *\n",
    "from GRAT import GRAT3"
   ]
  },
  {
   "cell_type": "code",
   "execution_count": 2,
   "metadata": {
    "ExecuteTime": {
     "end_time": "2022-10-22T11:55:54.381473Z",
     "start_time": "2022-10-22T11:55:54.373920Z"
    }
   },
   "outputs": [],
   "source": [
    "PATH_SAVE_TRAINS = \"runs/\"\n",
    "\n",
    "PATH_SAVE_RESULTS = 'results/'\n",
    "NAME_SAVE_RESULTS = 'FastCover'\n",
    "\n",
    "PATH_TO_TEST = \"../BRKGA/instances/txt/\"\n",
    "\n",
    "FEATURE_TYPE = \"1\"\n",
    "HIDDEN_FEATS = [32]*6\n",
    "input_dim = 32\n",
    "use_cuda = False\n",
    "directed_test = False\n",
    "\n",
    "threshold = 0.5\n",
    "\n",
    "dt_string = datetime.now().strftime(\"%m-%d_%H-%M\")"
   ]
  },
  {
   "cell_type": "markdown",
   "metadata": {},
   "source": [
    "## Funciones"
   ]
  },
  {
   "cell_type": "markdown",
   "metadata": {},
   "source": [
    "### Funciones de difusion"
   ]
  },
  {
   "cell_type": "markdown",
   "metadata": {},
   "source": [
    "## Evaluando"
   ]
  },
  {
   "cell_type": "code",
   "execution_count": 3,
   "metadata": {
    "ExecuteTime": {
     "end_time": "2022-10-22T11:55:54.992352Z",
     "start_time": "2022-10-22T11:55:54.987242Z"
    }
   },
   "outputs": [],
   "source": [
    "RUNS_LIST = [run for run in os.listdir(PATH_SAVE_TRAINS) if \".pt\" in run]"
   ]
  },
  {
   "cell_type": "code",
   "execution_count": 4,
   "metadata": {
    "ExecuteTime": {
     "end_time": "2022-10-22T11:55:55.197309Z",
     "start_time": "2022-10-22T11:55:55.177060Z"
    }
   },
   "outputs": [],
   "source": [
    "SEEDS = []\n",
    "MODELS = []\n",
    "for run_name in RUNS_LIST:\n",
    "    SEEDS.append(run_name.split(\"_\")[2])\n",
    "    MODELS.append(run_name.split(\"_\")[0])"
   ]
  },
  {
   "cell_type": "code",
   "execution_count": 5,
   "metadata": {
    "ExecuteTime": {
     "end_time": "2022-10-22T11:56:07.705661Z",
     "start_time": "2022-10-22T11:55:55.377210Z"
    }
   },
   "outputs": [
    {
     "name": "stdout",
     "output_type": "stream",
     "text": [
      "\n",
      "Evaluation of model: GRAT, seed: 13 in GRAT_seed_13_10-15_17-40.pt\n",
      "\n",
      "Loading ../BRKGA/instances/txt/graph_football.txt ...\n",
      "Loading ../BRKGA/instances/txt/graph_karate.txt ...\n",
      "Loading ../BRKGA/instances/txt/graph_dolphins.txt ...\n",
      "Loading ../BRKGA/instances/txt/graph_jazz.txt ...\n",
      "\n",
      "----- Beginning evaluation -----\n",
      "\n",
      "1/4 Graph: football\n",
      "Best Target Set length: 48 out of 115\n",
      "Ratio Solution / Graph lentgh: 0.42\n",
      "\n",
      "2/4 Graph: karate\n",
      "Best Target Set length: 17 out of 62\n",
      "Ratio Solution / Graph lentgh: 0.27\n",
      "\n",
      "3/4 Graph: dolphins\n",
      "Best Target Set length: 12 out of 34\n",
      "Ratio Solution / Graph lentgh: 0.35\n",
      "\n",
      "4/4 Graph: jazz\n",
      "Best Target Set length: 90 out of 198\n",
      "Ratio Solution / Graph lentgh: 0.45\n",
      "\n"
     ]
    }
   ],
   "source": [
    "for run_name, model, seed in zip(RUNS_LIST, MODELS, SEEDS):\n",
    "    print()\n",
    "    print(f\"Evaluation of model: {model}, seed: {seed} in {run_name}\")\n",
    "    print()\n",
    "    \n",
    "    if model == 'GRAT':\n",
    "        net = GRAT3(*HIDDEN_FEATS)\n",
    "        net.load_state_dict(torch.load(PATH_SAVE_TRAINS+run_name))\n",
    "    if use_cuda:\n",
    "        net.cuda()\n",
    "\n",
    "    Graphs = [graph for graph in os.listdir(PATH_TO_TEST)]\n",
    "    Graphs = ['graph_football.txt', 'graph_karate.txt', 'graph_dolphins.txt', 'graph_jazz.txt']\n",
    "    \n",
    "    graphs = []\n",
    "    dglgraphs = []\n",
    "    names = []\n",
    "    for file in Graphs:\n",
    "            print(f\"Loading {PATH_TO_TEST+file} ...\")\n",
    "            names.append(file.split(\".\")[0].replace(\"graph_\", \"\"))\n",
    "\n",
    "            graph = igraph.Graph().Read_Edgelist(\"../BRKGA/instances/txt/\"+file)\n",
    "            graphs.append(graph)\n",
    "\n",
    "            dglgraph = get_rev_dgl(graph, FEATURE_TYPE, input_dim, directed_test, use_cuda)\n",
    "            dglgraphs.append(dglgraph)\n",
    "\n",
    "    print()\n",
    "    print(\"----- Beginning evaluation -----\")\n",
    "    print()\n",
    "    records = []\n",
    "    \n",
    "    c = 1\n",
    "    Total = len(names)\n",
    "    \n",
    "    for dglgraph, graph, name in zip(dglgraphs, graphs, names):\n",
    "        start_time = time.time()\n",
    "\n",
    "        out = net.grat(dglgraph, dglgraph.ndata['feat']).squeeze(1)\n",
    "\n",
    "        G = graph.to_networkx().to_undirected()\n",
    "\n",
    "        n = len(G.nodes())\n",
    "\n",
    "        _, minTargetGRAT = FindMinimumTarget(G, out, threshold)\n",
    "\n",
    "        final_time = (time.time() - start_time)\n",
    "\n",
    "        print(f\"{c}/{Total} Graph: {name}\")\n",
    "        print(f\"Best Target Set length: {minTargetGRAT} out of {n}\")\n",
    "        print(f\"Ratio Solution / Graph lentgh: {minTargetGRAT/n:.2f}\")\n",
    "        print()\n",
    "        records.append({\n",
    "        \"graph\": name,\n",
    "        \"model\": model,\n",
    "        \"seed\": seed,\n",
    "        \"threshold\": threshold,\n",
    "        \"n_covered\": minTargetGRAT,\n",
    "        \"n\": n,\n",
    "        \"coverage\": minTargetGRAT/n,\n",
    "        \"t_mean\": final_time\n",
    "        })\n",
    "    \n",
    "        pd.DataFrame(records).to_csv(PATH_SAVE_RESULTS + NAME_SAVE_RESULTS +\"_\" + dt_string + \".csv\")\n",
    "        \n",
    "        c+=1\n"
   ]
  },
  {
   "cell_type": "code",
   "execution_count": null,
   "metadata": {},
   "outputs": [],
   "source": []
  },
  {
   "cell_type": "code",
   "execution_count": null,
   "metadata": {},
   "outputs": [],
   "source": []
  }
 ],
 "metadata": {
  "hide_input": false,
  "kernelspec": {
   "display_name": "Python 3",
   "language": "python",
   "name": "python3"
  },
  "language_info": {
   "codemirror_mode": {
    "name": "ipython",
    "version": 3
   },
   "file_extension": ".py",
   "mimetype": "text/x-python",
   "name": "python",
   "nbconvert_exporter": "python",
   "pygments_lexer": "ipython3",
   "version": "3.8.5"
  },
  "varInspector": {
   "cols": {
    "lenName": 16,
    "lenType": 16,
    "lenVar": 40
   },
   "kernels_config": {
    "python": {
     "delete_cmd_postfix": "",
     "delete_cmd_prefix": "del ",
     "library": "var_list.py",
     "varRefreshCmd": "print(var_dic_list())"
    },
    "r": {
     "delete_cmd_postfix": ") ",
     "delete_cmd_prefix": "rm(",
     "library": "var_list.r",
     "varRefreshCmd": "cat(var_dic_list()) "
    }
   },
   "types_to_exclude": [
    "module",
    "function",
    "builtin_function_or_method",
    "instance",
    "_Feature"
   ],
   "window_display": false
  }
 },
 "nbformat": 4,
 "nbformat_minor": 4
}
