{
 "cells": [
  {
   "cell_type": "code",
   "execution_count": 2,
   "id": "5cdc2e61",
   "metadata": {
    "ExecuteTime": {
     "end_time": "2023-01-12T14:08:38.873047Z",
     "start_time": "2023-01-12T14:08:33.768550Z"
    }
   },
   "outputs": [],
   "source": [
    "import numpy as np\n",
    "import pandas as pd\n",
    "import plotly.express as px\n",
    "import seaborn as sns\n",
    "import matplotlib.pyplot as plt"
   ]
  },
  {
   "cell_type": "code",
   "execution_count": 3,
   "id": "e8225ed8",
   "metadata": {
    "ExecuteTime": {
     "end_time": "2023-01-12T14:28:59.696096Z",
     "start_time": "2023-01-12T14:28:59.676159Z"
    }
   },
   "outputs": [],
   "source": [
    "general = 'socialnetworks'\n",
    "tipo = \"scalefree_MDH_socialnetworks\"\n",
    "subfijo = \"_SMS\""
   ]
  },
  {
   "cell_type": "code",
   "execution_count": 4,
   "id": "f1102e59",
   "metadata": {
    "ExecuteTime": {
     "end_time": "2023-01-12T14:29:00.242204Z",
     "start_time": "2023-01-12T14:29:00.230382Z"
    }
   },
   "outputs": [],
   "source": [
    "\"\"\"\n",
    "EME: GRAT > MDH > GAT\n",
    "EIE: MDH > SAGE > GRAT \n",
    "\n",
    "** GAT es muy mala heurística pura y sage muy buena\n",
    "\n",
    "SIE: MDH > GRAT > SAGE\n",
    "SME: GRAT > MDH > GAT\n",
    "\n",
    "\n",
    "EMS: \n",
    "SMS: \n",
    "SIS:\n",
    "EIS:\n",
    "\"\"\";"
   ]
  },
  {
   "cell_type": "code",
   "execution_count": 5,
   "id": "d4169fc4",
   "metadata": {
    "ExecuteTime": {
     "end_time": "2023-01-12T14:29:00.474522Z",
     "start_time": "2023-01-12T14:29:00.431031Z"
    }
   },
   "outputs": [
    {
     "data": {
      "text/html": [
       "<div>\n",
       "<style scoped>\n",
       "    .dataframe tbody tr th:only-of-type {\n",
       "        vertical-align: middle;\n",
       "    }\n",
       "\n",
       "    .dataframe tbody tr th {\n",
       "        vertical-align: top;\n",
       "    }\n",
       "\n",
       "    .dataframe thead th {\n",
       "        text-align: right;\n",
       "    }\n",
       "</style>\n",
       "<table border=\"1\" class=\"dataframe\">\n",
       "  <thead>\n",
       "    <tr style=\"text-align: right;\">\n",
       "      <th></th>\n",
       "      <th>graph</th>\n",
       "      <th>model</th>\n",
       "      <th>target_size</th>\n",
       "      <th>n</th>\n",
       "      <th>t_mean</th>\n",
       "    </tr>\n",
       "  </thead>\n",
       "  <tbody>\n",
       "    <tr>\n",
       "      <th>0</th>\n",
       "      <td>graph_football</td>\n",
       "      <td>GRAT</td>\n",
       "      <td>32</td>\n",
       "      <td>115</td>\n",
       "      <td>0.00</td>\n",
       "    </tr>\n",
       "    <tr>\n",
       "      <th>1</th>\n",
       "      <td>graph_jazz</td>\n",
       "      <td>GRAT</td>\n",
       "      <td>33</td>\n",
       "      <td>198</td>\n",
       "      <td>0.00</td>\n",
       "    </tr>\n",
       "    <tr>\n",
       "      <th>2</th>\n",
       "      <td>graph_karate</td>\n",
       "      <td>GRAT</td>\n",
       "      <td>8</td>\n",
       "      <td>62</td>\n",
       "      <td>0.00</td>\n",
       "    </tr>\n",
       "    <tr>\n",
       "      <th>3</th>\n",
       "      <td>gemsec_facebook_artist</td>\n",
       "      <td>GRAT</td>\n",
       "      <td>978</td>\n",
       "      <td>50515</td>\n",
       "      <td>0.37</td>\n",
       "    </tr>\n",
       "    <tr>\n",
       "      <th>4</th>\n",
       "      <td>ego-facebook</td>\n",
       "      <td>GRAT</td>\n",
       "      <td>528</td>\n",
       "      <td>4039</td>\n",
       "      <td>0.05</td>\n",
       "    </tr>\n",
       "  </tbody>\n",
       "</table>\n",
       "</div>"
      ],
      "text/plain": [
       "                    graph model  target_size      n  t_mean\n",
       "0          graph_football  GRAT           32    115    0.00\n",
       "1              graph_jazz  GRAT           33    198    0.00\n",
       "2            graph_karate  GRAT            8     62    0.00\n",
       "3  gemsec_facebook_artist  GRAT          978  50515    0.37\n",
       "4            ego-facebook  GRAT          528   4039    0.05"
      ]
     },
     "execution_count": 5,
     "metadata": {},
     "output_type": "execute_result"
    }
   ],
   "source": [
    "FastCover = pd.read_csv(f\"FastCover/results/{tipo}/FCResults{subfijo}.txt\", header = None)\n",
    "#FastCover = pd.read_csv(\"FastCover/results/paper/FastCoverResults_MDH_erdos.txt\", header = None)\n",
    "FastCover.columns = [\"graph\", \"target_size\",\"t_mean\",\"n\"]\n",
    "FastCover[\"model\"] = \"GRAT\"\n",
    "FastCover = FastCover[[\"graph\", \"model\",\"target_size\", \"n\", \"t_mean\"]]\n",
    "FastCover.head()"
   ]
  },
  {
   "cell_type": "code",
   "execution_count": 6,
   "id": "122c71a7",
   "metadata": {
    "ExecuteTime": {
     "end_time": "2023-01-12T14:29:01.226277Z",
     "start_time": "2023-01-12T14:29:01.130185Z"
    }
   },
   "outputs": [
    {
     "ename": "FileNotFoundError",
     "evalue": "[Errno 2] No such file or directory: 'Models/results/scalefree_MDH_socialnetworks/GATResults_SMS.txt'",
     "output_type": "error",
     "traceback": [
      "\u001b[0;31m---------------------------------------------------------------------------\u001b[0m",
      "\u001b[0;31mFileNotFoundError\u001b[0m                         Traceback (most recent call last)",
      "\u001b[0;32m/tmp/ipykernel_18520/1614886549.py\u001b[0m in \u001b[0;36m<module>\u001b[0;34m\u001b[0m\n\u001b[1;32m      4\u001b[0m \u001b[0;32mfor\u001b[0m \u001b[0mmodel\u001b[0m \u001b[0;32min\u001b[0m \u001b[0mmodels\u001b[0m\u001b[0;34m:\u001b[0m\u001b[0;34m\u001b[0m\u001b[0;34m\u001b[0m\u001b[0m\n\u001b[1;32m      5\u001b[0m \u001b[0;34m\u001b[0m\u001b[0m\n\u001b[0;32m----> 6\u001b[0;31m     \u001b[0mGNN\u001b[0m \u001b[0;34m=\u001b[0m \u001b[0mpd\u001b[0m\u001b[0;34m.\u001b[0m\u001b[0mread_csv\u001b[0m\u001b[0;34m(\u001b[0m\u001b[0;34mf\"Models/results/{tipo}/{model}Results{subfijo}.txt\"\u001b[0m\u001b[0;34m,\u001b[0m \u001b[0mheader\u001b[0m \u001b[0;34m=\u001b[0m \u001b[0;32mNone\u001b[0m\u001b[0;34m)\u001b[0m\u001b[0;34m\u001b[0m\u001b[0;34m\u001b[0m\u001b[0m\n\u001b[0m\u001b[1;32m      7\u001b[0m     \u001b[0;31m#GNN = pd.read_csv(f\"Models/results/paper/{model}Results_MDH_erdos.txt\", header = None)\u001b[0m\u001b[0;34m\u001b[0m\u001b[0;34m\u001b[0m\u001b[0m\n\u001b[1;32m      8\u001b[0m \u001b[0;34m\u001b[0m\u001b[0m\n",
      "\u001b[0;32m~/anaconda3/lib/python3.9/site-packages/pandas/util/_decorators.py\u001b[0m in \u001b[0;36mwrapper\u001b[0;34m(*args, **kwargs)\u001b[0m\n\u001b[1;32m    309\u001b[0m                     \u001b[0mstacklevel\u001b[0m\u001b[0;34m=\u001b[0m\u001b[0mstacklevel\u001b[0m\u001b[0;34m,\u001b[0m\u001b[0;34m\u001b[0m\u001b[0;34m\u001b[0m\u001b[0m\n\u001b[1;32m    310\u001b[0m                 )\n\u001b[0;32m--> 311\u001b[0;31m             \u001b[0;32mreturn\u001b[0m \u001b[0mfunc\u001b[0m\u001b[0;34m(\u001b[0m\u001b[0;34m*\u001b[0m\u001b[0margs\u001b[0m\u001b[0;34m,\u001b[0m \u001b[0;34m**\u001b[0m\u001b[0mkwargs\u001b[0m\u001b[0;34m)\u001b[0m\u001b[0;34m\u001b[0m\u001b[0;34m\u001b[0m\u001b[0m\n\u001b[0m\u001b[1;32m    312\u001b[0m \u001b[0;34m\u001b[0m\u001b[0m\n\u001b[1;32m    313\u001b[0m         \u001b[0;32mreturn\u001b[0m \u001b[0mwrapper\u001b[0m\u001b[0;34m\u001b[0m\u001b[0;34m\u001b[0m\u001b[0m\n",
      "\u001b[0;32m~/anaconda3/lib/python3.9/site-packages/pandas/io/parsers/readers.py\u001b[0m in \u001b[0;36mread_csv\u001b[0;34m(filepath_or_buffer, sep, delimiter, header, names, index_col, usecols, squeeze, prefix, mangle_dupe_cols, dtype, engine, converters, true_values, false_values, skipinitialspace, skiprows, skipfooter, nrows, na_values, keep_default_na, na_filter, verbose, skip_blank_lines, parse_dates, infer_datetime_format, keep_date_col, date_parser, dayfirst, cache_dates, iterator, chunksize, compression, thousands, decimal, lineterminator, quotechar, quoting, doublequote, escapechar, comment, encoding, encoding_errors, dialect, error_bad_lines, warn_bad_lines, on_bad_lines, delim_whitespace, low_memory, memory_map, float_precision, storage_options)\u001b[0m\n\u001b[1;32m    584\u001b[0m     \u001b[0mkwds\u001b[0m\u001b[0;34m.\u001b[0m\u001b[0mupdate\u001b[0m\u001b[0;34m(\u001b[0m\u001b[0mkwds_defaults\u001b[0m\u001b[0;34m)\u001b[0m\u001b[0;34m\u001b[0m\u001b[0;34m\u001b[0m\u001b[0m\n\u001b[1;32m    585\u001b[0m \u001b[0;34m\u001b[0m\u001b[0m\n\u001b[0;32m--> 586\u001b[0;31m     \u001b[0;32mreturn\u001b[0m \u001b[0m_read\u001b[0m\u001b[0;34m(\u001b[0m\u001b[0mfilepath_or_buffer\u001b[0m\u001b[0;34m,\u001b[0m \u001b[0mkwds\u001b[0m\u001b[0;34m)\u001b[0m\u001b[0;34m\u001b[0m\u001b[0;34m\u001b[0m\u001b[0m\n\u001b[0m\u001b[1;32m    587\u001b[0m \u001b[0;34m\u001b[0m\u001b[0m\n\u001b[1;32m    588\u001b[0m \u001b[0;34m\u001b[0m\u001b[0m\n",
      "\u001b[0;32m~/anaconda3/lib/python3.9/site-packages/pandas/io/parsers/readers.py\u001b[0m in \u001b[0;36m_read\u001b[0;34m(filepath_or_buffer, kwds)\u001b[0m\n\u001b[1;32m    480\u001b[0m \u001b[0;34m\u001b[0m\u001b[0m\n\u001b[1;32m    481\u001b[0m     \u001b[0;31m# Create the parser.\u001b[0m\u001b[0;34m\u001b[0m\u001b[0;34m\u001b[0m\u001b[0m\n\u001b[0;32m--> 482\u001b[0;31m     \u001b[0mparser\u001b[0m \u001b[0;34m=\u001b[0m \u001b[0mTextFileReader\u001b[0m\u001b[0;34m(\u001b[0m\u001b[0mfilepath_or_buffer\u001b[0m\u001b[0;34m,\u001b[0m \u001b[0;34m**\u001b[0m\u001b[0mkwds\u001b[0m\u001b[0;34m)\u001b[0m\u001b[0;34m\u001b[0m\u001b[0;34m\u001b[0m\u001b[0m\n\u001b[0m\u001b[1;32m    483\u001b[0m \u001b[0;34m\u001b[0m\u001b[0m\n\u001b[1;32m    484\u001b[0m     \u001b[0;32mif\u001b[0m \u001b[0mchunksize\u001b[0m \u001b[0;32mor\u001b[0m \u001b[0miterator\u001b[0m\u001b[0;34m:\u001b[0m\u001b[0;34m\u001b[0m\u001b[0;34m\u001b[0m\u001b[0m\n",
      "\u001b[0;32m~/anaconda3/lib/python3.9/site-packages/pandas/io/parsers/readers.py\u001b[0m in \u001b[0;36m__init__\u001b[0;34m(self, f, engine, **kwds)\u001b[0m\n\u001b[1;32m    809\u001b[0m             \u001b[0mself\u001b[0m\u001b[0;34m.\u001b[0m\u001b[0moptions\u001b[0m\u001b[0;34m[\u001b[0m\u001b[0;34m\"has_index_names\"\u001b[0m\u001b[0;34m]\u001b[0m \u001b[0;34m=\u001b[0m \u001b[0mkwds\u001b[0m\u001b[0;34m[\u001b[0m\u001b[0;34m\"has_index_names\"\u001b[0m\u001b[0;34m]\u001b[0m\u001b[0;34m\u001b[0m\u001b[0;34m\u001b[0m\u001b[0m\n\u001b[1;32m    810\u001b[0m \u001b[0;34m\u001b[0m\u001b[0m\n\u001b[0;32m--> 811\u001b[0;31m         \u001b[0mself\u001b[0m\u001b[0;34m.\u001b[0m\u001b[0m_engine\u001b[0m \u001b[0;34m=\u001b[0m \u001b[0mself\u001b[0m\u001b[0;34m.\u001b[0m\u001b[0m_make_engine\u001b[0m\u001b[0;34m(\u001b[0m\u001b[0mself\u001b[0m\u001b[0;34m.\u001b[0m\u001b[0mengine\u001b[0m\u001b[0;34m)\u001b[0m\u001b[0;34m\u001b[0m\u001b[0;34m\u001b[0m\u001b[0m\n\u001b[0m\u001b[1;32m    812\u001b[0m \u001b[0;34m\u001b[0m\u001b[0m\n\u001b[1;32m    813\u001b[0m     \u001b[0;32mdef\u001b[0m \u001b[0mclose\u001b[0m\u001b[0;34m(\u001b[0m\u001b[0mself\u001b[0m\u001b[0;34m)\u001b[0m\u001b[0;34m:\u001b[0m\u001b[0;34m\u001b[0m\u001b[0;34m\u001b[0m\u001b[0m\n",
      "\u001b[0;32m~/anaconda3/lib/python3.9/site-packages/pandas/io/parsers/readers.py\u001b[0m in \u001b[0;36m_make_engine\u001b[0;34m(self, engine)\u001b[0m\n\u001b[1;32m   1038\u001b[0m             )\n\u001b[1;32m   1039\u001b[0m         \u001b[0;31m# error: Too many arguments for \"ParserBase\"\u001b[0m\u001b[0;34m\u001b[0m\u001b[0;34m\u001b[0m\u001b[0m\n\u001b[0;32m-> 1040\u001b[0;31m         \u001b[0;32mreturn\u001b[0m \u001b[0mmapping\u001b[0m\u001b[0;34m[\u001b[0m\u001b[0mengine\u001b[0m\u001b[0;34m]\u001b[0m\u001b[0;34m(\u001b[0m\u001b[0mself\u001b[0m\u001b[0;34m.\u001b[0m\u001b[0mf\u001b[0m\u001b[0;34m,\u001b[0m \u001b[0;34m**\u001b[0m\u001b[0mself\u001b[0m\u001b[0;34m.\u001b[0m\u001b[0moptions\u001b[0m\u001b[0;34m)\u001b[0m  \u001b[0;31m# type: ignore[call-arg]\u001b[0m\u001b[0;34m\u001b[0m\u001b[0;34m\u001b[0m\u001b[0m\n\u001b[0m\u001b[1;32m   1041\u001b[0m \u001b[0;34m\u001b[0m\u001b[0m\n\u001b[1;32m   1042\u001b[0m     \u001b[0;32mdef\u001b[0m \u001b[0m_failover_to_python\u001b[0m\u001b[0;34m(\u001b[0m\u001b[0mself\u001b[0m\u001b[0;34m)\u001b[0m\u001b[0;34m:\u001b[0m\u001b[0;34m\u001b[0m\u001b[0;34m\u001b[0m\u001b[0m\n",
      "\u001b[0;32m~/anaconda3/lib/python3.9/site-packages/pandas/io/parsers/c_parser_wrapper.py\u001b[0m in \u001b[0;36m__init__\u001b[0;34m(self, src, **kwds)\u001b[0m\n\u001b[1;32m     49\u001b[0m \u001b[0;34m\u001b[0m\u001b[0m\n\u001b[1;32m     50\u001b[0m         \u001b[0;31m# open handles\u001b[0m\u001b[0;34m\u001b[0m\u001b[0;34m\u001b[0m\u001b[0m\n\u001b[0;32m---> 51\u001b[0;31m         \u001b[0mself\u001b[0m\u001b[0;34m.\u001b[0m\u001b[0m_open_handles\u001b[0m\u001b[0;34m(\u001b[0m\u001b[0msrc\u001b[0m\u001b[0;34m,\u001b[0m \u001b[0mkwds\u001b[0m\u001b[0;34m)\u001b[0m\u001b[0;34m\u001b[0m\u001b[0;34m\u001b[0m\u001b[0m\n\u001b[0m\u001b[1;32m     52\u001b[0m         \u001b[0;32massert\u001b[0m \u001b[0mself\u001b[0m\u001b[0;34m.\u001b[0m\u001b[0mhandles\u001b[0m \u001b[0;32mis\u001b[0m \u001b[0;32mnot\u001b[0m \u001b[0;32mNone\u001b[0m\u001b[0;34m\u001b[0m\u001b[0;34m\u001b[0m\u001b[0m\n\u001b[1;32m     53\u001b[0m \u001b[0;34m\u001b[0m\u001b[0m\n",
      "\u001b[0;32m~/anaconda3/lib/python3.9/site-packages/pandas/io/parsers/base_parser.py\u001b[0m in \u001b[0;36m_open_handles\u001b[0;34m(self, src, kwds)\u001b[0m\n\u001b[1;32m    220\u001b[0m         \u001b[0mLet\u001b[0m \u001b[0mthe\u001b[0m \u001b[0mreaders\u001b[0m \u001b[0mopen\u001b[0m \u001b[0mIOHandles\u001b[0m \u001b[0mafter\u001b[0m \u001b[0mthey\u001b[0m \u001b[0mare\u001b[0m \u001b[0mdone\u001b[0m \u001b[0;32mwith\u001b[0m \u001b[0mtheir\u001b[0m \u001b[0mpotential\u001b[0m \u001b[0mraises\u001b[0m\u001b[0;34m.\u001b[0m\u001b[0;34m\u001b[0m\u001b[0;34m\u001b[0m\u001b[0m\n\u001b[1;32m    221\u001b[0m         \"\"\"\n\u001b[0;32m--> 222\u001b[0;31m         self.handles = get_handle(\n\u001b[0m\u001b[1;32m    223\u001b[0m             \u001b[0msrc\u001b[0m\u001b[0;34m,\u001b[0m\u001b[0;34m\u001b[0m\u001b[0;34m\u001b[0m\u001b[0m\n\u001b[1;32m    224\u001b[0m             \u001b[0;34m\"r\"\u001b[0m\u001b[0;34m,\u001b[0m\u001b[0;34m\u001b[0m\u001b[0;34m\u001b[0m\u001b[0m\n",
      "\u001b[0;32m~/anaconda3/lib/python3.9/site-packages/pandas/io/common.py\u001b[0m in \u001b[0;36mget_handle\u001b[0;34m(path_or_buf, mode, encoding, compression, memory_map, is_text, errors, storage_options)\u001b[0m\n\u001b[1;32m    700\u001b[0m         \u001b[0;32mif\u001b[0m \u001b[0mioargs\u001b[0m\u001b[0;34m.\u001b[0m\u001b[0mencoding\u001b[0m \u001b[0;32mand\u001b[0m \u001b[0;34m\"b\"\u001b[0m \u001b[0;32mnot\u001b[0m \u001b[0;32min\u001b[0m \u001b[0mioargs\u001b[0m\u001b[0;34m.\u001b[0m\u001b[0mmode\u001b[0m\u001b[0;34m:\u001b[0m\u001b[0;34m\u001b[0m\u001b[0;34m\u001b[0m\u001b[0m\n\u001b[1;32m    701\u001b[0m             \u001b[0;31m# Encoding\u001b[0m\u001b[0;34m\u001b[0m\u001b[0;34m\u001b[0m\u001b[0m\n\u001b[0;32m--> 702\u001b[0;31m             handle = open(\n\u001b[0m\u001b[1;32m    703\u001b[0m                 \u001b[0mhandle\u001b[0m\u001b[0;34m,\u001b[0m\u001b[0;34m\u001b[0m\u001b[0;34m\u001b[0m\u001b[0m\n\u001b[1;32m    704\u001b[0m                 \u001b[0mioargs\u001b[0m\u001b[0;34m.\u001b[0m\u001b[0mmode\u001b[0m\u001b[0;34m,\u001b[0m\u001b[0;34m\u001b[0m\u001b[0;34m\u001b[0m\u001b[0m\n",
      "\u001b[0;31mFileNotFoundError\u001b[0m: [Errno 2] No such file or directory: 'Models/results/scalefree_MDH_socialnetworks/GATResults_SMS.txt'"
     ]
    }
   ],
   "source": [
    "#models = ['GAT', \"GCN\", \"GraphConv\", \"SAGE\", \"SGConv\"]\n",
    "models = ['GAT', \"GCN\", \"GraphConv\", \"SAGE\", \"SGConv\"]\n",
    "Full = pd.DataFrame()\n",
    "\n",
    "for model in models:\n",
    "    \n",
    "    GNN = pd.read_csv(f\"Models/results/{tipo}/{model}Results{subfijo}.txt\", header = None)\n",
    "    #GNN = pd.read_csv(f\"Models/results/paper/{model}Results_MDH_erdos.txt\", header = None)\n",
    "    \n",
    "    GNN.columns = [\"graph\", \"target_size\",\"t_mean\",\"n\"]\n",
    "    GNN[\"model\"] = model\n",
    "    GNN = GNN[[\"graph\", \"model\",\"target_size\", \"n\", \"t_mean\"]]\n",
    "    \n",
    "    Full = pd.concat([Full, GNN])\n",
    "    \n",
    "print(Full.shape)\n",
    "Full.head()"
   ]
  },
  {
   "cell_type": "code",
   "execution_count": 71,
   "id": "66d5a85f",
   "metadata": {
    "ExecuteTime": {
     "end_time": "2023-01-12T14:29:02.098807Z",
     "start_time": "2023-01-12T14:29:02.049547Z"
    }
   },
   "outputs": [
    {
     "name": "stdout",
     "output_type": "stream",
     "text": [
      "(26, 5)\n"
     ]
    },
    {
     "data": {
      "text/html": [
       "<div>\n",
       "<style scoped>\n",
       "    .dataframe tbody tr th:only-of-type {\n",
       "        vertical-align: middle;\n",
       "    }\n",
       "\n",
       "    .dataframe tbody tr th {\n",
       "        vertical-align: top;\n",
       "    }\n",
       "\n",
       "    .dataframe thead th {\n",
       "        text-align: right;\n",
       "    }\n",
       "</style>\n",
       "<table border=\"1\" class=\"dataframe\">\n",
       "  <thead>\n",
       "    <tr style=\"text-align: right;\">\n",
       "      <th></th>\n",
       "      <th>graph</th>\n",
       "      <th>model</th>\n",
       "      <th>target_size</th>\n",
       "      <th>n</th>\n",
       "      <th>t_mean</th>\n",
       "    </tr>\n",
       "  </thead>\n",
       "  <tbody>\n",
       "    <tr>\n",
       "      <th>0</th>\n",
       "      <td>graph_football</td>\n",
       "      <td>MDH</td>\n",
       "      <td>31</td>\n",
       "      <td>115</td>\n",
       "      <td>0.000</td>\n",
       "    </tr>\n",
       "    <tr>\n",
       "      <th>1</th>\n",
       "      <td>graph_jazz</td>\n",
       "      <td>MDH</td>\n",
       "      <td>31</td>\n",
       "      <td>198</td>\n",
       "      <td>0.002</td>\n",
       "    </tr>\n",
       "    <tr>\n",
       "      <th>2</th>\n",
       "      <td>graph_karate</td>\n",
       "      <td>MDH</td>\n",
       "      <td>8</td>\n",
       "      <td>62</td>\n",
       "      <td>0.000</td>\n",
       "    </tr>\n",
       "    <tr>\n",
       "      <th>3</th>\n",
       "      <td>gemsec_facebook_artist</td>\n",
       "      <td>MDH</td>\n",
       "      <td>790</td>\n",
       "      <td>50515</td>\n",
       "      <td>0.400</td>\n",
       "    </tr>\n",
       "    <tr>\n",
       "      <th>4</th>\n",
       "      <td>ego-facebook</td>\n",
       "      <td>MDH</td>\n",
       "      <td>528</td>\n",
       "      <td>4039</td>\n",
       "      <td>0.061</td>\n",
       "    </tr>\n",
       "  </tbody>\n",
       "</table>\n",
       "</div>"
      ],
      "text/plain": [
       "                    graph model  target_size      n  t_mean\n",
       "0          graph_football   MDH           31    115   0.000\n",
       "1              graph_jazz   MDH           31    198   0.002\n",
       "2            graph_karate   MDH            8     62   0.000\n",
       "3  gemsec_facebook_artist   MDH          790  50515   0.400\n",
       "4            ego-facebook   MDH          528   4039   0.061"
      ]
     },
     "execution_count": 71,
     "metadata": {},
     "output_type": "execute_result"
    }
   ],
   "source": [
    "MDH = pd.read_csv(f\"MDH/MDH_{general}_Results.txt\", header = None)\n",
    "MDH.columns = [\"graph\", \"target_size\",\"t_mean\",\"n\"]\n",
    "MDH[\"model\"] = 'MDH'\n",
    "MDH = MDH[[\"graph\", \"model\",\"target_size\", \"n\", \"t_mean\"]]\n",
    "MDH = MDH.query(\"graph != 'com-youtube.ungraph'\")\n",
    "print(MDH.shape)\n",
    "MDH.head()"
   ]
  },
  {
   "cell_type": "code",
   "execution_count": 72,
   "id": "8c9279f4",
   "metadata": {
    "ExecuteTime": {
     "end_time": "2023-01-12T14:29:02.965899Z",
     "start_time": "2023-01-12T14:29:02.956033Z"
    }
   },
   "outputs": [],
   "source": [
    "Full = pd.concat([Full, MDH, FastCover])\n",
    "Full['ratio'] =  Full.target_size/Full.n"
   ]
  },
  {
   "cell_type": "code",
   "execution_count": 73,
   "id": "fa551e4a",
   "metadata": {
    "ExecuteTime": {
     "end_time": "2023-01-12T14:29:03.839479Z",
     "start_time": "2023-01-12T14:29:03.800581Z"
    }
   },
   "outputs": [
    {
     "data": {
      "text/html": [
       "<div>\n",
       "<style scoped>\n",
       "    .dataframe tbody tr th:only-of-type {\n",
       "        vertical-align: middle;\n",
       "    }\n",
       "\n",
       "    .dataframe tbody tr th {\n",
       "        vertical-align: top;\n",
       "    }\n",
       "\n",
       "    .dataframe thead th {\n",
       "        text-align: right;\n",
       "    }\n",
       "</style>\n",
       "<table border=\"1\" class=\"dataframe\">\n",
       "  <thead>\n",
       "    <tr style=\"text-align: right;\">\n",
       "      <th></th>\n",
       "      <th>index</th>\n",
       "      <th>graph</th>\n",
       "      <th>model</th>\n",
       "      <th>target_size</th>\n",
       "      <th>n</th>\n",
       "      <th>t_mean</th>\n",
       "      <th>ratio</th>\n",
       "    </tr>\n",
       "  </thead>\n",
       "  <tbody>\n",
       "    <tr>\n",
       "      <th>0</th>\n",
       "      <td>0</td>\n",
       "      <td>graph_football</td>\n",
       "      <td>GAT</td>\n",
       "      <td>38</td>\n",
       "      <td>115</td>\n",
       "      <td>0.000</td>\n",
       "      <td>0.330435</td>\n",
       "    </tr>\n",
       "    <tr>\n",
       "      <th>1</th>\n",
       "      <td>1</td>\n",
       "      <td>graph_jazz</td>\n",
       "      <td>GAT</td>\n",
       "      <td>32</td>\n",
       "      <td>198</td>\n",
       "      <td>0.000</td>\n",
       "      <td>0.161616</td>\n",
       "    </tr>\n",
       "    <tr>\n",
       "      <th>2</th>\n",
       "      <td>2</td>\n",
       "      <td>graph_karate</td>\n",
       "      <td>GAT</td>\n",
       "      <td>11</td>\n",
       "      <td>62</td>\n",
       "      <td>0.000</td>\n",
       "      <td>0.177419</td>\n",
       "    </tr>\n",
       "    <tr>\n",
       "      <th>3</th>\n",
       "      <td>3</td>\n",
       "      <td>gemsec_facebook_artist</td>\n",
       "      <td>GAT</td>\n",
       "      <td>862</td>\n",
       "      <td>50515</td>\n",
       "      <td>0.336</td>\n",
       "      <td>0.017064</td>\n",
       "    </tr>\n",
       "    <tr>\n",
       "      <th>4</th>\n",
       "      <td>4</td>\n",
       "      <td>ego-facebook</td>\n",
       "      <td>GAT</td>\n",
       "      <td>552</td>\n",
       "      <td>4039</td>\n",
       "      <td>0.036</td>\n",
       "      <td>0.136667</td>\n",
       "    </tr>\n",
       "    <tr>\n",
       "      <th>...</th>\n",
       "      <td>...</td>\n",
       "      <td>...</td>\n",
       "      <td>...</td>\n",
       "      <td>...</td>\n",
       "      <td>...</td>\n",
       "      <td>...</td>\n",
       "      <td>...</td>\n",
       "    </tr>\n",
       "    <tr>\n",
       "      <th>177</th>\n",
       "      <td>21</td>\n",
       "      <td>Amazon0601</td>\n",
       "      <td>GRAT</td>\n",
       "      <td>31839</td>\n",
       "      <td>403394</td>\n",
       "      <td>48.359</td>\n",
       "      <td>0.078928</td>\n",
       "    </tr>\n",
       "    <tr>\n",
       "      <th>179</th>\n",
       "      <td>23</td>\n",
       "      <td>com-dblp.ungraph</td>\n",
       "      <td>GRAT</td>\n",
       "      <td>37340</td>\n",
       "      <td>317080</td>\n",
       "      <td>68.857</td>\n",
       "      <td>0.117762</td>\n",
       "    </tr>\n",
       "    <tr>\n",
       "      <th>180</th>\n",
       "      <td>24</td>\n",
       "      <td>loc-gowalla_edges</td>\n",
       "      <td>GRAT</td>\n",
       "      <td>5713</td>\n",
       "      <td>196591</td>\n",
       "      <td>2.968</td>\n",
       "      <td>0.029060</td>\n",
       "    </tr>\n",
       "    <tr>\n",
       "      <th>181</th>\n",
       "      <td>25</td>\n",
       "      <td>deezer_HR</td>\n",
       "      <td>GRAT</td>\n",
       "      <td>4402</td>\n",
       "      <td>54573</td>\n",
       "      <td>0.532</td>\n",
       "      <td>0.080663</td>\n",
       "    </tr>\n",
       "    <tr>\n",
       "      <th>182</th>\n",
       "      <td>26</td>\n",
       "      <td>musae_git</td>\n",
       "      <td>GRAT</td>\n",
       "      <td>206</td>\n",
       "      <td>37700</td>\n",
       "      <td>0.138</td>\n",
       "      <td>0.005464</td>\n",
       "    </tr>\n",
       "  </tbody>\n",
       "</table>\n",
       "<p>182 rows × 7 columns</p>\n",
       "</div>"
      ],
      "text/plain": [
       "     index                   graph model  target_size       n  t_mean  \\\n",
       "0        0          graph_football   GAT           38     115   0.000   \n",
       "1        1              graph_jazz   GAT           32     198   0.000   \n",
       "2        2            graph_karate   GAT           11      62   0.000   \n",
       "3        3  gemsec_facebook_artist   GAT          862   50515   0.336   \n",
       "4        4            ego-facebook   GAT          552    4039   0.036   \n",
       "..     ...                     ...   ...          ...     ...     ...   \n",
       "177     21              Amazon0601  GRAT        31839  403394  48.359   \n",
       "179     23        com-dblp.ungraph  GRAT        37340  317080  68.857   \n",
       "180     24       loc-gowalla_edges  GRAT         5713  196591   2.968   \n",
       "181     25               deezer_HR  GRAT         4402   54573   0.532   \n",
       "182     26               musae_git  GRAT          206   37700   0.138   \n",
       "\n",
       "        ratio  \n",
       "0    0.330435  \n",
       "1    0.161616  \n",
       "2    0.177419  \n",
       "3    0.017064  \n",
       "4    0.136667  \n",
       "..        ...  \n",
       "177  0.078928  \n",
       "179  0.117762  \n",
       "180  0.029060  \n",
       "181  0.080663  \n",
       "182  0.005464  \n",
       "\n",
       "[182 rows x 7 columns]"
      ]
     },
     "execution_count": 73,
     "metadata": {},
     "output_type": "execute_result"
    }
   ],
   "source": [
    "#Full = Full.sort_values(by=['n'])\n",
    "Full = Full.reset_index()\n",
    "Full = Full.query(\"graph != 'com-youtube.ungraph'\")\n",
    "Full"
   ]
  },
  {
   "cell_type": "code",
   "execution_count": 77,
   "id": "1f7e1517",
   "metadata": {
    "ExecuteTime": {
     "end_time": "2023-01-12T14:29:04.901938Z",
     "start_time": "2023-01-12T14:29:04.895884Z"
    }
   },
   "outputs": [],
   "source": [
    "Full['target_size_diff'] = ( np.array(Full.target_size) - np.tile(MDH.target_size, 7) )"
   ]
  },
  {
   "cell_type": "code",
   "execution_count": 78,
   "id": "062fea08",
   "metadata": {
    "ExecuteTime": {
     "end_time": "2023-01-12T14:29:05.422798Z",
     "start_time": "2023-01-12T14:29:05.414586Z"
    }
   },
   "outputs": [
    {
     "data": {
      "text/plain": [
       "182"
      ]
     },
     "execution_count": 78,
     "metadata": {},
     "output_type": "execute_result"
    }
   ],
   "source": [
    "Full.model.count()"
   ]
  },
  {
   "cell_type": "code",
   "execution_count": 79,
   "id": "e1bacaec",
   "metadata": {
    "ExecuteTime": {
     "end_time": "2023-01-12T14:29:06.105997Z",
     "start_time": "2023-01-12T14:29:05.946459Z"
    }
   },
   "outputs": [
    {
     "data": {
      "application/vnd.plotly.v1+json": {
       "config": {
        "plotlyServerURL": "https://plot.ly"
       },
       "data": [
        {
         "alignmentgroup": "True",
         "bingroup": "x",
         "histfunc": "sum",
         "hovertemplate": "model=GAT<br>graph=%{x}<br>sum of target_size=%{y}<extra></extra>",
         "legendgroup": "GAT",
         "marker": {
          "color": "#636efa",
          "pattern": {
           "shape": ""
          }
         },
         "name": "GAT",
         "offsetgroup": "GAT",
         "orientation": "v",
         "showlegend": true,
         "type": "histogram",
         "x": [
          "graph_football",
          "graph_jazz",
          "graph_karate",
          "gemsec_facebook_artist",
          "ego-facebook",
          "graph_actors_dat",
          "graph_CA-AstroPh",
          "graph_CA-CondMat",
          "graph_CA-GrQc",
          "graph_CA-HepPh",
          "graph_CA-HepTh",
          "graph_dolphins",
          "graph_Email-Enron",
          "graph_ncstrlwg2",
          "soc-gplus",
          "socfb-Brandeis99",
          "socfb-Mich67",
          "socfb-nips-ego",
          "Amazon0302",
          "Amazon0312",
          "Amazon0505",
          "Amazon0601",
          "com-dblp.ungraph",
          "loc-gowalla_edges",
          "deezer_HR",
          "musae_git"
         ],
         "xaxis": "x",
         "y": [
          38,
          32,
          11,
          862,
          552,
          1021,
          1631,
          2939,
          1052,
          1590,
          1394,
          5,
          2875,
          1120,
          68,
          398,
          204,
          10,
          35702,
          30949,
          31666,
          31346,
          37074,
          6180,
          2438,
          208
         ],
         "yaxis": "y"
        },
        {
         "alignmentgroup": "True",
         "bingroup": "x",
         "histfunc": "sum",
         "hovertemplate": "model=GCN<br>graph=%{x}<br>sum of target_size=%{y}<extra></extra>",
         "legendgroup": "GCN",
         "marker": {
          "color": "#EF553B",
          "pattern": {
           "shape": ""
          }
         },
         "name": "GCN",
         "offsetgroup": "GCN",
         "orientation": "v",
         "showlegend": true,
         "type": "histogram",
         "x": [
          "graph_football",
          "graph_jazz",
          "graph_karate",
          "gemsec_facebook_artist",
          "ego-facebook",
          "graph_actors_dat",
          "graph_CA-AstroPh",
          "graph_CA-CondMat",
          "graph_CA-GrQc",
          "graph_CA-HepPh",
          "graph_CA-HepTh",
          "graph_dolphins",
          "graph_Email-Enron",
          "graph_ncstrlwg2",
          "soc-gplus",
          "socfb-Brandeis99",
          "socfb-Mich67",
          "socfb-nips-ego",
          "Amazon0302",
          "Amazon0312",
          "Amazon0505",
          "Amazon0601",
          "com-dblp.ungraph",
          "loc-gowalla_edges",
          "deezer_HR",
          "musae_git"
         ],
         "xaxis": "x",
         "y": [
          35,
          29,
          8,
          773,
          561,
          995,
          1598,
          3038,
          1052,
          1517,
          1455,
          3,
          2839,
          1155,
          69,
          418,
          203,
          10,
          39503,
          35410,
          34460,
          35820,
          39022,
          5824,
          2437,
          214
         ],
         "yaxis": "y"
        },
        {
         "alignmentgroup": "True",
         "bingroup": "x",
         "histfunc": "sum",
         "hovertemplate": "model=GraphConv<br>graph=%{x}<br>sum of target_size=%{y}<extra></extra>",
         "legendgroup": "GraphConv",
         "marker": {
          "color": "#00cc96",
          "pattern": {
           "shape": ""
          }
         },
         "name": "GraphConv",
         "offsetgroup": "GraphConv",
         "orientation": "v",
         "showlegend": true,
         "type": "histogram",
         "x": [
          "graph_football",
          "graph_jazz",
          "graph_karate",
          "gemsec_facebook_artist",
          "ego-facebook",
          "graph_actors_dat",
          "graph_CA-AstroPh",
          "graph_CA-CondMat",
          "graph_CA-GrQc",
          "graph_CA-HepPh",
          "graph_CA-HepTh",
          "graph_dolphins",
          "graph_Email-Enron",
          "graph_ncstrlwg2",
          "soc-gplus",
          "socfb-Brandeis99",
          "socfb-Mich67",
          "socfb-nips-ego",
          "Amazon0302",
          "Amazon0312",
          "Amazon0505",
          "Amazon0601",
          "com-dblp.ungraph",
          "loc-gowalla_edges",
          "deezer_HR",
          "musae_git"
         ],
         "xaxis": "x",
         "y": [
          34,
          33,
          9,
          781,
          609,
          1068,
          1621,
          2977,
          1029,
          1519,
          1413,
          3,
          2852,
          1135,
          69,
          423,
          225,
          10,
          36742,
          32518,
          33211,
          32869,
          38239,
          5919,
          2796,
          226
         ],
         "yaxis": "y"
        },
        {
         "alignmentgroup": "True",
         "bingroup": "x",
         "histfunc": "sum",
         "hovertemplate": "model=SAGE<br>graph=%{x}<br>sum of target_size=%{y}<extra></extra>",
         "legendgroup": "SAGE",
         "marker": {
          "color": "#ab63fa",
          "pattern": {
           "shape": ""
          }
         },
         "name": "SAGE",
         "offsetgroup": "SAGE",
         "orientation": "v",
         "showlegend": true,
         "type": "histogram",
         "x": [
          "graph_football",
          "graph_jazz",
          "graph_karate",
          "gemsec_facebook_artist",
          "ego-facebook",
          "graph_actors_dat",
          "graph_CA-AstroPh",
          "graph_CA-CondMat",
          "graph_CA-GrQc",
          "graph_CA-HepPh",
          "graph_CA-HepTh",
          "graph_dolphins",
          "graph_Email-Enron",
          "graph_ncstrlwg2",
          "soc-gplus",
          "socfb-Brandeis99",
          "socfb-Mich67",
          "socfb-nips-ego",
          "Amazon0302",
          "Amazon0312",
          "Amazon0505",
          "Amazon0601",
          "com-dblp.ungraph",
          "loc-gowalla_edges",
          "deezer_HR",
          "musae_git"
         ],
         "xaxis": "x",
         "y": [
          34,
          30,
          8,
          792,
          558,
          998,
          1635,
          2885,
          1010,
          1487,
          1366,
          3,
          2810,
          1102,
          69,
          395,
          209,
          10,
          35453,
          31199,
          31901,
          31576,
          36566,
          5680,
          2442,
          206
         ],
         "yaxis": "y"
        },
        {
         "alignmentgroup": "True",
         "bingroup": "x",
         "histfunc": "sum",
         "hovertemplate": "model=SGConv<br>graph=%{x}<br>sum of target_size=%{y}<extra></extra>",
         "legendgroup": "SGConv",
         "marker": {
          "color": "#FFA15A",
          "pattern": {
           "shape": ""
          }
         },
         "name": "SGConv",
         "offsetgroup": "SGConv",
         "orientation": "v",
         "showlegend": true,
         "type": "histogram",
         "x": [
          "graph_football",
          "graph_jazz",
          "graph_karate",
          "gemsec_facebook_artist",
          "ego-facebook",
          "graph_actors_dat",
          "graph_CA-AstroPh",
          "graph_CA-CondMat",
          "graph_CA-GrQc",
          "graph_CA-HepPh",
          "graph_CA-HepTh",
          "graph_dolphins",
          "graph_Email-Enron",
          "graph_ncstrlwg2",
          "soc-gplus",
          "socfb-Brandeis99",
          "socfb-Mich67",
          "socfb-nips-ego",
          "Amazon0302",
          "Amazon0312",
          "Amazon0505",
          "Amazon0601",
          "com-dblp.ungraph",
          "loc-gowalla_edges",
          "deezer_HR",
          "musae_git"
         ],
         "xaxis": "x",
         "y": [
          35,
          29,
          8,
          783,
          549,
          995,
          1576,
          2978,
          1036,
          1504,
          1424,
          3,
          2848,
          1149,
          69,
          401,
          205,
          10,
          40657,
          37386,
          36360,
          35097,
          38728,
          5783,
          2388,
          214
         ],
         "yaxis": "y"
        },
        {
         "alignmentgroup": "True",
         "bingroup": "x",
         "histfunc": "sum",
         "hovertemplate": "model=MDH<br>graph=%{x}<br>sum of target_size=%{y}<extra></extra>",
         "legendgroup": "MDH",
         "marker": {
          "color": "#19d3f3",
          "pattern": {
           "shape": ""
          }
         },
         "name": "MDH",
         "offsetgroup": "MDH",
         "orientation": "v",
         "showlegend": true,
         "type": "histogram",
         "x": [
          "graph_football",
          "graph_jazz",
          "graph_karate",
          "gemsec_facebook_artist",
          "ego-facebook",
          "graph_actors_dat",
          "graph_CA-AstroPh",
          "graph_CA-CondMat",
          "graph_CA-GrQc",
          "graph_CA-HepPh",
          "graph_CA-HepTh",
          "graph_dolphins",
          "graph_Email-Enron",
          "graph_ncstrlwg2",
          "soc-gplus",
          "socfb-Brandeis99",
          "socfb-Mich67",
          "socfb-nips-ego",
          "Amazon0302",
          "Amazon0312",
          "Amazon0505",
          "Amazon0601",
          "com-dblp.ungraph",
          "loc-gowalla_edges",
          "deezer_HR",
          "musae_git"
         ],
         "xaxis": "x",
         "y": [
          31,
          31,
          8,
          790,
          528,
          1014,
          1638,
          2938,
          1033,
          1529,
          1388,
          3,
          2881,
          1108,
          69,
          395,
          202,
          10,
          35766,
          31165,
          31926,
          31507,
          37197,
          5670,
          2346,
          196
         ],
         "yaxis": "y"
        },
        {
         "alignmentgroup": "True",
         "bingroup": "x",
         "histfunc": "sum",
         "hovertemplate": "model=GRAT<br>graph=%{x}<br>sum of target_size=%{y}<extra></extra>",
         "legendgroup": "GRAT",
         "marker": {
          "color": "#FF6692",
          "pattern": {
           "shape": ""
          }
         },
         "name": "GRAT",
         "offsetgroup": "GRAT",
         "orientation": "v",
         "showlegend": true,
         "type": "histogram",
         "x": [
          "graph_football",
          "graph_jazz",
          "graph_karate",
          "gemsec_facebook_artist",
          "ego-facebook",
          "graph_actors_dat",
          "graph_CA-AstroPh",
          "graph_CA-CondMat",
          "graph_CA-GrQc",
          "graph_CA-HepPh",
          "graph_CA-HepTh",
          "graph_dolphins",
          "graph_Email-Enron",
          "graph_ncstrlwg2",
          "soc-gplus",
          "socfb-Brandeis99",
          "socfb-Mich67",
          "socfb-nips-ego",
          "Amazon0302",
          "Amazon0312",
          "Amazon0505",
          "Amazon0601",
          "com-dblp.ungraph",
          "loc-gowalla_edges",
          "deezer_HR",
          "musae_git"
         ],
         "xaxis": "x",
         "y": [
          32,
          33,
          8,
          978,
          528,
          1074,
          1832,
          2951,
          1036,
          1634,
          1382,
          3,
          2911,
          1110,
          69,
          519,
          475,
          10,
          35295,
          31829,
          32587,
          31839,
          37340,
          5713,
          4402,
          206
         ],
         "yaxis": "y"
        }
       ],
       "layout": {
        "barmode": "group",
        "height": 400,
        "legend": {
         "title": {
          "text": "model"
         },
         "tracegroupgap": 0
        },
        "margin": {
         "t": 60
        },
        "template": {
         "data": {
          "bar": [
           {
            "error_x": {
             "color": "#2a3f5f"
            },
            "error_y": {
             "color": "#2a3f5f"
            },
            "marker": {
             "line": {
              "color": "#E5ECF6",
              "width": 0.5
             },
             "pattern": {
              "fillmode": "overlay",
              "size": 10,
              "solidity": 0.2
             }
            },
            "type": "bar"
           }
          ],
          "barpolar": [
           {
            "marker": {
             "line": {
              "color": "#E5ECF6",
              "width": 0.5
             },
             "pattern": {
              "fillmode": "overlay",
              "size": 10,
              "solidity": 0.2
             }
            },
            "type": "barpolar"
           }
          ],
          "carpet": [
           {
            "aaxis": {
             "endlinecolor": "#2a3f5f",
             "gridcolor": "white",
             "linecolor": "white",
             "minorgridcolor": "white",
             "startlinecolor": "#2a3f5f"
            },
            "baxis": {
             "endlinecolor": "#2a3f5f",
             "gridcolor": "white",
             "linecolor": "white",
             "minorgridcolor": "white",
             "startlinecolor": "#2a3f5f"
            },
            "type": "carpet"
           }
          ],
          "choropleth": [
           {
            "colorbar": {
             "outlinewidth": 0,
             "ticks": ""
            },
            "type": "choropleth"
           }
          ],
          "contour": [
           {
            "colorbar": {
             "outlinewidth": 0,
             "ticks": ""
            },
            "colorscale": [
             [
              0,
              "#0d0887"
             ],
             [
              0.1111111111111111,
              "#46039f"
             ],
             [
              0.2222222222222222,
              "#7201a8"
             ],
             [
              0.3333333333333333,
              "#9c179e"
             ],
             [
              0.4444444444444444,
              "#bd3786"
             ],
             [
              0.5555555555555556,
              "#d8576b"
             ],
             [
              0.6666666666666666,
              "#ed7953"
             ],
             [
              0.7777777777777778,
              "#fb9f3a"
             ],
             [
              0.8888888888888888,
              "#fdca26"
             ],
             [
              1,
              "#f0f921"
             ]
            ],
            "type": "contour"
           }
          ],
          "contourcarpet": [
           {
            "colorbar": {
             "outlinewidth": 0,
             "ticks": ""
            },
            "type": "contourcarpet"
           }
          ],
          "heatmap": [
           {
            "colorbar": {
             "outlinewidth": 0,
             "ticks": ""
            },
            "colorscale": [
             [
              0,
              "#0d0887"
             ],
             [
              0.1111111111111111,
              "#46039f"
             ],
             [
              0.2222222222222222,
              "#7201a8"
             ],
             [
              0.3333333333333333,
              "#9c179e"
             ],
             [
              0.4444444444444444,
              "#bd3786"
             ],
             [
              0.5555555555555556,
              "#d8576b"
             ],
             [
              0.6666666666666666,
              "#ed7953"
             ],
             [
              0.7777777777777778,
              "#fb9f3a"
             ],
             [
              0.8888888888888888,
              "#fdca26"
             ],
             [
              1,
              "#f0f921"
             ]
            ],
            "type": "heatmap"
           }
          ],
          "heatmapgl": [
           {
            "colorbar": {
             "outlinewidth": 0,
             "ticks": ""
            },
            "colorscale": [
             [
              0,
              "#0d0887"
             ],
             [
              0.1111111111111111,
              "#46039f"
             ],
             [
              0.2222222222222222,
              "#7201a8"
             ],
             [
              0.3333333333333333,
              "#9c179e"
             ],
             [
              0.4444444444444444,
              "#bd3786"
             ],
             [
              0.5555555555555556,
              "#d8576b"
             ],
             [
              0.6666666666666666,
              "#ed7953"
             ],
             [
              0.7777777777777778,
              "#fb9f3a"
             ],
             [
              0.8888888888888888,
              "#fdca26"
             ],
             [
              1,
              "#f0f921"
             ]
            ],
            "type": "heatmapgl"
           }
          ],
          "histogram": [
           {
            "marker": {
             "pattern": {
              "fillmode": "overlay",
              "size": 10,
              "solidity": 0.2
             }
            },
            "type": "histogram"
           }
          ],
          "histogram2d": [
           {
            "colorbar": {
             "outlinewidth": 0,
             "ticks": ""
            },
            "colorscale": [
             [
              0,
              "#0d0887"
             ],
             [
              0.1111111111111111,
              "#46039f"
             ],
             [
              0.2222222222222222,
              "#7201a8"
             ],
             [
              0.3333333333333333,
              "#9c179e"
             ],
             [
              0.4444444444444444,
              "#bd3786"
             ],
             [
              0.5555555555555556,
              "#d8576b"
             ],
             [
              0.6666666666666666,
              "#ed7953"
             ],
             [
              0.7777777777777778,
              "#fb9f3a"
             ],
             [
              0.8888888888888888,
              "#fdca26"
             ],
             [
              1,
              "#f0f921"
             ]
            ],
            "type": "histogram2d"
           }
          ],
          "histogram2dcontour": [
           {
            "colorbar": {
             "outlinewidth": 0,
             "ticks": ""
            },
            "colorscale": [
             [
              0,
              "#0d0887"
             ],
             [
              0.1111111111111111,
              "#46039f"
             ],
             [
              0.2222222222222222,
              "#7201a8"
             ],
             [
              0.3333333333333333,
              "#9c179e"
             ],
             [
              0.4444444444444444,
              "#bd3786"
             ],
             [
              0.5555555555555556,
              "#d8576b"
             ],
             [
              0.6666666666666666,
              "#ed7953"
             ],
             [
              0.7777777777777778,
              "#fb9f3a"
             ],
             [
              0.8888888888888888,
              "#fdca26"
             ],
             [
              1,
              "#f0f921"
             ]
            ],
            "type": "histogram2dcontour"
           }
          ],
          "mesh3d": [
           {
            "colorbar": {
             "outlinewidth": 0,
             "ticks": ""
            },
            "type": "mesh3d"
           }
          ],
          "parcoords": [
           {
            "line": {
             "colorbar": {
              "outlinewidth": 0,
              "ticks": ""
             }
            },
            "type": "parcoords"
           }
          ],
          "pie": [
           {
            "automargin": true,
            "type": "pie"
           }
          ],
          "scatter": [
           {
            "fillpattern": {
             "fillmode": "overlay",
             "size": 10,
             "solidity": 0.2
            },
            "type": "scatter"
           }
          ],
          "scatter3d": [
           {
            "line": {
             "colorbar": {
              "outlinewidth": 0,
              "ticks": ""
             }
            },
            "marker": {
             "colorbar": {
              "outlinewidth": 0,
              "ticks": ""
             }
            },
            "type": "scatter3d"
           }
          ],
          "scattercarpet": [
           {
            "marker": {
             "colorbar": {
              "outlinewidth": 0,
              "ticks": ""
             }
            },
            "type": "scattercarpet"
           }
          ],
          "scattergeo": [
           {
            "marker": {
             "colorbar": {
              "outlinewidth": 0,
              "ticks": ""
             }
            },
            "type": "scattergeo"
           }
          ],
          "scattergl": [
           {
            "marker": {
             "colorbar": {
              "outlinewidth": 0,
              "ticks": ""
             }
            },
            "type": "scattergl"
           }
          ],
          "scattermapbox": [
           {
            "marker": {
             "colorbar": {
              "outlinewidth": 0,
              "ticks": ""
             }
            },
            "type": "scattermapbox"
           }
          ],
          "scatterpolar": [
           {
            "marker": {
             "colorbar": {
              "outlinewidth": 0,
              "ticks": ""
             }
            },
            "type": "scatterpolar"
           }
          ],
          "scatterpolargl": [
           {
            "marker": {
             "colorbar": {
              "outlinewidth": 0,
              "ticks": ""
             }
            },
            "type": "scatterpolargl"
           }
          ],
          "scatterternary": [
           {
            "marker": {
             "colorbar": {
              "outlinewidth": 0,
              "ticks": ""
             }
            },
            "type": "scatterternary"
           }
          ],
          "surface": [
           {
            "colorbar": {
             "outlinewidth": 0,
             "ticks": ""
            },
            "colorscale": [
             [
              0,
              "#0d0887"
             ],
             [
              0.1111111111111111,
              "#46039f"
             ],
             [
              0.2222222222222222,
              "#7201a8"
             ],
             [
              0.3333333333333333,
              "#9c179e"
             ],
             [
              0.4444444444444444,
              "#bd3786"
             ],
             [
              0.5555555555555556,
              "#d8576b"
             ],
             [
              0.6666666666666666,
              "#ed7953"
             ],
             [
              0.7777777777777778,
              "#fb9f3a"
             ],
             [
              0.8888888888888888,
              "#fdca26"
             ],
             [
              1,
              "#f0f921"
             ]
            ],
            "type": "surface"
           }
          ],
          "table": [
           {
            "cells": {
             "fill": {
              "color": "#EBF0F8"
             },
             "line": {
              "color": "white"
             }
            },
            "header": {
             "fill": {
              "color": "#C8D4E3"
             },
             "line": {
              "color": "white"
             }
            },
            "type": "table"
           }
          ]
         },
         "layout": {
          "annotationdefaults": {
           "arrowcolor": "#2a3f5f",
           "arrowhead": 0,
           "arrowwidth": 1
          },
          "autotypenumbers": "strict",
          "coloraxis": {
           "colorbar": {
            "outlinewidth": 0,
            "ticks": ""
           }
          },
          "colorscale": {
           "diverging": [
            [
             0,
             "#8e0152"
            ],
            [
             0.1,
             "#c51b7d"
            ],
            [
             0.2,
             "#de77ae"
            ],
            [
             0.3,
             "#f1b6da"
            ],
            [
             0.4,
             "#fde0ef"
            ],
            [
             0.5,
             "#f7f7f7"
            ],
            [
             0.6,
             "#e6f5d0"
            ],
            [
             0.7,
             "#b8e186"
            ],
            [
             0.8,
             "#7fbc41"
            ],
            [
             0.9,
             "#4d9221"
            ],
            [
             1,
             "#276419"
            ]
           ],
           "sequential": [
            [
             0,
             "#0d0887"
            ],
            [
             0.1111111111111111,
             "#46039f"
            ],
            [
             0.2222222222222222,
             "#7201a8"
            ],
            [
             0.3333333333333333,
             "#9c179e"
            ],
            [
             0.4444444444444444,
             "#bd3786"
            ],
            [
             0.5555555555555556,
             "#d8576b"
            ],
            [
             0.6666666666666666,
             "#ed7953"
            ],
            [
             0.7777777777777778,
             "#fb9f3a"
            ],
            [
             0.8888888888888888,
             "#fdca26"
            ],
            [
             1,
             "#f0f921"
            ]
           ],
           "sequentialminus": [
            [
             0,
             "#0d0887"
            ],
            [
             0.1111111111111111,
             "#46039f"
            ],
            [
             0.2222222222222222,
             "#7201a8"
            ],
            [
             0.3333333333333333,
             "#9c179e"
            ],
            [
             0.4444444444444444,
             "#bd3786"
            ],
            [
             0.5555555555555556,
             "#d8576b"
            ],
            [
             0.6666666666666666,
             "#ed7953"
            ],
            [
             0.7777777777777778,
             "#fb9f3a"
            ],
            [
             0.8888888888888888,
             "#fdca26"
            ],
            [
             1,
             "#f0f921"
            ]
           ]
          },
          "colorway": [
           "#636efa",
           "#EF553B",
           "#00cc96",
           "#ab63fa",
           "#FFA15A",
           "#19d3f3",
           "#FF6692",
           "#B6E880",
           "#FF97FF",
           "#FECB52"
          ],
          "font": {
           "color": "#2a3f5f"
          },
          "geo": {
           "bgcolor": "white",
           "lakecolor": "white",
           "landcolor": "#E5ECF6",
           "showlakes": true,
           "showland": true,
           "subunitcolor": "white"
          },
          "hoverlabel": {
           "align": "left"
          },
          "hovermode": "closest",
          "mapbox": {
           "style": "light"
          },
          "paper_bgcolor": "white",
          "plot_bgcolor": "#E5ECF6",
          "polar": {
           "angularaxis": {
            "gridcolor": "white",
            "linecolor": "white",
            "ticks": ""
           },
           "bgcolor": "#E5ECF6",
           "radialaxis": {
            "gridcolor": "white",
            "linecolor": "white",
            "ticks": ""
           }
          },
          "scene": {
           "xaxis": {
            "backgroundcolor": "#E5ECF6",
            "gridcolor": "white",
            "gridwidth": 2,
            "linecolor": "white",
            "showbackground": true,
            "ticks": "",
            "zerolinecolor": "white"
           },
           "yaxis": {
            "backgroundcolor": "#E5ECF6",
            "gridcolor": "white",
            "gridwidth": 2,
            "linecolor": "white",
            "showbackground": true,
            "ticks": "",
            "zerolinecolor": "white"
           },
           "zaxis": {
            "backgroundcolor": "#E5ECF6",
            "gridcolor": "white",
            "gridwidth": 2,
            "linecolor": "white",
            "showbackground": true,
            "ticks": "",
            "zerolinecolor": "white"
           }
          },
          "shapedefaults": {
           "line": {
            "color": "#2a3f5f"
           }
          },
          "ternary": {
           "aaxis": {
            "gridcolor": "white",
            "linecolor": "white",
            "ticks": ""
           },
           "baxis": {
            "gridcolor": "white",
            "linecolor": "white",
            "ticks": ""
           },
           "bgcolor": "#E5ECF6",
           "caxis": {
            "gridcolor": "white",
            "linecolor": "white",
            "ticks": ""
           }
          },
          "title": {
           "x": 0.05
          },
          "xaxis": {
           "automargin": true,
           "gridcolor": "white",
           "linecolor": "white",
           "ticks": "",
           "title": {
            "standoff": 15
           },
           "zerolinecolor": "white",
           "zerolinewidth": 2
          },
          "yaxis": {
           "automargin": true,
           "gridcolor": "white",
           "linecolor": "white",
           "ticks": "",
           "title": {
            "standoff": 15
           },
           "zerolinecolor": "white",
           "zerolinewidth": 2
          }
         }
        },
        "xaxis": {
         "anchor": "y",
         "domain": [
          0,
          1
         ],
         "title": {
          "text": "graph"
         }
        },
        "yaxis": {
         "anchor": "x",
         "domain": [
          0,
          1
         ],
         "title": {
          "text": "sum of target_size"
         }
        }
       }
      },
      "text/html": [
       "<div>                            <div id=\"c76d0e51-35fe-4d49-8924-147b0ad5fb3f\" class=\"plotly-graph-div\" style=\"height:400px; width:100%;\"></div>            <script type=\"text/javascript\">                require([\"plotly\"], function(Plotly) {                    window.PLOTLYENV=window.PLOTLYENV || {};                                    if (document.getElementById(\"c76d0e51-35fe-4d49-8924-147b0ad5fb3f\")) {                    Plotly.newPlot(                        \"c76d0e51-35fe-4d49-8924-147b0ad5fb3f\",                        [{\"alignmentgroup\":\"True\",\"bingroup\":\"x\",\"histfunc\":\"sum\",\"hovertemplate\":\"model=GAT<br>graph=%{x}<br>sum of target_size=%{y}<extra></extra>\",\"legendgroup\":\"GAT\",\"marker\":{\"color\":\"#636efa\",\"pattern\":{\"shape\":\"\"}},\"name\":\"GAT\",\"offsetgroup\":\"GAT\",\"orientation\":\"v\",\"showlegend\":true,\"x\":[\"graph_football\",\"graph_jazz\",\"graph_karate\",\"gemsec_facebook_artist\",\"ego-facebook\",\"graph_actors_dat\",\"graph_CA-AstroPh\",\"graph_CA-CondMat\",\"graph_CA-GrQc\",\"graph_CA-HepPh\",\"graph_CA-HepTh\",\"graph_dolphins\",\"graph_Email-Enron\",\"graph_ncstrlwg2\",\"soc-gplus\",\"socfb-Brandeis99\",\"socfb-Mich67\",\"socfb-nips-ego\",\"Amazon0302\",\"Amazon0312\",\"Amazon0505\",\"Amazon0601\",\"com-dblp.ungraph\",\"loc-gowalla_edges\",\"deezer_HR\",\"musae_git\"],\"xaxis\":\"x\",\"y\":[38,32,11,862,552,1021,1631,2939,1052,1590,1394,5,2875,1120,68,398,204,10,35702,30949,31666,31346,37074,6180,2438,208],\"yaxis\":\"y\",\"type\":\"histogram\"},{\"alignmentgroup\":\"True\",\"bingroup\":\"x\",\"histfunc\":\"sum\",\"hovertemplate\":\"model=GCN<br>graph=%{x}<br>sum of target_size=%{y}<extra></extra>\",\"legendgroup\":\"GCN\",\"marker\":{\"color\":\"#EF553B\",\"pattern\":{\"shape\":\"\"}},\"name\":\"GCN\",\"offsetgroup\":\"GCN\",\"orientation\":\"v\",\"showlegend\":true,\"x\":[\"graph_football\",\"graph_jazz\",\"graph_karate\",\"gemsec_facebook_artist\",\"ego-facebook\",\"graph_actors_dat\",\"graph_CA-AstroPh\",\"graph_CA-CondMat\",\"graph_CA-GrQc\",\"graph_CA-HepPh\",\"graph_CA-HepTh\",\"graph_dolphins\",\"graph_Email-Enron\",\"graph_ncstrlwg2\",\"soc-gplus\",\"socfb-Brandeis99\",\"socfb-Mich67\",\"socfb-nips-ego\",\"Amazon0302\",\"Amazon0312\",\"Amazon0505\",\"Amazon0601\",\"com-dblp.ungraph\",\"loc-gowalla_edges\",\"deezer_HR\",\"musae_git\"],\"xaxis\":\"x\",\"y\":[35,29,8,773,561,995,1598,3038,1052,1517,1455,3,2839,1155,69,418,203,10,39503,35410,34460,35820,39022,5824,2437,214],\"yaxis\":\"y\",\"type\":\"histogram\"},{\"alignmentgroup\":\"True\",\"bingroup\":\"x\",\"histfunc\":\"sum\",\"hovertemplate\":\"model=GraphConv<br>graph=%{x}<br>sum of target_size=%{y}<extra></extra>\",\"legendgroup\":\"GraphConv\",\"marker\":{\"color\":\"#00cc96\",\"pattern\":{\"shape\":\"\"}},\"name\":\"GraphConv\",\"offsetgroup\":\"GraphConv\",\"orientation\":\"v\",\"showlegend\":true,\"x\":[\"graph_football\",\"graph_jazz\",\"graph_karate\",\"gemsec_facebook_artist\",\"ego-facebook\",\"graph_actors_dat\",\"graph_CA-AstroPh\",\"graph_CA-CondMat\",\"graph_CA-GrQc\",\"graph_CA-HepPh\",\"graph_CA-HepTh\",\"graph_dolphins\",\"graph_Email-Enron\",\"graph_ncstrlwg2\",\"soc-gplus\",\"socfb-Brandeis99\",\"socfb-Mich67\",\"socfb-nips-ego\",\"Amazon0302\",\"Amazon0312\",\"Amazon0505\",\"Amazon0601\",\"com-dblp.ungraph\",\"loc-gowalla_edges\",\"deezer_HR\",\"musae_git\"],\"xaxis\":\"x\",\"y\":[34,33,9,781,609,1068,1621,2977,1029,1519,1413,3,2852,1135,69,423,225,10,36742,32518,33211,32869,38239,5919,2796,226],\"yaxis\":\"y\",\"type\":\"histogram\"},{\"alignmentgroup\":\"True\",\"bingroup\":\"x\",\"histfunc\":\"sum\",\"hovertemplate\":\"model=SAGE<br>graph=%{x}<br>sum of target_size=%{y}<extra></extra>\",\"legendgroup\":\"SAGE\",\"marker\":{\"color\":\"#ab63fa\",\"pattern\":{\"shape\":\"\"}},\"name\":\"SAGE\",\"offsetgroup\":\"SAGE\",\"orientation\":\"v\",\"showlegend\":true,\"x\":[\"graph_football\",\"graph_jazz\",\"graph_karate\",\"gemsec_facebook_artist\",\"ego-facebook\",\"graph_actors_dat\",\"graph_CA-AstroPh\",\"graph_CA-CondMat\",\"graph_CA-GrQc\",\"graph_CA-HepPh\",\"graph_CA-HepTh\",\"graph_dolphins\",\"graph_Email-Enron\",\"graph_ncstrlwg2\",\"soc-gplus\",\"socfb-Brandeis99\",\"socfb-Mich67\",\"socfb-nips-ego\",\"Amazon0302\",\"Amazon0312\",\"Amazon0505\",\"Amazon0601\",\"com-dblp.ungraph\",\"loc-gowalla_edges\",\"deezer_HR\",\"musae_git\"],\"xaxis\":\"x\",\"y\":[34,30,8,792,558,998,1635,2885,1010,1487,1366,3,2810,1102,69,395,209,10,35453,31199,31901,31576,36566,5680,2442,206],\"yaxis\":\"y\",\"type\":\"histogram\"},{\"alignmentgroup\":\"True\",\"bingroup\":\"x\",\"histfunc\":\"sum\",\"hovertemplate\":\"model=SGConv<br>graph=%{x}<br>sum of target_size=%{y}<extra></extra>\",\"legendgroup\":\"SGConv\",\"marker\":{\"color\":\"#FFA15A\",\"pattern\":{\"shape\":\"\"}},\"name\":\"SGConv\",\"offsetgroup\":\"SGConv\",\"orientation\":\"v\",\"showlegend\":true,\"x\":[\"graph_football\",\"graph_jazz\",\"graph_karate\",\"gemsec_facebook_artist\",\"ego-facebook\",\"graph_actors_dat\",\"graph_CA-AstroPh\",\"graph_CA-CondMat\",\"graph_CA-GrQc\",\"graph_CA-HepPh\",\"graph_CA-HepTh\",\"graph_dolphins\",\"graph_Email-Enron\",\"graph_ncstrlwg2\",\"soc-gplus\",\"socfb-Brandeis99\",\"socfb-Mich67\",\"socfb-nips-ego\",\"Amazon0302\",\"Amazon0312\",\"Amazon0505\",\"Amazon0601\",\"com-dblp.ungraph\",\"loc-gowalla_edges\",\"deezer_HR\",\"musae_git\"],\"xaxis\":\"x\",\"y\":[35,29,8,783,549,995,1576,2978,1036,1504,1424,3,2848,1149,69,401,205,10,40657,37386,36360,35097,38728,5783,2388,214],\"yaxis\":\"y\",\"type\":\"histogram\"},{\"alignmentgroup\":\"True\",\"bingroup\":\"x\",\"histfunc\":\"sum\",\"hovertemplate\":\"model=MDH<br>graph=%{x}<br>sum of target_size=%{y}<extra></extra>\",\"legendgroup\":\"MDH\",\"marker\":{\"color\":\"#19d3f3\",\"pattern\":{\"shape\":\"\"}},\"name\":\"MDH\",\"offsetgroup\":\"MDH\",\"orientation\":\"v\",\"showlegend\":true,\"x\":[\"graph_football\",\"graph_jazz\",\"graph_karate\",\"gemsec_facebook_artist\",\"ego-facebook\",\"graph_actors_dat\",\"graph_CA-AstroPh\",\"graph_CA-CondMat\",\"graph_CA-GrQc\",\"graph_CA-HepPh\",\"graph_CA-HepTh\",\"graph_dolphins\",\"graph_Email-Enron\",\"graph_ncstrlwg2\",\"soc-gplus\",\"socfb-Brandeis99\",\"socfb-Mich67\",\"socfb-nips-ego\",\"Amazon0302\",\"Amazon0312\",\"Amazon0505\",\"Amazon0601\",\"com-dblp.ungraph\",\"loc-gowalla_edges\",\"deezer_HR\",\"musae_git\"],\"xaxis\":\"x\",\"y\":[31,31,8,790,528,1014,1638,2938,1033,1529,1388,3,2881,1108,69,395,202,10,35766,31165,31926,31507,37197,5670,2346,196],\"yaxis\":\"y\",\"type\":\"histogram\"},{\"alignmentgroup\":\"True\",\"bingroup\":\"x\",\"histfunc\":\"sum\",\"hovertemplate\":\"model=GRAT<br>graph=%{x}<br>sum of target_size=%{y}<extra></extra>\",\"legendgroup\":\"GRAT\",\"marker\":{\"color\":\"#FF6692\",\"pattern\":{\"shape\":\"\"}},\"name\":\"GRAT\",\"offsetgroup\":\"GRAT\",\"orientation\":\"v\",\"showlegend\":true,\"x\":[\"graph_football\",\"graph_jazz\",\"graph_karate\",\"gemsec_facebook_artist\",\"ego-facebook\",\"graph_actors_dat\",\"graph_CA-AstroPh\",\"graph_CA-CondMat\",\"graph_CA-GrQc\",\"graph_CA-HepPh\",\"graph_CA-HepTh\",\"graph_dolphins\",\"graph_Email-Enron\",\"graph_ncstrlwg2\",\"soc-gplus\",\"socfb-Brandeis99\",\"socfb-Mich67\",\"socfb-nips-ego\",\"Amazon0302\",\"Amazon0312\",\"Amazon0505\",\"Amazon0601\",\"com-dblp.ungraph\",\"loc-gowalla_edges\",\"deezer_HR\",\"musae_git\"],\"xaxis\":\"x\",\"y\":[32,33,8,978,528,1074,1832,2951,1036,1634,1382,3,2911,1110,69,519,475,10,35295,31829,32587,31839,37340,5713,4402,206],\"yaxis\":\"y\",\"type\":\"histogram\"}],                        {\"template\":{\"data\":{\"histogram2dcontour\":[{\"type\":\"histogram2dcontour\",\"colorbar\":{\"outlinewidth\":0,\"ticks\":\"\"},\"colorscale\":[[0.0,\"#0d0887\"],[0.1111111111111111,\"#46039f\"],[0.2222222222222222,\"#7201a8\"],[0.3333333333333333,\"#9c179e\"],[0.4444444444444444,\"#bd3786\"],[0.5555555555555556,\"#d8576b\"],[0.6666666666666666,\"#ed7953\"],[0.7777777777777778,\"#fb9f3a\"],[0.8888888888888888,\"#fdca26\"],[1.0,\"#f0f921\"]]}],\"choropleth\":[{\"type\":\"choropleth\",\"colorbar\":{\"outlinewidth\":0,\"ticks\":\"\"}}],\"histogram2d\":[{\"type\":\"histogram2d\",\"colorbar\":{\"outlinewidth\":0,\"ticks\":\"\"},\"colorscale\":[[0.0,\"#0d0887\"],[0.1111111111111111,\"#46039f\"],[0.2222222222222222,\"#7201a8\"],[0.3333333333333333,\"#9c179e\"],[0.4444444444444444,\"#bd3786\"],[0.5555555555555556,\"#d8576b\"],[0.6666666666666666,\"#ed7953\"],[0.7777777777777778,\"#fb9f3a\"],[0.8888888888888888,\"#fdca26\"],[1.0,\"#f0f921\"]]}],\"heatmap\":[{\"type\":\"heatmap\",\"colorbar\":{\"outlinewidth\":0,\"ticks\":\"\"},\"colorscale\":[[0.0,\"#0d0887\"],[0.1111111111111111,\"#46039f\"],[0.2222222222222222,\"#7201a8\"],[0.3333333333333333,\"#9c179e\"],[0.4444444444444444,\"#bd3786\"],[0.5555555555555556,\"#d8576b\"],[0.6666666666666666,\"#ed7953\"],[0.7777777777777778,\"#fb9f3a\"],[0.8888888888888888,\"#fdca26\"],[1.0,\"#f0f921\"]]}],\"heatmapgl\":[{\"type\":\"heatmapgl\",\"colorbar\":{\"outlinewidth\":0,\"ticks\":\"\"},\"colorscale\":[[0.0,\"#0d0887\"],[0.1111111111111111,\"#46039f\"],[0.2222222222222222,\"#7201a8\"],[0.3333333333333333,\"#9c179e\"],[0.4444444444444444,\"#bd3786\"],[0.5555555555555556,\"#d8576b\"],[0.6666666666666666,\"#ed7953\"],[0.7777777777777778,\"#fb9f3a\"],[0.8888888888888888,\"#fdca26\"],[1.0,\"#f0f921\"]]}],\"contourcarpet\":[{\"type\":\"contourcarpet\",\"colorbar\":{\"outlinewidth\":0,\"ticks\":\"\"}}],\"contour\":[{\"type\":\"contour\",\"colorbar\":{\"outlinewidth\":0,\"ticks\":\"\"},\"colorscale\":[[0.0,\"#0d0887\"],[0.1111111111111111,\"#46039f\"],[0.2222222222222222,\"#7201a8\"],[0.3333333333333333,\"#9c179e\"],[0.4444444444444444,\"#bd3786\"],[0.5555555555555556,\"#d8576b\"],[0.6666666666666666,\"#ed7953\"],[0.7777777777777778,\"#fb9f3a\"],[0.8888888888888888,\"#fdca26\"],[1.0,\"#f0f921\"]]}],\"surface\":[{\"type\":\"surface\",\"colorbar\":{\"outlinewidth\":0,\"ticks\":\"\"},\"colorscale\":[[0.0,\"#0d0887\"],[0.1111111111111111,\"#46039f\"],[0.2222222222222222,\"#7201a8\"],[0.3333333333333333,\"#9c179e\"],[0.4444444444444444,\"#bd3786\"],[0.5555555555555556,\"#d8576b\"],[0.6666666666666666,\"#ed7953\"],[0.7777777777777778,\"#fb9f3a\"],[0.8888888888888888,\"#fdca26\"],[1.0,\"#f0f921\"]]}],\"mesh3d\":[{\"type\":\"mesh3d\",\"colorbar\":{\"outlinewidth\":0,\"ticks\":\"\"}}],\"scatter\":[{\"fillpattern\":{\"fillmode\":\"overlay\",\"size\":10,\"solidity\":0.2},\"type\":\"scatter\"}],\"parcoords\":[{\"type\":\"parcoords\",\"line\":{\"colorbar\":{\"outlinewidth\":0,\"ticks\":\"\"}}}],\"scatterpolargl\":[{\"type\":\"scatterpolargl\",\"marker\":{\"colorbar\":{\"outlinewidth\":0,\"ticks\":\"\"}}}],\"bar\":[{\"error_x\":{\"color\":\"#2a3f5f\"},\"error_y\":{\"color\":\"#2a3f5f\"},\"marker\":{\"line\":{\"color\":\"#E5ECF6\",\"width\":0.5},\"pattern\":{\"fillmode\":\"overlay\",\"size\":10,\"solidity\":0.2}},\"type\":\"bar\"}],\"scattergeo\":[{\"type\":\"scattergeo\",\"marker\":{\"colorbar\":{\"outlinewidth\":0,\"ticks\":\"\"}}}],\"scatterpolar\":[{\"type\":\"scatterpolar\",\"marker\":{\"colorbar\":{\"outlinewidth\":0,\"ticks\":\"\"}}}],\"histogram\":[{\"marker\":{\"pattern\":{\"fillmode\":\"overlay\",\"size\":10,\"solidity\":0.2}},\"type\":\"histogram\"}],\"scattergl\":[{\"type\":\"scattergl\",\"marker\":{\"colorbar\":{\"outlinewidth\":0,\"ticks\":\"\"}}}],\"scatter3d\":[{\"type\":\"scatter3d\",\"line\":{\"colorbar\":{\"outlinewidth\":0,\"ticks\":\"\"}},\"marker\":{\"colorbar\":{\"outlinewidth\":0,\"ticks\":\"\"}}}],\"scattermapbox\":[{\"type\":\"scattermapbox\",\"marker\":{\"colorbar\":{\"outlinewidth\":0,\"ticks\":\"\"}}}],\"scatterternary\":[{\"type\":\"scatterternary\",\"marker\":{\"colorbar\":{\"outlinewidth\":0,\"ticks\":\"\"}}}],\"scattercarpet\":[{\"type\":\"scattercarpet\",\"marker\":{\"colorbar\":{\"outlinewidth\":0,\"ticks\":\"\"}}}],\"carpet\":[{\"aaxis\":{\"endlinecolor\":\"#2a3f5f\",\"gridcolor\":\"white\",\"linecolor\":\"white\",\"minorgridcolor\":\"white\",\"startlinecolor\":\"#2a3f5f\"},\"baxis\":{\"endlinecolor\":\"#2a3f5f\",\"gridcolor\":\"white\",\"linecolor\":\"white\",\"minorgridcolor\":\"white\",\"startlinecolor\":\"#2a3f5f\"},\"type\":\"carpet\"}],\"table\":[{\"cells\":{\"fill\":{\"color\":\"#EBF0F8\"},\"line\":{\"color\":\"white\"}},\"header\":{\"fill\":{\"color\":\"#C8D4E3\"},\"line\":{\"color\":\"white\"}},\"type\":\"table\"}],\"barpolar\":[{\"marker\":{\"line\":{\"color\":\"#E5ECF6\",\"width\":0.5},\"pattern\":{\"fillmode\":\"overlay\",\"size\":10,\"solidity\":0.2}},\"type\":\"barpolar\"}],\"pie\":[{\"automargin\":true,\"type\":\"pie\"}]},\"layout\":{\"autotypenumbers\":\"strict\",\"colorway\":[\"#636efa\",\"#EF553B\",\"#00cc96\",\"#ab63fa\",\"#FFA15A\",\"#19d3f3\",\"#FF6692\",\"#B6E880\",\"#FF97FF\",\"#FECB52\"],\"font\":{\"color\":\"#2a3f5f\"},\"hovermode\":\"closest\",\"hoverlabel\":{\"align\":\"left\"},\"paper_bgcolor\":\"white\",\"plot_bgcolor\":\"#E5ECF6\",\"polar\":{\"bgcolor\":\"#E5ECF6\",\"angularaxis\":{\"gridcolor\":\"white\",\"linecolor\":\"white\",\"ticks\":\"\"},\"radialaxis\":{\"gridcolor\":\"white\",\"linecolor\":\"white\",\"ticks\":\"\"}},\"ternary\":{\"bgcolor\":\"#E5ECF6\",\"aaxis\":{\"gridcolor\":\"white\",\"linecolor\":\"white\",\"ticks\":\"\"},\"baxis\":{\"gridcolor\":\"white\",\"linecolor\":\"white\",\"ticks\":\"\"},\"caxis\":{\"gridcolor\":\"white\",\"linecolor\":\"white\",\"ticks\":\"\"}},\"coloraxis\":{\"colorbar\":{\"outlinewidth\":0,\"ticks\":\"\"}},\"colorscale\":{\"sequential\":[[0.0,\"#0d0887\"],[0.1111111111111111,\"#46039f\"],[0.2222222222222222,\"#7201a8\"],[0.3333333333333333,\"#9c179e\"],[0.4444444444444444,\"#bd3786\"],[0.5555555555555556,\"#d8576b\"],[0.6666666666666666,\"#ed7953\"],[0.7777777777777778,\"#fb9f3a\"],[0.8888888888888888,\"#fdca26\"],[1.0,\"#f0f921\"]],\"sequentialminus\":[[0.0,\"#0d0887\"],[0.1111111111111111,\"#46039f\"],[0.2222222222222222,\"#7201a8\"],[0.3333333333333333,\"#9c179e\"],[0.4444444444444444,\"#bd3786\"],[0.5555555555555556,\"#d8576b\"],[0.6666666666666666,\"#ed7953\"],[0.7777777777777778,\"#fb9f3a\"],[0.8888888888888888,\"#fdca26\"],[1.0,\"#f0f921\"]],\"diverging\":[[0,\"#8e0152\"],[0.1,\"#c51b7d\"],[0.2,\"#de77ae\"],[0.3,\"#f1b6da\"],[0.4,\"#fde0ef\"],[0.5,\"#f7f7f7\"],[0.6,\"#e6f5d0\"],[0.7,\"#b8e186\"],[0.8,\"#7fbc41\"],[0.9,\"#4d9221\"],[1,\"#276419\"]]},\"xaxis\":{\"gridcolor\":\"white\",\"linecolor\":\"white\",\"ticks\":\"\",\"title\":{\"standoff\":15},\"zerolinecolor\":\"white\",\"automargin\":true,\"zerolinewidth\":2},\"yaxis\":{\"gridcolor\":\"white\",\"linecolor\":\"white\",\"ticks\":\"\",\"title\":{\"standoff\":15},\"zerolinecolor\":\"white\",\"automargin\":true,\"zerolinewidth\":2},\"scene\":{\"xaxis\":{\"backgroundcolor\":\"#E5ECF6\",\"gridcolor\":\"white\",\"linecolor\":\"white\",\"showbackground\":true,\"ticks\":\"\",\"zerolinecolor\":\"white\",\"gridwidth\":2},\"yaxis\":{\"backgroundcolor\":\"#E5ECF6\",\"gridcolor\":\"white\",\"linecolor\":\"white\",\"showbackground\":true,\"ticks\":\"\",\"zerolinecolor\":\"white\",\"gridwidth\":2},\"zaxis\":{\"backgroundcolor\":\"#E5ECF6\",\"gridcolor\":\"white\",\"linecolor\":\"white\",\"showbackground\":true,\"ticks\":\"\",\"zerolinecolor\":\"white\",\"gridwidth\":2}},\"shapedefaults\":{\"line\":{\"color\":\"#2a3f5f\"}},\"annotationdefaults\":{\"arrowcolor\":\"#2a3f5f\",\"arrowhead\":0,\"arrowwidth\":1},\"geo\":{\"bgcolor\":\"white\",\"landcolor\":\"#E5ECF6\",\"subunitcolor\":\"white\",\"showland\":true,\"showlakes\":true,\"lakecolor\":\"white\"},\"title\":{\"x\":0.05},\"mapbox\":{\"style\":\"light\"}}},\"xaxis\":{\"anchor\":\"y\",\"domain\":[0.0,1.0],\"title\":{\"text\":\"graph\"}},\"yaxis\":{\"anchor\":\"x\",\"domain\":[0.0,1.0],\"title\":{\"text\":\"sum of target_size\"}},\"legend\":{\"title\":{\"text\":\"model\"},\"tracegroupgap\":0},\"margin\":{\"t\":60},\"barmode\":\"group\",\"height\":400},                        {\"responsive\": true}                    ).then(function(){\n",
       "                            \n",
       "var gd = document.getElementById('c76d0e51-35fe-4d49-8924-147b0ad5fb3f');\n",
       "var x = new MutationObserver(function (mutations, observer) {{\n",
       "        var display = window.getComputedStyle(gd).display;\n",
       "        if (!display || display === 'none') {{\n",
       "            console.log([gd, 'removed!']);\n",
       "            Plotly.purge(gd);\n",
       "            observer.disconnect();\n",
       "        }}\n",
       "}});\n",
       "\n",
       "// Listen for the removal of the full notebook cells\n",
       "var notebookContainer = gd.closest('#notebook-container');\n",
       "if (notebookContainer) {{\n",
       "    x.observe(notebookContainer, {childList: true});\n",
       "}}\n",
       "\n",
       "// Listen for the clearing of the current output cell\n",
       "var outputEl = gd.closest('.output');\n",
       "if (outputEl) {{\n",
       "    x.observe(outputEl, {childList: true});\n",
       "}}\n",
       "\n",
       "                        })                };                });            </script>        </div>"
      ]
     },
     "metadata": {},
     "output_type": "display_data"
    }
   ],
   "source": [
    "fig = px.histogram(Full, x=\"graph\", y=\"target_size\",\n",
    "             color='model', barmode='group',\n",
    "             height=400)\n",
    "fig.show()"
   ]
  },
  {
   "cell_type": "code",
   "execution_count": 80,
   "id": "6175317c",
   "metadata": {
    "ExecuteTime": {
     "end_time": "2023-01-12T14:29:09.225916Z",
     "start_time": "2023-01-12T14:29:09.115887Z"
    }
   },
   "outputs": [
    {
     "data": {
      "application/vnd.plotly.v1+json": {
       "config": {
        "plotlyServerURL": "https://plot.ly"
       },
       "data": [
        {
         "alignmentgroup": "True",
         "bingroup": "x",
         "histfunc": "sum",
         "hovertemplate": "model=GAT<br>graph=%{x}<br>sum of target_size_diff=%{y}<extra></extra>",
         "legendgroup": "GAT",
         "marker": {
          "color": "#636efa",
          "pattern": {
           "shape": ""
          }
         },
         "name": "GAT",
         "offsetgroup": "GAT",
         "orientation": "v",
         "showlegend": true,
         "type": "histogram",
         "x": [
          "graph_football",
          "graph_jazz",
          "graph_karate",
          "gemsec_facebook_artist",
          "ego-facebook",
          "graph_actors_dat",
          "graph_CA-AstroPh",
          "graph_CA-CondMat",
          "graph_CA-GrQc",
          "graph_CA-HepPh",
          "graph_CA-HepTh",
          "graph_dolphins",
          "graph_Email-Enron",
          "graph_ncstrlwg2",
          "soc-gplus",
          "socfb-Brandeis99",
          "socfb-Mich67",
          "socfb-nips-ego",
          "Amazon0302",
          "Amazon0312",
          "Amazon0505",
          "Amazon0601",
          "com-dblp.ungraph",
          "loc-gowalla_edges",
          "deezer_HR",
          "musae_git"
         ],
         "xaxis": "x",
         "y": [
          7,
          1,
          3,
          72,
          24,
          7,
          -7,
          1,
          19,
          61,
          6,
          2,
          -6,
          12,
          -1,
          3,
          2,
          0,
          -64,
          -216,
          -260,
          -161,
          -123,
          510,
          92,
          12
         ],
         "yaxis": "y"
        },
        {
         "alignmentgroup": "True",
         "bingroup": "x",
         "histfunc": "sum",
         "hovertemplate": "model=GCN<br>graph=%{x}<br>sum of target_size_diff=%{y}<extra></extra>",
         "legendgroup": "GCN",
         "marker": {
          "color": "#EF553B",
          "pattern": {
           "shape": ""
          }
         },
         "name": "GCN",
         "offsetgroup": "GCN",
         "orientation": "v",
         "showlegend": true,
         "type": "histogram",
         "x": [
          "graph_football",
          "graph_jazz",
          "graph_karate",
          "gemsec_facebook_artist",
          "ego-facebook",
          "graph_actors_dat",
          "graph_CA-AstroPh",
          "graph_CA-CondMat",
          "graph_CA-GrQc",
          "graph_CA-HepPh",
          "graph_CA-HepTh",
          "graph_dolphins",
          "graph_Email-Enron",
          "graph_ncstrlwg2",
          "soc-gplus",
          "socfb-Brandeis99",
          "socfb-Mich67",
          "socfb-nips-ego",
          "Amazon0302",
          "Amazon0312",
          "Amazon0505",
          "Amazon0601",
          "com-dblp.ungraph",
          "loc-gowalla_edges",
          "deezer_HR",
          "musae_git"
         ],
         "xaxis": "x",
         "y": [
          4,
          -2,
          0,
          -17,
          33,
          -19,
          -40,
          100,
          19,
          -12,
          67,
          0,
          -42,
          47,
          0,
          23,
          1,
          0,
          3737,
          4245,
          2534,
          4313,
          1825,
          154,
          91,
          18
         ],
         "yaxis": "y"
        },
        {
         "alignmentgroup": "True",
         "bingroup": "x",
         "histfunc": "sum",
         "hovertemplate": "model=GraphConv<br>graph=%{x}<br>sum of target_size_diff=%{y}<extra></extra>",
         "legendgroup": "GraphConv",
         "marker": {
          "color": "#00cc96",
          "pattern": {
           "shape": ""
          }
         },
         "name": "GraphConv",
         "offsetgroup": "GraphConv",
         "orientation": "v",
         "showlegend": true,
         "type": "histogram",
         "x": [
          "graph_football",
          "graph_jazz",
          "graph_karate",
          "gemsec_facebook_artist",
          "ego-facebook",
          "graph_actors_dat",
          "graph_CA-AstroPh",
          "graph_CA-CondMat",
          "graph_CA-GrQc",
          "graph_CA-HepPh",
          "graph_CA-HepTh",
          "graph_dolphins",
          "graph_Email-Enron",
          "graph_ncstrlwg2",
          "soc-gplus",
          "socfb-Brandeis99",
          "socfb-Mich67",
          "socfb-nips-ego",
          "Amazon0302",
          "Amazon0312",
          "Amazon0505",
          "Amazon0601",
          "com-dblp.ungraph",
          "loc-gowalla_edges",
          "deezer_HR",
          "musae_git"
         ],
         "xaxis": "x",
         "y": [
          3,
          2,
          1,
          -9,
          81,
          54,
          -17,
          39,
          -4,
          -10,
          25,
          0,
          -29,
          27,
          0,
          28,
          23,
          0,
          976,
          1353,
          1285,
          1362,
          1042,
          249,
          450,
          30
         ],
         "yaxis": "y"
        },
        {
         "alignmentgroup": "True",
         "bingroup": "x",
         "histfunc": "sum",
         "hovertemplate": "model=SAGE<br>graph=%{x}<br>sum of target_size_diff=%{y}<extra></extra>",
         "legendgroup": "SAGE",
         "marker": {
          "color": "#ab63fa",
          "pattern": {
           "shape": ""
          }
         },
         "name": "SAGE",
         "offsetgroup": "SAGE",
         "orientation": "v",
         "showlegend": true,
         "type": "histogram",
         "x": [
          "graph_football",
          "graph_jazz",
          "graph_karate",
          "gemsec_facebook_artist",
          "ego-facebook",
          "graph_actors_dat",
          "graph_CA-AstroPh",
          "graph_CA-CondMat",
          "graph_CA-GrQc",
          "graph_CA-HepPh",
          "graph_CA-HepTh",
          "graph_dolphins",
          "graph_Email-Enron",
          "graph_ncstrlwg2",
          "soc-gplus",
          "socfb-Brandeis99",
          "socfb-Mich67",
          "socfb-nips-ego",
          "Amazon0302",
          "Amazon0312",
          "Amazon0505",
          "Amazon0601",
          "com-dblp.ungraph",
          "loc-gowalla_edges",
          "deezer_HR",
          "musae_git"
         ],
         "xaxis": "x",
         "y": [
          3,
          -1,
          0,
          2,
          30,
          -16,
          -3,
          -53,
          -23,
          -42,
          -22,
          0,
          -71,
          -6,
          0,
          0,
          7,
          0,
          -313,
          34,
          -25,
          69,
          -631,
          10,
          96,
          10
         ],
         "yaxis": "y"
        },
        {
         "alignmentgroup": "True",
         "bingroup": "x",
         "histfunc": "sum",
         "hovertemplate": "model=SGConv<br>graph=%{x}<br>sum of target_size_diff=%{y}<extra></extra>",
         "legendgroup": "SGConv",
         "marker": {
          "color": "#FFA15A",
          "pattern": {
           "shape": ""
          }
         },
         "name": "SGConv",
         "offsetgroup": "SGConv",
         "orientation": "v",
         "showlegend": true,
         "type": "histogram",
         "x": [
          "graph_football",
          "graph_jazz",
          "graph_karate",
          "gemsec_facebook_artist",
          "ego-facebook",
          "graph_actors_dat",
          "graph_CA-AstroPh",
          "graph_CA-CondMat",
          "graph_CA-GrQc",
          "graph_CA-HepPh",
          "graph_CA-HepTh",
          "graph_dolphins",
          "graph_Email-Enron",
          "graph_ncstrlwg2",
          "soc-gplus",
          "socfb-Brandeis99",
          "socfb-Mich67",
          "socfb-nips-ego",
          "Amazon0302",
          "Amazon0312",
          "Amazon0505",
          "Amazon0601",
          "com-dblp.ungraph",
          "loc-gowalla_edges",
          "deezer_HR",
          "musae_git"
         ],
         "xaxis": "x",
         "y": [
          4,
          -2,
          0,
          -7,
          21,
          -19,
          -62,
          40,
          3,
          -25,
          36,
          0,
          -33,
          41,
          0,
          6,
          3,
          0,
          4891,
          6221,
          4434,
          3590,
          1531,
          113,
          42,
          18
         ],
         "yaxis": "y"
        },
        {
         "alignmentgroup": "True",
         "bingroup": "x",
         "histfunc": "sum",
         "hovertemplate": "model=MDH<br>graph=%{x}<br>sum of target_size_diff=%{y}<extra></extra>",
         "legendgroup": "MDH",
         "marker": {
          "color": "#19d3f3",
          "pattern": {
           "shape": ""
          }
         },
         "name": "MDH",
         "offsetgroup": "MDH",
         "orientation": "v",
         "showlegend": true,
         "type": "histogram",
         "x": [
          "graph_football",
          "graph_jazz",
          "graph_karate",
          "gemsec_facebook_artist",
          "ego-facebook",
          "graph_actors_dat",
          "graph_CA-AstroPh",
          "graph_CA-CondMat",
          "graph_CA-GrQc",
          "graph_CA-HepPh",
          "graph_CA-HepTh",
          "graph_dolphins",
          "graph_Email-Enron",
          "graph_ncstrlwg2",
          "soc-gplus",
          "socfb-Brandeis99",
          "socfb-Mich67",
          "socfb-nips-ego",
          "Amazon0302",
          "Amazon0312",
          "Amazon0505",
          "Amazon0601",
          "com-dblp.ungraph",
          "loc-gowalla_edges",
          "deezer_HR",
          "musae_git"
         ],
         "xaxis": "x",
         "y": [
          0,
          0,
          0,
          0,
          0,
          0,
          0,
          0,
          0,
          0,
          0,
          0,
          0,
          0,
          0,
          0,
          0,
          0,
          0,
          0,
          0,
          0,
          0,
          0,
          0,
          0
         ],
         "yaxis": "y"
        },
        {
         "alignmentgroup": "True",
         "bingroup": "x",
         "histfunc": "sum",
         "hovertemplate": "model=GRAT<br>graph=%{x}<br>sum of target_size_diff=%{y}<extra></extra>",
         "legendgroup": "GRAT",
         "marker": {
          "color": "#FF6692",
          "pattern": {
           "shape": ""
          }
         },
         "name": "GRAT",
         "offsetgroup": "GRAT",
         "orientation": "v",
         "showlegend": true,
         "type": "histogram",
         "x": [
          "graph_football",
          "graph_jazz",
          "graph_karate",
          "gemsec_facebook_artist",
          "ego-facebook",
          "graph_actors_dat",
          "graph_CA-AstroPh",
          "graph_CA-CondMat",
          "graph_CA-GrQc",
          "graph_CA-HepPh",
          "graph_CA-HepTh",
          "graph_dolphins",
          "graph_Email-Enron",
          "graph_ncstrlwg2",
          "soc-gplus",
          "socfb-Brandeis99",
          "socfb-Mich67",
          "socfb-nips-ego",
          "Amazon0302",
          "Amazon0312",
          "Amazon0505",
          "Amazon0601",
          "com-dblp.ungraph",
          "loc-gowalla_edges",
          "deezer_HR",
          "musae_git"
         ],
         "xaxis": "x",
         "y": [
          1,
          2,
          0,
          188,
          0,
          60,
          194,
          13,
          3,
          105,
          -6,
          0,
          30,
          2,
          0,
          124,
          273,
          0,
          -471,
          664,
          661,
          332,
          143,
          43,
          2056,
          10
         ],
         "yaxis": "y"
        }
       ],
       "layout": {
        "barmode": "group",
        "height": 400,
        "legend": {
         "title": {
          "text": "model"
         },
         "tracegroupgap": 0
        },
        "margin": {
         "t": 60
        },
        "template": {
         "data": {
          "bar": [
           {
            "error_x": {
             "color": "#2a3f5f"
            },
            "error_y": {
             "color": "#2a3f5f"
            },
            "marker": {
             "line": {
              "color": "#E5ECF6",
              "width": 0.5
             },
             "pattern": {
              "fillmode": "overlay",
              "size": 10,
              "solidity": 0.2
             }
            },
            "type": "bar"
           }
          ],
          "barpolar": [
           {
            "marker": {
             "line": {
              "color": "#E5ECF6",
              "width": 0.5
             },
             "pattern": {
              "fillmode": "overlay",
              "size": 10,
              "solidity": 0.2
             }
            },
            "type": "barpolar"
           }
          ],
          "carpet": [
           {
            "aaxis": {
             "endlinecolor": "#2a3f5f",
             "gridcolor": "white",
             "linecolor": "white",
             "minorgridcolor": "white",
             "startlinecolor": "#2a3f5f"
            },
            "baxis": {
             "endlinecolor": "#2a3f5f",
             "gridcolor": "white",
             "linecolor": "white",
             "minorgridcolor": "white",
             "startlinecolor": "#2a3f5f"
            },
            "type": "carpet"
           }
          ],
          "choropleth": [
           {
            "colorbar": {
             "outlinewidth": 0,
             "ticks": ""
            },
            "type": "choropleth"
           }
          ],
          "contour": [
           {
            "colorbar": {
             "outlinewidth": 0,
             "ticks": ""
            },
            "colorscale": [
             [
              0,
              "#0d0887"
             ],
             [
              0.1111111111111111,
              "#46039f"
             ],
             [
              0.2222222222222222,
              "#7201a8"
             ],
             [
              0.3333333333333333,
              "#9c179e"
             ],
             [
              0.4444444444444444,
              "#bd3786"
             ],
             [
              0.5555555555555556,
              "#d8576b"
             ],
             [
              0.6666666666666666,
              "#ed7953"
             ],
             [
              0.7777777777777778,
              "#fb9f3a"
             ],
             [
              0.8888888888888888,
              "#fdca26"
             ],
             [
              1,
              "#f0f921"
             ]
            ],
            "type": "contour"
           }
          ],
          "contourcarpet": [
           {
            "colorbar": {
             "outlinewidth": 0,
             "ticks": ""
            },
            "type": "contourcarpet"
           }
          ],
          "heatmap": [
           {
            "colorbar": {
             "outlinewidth": 0,
             "ticks": ""
            },
            "colorscale": [
             [
              0,
              "#0d0887"
             ],
             [
              0.1111111111111111,
              "#46039f"
             ],
             [
              0.2222222222222222,
              "#7201a8"
             ],
             [
              0.3333333333333333,
              "#9c179e"
             ],
             [
              0.4444444444444444,
              "#bd3786"
             ],
             [
              0.5555555555555556,
              "#d8576b"
             ],
             [
              0.6666666666666666,
              "#ed7953"
             ],
             [
              0.7777777777777778,
              "#fb9f3a"
             ],
             [
              0.8888888888888888,
              "#fdca26"
             ],
             [
              1,
              "#f0f921"
             ]
            ],
            "type": "heatmap"
           }
          ],
          "heatmapgl": [
           {
            "colorbar": {
             "outlinewidth": 0,
             "ticks": ""
            },
            "colorscale": [
             [
              0,
              "#0d0887"
             ],
             [
              0.1111111111111111,
              "#46039f"
             ],
             [
              0.2222222222222222,
              "#7201a8"
             ],
             [
              0.3333333333333333,
              "#9c179e"
             ],
             [
              0.4444444444444444,
              "#bd3786"
             ],
             [
              0.5555555555555556,
              "#d8576b"
             ],
             [
              0.6666666666666666,
              "#ed7953"
             ],
             [
              0.7777777777777778,
              "#fb9f3a"
             ],
             [
              0.8888888888888888,
              "#fdca26"
             ],
             [
              1,
              "#f0f921"
             ]
            ],
            "type": "heatmapgl"
           }
          ],
          "histogram": [
           {
            "marker": {
             "pattern": {
              "fillmode": "overlay",
              "size": 10,
              "solidity": 0.2
             }
            },
            "type": "histogram"
           }
          ],
          "histogram2d": [
           {
            "colorbar": {
             "outlinewidth": 0,
             "ticks": ""
            },
            "colorscale": [
             [
              0,
              "#0d0887"
             ],
             [
              0.1111111111111111,
              "#46039f"
             ],
             [
              0.2222222222222222,
              "#7201a8"
             ],
             [
              0.3333333333333333,
              "#9c179e"
             ],
             [
              0.4444444444444444,
              "#bd3786"
             ],
             [
              0.5555555555555556,
              "#d8576b"
             ],
             [
              0.6666666666666666,
              "#ed7953"
             ],
             [
              0.7777777777777778,
              "#fb9f3a"
             ],
             [
              0.8888888888888888,
              "#fdca26"
             ],
             [
              1,
              "#f0f921"
             ]
            ],
            "type": "histogram2d"
           }
          ],
          "histogram2dcontour": [
           {
            "colorbar": {
             "outlinewidth": 0,
             "ticks": ""
            },
            "colorscale": [
             [
              0,
              "#0d0887"
             ],
             [
              0.1111111111111111,
              "#46039f"
             ],
             [
              0.2222222222222222,
              "#7201a8"
             ],
             [
              0.3333333333333333,
              "#9c179e"
             ],
             [
              0.4444444444444444,
              "#bd3786"
             ],
             [
              0.5555555555555556,
              "#d8576b"
             ],
             [
              0.6666666666666666,
              "#ed7953"
             ],
             [
              0.7777777777777778,
              "#fb9f3a"
             ],
             [
              0.8888888888888888,
              "#fdca26"
             ],
             [
              1,
              "#f0f921"
             ]
            ],
            "type": "histogram2dcontour"
           }
          ],
          "mesh3d": [
           {
            "colorbar": {
             "outlinewidth": 0,
             "ticks": ""
            },
            "type": "mesh3d"
           }
          ],
          "parcoords": [
           {
            "line": {
             "colorbar": {
              "outlinewidth": 0,
              "ticks": ""
             }
            },
            "type": "parcoords"
           }
          ],
          "pie": [
           {
            "automargin": true,
            "type": "pie"
           }
          ],
          "scatter": [
           {
            "fillpattern": {
             "fillmode": "overlay",
             "size": 10,
             "solidity": 0.2
            },
            "type": "scatter"
           }
          ],
          "scatter3d": [
           {
            "line": {
             "colorbar": {
              "outlinewidth": 0,
              "ticks": ""
             }
            },
            "marker": {
             "colorbar": {
              "outlinewidth": 0,
              "ticks": ""
             }
            },
            "type": "scatter3d"
           }
          ],
          "scattercarpet": [
           {
            "marker": {
             "colorbar": {
              "outlinewidth": 0,
              "ticks": ""
             }
            },
            "type": "scattercarpet"
           }
          ],
          "scattergeo": [
           {
            "marker": {
             "colorbar": {
              "outlinewidth": 0,
              "ticks": ""
             }
            },
            "type": "scattergeo"
           }
          ],
          "scattergl": [
           {
            "marker": {
             "colorbar": {
              "outlinewidth": 0,
              "ticks": ""
             }
            },
            "type": "scattergl"
           }
          ],
          "scattermapbox": [
           {
            "marker": {
             "colorbar": {
              "outlinewidth": 0,
              "ticks": ""
             }
            },
            "type": "scattermapbox"
           }
          ],
          "scatterpolar": [
           {
            "marker": {
             "colorbar": {
              "outlinewidth": 0,
              "ticks": ""
             }
            },
            "type": "scatterpolar"
           }
          ],
          "scatterpolargl": [
           {
            "marker": {
             "colorbar": {
              "outlinewidth": 0,
              "ticks": ""
             }
            },
            "type": "scatterpolargl"
           }
          ],
          "scatterternary": [
           {
            "marker": {
             "colorbar": {
              "outlinewidth": 0,
              "ticks": ""
             }
            },
            "type": "scatterternary"
           }
          ],
          "surface": [
           {
            "colorbar": {
             "outlinewidth": 0,
             "ticks": ""
            },
            "colorscale": [
             [
              0,
              "#0d0887"
             ],
             [
              0.1111111111111111,
              "#46039f"
             ],
             [
              0.2222222222222222,
              "#7201a8"
             ],
             [
              0.3333333333333333,
              "#9c179e"
             ],
             [
              0.4444444444444444,
              "#bd3786"
             ],
             [
              0.5555555555555556,
              "#d8576b"
             ],
             [
              0.6666666666666666,
              "#ed7953"
             ],
             [
              0.7777777777777778,
              "#fb9f3a"
             ],
             [
              0.8888888888888888,
              "#fdca26"
             ],
             [
              1,
              "#f0f921"
             ]
            ],
            "type": "surface"
           }
          ],
          "table": [
           {
            "cells": {
             "fill": {
              "color": "#EBF0F8"
             },
             "line": {
              "color": "white"
             }
            },
            "header": {
             "fill": {
              "color": "#C8D4E3"
             },
             "line": {
              "color": "white"
             }
            },
            "type": "table"
           }
          ]
         },
         "layout": {
          "annotationdefaults": {
           "arrowcolor": "#2a3f5f",
           "arrowhead": 0,
           "arrowwidth": 1
          },
          "autotypenumbers": "strict",
          "coloraxis": {
           "colorbar": {
            "outlinewidth": 0,
            "ticks": ""
           }
          },
          "colorscale": {
           "diverging": [
            [
             0,
             "#8e0152"
            ],
            [
             0.1,
             "#c51b7d"
            ],
            [
             0.2,
             "#de77ae"
            ],
            [
             0.3,
             "#f1b6da"
            ],
            [
             0.4,
             "#fde0ef"
            ],
            [
             0.5,
             "#f7f7f7"
            ],
            [
             0.6,
             "#e6f5d0"
            ],
            [
             0.7,
             "#b8e186"
            ],
            [
             0.8,
             "#7fbc41"
            ],
            [
             0.9,
             "#4d9221"
            ],
            [
             1,
             "#276419"
            ]
           ],
           "sequential": [
            [
             0,
             "#0d0887"
            ],
            [
             0.1111111111111111,
             "#46039f"
            ],
            [
             0.2222222222222222,
             "#7201a8"
            ],
            [
             0.3333333333333333,
             "#9c179e"
            ],
            [
             0.4444444444444444,
             "#bd3786"
            ],
            [
             0.5555555555555556,
             "#d8576b"
            ],
            [
             0.6666666666666666,
             "#ed7953"
            ],
            [
             0.7777777777777778,
             "#fb9f3a"
            ],
            [
             0.8888888888888888,
             "#fdca26"
            ],
            [
             1,
             "#f0f921"
            ]
           ],
           "sequentialminus": [
            [
             0,
             "#0d0887"
            ],
            [
             0.1111111111111111,
             "#46039f"
            ],
            [
             0.2222222222222222,
             "#7201a8"
            ],
            [
             0.3333333333333333,
             "#9c179e"
            ],
            [
             0.4444444444444444,
             "#bd3786"
            ],
            [
             0.5555555555555556,
             "#d8576b"
            ],
            [
             0.6666666666666666,
             "#ed7953"
            ],
            [
             0.7777777777777778,
             "#fb9f3a"
            ],
            [
             0.8888888888888888,
             "#fdca26"
            ],
            [
             1,
             "#f0f921"
            ]
           ]
          },
          "colorway": [
           "#636efa",
           "#EF553B",
           "#00cc96",
           "#ab63fa",
           "#FFA15A",
           "#19d3f3",
           "#FF6692",
           "#B6E880",
           "#FF97FF",
           "#FECB52"
          ],
          "font": {
           "color": "#2a3f5f"
          },
          "geo": {
           "bgcolor": "white",
           "lakecolor": "white",
           "landcolor": "#E5ECF6",
           "showlakes": true,
           "showland": true,
           "subunitcolor": "white"
          },
          "hoverlabel": {
           "align": "left"
          },
          "hovermode": "closest",
          "mapbox": {
           "style": "light"
          },
          "paper_bgcolor": "white",
          "plot_bgcolor": "#E5ECF6",
          "polar": {
           "angularaxis": {
            "gridcolor": "white",
            "linecolor": "white",
            "ticks": ""
           },
           "bgcolor": "#E5ECF6",
           "radialaxis": {
            "gridcolor": "white",
            "linecolor": "white",
            "ticks": ""
           }
          },
          "scene": {
           "xaxis": {
            "backgroundcolor": "#E5ECF6",
            "gridcolor": "white",
            "gridwidth": 2,
            "linecolor": "white",
            "showbackground": true,
            "ticks": "",
            "zerolinecolor": "white"
           },
           "yaxis": {
            "backgroundcolor": "#E5ECF6",
            "gridcolor": "white",
            "gridwidth": 2,
            "linecolor": "white",
            "showbackground": true,
            "ticks": "",
            "zerolinecolor": "white"
           },
           "zaxis": {
            "backgroundcolor": "#E5ECF6",
            "gridcolor": "white",
            "gridwidth": 2,
            "linecolor": "white",
            "showbackground": true,
            "ticks": "",
            "zerolinecolor": "white"
           }
          },
          "shapedefaults": {
           "line": {
            "color": "#2a3f5f"
           }
          },
          "ternary": {
           "aaxis": {
            "gridcolor": "white",
            "linecolor": "white",
            "ticks": ""
           },
           "baxis": {
            "gridcolor": "white",
            "linecolor": "white",
            "ticks": ""
           },
           "bgcolor": "#E5ECF6",
           "caxis": {
            "gridcolor": "white",
            "linecolor": "white",
            "ticks": ""
           }
          },
          "title": {
           "x": 0.05
          },
          "xaxis": {
           "automargin": true,
           "gridcolor": "white",
           "linecolor": "white",
           "ticks": "",
           "title": {
            "standoff": 15
           },
           "zerolinecolor": "white",
           "zerolinewidth": 2
          },
          "yaxis": {
           "automargin": true,
           "gridcolor": "white",
           "linecolor": "white",
           "ticks": "",
           "title": {
            "standoff": 15
           },
           "zerolinecolor": "white",
           "zerolinewidth": 2
          }
         }
        },
        "xaxis": {
         "anchor": "y",
         "domain": [
          0,
          1
         ],
         "title": {
          "text": "graph"
         }
        },
        "yaxis": {
         "anchor": "x",
         "domain": [
          0,
          1
         ],
         "title": {
          "text": "sum of target_size_diff"
         }
        }
       }
      },
      "text/html": [
       "<div>                            <div id=\"061ceacd-3326-4e16-9e63-6879fd74dc7e\" class=\"plotly-graph-div\" style=\"height:400px; width:100%;\"></div>            <script type=\"text/javascript\">                require([\"plotly\"], function(Plotly) {                    window.PLOTLYENV=window.PLOTLYENV || {};                                    if (document.getElementById(\"061ceacd-3326-4e16-9e63-6879fd74dc7e\")) {                    Plotly.newPlot(                        \"061ceacd-3326-4e16-9e63-6879fd74dc7e\",                        [{\"alignmentgroup\":\"True\",\"bingroup\":\"x\",\"histfunc\":\"sum\",\"hovertemplate\":\"model=GAT<br>graph=%{x}<br>sum of target_size_diff=%{y}<extra></extra>\",\"legendgroup\":\"GAT\",\"marker\":{\"color\":\"#636efa\",\"pattern\":{\"shape\":\"\"}},\"name\":\"GAT\",\"offsetgroup\":\"GAT\",\"orientation\":\"v\",\"showlegend\":true,\"x\":[\"graph_football\",\"graph_jazz\",\"graph_karate\",\"gemsec_facebook_artist\",\"ego-facebook\",\"graph_actors_dat\",\"graph_CA-AstroPh\",\"graph_CA-CondMat\",\"graph_CA-GrQc\",\"graph_CA-HepPh\",\"graph_CA-HepTh\",\"graph_dolphins\",\"graph_Email-Enron\",\"graph_ncstrlwg2\",\"soc-gplus\",\"socfb-Brandeis99\",\"socfb-Mich67\",\"socfb-nips-ego\",\"Amazon0302\",\"Amazon0312\",\"Amazon0505\",\"Amazon0601\",\"com-dblp.ungraph\",\"loc-gowalla_edges\",\"deezer_HR\",\"musae_git\"],\"xaxis\":\"x\",\"y\":[7,1,3,72,24,7,-7,1,19,61,6,2,-6,12,-1,3,2,0,-64,-216,-260,-161,-123,510,92,12],\"yaxis\":\"y\",\"type\":\"histogram\"},{\"alignmentgroup\":\"True\",\"bingroup\":\"x\",\"histfunc\":\"sum\",\"hovertemplate\":\"model=GCN<br>graph=%{x}<br>sum of target_size_diff=%{y}<extra></extra>\",\"legendgroup\":\"GCN\",\"marker\":{\"color\":\"#EF553B\",\"pattern\":{\"shape\":\"\"}},\"name\":\"GCN\",\"offsetgroup\":\"GCN\",\"orientation\":\"v\",\"showlegend\":true,\"x\":[\"graph_football\",\"graph_jazz\",\"graph_karate\",\"gemsec_facebook_artist\",\"ego-facebook\",\"graph_actors_dat\",\"graph_CA-AstroPh\",\"graph_CA-CondMat\",\"graph_CA-GrQc\",\"graph_CA-HepPh\",\"graph_CA-HepTh\",\"graph_dolphins\",\"graph_Email-Enron\",\"graph_ncstrlwg2\",\"soc-gplus\",\"socfb-Brandeis99\",\"socfb-Mich67\",\"socfb-nips-ego\",\"Amazon0302\",\"Amazon0312\",\"Amazon0505\",\"Amazon0601\",\"com-dblp.ungraph\",\"loc-gowalla_edges\",\"deezer_HR\",\"musae_git\"],\"xaxis\":\"x\",\"y\":[4,-2,0,-17,33,-19,-40,100,19,-12,67,0,-42,47,0,23,1,0,3737,4245,2534,4313,1825,154,91,18],\"yaxis\":\"y\",\"type\":\"histogram\"},{\"alignmentgroup\":\"True\",\"bingroup\":\"x\",\"histfunc\":\"sum\",\"hovertemplate\":\"model=GraphConv<br>graph=%{x}<br>sum of target_size_diff=%{y}<extra></extra>\",\"legendgroup\":\"GraphConv\",\"marker\":{\"color\":\"#00cc96\",\"pattern\":{\"shape\":\"\"}},\"name\":\"GraphConv\",\"offsetgroup\":\"GraphConv\",\"orientation\":\"v\",\"showlegend\":true,\"x\":[\"graph_football\",\"graph_jazz\",\"graph_karate\",\"gemsec_facebook_artist\",\"ego-facebook\",\"graph_actors_dat\",\"graph_CA-AstroPh\",\"graph_CA-CondMat\",\"graph_CA-GrQc\",\"graph_CA-HepPh\",\"graph_CA-HepTh\",\"graph_dolphins\",\"graph_Email-Enron\",\"graph_ncstrlwg2\",\"soc-gplus\",\"socfb-Brandeis99\",\"socfb-Mich67\",\"socfb-nips-ego\",\"Amazon0302\",\"Amazon0312\",\"Amazon0505\",\"Amazon0601\",\"com-dblp.ungraph\",\"loc-gowalla_edges\",\"deezer_HR\",\"musae_git\"],\"xaxis\":\"x\",\"y\":[3,2,1,-9,81,54,-17,39,-4,-10,25,0,-29,27,0,28,23,0,976,1353,1285,1362,1042,249,450,30],\"yaxis\":\"y\",\"type\":\"histogram\"},{\"alignmentgroup\":\"True\",\"bingroup\":\"x\",\"histfunc\":\"sum\",\"hovertemplate\":\"model=SAGE<br>graph=%{x}<br>sum of target_size_diff=%{y}<extra></extra>\",\"legendgroup\":\"SAGE\",\"marker\":{\"color\":\"#ab63fa\",\"pattern\":{\"shape\":\"\"}},\"name\":\"SAGE\",\"offsetgroup\":\"SAGE\",\"orientation\":\"v\",\"showlegend\":true,\"x\":[\"graph_football\",\"graph_jazz\",\"graph_karate\",\"gemsec_facebook_artist\",\"ego-facebook\",\"graph_actors_dat\",\"graph_CA-AstroPh\",\"graph_CA-CondMat\",\"graph_CA-GrQc\",\"graph_CA-HepPh\",\"graph_CA-HepTh\",\"graph_dolphins\",\"graph_Email-Enron\",\"graph_ncstrlwg2\",\"soc-gplus\",\"socfb-Brandeis99\",\"socfb-Mich67\",\"socfb-nips-ego\",\"Amazon0302\",\"Amazon0312\",\"Amazon0505\",\"Amazon0601\",\"com-dblp.ungraph\",\"loc-gowalla_edges\",\"deezer_HR\",\"musae_git\"],\"xaxis\":\"x\",\"y\":[3,-1,0,2,30,-16,-3,-53,-23,-42,-22,0,-71,-6,0,0,7,0,-313,34,-25,69,-631,10,96,10],\"yaxis\":\"y\",\"type\":\"histogram\"},{\"alignmentgroup\":\"True\",\"bingroup\":\"x\",\"histfunc\":\"sum\",\"hovertemplate\":\"model=SGConv<br>graph=%{x}<br>sum of target_size_diff=%{y}<extra></extra>\",\"legendgroup\":\"SGConv\",\"marker\":{\"color\":\"#FFA15A\",\"pattern\":{\"shape\":\"\"}},\"name\":\"SGConv\",\"offsetgroup\":\"SGConv\",\"orientation\":\"v\",\"showlegend\":true,\"x\":[\"graph_football\",\"graph_jazz\",\"graph_karate\",\"gemsec_facebook_artist\",\"ego-facebook\",\"graph_actors_dat\",\"graph_CA-AstroPh\",\"graph_CA-CondMat\",\"graph_CA-GrQc\",\"graph_CA-HepPh\",\"graph_CA-HepTh\",\"graph_dolphins\",\"graph_Email-Enron\",\"graph_ncstrlwg2\",\"soc-gplus\",\"socfb-Brandeis99\",\"socfb-Mich67\",\"socfb-nips-ego\",\"Amazon0302\",\"Amazon0312\",\"Amazon0505\",\"Amazon0601\",\"com-dblp.ungraph\",\"loc-gowalla_edges\",\"deezer_HR\",\"musae_git\"],\"xaxis\":\"x\",\"y\":[4,-2,0,-7,21,-19,-62,40,3,-25,36,0,-33,41,0,6,3,0,4891,6221,4434,3590,1531,113,42,18],\"yaxis\":\"y\",\"type\":\"histogram\"},{\"alignmentgroup\":\"True\",\"bingroup\":\"x\",\"histfunc\":\"sum\",\"hovertemplate\":\"model=MDH<br>graph=%{x}<br>sum of target_size_diff=%{y}<extra></extra>\",\"legendgroup\":\"MDH\",\"marker\":{\"color\":\"#19d3f3\",\"pattern\":{\"shape\":\"\"}},\"name\":\"MDH\",\"offsetgroup\":\"MDH\",\"orientation\":\"v\",\"showlegend\":true,\"x\":[\"graph_football\",\"graph_jazz\",\"graph_karate\",\"gemsec_facebook_artist\",\"ego-facebook\",\"graph_actors_dat\",\"graph_CA-AstroPh\",\"graph_CA-CondMat\",\"graph_CA-GrQc\",\"graph_CA-HepPh\",\"graph_CA-HepTh\",\"graph_dolphins\",\"graph_Email-Enron\",\"graph_ncstrlwg2\",\"soc-gplus\",\"socfb-Brandeis99\",\"socfb-Mich67\",\"socfb-nips-ego\",\"Amazon0302\",\"Amazon0312\",\"Amazon0505\",\"Amazon0601\",\"com-dblp.ungraph\",\"loc-gowalla_edges\",\"deezer_HR\",\"musae_git\"],\"xaxis\":\"x\",\"y\":[0,0,0,0,0,0,0,0,0,0,0,0,0,0,0,0,0,0,0,0,0,0,0,0,0,0],\"yaxis\":\"y\",\"type\":\"histogram\"},{\"alignmentgroup\":\"True\",\"bingroup\":\"x\",\"histfunc\":\"sum\",\"hovertemplate\":\"model=GRAT<br>graph=%{x}<br>sum of target_size_diff=%{y}<extra></extra>\",\"legendgroup\":\"GRAT\",\"marker\":{\"color\":\"#FF6692\",\"pattern\":{\"shape\":\"\"}},\"name\":\"GRAT\",\"offsetgroup\":\"GRAT\",\"orientation\":\"v\",\"showlegend\":true,\"x\":[\"graph_football\",\"graph_jazz\",\"graph_karate\",\"gemsec_facebook_artist\",\"ego-facebook\",\"graph_actors_dat\",\"graph_CA-AstroPh\",\"graph_CA-CondMat\",\"graph_CA-GrQc\",\"graph_CA-HepPh\",\"graph_CA-HepTh\",\"graph_dolphins\",\"graph_Email-Enron\",\"graph_ncstrlwg2\",\"soc-gplus\",\"socfb-Brandeis99\",\"socfb-Mich67\",\"socfb-nips-ego\",\"Amazon0302\",\"Amazon0312\",\"Amazon0505\",\"Amazon0601\",\"com-dblp.ungraph\",\"loc-gowalla_edges\",\"deezer_HR\",\"musae_git\"],\"xaxis\":\"x\",\"y\":[1,2,0,188,0,60,194,13,3,105,-6,0,30,2,0,124,273,0,-471,664,661,332,143,43,2056,10],\"yaxis\":\"y\",\"type\":\"histogram\"}],                        {\"template\":{\"data\":{\"histogram2dcontour\":[{\"type\":\"histogram2dcontour\",\"colorbar\":{\"outlinewidth\":0,\"ticks\":\"\"},\"colorscale\":[[0.0,\"#0d0887\"],[0.1111111111111111,\"#46039f\"],[0.2222222222222222,\"#7201a8\"],[0.3333333333333333,\"#9c179e\"],[0.4444444444444444,\"#bd3786\"],[0.5555555555555556,\"#d8576b\"],[0.6666666666666666,\"#ed7953\"],[0.7777777777777778,\"#fb9f3a\"],[0.8888888888888888,\"#fdca26\"],[1.0,\"#f0f921\"]]}],\"choropleth\":[{\"type\":\"choropleth\",\"colorbar\":{\"outlinewidth\":0,\"ticks\":\"\"}}],\"histogram2d\":[{\"type\":\"histogram2d\",\"colorbar\":{\"outlinewidth\":0,\"ticks\":\"\"},\"colorscale\":[[0.0,\"#0d0887\"],[0.1111111111111111,\"#46039f\"],[0.2222222222222222,\"#7201a8\"],[0.3333333333333333,\"#9c179e\"],[0.4444444444444444,\"#bd3786\"],[0.5555555555555556,\"#d8576b\"],[0.6666666666666666,\"#ed7953\"],[0.7777777777777778,\"#fb9f3a\"],[0.8888888888888888,\"#fdca26\"],[1.0,\"#f0f921\"]]}],\"heatmap\":[{\"type\":\"heatmap\",\"colorbar\":{\"outlinewidth\":0,\"ticks\":\"\"},\"colorscale\":[[0.0,\"#0d0887\"],[0.1111111111111111,\"#46039f\"],[0.2222222222222222,\"#7201a8\"],[0.3333333333333333,\"#9c179e\"],[0.4444444444444444,\"#bd3786\"],[0.5555555555555556,\"#d8576b\"],[0.6666666666666666,\"#ed7953\"],[0.7777777777777778,\"#fb9f3a\"],[0.8888888888888888,\"#fdca26\"],[1.0,\"#f0f921\"]]}],\"heatmapgl\":[{\"type\":\"heatmapgl\",\"colorbar\":{\"outlinewidth\":0,\"ticks\":\"\"},\"colorscale\":[[0.0,\"#0d0887\"],[0.1111111111111111,\"#46039f\"],[0.2222222222222222,\"#7201a8\"],[0.3333333333333333,\"#9c179e\"],[0.4444444444444444,\"#bd3786\"],[0.5555555555555556,\"#d8576b\"],[0.6666666666666666,\"#ed7953\"],[0.7777777777777778,\"#fb9f3a\"],[0.8888888888888888,\"#fdca26\"],[1.0,\"#f0f921\"]]}],\"contourcarpet\":[{\"type\":\"contourcarpet\",\"colorbar\":{\"outlinewidth\":0,\"ticks\":\"\"}}],\"contour\":[{\"type\":\"contour\",\"colorbar\":{\"outlinewidth\":0,\"ticks\":\"\"},\"colorscale\":[[0.0,\"#0d0887\"],[0.1111111111111111,\"#46039f\"],[0.2222222222222222,\"#7201a8\"],[0.3333333333333333,\"#9c179e\"],[0.4444444444444444,\"#bd3786\"],[0.5555555555555556,\"#d8576b\"],[0.6666666666666666,\"#ed7953\"],[0.7777777777777778,\"#fb9f3a\"],[0.8888888888888888,\"#fdca26\"],[1.0,\"#f0f921\"]]}],\"surface\":[{\"type\":\"surface\",\"colorbar\":{\"outlinewidth\":0,\"ticks\":\"\"},\"colorscale\":[[0.0,\"#0d0887\"],[0.1111111111111111,\"#46039f\"],[0.2222222222222222,\"#7201a8\"],[0.3333333333333333,\"#9c179e\"],[0.4444444444444444,\"#bd3786\"],[0.5555555555555556,\"#d8576b\"],[0.6666666666666666,\"#ed7953\"],[0.7777777777777778,\"#fb9f3a\"],[0.8888888888888888,\"#fdca26\"],[1.0,\"#f0f921\"]]}],\"mesh3d\":[{\"type\":\"mesh3d\",\"colorbar\":{\"outlinewidth\":0,\"ticks\":\"\"}}],\"scatter\":[{\"fillpattern\":{\"fillmode\":\"overlay\",\"size\":10,\"solidity\":0.2},\"type\":\"scatter\"}],\"parcoords\":[{\"type\":\"parcoords\",\"line\":{\"colorbar\":{\"outlinewidth\":0,\"ticks\":\"\"}}}],\"scatterpolargl\":[{\"type\":\"scatterpolargl\",\"marker\":{\"colorbar\":{\"outlinewidth\":0,\"ticks\":\"\"}}}],\"bar\":[{\"error_x\":{\"color\":\"#2a3f5f\"},\"error_y\":{\"color\":\"#2a3f5f\"},\"marker\":{\"line\":{\"color\":\"#E5ECF6\",\"width\":0.5},\"pattern\":{\"fillmode\":\"overlay\",\"size\":10,\"solidity\":0.2}},\"type\":\"bar\"}],\"scattergeo\":[{\"type\":\"scattergeo\",\"marker\":{\"colorbar\":{\"outlinewidth\":0,\"ticks\":\"\"}}}],\"scatterpolar\":[{\"type\":\"scatterpolar\",\"marker\":{\"colorbar\":{\"outlinewidth\":0,\"ticks\":\"\"}}}],\"histogram\":[{\"marker\":{\"pattern\":{\"fillmode\":\"overlay\",\"size\":10,\"solidity\":0.2}},\"type\":\"histogram\"}],\"scattergl\":[{\"type\":\"scattergl\",\"marker\":{\"colorbar\":{\"outlinewidth\":0,\"ticks\":\"\"}}}],\"scatter3d\":[{\"type\":\"scatter3d\",\"line\":{\"colorbar\":{\"outlinewidth\":0,\"ticks\":\"\"}},\"marker\":{\"colorbar\":{\"outlinewidth\":0,\"ticks\":\"\"}}}],\"scattermapbox\":[{\"type\":\"scattermapbox\",\"marker\":{\"colorbar\":{\"outlinewidth\":0,\"ticks\":\"\"}}}],\"scatterternary\":[{\"type\":\"scatterternary\",\"marker\":{\"colorbar\":{\"outlinewidth\":0,\"ticks\":\"\"}}}],\"scattercarpet\":[{\"type\":\"scattercarpet\",\"marker\":{\"colorbar\":{\"outlinewidth\":0,\"ticks\":\"\"}}}],\"carpet\":[{\"aaxis\":{\"endlinecolor\":\"#2a3f5f\",\"gridcolor\":\"white\",\"linecolor\":\"white\",\"minorgridcolor\":\"white\",\"startlinecolor\":\"#2a3f5f\"},\"baxis\":{\"endlinecolor\":\"#2a3f5f\",\"gridcolor\":\"white\",\"linecolor\":\"white\",\"minorgridcolor\":\"white\",\"startlinecolor\":\"#2a3f5f\"},\"type\":\"carpet\"}],\"table\":[{\"cells\":{\"fill\":{\"color\":\"#EBF0F8\"},\"line\":{\"color\":\"white\"}},\"header\":{\"fill\":{\"color\":\"#C8D4E3\"},\"line\":{\"color\":\"white\"}},\"type\":\"table\"}],\"barpolar\":[{\"marker\":{\"line\":{\"color\":\"#E5ECF6\",\"width\":0.5},\"pattern\":{\"fillmode\":\"overlay\",\"size\":10,\"solidity\":0.2}},\"type\":\"barpolar\"}],\"pie\":[{\"automargin\":true,\"type\":\"pie\"}]},\"layout\":{\"autotypenumbers\":\"strict\",\"colorway\":[\"#636efa\",\"#EF553B\",\"#00cc96\",\"#ab63fa\",\"#FFA15A\",\"#19d3f3\",\"#FF6692\",\"#B6E880\",\"#FF97FF\",\"#FECB52\"],\"font\":{\"color\":\"#2a3f5f\"},\"hovermode\":\"closest\",\"hoverlabel\":{\"align\":\"left\"},\"paper_bgcolor\":\"white\",\"plot_bgcolor\":\"#E5ECF6\",\"polar\":{\"bgcolor\":\"#E5ECF6\",\"angularaxis\":{\"gridcolor\":\"white\",\"linecolor\":\"white\",\"ticks\":\"\"},\"radialaxis\":{\"gridcolor\":\"white\",\"linecolor\":\"white\",\"ticks\":\"\"}},\"ternary\":{\"bgcolor\":\"#E5ECF6\",\"aaxis\":{\"gridcolor\":\"white\",\"linecolor\":\"white\",\"ticks\":\"\"},\"baxis\":{\"gridcolor\":\"white\",\"linecolor\":\"white\",\"ticks\":\"\"},\"caxis\":{\"gridcolor\":\"white\",\"linecolor\":\"white\",\"ticks\":\"\"}},\"coloraxis\":{\"colorbar\":{\"outlinewidth\":0,\"ticks\":\"\"}},\"colorscale\":{\"sequential\":[[0.0,\"#0d0887\"],[0.1111111111111111,\"#46039f\"],[0.2222222222222222,\"#7201a8\"],[0.3333333333333333,\"#9c179e\"],[0.4444444444444444,\"#bd3786\"],[0.5555555555555556,\"#d8576b\"],[0.6666666666666666,\"#ed7953\"],[0.7777777777777778,\"#fb9f3a\"],[0.8888888888888888,\"#fdca26\"],[1.0,\"#f0f921\"]],\"sequentialminus\":[[0.0,\"#0d0887\"],[0.1111111111111111,\"#46039f\"],[0.2222222222222222,\"#7201a8\"],[0.3333333333333333,\"#9c179e\"],[0.4444444444444444,\"#bd3786\"],[0.5555555555555556,\"#d8576b\"],[0.6666666666666666,\"#ed7953\"],[0.7777777777777778,\"#fb9f3a\"],[0.8888888888888888,\"#fdca26\"],[1.0,\"#f0f921\"]],\"diverging\":[[0,\"#8e0152\"],[0.1,\"#c51b7d\"],[0.2,\"#de77ae\"],[0.3,\"#f1b6da\"],[0.4,\"#fde0ef\"],[0.5,\"#f7f7f7\"],[0.6,\"#e6f5d0\"],[0.7,\"#b8e186\"],[0.8,\"#7fbc41\"],[0.9,\"#4d9221\"],[1,\"#276419\"]]},\"xaxis\":{\"gridcolor\":\"white\",\"linecolor\":\"white\",\"ticks\":\"\",\"title\":{\"standoff\":15},\"zerolinecolor\":\"white\",\"automargin\":true,\"zerolinewidth\":2},\"yaxis\":{\"gridcolor\":\"white\",\"linecolor\":\"white\",\"ticks\":\"\",\"title\":{\"standoff\":15},\"zerolinecolor\":\"white\",\"automargin\":true,\"zerolinewidth\":2},\"scene\":{\"xaxis\":{\"backgroundcolor\":\"#E5ECF6\",\"gridcolor\":\"white\",\"linecolor\":\"white\",\"showbackground\":true,\"ticks\":\"\",\"zerolinecolor\":\"white\",\"gridwidth\":2},\"yaxis\":{\"backgroundcolor\":\"#E5ECF6\",\"gridcolor\":\"white\",\"linecolor\":\"white\",\"showbackground\":true,\"ticks\":\"\",\"zerolinecolor\":\"white\",\"gridwidth\":2},\"zaxis\":{\"backgroundcolor\":\"#E5ECF6\",\"gridcolor\":\"white\",\"linecolor\":\"white\",\"showbackground\":true,\"ticks\":\"\",\"zerolinecolor\":\"white\",\"gridwidth\":2}},\"shapedefaults\":{\"line\":{\"color\":\"#2a3f5f\"}},\"annotationdefaults\":{\"arrowcolor\":\"#2a3f5f\",\"arrowhead\":0,\"arrowwidth\":1},\"geo\":{\"bgcolor\":\"white\",\"landcolor\":\"#E5ECF6\",\"subunitcolor\":\"white\",\"showland\":true,\"showlakes\":true,\"lakecolor\":\"white\"},\"title\":{\"x\":0.05},\"mapbox\":{\"style\":\"light\"}}},\"xaxis\":{\"anchor\":\"y\",\"domain\":[0.0,1.0],\"title\":{\"text\":\"graph\"}},\"yaxis\":{\"anchor\":\"x\",\"domain\":[0.0,1.0],\"title\":{\"text\":\"sum of target_size_diff\"}},\"legend\":{\"title\":{\"text\":\"model\"},\"tracegroupgap\":0},\"margin\":{\"t\":60},\"barmode\":\"group\",\"height\":400},                        {\"responsive\": true}                    ).then(function(){\n",
       "                            \n",
       "var gd = document.getElementById('061ceacd-3326-4e16-9e63-6879fd74dc7e');\n",
       "var x = new MutationObserver(function (mutations, observer) {{\n",
       "        var display = window.getComputedStyle(gd).display;\n",
       "        if (!display || display === 'none') {{\n",
       "            console.log([gd, 'removed!']);\n",
       "            Plotly.purge(gd);\n",
       "            observer.disconnect();\n",
       "        }}\n",
       "}});\n",
       "\n",
       "// Listen for the removal of the full notebook cells\n",
       "var notebookContainer = gd.closest('#notebook-container');\n",
       "if (notebookContainer) {{\n",
       "    x.observe(notebookContainer, {childList: true});\n",
       "}}\n",
       "\n",
       "// Listen for the clearing of the current output cell\n",
       "var outputEl = gd.closest('.output');\n",
       "if (outputEl) {{\n",
       "    x.observe(outputEl, {childList: true});\n",
       "}}\n",
       "\n",
       "                        })                };                });            </script>        </div>"
      ]
     },
     "metadata": {},
     "output_type": "display_data"
    }
   ],
   "source": [
    "fig = px.histogram(Full, x=\"graph\", y=\"target_size_diff\",\n",
    "             color='model', barmode='group',\n",
    "             height=400)\n",
    "fig.show()"
   ]
  },
  {
   "cell_type": "code",
   "execution_count": 81,
   "id": "952613d0",
   "metadata": {
    "ExecuteTime": {
     "end_time": "2023-01-12T14:29:37.013732Z",
     "start_time": "2023-01-12T14:29:36.978342Z"
    }
   },
   "outputs": [
    {
     "data": {
      "text/html": [
       "<div>\n",
       "<style scoped>\n",
       "    .dataframe tbody tr th:only-of-type {\n",
       "        vertical-align: middle;\n",
       "    }\n",
       "\n",
       "    .dataframe tbody tr th {\n",
       "        vertical-align: top;\n",
       "    }\n",
       "\n",
       "    .dataframe thead th {\n",
       "        text-align: right;\n",
       "    }\n",
       "</style>\n",
       "<table border=\"1\" class=\"dataframe\">\n",
       "  <thead>\n",
       "    <tr style=\"text-align: right;\">\n",
       "      <th></th>\n",
       "      <th>index</th>\n",
       "      <th>target_size</th>\n",
       "      <th>n</th>\n",
       "      <th>t_mean</th>\n",
       "      <th>ratio</th>\n",
       "      <th>target_size_diff</th>\n",
       "    </tr>\n",
       "    <tr>\n",
       "      <th>model</th>\n",
       "      <th></th>\n",
       "      <th></th>\n",
       "      <th></th>\n",
       "      <th></th>\n",
       "      <th></th>\n",
       "      <th></th>\n",
       "    </tr>\n",
       "  </thead>\n",
       "  <tbody>\n",
       "    <tr>\n",
       "      <th>MDH</th>\n",
       "      <td>12.653846</td>\n",
       "      <td>7360.346154</td>\n",
       "      <td>88219.192308</td>\n",
       "      <td>14.723231</td>\n",
       "      <td>0.097992</td>\n",
       "      <td>0.000000</td>\n",
       "    </tr>\n",
       "    <tr>\n",
       "      <th>SAGE</th>\n",
       "      <td>12.500000</td>\n",
       "      <td>7324.000000</td>\n",
       "      <td>88219.192308</td>\n",
       "      <td>6.836615</td>\n",
       "      <td>0.098470</td>\n",
       "      <td>-36.346154</td>\n",
       "    </tr>\n",
       "    <tr>\n",
       "      <th>SGConv</th>\n",
       "      <td>12.500000</td>\n",
       "      <td>8162.115385</td>\n",
       "      <td>88219.192308</td>\n",
       "      <td>11.539462</td>\n",
       "      <td>0.101715</td>\n",
       "      <td>801.769231</td>\n",
       "    </tr>\n",
       "    <tr>\n",
       "      <th>GCN</th>\n",
       "      <td>12.500000</td>\n",
       "      <td>8017.230769</td>\n",
       "      <td>88219.192308</td>\n",
       "      <td>9.935731</td>\n",
       "      <td>0.102030</td>\n",
       "      <td>656.884615</td>\n",
       "    </tr>\n",
       "    <tr>\n",
       "      <th>GraphConv</th>\n",
       "      <td>12.500000</td>\n",
       "      <td>7628.076923</td>\n",
       "      <td>88219.192308</td>\n",
       "      <td>7.572808</td>\n",
       "      <td>0.102732</td>\n",
       "      <td>267.730769</td>\n",
       "    </tr>\n",
       "    <tr>\n",
       "      <th>GRAT</th>\n",
       "      <td>12.653846</td>\n",
       "      <td>7530.615385</td>\n",
       "      <td>88219.192308</td>\n",
       "      <td>7.849385</td>\n",
       "      <td>0.105483</td>\n",
       "      <td>170.269231</td>\n",
       "    </tr>\n",
       "    <tr>\n",
       "      <th>GAT</th>\n",
       "      <td>12.500000</td>\n",
       "      <td>7360.192308</td>\n",
       "      <td>88219.192308</td>\n",
       "      <td>7.411385</td>\n",
       "      <td>0.105513</td>\n",
       "      <td>-0.153846</td>\n",
       "    </tr>\n",
       "  </tbody>\n",
       "</table>\n",
       "</div>"
      ],
      "text/plain": [
       "               index  target_size             n     t_mean     ratio  \\\n",
       "model                                                                  \n",
       "MDH        12.653846  7360.346154  88219.192308  14.723231  0.097992   \n",
       "SAGE       12.500000  7324.000000  88219.192308   6.836615  0.098470   \n",
       "SGConv     12.500000  8162.115385  88219.192308  11.539462  0.101715   \n",
       "GCN        12.500000  8017.230769  88219.192308   9.935731  0.102030   \n",
       "GraphConv  12.500000  7628.076923  88219.192308   7.572808  0.102732   \n",
       "GRAT       12.653846  7530.615385  88219.192308   7.849385  0.105483   \n",
       "GAT        12.500000  7360.192308  88219.192308   7.411385  0.105513   \n",
       "\n",
       "           target_size_diff  \n",
       "model                        \n",
       "MDH                0.000000  \n",
       "SAGE             -36.346154  \n",
       "SGConv           801.769231  \n",
       "GCN              656.884615  \n",
       "GraphConv        267.730769  \n",
       "GRAT             170.269231  \n",
       "GAT               -0.153846  "
      ]
     },
     "execution_count": 81,
     "metadata": {},
     "output_type": "execute_result"
    }
   ],
   "source": [
    "Full.groupby(by = \"model\").mean().sort_values(by=['ratio'])"
   ]
  },
  {
   "cell_type": "code",
   "execution_count": 82,
   "id": "d9491bdb",
   "metadata": {
    "ExecuteTime": {
     "end_time": "2023-01-12T14:29:40.434308Z",
     "start_time": "2023-01-12T14:29:40.418742Z"
    }
   },
   "outputs": [
    {
     "name": "stdout",
     "output_type": "stream",
     "text": [
      "(182, 8)\n"
     ]
    },
    {
     "data": {
      "text/plain": [
       "(132, 8)"
      ]
     },
     "execution_count": 82,
     "metadata": {},
     "output_type": "execute_result"
    }
   ],
   "source": [
    "print(Full.shape)\n",
    "Full_ = Full.drop_duplicates(subset=['target_size'], keep = False)\n",
    "Full_.shape"
   ]
  },
  {
   "cell_type": "code",
   "execution_count": 83,
   "id": "425ac3dd",
   "metadata": {
    "ExecuteTime": {
     "end_time": "2023-01-12T14:29:40.951232Z",
     "start_time": "2023-01-12T14:29:40.920753Z"
    }
   },
   "outputs": [
    {
     "data": {
      "text/html": [
       "<div>\n",
       "<style scoped>\n",
       "    .dataframe tbody tr th:only-of-type {\n",
       "        vertical-align: middle;\n",
       "    }\n",
       "\n",
       "    .dataframe tbody tr th {\n",
       "        vertical-align: top;\n",
       "    }\n",
       "\n",
       "    .dataframe thead th {\n",
       "        text-align: right;\n",
       "    }\n",
       "</style>\n",
       "<table border=\"1\" class=\"dataframe\">\n",
       "  <thead>\n",
       "    <tr style=\"text-align: right;\">\n",
       "      <th></th>\n",
       "      <th>index</th>\n",
       "      <th>graph</th>\n",
       "      <th>model</th>\n",
       "      <th>target_size</th>\n",
       "      <th>n</th>\n",
       "      <th>t_mean</th>\n",
       "      <th>ratio</th>\n",
       "      <th>target_size_diff</th>\n",
       "    </tr>\n",
       "  </thead>\n",
       "  <tbody>\n",
       "    <tr>\n",
       "      <th>79</th>\n",
       "      <td>1</td>\n",
       "      <td>graph_jazz</td>\n",
       "      <td>SAGE</td>\n",
       "      <td>30</td>\n",
       "      <td>198</td>\n",
       "      <td>0.001</td>\n",
       "      <td>0.151515</td>\n",
       "      <td>-1</td>\n",
       "    </tr>\n",
       "  </tbody>\n",
       "</table>\n",
       "</div>"
      ],
      "text/plain": [
       "    index       graph model  target_size    n  t_mean     ratio  \\\n",
       "79      1  graph_jazz  SAGE           30  198   0.001  0.151515   \n",
       "\n",
       "    target_size_diff  \n",
       "79                -1  "
      ]
     },
     "execution_count": 83,
     "metadata": {},
     "output_type": "execute_result"
    }
   ],
   "source": [
    "Full_.query(f\"graph == '{Full_.graph.unique()[-1]}'\").sort_values(by = ['target_size'])"
   ]
  },
  {
   "cell_type": "markdown",
   "id": "d2b7e78b",
   "metadata": {},
   "source": [
    "## Por mejor solución"
   ]
  },
  {
   "cell_type": "code",
   "execution_count": 84,
   "id": "0bac5d8c",
   "metadata": {
    "ExecuteTime": {
     "end_time": "2023-01-12T14:29:41.915295Z",
     "start_time": "2023-01-12T14:29:41.839809Z"
    }
   },
   "outputs": [
    {
     "data": {
      "text/plain": [
       "array([1., 1., 1., 1., 1., 1., 1.])"
      ]
     },
     "execution_count": 84,
     "metadata": {},
     "output_type": "execute_result"
    }
   ],
   "source": [
    "models_name = Full_.model.unique()\n",
    "Dict = {m: i for m, i in zip(models_name, np.arange(models_name.shape[0]))}\n",
    "\n",
    "MT = np.zeros((models_name.shape[0], models_name.shape[0]))\n",
    "for graph in Full_.graph.unique():\n",
    "    \n",
    "    Temp = np.array(Full_.query(f\"graph == '{graph}'\").sort_values(by = \"ratio\", ascending = False).model)\n",
    "    \n",
    "    for m in range(Temp.shape[0]):\n",
    "\n",
    "        if (m + 1) == Temp.shape[0]:\n",
    "            MT[ Dict[ Temp[m] ] ][ Dict[ Temp[m] ] ] += 1\n",
    "            continue\n",
    "        \n",
    "        for j in range(m + 1, Temp.shape[0]):\n",
    "            MT[ Dict[ Temp[m] ] ][ Dict[ Temp[j] ] ] += 1\n",
    "        \n",
    "\n",
    "MT_ = MT / np.expand_dims(np.sum(MT, axis = 1), 1)\n",
    "# La por filas siempre debe de dar 1 y para la probabilidad de estado estacionario, \n",
    "# se hace la transpuesta, es decir, las columnas son las deben sumar 1\n",
    "MT_.sum(1)"
   ]
  },
  {
   "cell_type": "code",
   "execution_count": 85,
   "id": "051dc7e2",
   "metadata": {
    "ExecuteTime": {
     "end_time": "2023-01-12T14:29:42.471212Z",
     "start_time": "2023-01-12T14:29:42.451097Z"
    }
   },
   "outputs": [
    {
     "name": "stdout",
     "output_type": "stream",
     "text": [
      "[0.18066 0.10725 0.1025  0.23482 0.1216  0.17387 0.07931] \n",
      " ['GAT' 'GCN' 'GraphConv' 'SAGE' 'SGConv' 'MDH' 'GRAT']\n"
     ]
    }
   ],
   "source": [
    "SPD_best = np.ones(MT_.shape[0])/MT_.shape[0] # initial distirbution\n",
    "for _ in range(200):\n",
    "    SPD_best = np.dot(MT_.T, SPD_best)\n",
    "print(np.round(SPD_best,5), '\\n',models_name)"
   ]
  },
  {
   "cell_type": "code",
   "execution_count": 86,
   "id": "af86ad0f",
   "metadata": {
    "ExecuteTime": {
     "end_time": "2023-01-12T14:19:18.250632Z",
     "start_time": "2023-01-12T14:19:18.235842Z"
    }
   },
   "outputs": [
    {
     "data": {
      "text/plain": [
       "array(['SAGE', 'GAT', 'MDH', 'SGConv', 'GCN', 'GraphConv', 'GRAT'],\n",
       "      dtype=object)"
      ]
     },
     "execution_count": 86,
     "metadata": {},
     "output_type": "execute_result"
    }
   ],
   "source": [
    "# Obtenemos el mínimo porque \n",
    "models_name[np.argsort(-SPD_best)]"
   ]
  },
  {
   "cell_type": "code",
   "execution_count": 87,
   "id": "1bbed3e8",
   "metadata": {
    "ExecuteTime": {
     "end_time": "2023-01-12T14:19:20.312028Z",
     "start_time": "2023-01-12T14:19:19.684319Z"
    }
   },
   "outputs": [
    {
     "data": {
      "image/png": "[encoded data removed]",
      "text/plain": [
       "<Figure size 640x480 with 2 Axes>"
      ]
     },
     "metadata": {},
     "output_type": "display_data"
    }
   ],
   "source": [
    "sns.heatmap(MT_, annot = True, xticklabels = models_name, yticklabels = models_name)\n",
    "plt.title(\"Heatmap for best solution\")\n",
    "plt.xlabel(\"Mejor que\");"
   ]
  },
  {
   "cell_type": "markdown",
   "id": "f5715266",
   "metadata": {},
   "source": [
    "## Por tiempo"
   ]
  },
  {
   "cell_type": "code",
   "execution_count": 88,
   "id": "f94933df",
   "metadata": {
    "ExecuteTime": {
     "end_time": "2022-12-12T19:10:26.509301Z",
     "start_time": "2022-12-12T19:10:26.463304Z"
    }
   },
   "outputs": [
    {
     "data": {
      "text/plain": [
       "array([1., 1., 1., 1., 1., 1., 1.])"
      ]
     },
     "execution_count": 88,
     "metadata": {},
     "output_type": "execute_result"
    }
   ],
   "source": [
    "MT = np.zeros((models_name.shape[0], models_name.shape[0]))\n",
    "for graph in Full_.graph.unique():\n",
    "    Temp = np.array(Full_.query(f\"graph == '{graph}'\").sort_values(by = \"t_mean\", ascending=False).model)\n",
    "    for m in range(Temp.shape[0]):\n",
    "\n",
    "        if (m + 1) == Temp.shape[0]:\n",
    "            MT[ Dict[ Temp[m] ] ][ Dict[ Temp[m] ] ] += 1\n",
    "            continue\n",
    "        MT[ Dict[ Temp[m] ] ][ Dict[ Temp[m + 1] ] ] += 1\n",
    "\n",
    "MT_ = MT / np.expand_dims(np.sum(MT, axis = 1), 1)\n",
    "# La por filas siempre debe de dar 1 y para la probabilidad de estado estacionario, \n",
    "# se hace la transpuesta, es decir, las columnas son las deben sumar 1\n",
    "MT_.sum(1)"
   ]
  },
  {
   "cell_type": "code",
   "execution_count": 89,
   "id": "94d81e18",
   "metadata": {
    "ExecuteTime": {
     "end_time": "2022-12-12T19:10:26.525312Z",
     "start_time": "2022-12-12T19:10:26.511298Z"
    }
   },
   "outputs": [
    {
     "name": "stdout",
     "output_type": "stream",
     "text": [
      "[0.18526 0.11867 0.19549 0.23381 0.08843 0.02792 0.15041] \n",
      " ['GAT' 'GCN' 'GraphConv' 'SAGE' 'SGConv' 'MDH' 'GRAT']\n"
     ]
    }
   ],
   "source": [
    "SPD_time = np.ones(MT_.shape[0])/MT_.shape[0] # initial distirbution\n",
    "for _ in range(100):\n",
    "    SPD_time = np.dot(MT_.T, SPD_time)\n",
    "print(np.round(SPD_time,5), '\\n',models_name)"
   ]
  },
  {
   "cell_type": "code",
   "execution_count": 90,
   "id": "46ab724c",
   "metadata": {
    "ExecuteTime": {
     "end_time": "2022-12-12T19:10:26.541314Z",
     "start_time": "2022-12-12T19:10:26.529304Z"
    }
   },
   "outputs": [
    {
     "data": {
      "text/plain": [
       "array(['SAGE', 'GraphConv', 'GAT', 'GRAT', 'GCN', 'SGConv', 'MDH'],\n",
       "      dtype=object)"
      ]
     },
     "execution_count": 90,
     "metadata": {},
     "output_type": "execute_result"
    }
   ],
   "source": [
    "models_name[np.argsort(-SPD_time)]"
   ]
  },
  {
   "cell_type": "code",
   "execution_count": 91,
   "id": "5d163a20",
   "metadata": {
    "ExecuteTime": {
     "end_time": "2022-12-12T19:10:26.937647Z",
     "start_time": "2022-12-12T19:10:26.545502Z"
    }
   },
   "outputs": [
    {
     "data": {
      "text/plain": [
       "Text(0.5, 1.0, 'Heatmap for fastest solution')"
      ]
     },
     "execution_count": 91,
     "metadata": {},
     "output_type": "execute_result"
    },
    {
     "data": {
      "image/png": "[encoded data removed]",
      "text/plain": [
       "<Figure size 640x480 with 2 Axes>"
      ]
     },
     "metadata": {},
     "output_type": "display_data"
    }
   ],
   "source": [
    "sns.heatmap(MT_, annot = True, xticklabels = models_name, yticklabels = models_name)\n",
    "plt.title(\"Heatmap for fastest solution\")"
   ]
  },
  {
   "cell_type": "markdown",
   "id": "44bdda17",
   "metadata": {},
   "source": [
    "## All together"
   ]
  },
  {
   "cell_type": "code",
   "execution_count": 92,
   "id": "8d920673",
   "metadata": {
    "ExecuteTime": {
     "end_time": "2023-01-12T14:19:26.301485Z",
     "start_time": "2023-01-12T14:19:26.286305Z"
    }
   },
   "outputs": [
    {
     "name": "stdout",
     "output_type": "stream",
     "text": [
      "---- Best solution ----\n",
      "\n",
      "1  -  SAGE  \t 0.235\n",
      "2  -  GAT  \t 0.181\n",
      "3  -  MDH  \t 0.174\n",
      "4  -  SGConv  \t 0.122\n",
      "5  -  GCN  \t 0.107\n",
      "6  -  GraphC  \t 0.102\n",
      "7  -  GRAT  \t 0.079\n"
     ]
    }
   ],
   "source": [
    "print(\"---- Best solution ----\\n\")\n",
    "c = 1\n",
    "for g in np.argsort(-SPD_best):\n",
    "    print(c,\" - \", models_name[g][:6], f\" \\t {SPD_best[g]:.3f}\")\n",
    "    c += 1"
   ]
  },
  {
   "cell_type": "code",
   "execution_count": 25,
   "id": "c9ad5e0d",
   "metadata": {
    "ExecuteTime": {
     "end_time": "2022-12-12T19:10:27.362580Z",
     "start_time": "2022-12-12T19:10:27.348582Z"
    }
   },
   "outputs": [
    {
     "name": "stdout",
     "output_type": "stream",
     "text": [
      "------ Best time ------\n",
      "\n",
      "1  -  SAGE  \t 0.234\n",
      "2  -  GraphC  \t 0.195\n",
      "3  -  GAT  \t 0.185\n",
      "4  -  GRAT  \t 0.150\n",
      "5  -  GCN  \t 0.119\n",
      "6  -  SGConv  \t 0.088\n",
      "7  -  MDH  \t 0.028\n"
     ]
    }
   ],
   "source": [
    "print(\"------ Best time ------\\n\")\n",
    "c = 1\n",
    "for g in np.argsort(-SPD_time):\n",
    "    print(c,\" - \", models_name[g][:6], f\" \\t {SPD_time[g]:.3f}\")\n",
    "    c+=1"
   ]
  },
  {
   "cell_type": "code",
   "execution_count": null,
   "id": "b7adceff",
   "metadata": {},
   "outputs": [],
   "source": []
  }
 ],
 "metadata": {
  "hide_input": false,
  "kernelspec": {
   "display_name": "Python 3 (ipykernel)",
   "language": "python",
   "name": "python3"
  },
  "language_info": {
   "codemirror_mode": {
    "name": "ipython",
    "version": 3
   },
   "file_extension": ".py",
   "mimetype": "text/x-python",
   "name": "python",
   "nbconvert_exporter": "python",
   "pygments_lexer": "ipython3",
   "version": "3.9.7"
  },
  "varInspector": {
   "cols": {
    "lenName": 16,
    "lenType": 16,
    "lenVar": 40
   },
   "kernels_config": {
    "python": {
     "delete_cmd_postfix": "",
     "delete_cmd_prefix": "del ",
     "library": "var_list.py",
     "varRefreshCmd": "print(var_dic_list())"
    },
    "r": {
     "delete_cmd_postfix": ") ",
     "delete_cmd_prefix": "rm(",
     "library": "var_list.r",
     "varRefreshCmd": "cat(var_dic_list()) "
    }
   },
   "types_to_exclude": [
    "module",
    "function",
    "builtin_function_or_method",
    "instance",
    "_Feature"
   ],
   "window_display": false
  }
 },
 "nbformat": 4,
 "nbformat_minor": 5
}
