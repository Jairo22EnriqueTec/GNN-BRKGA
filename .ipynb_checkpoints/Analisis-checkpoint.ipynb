{
 "cells": [
  {
   "cell_type": "code",
   "execution_count": 139,
   "id": "4cc4207e",
   "metadata": {
    "ExecuteTime": {
     "end_time": "2022-11-01T19:34:27.894882Z",
     "start_time": "2022-11-01T19:34:27.879900Z"
    }
   },
   "outputs": [],
   "source": [
    "import numpy as np\n",
    "import pandas as pd\n",
    "import plotly.express as px\n",
    "import seaborn as sns\n",
    "import matplotlib.pyplot as plt"
   ]
  },
  {
   "cell_type": "code",
   "execution_count": 48,
   "id": "90ee181f",
   "metadata": {
    "ExecuteTime": {
     "end_time": "2022-11-01T19:05:00.728046Z",
     "start_time": "2022-11-01T19:05:00.698068Z"
    }
   },
   "outputs": [
    {
     "data": {
      "text/html": [
       "<div>\n",
       "<style scoped>\n",
       "    .dataframe tbody tr th:only-of-type {\n",
       "        vertical-align: middle;\n",
       "    }\n",
       "\n",
       "    .dataframe tbody tr th {\n",
       "        vertical-align: top;\n",
       "    }\n",
       "\n",
       "    .dataframe thead th {\n",
       "        text-align: right;\n",
       "    }\n",
       "</style>\n",
       "<table border=\"1\" class=\"dataframe\">\n",
       "  <thead>\n",
       "    <tr style=\"text-align: right;\">\n",
       "      <th></th>\n",
       "      <th>Unnamed: 0</th>\n",
       "      <th>graph</th>\n",
       "      <th>model</th>\n",
       "      <th>seed</th>\n",
       "      <th>threshold</th>\n",
       "      <th>n_covered</th>\n",
       "      <th>n</th>\n",
       "      <th>coverage</th>\n",
       "      <th>t_mean</th>\n",
       "    </tr>\n",
       "  </thead>\n",
       "  <tbody>\n",
       "    <tr>\n",
       "      <th>0</th>\n",
       "      <td>0</td>\n",
       "      <td>Amazon0302</td>\n",
       "      <td>GRAT</td>\n",
       "      <td>13</td>\n",
       "      <td>0.5</td>\n",
       "      <td>52859</td>\n",
       "      <td>262111</td>\n",
       "      <td>0.201666</td>\n",
       "      <td>999.743185</td>\n",
       "    </tr>\n",
       "    <tr>\n",
       "      <th>1</th>\n",
       "      <td>1</td>\n",
       "      <td>Amazon0312</td>\n",
       "      <td>GRAT</td>\n",
       "      <td>13</td>\n",
       "      <td>0.5</td>\n",
       "      <td>78118</td>\n",
       "      <td>400727</td>\n",
       "      <td>0.194941</td>\n",
       "      <td>2372.091988</td>\n",
       "    </tr>\n",
       "    <tr>\n",
       "      <th>2</th>\n",
       "      <td>2</td>\n",
       "      <td>Amazon0505</td>\n",
       "      <td>GRAT</td>\n",
       "      <td>13</td>\n",
       "      <td>0.5</td>\n",
       "      <td>75931</td>\n",
       "      <td>410236</td>\n",
       "      <td>0.185091</td>\n",
       "      <td>3125.944629</td>\n",
       "    </tr>\n",
       "    <tr>\n",
       "      <th>3</th>\n",
       "      <td>3</td>\n",
       "      <td>Amazon0601</td>\n",
       "      <td>GRAT</td>\n",
       "      <td>13</td>\n",
       "      <td>0.5</td>\n",
       "      <td>1668</td>\n",
       "      <td>403393</td>\n",
       "      <td>0.004135</td>\n",
       "      <td>395.010195</td>\n",
       "    </tr>\n",
       "    <tr>\n",
       "      <th>4</th>\n",
       "      <td>4</td>\n",
       "      <td>com-dblp</td>\n",
       "      <td>GRAT</td>\n",
       "      <td>13</td>\n",
       "      <td>0.5</td>\n",
       "      <td>58628</td>\n",
       "      <td>317080</td>\n",
       "      <td>0.184900</td>\n",
       "      <td>2012.461888</td>\n",
       "    </tr>\n",
       "  </tbody>\n",
       "</table>\n",
       "</div>"
      ],
      "text/plain": [
       "   Unnamed: 0       graph model  seed  threshold  n_covered       n  coverage  \\\n",
       "0           0  Amazon0302  GRAT    13        0.5      52859  262111  0.201666   \n",
       "1           1  Amazon0312  GRAT    13        0.5      78118  400727  0.194941   \n",
       "2           2  Amazon0505  GRAT    13        0.5      75931  410236  0.185091   \n",
       "3           3  Amazon0601  GRAT    13        0.5       1668  403393  0.004135   \n",
       "4           4    com-dblp  GRAT    13        0.5      58628  317080  0.184900   \n",
       "\n",
       "        t_mean  \n",
       "0   999.743185  \n",
       "1  2372.091988  \n",
       "2  3125.944629  \n",
       "3   395.010195  \n",
       "4  2012.461888  "
      ]
     },
     "execution_count": 48,
     "metadata": {},
     "output_type": "execute_result"
    }
   ],
   "source": [
    "FastCover = pd.read_csv(\"FastCover/results/FastCover_11-01_12-43.csv\")\n",
    "FastCover.head()"
   ]
  },
  {
   "cell_type": "code",
   "execution_count": 47,
   "id": "e5f0b8eb",
   "metadata": {
    "ExecuteTime": {
     "end_time": "2022-11-01T19:04:44.295809Z",
     "start_time": "2022-11-01T19:04:44.246694Z"
    }
   },
   "outputs": [
    {
     "data": {
      "text/html": [
       "<div>\n",
       "<style scoped>\n",
       "    .dataframe tbody tr th:only-of-type {\n",
       "        vertical-align: middle;\n",
       "    }\n",
       "\n",
       "    .dataframe tbody tr th {\n",
       "        vertical-align: top;\n",
       "    }\n",
       "\n",
       "    .dataframe thead th {\n",
       "        text-align: right;\n",
       "    }\n",
       "</style>\n",
       "<table border=\"1\" class=\"dataframe\">\n",
       "  <thead>\n",
       "    <tr style=\"text-align: right;\">\n",
       "      <th></th>\n",
       "      <th>Unnamed: 0</th>\n",
       "      <th>graph</th>\n",
       "      <th>model</th>\n",
       "      <th>seed</th>\n",
       "      <th>threshold</th>\n",
       "      <th>n_covered</th>\n",
       "      <th>n</th>\n",
       "      <th>coverage</th>\n",
       "      <th>t_mean</th>\n",
       "    </tr>\n",
       "  </thead>\n",
       "  <tbody>\n",
       "    <tr>\n",
       "      <th>0</th>\n",
       "      <td>0</td>\n",
       "      <td>Amazon0302</td>\n",
       "      <td>GRAT</td>\n",
       "      <td>13</td>\n",
       "      <td>0.5</td>\n",
       "      <td>52859</td>\n",
       "      <td>262111</td>\n",
       "      <td>0.201666</td>\n",
       "      <td>999.743185</td>\n",
       "    </tr>\n",
       "    <tr>\n",
       "      <th>1</th>\n",
       "      <td>1</td>\n",
       "      <td>Amazon0312</td>\n",
       "      <td>GRAT</td>\n",
       "      <td>13</td>\n",
       "      <td>0.5</td>\n",
       "      <td>78118</td>\n",
       "      <td>400727</td>\n",
       "      <td>0.194941</td>\n",
       "      <td>2372.091988</td>\n",
       "    </tr>\n",
       "    <tr>\n",
       "      <th>2</th>\n",
       "      <td>2</td>\n",
       "      <td>Amazon0505</td>\n",
       "      <td>GRAT</td>\n",
       "      <td>13</td>\n",
       "      <td>0.5</td>\n",
       "      <td>75931</td>\n",
       "      <td>410236</td>\n",
       "      <td>0.185091</td>\n",
       "      <td>3125.944629</td>\n",
       "    </tr>\n",
       "    <tr>\n",
       "      <th>3</th>\n",
       "      <td>3</td>\n",
       "      <td>Amazon0601</td>\n",
       "      <td>GRAT</td>\n",
       "      <td>13</td>\n",
       "      <td>0.5</td>\n",
       "      <td>1668</td>\n",
       "      <td>403393</td>\n",
       "      <td>0.004135</td>\n",
       "      <td>395.010195</td>\n",
       "    </tr>\n",
       "    <tr>\n",
       "      <th>4</th>\n",
       "      <td>4</td>\n",
       "      <td>com-dblp</td>\n",
       "      <td>GRAT</td>\n",
       "      <td>13</td>\n",
       "      <td>0.5</td>\n",
       "      <td>58628</td>\n",
       "      <td>317080</td>\n",
       "      <td>0.184900</td>\n",
       "      <td>2012.461888</td>\n",
       "    </tr>\n",
       "    <tr>\n",
       "      <th>5</th>\n",
       "      <td>5</td>\n",
       "      <td>com-youtube</td>\n",
       "      <td>GRAT</td>\n",
       "      <td>13</td>\n",
       "      <td>0.5</td>\n",
       "      <td>16988</td>\n",
       "      <td>1134796</td>\n",
       "      <td>0.014970</td>\n",
       "      <td>6217.375283</td>\n",
       "    </tr>\n",
       "    <tr>\n",
       "      <th>6</th>\n",
       "      <td>6</td>\n",
       "      <td>deezer_HR</td>\n",
       "      <td>GRAT</td>\n",
       "      <td>13</td>\n",
       "      <td>0.5</td>\n",
       "      <td>13911</td>\n",
       "      <td>54573</td>\n",
       "      <td>0.254906</td>\n",
       "      <td>57.812031</td>\n",
       "    </tr>\n",
       "    <tr>\n",
       "      <th>8</th>\n",
       "      <td>8</td>\n",
       "      <td>gemsec_facebook_artist</td>\n",
       "      <td>GRAT</td>\n",
       "      <td>13</td>\n",
       "      <td>0.5</td>\n",
       "      <td>804</td>\n",
       "      <td>50514</td>\n",
       "      <td>0.015916</td>\n",
       "      <td>13.280995</td>\n",
       "    </tr>\n",
       "    <tr>\n",
       "      <th>21</th>\n",
       "      <td>21</td>\n",
       "      <td>loc-gowalla_edges</td>\n",
       "      <td>GRAT</td>\n",
       "      <td>13</td>\n",
       "      <td>0.5</td>\n",
       "      <td>29615</td>\n",
       "      <td>196591</td>\n",
       "      <td>0.150643</td>\n",
       "      <td>474.341996</td>\n",
       "    </tr>\n",
       "  </tbody>\n",
       "</table>\n",
       "</div>"
      ],
      "text/plain": [
       "    Unnamed: 0                   graph model  seed  threshold  n_covered  \\\n",
       "0            0              Amazon0302  GRAT    13        0.5      52859   \n",
       "1            1              Amazon0312  GRAT    13        0.5      78118   \n",
       "2            2              Amazon0505  GRAT    13        0.5      75931   \n",
       "3            3              Amazon0601  GRAT    13        0.5       1668   \n",
       "4            4                com-dblp  GRAT    13        0.5      58628   \n",
       "5            5             com-youtube  GRAT    13        0.5      16988   \n",
       "6            6               deezer_HR  GRAT    13        0.5      13911   \n",
       "8            8  gemsec_facebook_artist  GRAT    13        0.5        804   \n",
       "21          21       loc-gowalla_edges  GRAT    13        0.5      29615   \n",
       "\n",
       "          n  coverage       t_mean  \n",
       "0    262111  0.201666   999.743185  \n",
       "1    400727  0.194941  2372.091988  \n",
       "2    410236  0.185091  3125.944629  \n",
       "3    403393  0.004135   395.010195  \n",
       "4    317080  0.184900  2012.461888  \n",
       "5   1134796  0.014970  6217.375283  \n",
       "6     54573  0.254906    57.812031  \n",
       "8     50514  0.015916    13.280995  \n",
       "21   196591  0.150643   474.341996  "
      ]
     },
     "execution_count": 47,
     "metadata": {},
     "output_type": "execute_result"
    }
   ],
   "source": [
    "FastCover.loc[FastCover.n > 50_015 ,:]"
   ]
  },
  {
   "cell_type": "code",
   "execution_count": 49,
   "id": "e516e144",
   "metadata": {
    "ExecuteTime": {
     "end_time": "2022-11-01T19:05:03.156858Z",
     "start_time": "2022-11-01T19:05:03.120380Z"
    }
   },
   "outputs": [
    {
     "data": {
      "text/html": [
       "<div>\n",
       "<style scoped>\n",
       "    .dataframe tbody tr th:only-of-type {\n",
       "        vertical-align: middle;\n",
       "    }\n",
       "\n",
       "    .dataframe tbody tr th {\n",
       "        vertical-align: top;\n",
       "    }\n",
       "\n",
       "    .dataframe thead th {\n",
       "        text-align: right;\n",
       "    }\n",
       "</style>\n",
       "<table border=\"1\" class=\"dataframe\">\n",
       "  <thead>\n",
       "    <tr style=\"text-align: right;\">\n",
       "      <th></th>\n",
       "      <th>Unnamed: 0</th>\n",
       "      <th>graph</th>\n",
       "      <th>model</th>\n",
       "      <th>seed</th>\n",
       "      <th>threshold</th>\n",
       "      <th>n_covered</th>\n",
       "      <th>n</th>\n",
       "      <th>coverage</th>\n",
       "      <th>t_mean</th>\n",
       "    </tr>\n",
       "  </thead>\n",
       "  <tbody>\n",
       "    <tr>\n",
       "      <th>0</th>\n",
       "      <td>0</td>\n",
       "      <td>ego-facebook</td>\n",
       "      <td>GAT</td>\n",
       "      <td>13</td>\n",
       "      <td>0.5</td>\n",
       "      <td>723</td>\n",
       "      <td>4039</td>\n",
       "      <td>0.179005</td>\n",
       "      <td>0.766428</td>\n",
       "    </tr>\n",
       "    <tr>\n",
       "      <th>1</th>\n",
       "      <td>1</td>\n",
       "      <td>gemsec_facebook_artist</td>\n",
       "      <td>GAT</td>\n",
       "      <td>13</td>\n",
       "      <td>0.5</td>\n",
       "      <td>3497</td>\n",
       "      <td>50514</td>\n",
       "      <td>0.069228</td>\n",
       "      <td>11.916866</td>\n",
       "    </tr>\n",
       "    <tr>\n",
       "      <th>2</th>\n",
       "      <td>2</td>\n",
       "      <td>actors_dat</td>\n",
       "      <td>GAT</td>\n",
       "      <td>13</td>\n",
       "      <td>0.5</td>\n",
       "      <td>2032</td>\n",
       "      <td>10042</td>\n",
       "      <td>0.202350</td>\n",
       "      <td>2.147332</td>\n",
       "    </tr>\n",
       "    <tr>\n",
       "      <th>3</th>\n",
       "      <td>3</td>\n",
       "      <td>CA-AstroPh</td>\n",
       "      <td>GAT</td>\n",
       "      <td>13</td>\n",
       "      <td>0.5</td>\n",
       "      <td>3365</td>\n",
       "      <td>18772</td>\n",
       "      <td>0.179256</td>\n",
       "      <td>4.425135</td>\n",
       "    </tr>\n",
       "    <tr>\n",
       "      <th>4</th>\n",
       "      <td>4</td>\n",
       "      <td>CA-CondMat</td>\n",
       "      <td>GAT</td>\n",
       "      <td>13</td>\n",
       "      <td>0.5</td>\n",
       "      <td>3539</td>\n",
       "      <td>23133</td>\n",
       "      <td>0.152985</td>\n",
       "      <td>5.141691</td>\n",
       "    </tr>\n",
       "  </tbody>\n",
       "</table>\n",
       "</div>"
      ],
      "text/plain": [
       "   Unnamed: 0                   graph model  seed  threshold  n_covered  \\\n",
       "0           0            ego-facebook   GAT    13        0.5        723   \n",
       "1           1  gemsec_facebook_artist   GAT    13        0.5       3497   \n",
       "2           2              actors_dat   GAT    13        0.5       2032   \n",
       "3           3              CA-AstroPh   GAT    13        0.5       3365   \n",
       "4           4              CA-CondMat   GAT    13        0.5       3539   \n",
       "\n",
       "       n  coverage     t_mean  \n",
       "0   4039  0.179005   0.766428  \n",
       "1  50514  0.069228  11.916866  \n",
       "2  10042  0.202350   2.147332  \n",
       "3  18772  0.179256   4.425135  \n",
       "4  23133  0.152985   5.141691  "
      ]
     },
     "execution_count": 49,
     "metadata": {},
     "output_type": "execute_result"
    }
   ],
   "source": [
    "Models = pd.read_csv(\"Models/results/Models_11-01_17-34.csv\")\n",
    "Models.head()"
   ]
  },
  {
   "cell_type": "code",
   "execution_count": 58,
   "id": "dbe2ac6c",
   "metadata": {
    "ExecuteTime": {
     "end_time": "2022-11-01T19:06:40.082099Z",
     "start_time": "2022-11-01T19:06:40.069272Z"
    }
   },
   "outputs": [],
   "source": [
    "Full = pd.concat([Models, FastCover])\n",
    "Full = Full.sort_values(by=['n'])\n",
    "Full = Full.loc[Full.n < 30_000 ,:]"
   ]
  },
  {
   "cell_type": "code",
   "execution_count": 59,
   "id": "27ecbfa5",
   "metadata": {
    "ExecuteTime": {
     "end_time": "2022-11-01T19:06:40.631267Z",
     "start_time": "2022-11-01T19:06:40.471705Z"
    }
   },
   "outputs": [
    {
     "data": {
      "application/vnd.plotly.v1+json": {
       "config": {
        "plotlyServerURL": "https://plot.ly"
       },
       "data": [
        {
         "alignmentgroup": "True",
         "bingroup": "x",
         "histfunc": "sum",
         "hovertemplate": "model=GCN<br>graph=%{x}<br>sum of n_covered=%{y}<extra></extra>",
         "legendgroup": "GCN",
         "marker": {
          "color": "#636efa"
         },
         "name": "GCN",
         "offsetgroup": "GCN",
         "orientation": "v",
         "showlegend": true,
         "type": "histogram",
         "x": [
          "dolphins",
          "karate",
          "football",
          "jazz",
          "socfb-nips-ego",
          "socfb-Mich67",
          "socfb-Brandeis99",
          "ego-facebook",
          "CA-GrQc",
          "ncstrlwg2",
          "CA-HepTh",
          "actors_dat",
          "CA-HepPh",
          "CA-AstroPh",
          "CA-CondMat",
          "soc-gplus"
         ],
         "xaxis": "x",
         "y": [
          4,
          13,
          31,
          51,
          293,
          1176,
          1362,
          961,
          960,
          1317,
          1410,
          1554,
          1614,
          2402,
          3669,
          3195
         ],
         "yaxis": "y"
        },
        {
         "alignmentgroup": "True",
         "bingroup": "x",
         "histfunc": "sum",
         "hovertemplate": "model=GRAT<br>graph=%{x}<br>sum of n_covered=%{y}<extra></extra>",
         "legendgroup": "GRAT",
         "marker": {
          "color": "#EF553B"
         },
         "name": "GRAT",
         "offsetgroup": "GRAT",
         "orientation": "v",
         "showlegend": true,
         "type": "histogram",
         "x": [
          "dolphins",
          "karate",
          "football",
          "jazz",
          "socfb-nips-ego",
          "socfb-Mich67",
          "socfb-Brandeis99",
          "ego-facebook",
          "CA-GrQc",
          "ncstrlwg2",
          "CA-HepTh",
          "actors_dat",
          "CA-HepPh",
          "CA-AstroPh",
          "CA-CondMat",
          "soc-gplus"
         ],
         "xaxis": "x",
         "y": [
          3,
          13,
          35,
          61,
          8,
          1194,
          1276,
          94,
          948,
          1420,
          1596,
          2114,
          2275,
          4311,
          4063,
          1549
         ],
         "yaxis": "y"
        },
        {
         "alignmentgroup": "True",
         "bingroup": "x",
         "histfunc": "sum",
         "hovertemplate": "model=GraphConv<br>graph=%{x}<br>sum of n_covered=%{y}<extra></extra>",
         "legendgroup": "GraphConv",
         "marker": {
          "color": "#00cc96"
         },
         "name": "GraphConv",
         "offsetgroup": "GraphConv",
         "orientation": "v",
         "showlegend": true,
         "type": "histogram",
         "x": [
          "dolphins",
          "karate",
          "football",
          "jazz",
          "socfb-nips-ego",
          "socfb-Mich67",
          "socfb-Brandeis99",
          "ego-facebook",
          "CA-GrQc",
          "ncstrlwg2",
          "CA-HepTh",
          "actors_dat",
          "CA-HepPh",
          "CA-AstroPh",
          "CA-CondMat",
          "soc-gplus"
         ],
         "xaxis": "x",
         "y": [
          4,
          11,
          33,
          42,
          175,
          1112,
          1288,
          963,
          908,
          1403,
          1208,
          1525,
          1404,
          2787,
          4107,
          3556
         ],
         "yaxis": "y"
        },
        {
         "alignmentgroup": "True",
         "bingroup": "x",
         "histfunc": "sum",
         "hovertemplate": "model=GAT<br>graph=%{x}<br>sum of n_covered=%{y}<extra></extra>",
         "legendgroup": "GAT",
         "marker": {
          "color": "#ab63fa"
         },
         "name": "GAT",
         "offsetgroup": "GAT",
         "orientation": "v",
         "showlegend": true,
         "type": "histogram",
         "x": [
          "dolphins",
          "karate",
          "football",
          "jazz",
          "socfb-nips-ego",
          "socfb-Mich67",
          "socfb-Brandeis99",
          "ego-facebook",
          "CA-GrQc",
          "ncstrlwg2",
          "CA-HepTh",
          "actors_dat",
          "CA-HepPh",
          "CA-AstroPh",
          "CA-CondMat",
          "soc-gplus"
         ],
         "xaxis": "x",
         "y": [
          7,
          13,
          36,
          57,
          707,
          1185,
          1196,
          723,
          845,
          1306,
          1281,
          2032,
          1582,
          3365,
          3539,
          4201
         ],
         "yaxis": "y"
        }
       ],
       "layout": {
        "barmode": "group",
        "height": 400,
        "legend": {
         "title": {
          "text": "model"
         },
         "tracegroupgap": 0
        },
        "margin": {
         "t": 60
        },
        "template": {
         "data": {
          "bar": [
           {
            "error_x": {
             "color": "#2a3f5f"
            },
            "error_y": {
             "color": "#2a3f5f"
            },
            "marker": {
             "line": {
              "color": "#E5ECF6",
              "width": 0.5
             }
            },
            "type": "bar"
           }
          ],
          "barpolar": [
           {
            "marker": {
             "line": {
              "color": "#E5ECF6",
              "width": 0.5
             }
            },
            "type": "barpolar"
           }
          ],
          "carpet": [
           {
            "aaxis": {
             "endlinecolor": "#2a3f5f",
             "gridcolor": "white",
             "linecolor": "white",
             "minorgridcolor": "white",
             "startlinecolor": "#2a3f5f"
            },
            "baxis": {
             "endlinecolor": "#2a3f5f",
             "gridcolor": "white",
             "linecolor": "white",
             "minorgridcolor": "white",
             "startlinecolor": "#2a3f5f"
            },
            "type": "carpet"
           }
          ],
          "choropleth": [
           {
            "colorbar": {
             "outlinewidth": 0,
             "ticks": ""
            },
            "type": "choropleth"
           }
          ],
          "contour": [
           {
            "colorbar": {
             "outlinewidth": 0,
             "ticks": ""
            },
            "colorscale": [
             [
              0,
              "#0d0887"
             ],
             [
              0.1111111111111111,
              "#46039f"
             ],
             [
              0.2222222222222222,
              "#7201a8"
             ],
             [
              0.3333333333333333,
              "#9c179e"
             ],
             [
              0.4444444444444444,
              "#bd3786"
             ],
             [
              0.5555555555555556,
              "#d8576b"
             ],
             [
              0.6666666666666666,
              "#ed7953"
             ],
             [
              0.7777777777777778,
              "#fb9f3a"
             ],
             [
              0.8888888888888888,
              "#fdca26"
             ],
             [
              1,
              "#f0f921"
             ]
            ],
            "type": "contour"
           }
          ],
          "contourcarpet": [
           {
            "colorbar": {
             "outlinewidth": 0,
             "ticks": ""
            },
            "type": "contourcarpet"
           }
          ],
          "heatmap": [
           {
            "colorbar": {
             "outlinewidth": 0,
             "ticks": ""
            },
            "colorscale": [
             [
              0,
              "#0d0887"
             ],
             [
              0.1111111111111111,
              "#46039f"
             ],
             [
              0.2222222222222222,
              "#7201a8"
             ],
             [
              0.3333333333333333,
              "#9c179e"
             ],
             [
              0.4444444444444444,
              "#bd3786"
             ],
             [
              0.5555555555555556,
              "#d8576b"
             ],
             [
              0.6666666666666666,
              "#ed7953"
             ],
             [
              0.7777777777777778,
              "#fb9f3a"
             ],
             [
              0.8888888888888888,
              "#fdca26"
             ],
             [
              1,
              "#f0f921"
             ]
            ],
            "type": "heatmap"
           }
          ],
          "heatmapgl": [
           {
            "colorbar": {
             "outlinewidth": 0,
             "ticks": ""
            },
            "colorscale": [
             [
              0,
              "#0d0887"
             ],
             [
              0.1111111111111111,
              "#46039f"
             ],
             [
              0.2222222222222222,
              "#7201a8"
             ],
             [
              0.3333333333333333,
              "#9c179e"
             ],
             [
              0.4444444444444444,
              "#bd3786"
             ],
             [
              0.5555555555555556,
              "#d8576b"
             ],
             [
              0.6666666666666666,
              "#ed7953"
             ],
             [
              0.7777777777777778,
              "#fb9f3a"
             ],
             [
              0.8888888888888888,
              "#fdca26"
             ],
             [
              1,
              "#f0f921"
             ]
            ],
            "type": "heatmapgl"
           }
          ],
          "histogram": [
           {
            "marker": {
             "colorbar": {
              "outlinewidth": 0,
              "ticks": ""
             }
            },
            "type": "histogram"
           }
          ],
          "histogram2d": [
           {
            "colorbar": {
             "outlinewidth": 0,
             "ticks": ""
            },
            "colorscale": [
             [
              0,
              "#0d0887"
             ],
             [
              0.1111111111111111,
              "#46039f"
             ],
             [
              0.2222222222222222,
              "#7201a8"
             ],
             [
              0.3333333333333333,
              "#9c179e"
             ],
             [
              0.4444444444444444,
              "#bd3786"
             ],
             [
              0.5555555555555556,
              "#d8576b"
             ],
             [
              0.6666666666666666,
              "#ed7953"
             ],
             [
              0.7777777777777778,
              "#fb9f3a"
             ],
             [
              0.8888888888888888,
              "#fdca26"
             ],
             [
              1,
              "#f0f921"
             ]
            ],
            "type": "histogram2d"
           }
          ],
          "histogram2dcontour": [
           {
            "colorbar": {
             "outlinewidth": 0,
             "ticks": ""
            },
            "colorscale": [
             [
              0,
              "#0d0887"
             ],
             [
              0.1111111111111111,
              "#46039f"
             ],
             [
              0.2222222222222222,
              "#7201a8"
             ],
             [
              0.3333333333333333,
              "#9c179e"
             ],
             [
              0.4444444444444444,
              "#bd3786"
             ],
             [
              0.5555555555555556,
              "#d8576b"
             ],
             [
              0.6666666666666666,
              "#ed7953"
             ],
             [
              0.7777777777777778,
              "#fb9f3a"
             ],
             [
              0.8888888888888888,
              "#fdca26"
             ],
             [
              1,
              "#f0f921"
             ]
            ],
            "type": "histogram2dcontour"
           }
          ],
          "mesh3d": [
           {
            "colorbar": {
             "outlinewidth": 0,
             "ticks": ""
            },
            "type": "mesh3d"
           }
          ],
          "parcoords": [
           {
            "line": {
             "colorbar": {
              "outlinewidth": 0,
              "ticks": ""
             }
            },
            "type": "parcoords"
           }
          ],
          "pie": [
           {
            "automargin": true,
            "type": "pie"
           }
          ],
          "scatter": [
           {
            "marker": {
             "colorbar": {
              "outlinewidth": 0,
              "ticks": ""
             }
            },
            "type": "scatter"
           }
          ],
          "scatter3d": [
           {
            "line": {
             "colorbar": {
              "outlinewidth": 0,
              "ticks": ""
             }
            },
            "marker": {
             "colorbar": {
              "outlinewidth": 0,
              "ticks": ""
             }
            },
            "type": "scatter3d"
           }
          ],
          "scattercarpet": [
           {
            "marker": {
             "colorbar": {
              "outlinewidth": 0,
              "ticks": ""
             }
            },
            "type": "scattercarpet"
           }
          ],
          "scattergeo": [
           {
            "marker": {
             "colorbar": {
              "outlinewidth": 0,
              "ticks": ""
             }
            },
            "type": "scattergeo"
           }
          ],
          "scattergl": [
           {
            "marker": {
             "colorbar": {
              "outlinewidth": 0,
              "ticks": ""
             }
            },
            "type": "scattergl"
           }
          ],
          "scattermapbox": [
           {
            "marker": {
             "colorbar": {
              "outlinewidth": 0,
              "ticks": ""
             }
            },
            "type": "scattermapbox"
           }
          ],
          "scatterpolar": [
           {
            "marker": {
             "colorbar": {
              "outlinewidth": 0,
              "ticks": ""
             }
            },
            "type": "scatterpolar"
           }
          ],
          "scatterpolargl": [
           {
            "marker": {
             "colorbar": {
              "outlinewidth": 0,
              "ticks": ""
             }
            },
            "type": "scatterpolargl"
           }
          ],
          "scatterternary": [
           {
            "marker": {
             "colorbar": {
              "outlinewidth": 0,
              "ticks": ""
             }
            },
            "type": "scatterternary"
           }
          ],
          "surface": [
           {
            "colorbar": {
             "outlinewidth": 0,
             "ticks": ""
            },
            "colorscale": [
             [
              0,
              "#0d0887"
             ],
             [
              0.1111111111111111,
              "#46039f"
             ],
             [
              0.2222222222222222,
              "#7201a8"
             ],
             [
              0.3333333333333333,
              "#9c179e"
             ],
             [
              0.4444444444444444,
              "#bd3786"
             ],
             [
              0.5555555555555556,
              "#d8576b"
             ],
             [
              0.6666666666666666,
              "#ed7953"
             ],
             [
              0.7777777777777778,
              "#fb9f3a"
             ],
             [
              0.8888888888888888,
              "#fdca26"
             ],
             [
              1,
              "#f0f921"
             ]
            ],
            "type": "surface"
           }
          ],
          "table": [
           {
            "cells": {
             "fill": {
              "color": "#EBF0F8"
             },
             "line": {
              "color": "white"
             }
            },
            "header": {
             "fill": {
              "color": "#C8D4E3"
             },
             "line": {
              "color": "white"
             }
            },
            "type": "table"
           }
          ]
         },
         "layout": {
          "annotationdefaults": {
           "arrowcolor": "#2a3f5f",
           "arrowhead": 0,
           "arrowwidth": 1
          },
          "autotypenumbers": "strict",
          "coloraxis": {
           "colorbar": {
            "outlinewidth": 0,
            "ticks": ""
           }
          },
          "colorscale": {
           "diverging": [
            [
             0,
             "#8e0152"
            ],
            [
             0.1,
             "#c51b7d"
            ],
            [
             0.2,
             "#de77ae"
            ],
            [
             0.3,
             "#f1b6da"
            ],
            [
             0.4,
             "#fde0ef"
            ],
            [
             0.5,
             "#f7f7f7"
            ],
            [
             0.6,
             "#e6f5d0"
            ],
            [
             0.7,
             "#b8e186"
            ],
            [
             0.8,
             "#7fbc41"
            ],
            [
             0.9,
             "#4d9221"
            ],
            [
             1,
             "#276419"
            ]
           ],
           "sequential": [
            [
             0,
             "#0d0887"
            ],
            [
             0.1111111111111111,
             "#46039f"
            ],
            [
             0.2222222222222222,
             "#7201a8"
            ],
            [
             0.3333333333333333,
             "#9c179e"
            ],
            [
             0.4444444444444444,
             "#bd3786"
            ],
            [
             0.5555555555555556,
             "#d8576b"
            ],
            [
             0.6666666666666666,
             "#ed7953"
            ],
            [
             0.7777777777777778,
             "#fb9f3a"
            ],
            [
             0.8888888888888888,
             "#fdca26"
            ],
            [
             1,
             "#f0f921"
            ]
           ],
           "sequentialminus": [
            [
             0,
             "#0d0887"
            ],
            [
             0.1111111111111111,
             "#46039f"
            ],
            [
             0.2222222222222222,
             "#7201a8"
            ],
            [
             0.3333333333333333,
             "#9c179e"
            ],
            [
             0.4444444444444444,
             "#bd3786"
            ],
            [
             0.5555555555555556,
             "#d8576b"
            ],
            [
             0.6666666666666666,
             "#ed7953"
            ],
            [
             0.7777777777777778,
             "#fb9f3a"
            ],
            [
             0.8888888888888888,
             "#fdca26"
            ],
            [
             1,
             "#f0f921"
            ]
           ]
          },
          "colorway": [
           "#636efa",
           "#EF553B",
           "#00cc96",
           "#ab63fa",
           "#FFA15A",
           "#19d3f3",
           "#FF6692",
           "#B6E880",
           "#FF97FF",
           "#FECB52"
          ],
          "font": {
           "color": "#2a3f5f"
          },
          "geo": {
           "bgcolor": "white",
           "lakecolor": "white",
           "landcolor": "#E5ECF6",
           "showlakes": true,
           "showland": true,
           "subunitcolor": "white"
          },
          "hoverlabel": {
           "align": "left"
          },
          "hovermode": "closest",
          "mapbox": {
           "style": "light"
          },
          "paper_bgcolor": "white",
          "plot_bgcolor": "#E5ECF6",
          "polar": {
           "angularaxis": {
            "gridcolor": "white",
            "linecolor": "white",
            "ticks": ""
           },
           "bgcolor": "#E5ECF6",
           "radialaxis": {
            "gridcolor": "white",
            "linecolor": "white",
            "ticks": ""
           }
          },
          "scene": {
           "xaxis": {
            "backgroundcolor": "#E5ECF6",
            "gridcolor": "white",
            "gridwidth": 2,
            "linecolor": "white",
            "showbackground": true,
            "ticks": "",
            "zerolinecolor": "white"
           },
           "yaxis": {
            "backgroundcolor": "#E5ECF6",
            "gridcolor": "white",
            "gridwidth": 2,
            "linecolor": "white",
            "showbackground": true,
            "ticks": "",
            "zerolinecolor": "white"
           },
           "zaxis": {
            "backgroundcolor": "#E5ECF6",
            "gridcolor": "white",
            "gridwidth": 2,
            "linecolor": "white",
            "showbackground": true,
            "ticks": "",
            "zerolinecolor": "white"
           }
          },
          "shapedefaults": {
           "line": {
            "color": "#2a3f5f"
           }
          },
          "ternary": {
           "aaxis": {
            "gridcolor": "white",
            "linecolor": "white",
            "ticks": ""
           },
           "baxis": {
            "gridcolor": "white",
            "linecolor": "white",
            "ticks": ""
           },
           "bgcolor": "#E5ECF6",
           "caxis": {
            "gridcolor": "white",
            "linecolor": "white",
            "ticks": ""
           }
          },
          "title": {
           "x": 0.05
          },
          "xaxis": {
           "automargin": true,
           "gridcolor": "white",
           "linecolor": "white",
           "ticks": "",
           "title": {
            "standoff": 15
           },
           "zerolinecolor": "white",
           "zerolinewidth": 2
          },
          "yaxis": {
           "automargin": true,
           "gridcolor": "white",
           "linecolor": "white",
           "ticks": "",
           "title": {
            "standoff": 15
           },
           "zerolinecolor": "white",
           "zerolinewidth": 2
          }
         }
        },
        "xaxis": {
         "anchor": "y",
         "domain": [
          0,
          1
         ],
         "title": {
          "text": "graph"
         }
        },
        "yaxis": {
         "anchor": "x",
         "domain": [
          0,
          1
         ],
         "title": {
          "text": "sum of n_covered"
         }
        }
       }
      },
      "text/html": [
       "<div>                            <div id=\"3757c5de-bc52-48d5-8232-6cd85e474547\" class=\"plotly-graph-div\" style=\"height:400px; width:100%;\"></div>            <script type=\"text/javascript\">                require([\"plotly\"], function(Plotly) {                    window.PLOTLYENV=window.PLOTLYENV || {};                                    if (document.getElementById(\"3757c5de-bc52-48d5-8232-6cd85e474547\")) {                    Plotly.newPlot(                        \"3757c5de-bc52-48d5-8232-6cd85e474547\",                        [{\"alignmentgroup\": \"True\", \"bingroup\": \"x\", \"histfunc\": \"sum\", \"hovertemplate\": \"model=GCN<br>graph=%{x}<br>sum of n_covered=%{y}<extra></extra>\", \"legendgroup\": \"GCN\", \"marker\": {\"color\": \"#636efa\"}, \"name\": \"GCN\", \"offsetgroup\": \"GCN\", \"orientation\": \"v\", \"showlegend\": true, \"type\": \"histogram\", \"x\": [\"dolphins\", \"karate\", \"football\", \"jazz\", \"socfb-nips-ego\", \"socfb-Mich67\", \"socfb-Brandeis99\", \"ego-facebook\", \"CA-GrQc\", \"ncstrlwg2\", \"CA-HepTh\", \"actors_dat\", \"CA-HepPh\", \"CA-AstroPh\", \"CA-CondMat\", \"soc-gplus\"], \"xaxis\": \"x\", \"y\": [4, 13, 31, 51, 293, 1176, 1362, 961, 960, 1317, 1410, 1554, 1614, 2402, 3669, 3195], \"yaxis\": \"y\"}, {\"alignmentgroup\": \"True\", \"bingroup\": \"x\", \"histfunc\": \"sum\", \"hovertemplate\": \"model=GRAT<br>graph=%{x}<br>sum of n_covered=%{y}<extra></extra>\", \"legendgroup\": \"GRAT\", \"marker\": {\"color\": \"#EF553B\"}, \"name\": \"GRAT\", \"offsetgroup\": \"GRAT\", \"orientation\": \"v\", \"showlegend\": true, \"type\": \"histogram\", \"x\": [\"dolphins\", \"karate\", \"football\", \"jazz\", \"socfb-nips-ego\", \"socfb-Mich67\", \"socfb-Brandeis99\", \"ego-facebook\", \"CA-GrQc\", \"ncstrlwg2\", \"CA-HepTh\", \"actors_dat\", \"CA-HepPh\", \"CA-AstroPh\", \"CA-CondMat\", \"soc-gplus\"], \"xaxis\": \"x\", \"y\": [3, 13, 35, 61, 8, 1194, 1276, 94, 948, 1420, 1596, 2114, 2275, 4311, 4063, 1549], \"yaxis\": \"y\"}, {\"alignmentgroup\": \"True\", \"bingroup\": \"x\", \"histfunc\": \"sum\", \"hovertemplate\": \"model=GraphConv<br>graph=%{x}<br>sum of n_covered=%{y}<extra></extra>\", \"legendgroup\": \"GraphConv\", \"marker\": {\"color\": \"#00cc96\"}, \"name\": \"GraphConv\", \"offsetgroup\": \"GraphConv\", \"orientation\": \"v\", \"showlegend\": true, \"type\": \"histogram\", \"x\": [\"dolphins\", \"karate\", \"football\", \"jazz\", \"socfb-nips-ego\", \"socfb-Mich67\", \"socfb-Brandeis99\", \"ego-facebook\", \"CA-GrQc\", \"ncstrlwg2\", \"CA-HepTh\", \"actors_dat\", \"CA-HepPh\", \"CA-AstroPh\", \"CA-CondMat\", \"soc-gplus\"], \"xaxis\": \"x\", \"y\": [4, 11, 33, 42, 175, 1112, 1288, 963, 908, 1403, 1208, 1525, 1404, 2787, 4107, 3556], \"yaxis\": \"y\"}, {\"alignmentgroup\": \"True\", \"bingroup\": \"x\", \"histfunc\": \"sum\", \"hovertemplate\": \"model=GAT<br>graph=%{x}<br>sum of n_covered=%{y}<extra></extra>\", \"legendgroup\": \"GAT\", \"marker\": {\"color\": \"#ab63fa\"}, \"name\": \"GAT\", \"offsetgroup\": \"GAT\", \"orientation\": \"v\", \"showlegend\": true, \"type\": \"histogram\", \"x\": [\"dolphins\", \"karate\", \"football\", \"jazz\", \"socfb-nips-ego\", \"socfb-Mich67\", \"socfb-Brandeis99\", \"ego-facebook\", \"CA-GrQc\", \"ncstrlwg2\", \"CA-HepTh\", \"actors_dat\", \"CA-HepPh\", \"CA-AstroPh\", \"CA-CondMat\", \"soc-gplus\"], \"xaxis\": \"x\", \"y\": [7, 13, 36, 57, 707, 1185, 1196, 723, 845, 1306, 1281, 2032, 1582, 3365, 3539, 4201], \"yaxis\": \"y\"}],                        {\"barmode\": \"group\", \"height\": 400, \"legend\": {\"title\": {\"text\": \"model\"}, \"tracegroupgap\": 0}, \"margin\": {\"t\": 60}, \"template\": {\"data\": {\"bar\": [{\"error_x\": {\"color\": \"#2a3f5f\"}, \"error_y\": {\"color\": \"#2a3f5f\"}, \"marker\": {\"line\": {\"color\": \"#E5ECF6\", \"width\": 0.5}}, \"type\": \"bar\"}], \"barpolar\": [{\"marker\": {\"line\": {\"color\": \"#E5ECF6\", \"width\": 0.5}}, \"type\": \"barpolar\"}], \"carpet\": [{\"aaxis\": {\"endlinecolor\": \"#2a3f5f\", \"gridcolor\": \"white\", \"linecolor\": \"white\", \"minorgridcolor\": \"white\", \"startlinecolor\": \"#2a3f5f\"}, \"baxis\": {\"endlinecolor\": \"#2a3f5f\", \"gridcolor\": \"white\", \"linecolor\": \"white\", \"minorgridcolor\": \"white\", \"startlinecolor\": \"#2a3f5f\"}, \"type\": \"carpet\"}], \"choropleth\": [{\"colorbar\": {\"outlinewidth\": 0, \"ticks\": \"\"}, \"type\": \"choropleth\"}], \"contour\": [{\"colorbar\": {\"outlinewidth\": 0, \"ticks\": \"\"}, \"colorscale\": [[0.0, \"#0d0887\"], [0.1111111111111111, \"#46039f\"], [0.2222222222222222, \"#7201a8\"], [0.3333333333333333, \"#9c179e\"], [0.4444444444444444, \"#bd3786\"], [0.5555555555555556, \"#d8576b\"], [0.6666666666666666, \"#ed7953\"], [0.7777777777777778, \"#fb9f3a\"], [0.8888888888888888, \"#fdca26\"], [1.0, \"#f0f921\"]], \"type\": \"contour\"}], \"contourcarpet\": [{\"colorbar\": {\"outlinewidth\": 0, \"ticks\": \"\"}, \"type\": \"contourcarpet\"}], \"heatmap\": [{\"colorbar\": {\"outlinewidth\": 0, \"ticks\": \"\"}, \"colorscale\": [[0.0, \"#0d0887\"], [0.1111111111111111, \"#46039f\"], [0.2222222222222222, \"#7201a8\"], [0.3333333333333333, \"#9c179e\"], [0.4444444444444444, \"#bd3786\"], [0.5555555555555556, \"#d8576b\"], [0.6666666666666666, \"#ed7953\"], [0.7777777777777778, \"#fb9f3a\"], [0.8888888888888888, \"#fdca26\"], [1.0, \"#f0f921\"]], \"type\": \"heatmap\"}], \"heatmapgl\": [{\"colorbar\": {\"outlinewidth\": 0, \"ticks\": \"\"}, \"colorscale\": [[0.0, \"#0d0887\"], [0.1111111111111111, \"#46039f\"], [0.2222222222222222, \"#7201a8\"], [0.3333333333333333, \"#9c179e\"], [0.4444444444444444, \"#bd3786\"], [0.5555555555555556, \"#d8576b\"], [0.6666666666666666, \"#ed7953\"], [0.7777777777777778, \"#fb9f3a\"], [0.8888888888888888, \"#fdca26\"], [1.0, \"#f0f921\"]], \"type\": \"heatmapgl\"}], \"histogram\": [{\"marker\": {\"colorbar\": {\"outlinewidth\": 0, \"ticks\": \"\"}}, \"type\": \"histogram\"}], \"histogram2d\": [{\"colorbar\": {\"outlinewidth\": 0, \"ticks\": \"\"}, \"colorscale\": [[0.0, \"#0d0887\"], [0.1111111111111111, \"#46039f\"], [0.2222222222222222, \"#7201a8\"], [0.3333333333333333, \"#9c179e\"], [0.4444444444444444, \"#bd3786\"], [0.5555555555555556, \"#d8576b\"], [0.6666666666666666, \"#ed7953\"], [0.7777777777777778, \"#fb9f3a\"], [0.8888888888888888, \"#fdca26\"], [1.0, \"#f0f921\"]], \"type\": \"histogram2d\"}], \"histogram2dcontour\": [{\"colorbar\": {\"outlinewidth\": 0, \"ticks\": \"\"}, \"colorscale\": [[0.0, \"#0d0887\"], [0.1111111111111111, \"#46039f\"], [0.2222222222222222, \"#7201a8\"], [0.3333333333333333, \"#9c179e\"], [0.4444444444444444, \"#bd3786\"], [0.5555555555555556, \"#d8576b\"], [0.6666666666666666, \"#ed7953\"], [0.7777777777777778, \"#fb9f3a\"], [0.8888888888888888, \"#fdca26\"], [1.0, \"#f0f921\"]], \"type\": \"histogram2dcontour\"}], \"mesh3d\": [{\"colorbar\": {\"outlinewidth\": 0, \"ticks\": \"\"}, \"type\": \"mesh3d\"}], \"parcoords\": [{\"line\": {\"colorbar\": {\"outlinewidth\": 0, \"ticks\": \"\"}}, \"type\": \"parcoords\"}], \"pie\": [{\"automargin\": true, \"type\": \"pie\"}], \"scatter\": [{\"marker\": {\"colorbar\": {\"outlinewidth\": 0, \"ticks\": \"\"}}, \"type\": \"scatter\"}], \"scatter3d\": [{\"line\": {\"colorbar\": {\"outlinewidth\": 0, \"ticks\": \"\"}}, \"marker\": {\"colorbar\": {\"outlinewidth\": 0, \"ticks\": \"\"}}, \"type\": \"scatter3d\"}], \"scattercarpet\": [{\"marker\": {\"colorbar\": {\"outlinewidth\": 0, \"ticks\": \"\"}}, \"type\": \"scattercarpet\"}], \"scattergeo\": [{\"marker\": {\"colorbar\": {\"outlinewidth\": 0, \"ticks\": \"\"}}, \"type\": \"scattergeo\"}], \"scattergl\": [{\"marker\": {\"colorbar\": {\"outlinewidth\": 0, \"ticks\": \"\"}}, \"type\": \"scattergl\"}], \"scattermapbox\": [{\"marker\": {\"colorbar\": {\"outlinewidth\": 0, \"ticks\": \"\"}}, \"type\": \"scattermapbox\"}], \"scatterpolar\": [{\"marker\": {\"colorbar\": {\"outlinewidth\": 0, \"ticks\": \"\"}}, \"type\": \"scatterpolar\"}], \"scatterpolargl\": [{\"marker\": {\"colorbar\": {\"outlinewidth\": 0, \"ticks\": \"\"}}, \"type\": \"scatterpolargl\"}], \"scatterternary\": [{\"marker\": {\"colorbar\": {\"outlinewidth\": 0, \"ticks\": \"\"}}, \"type\": \"scatterternary\"}], \"surface\": [{\"colorbar\": {\"outlinewidth\": 0, \"ticks\": \"\"}, \"colorscale\": [[0.0, \"#0d0887\"], [0.1111111111111111, \"#46039f\"], [0.2222222222222222, \"#7201a8\"], [0.3333333333333333, \"#9c179e\"], [0.4444444444444444, \"#bd3786\"], [0.5555555555555556, \"#d8576b\"], [0.6666666666666666, \"#ed7953\"], [0.7777777777777778, \"#fb9f3a\"], [0.8888888888888888, \"#fdca26\"], [1.0, \"#f0f921\"]], \"type\": \"surface\"}], \"table\": [{\"cells\": {\"fill\": {\"color\": \"#EBF0F8\"}, \"line\": {\"color\": \"white\"}}, \"header\": {\"fill\": {\"color\": \"#C8D4E3\"}, \"line\": {\"color\": \"white\"}}, \"type\": \"table\"}]}, \"layout\": {\"annotationdefaults\": {\"arrowcolor\": \"#2a3f5f\", \"arrowhead\": 0, \"arrowwidth\": 1}, \"autotypenumbers\": \"strict\", \"coloraxis\": {\"colorbar\": {\"outlinewidth\": 0, \"ticks\": \"\"}}, \"colorscale\": {\"diverging\": [[0, \"#8e0152\"], [0.1, \"#c51b7d\"], [0.2, \"#de77ae\"], [0.3, \"#f1b6da\"], [0.4, \"#fde0ef\"], [0.5, \"#f7f7f7\"], [0.6, \"#e6f5d0\"], [0.7, \"#b8e186\"], [0.8, \"#7fbc41\"], [0.9, \"#4d9221\"], [1, \"#276419\"]], \"sequential\": [[0.0, \"#0d0887\"], [0.1111111111111111, \"#46039f\"], [0.2222222222222222, \"#7201a8\"], [0.3333333333333333, \"#9c179e\"], [0.4444444444444444, \"#bd3786\"], [0.5555555555555556, \"#d8576b\"], [0.6666666666666666, \"#ed7953\"], [0.7777777777777778, \"#fb9f3a\"], [0.8888888888888888, \"#fdca26\"], [1.0, \"#f0f921\"]], \"sequentialminus\": [[0.0, \"#0d0887\"], [0.1111111111111111, \"#46039f\"], [0.2222222222222222, \"#7201a8\"], [0.3333333333333333, \"#9c179e\"], [0.4444444444444444, \"#bd3786\"], [0.5555555555555556, \"#d8576b\"], [0.6666666666666666, \"#ed7953\"], [0.7777777777777778, \"#fb9f3a\"], [0.8888888888888888, \"#fdca26\"], [1.0, \"#f0f921\"]]}, \"colorway\": [\"#636efa\", \"#EF553B\", \"#00cc96\", \"#ab63fa\", \"#FFA15A\", \"#19d3f3\", \"#FF6692\", \"#B6E880\", \"#FF97FF\", \"#FECB52\"], \"font\": {\"color\": \"#2a3f5f\"}, \"geo\": {\"bgcolor\": \"white\", \"lakecolor\": \"white\", \"landcolor\": \"#E5ECF6\", \"showlakes\": true, \"showland\": true, \"subunitcolor\": \"white\"}, \"hoverlabel\": {\"align\": \"left\"}, \"hovermode\": \"closest\", \"mapbox\": {\"style\": \"light\"}, \"paper_bgcolor\": \"white\", \"plot_bgcolor\": \"#E5ECF6\", \"polar\": {\"angularaxis\": {\"gridcolor\": \"white\", \"linecolor\": \"white\", \"ticks\": \"\"}, \"bgcolor\": \"#E5ECF6\", \"radialaxis\": {\"gridcolor\": \"white\", \"linecolor\": \"white\", \"ticks\": \"\"}}, \"scene\": {\"xaxis\": {\"backgroundcolor\": \"#E5ECF6\", \"gridcolor\": \"white\", \"gridwidth\": 2, \"linecolor\": \"white\", \"showbackground\": true, \"ticks\": \"\", \"zerolinecolor\": \"white\"}, \"yaxis\": {\"backgroundcolor\": \"#E5ECF6\", \"gridcolor\": \"white\", \"gridwidth\": 2, \"linecolor\": \"white\", \"showbackground\": true, \"ticks\": \"\", \"zerolinecolor\": \"white\"}, \"zaxis\": {\"backgroundcolor\": \"#E5ECF6\", \"gridcolor\": \"white\", \"gridwidth\": 2, \"linecolor\": \"white\", \"showbackground\": true, \"ticks\": \"\", \"zerolinecolor\": \"white\"}}, \"shapedefaults\": {\"line\": {\"color\": \"#2a3f5f\"}}, \"ternary\": {\"aaxis\": {\"gridcolor\": \"white\", \"linecolor\": \"white\", \"ticks\": \"\"}, \"baxis\": {\"gridcolor\": \"white\", \"linecolor\": \"white\", \"ticks\": \"\"}, \"bgcolor\": \"#E5ECF6\", \"caxis\": {\"gridcolor\": \"white\", \"linecolor\": \"white\", \"ticks\": \"\"}}, \"title\": {\"x\": 0.05}, \"xaxis\": {\"automargin\": true, \"gridcolor\": \"white\", \"linecolor\": \"white\", \"ticks\": \"\", \"title\": {\"standoff\": 15}, \"zerolinecolor\": \"white\", \"zerolinewidth\": 2}, \"yaxis\": {\"automargin\": true, \"gridcolor\": \"white\", \"linecolor\": \"white\", \"ticks\": \"\", \"title\": {\"standoff\": 15}, \"zerolinecolor\": \"white\", \"zerolinewidth\": 2}}}, \"xaxis\": {\"anchor\": \"y\", \"domain\": [0.0, 1.0], \"title\": {\"text\": \"graph\"}}, \"yaxis\": {\"anchor\": \"x\", \"domain\": [0.0, 1.0], \"title\": {\"text\": \"sum of n_covered\"}}},                        {\"responsive\": true}                    ).then(function(){\n",
       "                            \n",
       "var gd = document.getElementById('3757c5de-bc52-48d5-8232-6cd85e474547');\n",
       "var x = new MutationObserver(function (mutations, observer) {{\n",
       "        var display = window.getComputedStyle(gd).display;\n",
       "        if (!display || display === 'none') {{\n",
       "            console.log([gd, 'removed!']);\n",
       "            Plotly.purge(gd);\n",
       "            observer.disconnect();\n",
       "        }}\n",
       "}});\n",
       "\n",
       "// Listen for the removal of the full notebook cells\n",
       "var notebookContainer = gd.closest('#notebook-container');\n",
       "if (notebookContainer) {{\n",
       "    x.observe(notebookContainer, {childList: true});\n",
       "}}\n",
       "\n",
       "// Listen for the clearing of the current output cell\n",
       "var outputEl = gd.closest('.output');\n",
       "if (outputEl) {{\n",
       "    x.observe(outputEl, {childList: true});\n",
       "}}\n",
       "\n",
       "                        })                };                });            </script>        </div>"
      ]
     },
     "metadata": {},
     "output_type": "display_data"
    }
   ],
   "source": [
    "fig = px.histogram(Full, x=\"graph\", y=\"n_covered\",\n",
    "             color='model', barmode='group',\n",
    "             height=400)\n",
    "fig.show()"
   ]
  },
  {
   "cell_type": "code",
   "execution_count": 72,
   "id": "41331900",
   "metadata": {
    "ExecuteTime": {
     "end_time": "2022-11-01T19:10:48.136069Z",
     "start_time": "2022-11-01T19:10:48.095547Z"
    }
   },
   "outputs": [
    {
     "name": "stderr",
     "output_type": "stream",
     "text": [
      "C:\\Users\\Jairo Enrique\\AppData\\Local\\Temp\\ipykernel_6052\\858979467.py:1: FutureWarning:\n",
      "\n",
      "The default value of numeric_only in DataFrameGroupBy.mean is deprecated. In a future version, numeric_only will default to False. Either specify numeric_only or select only columns which should be valid for the function.\n",
      "\n"
     ]
    },
    {
     "data": {
      "text/html": [
       "<div>\n",
       "<style scoped>\n",
       "    .dataframe tbody tr th:only-of-type {\n",
       "        vertical-align: middle;\n",
       "    }\n",
       "\n",
       "    .dataframe tbody tr th {\n",
       "        vertical-align: top;\n",
       "    }\n",
       "\n",
       "    .dataframe thead th {\n",
       "        text-align: right;\n",
       "    }\n",
       "</style>\n",
       "<table border=\"1\" class=\"dataframe\">\n",
       "  <thead>\n",
       "    <tr style=\"text-align: right;\">\n",
       "      <th></th>\n",
       "      <th>Unnamed: 0</th>\n",
       "      <th>seed</th>\n",
       "      <th>threshold</th>\n",
       "      <th>n_covered</th>\n",
       "      <th>n</th>\n",
       "      <th>coverage</th>\n",
       "      <th>t_mean</th>\n",
       "    </tr>\n",
       "    <tr>\n",
       "      <th>model</th>\n",
       "      <th></th>\n",
       "      <th></th>\n",
       "      <th></th>\n",
       "      <th></th>\n",
       "      <th></th>\n",
       "      <th></th>\n",
       "      <th></th>\n",
       "    </tr>\n",
       "  </thead>\n",
       "  <tbody>\n",
       "    <tr>\n",
       "      <th>GAT</th>\n",
       "      <td>8.9375</td>\n",
       "      <td>13.0</td>\n",
       "      <td>0.5</td>\n",
       "      <td>1379.6875</td>\n",
       "      <td>7755.0</td>\n",
       "      <td>0.212656</td>\n",
       "      <td>1.444594</td>\n",
       "    </tr>\n",
       "    <tr>\n",
       "      <th>GCN</th>\n",
       "      <td>26.9375</td>\n",
       "      <td>13.0</td>\n",
       "      <td>0.5</td>\n",
       "      <td>1250.7500</td>\n",
       "      <td>7755.0</td>\n",
       "      <td>0.193736</td>\n",
       "      <td>1.425684</td>\n",
       "    </tr>\n",
       "    <tr>\n",
       "      <th>GRAT</th>\n",
       "      <td>16.4375</td>\n",
       "      <td>13.0</td>\n",
       "      <td>0.5</td>\n",
       "      <td>1310.0000</td>\n",
       "      <td>7755.0</td>\n",
       "      <td>0.188598</td>\n",
       "      <td>2.316342</td>\n",
       "    </tr>\n",
       "    <tr>\n",
       "      <th>GraphConv</th>\n",
       "      <td>44.9375</td>\n",
       "      <td>13.0</td>\n",
       "      <td>0.5</td>\n",
       "      <td>1282.8750</td>\n",
       "      <td>7755.0</td>\n",
       "      <td>0.186278</td>\n",
       "      <td>1.358027</td>\n",
       "    </tr>\n",
       "  </tbody>\n",
       "</table>\n",
       "</div>"
      ],
      "text/plain": [
       "           Unnamed: 0  seed  threshold  n_covered       n  coverage    t_mean\n",
       "model                                                                        \n",
       "GAT            8.9375  13.0        0.5  1379.6875  7755.0  0.212656  1.444594\n",
       "GCN           26.9375  13.0        0.5  1250.7500  7755.0  0.193736  1.425684\n",
       "GRAT          16.4375  13.0        0.5  1310.0000  7755.0  0.188598  2.316342\n",
       "GraphConv     44.9375  13.0        0.5  1282.8750  7755.0  0.186278  1.358027"
      ]
     },
     "execution_count": 72,
     "metadata": {},
     "output_type": "execute_result"
    }
   ],
   "source": [
    "Full.groupby(by = \"model\").mean()"
   ]
  },
  {
   "cell_type": "markdown",
   "id": "211e59d3",
   "metadata": {},
   "source": [
    "## Por mejor solución"
   ]
  },
  {
   "cell_type": "code",
   "execution_count": 170,
   "id": "6903a839",
   "metadata": {
    "ExecuteTime": {
     "end_time": "2022-11-01T19:45:06.574966Z",
     "start_time": "2022-11-01T19:45:06.509400Z"
    }
   },
   "outputs": [],
   "source": [
    "models_name = Full.model.unique()\n",
    "Dict = {m: i for m, i in zip(models_name, np.arange(models_name.shape[0]))}\n",
    "\n",
    "MT = np.zeros((models_name.shape[0], models_name.shape[0]))\n",
    "for graph in Full.graph.unique():\n",
    "    \n",
    "    Temp = np.array(Full.query(f\"graph == '{graph}'\").sort_values(by = \"n_covered\", ascending=False).model)\n",
    "    for m in range(Temp.shape[0]):\n",
    "\n",
    "        if (m + 1) == Temp.shape[0]:\n",
    "            MT[ Dict[ Temp[m] ] ][ Dict[ Temp[m] ] ] += 1\n",
    "            continue\n",
    "        MT[ Dict[ Temp[m] ] ][ Dict[ Temp[m + 1] ] ] += 1\n",
    "MT_ = MT / np.sum(MT, axis = 0)"
   ]
  },
  {
   "cell_type": "code",
   "execution_count": 171,
   "id": "6eb6043b",
   "metadata": {
    "ExecuteTime": {
     "end_time": "2022-11-01T19:45:06.716891Z",
     "start_time": "2022-11-01T19:45:06.706890Z"
    }
   },
   "outputs": [
    {
     "data": {
      "text/plain": [
       "array([0.24445289, 0.25818406, 0.25181736, 0.24554568])"
      ]
     },
     "execution_count": 171,
     "metadata": {},
     "output_type": "execute_result"
    }
   ],
   "source": [
    "SPD = np.ones(MT_.shape[0])/MT_.shape[0] # initial distirbution\n",
    "for _ in range(100):\n",
    "    SPD = np.dot(MT_, SPD.T)\n",
    "SPD"
   ]
  },
  {
   "cell_type": "code",
   "execution_count": 172,
   "id": "7d88b235",
   "metadata": {
    "ExecuteTime": {
     "end_time": "2022-11-01T19:45:06.921891Z",
     "start_time": "2022-11-01T19:45:06.904890Z"
    }
   },
   "outputs": [
    {
     "data": {
      "text/plain": [
       "array(['GRAT', 'GraphConv', 'GAT', 'GCN'], dtype=object)"
      ]
     },
     "execution_count": 172,
     "metadata": {},
     "output_type": "execute_result"
    }
   ],
   "source": [
    "models_name[np.argsort(-SPD)]"
   ]
  },
  {
   "cell_type": "code",
   "execution_count": 173,
   "id": "a28e35e8",
   "metadata": {
    "ExecuteTime": {
     "end_time": "2022-11-01T19:45:07.572301Z",
     "start_time": "2022-11-01T19:45:07.351891Z"
    }
   },
   "outputs": [
    {
     "data": {
      "text/plain": [
       "Text(0.5, 1.0, 'Heatmap for best solution')"
      ]
     },
     "execution_count": 173,
     "metadata": {},
     "output_type": "execute_result"
    },
    {
     "data": {
      "image/png": "[encoded data removed]",
      "text/plain": [
       "<Figure size 640x480 with 2 Axes>"
      ]
     },
     "metadata": {},
     "output_type": "display_data"
    }
   ],
   "source": [
    "sns.heatmap(MT_, annot = True, xticklabels = models_name, yticklabels = models_name)\n",
    "plt.title(\"Heatmap for best solution\")"
   ]
  },
  {
   "cell_type": "markdown",
   "id": "5e6e2e7f",
   "metadata": {},
   "source": [
    "## Por tiempo"
   ]
  },
  {
   "cell_type": "code",
   "execution_count": 163,
   "id": "8e2124b1",
   "metadata": {
    "ExecuteTime": {
     "end_time": "2022-11-01T19:44:45.826304Z",
     "start_time": "2022-11-01T19:44:45.768310Z"
    }
   },
   "outputs": [],
   "source": [
    "MT = np.zeros((models_name.shape[0], models_name.shape[0]))\n",
    "for graph in Full.graph.unique():\n",
    "    Temp = np.array(Full.query(f\"graph == '{graph}'\").sort_values(by = \"t_mean\", ascending=False).model)\n",
    "    for m in range(Temp.shape[0]):\n",
    "\n",
    "        if (m + 1) == Temp.shape[0]:\n",
    "            MT[ Dict[ Temp[m] ] ][ Dict[ Temp[m] ] ] += 1\n",
    "            continue\n",
    "        MT[ Dict[ Temp[m] ] ][ Dict[ Temp[m + 1] ] ] += 1\n",
    "MT_ = MT / np.sum(MT, axis = 0)"
   ]
  },
  {
   "cell_type": "code",
   "execution_count": 167,
   "id": "275dad23",
   "metadata": {
    "ExecuteTime": {
     "end_time": "2022-11-01T19:45:02.251655Z",
     "start_time": "2022-11-01T19:45:02.232384Z"
    }
   },
   "outputs": [
    {
     "name": "stdout",
     "output_type": "stream",
     "text": [
      "[0.18722467 0.30567792 0.33088595 0.17621145] \n",
      " ['GCN' 'GRAT' 'GraphConv' 'GAT']\n"
     ]
    }
   ],
   "source": [
    "SPD = np.ones(MT_.shape[0])/MT_.shape[0] # initial distirbution\n",
    "for _ in range(100):\n",
    "    SPD = np.dot(MT_, SPD)\n",
    "print(SPD, '\\n',models_name)"
   ]
  },
  {
   "cell_type": "code",
   "execution_count": 168,
   "id": "1d186561",
   "metadata": {
    "ExecuteTime": {
     "end_time": "2022-11-01T19:45:02.811418Z",
     "start_time": "2022-11-01T19:45:02.803385Z"
    }
   },
   "outputs": [
    {
     "data": {
      "text/plain": [
       "array(['GraphConv', 'GRAT', 'GCN', 'GAT'], dtype=object)"
      ]
     },
     "execution_count": 168,
     "metadata": {},
     "output_type": "execute_result"
    }
   ],
   "source": [
    "models_name[np.argsort(-SPD)]"
   ]
  },
  {
   "cell_type": "code",
   "execution_count": 169,
   "id": "ad543be7",
   "metadata": {
    "ExecuteTime": {
     "end_time": "2022-11-01T19:45:03.316679Z",
     "start_time": "2022-11-01T19:45:03.037378Z"
    }
   },
   "outputs": [
    {
     "data": {
      "text/plain": [
       "Text(0.5, 1.0, 'Heatmap for fastest solution')"
      ]
     },
     "execution_count": 169,
     "metadata": {},
     "output_type": "execute_result"
    },
    {
     "data": {
      "image/png": "[encoded data removed]",
      "text/plain": [
       "<Figure size 640x480 with 2 Axes>"
      ]
     },
     "metadata": {},
     "output_type": "display_data"
    }
   ],
   "source": [
    "sns.heatmap(MT_, annot = True, xticklabels = models_name, yticklabels = models_name)\n",
    "plt.title(\"Heatmap for fastest solution\")"
   ]
  },
  {
   "cell_type": "code",
   "execution_count": null,
   "id": "03a0378f",
   "metadata": {},
   "outputs": [],
   "source": []
  }
 ],
 "metadata": {
  "hide_input": false,
  "kernelspec": {
   "display_name": "Python 3 (ipykernel)",
   "language": "python",
   "name": "python3"
  },
  "language_info": {
   "codemirror_mode": {
    "name": "ipython",
    "version": 3
   },
   "file_extension": ".py",
   "mimetype": "text/x-python",
   "name": "python",
   "nbconvert_exporter": "python",
   "pygments_lexer": "ipython3",
   "version": "3.8.5"
  },
  "varInspector": {
   "cols": {
    "lenName": 16,
    "lenType": 16,
    "lenVar": 40
   },
   "kernels_config": {
    "python": {
     "delete_cmd_postfix": "",
     "delete_cmd_prefix": "del ",
     "library": "var_list.py",
     "varRefreshCmd": "print(var_dic_list())"
    },
    "r": {
     "delete_cmd_postfix": ") ",
     "delete_cmd_prefix": "rm(",
     "library": "var_list.r",
     "varRefreshCmd": "cat(var_dic_list()) "
    }
   },
   "types_to_exclude": [
    "module",
    "function",
    "builtin_function_or_method",
    "instance",
    "_Feature"
   ],
   "window_display": false
  }
 },
 "nbformat": 4,
 "nbformat_minor": 5
}
