{
 "cells": [
  {
   "cell_type": "code",
   "execution_count": 1,
   "id": "5cdc2e61",
   "metadata": {
    "ExecuteTime": {
     "end_time": "2022-12-09T19:29:56.723735Z",
     "start_time": "2022-12-09T19:29:55.302760Z"
    }
   },
   "outputs": [],
   "source": [
    "import numpy as np\n",
    "import pandas as pd\n",
    "import plotly.express as px\n",
    "import seaborn as sns\n",
    "import matplotlib.pyplot as plt"
   ]
  },
  {
   "cell_type": "code",
   "execution_count": 21,
   "id": "e8225ed8",
   "metadata": {
    "ExecuteTime": {
     "end_time": "2022-12-09T19:33:32.206862Z",
     "start_time": "2022-12-09T19:33:32.199451Z"
    }
   },
   "outputs": [],
   "source": [
    "general = 'Erdos'\n",
    "tipo = \"Erdos_MDH_Erdos\"\n",
    "subfijo = \"_EME\""
   ]
  },
  {
   "cell_type": "code",
   "execution_count": 22,
   "id": "f1102e59",
   "metadata": {
    "ExecuteTime": {
     "end_time": "2022-12-09T19:33:32.380122Z",
     "start_time": "2022-12-09T19:33:32.369139Z"
    }
   },
   "outputs": [],
   "source": [
    "\"\"\"\n",
    "EME: GRAT ~ GAT > MDH\n",
    "EMS: GAT > SAGE > MDH > GRAT\n",
    "SME: GRAT > MDH > GNN\n",
    "SMS: GAT > MDH > > GRAT\n",
    "\n",
    "SIE: MDH > GRAT > SAGE\n",
    "EIE: MDH > SAGE > GRAT\n",
    "SIS:\n",
    "EIS:\n",
    "\"\"\";"
   ]
  },
  {
   "cell_type": "code",
   "execution_count": 23,
   "id": "5dfa5fa8",
   "metadata": {
    "ExecuteTime": {
     "end_time": "2022-12-09T19:33:32.600632Z",
     "start_time": "2022-12-09T19:33:32.580692Z"
    }
   },
   "outputs": [],
   "source": [
    "\"\"\"\n",
    "Por sí solas las GNN no parecen ser mejores heurísticas que MDH\n",
    "Una posible forma es comenzar a tunnear un poco los parámetros, quizá se está haciendo un sobre ajuste con 20 epochs\n",
    "Buscar una combinación que minimice la función de costo en lugar de maximizar el accuracy podría ayudar\n",
    "Tal vez un Early stopping con un set de validación podría ser una buena opción\n",
    "\n",
    "Además, ¿no deberíamos de escalar el MDH para tener una probabilidad?\n",
    "Si 1: 100 * 0.1 = 10\n",
    "y  2: 90  * 0.9 = 9 \n",
    "¿?\n",
    "\n",
    "a * p1 > b * p2\n",
    "(a - min)/(max-min) * p1 > (b - min)/(max-min) * p2\n",
    "(a - min) * p1 > (b - min) * p2\n",
    "a*p1 - min*p1 > b*p2 - min *p2\n",
    "\n",
    "a*p1 > b*p2 + min*(p1 - p2) ¿?\n",
    "\n",
    "si p1 > p2 es posible que se revierta, entonces es posible que ayude incluirla\n",
    "\n",
    "Es difuso de ver\n",
    "\"\"\";"
   ]
  },
  {
   "cell_type": "code",
   "execution_count": 24,
   "id": "d4169fc4",
   "metadata": {
    "ExecuteTime": {
     "end_time": "2022-12-09T19:33:33.104122Z",
     "start_time": "2022-12-09T19:33:33.077401Z"
    }
   },
   "outputs": [
    {
     "data": {
      "text/html": [
       "<div>\n",
       "<style scoped>\n",
       "    .dataframe tbody tr th:only-of-type {\n",
       "        vertical-align: middle;\n",
       "    }\n",
       "\n",
       "    .dataframe tbody tr th {\n",
       "        vertical-align: top;\n",
       "    }\n",
       "\n",
       "    .dataframe thead th {\n",
       "        text-align: right;\n",
       "    }\n",
       "</style>\n",
       "<table border=\"1\" class=\"dataframe\">\n",
       "  <thead>\n",
       "    <tr style=\"text-align: right;\">\n",
       "      <th></th>\n",
       "      <th>graph</th>\n",
       "      <th>model</th>\n",
       "      <th>target_size</th>\n",
       "      <th>n</th>\n",
       "      <th>t_mean</th>\n",
       "    </tr>\n",
       "  </thead>\n",
       "  <tbody>\n",
       "    <tr>\n",
       "      <th>0</th>\n",
       "      <td>ER_10000_10_0</td>\n",
       "      <td>GRAT</td>\n",
       "      <td>1659</td>\n",
       "      <td>10000</td>\n",
       "      <td>0.064</td>\n",
       "    </tr>\n",
       "    <tr>\n",
       "      <th>1</th>\n",
       "      <td>ER_10000_10_1</td>\n",
       "      <td>GRAT</td>\n",
       "      <td>1638</td>\n",
       "      <td>10000</td>\n",
       "      <td>0.066</td>\n",
       "    </tr>\n",
       "    <tr>\n",
       "      <th>2</th>\n",
       "      <td>ER_10000_15_0</td>\n",
       "      <td>GRAT</td>\n",
       "      <td>1974</td>\n",
       "      <td>10000</td>\n",
       "      <td>0.081</td>\n",
       "    </tr>\n",
       "    <tr>\n",
       "      <th>3</th>\n",
       "      <td>ER_10000_15_1</td>\n",
       "      <td>GRAT</td>\n",
       "      <td>1971</td>\n",
       "      <td>10000</td>\n",
       "      <td>0.103</td>\n",
       "    </tr>\n",
       "    <tr>\n",
       "      <th>4</th>\n",
       "      <td>ER_10000_20_0</td>\n",
       "      <td>GRAT</td>\n",
       "      <td>2258</td>\n",
       "      <td>10000</td>\n",
       "      <td>0.122</td>\n",
       "    </tr>\n",
       "  </tbody>\n",
       "</table>\n",
       "</div>"
      ],
      "text/plain": [
       "           graph model  target_size      n  t_mean\n",
       "0  ER_10000_10_0  GRAT         1659  10000   0.064\n",
       "1  ER_10000_10_1  GRAT         1638  10000   0.066\n",
       "2  ER_10000_15_0  GRAT         1974  10000   0.081\n",
       "3  ER_10000_15_1  GRAT         1971  10000   0.103\n",
       "4  ER_10000_20_0  GRAT         2258  10000   0.122"
      ]
     },
     "execution_count": 24,
     "metadata": {},
     "output_type": "execute_result"
    }
   ],
   "source": [
    "FastCover = pd.read_csv(f\"FastCover/results/{tipo}/FCResults{subfijo}.txt\", header = None)\n",
    "#FastCover = pd.read_csv(\"FastCover/results/paper/FastCoverResults_MDH_erdos.txt\", header = None)\n",
    "FastCover.columns = [\"graph\", \"target_size\",\"t_mean\",\"n\"]\n",
    "FastCover[\"model\"] = \"GRAT\"\n",
    "FastCover = FastCover[[\"graph\", \"model\",\"target_size\", \"n\", \"t_mean\"]]\n",
    "FastCover.head()"
   ]
  },
  {
   "cell_type": "code",
   "execution_count": 25,
   "id": "122c71a7",
   "metadata": {
    "ExecuteTime": {
     "end_time": "2022-12-09T19:33:33.746933Z",
     "start_time": "2022-12-09T19:33:33.718167Z"
    }
   },
   "outputs": [
    {
     "name": "stdout",
     "output_type": "stream",
     "text": [
      "(72, 5)\n"
     ]
    },
    {
     "data": {
      "text/html": [
       "<div>\n",
       "<style scoped>\n",
       "    .dataframe tbody tr th:only-of-type {\n",
       "        vertical-align: middle;\n",
       "    }\n",
       "\n",
       "    .dataframe tbody tr th {\n",
       "        vertical-align: top;\n",
       "    }\n",
       "\n",
       "    .dataframe thead th {\n",
       "        text-align: right;\n",
       "    }\n",
       "</style>\n",
       "<table border=\"1\" class=\"dataframe\">\n",
       "  <thead>\n",
       "    <tr style=\"text-align: right;\">\n",
       "      <th></th>\n",
       "      <th>graph</th>\n",
       "      <th>model</th>\n",
       "      <th>target_size</th>\n",
       "      <th>n</th>\n",
       "      <th>t_mean</th>\n",
       "    </tr>\n",
       "  </thead>\n",
       "  <tbody>\n",
       "    <tr>\n",
       "      <th>0</th>\n",
       "      <td>ER_10000_10_0</td>\n",
       "      <td>GAT</td>\n",
       "      <td>1752</td>\n",
       "      <td>10000</td>\n",
       "      <td>0.063</td>\n",
       "    </tr>\n",
       "    <tr>\n",
       "      <th>1</th>\n",
       "      <td>ER_10000_10_1</td>\n",
       "      <td>GAT</td>\n",
       "      <td>1718</td>\n",
       "      <td>10000</td>\n",
       "      <td>0.061</td>\n",
       "    </tr>\n",
       "    <tr>\n",
       "      <th>2</th>\n",
       "      <td>ER_10000_15_0</td>\n",
       "      <td>GAT</td>\n",
       "      <td>2079</td>\n",
       "      <td>10000</td>\n",
       "      <td>0.087</td>\n",
       "    </tr>\n",
       "    <tr>\n",
       "      <th>3</th>\n",
       "      <td>ER_10000_15_1</td>\n",
       "      <td>GAT</td>\n",
       "      <td>2112</td>\n",
       "      <td>10000</td>\n",
       "      <td>0.084</td>\n",
       "    </tr>\n",
       "    <tr>\n",
       "      <th>4</th>\n",
       "      <td>ER_10000_20_0</td>\n",
       "      <td>GAT</td>\n",
       "      <td>2330</td>\n",
       "      <td>10000</td>\n",
       "      <td>0.144</td>\n",
       "    </tr>\n",
       "  </tbody>\n",
       "</table>\n",
       "</div>"
      ],
      "text/plain": [
       "           graph model  target_size      n  t_mean\n",
       "0  ER_10000_10_0   GAT         1752  10000   0.063\n",
       "1  ER_10000_10_1   GAT         1718  10000   0.061\n",
       "2  ER_10000_15_0   GAT         2079  10000   0.087\n",
       "3  ER_10000_15_1   GAT         2112  10000   0.084\n",
       "4  ER_10000_20_0   GAT         2330  10000   0.144"
      ]
     },
     "execution_count": 25,
     "metadata": {},
     "output_type": "execute_result"
    }
   ],
   "source": [
    "models = ['GAT', \"GCN\", \"GraphConv\", \"SAGE\"]\n",
    "Full = pd.DataFrame()\n",
    "\n",
    "for model in models:\n",
    "    \n",
    "    GNN = pd.read_csv(f\"Models/results/{tipo}/{model}Results{subfijo}.txt\", header = None)\n",
    "    #GNN = pd.read_csv(f\"Models/results/paper/{model}Results_MDH_erdos.txt\", header = None)\n",
    "    \n",
    "    GNN.columns = [\"graph\", \"target_size\",\"t_mean\",\"n\"]\n",
    "    GNN[\"model\"] = model\n",
    "    GNN = GNN[[\"graph\", \"model\",\"target_size\", \"n\", \"t_mean\"]]\n",
    "    \n",
    "    Full = pd.concat([Full, GNN])\n",
    "    \n",
    "print(Full.shape)\n",
    "Full.head()"
   ]
  },
  {
   "cell_type": "code",
   "execution_count": 26,
   "id": "66d5a85f",
   "metadata": {
    "ExecuteTime": {
     "end_time": "2022-12-09T19:33:34.521971Z",
     "start_time": "2022-12-09T19:33:34.493983Z"
    }
   },
   "outputs": [
    {
     "name": "stdout",
     "output_type": "stream",
     "text": [
      "(18, 5)\n"
     ]
    },
    {
     "data": {
      "text/html": [
       "<div>\n",
       "<style scoped>\n",
       "    .dataframe tbody tr th:only-of-type {\n",
       "        vertical-align: middle;\n",
       "    }\n",
       "\n",
       "    .dataframe tbody tr th {\n",
       "        vertical-align: top;\n",
       "    }\n",
       "\n",
       "    .dataframe thead th {\n",
       "        text-align: right;\n",
       "    }\n",
       "</style>\n",
       "<table border=\"1\" class=\"dataframe\">\n",
       "  <thead>\n",
       "    <tr style=\"text-align: right;\">\n",
       "      <th></th>\n",
       "      <th>graph</th>\n",
       "      <th>model</th>\n",
       "      <th>target_size</th>\n",
       "      <th>n</th>\n",
       "      <th>t_mean</th>\n",
       "    </tr>\n",
       "  </thead>\n",
       "  <tbody>\n",
       "    <tr>\n",
       "      <th>0</th>\n",
       "      <td>ER_10000_10_0</td>\n",
       "      <td>MDH</td>\n",
       "      <td>1617</td>\n",
       "      <td>10000</td>\n",
       "      <td>0.065</td>\n",
       "    </tr>\n",
       "    <tr>\n",
       "      <th>1</th>\n",
       "      <td>ER_10000_10_1</td>\n",
       "      <td>MDH</td>\n",
       "      <td>1618</td>\n",
       "      <td>10000</td>\n",
       "      <td>0.069</td>\n",
       "    </tr>\n",
       "    <tr>\n",
       "      <th>2</th>\n",
       "      <td>ER_10000_15_0</td>\n",
       "      <td>MDH</td>\n",
       "      <td>1980</td>\n",
       "      <td>10000</td>\n",
       "      <td>0.099</td>\n",
       "    </tr>\n",
       "    <tr>\n",
       "      <th>3</th>\n",
       "      <td>ER_10000_15_1</td>\n",
       "      <td>MDH</td>\n",
       "      <td>1962</td>\n",
       "      <td>10000</td>\n",
       "      <td>0.091</td>\n",
       "    </tr>\n",
       "    <tr>\n",
       "      <th>4</th>\n",
       "      <td>ER_10000_20_0</td>\n",
       "      <td>MDH</td>\n",
       "      <td>2274</td>\n",
       "      <td>10000</td>\n",
       "      <td>0.114</td>\n",
       "    </tr>\n",
       "  </tbody>\n",
       "</table>\n",
       "</div>"
      ],
      "text/plain": [
       "           graph model  target_size      n  t_mean\n",
       "0  ER_10000_10_0   MDH         1617  10000   0.065\n",
       "1  ER_10000_10_1   MDH         1618  10000   0.069\n",
       "2  ER_10000_15_0   MDH         1980  10000   0.099\n",
       "3  ER_10000_15_1   MDH         1962  10000   0.091\n",
       "4  ER_10000_20_0   MDH         2274  10000   0.114"
      ]
     },
     "execution_count": 26,
     "metadata": {},
     "output_type": "execute_result"
    }
   ],
   "source": [
    "MDH = pd.read_csv(f\"MDH/MDH_{general}_Results.txt\", header = None)\n",
    "MDH.columns = [\"graph\", \"target_size\",\"t_mean\",\"n\"]\n",
    "MDH[\"model\"] = 'MDH'\n",
    "MDH = MDH[[\"graph\", \"model\",\"target_size\", \"n\", \"t_mean\"]]\n",
    "print(MDH.shape)\n",
    "MDH.head()"
   ]
  },
  {
   "cell_type": "code",
   "execution_count": 27,
   "id": "8c9279f4",
   "metadata": {
    "ExecuteTime": {
     "end_time": "2022-12-09T19:33:35.347341Z",
     "start_time": "2022-12-09T19:33:35.333409Z"
    }
   },
   "outputs": [],
   "source": [
    "Full = pd.concat([Full, MDH, FastCover])\n",
    "Full['ratio'] =  Full.target_size/Full.n"
   ]
  },
  {
   "cell_type": "code",
   "execution_count": 28,
   "id": "fa551e4a",
   "metadata": {
    "ExecuteTime": {
     "end_time": "2022-12-09T19:33:35.868509Z",
     "start_time": "2022-12-09T19:33:35.852177Z"
    }
   },
   "outputs": [
    {
     "data": {
      "text/html": [
       "<div>\n",
       "<style scoped>\n",
       "    .dataframe tbody tr th:only-of-type {\n",
       "        vertical-align: middle;\n",
       "    }\n",
       "\n",
       "    .dataframe tbody tr th {\n",
       "        vertical-align: top;\n",
       "    }\n",
       "\n",
       "    .dataframe thead th {\n",
       "        text-align: right;\n",
       "    }\n",
       "</style>\n",
       "<table border=\"1\" class=\"dataframe\">\n",
       "  <thead>\n",
       "    <tr style=\"text-align: right;\">\n",
       "      <th></th>\n",
       "      <th>index</th>\n",
       "      <th>graph</th>\n",
       "      <th>model</th>\n",
       "      <th>target_size</th>\n",
       "      <th>n</th>\n",
       "      <th>t_mean</th>\n",
       "      <th>ratio</th>\n",
       "    </tr>\n",
       "  </thead>\n",
       "  <tbody>\n",
       "    <tr>\n",
       "      <th>0</th>\n",
       "      <td>0</td>\n",
       "      <td>ER_10000_10_0</td>\n",
       "      <td>GAT</td>\n",
       "      <td>1752</td>\n",
       "      <td>10000</td>\n",
       "      <td>0.063</td>\n",
       "      <td>0.175200</td>\n",
       "    </tr>\n",
       "    <tr>\n",
       "      <th>1</th>\n",
       "      <td>1</td>\n",
       "      <td>ER_10000_10_1</td>\n",
       "      <td>GAT</td>\n",
       "      <td>1718</td>\n",
       "      <td>10000</td>\n",
       "      <td>0.061</td>\n",
       "      <td>0.171800</td>\n",
       "    </tr>\n",
       "    <tr>\n",
       "      <th>2</th>\n",
       "      <td>2</td>\n",
       "      <td>ER_10000_15_0</td>\n",
       "      <td>GAT</td>\n",
       "      <td>2079</td>\n",
       "      <td>10000</td>\n",
       "      <td>0.087</td>\n",
       "      <td>0.207900</td>\n",
       "    </tr>\n",
       "    <tr>\n",
       "      <th>3</th>\n",
       "      <td>3</td>\n",
       "      <td>ER_10000_15_1</td>\n",
       "      <td>GAT</td>\n",
       "      <td>2112</td>\n",
       "      <td>10000</td>\n",
       "      <td>0.084</td>\n",
       "      <td>0.211200</td>\n",
       "    </tr>\n",
       "    <tr>\n",
       "      <th>4</th>\n",
       "      <td>4</td>\n",
       "      <td>ER_10000_20_0</td>\n",
       "      <td>GAT</td>\n",
       "      <td>2330</td>\n",
       "      <td>10000</td>\n",
       "      <td>0.144</td>\n",
       "      <td>0.233000</td>\n",
       "    </tr>\n",
       "    <tr>\n",
       "      <th>...</th>\n",
       "      <td>...</td>\n",
       "      <td>...</td>\n",
       "      <td>...</td>\n",
       "      <td>...</td>\n",
       "      <td>...</td>\n",
       "      <td>...</td>\n",
       "      <td>...</td>\n",
       "    </tr>\n",
       "    <tr>\n",
       "      <th>103</th>\n",
       "      <td>13</td>\n",
       "      <td>ER_30000_15_0</td>\n",
       "      <td>GRAT</td>\n",
       "      <td>5906</td>\n",
       "      <td>30000</td>\n",
       "      <td>0.554</td>\n",
       "      <td>0.196867</td>\n",
       "    </tr>\n",
       "    <tr>\n",
       "      <th>104</th>\n",
       "      <td>14</td>\n",
       "      <td>ER_30000_20_0</td>\n",
       "      <td>GRAT</td>\n",
       "      <td>6706</td>\n",
       "      <td>30000</td>\n",
       "      <td>0.644</td>\n",
       "      <td>0.223533</td>\n",
       "    </tr>\n",
       "    <tr>\n",
       "      <th>105</th>\n",
       "      <td>15</td>\n",
       "      <td>ER_50000_10_0</td>\n",
       "      <td>GRAT</td>\n",
       "      <td>13320</td>\n",
       "      <td>50000</td>\n",
       "      <td>2.355</td>\n",
       "      <td>0.266400</td>\n",
       "    </tr>\n",
       "    <tr>\n",
       "      <th>106</th>\n",
       "      <td>16</td>\n",
       "      <td>ER_50000_15_0</td>\n",
       "      <td>GRAT</td>\n",
       "      <td>9849</td>\n",
       "      <td>50000</td>\n",
       "      <td>1.516</td>\n",
       "      <td>0.196980</td>\n",
       "    </tr>\n",
       "    <tr>\n",
       "      <th>107</th>\n",
       "      <td>17</td>\n",
       "      <td>ER_50000_20_0</td>\n",
       "      <td>GRAT</td>\n",
       "      <td>11175</td>\n",
       "      <td>50000</td>\n",
       "      <td>1.801</td>\n",
       "      <td>0.223500</td>\n",
       "    </tr>\n",
       "  </tbody>\n",
       "</table>\n",
       "<p>108 rows × 7 columns</p>\n",
       "</div>"
      ],
      "text/plain": [
       "     index          graph model  target_size      n  t_mean     ratio\n",
       "0        0  ER_10000_10_0   GAT         1752  10000   0.063  0.175200\n",
       "1        1  ER_10000_10_1   GAT         1718  10000   0.061  0.171800\n",
       "2        2  ER_10000_15_0   GAT         2079  10000   0.087  0.207900\n",
       "3        3  ER_10000_15_1   GAT         2112  10000   0.084  0.211200\n",
       "4        4  ER_10000_20_0   GAT         2330  10000   0.144  0.233000\n",
       "..     ...            ...   ...          ...    ...     ...       ...\n",
       "103     13  ER_30000_15_0  GRAT         5906  30000   0.554  0.196867\n",
       "104     14  ER_30000_20_0  GRAT         6706  30000   0.644  0.223533\n",
       "105     15  ER_50000_10_0  GRAT        13320  50000   2.355  0.266400\n",
       "106     16  ER_50000_15_0  GRAT         9849  50000   1.516  0.196980\n",
       "107     17  ER_50000_20_0  GRAT        11175  50000   1.801  0.223500\n",
       "\n",
       "[108 rows x 7 columns]"
      ]
     },
     "execution_count": 28,
     "metadata": {},
     "output_type": "execute_result"
    }
   ],
   "source": [
    "#Full = Full.sort_values(by=['n'])\n",
    "Full = Full.reset_index()\n",
    "Full"
   ]
  },
  {
   "cell_type": "code",
   "execution_count": 29,
   "id": "1f7e1517",
   "metadata": {
    "ExecuteTime": {
     "end_time": "2022-12-09T19:33:36.401820Z",
     "start_time": "2022-12-09T19:33:36.369093Z"
    }
   },
   "outputs": [],
   "source": [
    "Full['target_size_diff'] = ( np.array(Full.target_size) - np.tile(MDH.target_size, 6) )"
   ]
  },
  {
   "cell_type": "code",
   "execution_count": 30,
   "id": "062fea08",
   "metadata": {
    "ExecuteTime": {
     "end_time": "2022-12-09T19:33:36.675870Z",
     "start_time": "2022-12-09T19:33:36.664388Z"
    }
   },
   "outputs": [
    {
     "data": {
      "text/plain": [
       "108"
      ]
     },
     "execution_count": 30,
     "metadata": {},
     "output_type": "execute_result"
    }
   ],
   "source": [
    "Full.model.count()"
   ]
  },
  {
   "cell_type": "code",
   "execution_count": 31,
   "id": "e1bacaec",
   "metadata": {
    "ExecuteTime": {
     "end_time": "2022-12-09T19:33:37.447856Z",
     "start_time": "2022-12-09T19:33:37.338178Z"
    }
   },
   "outputs": [
    {
     "data": {
      "application/vnd.plotly.v1+json": {
       "config": {
        "plotlyServerURL": "https://plot.ly"
       },
       "data": [
        {
         "alignmentgroup": "True",
         "bingroup": "x",
         "histfunc": "sum",
         "hovertemplate": "model=GAT<br>graph=%{x}<br>sum of target_size=%{y}<extra></extra>",
         "legendgroup": "GAT",
         "marker": {
          "color": "#636efa"
         },
         "name": "GAT",
         "offsetgroup": "GAT",
         "orientation": "v",
         "showlegend": true,
         "type": "histogram",
         "x": [
          "ER_10000_10_0",
          "ER_10000_10_1",
          "ER_10000_15_0",
          "ER_10000_15_1",
          "ER_10000_20_0",
          "ER_10000_20_1",
          "ER_20000_10_0",
          "ER_20000_10_1",
          "ER_20000_15_0",
          "ER_20000_15_1",
          "ER_20000_20_0",
          "ER_20000_20_1",
          "ER_30000_10_0",
          "ER_30000_15_0",
          "ER_30000_20_0",
          "ER_50000_10_0",
          "ER_50000_15_0",
          "ER_50000_20_0"
         ],
         "xaxis": "x",
         "y": [
          1752,
          1718,
          2079,
          2112,
          2330,
          2328,
          3406,
          3371,
          4123,
          4151,
          4645,
          4709,
          5175,
          6213,
          7031,
          11615,
          10220,
          11463
         ],
         "yaxis": "y"
        },
        {
         "alignmentgroup": "True",
         "bingroup": "x",
         "histfunc": "sum",
         "hovertemplate": "model=GCN<br>graph=%{x}<br>sum of target_size=%{y}<extra></extra>",
         "legendgroup": "GCN",
         "marker": {
          "color": "#EF553B"
         },
         "name": "GCN",
         "offsetgroup": "GCN",
         "orientation": "v",
         "showlegend": true,
         "type": "histogram",
         "x": [
          "ER_10000_10_0",
          "ER_10000_10_1",
          "ER_10000_15_0",
          "ER_10000_15_1",
          "ER_10000_20_0",
          "ER_10000_20_1",
          "ER_20000_10_0",
          "ER_20000_10_1",
          "ER_20000_15_0",
          "ER_20000_15_1",
          "ER_20000_20_0",
          "ER_20000_20_1",
          "ER_30000_10_0",
          "ER_30000_15_0",
          "ER_30000_20_0",
          "ER_50000_10_0",
          "ER_50000_15_0",
          "ER_50000_20_0"
         ],
         "xaxis": "x",
         "y": [
          1922,
          1914,
          2278,
          2238,
          2466,
          2462,
          3790,
          3843,
          4522,
          4545,
          5027,
          4981,
          5756,
          6794,
          7572,
          12391,
          11074,
          12405
         ],
         "yaxis": "y"
        },
        {
         "alignmentgroup": "True",
         "bingroup": "x",
         "histfunc": "sum",
         "hovertemplate": "model=GraphConv<br>graph=%{x}<br>sum of target_size=%{y}<extra></extra>",
         "legendgroup": "GraphConv",
         "marker": {
          "color": "#00cc96"
         },
         "name": "GraphConv",
         "offsetgroup": "GraphConv",
         "orientation": "v",
         "showlegend": true,
         "type": "histogram",
         "x": [
          "ER_10000_10_0",
          "ER_10000_10_1",
          "ER_10000_15_0",
          "ER_10000_15_1",
          "ER_10000_20_0",
          "ER_10000_20_1",
          "ER_20000_10_0",
          "ER_20000_10_1",
          "ER_20000_15_0",
          "ER_20000_15_1",
          "ER_20000_20_0",
          "ER_20000_20_1",
          "ER_30000_10_0",
          "ER_30000_15_0",
          "ER_30000_20_0",
          "ER_50000_10_0",
          "ER_50000_15_0",
          "ER_50000_20_0"
         ],
         "xaxis": "x",
         "y": [
          1965,
          1937,
          2434,
          2426,
          2769,
          2775,
          3940,
          3941,
          4850,
          4905,
          5418,
          5585,
          5921,
          7269,
          8349,
          13111,
          12285,
          13773
         ],
         "yaxis": "y"
        },
        {
         "alignmentgroup": "True",
         "bingroup": "x",
         "histfunc": "sum",
         "hovertemplate": "model=SAGE<br>graph=%{x}<br>sum of target_size=%{y}<extra></extra>",
         "legendgroup": "SAGE",
         "marker": {
          "color": "#ab63fa"
         },
         "name": "SAGE",
         "offsetgroup": "SAGE",
         "orientation": "v",
         "showlegend": true,
         "type": "histogram",
         "x": [
          "ER_10000_10_0",
          "ER_10000_10_1",
          "ER_10000_15_0",
          "ER_10000_15_1",
          "ER_10000_20_0",
          "ER_10000_20_1",
          "ER_20000_10_0",
          "ER_20000_10_1",
          "ER_20000_15_0",
          "ER_20000_15_1",
          "ER_20000_20_0",
          "ER_20000_20_1",
          "ER_30000_10_0",
          "ER_30000_15_0",
          "ER_30000_20_0",
          "ER_50000_10_0",
          "ER_50000_15_0",
          "ER_50000_20_0"
         ],
         "xaxis": "x",
         "y": [
          1624,
          1673,
          2056,
          2053,
          2312,
          2308,
          3391,
          3262,
          4090,
          4042,
          4635,
          4588,
          5045,
          6178,
          6911,
          14548,
          10330,
          11538
         ],
         "yaxis": "y"
        },
        {
         "alignmentgroup": "True",
         "bingroup": "x",
         "histfunc": "sum",
         "hovertemplate": "model=MDH<br>graph=%{x}<br>sum of target_size=%{y}<extra></extra>",
         "legendgroup": "MDH",
         "marker": {
          "color": "#FFA15A"
         },
         "name": "MDH",
         "offsetgroup": "MDH",
         "orientation": "v",
         "showlegend": true,
         "type": "histogram",
         "x": [
          "ER_10000_10_0",
          "ER_10000_10_1",
          "ER_10000_15_0",
          "ER_10000_15_1",
          "ER_10000_20_0",
          "ER_10000_20_1",
          "ER_20000_10_0",
          "ER_20000_10_1",
          "ER_20000_15_0",
          "ER_20000_15_1",
          "ER_20000_20_0",
          "ER_20000_20_1",
          "ER_30000_10_0",
          "ER_30000_15_0",
          "ER_30000_20_0",
          "ER_50000_10_0",
          "ER_50000_15_0",
          "ER_50000_20_0"
         ],
         "xaxis": "x",
         "y": [
          1617,
          1618,
          1980,
          1962,
          2274,
          2265,
          3227,
          3192,
          3951,
          3956,
          4513,
          4543,
          4863,
          5936,
          6772,
          11245,
          9903,
          11217
         ],
         "yaxis": "y"
        },
        {
         "alignmentgroup": "True",
         "bingroup": "x",
         "histfunc": "sum",
         "hovertemplate": "model=GRAT<br>graph=%{x}<br>sum of target_size=%{y}<extra></extra>",
         "legendgroup": "GRAT",
         "marker": {
          "color": "#19d3f3"
         },
         "name": "GRAT",
         "offsetgroup": "GRAT",
         "orientation": "v",
         "showlegend": true,
         "type": "histogram",
         "x": [
          "ER_10000_10_0",
          "ER_10000_10_1",
          "ER_10000_15_0",
          "ER_10000_15_1",
          "ER_10000_20_0",
          "ER_10000_20_1",
          "ER_20000_10_0",
          "ER_20000_10_1",
          "ER_20000_15_0",
          "ER_20000_15_1",
          "ER_20000_20_0",
          "ER_20000_20_1",
          "ER_30000_10_0",
          "ER_30000_15_0",
          "ER_30000_20_0",
          "ER_50000_10_0",
          "ER_50000_15_0",
          "ER_50000_20_0"
         ],
         "xaxis": "x",
         "y": [
          1659,
          1638,
          1974,
          1971,
          2258,
          2258,
          3294,
          3234,
          3944,
          3938,
          4503,
          4523,
          4867,
          5906,
          6706,
          13320,
          9849,
          11175
         ],
         "yaxis": "y"
        }
       ],
       "layout": {
        "barmode": "group",
        "height": 400,
        "legend": {
         "title": {
          "text": "model"
         },
         "tracegroupgap": 0
        },
        "margin": {
         "t": 60
        },
        "template": {
         "data": {
          "bar": [
           {
            "error_x": {
             "color": "#2a3f5f"
            },
            "error_y": {
             "color": "#2a3f5f"
            },
            "marker": {
             "line": {
              "color": "#E5ECF6",
              "width": 0.5
             }
            },
            "type": "bar"
           }
          ],
          "barpolar": [
           {
            "marker": {
             "line": {
              "color": "#E5ECF6",
              "width": 0.5
             }
            },
            "type": "barpolar"
           }
          ],
          "carpet": [
           {
            "aaxis": {
             "endlinecolor": "#2a3f5f",
             "gridcolor": "white",
             "linecolor": "white",
             "minorgridcolor": "white",
             "startlinecolor": "#2a3f5f"
            },
            "baxis": {
             "endlinecolor": "#2a3f5f",
             "gridcolor": "white",
             "linecolor": "white",
             "minorgridcolor": "white",
             "startlinecolor": "#2a3f5f"
            },
            "type": "carpet"
           }
          ],
          "choropleth": [
           {
            "colorbar": {
             "outlinewidth": 0,
             "ticks": ""
            },
            "type": "choropleth"
           }
          ],
          "contour": [
           {
            "colorbar": {
             "outlinewidth": 0,
             "ticks": ""
            },
            "colorscale": [
             [
              0,
              "#0d0887"
             ],
             [
              0.1111111111111111,
              "#46039f"
             ],
             [
              0.2222222222222222,
              "#7201a8"
             ],
             [
              0.3333333333333333,
              "#9c179e"
             ],
             [
              0.4444444444444444,
              "#bd3786"
             ],
             [
              0.5555555555555556,
              "#d8576b"
             ],
             [
              0.6666666666666666,
              "#ed7953"
             ],
             [
              0.7777777777777778,
              "#fb9f3a"
             ],
             [
              0.8888888888888888,
              "#fdca26"
             ],
             [
              1,
              "#f0f921"
             ]
            ],
            "type": "contour"
           }
          ],
          "contourcarpet": [
           {
            "colorbar": {
             "outlinewidth": 0,
             "ticks": ""
            },
            "type": "contourcarpet"
           }
          ],
          "heatmap": [
           {
            "colorbar": {
             "outlinewidth": 0,
             "ticks": ""
            },
            "colorscale": [
             [
              0,
              "#0d0887"
             ],
             [
              0.1111111111111111,
              "#46039f"
             ],
             [
              0.2222222222222222,
              "#7201a8"
             ],
             [
              0.3333333333333333,
              "#9c179e"
             ],
             [
              0.4444444444444444,
              "#bd3786"
             ],
             [
              0.5555555555555556,
              "#d8576b"
             ],
             [
              0.6666666666666666,
              "#ed7953"
             ],
             [
              0.7777777777777778,
              "#fb9f3a"
             ],
             [
              0.8888888888888888,
              "#fdca26"
             ],
             [
              1,
              "#f0f921"
             ]
            ],
            "type": "heatmap"
           }
          ],
          "heatmapgl": [
           {
            "colorbar": {
             "outlinewidth": 0,
             "ticks": ""
            },
            "colorscale": [
             [
              0,
              "#0d0887"
             ],
             [
              0.1111111111111111,
              "#46039f"
             ],
             [
              0.2222222222222222,
              "#7201a8"
             ],
             [
              0.3333333333333333,
              "#9c179e"
             ],
             [
              0.4444444444444444,
              "#bd3786"
             ],
             [
              0.5555555555555556,
              "#d8576b"
             ],
             [
              0.6666666666666666,
              "#ed7953"
             ],
             [
              0.7777777777777778,
              "#fb9f3a"
             ],
             [
              0.8888888888888888,
              "#fdca26"
             ],
             [
              1,
              "#f0f921"
             ]
            ],
            "type": "heatmapgl"
           }
          ],
          "histogram": [
           {
            "marker": {
             "colorbar": {
              "outlinewidth": 0,
              "ticks": ""
             }
            },
            "type": "histogram"
           }
          ],
          "histogram2d": [
           {
            "colorbar": {
             "outlinewidth": 0,
             "ticks": ""
            },
            "colorscale": [
             [
              0,
              "#0d0887"
             ],
             [
              0.1111111111111111,
              "#46039f"
             ],
             [
              0.2222222222222222,
              "#7201a8"
             ],
             [
              0.3333333333333333,
              "#9c179e"
             ],
             [
              0.4444444444444444,
              "#bd3786"
             ],
             [
              0.5555555555555556,
              "#d8576b"
             ],
             [
              0.6666666666666666,
              "#ed7953"
             ],
             [
              0.7777777777777778,
              "#fb9f3a"
             ],
             [
              0.8888888888888888,
              "#fdca26"
             ],
             [
              1,
              "#f0f921"
             ]
            ],
            "type": "histogram2d"
           }
          ],
          "histogram2dcontour": [
           {
            "colorbar": {
             "outlinewidth": 0,
             "ticks": ""
            },
            "colorscale": [
             [
              0,
              "#0d0887"
             ],
             [
              0.1111111111111111,
              "#46039f"
             ],
             [
              0.2222222222222222,
              "#7201a8"
             ],
             [
              0.3333333333333333,
              "#9c179e"
             ],
             [
              0.4444444444444444,
              "#bd3786"
             ],
             [
              0.5555555555555556,
              "#d8576b"
             ],
             [
              0.6666666666666666,
              "#ed7953"
             ],
             [
              0.7777777777777778,
              "#fb9f3a"
             ],
             [
              0.8888888888888888,
              "#fdca26"
             ],
             [
              1,
              "#f0f921"
             ]
            ],
            "type": "histogram2dcontour"
           }
          ],
          "mesh3d": [
           {
            "colorbar": {
             "outlinewidth": 0,
             "ticks": ""
            },
            "type": "mesh3d"
           }
          ],
          "parcoords": [
           {
            "line": {
             "colorbar": {
              "outlinewidth": 0,
              "ticks": ""
             }
            },
            "type": "parcoords"
           }
          ],
          "pie": [
           {
            "automargin": true,
            "type": "pie"
           }
          ],
          "scatter": [
           {
            "marker": {
             "colorbar": {
              "outlinewidth": 0,
              "ticks": ""
             }
            },
            "type": "scatter"
           }
          ],
          "scatter3d": [
           {
            "line": {
             "colorbar": {
              "outlinewidth": 0,
              "ticks": ""
             }
            },
            "marker": {
             "colorbar": {
              "outlinewidth": 0,
              "ticks": ""
             }
            },
            "type": "scatter3d"
           }
          ],
          "scattercarpet": [
           {
            "marker": {
             "colorbar": {
              "outlinewidth": 0,
              "ticks": ""
             }
            },
            "type": "scattercarpet"
           }
          ],
          "scattergeo": [
           {
            "marker": {
             "colorbar": {
              "outlinewidth": 0,
              "ticks": ""
             }
            },
            "type": "scattergeo"
           }
          ],
          "scattergl": [
           {
            "marker": {
             "colorbar": {
              "outlinewidth": 0,
              "ticks": ""
             }
            },
            "type": "scattergl"
           }
          ],
          "scattermapbox": [
           {
            "marker": {
             "colorbar": {
              "outlinewidth": 0,
              "ticks": ""
             }
            },
            "type": "scattermapbox"
           }
          ],
          "scatterpolar": [
           {
            "marker": {
             "colorbar": {
              "outlinewidth": 0,
              "ticks": ""
             }
            },
            "type": "scatterpolar"
           }
          ],
          "scatterpolargl": [
           {
            "marker": {
             "colorbar": {
              "outlinewidth": 0,
              "ticks": ""
             }
            },
            "type": "scatterpolargl"
           }
          ],
          "scatterternary": [
           {
            "marker": {
             "colorbar": {
              "outlinewidth": 0,
              "ticks": ""
             }
            },
            "type": "scatterternary"
           }
          ],
          "surface": [
           {
            "colorbar": {
             "outlinewidth": 0,
             "ticks": ""
            },
            "colorscale": [
             [
              0,
              "#0d0887"
             ],
             [
              0.1111111111111111,
              "#46039f"
             ],
             [
              0.2222222222222222,
              "#7201a8"
             ],
             [
              0.3333333333333333,
              "#9c179e"
             ],
             [
              0.4444444444444444,
              "#bd3786"
             ],
             [
              0.5555555555555556,
              "#d8576b"
             ],
             [
              0.6666666666666666,
              "#ed7953"
             ],
             [
              0.7777777777777778,
              "#fb9f3a"
             ],
             [
              0.8888888888888888,
              "#fdca26"
             ],
             [
              1,
              "#f0f921"
             ]
            ],
            "type": "surface"
           }
          ],
          "table": [
           {
            "cells": {
             "fill": {
              "color": "#EBF0F8"
             },
             "line": {
              "color": "white"
             }
            },
            "header": {
             "fill": {
              "color": "#C8D4E3"
             },
             "line": {
              "color": "white"
             }
            },
            "type": "table"
           }
          ]
         },
         "layout": {
          "annotationdefaults": {
           "arrowcolor": "#2a3f5f",
           "arrowhead": 0,
           "arrowwidth": 1
          },
          "autotypenumbers": "strict",
          "coloraxis": {
           "colorbar": {
            "outlinewidth": 0,
            "ticks": ""
           }
          },
          "colorscale": {
           "diverging": [
            [
             0,
             "#8e0152"
            ],
            [
             0.1,
             "#c51b7d"
            ],
            [
             0.2,
             "#de77ae"
            ],
            [
             0.3,
             "#f1b6da"
            ],
            [
             0.4,
             "#fde0ef"
            ],
            [
             0.5,
             "#f7f7f7"
            ],
            [
             0.6,
             "#e6f5d0"
            ],
            [
             0.7,
             "#b8e186"
            ],
            [
             0.8,
             "#7fbc41"
            ],
            [
             0.9,
             "#4d9221"
            ],
            [
             1,
             "#276419"
            ]
           ],
           "sequential": [
            [
             0,
             "#0d0887"
            ],
            [
             0.1111111111111111,
             "#46039f"
            ],
            [
             0.2222222222222222,
             "#7201a8"
            ],
            [
             0.3333333333333333,
             "#9c179e"
            ],
            [
             0.4444444444444444,
             "#bd3786"
            ],
            [
             0.5555555555555556,
             "#d8576b"
            ],
            [
             0.6666666666666666,
             "#ed7953"
            ],
            [
             0.7777777777777778,
             "#fb9f3a"
            ],
            [
             0.8888888888888888,
             "#fdca26"
            ],
            [
             1,
             "#f0f921"
            ]
           ],
           "sequentialminus": [
            [
             0,
             "#0d0887"
            ],
            [
             0.1111111111111111,
             "#46039f"
            ],
            [
             0.2222222222222222,
             "#7201a8"
            ],
            [
             0.3333333333333333,
             "#9c179e"
            ],
            [
             0.4444444444444444,
             "#bd3786"
            ],
            [
             0.5555555555555556,
             "#d8576b"
            ],
            [
             0.6666666666666666,
             "#ed7953"
            ],
            [
             0.7777777777777778,
             "#fb9f3a"
            ],
            [
             0.8888888888888888,
             "#fdca26"
            ],
            [
             1,
             "#f0f921"
            ]
           ]
          },
          "colorway": [
           "#636efa",
           "#EF553B",
           "#00cc96",
           "#ab63fa",
           "#FFA15A",
           "#19d3f3",
           "#FF6692",
           "#B6E880",
           "#FF97FF",
           "#FECB52"
          ],
          "font": {
           "color": "#2a3f5f"
          },
          "geo": {
           "bgcolor": "white",
           "lakecolor": "white",
           "landcolor": "#E5ECF6",
           "showlakes": true,
           "showland": true,
           "subunitcolor": "white"
          },
          "hoverlabel": {
           "align": "left"
          },
          "hovermode": "closest",
          "mapbox": {
           "style": "light"
          },
          "paper_bgcolor": "white",
          "plot_bgcolor": "#E5ECF6",
          "polar": {
           "angularaxis": {
            "gridcolor": "white",
            "linecolor": "white",
            "ticks": ""
           },
           "bgcolor": "#E5ECF6",
           "radialaxis": {
            "gridcolor": "white",
            "linecolor": "white",
            "ticks": ""
           }
          },
          "scene": {
           "xaxis": {
            "backgroundcolor": "#E5ECF6",
            "gridcolor": "white",
            "gridwidth": 2,
            "linecolor": "white",
            "showbackground": true,
            "ticks": "",
            "zerolinecolor": "white"
           },
           "yaxis": {
            "backgroundcolor": "#E5ECF6",
            "gridcolor": "white",
            "gridwidth": 2,
            "linecolor": "white",
            "showbackground": true,
            "ticks": "",
            "zerolinecolor": "white"
           },
           "zaxis": {
            "backgroundcolor": "#E5ECF6",
            "gridcolor": "white",
            "gridwidth": 2,
            "linecolor": "white",
            "showbackground": true,
            "ticks": "",
            "zerolinecolor": "white"
           }
          },
          "shapedefaults": {
           "line": {
            "color": "#2a3f5f"
           }
          },
          "ternary": {
           "aaxis": {
            "gridcolor": "white",
            "linecolor": "white",
            "ticks": ""
           },
           "baxis": {
            "gridcolor": "white",
            "linecolor": "white",
            "ticks": ""
           },
           "bgcolor": "#E5ECF6",
           "caxis": {
            "gridcolor": "white",
            "linecolor": "white",
            "ticks": ""
           }
          },
          "title": {
           "x": 0.05
          },
          "xaxis": {
           "automargin": true,
           "gridcolor": "white",
           "linecolor": "white",
           "ticks": "",
           "title": {
            "standoff": 15
           },
           "zerolinecolor": "white",
           "zerolinewidth": 2
          },
          "yaxis": {
           "automargin": true,
           "gridcolor": "white",
           "linecolor": "white",
           "ticks": "",
           "title": {
            "standoff": 15
           },
           "zerolinecolor": "white",
           "zerolinewidth": 2
          }
         }
        },
        "xaxis": {
         "anchor": "y",
         "domain": [
          0,
          1
         ],
         "title": {
          "text": "graph"
         }
        },
        "yaxis": {
         "anchor": "x",
         "domain": [
          0,
          1
         ],
         "title": {
          "text": "sum of target_size"
         }
        }
       }
      },
      "text/html": [
       "<div>                            <div id=\"7fad9f99-e12b-4181-9bae-828038cbc366\" class=\"plotly-graph-div\" style=\"height:400px; width:100%;\"></div>            <script type=\"text/javascript\">                require([\"plotly\"], function(Plotly) {                    window.PLOTLYENV=window.PLOTLYENV || {};                                    if (document.getElementById(\"7fad9f99-e12b-4181-9bae-828038cbc366\")) {                    Plotly.newPlot(                        \"7fad9f99-e12b-4181-9bae-828038cbc366\",                        [{\"alignmentgroup\": \"True\", \"bingroup\": \"x\", \"histfunc\": \"sum\", \"hovertemplate\": \"model=GAT<br>graph=%{x}<br>sum of target_size=%{y}<extra></extra>\", \"legendgroup\": \"GAT\", \"marker\": {\"color\": \"#636efa\"}, \"name\": \"GAT\", \"offsetgroup\": \"GAT\", \"orientation\": \"v\", \"showlegend\": true, \"type\": \"histogram\", \"x\": [\"ER_10000_10_0\", \"ER_10000_10_1\", \"ER_10000_15_0\", \"ER_10000_15_1\", \"ER_10000_20_0\", \"ER_10000_20_1\", \"ER_20000_10_0\", \"ER_20000_10_1\", \"ER_20000_15_0\", \"ER_20000_15_1\", \"ER_20000_20_0\", \"ER_20000_20_1\", \"ER_30000_10_0\", \"ER_30000_15_0\", \"ER_30000_20_0\", \"ER_50000_10_0\", \"ER_50000_15_0\", \"ER_50000_20_0\"], \"xaxis\": \"x\", \"y\": [1752, 1718, 2079, 2112, 2330, 2328, 3406, 3371, 4123, 4151, 4645, 4709, 5175, 6213, 7031, 11615, 10220, 11463], \"yaxis\": \"y\"}, {\"alignmentgroup\": \"True\", \"bingroup\": \"x\", \"histfunc\": \"sum\", \"hovertemplate\": \"model=GCN<br>graph=%{x}<br>sum of target_size=%{y}<extra></extra>\", \"legendgroup\": \"GCN\", \"marker\": {\"color\": \"#EF553B\"}, \"name\": \"GCN\", \"offsetgroup\": \"GCN\", \"orientation\": \"v\", \"showlegend\": true, \"type\": \"histogram\", \"x\": [\"ER_10000_10_0\", \"ER_10000_10_1\", \"ER_10000_15_0\", \"ER_10000_15_1\", \"ER_10000_20_0\", \"ER_10000_20_1\", \"ER_20000_10_0\", \"ER_20000_10_1\", \"ER_20000_15_0\", \"ER_20000_15_1\", \"ER_20000_20_0\", \"ER_20000_20_1\", \"ER_30000_10_0\", \"ER_30000_15_0\", \"ER_30000_20_0\", \"ER_50000_10_0\", \"ER_50000_15_0\", \"ER_50000_20_0\"], \"xaxis\": \"x\", \"y\": [1922, 1914, 2278, 2238, 2466, 2462, 3790, 3843, 4522, 4545, 5027, 4981, 5756, 6794, 7572, 12391, 11074, 12405], \"yaxis\": \"y\"}, {\"alignmentgroup\": \"True\", \"bingroup\": \"x\", \"histfunc\": \"sum\", \"hovertemplate\": \"model=GraphConv<br>graph=%{x}<br>sum of target_size=%{y}<extra></extra>\", \"legendgroup\": \"GraphConv\", \"marker\": {\"color\": \"#00cc96\"}, \"name\": \"GraphConv\", \"offsetgroup\": \"GraphConv\", \"orientation\": \"v\", \"showlegend\": true, \"type\": \"histogram\", \"x\": [\"ER_10000_10_0\", \"ER_10000_10_1\", \"ER_10000_15_0\", \"ER_10000_15_1\", \"ER_10000_20_0\", \"ER_10000_20_1\", \"ER_20000_10_0\", \"ER_20000_10_1\", \"ER_20000_15_0\", \"ER_20000_15_1\", \"ER_20000_20_0\", \"ER_20000_20_1\", \"ER_30000_10_0\", \"ER_30000_15_0\", \"ER_30000_20_0\", \"ER_50000_10_0\", \"ER_50000_15_0\", \"ER_50000_20_0\"], \"xaxis\": \"x\", \"y\": [1965, 1937, 2434, 2426, 2769, 2775, 3940, 3941, 4850, 4905, 5418, 5585, 5921, 7269, 8349, 13111, 12285, 13773], \"yaxis\": \"y\"}, {\"alignmentgroup\": \"True\", \"bingroup\": \"x\", \"histfunc\": \"sum\", \"hovertemplate\": \"model=SAGE<br>graph=%{x}<br>sum of target_size=%{y}<extra></extra>\", \"legendgroup\": \"SAGE\", \"marker\": {\"color\": \"#ab63fa\"}, \"name\": \"SAGE\", \"offsetgroup\": \"SAGE\", \"orientation\": \"v\", \"showlegend\": true, \"type\": \"histogram\", \"x\": [\"ER_10000_10_0\", \"ER_10000_10_1\", \"ER_10000_15_0\", \"ER_10000_15_1\", \"ER_10000_20_0\", \"ER_10000_20_1\", \"ER_20000_10_0\", \"ER_20000_10_1\", \"ER_20000_15_0\", \"ER_20000_15_1\", \"ER_20000_20_0\", \"ER_20000_20_1\", \"ER_30000_10_0\", \"ER_30000_15_0\", \"ER_30000_20_0\", \"ER_50000_10_0\", \"ER_50000_15_0\", \"ER_50000_20_0\"], \"xaxis\": \"x\", \"y\": [1624, 1673, 2056, 2053, 2312, 2308, 3391, 3262, 4090, 4042, 4635, 4588, 5045, 6178, 6911, 14548, 10330, 11538], \"yaxis\": \"y\"}, {\"alignmentgroup\": \"True\", \"bingroup\": \"x\", \"histfunc\": \"sum\", \"hovertemplate\": \"model=MDH<br>graph=%{x}<br>sum of target_size=%{y}<extra></extra>\", \"legendgroup\": \"MDH\", \"marker\": {\"color\": \"#FFA15A\"}, \"name\": \"MDH\", \"offsetgroup\": \"MDH\", \"orientation\": \"v\", \"showlegend\": true, \"type\": \"histogram\", \"x\": [\"ER_10000_10_0\", \"ER_10000_10_1\", \"ER_10000_15_0\", \"ER_10000_15_1\", \"ER_10000_20_0\", \"ER_10000_20_1\", \"ER_20000_10_0\", \"ER_20000_10_1\", \"ER_20000_15_0\", \"ER_20000_15_1\", \"ER_20000_20_0\", \"ER_20000_20_1\", \"ER_30000_10_0\", \"ER_30000_15_0\", \"ER_30000_20_0\", \"ER_50000_10_0\", \"ER_50000_15_0\", \"ER_50000_20_0\"], \"xaxis\": \"x\", \"y\": [1617, 1618, 1980, 1962, 2274, 2265, 3227, 3192, 3951, 3956, 4513, 4543, 4863, 5936, 6772, 11245, 9903, 11217], \"yaxis\": \"y\"}, {\"alignmentgroup\": \"True\", \"bingroup\": \"x\", \"histfunc\": \"sum\", \"hovertemplate\": \"model=GRAT<br>graph=%{x}<br>sum of target_size=%{y}<extra></extra>\", \"legendgroup\": \"GRAT\", \"marker\": {\"color\": \"#19d3f3\"}, \"name\": \"GRAT\", \"offsetgroup\": \"GRAT\", \"orientation\": \"v\", \"showlegend\": true, \"type\": \"histogram\", \"x\": [\"ER_10000_10_0\", \"ER_10000_10_1\", \"ER_10000_15_0\", \"ER_10000_15_1\", \"ER_10000_20_0\", \"ER_10000_20_1\", \"ER_20000_10_0\", \"ER_20000_10_1\", \"ER_20000_15_0\", \"ER_20000_15_1\", \"ER_20000_20_0\", \"ER_20000_20_1\", \"ER_30000_10_0\", \"ER_30000_15_0\", \"ER_30000_20_0\", \"ER_50000_10_0\", \"ER_50000_15_0\", \"ER_50000_20_0\"], \"xaxis\": \"x\", \"y\": [1659, 1638, 1974, 1971, 2258, 2258, 3294, 3234, 3944, 3938, 4503, 4523, 4867, 5906, 6706, 13320, 9849, 11175], \"yaxis\": \"y\"}],                        {\"barmode\": \"group\", \"height\": 400, \"legend\": {\"title\": {\"text\": \"model\"}, \"tracegroupgap\": 0}, \"margin\": {\"t\": 60}, \"template\": {\"data\": {\"bar\": [{\"error_x\": {\"color\": \"#2a3f5f\"}, \"error_y\": {\"color\": \"#2a3f5f\"}, \"marker\": {\"line\": {\"color\": \"#E5ECF6\", \"width\": 0.5}}, \"type\": \"bar\"}], \"barpolar\": [{\"marker\": {\"line\": {\"color\": \"#E5ECF6\", \"width\": 0.5}}, \"type\": \"barpolar\"}], \"carpet\": [{\"aaxis\": {\"endlinecolor\": \"#2a3f5f\", \"gridcolor\": \"white\", \"linecolor\": \"white\", \"minorgridcolor\": \"white\", \"startlinecolor\": \"#2a3f5f\"}, \"baxis\": {\"endlinecolor\": \"#2a3f5f\", \"gridcolor\": \"white\", \"linecolor\": \"white\", \"minorgridcolor\": \"white\", \"startlinecolor\": \"#2a3f5f\"}, \"type\": \"carpet\"}], \"choropleth\": [{\"colorbar\": {\"outlinewidth\": 0, \"ticks\": \"\"}, \"type\": \"choropleth\"}], \"contour\": [{\"colorbar\": {\"outlinewidth\": 0, \"ticks\": \"\"}, \"colorscale\": [[0.0, \"#0d0887\"], [0.1111111111111111, \"#46039f\"], [0.2222222222222222, \"#7201a8\"], [0.3333333333333333, \"#9c179e\"], [0.4444444444444444, \"#bd3786\"], [0.5555555555555556, \"#d8576b\"], [0.6666666666666666, \"#ed7953\"], [0.7777777777777778, \"#fb9f3a\"], [0.8888888888888888, \"#fdca26\"], [1.0, \"#f0f921\"]], \"type\": \"contour\"}], \"contourcarpet\": [{\"colorbar\": {\"outlinewidth\": 0, \"ticks\": \"\"}, \"type\": \"contourcarpet\"}], \"heatmap\": [{\"colorbar\": {\"outlinewidth\": 0, \"ticks\": \"\"}, \"colorscale\": [[0.0, \"#0d0887\"], [0.1111111111111111, \"#46039f\"], [0.2222222222222222, \"#7201a8\"], [0.3333333333333333, \"#9c179e\"], [0.4444444444444444, \"#bd3786\"], [0.5555555555555556, \"#d8576b\"], [0.6666666666666666, \"#ed7953\"], [0.7777777777777778, \"#fb9f3a\"], [0.8888888888888888, \"#fdca26\"], [1.0, \"#f0f921\"]], \"type\": \"heatmap\"}], \"heatmapgl\": [{\"colorbar\": {\"outlinewidth\": 0, \"ticks\": \"\"}, \"colorscale\": [[0.0, \"#0d0887\"], [0.1111111111111111, \"#46039f\"], [0.2222222222222222, \"#7201a8\"], [0.3333333333333333, \"#9c179e\"], [0.4444444444444444, \"#bd3786\"], [0.5555555555555556, \"#d8576b\"], [0.6666666666666666, \"#ed7953\"], [0.7777777777777778, \"#fb9f3a\"], [0.8888888888888888, \"#fdca26\"], [1.0, \"#f0f921\"]], \"type\": \"heatmapgl\"}], \"histogram\": [{\"marker\": {\"colorbar\": {\"outlinewidth\": 0, \"ticks\": \"\"}}, \"type\": \"histogram\"}], \"histogram2d\": [{\"colorbar\": {\"outlinewidth\": 0, \"ticks\": \"\"}, \"colorscale\": [[0.0, \"#0d0887\"], [0.1111111111111111, \"#46039f\"], [0.2222222222222222, \"#7201a8\"], [0.3333333333333333, \"#9c179e\"], [0.4444444444444444, \"#bd3786\"], [0.5555555555555556, \"#d8576b\"], [0.6666666666666666, \"#ed7953\"], [0.7777777777777778, \"#fb9f3a\"], [0.8888888888888888, \"#fdca26\"], [1.0, \"#f0f921\"]], \"type\": \"histogram2d\"}], \"histogram2dcontour\": [{\"colorbar\": {\"outlinewidth\": 0, \"ticks\": \"\"}, \"colorscale\": [[0.0, \"#0d0887\"], [0.1111111111111111, \"#46039f\"], [0.2222222222222222, \"#7201a8\"], [0.3333333333333333, \"#9c179e\"], [0.4444444444444444, \"#bd3786\"], [0.5555555555555556, \"#d8576b\"], [0.6666666666666666, \"#ed7953\"], [0.7777777777777778, \"#fb9f3a\"], [0.8888888888888888, \"#fdca26\"], [1.0, \"#f0f921\"]], \"type\": \"histogram2dcontour\"}], \"mesh3d\": [{\"colorbar\": {\"outlinewidth\": 0, \"ticks\": \"\"}, \"type\": \"mesh3d\"}], \"parcoords\": [{\"line\": {\"colorbar\": {\"outlinewidth\": 0, \"ticks\": \"\"}}, \"type\": \"parcoords\"}], \"pie\": [{\"automargin\": true, \"type\": \"pie\"}], \"scatter\": [{\"marker\": {\"colorbar\": {\"outlinewidth\": 0, \"ticks\": \"\"}}, \"type\": \"scatter\"}], \"scatter3d\": [{\"line\": {\"colorbar\": {\"outlinewidth\": 0, \"ticks\": \"\"}}, \"marker\": {\"colorbar\": {\"outlinewidth\": 0, \"ticks\": \"\"}}, \"type\": \"scatter3d\"}], \"scattercarpet\": [{\"marker\": {\"colorbar\": {\"outlinewidth\": 0, \"ticks\": \"\"}}, \"type\": \"scattercarpet\"}], \"scattergeo\": [{\"marker\": {\"colorbar\": {\"outlinewidth\": 0, \"ticks\": \"\"}}, \"type\": \"scattergeo\"}], \"scattergl\": [{\"marker\": {\"colorbar\": {\"outlinewidth\": 0, \"ticks\": \"\"}}, \"type\": \"scattergl\"}], \"scattermapbox\": [{\"marker\": {\"colorbar\": {\"outlinewidth\": 0, \"ticks\": \"\"}}, \"type\": \"scattermapbox\"}], \"scatterpolar\": [{\"marker\": {\"colorbar\": {\"outlinewidth\": 0, \"ticks\": \"\"}}, \"type\": \"scatterpolar\"}], \"scatterpolargl\": [{\"marker\": {\"colorbar\": {\"outlinewidth\": 0, \"ticks\": \"\"}}, \"type\": \"scatterpolargl\"}], \"scatterternary\": [{\"marker\": {\"colorbar\": {\"outlinewidth\": 0, \"ticks\": \"\"}}, \"type\": \"scatterternary\"}], \"surface\": [{\"colorbar\": {\"outlinewidth\": 0, \"ticks\": \"\"}, \"colorscale\": [[0.0, \"#0d0887\"], [0.1111111111111111, \"#46039f\"], [0.2222222222222222, \"#7201a8\"], [0.3333333333333333, \"#9c179e\"], [0.4444444444444444, \"#bd3786\"], [0.5555555555555556, \"#d8576b\"], [0.6666666666666666, \"#ed7953\"], [0.7777777777777778, \"#fb9f3a\"], [0.8888888888888888, \"#fdca26\"], [1.0, \"#f0f921\"]], \"type\": \"surface\"}], \"table\": [{\"cells\": {\"fill\": {\"color\": \"#EBF0F8\"}, \"line\": {\"color\": \"white\"}}, \"header\": {\"fill\": {\"color\": \"#C8D4E3\"}, \"line\": {\"color\": \"white\"}}, \"type\": \"table\"}]}, \"layout\": {\"annotationdefaults\": {\"arrowcolor\": \"#2a3f5f\", \"arrowhead\": 0, \"arrowwidth\": 1}, \"autotypenumbers\": \"strict\", \"coloraxis\": {\"colorbar\": {\"outlinewidth\": 0, \"ticks\": \"\"}}, \"colorscale\": {\"diverging\": [[0, \"#8e0152\"], [0.1, \"#c51b7d\"], [0.2, \"#de77ae\"], [0.3, \"#f1b6da\"], [0.4, \"#fde0ef\"], [0.5, \"#f7f7f7\"], [0.6, \"#e6f5d0\"], [0.7, \"#b8e186\"], [0.8, \"#7fbc41\"], [0.9, \"#4d9221\"], [1, \"#276419\"]], \"sequential\": [[0.0, \"#0d0887\"], [0.1111111111111111, \"#46039f\"], [0.2222222222222222, \"#7201a8\"], [0.3333333333333333, \"#9c179e\"], [0.4444444444444444, \"#bd3786\"], [0.5555555555555556, \"#d8576b\"], [0.6666666666666666, \"#ed7953\"], [0.7777777777777778, \"#fb9f3a\"], [0.8888888888888888, \"#fdca26\"], [1.0, \"#f0f921\"]], \"sequentialminus\": [[0.0, \"#0d0887\"], [0.1111111111111111, \"#46039f\"], [0.2222222222222222, \"#7201a8\"], [0.3333333333333333, \"#9c179e\"], [0.4444444444444444, \"#bd3786\"], [0.5555555555555556, \"#d8576b\"], [0.6666666666666666, \"#ed7953\"], [0.7777777777777778, \"#fb9f3a\"], [0.8888888888888888, \"#fdca26\"], [1.0, \"#f0f921\"]]}, \"colorway\": [\"#636efa\", \"#EF553B\", \"#00cc96\", \"#ab63fa\", \"#FFA15A\", \"#19d3f3\", \"#FF6692\", \"#B6E880\", \"#FF97FF\", \"#FECB52\"], \"font\": {\"color\": \"#2a3f5f\"}, \"geo\": {\"bgcolor\": \"white\", \"lakecolor\": \"white\", \"landcolor\": \"#E5ECF6\", \"showlakes\": true, \"showland\": true, \"subunitcolor\": \"white\"}, \"hoverlabel\": {\"align\": \"left\"}, \"hovermode\": \"closest\", \"mapbox\": {\"style\": \"light\"}, \"paper_bgcolor\": \"white\", \"plot_bgcolor\": \"#E5ECF6\", \"polar\": {\"angularaxis\": {\"gridcolor\": \"white\", \"linecolor\": \"white\", \"ticks\": \"\"}, \"bgcolor\": \"#E5ECF6\", \"radialaxis\": {\"gridcolor\": \"white\", \"linecolor\": \"white\", \"ticks\": \"\"}}, \"scene\": {\"xaxis\": {\"backgroundcolor\": \"#E5ECF6\", \"gridcolor\": \"white\", \"gridwidth\": 2, \"linecolor\": \"white\", \"showbackground\": true, \"ticks\": \"\", \"zerolinecolor\": \"white\"}, \"yaxis\": {\"backgroundcolor\": \"#E5ECF6\", \"gridcolor\": \"white\", \"gridwidth\": 2, \"linecolor\": \"white\", \"showbackground\": true, \"ticks\": \"\", \"zerolinecolor\": \"white\"}, \"zaxis\": {\"backgroundcolor\": \"#E5ECF6\", \"gridcolor\": \"white\", \"gridwidth\": 2, \"linecolor\": \"white\", \"showbackground\": true, \"ticks\": \"\", \"zerolinecolor\": \"white\"}}, \"shapedefaults\": {\"line\": {\"color\": \"#2a3f5f\"}}, \"ternary\": {\"aaxis\": {\"gridcolor\": \"white\", \"linecolor\": \"white\", \"ticks\": \"\"}, \"baxis\": {\"gridcolor\": \"white\", \"linecolor\": \"white\", \"ticks\": \"\"}, \"bgcolor\": \"#E5ECF6\", \"caxis\": {\"gridcolor\": \"white\", \"linecolor\": \"white\", \"ticks\": \"\"}}, \"title\": {\"x\": 0.05}, \"xaxis\": {\"automargin\": true, \"gridcolor\": \"white\", \"linecolor\": \"white\", \"ticks\": \"\", \"title\": {\"standoff\": 15}, \"zerolinecolor\": \"white\", \"zerolinewidth\": 2}, \"yaxis\": {\"automargin\": true, \"gridcolor\": \"white\", \"linecolor\": \"white\", \"ticks\": \"\", \"title\": {\"standoff\": 15}, \"zerolinecolor\": \"white\", \"zerolinewidth\": 2}}}, \"xaxis\": {\"anchor\": \"y\", \"domain\": [0.0, 1.0], \"title\": {\"text\": \"graph\"}}, \"yaxis\": {\"anchor\": \"x\", \"domain\": [0.0, 1.0], \"title\": {\"text\": \"sum of target_size\"}}},                        {\"responsive\": true}                    ).then(function(){\n",
       "                            \n",
       "var gd = document.getElementById('7fad9f99-e12b-4181-9bae-828038cbc366');\n",
       "var x = new MutationObserver(function (mutations, observer) {{\n",
       "        var display = window.getComputedStyle(gd).display;\n",
       "        if (!display || display === 'none') {{\n",
       "            console.log([gd, 'removed!']);\n",
       "            Plotly.purge(gd);\n",
       "            observer.disconnect();\n",
       "        }}\n",
       "}});\n",
       "\n",
       "// Listen for the removal of the full notebook cells\n",
       "var notebookContainer = gd.closest('#notebook-container');\n",
       "if (notebookContainer) {{\n",
       "    x.observe(notebookContainer, {childList: true});\n",
       "}}\n",
       "\n",
       "// Listen for the clearing of the current output cell\n",
       "var outputEl = gd.closest('.output');\n",
       "if (outputEl) {{\n",
       "    x.observe(outputEl, {childList: true});\n",
       "}}\n",
       "\n",
       "                        })                };                });            </script>        </div>"
      ]
     },
     "metadata": {},
     "output_type": "display_data"
    }
   ],
   "source": [
    "fig = px.histogram(Full, x=\"graph\", y=\"target_size\",\n",
    "             color='model', barmode='group',\n",
    "             height=400)\n",
    "fig.show()"
   ]
  },
  {
   "cell_type": "code",
   "execution_count": 32,
   "id": "6175317c",
   "metadata": {
    "ExecuteTime": {
     "end_time": "2022-12-09T19:33:39.682296Z",
     "start_time": "2022-12-09T19:33:39.564259Z"
    }
   },
   "outputs": [
    {
     "data": {
      "application/vnd.plotly.v1+json": {
       "config": {
        "plotlyServerURL": "https://plot.ly"
       },
       "data": [
        {
         "alignmentgroup": "True",
         "bingroup": "x",
         "histfunc": "sum",
         "hovertemplate": "model=GAT<br>graph=%{x}<br>sum of target_size_diff=%{y}<extra></extra>",
         "legendgroup": "GAT",
         "marker": {
          "color": "#636efa"
         },
         "name": "GAT",
         "offsetgroup": "GAT",
         "orientation": "v",
         "showlegend": true,
         "type": "histogram",
         "x": [
          "ER_10000_10_0",
          "ER_10000_10_1",
          "ER_10000_15_0",
          "ER_10000_15_1",
          "ER_10000_20_0",
          "ER_10000_20_1",
          "ER_20000_10_0",
          "ER_20000_10_1",
          "ER_20000_15_0",
          "ER_20000_15_1",
          "ER_20000_20_0",
          "ER_20000_20_1",
          "ER_30000_10_0",
          "ER_30000_15_0",
          "ER_30000_20_0",
          "ER_50000_10_0",
          "ER_50000_15_0",
          "ER_50000_20_0"
         ],
         "xaxis": "x",
         "y": [
          135,
          100,
          99,
          150,
          56,
          63,
          179,
          179,
          172,
          195,
          132,
          166,
          312,
          277,
          259,
          370,
          317,
          246
         ],
         "yaxis": "y"
        },
        {
         "alignmentgroup": "True",
         "bingroup": "x",
         "histfunc": "sum",
         "hovertemplate": "model=GCN<br>graph=%{x}<br>sum of target_size_diff=%{y}<extra></extra>",
         "legendgroup": "GCN",
         "marker": {
          "color": "#EF553B"
         },
         "name": "GCN",
         "offsetgroup": "GCN",
         "orientation": "v",
         "showlegend": true,
         "type": "histogram",
         "x": [
          "ER_10000_10_0",
          "ER_10000_10_1",
          "ER_10000_15_0",
          "ER_10000_15_1",
          "ER_10000_20_0",
          "ER_10000_20_1",
          "ER_20000_10_0",
          "ER_20000_10_1",
          "ER_20000_15_0",
          "ER_20000_15_1",
          "ER_20000_20_0",
          "ER_20000_20_1",
          "ER_30000_10_0",
          "ER_30000_15_0",
          "ER_30000_20_0",
          "ER_50000_10_0",
          "ER_50000_15_0",
          "ER_50000_20_0"
         ],
         "xaxis": "x",
         "y": [
          305,
          296,
          298,
          276,
          192,
          197,
          563,
          651,
          571,
          589,
          514,
          438,
          893,
          858,
          800,
          1146,
          1171,
          1188
         ],
         "yaxis": "y"
        },
        {
         "alignmentgroup": "True",
         "bingroup": "x",
         "histfunc": "sum",
         "hovertemplate": "model=GraphConv<br>graph=%{x}<br>sum of target_size_diff=%{y}<extra></extra>",
         "legendgroup": "GraphConv",
         "marker": {
          "color": "#00cc96"
         },
         "name": "GraphConv",
         "offsetgroup": "GraphConv",
         "orientation": "v",
         "showlegend": true,
         "type": "histogram",
         "x": [
          "ER_10000_10_0",
          "ER_10000_10_1",
          "ER_10000_15_0",
          "ER_10000_15_1",
          "ER_10000_20_0",
          "ER_10000_20_1",
          "ER_20000_10_0",
          "ER_20000_10_1",
          "ER_20000_15_0",
          "ER_20000_15_1",
          "ER_20000_20_0",
          "ER_20000_20_1",
          "ER_30000_10_0",
          "ER_30000_15_0",
          "ER_30000_20_0",
          "ER_50000_10_0",
          "ER_50000_15_0",
          "ER_50000_20_0"
         ],
         "xaxis": "x",
         "y": [
          348,
          319,
          454,
          464,
          495,
          510,
          713,
          749,
          899,
          949,
          905,
          1042,
          1058,
          1333,
          1577,
          1866,
          2382,
          2556
         ],
         "yaxis": "y"
        },
        {
         "alignmentgroup": "True",
         "bingroup": "x",
         "histfunc": "sum",
         "hovertemplate": "model=SAGE<br>graph=%{x}<br>sum of target_size_diff=%{y}<extra></extra>",
         "legendgroup": "SAGE",
         "marker": {
          "color": "#ab63fa"
         },
         "name": "SAGE",
         "offsetgroup": "SAGE",
         "orientation": "v",
         "showlegend": true,
         "type": "histogram",
         "x": [
          "ER_10000_10_0",
          "ER_10000_10_1",
          "ER_10000_15_0",
          "ER_10000_15_1",
          "ER_10000_20_0",
          "ER_10000_20_1",
          "ER_20000_10_0",
          "ER_20000_10_1",
          "ER_20000_15_0",
          "ER_20000_15_1",
          "ER_20000_20_0",
          "ER_20000_20_1",
          "ER_30000_10_0",
          "ER_30000_15_0",
          "ER_30000_20_0",
          "ER_50000_10_0",
          "ER_50000_15_0",
          "ER_50000_20_0"
         ],
         "xaxis": "x",
         "y": [
          7,
          55,
          76,
          91,
          38,
          43,
          164,
          70,
          139,
          86,
          122,
          45,
          182,
          242,
          139,
          3303,
          427,
          321
         ],
         "yaxis": "y"
        },
        {
         "alignmentgroup": "True",
         "bingroup": "x",
         "histfunc": "sum",
         "hovertemplate": "model=MDH<br>graph=%{x}<br>sum of target_size_diff=%{y}<extra></extra>",
         "legendgroup": "MDH",
         "marker": {
          "color": "#FFA15A"
         },
         "name": "MDH",
         "offsetgroup": "MDH",
         "orientation": "v",
         "showlegend": true,
         "type": "histogram",
         "x": [
          "ER_10000_10_0",
          "ER_10000_10_1",
          "ER_10000_15_0",
          "ER_10000_15_1",
          "ER_10000_20_0",
          "ER_10000_20_1",
          "ER_20000_10_0",
          "ER_20000_10_1",
          "ER_20000_15_0",
          "ER_20000_15_1",
          "ER_20000_20_0",
          "ER_20000_20_1",
          "ER_30000_10_0",
          "ER_30000_15_0",
          "ER_30000_20_0",
          "ER_50000_10_0",
          "ER_50000_15_0",
          "ER_50000_20_0"
         ],
         "xaxis": "x",
         "y": [
          0,
          0,
          0,
          0,
          0,
          0,
          0,
          0,
          0,
          0,
          0,
          0,
          0,
          0,
          0,
          0,
          0,
          0
         ],
         "yaxis": "y"
        },
        {
         "alignmentgroup": "True",
         "bingroup": "x",
         "histfunc": "sum",
         "hovertemplate": "model=GRAT<br>graph=%{x}<br>sum of target_size_diff=%{y}<extra></extra>",
         "legendgroup": "GRAT",
         "marker": {
          "color": "#19d3f3"
         },
         "name": "GRAT",
         "offsetgroup": "GRAT",
         "orientation": "v",
         "showlegend": true,
         "type": "histogram",
         "x": [
          "ER_10000_10_0",
          "ER_10000_10_1",
          "ER_10000_15_0",
          "ER_10000_15_1",
          "ER_10000_20_0",
          "ER_10000_20_1",
          "ER_20000_10_0",
          "ER_20000_10_1",
          "ER_20000_15_0",
          "ER_20000_15_1",
          "ER_20000_20_0",
          "ER_20000_20_1",
          "ER_30000_10_0",
          "ER_30000_15_0",
          "ER_30000_20_0",
          "ER_50000_10_0",
          "ER_50000_15_0",
          "ER_50000_20_0"
         ],
         "xaxis": "x",
         "y": [
          42,
          20,
          -6,
          9,
          -16,
          -7,
          67,
          42,
          -7,
          -18,
          -10,
          -20,
          4,
          -30,
          -66,
          2075,
          -54,
          -42
         ],
         "yaxis": "y"
        }
       ],
       "layout": {
        "barmode": "group",
        "height": 400,
        "legend": {
         "title": {
          "text": "model"
         },
         "tracegroupgap": 0
        },
        "margin": {
         "t": 60
        },
        "template": {
         "data": {
          "bar": [
           {
            "error_x": {
             "color": "#2a3f5f"
            },
            "error_y": {
             "color": "#2a3f5f"
            },
            "marker": {
             "line": {
              "color": "#E5ECF6",
              "width": 0.5
             }
            },
            "type": "bar"
           }
          ],
          "barpolar": [
           {
            "marker": {
             "line": {
              "color": "#E5ECF6",
              "width": 0.5
             }
            },
            "type": "barpolar"
           }
          ],
          "carpet": [
           {
            "aaxis": {
             "endlinecolor": "#2a3f5f",
             "gridcolor": "white",
             "linecolor": "white",
             "minorgridcolor": "white",
             "startlinecolor": "#2a3f5f"
            },
            "baxis": {
             "endlinecolor": "#2a3f5f",
             "gridcolor": "white",
             "linecolor": "white",
             "minorgridcolor": "white",
             "startlinecolor": "#2a3f5f"
            },
            "type": "carpet"
           }
          ],
          "choropleth": [
           {
            "colorbar": {
             "outlinewidth": 0,
             "ticks": ""
            },
            "type": "choropleth"
           }
          ],
          "contour": [
           {
            "colorbar": {
             "outlinewidth": 0,
             "ticks": ""
            },
            "colorscale": [
             [
              0,
              "#0d0887"
             ],
             [
              0.1111111111111111,
              "#46039f"
             ],
             [
              0.2222222222222222,
              "#7201a8"
             ],
             [
              0.3333333333333333,
              "#9c179e"
             ],
             [
              0.4444444444444444,
              "#bd3786"
             ],
             [
              0.5555555555555556,
              "#d8576b"
             ],
             [
              0.6666666666666666,
              "#ed7953"
             ],
             [
              0.7777777777777778,
              "#fb9f3a"
             ],
             [
              0.8888888888888888,
              "#fdca26"
             ],
             [
              1,
              "#f0f921"
             ]
            ],
            "type": "contour"
           }
          ],
          "contourcarpet": [
           {
            "colorbar": {
             "outlinewidth": 0,
             "ticks": ""
            },
            "type": "contourcarpet"
           }
          ],
          "heatmap": [
           {
            "colorbar": {
             "outlinewidth": 0,
             "ticks": ""
            },
            "colorscale": [
             [
              0,
              "#0d0887"
             ],
             [
              0.1111111111111111,
              "#46039f"
             ],
             [
              0.2222222222222222,
              "#7201a8"
             ],
             [
              0.3333333333333333,
              "#9c179e"
             ],
             [
              0.4444444444444444,
              "#bd3786"
             ],
             [
              0.5555555555555556,
              "#d8576b"
             ],
             [
              0.6666666666666666,
              "#ed7953"
             ],
             [
              0.7777777777777778,
              "#fb9f3a"
             ],
             [
              0.8888888888888888,
              "#fdca26"
             ],
             [
              1,
              "#f0f921"
             ]
            ],
            "type": "heatmap"
           }
          ],
          "heatmapgl": [
           {
            "colorbar": {
             "outlinewidth": 0,
             "ticks": ""
            },
            "colorscale": [
             [
              0,
              "#0d0887"
             ],
             [
              0.1111111111111111,
              "#46039f"
             ],
             [
              0.2222222222222222,
              "#7201a8"
             ],
             [
              0.3333333333333333,
              "#9c179e"
             ],
             [
              0.4444444444444444,
              "#bd3786"
             ],
             [
              0.5555555555555556,
              "#d8576b"
             ],
             [
              0.6666666666666666,
              "#ed7953"
             ],
             [
              0.7777777777777778,
              "#fb9f3a"
             ],
             [
              0.8888888888888888,
              "#fdca26"
             ],
             [
              1,
              "#f0f921"
             ]
            ],
            "type": "heatmapgl"
           }
          ],
          "histogram": [
           {
            "marker": {
             "colorbar": {
              "outlinewidth": 0,
              "ticks": ""
             }
            },
            "type": "histogram"
           }
          ],
          "histogram2d": [
           {
            "colorbar": {
             "outlinewidth": 0,
             "ticks": ""
            },
            "colorscale": [
             [
              0,
              "#0d0887"
             ],
             [
              0.1111111111111111,
              "#46039f"
             ],
             [
              0.2222222222222222,
              "#7201a8"
             ],
             [
              0.3333333333333333,
              "#9c179e"
             ],
             [
              0.4444444444444444,
              "#bd3786"
             ],
             [
              0.5555555555555556,
              "#d8576b"
             ],
             [
              0.6666666666666666,
              "#ed7953"
             ],
             [
              0.7777777777777778,
              "#fb9f3a"
             ],
             [
              0.8888888888888888,
              "#fdca26"
             ],
             [
              1,
              "#f0f921"
             ]
            ],
            "type": "histogram2d"
           }
          ],
          "histogram2dcontour": [
           {
            "colorbar": {
             "outlinewidth": 0,
             "ticks": ""
            },
            "colorscale": [
             [
              0,
              "#0d0887"
             ],
             [
              0.1111111111111111,
              "#46039f"
             ],
             [
              0.2222222222222222,
              "#7201a8"
             ],
             [
              0.3333333333333333,
              "#9c179e"
             ],
             [
              0.4444444444444444,
              "#bd3786"
             ],
             [
              0.5555555555555556,
              "#d8576b"
             ],
             [
              0.6666666666666666,
              "#ed7953"
             ],
             [
              0.7777777777777778,
              "#fb9f3a"
             ],
             [
              0.8888888888888888,
              "#fdca26"
             ],
             [
              1,
              "#f0f921"
             ]
            ],
            "type": "histogram2dcontour"
           }
          ],
          "mesh3d": [
           {
            "colorbar": {
             "outlinewidth": 0,
             "ticks": ""
            },
            "type": "mesh3d"
           }
          ],
          "parcoords": [
           {
            "line": {
             "colorbar": {
              "outlinewidth": 0,
              "ticks": ""
             }
            },
            "type": "parcoords"
           }
          ],
          "pie": [
           {
            "automargin": true,
            "type": "pie"
           }
          ],
          "scatter": [
           {
            "marker": {
             "colorbar": {
              "outlinewidth": 0,
              "ticks": ""
             }
            },
            "type": "scatter"
           }
          ],
          "scatter3d": [
           {
            "line": {
             "colorbar": {
              "outlinewidth": 0,
              "ticks": ""
             }
            },
            "marker": {
             "colorbar": {
              "outlinewidth": 0,
              "ticks": ""
             }
            },
            "type": "scatter3d"
           }
          ],
          "scattercarpet": [
           {
            "marker": {
             "colorbar": {
              "outlinewidth": 0,
              "ticks": ""
             }
            },
            "type": "scattercarpet"
           }
          ],
          "scattergeo": [
           {
            "marker": {
             "colorbar": {
              "outlinewidth": 0,
              "ticks": ""
             }
            },
            "type": "scattergeo"
           }
          ],
          "scattergl": [
           {
            "marker": {
             "colorbar": {
              "outlinewidth": 0,
              "ticks": ""
             }
            },
            "type": "scattergl"
           }
          ],
          "scattermapbox": [
           {
            "marker": {
             "colorbar": {
              "outlinewidth": 0,
              "ticks": ""
             }
            },
            "type": "scattermapbox"
           }
          ],
          "scatterpolar": [
           {
            "marker": {
             "colorbar": {
              "outlinewidth": 0,
              "ticks": ""
             }
            },
            "type": "scatterpolar"
           }
          ],
          "scatterpolargl": [
           {
            "marker": {
             "colorbar": {
              "outlinewidth": 0,
              "ticks": ""
             }
            },
            "type": "scatterpolargl"
           }
          ],
          "scatterternary": [
           {
            "marker": {
             "colorbar": {
              "outlinewidth": 0,
              "ticks": ""
             }
            },
            "type": "scatterternary"
           }
          ],
          "surface": [
           {
            "colorbar": {
             "outlinewidth": 0,
             "ticks": ""
            },
            "colorscale": [
             [
              0,
              "#0d0887"
             ],
             [
              0.1111111111111111,
              "#46039f"
             ],
             [
              0.2222222222222222,
              "#7201a8"
             ],
             [
              0.3333333333333333,
              "#9c179e"
             ],
             [
              0.4444444444444444,
              "#bd3786"
             ],
             [
              0.5555555555555556,
              "#d8576b"
             ],
             [
              0.6666666666666666,
              "#ed7953"
             ],
             [
              0.7777777777777778,
              "#fb9f3a"
             ],
             [
              0.8888888888888888,
              "#fdca26"
             ],
             [
              1,
              "#f0f921"
             ]
            ],
            "type": "surface"
           }
          ],
          "table": [
           {
            "cells": {
             "fill": {
              "color": "#EBF0F8"
             },
             "line": {
              "color": "white"
             }
            },
            "header": {
             "fill": {
              "color": "#C8D4E3"
             },
             "line": {
              "color": "white"
             }
            },
            "type": "table"
           }
          ]
         },
         "layout": {
          "annotationdefaults": {
           "arrowcolor": "#2a3f5f",
           "arrowhead": 0,
           "arrowwidth": 1
          },
          "autotypenumbers": "strict",
          "coloraxis": {
           "colorbar": {
            "outlinewidth": 0,
            "ticks": ""
           }
          },
          "colorscale": {
           "diverging": [
            [
             0,
             "#8e0152"
            ],
            [
             0.1,
             "#c51b7d"
            ],
            [
             0.2,
             "#de77ae"
            ],
            [
             0.3,
             "#f1b6da"
            ],
            [
             0.4,
             "#fde0ef"
            ],
            [
             0.5,
             "#f7f7f7"
            ],
            [
             0.6,
             "#e6f5d0"
            ],
            [
             0.7,
             "#b8e186"
            ],
            [
             0.8,
             "#7fbc41"
            ],
            [
             0.9,
             "#4d9221"
            ],
            [
             1,
             "#276419"
            ]
           ],
           "sequential": [
            [
             0,
             "#0d0887"
            ],
            [
             0.1111111111111111,
             "#46039f"
            ],
            [
             0.2222222222222222,
             "#7201a8"
            ],
            [
             0.3333333333333333,
             "#9c179e"
            ],
            [
             0.4444444444444444,
             "#bd3786"
            ],
            [
             0.5555555555555556,
             "#d8576b"
            ],
            [
             0.6666666666666666,
             "#ed7953"
            ],
            [
             0.7777777777777778,
             "#fb9f3a"
            ],
            [
             0.8888888888888888,
             "#fdca26"
            ],
            [
             1,
             "#f0f921"
            ]
           ],
           "sequentialminus": [
            [
             0,
             "#0d0887"
            ],
            [
             0.1111111111111111,
             "#46039f"
            ],
            [
             0.2222222222222222,
             "#7201a8"
            ],
            [
             0.3333333333333333,
             "#9c179e"
            ],
            [
             0.4444444444444444,
             "#bd3786"
            ],
            [
             0.5555555555555556,
             "#d8576b"
            ],
            [
             0.6666666666666666,
             "#ed7953"
            ],
            [
             0.7777777777777778,
             "#fb9f3a"
            ],
            [
             0.8888888888888888,
             "#fdca26"
            ],
            [
             1,
             "#f0f921"
            ]
           ]
          },
          "colorway": [
           "#636efa",
           "#EF553B",
           "#00cc96",
           "#ab63fa",
           "#FFA15A",
           "#19d3f3",
           "#FF6692",
           "#B6E880",
           "#FF97FF",
           "#FECB52"
          ],
          "font": {
           "color": "#2a3f5f"
          },
          "geo": {
           "bgcolor": "white",
           "lakecolor": "white",
           "landcolor": "#E5ECF6",
           "showlakes": true,
           "showland": true,
           "subunitcolor": "white"
          },
          "hoverlabel": {
           "align": "left"
          },
          "hovermode": "closest",
          "mapbox": {
           "style": "light"
          },
          "paper_bgcolor": "white",
          "plot_bgcolor": "#E5ECF6",
          "polar": {
           "angularaxis": {
            "gridcolor": "white",
            "linecolor": "white",
            "ticks": ""
           },
           "bgcolor": "#E5ECF6",
           "radialaxis": {
            "gridcolor": "white",
            "linecolor": "white",
            "ticks": ""
           }
          },
          "scene": {
           "xaxis": {
            "backgroundcolor": "#E5ECF6",
            "gridcolor": "white",
            "gridwidth": 2,
            "linecolor": "white",
            "showbackground": true,
            "ticks": "",
            "zerolinecolor": "white"
           },
           "yaxis": {
            "backgroundcolor": "#E5ECF6",
            "gridcolor": "white",
            "gridwidth": 2,
            "linecolor": "white",
            "showbackground": true,
            "ticks": "",
            "zerolinecolor": "white"
           },
           "zaxis": {
            "backgroundcolor": "#E5ECF6",
            "gridcolor": "white",
            "gridwidth": 2,
            "linecolor": "white",
            "showbackground": true,
            "ticks": "",
            "zerolinecolor": "white"
           }
          },
          "shapedefaults": {
           "line": {
            "color": "#2a3f5f"
           }
          },
          "ternary": {
           "aaxis": {
            "gridcolor": "white",
            "linecolor": "white",
            "ticks": ""
           },
           "baxis": {
            "gridcolor": "white",
            "linecolor": "white",
            "ticks": ""
           },
           "bgcolor": "#E5ECF6",
           "caxis": {
            "gridcolor": "white",
            "linecolor": "white",
            "ticks": ""
           }
          },
          "title": {
           "x": 0.05
          },
          "xaxis": {
           "automargin": true,
           "gridcolor": "white",
           "linecolor": "white",
           "ticks": "",
           "title": {
            "standoff": 15
           },
           "zerolinecolor": "white",
           "zerolinewidth": 2
          },
          "yaxis": {
           "automargin": true,
           "gridcolor": "white",
           "linecolor": "white",
           "ticks": "",
           "title": {
            "standoff": 15
           },
           "zerolinecolor": "white",
           "zerolinewidth": 2
          }
         }
        },
        "xaxis": {
         "anchor": "y",
         "domain": [
          0,
          1
         ],
         "title": {
          "text": "graph"
         }
        },
        "yaxis": {
         "anchor": "x",
         "domain": [
          0,
          1
         ],
         "title": {
          "text": "sum of target_size_diff"
         }
        }
       }
      },
      "text/html": [
       "<div>                            <div id=\"7b0d081f-5468-4831-83ac-64642f1703da\" class=\"plotly-graph-div\" style=\"height:400px; width:100%;\"></div>            <script type=\"text/javascript\">                require([\"plotly\"], function(Plotly) {                    window.PLOTLYENV=window.PLOTLYENV || {};                                    if (document.getElementById(\"7b0d081f-5468-4831-83ac-64642f1703da\")) {                    Plotly.newPlot(                        \"7b0d081f-5468-4831-83ac-64642f1703da\",                        [{\"alignmentgroup\": \"True\", \"bingroup\": \"x\", \"histfunc\": \"sum\", \"hovertemplate\": \"model=GAT<br>graph=%{x}<br>sum of target_size_diff=%{y}<extra></extra>\", \"legendgroup\": \"GAT\", \"marker\": {\"color\": \"#636efa\"}, \"name\": \"GAT\", \"offsetgroup\": \"GAT\", \"orientation\": \"v\", \"showlegend\": true, \"type\": \"histogram\", \"x\": [\"ER_10000_10_0\", \"ER_10000_10_1\", \"ER_10000_15_0\", \"ER_10000_15_1\", \"ER_10000_20_0\", \"ER_10000_20_1\", \"ER_20000_10_0\", \"ER_20000_10_1\", \"ER_20000_15_0\", \"ER_20000_15_1\", \"ER_20000_20_0\", \"ER_20000_20_1\", \"ER_30000_10_0\", \"ER_30000_15_0\", \"ER_30000_20_0\", \"ER_50000_10_0\", \"ER_50000_15_0\", \"ER_50000_20_0\"], \"xaxis\": \"x\", \"y\": [135, 100, 99, 150, 56, 63, 179, 179, 172, 195, 132, 166, 312, 277, 259, 370, 317, 246], \"yaxis\": \"y\"}, {\"alignmentgroup\": \"True\", \"bingroup\": \"x\", \"histfunc\": \"sum\", \"hovertemplate\": \"model=GCN<br>graph=%{x}<br>sum of target_size_diff=%{y}<extra></extra>\", \"legendgroup\": \"GCN\", \"marker\": {\"color\": \"#EF553B\"}, \"name\": \"GCN\", \"offsetgroup\": \"GCN\", \"orientation\": \"v\", \"showlegend\": true, \"type\": \"histogram\", \"x\": [\"ER_10000_10_0\", \"ER_10000_10_1\", \"ER_10000_15_0\", \"ER_10000_15_1\", \"ER_10000_20_0\", \"ER_10000_20_1\", \"ER_20000_10_0\", \"ER_20000_10_1\", \"ER_20000_15_0\", \"ER_20000_15_1\", \"ER_20000_20_0\", \"ER_20000_20_1\", \"ER_30000_10_0\", \"ER_30000_15_0\", \"ER_30000_20_0\", \"ER_50000_10_0\", \"ER_50000_15_0\", \"ER_50000_20_0\"], \"xaxis\": \"x\", \"y\": [305, 296, 298, 276, 192, 197, 563, 651, 571, 589, 514, 438, 893, 858, 800, 1146, 1171, 1188], \"yaxis\": \"y\"}, {\"alignmentgroup\": \"True\", \"bingroup\": \"x\", \"histfunc\": \"sum\", \"hovertemplate\": \"model=GraphConv<br>graph=%{x}<br>sum of target_size_diff=%{y}<extra></extra>\", \"legendgroup\": \"GraphConv\", \"marker\": {\"color\": \"#00cc96\"}, \"name\": \"GraphConv\", \"offsetgroup\": \"GraphConv\", \"orientation\": \"v\", \"showlegend\": true, \"type\": \"histogram\", \"x\": [\"ER_10000_10_0\", \"ER_10000_10_1\", \"ER_10000_15_0\", \"ER_10000_15_1\", \"ER_10000_20_0\", \"ER_10000_20_1\", \"ER_20000_10_0\", \"ER_20000_10_1\", \"ER_20000_15_0\", \"ER_20000_15_1\", \"ER_20000_20_0\", \"ER_20000_20_1\", \"ER_30000_10_0\", \"ER_30000_15_0\", \"ER_30000_20_0\", \"ER_50000_10_0\", \"ER_50000_15_0\", \"ER_50000_20_0\"], \"xaxis\": \"x\", \"y\": [348, 319, 454, 464, 495, 510, 713, 749, 899, 949, 905, 1042, 1058, 1333, 1577, 1866, 2382, 2556], \"yaxis\": \"y\"}, {\"alignmentgroup\": \"True\", \"bingroup\": \"x\", \"histfunc\": \"sum\", \"hovertemplate\": \"model=SAGE<br>graph=%{x}<br>sum of target_size_diff=%{y}<extra></extra>\", \"legendgroup\": \"SAGE\", \"marker\": {\"color\": \"#ab63fa\"}, \"name\": \"SAGE\", \"offsetgroup\": \"SAGE\", \"orientation\": \"v\", \"showlegend\": true, \"type\": \"histogram\", \"x\": [\"ER_10000_10_0\", \"ER_10000_10_1\", \"ER_10000_15_0\", \"ER_10000_15_1\", \"ER_10000_20_0\", \"ER_10000_20_1\", \"ER_20000_10_0\", \"ER_20000_10_1\", \"ER_20000_15_0\", \"ER_20000_15_1\", \"ER_20000_20_0\", \"ER_20000_20_1\", \"ER_30000_10_0\", \"ER_30000_15_0\", \"ER_30000_20_0\", \"ER_50000_10_0\", \"ER_50000_15_0\", \"ER_50000_20_0\"], \"xaxis\": \"x\", \"y\": [7, 55, 76, 91, 38, 43, 164, 70, 139, 86, 122, 45, 182, 242, 139, 3303, 427, 321], \"yaxis\": \"y\"}, {\"alignmentgroup\": \"True\", \"bingroup\": \"x\", \"histfunc\": \"sum\", \"hovertemplate\": \"model=MDH<br>graph=%{x}<br>sum of target_size_diff=%{y}<extra></extra>\", \"legendgroup\": \"MDH\", \"marker\": {\"color\": \"#FFA15A\"}, \"name\": \"MDH\", \"offsetgroup\": \"MDH\", \"orientation\": \"v\", \"showlegend\": true, \"type\": \"histogram\", \"x\": [\"ER_10000_10_0\", \"ER_10000_10_1\", \"ER_10000_15_0\", \"ER_10000_15_1\", \"ER_10000_20_0\", \"ER_10000_20_1\", \"ER_20000_10_0\", \"ER_20000_10_1\", \"ER_20000_15_0\", \"ER_20000_15_1\", \"ER_20000_20_0\", \"ER_20000_20_1\", \"ER_30000_10_0\", \"ER_30000_15_0\", \"ER_30000_20_0\", \"ER_50000_10_0\", \"ER_50000_15_0\", \"ER_50000_20_0\"], \"xaxis\": \"x\", \"y\": [0, 0, 0, 0, 0, 0, 0, 0, 0, 0, 0, 0, 0, 0, 0, 0, 0, 0], \"yaxis\": \"y\"}, {\"alignmentgroup\": \"True\", \"bingroup\": \"x\", \"histfunc\": \"sum\", \"hovertemplate\": \"model=GRAT<br>graph=%{x}<br>sum of target_size_diff=%{y}<extra></extra>\", \"legendgroup\": \"GRAT\", \"marker\": {\"color\": \"#19d3f3\"}, \"name\": \"GRAT\", \"offsetgroup\": \"GRAT\", \"orientation\": \"v\", \"showlegend\": true, \"type\": \"histogram\", \"x\": [\"ER_10000_10_0\", \"ER_10000_10_1\", \"ER_10000_15_0\", \"ER_10000_15_1\", \"ER_10000_20_0\", \"ER_10000_20_1\", \"ER_20000_10_0\", \"ER_20000_10_1\", \"ER_20000_15_0\", \"ER_20000_15_1\", \"ER_20000_20_0\", \"ER_20000_20_1\", \"ER_30000_10_0\", \"ER_30000_15_0\", \"ER_30000_20_0\", \"ER_50000_10_0\", \"ER_50000_15_0\", \"ER_50000_20_0\"], \"xaxis\": \"x\", \"y\": [42, 20, -6, 9, -16, -7, 67, 42, -7, -18, -10, -20, 4, -30, -66, 2075, -54, -42], \"yaxis\": \"y\"}],                        {\"barmode\": \"group\", \"height\": 400, \"legend\": {\"title\": {\"text\": \"model\"}, \"tracegroupgap\": 0}, \"margin\": {\"t\": 60}, \"template\": {\"data\": {\"bar\": [{\"error_x\": {\"color\": \"#2a3f5f\"}, \"error_y\": {\"color\": \"#2a3f5f\"}, \"marker\": {\"line\": {\"color\": \"#E5ECF6\", \"width\": 0.5}}, \"type\": \"bar\"}], \"barpolar\": [{\"marker\": {\"line\": {\"color\": \"#E5ECF6\", \"width\": 0.5}}, \"type\": \"barpolar\"}], \"carpet\": [{\"aaxis\": {\"endlinecolor\": \"#2a3f5f\", \"gridcolor\": \"white\", \"linecolor\": \"white\", \"minorgridcolor\": \"white\", \"startlinecolor\": \"#2a3f5f\"}, \"baxis\": {\"endlinecolor\": \"#2a3f5f\", \"gridcolor\": \"white\", \"linecolor\": \"white\", \"minorgridcolor\": \"white\", \"startlinecolor\": \"#2a3f5f\"}, \"type\": \"carpet\"}], \"choropleth\": [{\"colorbar\": {\"outlinewidth\": 0, \"ticks\": \"\"}, \"type\": \"choropleth\"}], \"contour\": [{\"colorbar\": {\"outlinewidth\": 0, \"ticks\": \"\"}, \"colorscale\": [[0.0, \"#0d0887\"], [0.1111111111111111, \"#46039f\"], [0.2222222222222222, \"#7201a8\"], [0.3333333333333333, \"#9c179e\"], [0.4444444444444444, \"#bd3786\"], [0.5555555555555556, \"#d8576b\"], [0.6666666666666666, \"#ed7953\"], [0.7777777777777778, \"#fb9f3a\"], [0.8888888888888888, \"#fdca26\"], [1.0, \"#f0f921\"]], \"type\": \"contour\"}], \"contourcarpet\": [{\"colorbar\": {\"outlinewidth\": 0, \"ticks\": \"\"}, \"type\": \"contourcarpet\"}], \"heatmap\": [{\"colorbar\": {\"outlinewidth\": 0, \"ticks\": \"\"}, \"colorscale\": [[0.0, \"#0d0887\"], [0.1111111111111111, \"#46039f\"], [0.2222222222222222, \"#7201a8\"], [0.3333333333333333, \"#9c179e\"], [0.4444444444444444, \"#bd3786\"], [0.5555555555555556, \"#d8576b\"], [0.6666666666666666, \"#ed7953\"], [0.7777777777777778, \"#fb9f3a\"], [0.8888888888888888, \"#fdca26\"], [1.0, \"#f0f921\"]], \"type\": \"heatmap\"}], \"heatmapgl\": [{\"colorbar\": {\"outlinewidth\": 0, \"ticks\": \"\"}, \"colorscale\": [[0.0, \"#0d0887\"], [0.1111111111111111, \"#46039f\"], [0.2222222222222222, \"#7201a8\"], [0.3333333333333333, \"#9c179e\"], [0.4444444444444444, \"#bd3786\"], [0.5555555555555556, \"#d8576b\"], [0.6666666666666666, \"#ed7953\"], [0.7777777777777778, \"#fb9f3a\"], [0.8888888888888888, \"#fdca26\"], [1.0, \"#f0f921\"]], \"type\": \"heatmapgl\"}], \"histogram\": [{\"marker\": {\"colorbar\": {\"outlinewidth\": 0, \"ticks\": \"\"}}, \"type\": \"histogram\"}], \"histogram2d\": [{\"colorbar\": {\"outlinewidth\": 0, \"ticks\": \"\"}, \"colorscale\": [[0.0, \"#0d0887\"], [0.1111111111111111, \"#46039f\"], [0.2222222222222222, \"#7201a8\"], [0.3333333333333333, \"#9c179e\"], [0.4444444444444444, \"#bd3786\"], [0.5555555555555556, \"#d8576b\"], [0.6666666666666666, \"#ed7953\"], [0.7777777777777778, \"#fb9f3a\"], [0.8888888888888888, \"#fdca26\"], [1.0, \"#f0f921\"]], \"type\": \"histogram2d\"}], \"histogram2dcontour\": [{\"colorbar\": {\"outlinewidth\": 0, \"ticks\": \"\"}, \"colorscale\": [[0.0, \"#0d0887\"], [0.1111111111111111, \"#46039f\"], [0.2222222222222222, \"#7201a8\"], [0.3333333333333333, \"#9c179e\"], [0.4444444444444444, \"#bd3786\"], [0.5555555555555556, \"#d8576b\"], [0.6666666666666666, \"#ed7953\"], [0.7777777777777778, \"#fb9f3a\"], [0.8888888888888888, \"#fdca26\"], [1.0, \"#f0f921\"]], \"type\": \"histogram2dcontour\"}], \"mesh3d\": [{\"colorbar\": {\"outlinewidth\": 0, \"ticks\": \"\"}, \"type\": \"mesh3d\"}], \"parcoords\": [{\"line\": {\"colorbar\": {\"outlinewidth\": 0, \"ticks\": \"\"}}, \"type\": \"parcoords\"}], \"pie\": [{\"automargin\": true, \"type\": \"pie\"}], \"scatter\": [{\"marker\": {\"colorbar\": {\"outlinewidth\": 0, \"ticks\": \"\"}}, \"type\": \"scatter\"}], \"scatter3d\": [{\"line\": {\"colorbar\": {\"outlinewidth\": 0, \"ticks\": \"\"}}, \"marker\": {\"colorbar\": {\"outlinewidth\": 0, \"ticks\": \"\"}}, \"type\": \"scatter3d\"}], \"scattercarpet\": [{\"marker\": {\"colorbar\": {\"outlinewidth\": 0, \"ticks\": \"\"}}, \"type\": \"scattercarpet\"}], \"scattergeo\": [{\"marker\": {\"colorbar\": {\"outlinewidth\": 0, \"ticks\": \"\"}}, \"type\": \"scattergeo\"}], \"scattergl\": [{\"marker\": {\"colorbar\": {\"outlinewidth\": 0, \"ticks\": \"\"}}, \"type\": \"scattergl\"}], \"scattermapbox\": [{\"marker\": {\"colorbar\": {\"outlinewidth\": 0, \"ticks\": \"\"}}, \"type\": \"scattermapbox\"}], \"scatterpolar\": [{\"marker\": {\"colorbar\": {\"outlinewidth\": 0, \"ticks\": \"\"}}, \"type\": \"scatterpolar\"}], \"scatterpolargl\": [{\"marker\": {\"colorbar\": {\"outlinewidth\": 0, \"ticks\": \"\"}}, \"type\": \"scatterpolargl\"}], \"scatterternary\": [{\"marker\": {\"colorbar\": {\"outlinewidth\": 0, \"ticks\": \"\"}}, \"type\": \"scatterternary\"}], \"surface\": [{\"colorbar\": {\"outlinewidth\": 0, \"ticks\": \"\"}, \"colorscale\": [[0.0, \"#0d0887\"], [0.1111111111111111, \"#46039f\"], [0.2222222222222222, \"#7201a8\"], [0.3333333333333333, \"#9c179e\"], [0.4444444444444444, \"#bd3786\"], [0.5555555555555556, \"#d8576b\"], [0.6666666666666666, \"#ed7953\"], [0.7777777777777778, \"#fb9f3a\"], [0.8888888888888888, \"#fdca26\"], [1.0, \"#f0f921\"]], \"type\": \"surface\"}], \"table\": [{\"cells\": {\"fill\": {\"color\": \"#EBF0F8\"}, \"line\": {\"color\": \"white\"}}, \"header\": {\"fill\": {\"color\": \"#C8D4E3\"}, \"line\": {\"color\": \"white\"}}, \"type\": \"table\"}]}, \"layout\": {\"annotationdefaults\": {\"arrowcolor\": \"#2a3f5f\", \"arrowhead\": 0, \"arrowwidth\": 1}, \"autotypenumbers\": \"strict\", \"coloraxis\": {\"colorbar\": {\"outlinewidth\": 0, \"ticks\": \"\"}}, \"colorscale\": {\"diverging\": [[0, \"#8e0152\"], [0.1, \"#c51b7d\"], [0.2, \"#de77ae\"], [0.3, \"#f1b6da\"], [0.4, \"#fde0ef\"], [0.5, \"#f7f7f7\"], [0.6, \"#e6f5d0\"], [0.7, \"#b8e186\"], [0.8, \"#7fbc41\"], [0.9, \"#4d9221\"], [1, \"#276419\"]], \"sequential\": [[0.0, \"#0d0887\"], [0.1111111111111111, \"#46039f\"], [0.2222222222222222, \"#7201a8\"], [0.3333333333333333, \"#9c179e\"], [0.4444444444444444, \"#bd3786\"], [0.5555555555555556, \"#d8576b\"], [0.6666666666666666, \"#ed7953\"], [0.7777777777777778, \"#fb9f3a\"], [0.8888888888888888, \"#fdca26\"], [1.0, \"#f0f921\"]], \"sequentialminus\": [[0.0, \"#0d0887\"], [0.1111111111111111, \"#46039f\"], [0.2222222222222222, \"#7201a8\"], [0.3333333333333333, \"#9c179e\"], [0.4444444444444444, \"#bd3786\"], [0.5555555555555556, \"#d8576b\"], [0.6666666666666666, \"#ed7953\"], [0.7777777777777778, \"#fb9f3a\"], [0.8888888888888888, \"#fdca26\"], [1.0, \"#f0f921\"]]}, \"colorway\": [\"#636efa\", \"#EF553B\", \"#00cc96\", \"#ab63fa\", \"#FFA15A\", \"#19d3f3\", \"#FF6692\", \"#B6E880\", \"#FF97FF\", \"#FECB52\"], \"font\": {\"color\": \"#2a3f5f\"}, \"geo\": {\"bgcolor\": \"white\", \"lakecolor\": \"white\", \"landcolor\": \"#E5ECF6\", \"showlakes\": true, \"showland\": true, \"subunitcolor\": \"white\"}, \"hoverlabel\": {\"align\": \"left\"}, \"hovermode\": \"closest\", \"mapbox\": {\"style\": \"light\"}, \"paper_bgcolor\": \"white\", \"plot_bgcolor\": \"#E5ECF6\", \"polar\": {\"angularaxis\": {\"gridcolor\": \"white\", \"linecolor\": \"white\", \"ticks\": \"\"}, \"bgcolor\": \"#E5ECF6\", \"radialaxis\": {\"gridcolor\": \"white\", \"linecolor\": \"white\", \"ticks\": \"\"}}, \"scene\": {\"xaxis\": {\"backgroundcolor\": \"#E5ECF6\", \"gridcolor\": \"white\", \"gridwidth\": 2, \"linecolor\": \"white\", \"showbackground\": true, \"ticks\": \"\", \"zerolinecolor\": \"white\"}, \"yaxis\": {\"backgroundcolor\": \"#E5ECF6\", \"gridcolor\": \"white\", \"gridwidth\": 2, \"linecolor\": \"white\", \"showbackground\": true, \"ticks\": \"\", \"zerolinecolor\": \"white\"}, \"zaxis\": {\"backgroundcolor\": \"#E5ECF6\", \"gridcolor\": \"white\", \"gridwidth\": 2, \"linecolor\": \"white\", \"showbackground\": true, \"ticks\": \"\", \"zerolinecolor\": \"white\"}}, \"shapedefaults\": {\"line\": {\"color\": \"#2a3f5f\"}}, \"ternary\": {\"aaxis\": {\"gridcolor\": \"white\", \"linecolor\": \"white\", \"ticks\": \"\"}, \"baxis\": {\"gridcolor\": \"white\", \"linecolor\": \"white\", \"ticks\": \"\"}, \"bgcolor\": \"#E5ECF6\", \"caxis\": {\"gridcolor\": \"white\", \"linecolor\": \"white\", \"ticks\": \"\"}}, \"title\": {\"x\": 0.05}, \"xaxis\": {\"automargin\": true, \"gridcolor\": \"white\", \"linecolor\": \"white\", \"ticks\": \"\", \"title\": {\"standoff\": 15}, \"zerolinecolor\": \"white\", \"zerolinewidth\": 2}, \"yaxis\": {\"automargin\": true, \"gridcolor\": \"white\", \"linecolor\": \"white\", \"ticks\": \"\", \"title\": {\"standoff\": 15}, \"zerolinecolor\": \"white\", \"zerolinewidth\": 2}}}, \"xaxis\": {\"anchor\": \"y\", \"domain\": [0.0, 1.0], \"title\": {\"text\": \"graph\"}}, \"yaxis\": {\"anchor\": \"x\", \"domain\": [0.0, 1.0], \"title\": {\"text\": \"sum of target_size_diff\"}}},                        {\"responsive\": true}                    ).then(function(){\n",
       "                            \n",
       "var gd = document.getElementById('7b0d081f-5468-4831-83ac-64642f1703da');\n",
       "var x = new MutationObserver(function (mutations, observer) {{\n",
       "        var display = window.getComputedStyle(gd).display;\n",
       "        if (!display || display === 'none') {{\n",
       "            console.log([gd, 'removed!']);\n",
       "            Plotly.purge(gd);\n",
       "            observer.disconnect();\n",
       "        }}\n",
       "}});\n",
       "\n",
       "// Listen for the removal of the full notebook cells\n",
       "var notebookContainer = gd.closest('#notebook-container');\n",
       "if (notebookContainer) {{\n",
       "    x.observe(notebookContainer, {childList: true});\n",
       "}}\n",
       "\n",
       "// Listen for the clearing of the current output cell\n",
       "var outputEl = gd.closest('.output');\n",
       "if (outputEl) {{\n",
       "    x.observe(outputEl, {childList: true});\n",
       "}}\n",
       "\n",
       "                        })                };                });            </script>        </div>"
      ]
     },
     "metadata": {},
     "output_type": "display_data"
    }
   ],
   "source": [
    "fig = px.histogram(Full, x=\"graph\", y=\"target_size_diff\",\n",
    "             color='model', barmode='group',\n",
    "             height=400)\n",
    "fig.show()"
   ]
  },
  {
   "cell_type": "code",
   "execution_count": 33,
   "id": "952613d0",
   "metadata": {
    "ExecuteTime": {
     "end_time": "2022-12-09T19:34:32.194194Z",
     "start_time": "2022-12-09T19:34:32.172268Z"
    }
   },
   "outputs": [
    {
     "name": "stderr",
     "output_type": "stream",
     "text": [
      "C:\\Users\\Jairo Enrique\\AppData\\Local\\Temp\\ipykernel_5684\\1843624887.py:1: FutureWarning:\n",
      "\n",
      "The default value of numeric_only in DataFrameGroupBy.mean is deprecated. In a future version, numeric_only will default to False. Either specify numeric_only or select only columns which should be valid for the function.\n",
      "\n"
     ]
    },
    {
     "data": {
      "text/html": [
       "<div>\n",
       "<style scoped>\n",
       "    .dataframe tbody tr th:only-of-type {\n",
       "        vertical-align: middle;\n",
       "    }\n",
       "\n",
       "    .dataframe tbody tr th {\n",
       "        vertical-align: top;\n",
       "    }\n",
       "\n",
       "    .dataframe thead th {\n",
       "        text-align: right;\n",
       "    }\n",
       "</style>\n",
       "<table border=\"1\" class=\"dataframe\">\n",
       "  <thead>\n",
       "    <tr style=\"text-align: right;\">\n",
       "      <th></th>\n",
       "      <th>index</th>\n",
       "      <th>target_size</th>\n",
       "      <th>n</th>\n",
       "      <th>t_mean</th>\n",
       "      <th>ratio</th>\n",
       "      <th>target_size_diff</th>\n",
       "    </tr>\n",
       "    <tr>\n",
       "      <th>model</th>\n",
       "      <th></th>\n",
       "      <th></th>\n",
       "      <th></th>\n",
       "      <th></th>\n",
       "      <th></th>\n",
       "      <th></th>\n",
       "    </tr>\n",
       "  </thead>\n",
       "  <tbody>\n",
       "    <tr>\n",
       "      <th>MDH</th>\n",
       "      <td>8.5</td>\n",
       "      <td>4724.111111</td>\n",
       "      <td>23333.333333</td>\n",
       "      <td>0.578278</td>\n",
       "      <td>0.198539</td>\n",
       "      <td>0.000000</td>\n",
       "    </tr>\n",
       "    <tr>\n",
       "      <th>GRAT</th>\n",
       "      <td>8.5</td>\n",
       "      <td>4834.277778</td>\n",
       "      <td>23333.333333</td>\n",
       "      <td>0.527556</td>\n",
       "      <td>0.200951</td>\n",
       "      <td>110.166667</td>\n",
       "    </tr>\n",
       "    <tr>\n",
       "      <th>GAT</th>\n",
       "      <td>8.5</td>\n",
       "      <td>4913.388889</td>\n",
       "      <td>23333.333333</td>\n",
       "      <td>0.440111</td>\n",
       "      <td>0.207338</td>\n",
       "      <td>189.277778</td>\n",
       "    </tr>\n",
       "    <tr>\n",
       "      <th>SAGE</th>\n",
       "      <td>8.5</td>\n",
       "      <td>5032.444444</td>\n",
       "      <td>23333.333333</td>\n",
       "      <td>0.478389</td>\n",
       "      <td>0.207544</td>\n",
       "      <td>308.333333</td>\n",
       "    </tr>\n",
       "    <tr>\n",
       "      <th>GCN</th>\n",
       "      <td>8.5</td>\n",
       "      <td>5332.222222</td>\n",
       "      <td>23333.333333</td>\n",
       "      <td>0.553500</td>\n",
       "      <td>0.225085</td>\n",
       "      <td>608.111111</td>\n",
       "    </tr>\n",
       "    <tr>\n",
       "      <th>GraphConv</th>\n",
       "      <td>8.5</td>\n",
       "      <td>5758.500000</td>\n",
       "      <td>23333.333333</td>\n",
       "      <td>0.566833</td>\n",
       "      <td>0.242439</td>\n",
       "      <td>1034.388889</td>\n",
       "    </tr>\n",
       "  </tbody>\n",
       "</table>\n",
       "</div>"
      ],
      "text/plain": [
       "           index  target_size             n    t_mean     ratio  \\\n",
       "model                                                             \n",
       "MDH          8.5  4724.111111  23333.333333  0.578278  0.198539   \n",
       "GRAT         8.5  4834.277778  23333.333333  0.527556  0.200951   \n",
       "GAT          8.5  4913.388889  23333.333333  0.440111  0.207338   \n",
       "SAGE         8.5  5032.444444  23333.333333  0.478389  0.207544   \n",
       "GCN          8.5  5332.222222  23333.333333  0.553500  0.225085   \n",
       "GraphConv    8.5  5758.500000  23333.333333  0.566833  0.242439   \n",
       "\n",
       "           target_size_diff  \n",
       "model                        \n",
       "MDH                0.000000  \n",
       "GRAT             110.166667  \n",
       "GAT              189.277778  \n",
       "SAGE             308.333333  \n",
       "GCN              608.111111  \n",
       "GraphConv       1034.388889  "
      ]
     },
     "execution_count": 33,
     "metadata": {},
     "output_type": "execute_result"
    }
   ],
   "source": [
    "Full.groupby(by = \"model\").mean().sort_values(by=['ratio'])"
   ]
  },
  {
   "cell_type": "code",
   "execution_count": 34,
   "id": "d9491bdb",
   "metadata": {
    "ExecuteTime": {
     "end_time": "2022-12-09T19:34:32.350072Z",
     "start_time": "2022-12-09T19:34:32.329601Z"
    }
   },
   "outputs": [
    {
     "name": "stdout",
     "output_type": "stream",
     "text": [
      "(108, 8)\n"
     ]
    },
    {
     "data": {
      "text/plain": [
       "(106, 8)"
      ]
     },
     "execution_count": 34,
     "metadata": {},
     "output_type": "execute_result"
    }
   ],
   "source": [
    "print(Full.shape)\n",
    "Full_ = Full.drop_duplicates(subset=['target_size'], keep = False)\n",
    "Full_.shape"
   ]
  },
  {
   "cell_type": "code",
   "execution_count": 35,
   "id": "425ac3dd",
   "metadata": {
    "ExecuteTime": {
     "end_time": "2022-12-09T19:34:32.508198Z",
     "start_time": "2022-12-09T19:34:32.484286Z"
    }
   },
   "outputs": [
    {
     "data": {
      "text/html": [
       "<div>\n",
       "<style scoped>\n",
       "    .dataframe tbody tr th:only-of-type {\n",
       "        vertical-align: middle;\n",
       "    }\n",
       "\n",
       "    .dataframe tbody tr th {\n",
       "        vertical-align: top;\n",
       "    }\n",
       "\n",
       "    .dataframe thead th {\n",
       "        text-align: right;\n",
       "    }\n",
       "</style>\n",
       "<table border=\"1\" class=\"dataframe\">\n",
       "  <thead>\n",
       "    <tr style=\"text-align: right;\">\n",
       "      <th></th>\n",
       "      <th>index</th>\n",
       "      <th>graph</th>\n",
       "      <th>model</th>\n",
       "      <th>target_size</th>\n",
       "      <th>n</th>\n",
       "      <th>t_mean</th>\n",
       "      <th>ratio</th>\n",
       "      <th>target_size_diff</th>\n",
       "    </tr>\n",
       "  </thead>\n",
       "  <tbody>\n",
       "    <tr>\n",
       "      <th>72</th>\n",
       "      <td>0</td>\n",
       "      <td>ER_10000_10_0</td>\n",
       "      <td>MDH</td>\n",
       "      <td>1617</td>\n",
       "      <td>10000</td>\n",
       "      <td>0.065</td>\n",
       "      <td>0.1617</td>\n",
       "      <td>0</td>\n",
       "    </tr>\n",
       "    <tr>\n",
       "      <th>54</th>\n",
       "      <td>0</td>\n",
       "      <td>ER_10000_10_0</td>\n",
       "      <td>SAGE</td>\n",
       "      <td>1624</td>\n",
       "      <td>10000</td>\n",
       "      <td>0.055</td>\n",
       "      <td>0.1624</td>\n",
       "      <td>7</td>\n",
       "    </tr>\n",
       "    <tr>\n",
       "      <th>90</th>\n",
       "      <td>0</td>\n",
       "      <td>ER_10000_10_0</td>\n",
       "      <td>GRAT</td>\n",
       "      <td>1659</td>\n",
       "      <td>10000</td>\n",
       "      <td>0.064</td>\n",
       "      <td>0.1659</td>\n",
       "      <td>42</td>\n",
       "    </tr>\n",
       "    <tr>\n",
       "      <th>0</th>\n",
       "      <td>0</td>\n",
       "      <td>ER_10000_10_0</td>\n",
       "      <td>GAT</td>\n",
       "      <td>1752</td>\n",
       "      <td>10000</td>\n",
       "      <td>0.063</td>\n",
       "      <td>0.1752</td>\n",
       "      <td>135</td>\n",
       "    </tr>\n",
       "    <tr>\n",
       "      <th>18</th>\n",
       "      <td>0</td>\n",
       "      <td>ER_10000_10_0</td>\n",
       "      <td>GCN</td>\n",
       "      <td>1922</td>\n",
       "      <td>10000</td>\n",
       "      <td>0.071</td>\n",
       "      <td>0.1922</td>\n",
       "      <td>305</td>\n",
       "    </tr>\n",
       "    <tr>\n",
       "      <th>36</th>\n",
       "      <td>0</td>\n",
       "      <td>ER_10000_10_0</td>\n",
       "      <td>GraphConv</td>\n",
       "      <td>1965</td>\n",
       "      <td>10000</td>\n",
       "      <td>0.072</td>\n",
       "      <td>0.1965</td>\n",
       "      <td>348</td>\n",
       "    </tr>\n",
       "  </tbody>\n",
       "</table>\n",
       "</div>"
      ],
      "text/plain": [
       "    index          graph      model  target_size      n  t_mean   ratio  \\\n",
       "72      0  ER_10000_10_0        MDH         1617  10000   0.065  0.1617   \n",
       "54      0  ER_10000_10_0       SAGE         1624  10000   0.055  0.1624   \n",
       "90      0  ER_10000_10_0       GRAT         1659  10000   0.064  0.1659   \n",
       "0       0  ER_10000_10_0        GAT         1752  10000   0.063  0.1752   \n",
       "18      0  ER_10000_10_0        GCN         1922  10000   0.071  0.1922   \n",
       "36      0  ER_10000_10_0  GraphConv         1965  10000   0.072  0.1965   \n",
       "\n",
       "    target_size_diff  \n",
       "72                 0  \n",
       "54                 7  \n",
       "90                42  \n",
       "0                135  \n",
       "18               305  \n",
       "36               348  "
      ]
     },
     "execution_count": 35,
     "metadata": {},
     "output_type": "execute_result"
    }
   ],
   "source": [
    "Full_.query(f\"graph == '{Full_.graph.unique()[0]}'\").sort_values(by = ['target_size'])"
   ]
  },
  {
   "cell_type": "markdown",
   "id": "d2b7e78b",
   "metadata": {},
   "source": [
    "## Por mejor solución"
   ]
  },
  {
   "cell_type": "code",
   "execution_count": 36,
   "id": "0bac5d8c",
   "metadata": {
    "ExecuteTime": {
     "end_time": "2022-12-09T19:34:33.634783Z",
     "start_time": "2022-12-09T19:34:33.579769Z"
    }
   },
   "outputs": [
    {
     "data": {
      "text/plain": [
       "array([1., 1., 1., 1., 1., 1.])"
      ]
     },
     "execution_count": 36,
     "metadata": {},
     "output_type": "execute_result"
    }
   ],
   "source": [
    "models_name = Full_.model.unique()\n",
    "Dict = {m: i for m, i in zip(models_name, np.arange(models_name.shape[0]))}\n",
    "\n",
    "MT = np.zeros((models_name.shape[0], models_name.shape[0]))\n",
    "for graph in Full_.graph.unique():\n",
    "    \n",
    "    Temp = np.array(Full_.query(f\"graph == '{graph}'\").sort_values(by = \"ratio\", ascending = False).model)\n",
    "    \n",
    "    for m in range(Temp.shape[0]):\n",
    "\n",
    "        if (m + 1) == Temp.shape[0]:\n",
    "            MT[ Dict[ Temp[m] ] ][ Dict[ Temp[m] ] ] += 1\n",
    "            continue\n",
    "        \n",
    "        for j in range(m + 1, Temp.shape[0]):\n",
    "            MT[ Dict[ Temp[m] ] ][ Dict[ Temp[j] ] ] += 1\n",
    "        \n",
    "\n",
    "MT_ = MT / np.expand_dims(np.sum(MT, axis = 1), 1)\n",
    "# La por filas siempre debe de dar 1 y para la probabilidad de estado estacionario, \n",
    "# se hace la transpuesta, es decir, las columnas son las deben sumar 1\n",
    "MT_.sum(1)"
   ]
  },
  {
   "cell_type": "code",
   "execution_count": 37,
   "id": "051dc7e2",
   "metadata": {
    "ExecuteTime": {
     "end_time": "2022-12-09T19:34:34.151892Z",
     "start_time": "2022-12-09T19:34:34.129448Z"
    }
   },
   "outputs": [
    {
     "name": "stdout",
     "output_type": "stream",
     "text": [
      "[0.0387  0.02867 0.0237  0.04643 0.41286 0.44965] \n",
      " ['GAT' 'GCN' 'GraphConv' 'SAGE' 'MDH' 'GRAT']\n"
     ]
    }
   ],
   "source": [
    "SPD_best = np.ones(MT_.shape[0])/MT_.shape[0] # initial distirbution\n",
    "for _ in range(200):\n",
    "    SPD_best = np.dot(MT_.T, SPD_best)\n",
    "print(np.round(SPD_best,5), '\\n',models_name)"
   ]
  },
  {
   "cell_type": "code",
   "execution_count": 38,
   "id": "af86ad0f",
   "metadata": {
    "ExecuteTime": {
     "end_time": "2022-12-09T19:34:38.813314Z",
     "start_time": "2022-12-09T19:34:38.801341Z"
    }
   },
   "outputs": [
    {
     "data": {
      "text/plain": [
       "array(['GRAT', 'MDH', 'SAGE', 'GAT', 'GCN', 'GraphConv'], dtype=object)"
      ]
     },
     "execution_count": 38,
     "metadata": {},
     "output_type": "execute_result"
    }
   ],
   "source": [
    "# Obtenemos el mínimo porque \n",
    "models_name[np.argsort(-SPD_best)]"
   ]
  },
  {
   "cell_type": "code",
   "execution_count": 39,
   "id": "1bbed3e8",
   "metadata": {
    "ExecuteTime": {
     "end_time": "2022-12-09T19:34:39.733994Z",
     "start_time": "2022-12-09T19:34:39.410151Z"
    }
   },
   "outputs": [
    {
     "data": {
      "image/png": "[encoded data removed]",
      "text/plain": [
       "<Figure size 640x480 with 2 Axes>"
      ]
     },
     "metadata": {},
     "output_type": "display_data"
    }
   ],
   "source": [
    "sns.heatmap(MT_, annot = True, xticklabels = models_name, yticklabels = models_name)\n",
    "plt.title(\"Heatmap for best solution\")\n",
    "plt.xlabel(\"Mejor que\");"
   ]
  },
  {
   "cell_type": "markdown",
   "id": "f5715266",
   "metadata": {},
   "source": [
    "## Por tiempo"
   ]
  },
  {
   "cell_type": "code",
   "execution_count": 45,
   "id": "f94933df",
   "metadata": {
    "ExecuteTime": {
     "end_time": "2022-12-01T19:07:11.505016Z",
     "start_time": "2022-12-01T19:07:11.420590Z"
    }
   },
   "outputs": [
    {
     "data": {
      "text/plain": [
       "array([1., 1., 1., 1., 1., 1.])"
      ]
     },
     "execution_count": 45,
     "metadata": {},
     "output_type": "execute_result"
    }
   ],
   "source": [
    "MT = np.zeros((models_name.shape[0], models_name.shape[0]))\n",
    "for graph in Full_.graph.unique():\n",
    "    Temp = np.array(Full_.query(f\"graph == '{graph}'\").sort_values(by = \"t_mean\", ascending=False).model)\n",
    "    for m in range(Temp.shape[0]):\n",
    "\n",
    "        if (m + 1) == Temp.shape[0]:\n",
    "            MT[ Dict[ Temp[m] ] ][ Dict[ Temp[m] ] ] += 1\n",
    "            continue\n",
    "        MT[ Dict[ Temp[m] ] ][ Dict[ Temp[m + 1] ] ] += 1\n",
    "\n",
    "MT_ = MT / np.expand_dims(np.sum(MT, axis = 1), 1)\n",
    "# La por filas siempre debe de dar 1 y para la probabilidad de estado estacionario, \n",
    "# se hace la transpuesta, es decir, las columnas son las deben sumar 1\n",
    "MT_.sum(1)"
   ]
  },
  {
   "cell_type": "code",
   "execution_count": 46,
   "id": "94d81e18",
   "metadata": {
    "ExecuteTime": {
     "end_time": "2022-12-01T19:07:22.088667Z",
     "start_time": "2022-12-01T19:07:22.075652Z"
    }
   },
   "outputs": [
    {
     "name": "stdout",
     "output_type": "stream",
     "text": [
      "[0.10134 0.02453 0.25904 0.44536 0.02289 0.14684] \n",
      " ['GraphConv' 'GAT' 'MDH' 'GRAT' 'GCN' 'SAGE']\n"
     ]
    }
   ],
   "source": [
    "SPD_time = np.ones(MT_.shape[0])/MT_.shape[0] # initial distirbution\n",
    "for _ in range(100):\n",
    "    SPD_time = np.dot(MT_.T, SPD_time)\n",
    "print(np.round(SPD_time,5), '\\n',models_name)"
   ]
  },
  {
   "cell_type": "code",
   "execution_count": 47,
   "id": "46ab724c",
   "metadata": {
    "ExecuteTime": {
     "end_time": "2022-12-01T19:07:22.259559Z",
     "start_time": "2022-12-01T19:07:22.247001Z"
    }
   },
   "outputs": [
    {
     "data": {
      "text/plain": [
       "array(['GRAT', 'MDH', 'SAGE', 'GraphConv', 'GAT', 'GCN'], dtype=object)"
      ]
     },
     "execution_count": 47,
     "metadata": {},
     "output_type": "execute_result"
    }
   ],
   "source": [
    "models_name[np.argsort(-SPD_time)]"
   ]
  },
  {
   "cell_type": "code",
   "execution_count": 48,
   "id": "5d163a20",
   "metadata": {
    "ExecuteTime": {
     "end_time": "2022-12-01T19:07:22.936258Z",
     "start_time": "2022-12-01T19:07:22.407351Z"
    }
   },
   "outputs": [
    {
     "data": {
      "text/plain": [
       "Text(0.5, 1.0, 'Heatmap for fastest solution')"
      ]
     },
     "execution_count": 48,
     "metadata": {},
     "output_type": "execute_result"
    },
    {
     "data": {
      "image/png": "[encoded data removed]",
      "text/plain": [
       "<Figure size 640x480 with 2 Axes>"
      ]
     },
     "metadata": {},
     "output_type": "display_data"
    }
   ],
   "source": [
    "sns.heatmap(MT_, annot = True, xticklabels = models_name, yticklabels = models_name)\n",
    "plt.title(\"Heatmap for fastest solution\")"
   ]
  },
  {
   "cell_type": "markdown",
   "id": "44bdda17",
   "metadata": {},
   "source": [
    "## All together"
   ]
  },
  {
   "cell_type": "code",
   "execution_count": 21,
   "id": "8d920673",
   "metadata": {
    "ExecuteTime": {
     "end_time": "2022-12-03T17:58:56.556752Z",
     "start_time": "2022-12-03T17:58:56.541165Z"
    }
   },
   "outputs": [
    {
     "name": "stdout",
     "output_type": "stream",
     "text": [
      "---- Best solution ----\n",
      "\n",
      "1  -  GAT  \t 0.367\n",
      "2  -  MDH  \t 0.287\n",
      "3  -  SAGE  \t 0.214\n",
      "4  -  GRAT  \t 0.090\n",
      "5  -  GCN  \t 0.042\n",
      "6  -  GraphC  \t 0.000\n"
     ]
    }
   ],
   "source": [
    "print(\"---- Best solution ----\\n\")\n",
    "c = 1\n",
    "for g in np.argsort(-SPD_best):\n",
    "    print(c,\" - \", models_name[g][:6], f\" \\t {SPD_best[g]:.3f}\")\n",
    "    c += 1"
   ]
  },
  {
   "cell_type": "code",
   "execution_count": 50,
   "id": "c9ad5e0d",
   "metadata": {
    "ExecuteTime": {
     "end_time": "2022-12-01T19:07:23.749480Z",
     "start_time": "2022-12-01T19:07:23.740936Z"
    }
   },
   "outputs": [
    {
     "name": "stdout",
     "output_type": "stream",
     "text": [
      "------ Best time ------\n",
      "\n",
      "1  -  GRAT  \t 0.445\n",
      "2  -  MDH  \t 0.259\n",
      "3  -  SAGE  \t 0.147\n",
      "4  -  GraphC  \t 0.101\n",
      "5  -  GAT  \t 0.025\n",
      "6  -  GCN  \t 0.023\n"
     ]
    }
   ],
   "source": [
    "print(\"------ Best time ------\\n\")\n",
    "c = 1\n",
    "for g in np.argsort(-SPD_time):\n",
    "    print(c,\" - \", models_name[g][:6], f\" \\t {SPD_time[g]:.3f}\")\n",
    "    c+=1"
   ]
  },
  {
   "cell_type": "code",
   "execution_count": null,
   "id": "b7adceff",
   "metadata": {},
   "outputs": [],
   "source": []
  },
  {
   "cell_type": "code",
   "execution_count": null,
   "id": "c73e8d0e",
   "metadata": {},
   "outputs": [],
   "source": []
  },
  {
   "cell_type": "code",
   "execution_count": 301,
   "id": "3042004f",
   "metadata": {
    "ExecuteTime": {
     "end_time": "2022-11-10T20:31:17.528681Z",
     "start_time": "2022-11-10T20:31:17.513222Z"
    }
   },
   "outputs": [],
   "source": [
    "import numpy as np\n",
    "x = np.array([[6.5,7], [5,3],[6,6],[7.5,8.2],[4,4], [6,7], [5,5], [5.1,5.2], [7,8], [8,8], [8,8]])\n",
    "x = np.append(np.ones((11,1)),x, axis = 1)\n",
    "y = np.array([6,8,7,2.5,4,10,5,7,4,12,4])"
   ]
  },
  {
   "cell_type": "code",
   "execution_count": 3,
   "id": "d7e7e171",
   "metadata": {
    "ExecuteTime": {
     "end_time": "2022-11-10T16:13:31.518949Z",
     "start_time": "2022-11-10T16:13:31.496937Z"
    }
   },
   "outputs": [
    {
     "data": {
      "text/plain": [
       "array([[1. , 6.5, 7. ],\n",
       "       [1. , 5. , 3. ],\n",
       "       [1. , 6. , 6. ],\n",
       "       [1. , 7.5, 8.2],\n",
       "       [1. , 4. , 4. ],\n",
       "       [1. , 6. , 7. ],\n",
       "       [1. , 5. , 5. ],\n",
       "       [1. , 5.1, 5.2],\n",
       "       [1. , 7. , 8. ],\n",
       "       [1. , 8. , 8. ],\n",
       "       [1. , 8. , 8. ]])"
      ]
     },
     "execution_count": 3,
     "metadata": {},
     "output_type": "execute_result"
    }
   ],
   "source": [
    "x"
   ]
  },
  {
   "cell_type": "code",
   "execution_count": 4,
   "id": "3b6f61c8",
   "metadata": {
    "ExecuteTime": {
     "end_time": "2022-11-10T16:13:31.766813Z",
     "start_time": "2022-11-10T16:13:31.745840Z"
    }
   },
   "outputs": [
    {
     "data": {
      "text/plain": [
       "array([[ 11.  ,  68.1 ,  69.4 ],\n",
       "       [ 68.1 , 439.51, 451.52],\n",
       "       [ 69.4 , 451.52, 470.28]])"
      ]
     },
     "execution_count": 4,
     "metadata": {},
     "output_type": "execute_result"
    }
   ],
   "source": [
    "np.dot(x.T, x)"
   ]
  },
  {
   "cell_type": "code",
   "execution_count": 73,
   "id": "491ed44c",
   "metadata": {
    "ExecuteTime": {
     "end_time": "2022-11-08T16:17:18.829798Z",
     "start_time": "2022-11-08T16:17:18.801049Z"
    }
   },
   "outputs": [
    {
     "data": {
      "text/plain": [
       "array([[ 2.50477748, -0.61285329,  0.21877171],\n",
       "       [-0.61285329,  0.31657017, -0.21350205],\n",
       "       [ 0.21877171, -0.21350205,  0.1748271 ]])"
      ]
     },
     "execution_count": 73,
     "metadata": {},
     "output_type": "execute_result"
    }
   ],
   "source": [
    "np.linalg.inv(np.dot(x.T, x))"
   ]
  },
  {
   "cell_type": "code",
   "execution_count": 74,
   "id": "b4069a89",
   "metadata": {
    "ExecuteTime": {
     "end_time": "2022-11-08T16:18:28.993261Z",
     "start_time": "2022-11-08T16:18:28.977643Z"
    }
   },
   "outputs": [
    {
     "data": {
      "text/plain": [
       "array([ 69.5 , 432.45, 435.9 ])"
      ]
     },
     "execution_count": 74,
     "metadata": {},
     "output_type": "execute_result"
    }
   ],
   "source": [
    "np.dot(x.T,y)"
   ]
  },
  {
   "cell_type": "code",
   "execution_count": 5,
   "id": "682f7089",
   "metadata": {
    "ExecuteTime": {
     "end_time": "2022-11-10T16:17:37.141680Z",
     "start_time": "2022-11-10T16:17:37.105825Z"
    }
   },
   "outputs": [
    {
     "data": {
      "text/plain": [
       "array([ 4.41621859,  1.24192201, -0.91719443])"
      ]
     },
     "execution_count": 5,
     "metadata": {},
     "output_type": "execute_result"
    }
   ],
   "source": [
    "B = np.dot(np.linalg.inv(np.dot(x.T, x)), np.dot(x.T,y))\n",
    "B"
   ]
  },
  {
   "cell_type": "code",
   "execution_count": 80,
   "id": "d5fb85be",
   "metadata": {
    "ExecuteTime": {
     "end_time": "2022-11-08T16:22:43.787563Z",
     "start_time": "2022-11-08T16:22:43.771558Z"
    }
   },
   "outputs": [
    {
     "data": {
      "text/plain": [
       "82.13636363636363"
      ]
     },
     "execution_count": 80,
     "metadata": {},
     "output_type": "execute_result"
    }
   ],
   "source": [
    "SST = np.dot(y,y) - (np.sum(y)**2)/11\n",
    "SST"
   ]
  },
  {
   "cell_type": "code",
   "execution_count": 84,
   "id": "66ac8347",
   "metadata": {
    "ExecuteTime": {
     "end_time": "2022-11-08T16:24:06.742304Z",
     "start_time": "2022-11-08T16:24:06.724859Z"
    }
   },
   "outputs": [
    {
     "data": {
      "text/plain": [
       "444.19131364903933"
      ]
     },
     "execution_count": 84,
     "metadata": {},
     "output_type": "execute_result"
    }
   ],
   "source": [
    "np.dot(B, np.dot(x.T,y))"
   ]
  },
  {
   "cell_type": "code",
   "execution_count": 81,
   "id": "6f3e8532",
   "metadata": {
    "ExecuteTime": {
     "end_time": "2022-11-08T16:23:15.664440Z",
     "start_time": "2022-11-08T16:23:15.653718Z"
    }
   },
   "outputs": [
    {
     "data": {
      "text/plain": [
       "77.05868635096067"
      ]
     },
     "execution_count": 81,
     "metadata": {},
     "output_type": "execute_result"
    }
   ],
   "source": [
    "SSE = np.dot(y,y) - np.dot(B, np.dot(x.T,y))\n",
    "SSE"
   ]
  },
  {
   "cell_type": "code",
   "execution_count": 83,
   "id": "007cb220",
   "metadata": {
    "ExecuteTime": {
     "end_time": "2022-11-08T16:23:45.094779Z",
     "start_time": "2022-11-08T16:23:45.083039Z"
    }
   },
   "outputs": [
    {
     "data": {
      "text/plain": [
       "5.077677285402956"
      ]
     },
     "execution_count": 83,
     "metadata": {},
     "output_type": "execute_result"
    }
   ],
   "source": [
    "SSReg = SST - SSE\n",
    "SSReg"
   ]
  },
  {
   "cell_type": "code",
   "execution_count": 90,
   "id": "3d110b50",
   "metadata": {
    "ExecuteTime": {
     "end_time": "2022-11-08T16:41:02.152642Z",
     "start_time": "2022-11-08T16:41:02.137800Z"
    }
   },
   "outputs": [
    {
     "data": {
      "text/plain": [
       "7.663494397900552"
      ]
     },
     "execution_count": 90,
     "metadata": {},
     "output_type": "execute_result"
    }
   ],
   "source": [
    "np.dot(B, [1,10,10])"
   ]
  },
  {
   "cell_type": "code",
   "execution_count": 15,
   "id": "24514330",
   "metadata": {
    "ExecuteTime": {
     "end_time": "2022-11-10T17:47:07.655658Z",
     "start_time": "2022-11-10T17:47:07.644659Z"
    }
   },
   "outputs": [
    {
     "data": {
      "text/plain": [
       "tensor([1.])"
      ]
     },
     "execution_count": 15,
     "metadata": {},
     "output_type": "execute_result"
    }
   ],
   "source": [
    "import torch\n",
    "torch.sigmoid(torch.tensor([100]))"
   ]
  }
 ],
 "metadata": {
  "hide_input": false,
  "kernelspec": {
   "display_name": "Python 3 (ipykernel)",
   "language": "python",
   "name": "python3"
  },
  "language_info": {
   "codemirror_mode": {
    "name": "ipython",
    "version": 3
   },
   "file_extension": ".py",
   "mimetype": "text/x-python",
   "name": "python",
   "nbconvert_exporter": "python",
   "pygments_lexer": "ipython3",
   "version": "3.8.5"
  },
  "varInspector": {
   "cols": {
    "lenName": 16,
    "lenType": 16,
    "lenVar": 40
   },
   "kernels_config": {
    "python": {
     "delete_cmd_postfix": "",
     "delete_cmd_prefix": "del ",
     "library": "var_list.py",
     "varRefreshCmd": "print(var_dic_list())"
    },
    "r": {
     "delete_cmd_postfix": ") ",
     "delete_cmd_prefix": "rm(",
     "library": "var_list.r",
     "varRefreshCmd": "cat(var_dic_list()) "
    }
   },
   "types_to_exclude": [
    "module",
    "function",
    "builtin_function_or_method",
    "instance",
    "_Feature"
   ],
   "window_display": false
  }
 },
 "nbformat": 4,
 "nbformat_minor": 5
}
