{
 "cells": [
  {
   "cell_type": "code",
   "execution_count": 2,
   "id": "5cdc2e61",
   "metadata": {
    "ExecuteTime": {
     "end_time": "2022-11-07T21:26:19.126986Z",
     "start_time": "2022-11-07T21:26:10.667768Z"
    }
   },
   "outputs": [],
   "source": [
    "import numpy as np\n",
    "import pandas as pd\n",
    "import plotly.express as px\n",
    "import seaborn as sns\n",
    "import matplotlib.pyplot as plt"
   ]
  },
  {
   "cell_type": "code",
   "execution_count": 47,
   "id": "d4169fc4",
   "metadata": {
    "ExecuteTime": {
     "end_time": "2022-11-07T22:43:21.728029Z",
     "start_time": "2022-11-07T22:43:21.692363Z"
    }
   },
   "outputs": [
    {
     "data": {
      "text/html": [
       "<div>\n",
       "<style scoped>\n",
       "    .dataframe tbody tr th:only-of-type {\n",
       "        vertical-align: middle;\n",
       "    }\n",
       "\n",
       "    .dataframe tbody tr th {\n",
       "        vertical-align: top;\n",
       "    }\n",
       "\n",
       "    .dataframe thead th {\n",
       "        text-align: right;\n",
       "    }\n",
       "</style>\n",
       "<table border=\"1\" class=\"dataframe\">\n",
       "  <thead>\n",
       "    <tr style=\"text-align: right;\">\n",
       "      <th></th>\n",
       "      <th>graph</th>\n",
       "      <th>model</th>\n",
       "      <th>n_covered</th>\n",
       "      <th>n</th>\n",
       "      <th>t_mean</th>\n",
       "    </tr>\n",
       "  </thead>\n",
       "  <tbody>\n",
       "    <tr>\n",
       "      <th>0</th>\n",
       "      <td>graph_football</td>\n",
       "      <td>GRAT</td>\n",
       "      <td>32</td>\n",
       "      <td>115</td>\n",
       "      <td>0.000</td>\n",
       "    </tr>\n",
       "    <tr>\n",
       "      <th>1</th>\n",
       "      <td>graph_jazz</td>\n",
       "      <td>GRAT</td>\n",
       "      <td>55</td>\n",
       "      <td>198</td>\n",
       "      <td>0.004</td>\n",
       "    </tr>\n",
       "    <tr>\n",
       "      <th>2</th>\n",
       "      <td>graph_karate</td>\n",
       "      <td>GRAT</td>\n",
       "      <td>9</td>\n",
       "      <td>62</td>\n",
       "      <td>0.000</td>\n",
       "    </tr>\n",
       "    <tr>\n",
       "      <th>3</th>\n",
       "      <td>graph_CA-CondMat</td>\n",
       "      <td>GRAT</td>\n",
       "      <td>3179</td>\n",
       "      <td>23133</td>\n",
       "      <td>0.519</td>\n",
       "    </tr>\n",
       "    <tr>\n",
       "      <th>4</th>\n",
       "      <td>gemsec_facebook_artist</td>\n",
       "      <td>GRAT</td>\n",
       "      <td>3843</td>\n",
       "      <td>50515</td>\n",
       "      <td>0.508</td>\n",
       "    </tr>\n",
       "  </tbody>\n",
       "</table>\n",
       "</div>"
      ],
      "text/plain": [
       "                    graph model  n_covered      n  t_mean\n",
       "0          graph_football  GRAT         32    115   0.000\n",
       "1              graph_jazz  GRAT         55    198   0.004\n",
       "2            graph_karate  GRAT          9     62   0.000\n",
       "3        graph_CA-CondMat  GRAT       3179  23133   0.519\n",
       "4  gemsec_facebook_artist  GRAT       3843  50515   0.508"
      ]
     },
     "execution_count": 47,
     "metadata": {},
     "output_type": "execute_result"
    }
   ],
   "source": [
    "FastCover = pd.read_csv(\"FastCover/results/FastCoverResults.txt\", header = None)\n",
    "FastCover.columns = [\"graph\", \"n_covered\",\"t_mean\",\"n\"]\n",
    "FastCover[\"model\"] = \"GRAT\"\n",
    "FastCover = FastCover[[\"graph\", \"model\",\"n_covered\", \"n\", \"t_mean\"]]\n",
    "FastCover.head()"
   ]
  },
  {
   "cell_type": "code",
   "execution_count": 48,
   "id": "122c71a7",
   "metadata": {
    "ExecuteTime": {
     "end_time": "2022-11-07T22:43:22.035111Z",
     "start_time": "2022-11-07T22:43:21.954874Z"
    }
   },
   "outputs": [
    {
     "data": {
      "text/html": [
       "<div>\n",
       "<style scoped>\n",
       "    .dataframe tbody tr th:only-of-type {\n",
       "        vertical-align: middle;\n",
       "    }\n",
       "\n",
       "    .dataframe tbody tr th {\n",
       "        vertical-align: top;\n",
       "    }\n",
       "\n",
       "    .dataframe thead th {\n",
       "        text-align: right;\n",
       "    }\n",
       "</style>\n",
       "<table border=\"1\" class=\"dataframe\">\n",
       "  <thead>\n",
       "    <tr style=\"text-align: right;\">\n",
       "      <th></th>\n",
       "      <th>graph</th>\n",
       "      <th>model</th>\n",
       "      <th>n_covered</th>\n",
       "      <th>n</th>\n",
       "      <th>t_mean</th>\n",
       "    </tr>\n",
       "  </thead>\n",
       "  <tbody>\n",
       "    <tr>\n",
       "      <th>0</th>\n",
       "      <td>graph_football</td>\n",
       "      <td>GAT</td>\n",
       "      <td>36</td>\n",
       "      <td>115</td>\n",
       "      <td>0.000</td>\n",
       "    </tr>\n",
       "    <tr>\n",
       "      <th>1</th>\n",
       "      <td>graph_jazz</td>\n",
       "      <td>GAT</td>\n",
       "      <td>41</td>\n",
       "      <td>198</td>\n",
       "      <td>0.003</td>\n",
       "    </tr>\n",
       "    <tr>\n",
       "      <th>2</th>\n",
       "      <td>graph_karate</td>\n",
       "      <td>GAT</td>\n",
       "      <td>14</td>\n",
       "      <td>62</td>\n",
       "      <td>0.000</td>\n",
       "    </tr>\n",
       "    <tr>\n",
       "      <th>3</th>\n",
       "      <td>graph_CA-CondMat</td>\n",
       "      <td>GAT</td>\n",
       "      <td>4434</td>\n",
       "      <td>23133</td>\n",
       "      <td>1.341</td>\n",
       "    </tr>\n",
       "    <tr>\n",
       "      <th>4</th>\n",
       "      <td>gemsec_facebook_artist</td>\n",
       "      <td>GAT</td>\n",
       "      <td>3440</td>\n",
       "      <td>50515</td>\n",
       "      <td>0.718</td>\n",
       "    </tr>\n",
       "  </tbody>\n",
       "</table>\n",
       "</div>"
      ],
      "text/plain": [
       "                    graph model  n_covered      n  t_mean\n",
       "0          graph_football   GAT         36    115   0.000\n",
       "1              graph_jazz   GAT         41    198   0.003\n",
       "2            graph_karate   GAT         14     62   0.000\n",
       "3        graph_CA-CondMat   GAT       4434  23133   1.341\n",
       "4  gemsec_facebook_artist   GAT       3440  50515   0.718"
      ]
     },
     "execution_count": 48,
     "metadata": {},
     "output_type": "execute_result"
    }
   ],
   "source": [
    "models = ['GAT', \"GCN\", \"GraphConv\"]\n",
    "Full = pd.DataFrame()\n",
    "\n",
    "for model in models:\n",
    "    GNN = pd.read_csv(f\"Models/results/{model}Results.txt\", header = None)\n",
    "    \n",
    "    GNN.columns = [\"graph\", \"n_covered\",\"t_mean\",\"n\"]\n",
    "    GNN[\"model\"] = model\n",
    "    GNN = GNN[[\"graph\", \"model\",\"n_covered\", \"n\", \"t_mean\"]]\n",
    "    \n",
    "    Full = pd.concat([Full, GNN])\n",
    "Full.head()"
   ]
  },
  {
   "cell_type": "code",
   "execution_count": 49,
   "id": "66d5a85f",
   "metadata": {
    "ExecuteTime": {
     "end_time": "2022-11-07T22:43:23.280304Z",
     "start_time": "2022-11-07T22:43:23.249110Z"
    }
   },
   "outputs": [
    {
     "data": {
      "text/html": [
       "<div>\n",
       "<style scoped>\n",
       "    .dataframe tbody tr th:only-of-type {\n",
       "        vertical-align: middle;\n",
       "    }\n",
       "\n",
       "    .dataframe tbody tr th {\n",
       "        vertical-align: top;\n",
       "    }\n",
       "\n",
       "    .dataframe thead th {\n",
       "        text-align: right;\n",
       "    }\n",
       "</style>\n",
       "<table border=\"1\" class=\"dataframe\">\n",
       "  <thead>\n",
       "    <tr style=\"text-align: right;\">\n",
       "      <th></th>\n",
       "      <th>graph</th>\n",
       "      <th>model</th>\n",
       "      <th>n_covered</th>\n",
       "      <th>n</th>\n",
       "      <th>t_mean</th>\n",
       "    </tr>\n",
       "  </thead>\n",
       "  <tbody>\n",
       "    <tr>\n",
       "      <th>0</th>\n",
       "      <td>football</td>\n",
       "      <td>MDH</td>\n",
       "      <td>32</td>\n",
       "      <td>115</td>\n",
       "      <td>0.032305</td>\n",
       "    </tr>\n",
       "    <tr>\n",
       "      <th>1</th>\n",
       "      <td>jazz</td>\n",
       "      <td>MDH</td>\n",
       "      <td>29</td>\n",
       "      <td>198</td>\n",
       "      <td>0.006886</td>\n",
       "    </tr>\n",
       "    <tr>\n",
       "      <th>2</th>\n",
       "      <td>karate</td>\n",
       "      <td>MDH</td>\n",
       "      <td>8</td>\n",
       "      <td>62</td>\n",
       "      <td>0.013549</td>\n",
       "    </tr>\n",
       "    <tr>\n",
       "      <th>3</th>\n",
       "      <td>CA-CondMat</td>\n",
       "      <td>MDH</td>\n",
       "      <td>2936</td>\n",
       "      <td>23133</td>\n",
       "      <td>11.238444</td>\n",
       "    </tr>\n",
       "    <tr>\n",
       "      <th>4</th>\n",
       "      <td>gemsec_facebook_artist</td>\n",
       "      <td>MDH</td>\n",
       "      <td>430</td>\n",
       "      <td>50514</td>\n",
       "      <td>18.459030</td>\n",
       "    </tr>\n",
       "  </tbody>\n",
       "</table>\n",
       "</div>"
      ],
      "text/plain": [
       "                    graph model  n_covered      n     t_mean\n",
       "0                football   MDH         32    115   0.032305\n",
       "1                    jazz   MDH         29    198   0.006886\n",
       "2                  karate   MDH          8     62   0.013549\n",
       "3              CA-CondMat   MDH       2936  23133  11.238444\n",
       "4  gemsec_facebook_artist   MDH        430  50514  18.459030"
      ]
     },
     "execution_count": 49,
     "metadata": {},
     "output_type": "execute_result"
    }
   ],
   "source": [
    "MDH = pd.read_csv(\"MDH_compare.csv\")\n",
    "MDH[\"model\"] = \"MDH\"\n",
    "MDH = MDH[[\"graph\", \"model\",\"n_covered\", \"n\", \"t_mean\"]]\n",
    "MDH.head()"
   ]
  },
  {
   "cell_type": "code",
   "execution_count": 50,
   "id": "8c9279f4",
   "metadata": {
    "ExecuteTime": {
     "end_time": "2022-11-07T22:43:23.572548Z",
     "start_time": "2022-11-07T22:43:23.548595Z"
    }
   },
   "outputs": [],
   "source": [
    "Full = pd.concat([Full, MDH, FastCover])"
   ]
  },
  {
   "cell_type": "code",
   "execution_count": 51,
   "id": "fa551e4a",
   "metadata": {
    "ExecuteTime": {
     "end_time": "2022-11-07T22:43:24.543587Z",
     "start_time": "2022-11-07T22:43:24.514336Z"
    }
   },
   "outputs": [
    {
     "data": {
      "text/html": [
       "<div>\n",
       "<style scoped>\n",
       "    .dataframe tbody tr th:only-of-type {\n",
       "        vertical-align: middle;\n",
       "    }\n",
       "\n",
       "    .dataframe tbody tr th {\n",
       "        vertical-align: top;\n",
       "    }\n",
       "\n",
       "    .dataframe thead th {\n",
       "        text-align: right;\n",
       "    }\n",
       "</style>\n",
       "<table border=\"1\" class=\"dataframe\">\n",
       "  <thead>\n",
       "    <tr style=\"text-align: right;\">\n",
       "      <th></th>\n",
       "      <th>graph</th>\n",
       "      <th>model</th>\n",
       "      <th>n_covered</th>\n",
       "      <th>n</th>\n",
       "      <th>t_mean</th>\n",
       "    </tr>\n",
       "  </thead>\n",
       "  <tbody>\n",
       "    <tr>\n",
       "      <th>12</th>\n",
       "      <td>dolphins</td>\n",
       "      <td>MDH</td>\n",
       "      <td>3</td>\n",
       "      <td>34</td>\n",
       "      <td>0.015906</td>\n",
       "    </tr>\n",
       "    <tr>\n",
       "      <th>12</th>\n",
       "      <td>graph_dolphins</td>\n",
       "      <td>GraphConv</td>\n",
       "      <td>4</td>\n",
       "      <td>34</td>\n",
       "      <td>0.000000</td>\n",
       "    </tr>\n",
       "    <tr>\n",
       "      <th>12</th>\n",
       "      <td>graph_dolphins</td>\n",
       "      <td>GCN</td>\n",
       "      <td>4</td>\n",
       "      <td>34</td>\n",
       "      <td>0.000000</td>\n",
       "    </tr>\n",
       "    <tr>\n",
       "      <th>12</th>\n",
       "      <td>graph_dolphins</td>\n",
       "      <td>GAT</td>\n",
       "      <td>8</td>\n",
       "      <td>34</td>\n",
       "      <td>0.000000</td>\n",
       "    </tr>\n",
       "    <tr>\n",
       "      <th>12</th>\n",
       "      <td>graph_dolphins</td>\n",
       "      <td>GRAT</td>\n",
       "      <td>3</td>\n",
       "      <td>34</td>\n",
       "      <td>0.000000</td>\n",
       "    </tr>\n",
       "    <tr>\n",
       "      <th>...</th>\n",
       "      <td>...</td>\n",
       "      <td>...</td>\n",
       "      <td>...</td>\n",
       "      <td>...</td>\n",
       "      <td>...</td>\n",
       "    </tr>\n",
       "    <tr>\n",
       "      <th>23</th>\n",
       "      <td>com-youtube</td>\n",
       "      <td>MDH</td>\n",
       "      <td>3117</td>\n",
       "      <td>1134796</td>\n",
       "      <td>5011.341707</td>\n",
       "    </tr>\n",
       "    <tr>\n",
       "      <th>23</th>\n",
       "      <td>com-youtube.ungraph</td>\n",
       "      <td>GraphConv</td>\n",
       "      <td>50517</td>\n",
       "      <td>1134890</td>\n",
       "      <td>536.078000</td>\n",
       "    </tr>\n",
       "    <tr>\n",
       "      <th>23</th>\n",
       "      <td>com-youtube.ungraph</td>\n",
       "      <td>GAT</td>\n",
       "      <td>104458</td>\n",
       "      <td>1134890</td>\n",
       "      <td>592.419000</td>\n",
       "    </tr>\n",
       "    <tr>\n",
       "      <th>23</th>\n",
       "      <td>com-youtube.ungraph</td>\n",
       "      <td>GRAT</td>\n",
       "      <td>41433</td>\n",
       "      <td>1134890</td>\n",
       "      <td>101.972000</td>\n",
       "    </tr>\n",
       "    <tr>\n",
       "      <th>23</th>\n",
       "      <td>com-youtube.ungraph</td>\n",
       "      <td>GCN</td>\n",
       "      <td>55664</td>\n",
       "      <td>1134890</td>\n",
       "      <td>106.400000</td>\n",
       "    </tr>\n",
       "  </tbody>\n",
       "</table>\n",
       "<p>140 rows × 5 columns</p>\n",
       "</div>"
      ],
      "text/plain": [
       "                  graph      model  n_covered        n       t_mean\n",
       "12             dolphins        MDH          3       34     0.015906\n",
       "12       graph_dolphins  GraphConv          4       34     0.000000\n",
       "12       graph_dolphins        GCN          4       34     0.000000\n",
       "12       graph_dolphins        GAT          8       34     0.000000\n",
       "12       graph_dolphins       GRAT          3       34     0.000000\n",
       "..                  ...        ...        ...      ...          ...\n",
       "23          com-youtube        MDH       3117  1134796  5011.341707\n",
       "23  com-youtube.ungraph  GraphConv      50517  1134890   536.078000\n",
       "23  com-youtube.ungraph        GAT     104458  1134890   592.419000\n",
       "23  com-youtube.ungraph       GRAT      41433  1134890   101.972000\n",
       "23  com-youtube.ungraph        GCN      55664  1134890   106.400000\n",
       "\n",
       "[140 rows x 5 columns]"
      ]
     },
     "execution_count": 51,
     "metadata": {},
     "output_type": "execute_result"
    }
   ],
   "source": [
    "Full = Full.sort_values(by=['n'])\n",
    "Full"
   ]
  },
  {
   "cell_type": "code",
   "execution_count": 52,
   "id": "e1bacaec",
   "metadata": {
    "ExecuteTime": {
     "end_time": "2022-11-07T22:43:27.700480Z",
     "start_time": "2022-11-07T22:43:27.575572Z"
    }
   },
   "outputs": [
    {
     "data": {
      "application/vnd.plotly.v1+json": {
       "config": {
        "plotlyServerURL": "https://plot.ly"
       },
       "data": [
        {
         "alignmentgroup": "True",
         "bingroup": "x",
         "histfunc": "sum",
         "hovertemplate": "model=MDH<br>graph=%{x}<br>sum of n_covered=%{y}<extra></extra>",
         "legendgroup": "MDH",
         "marker": {
          "color": "#636efa"
         },
         "name": "MDH",
         "offsetgroup": "MDH",
         "orientation": "v",
         "showlegend": true,
         "type": "histogram",
         "x": [
          "dolphins",
          "karate",
          "football",
          "jazz",
          "socfb-nips-ego",
          "socfb-Mich67",
          "socfb-Brandeis99",
          "ego-facebook",
          "CA-GrQc",
          "ncstrlwg2",
          "CA-HepTh",
          "actors_dat",
          "CA-HepPh",
          "CA-AstroPh",
          "CA-CondMat",
          "CA-CondMat",
          "soc-gplus",
          "Email-Enron",
          "musae_git",
          "gemsec_facebook_artist",
          "deezer_HR",
          "loc-gowalla_edges",
          "Amazon0302",
          "com-dblp",
          "Amazon0312",
          "Amazon0601",
          "Amazon0505",
          "com-youtube"
         ],
         "xaxis": "x",
         "y": [
          3,
          8,
          32,
          29,
          10,
          206,
          396,
          534,
          1027,
          1108,
          1389,
          1013,
          1523,
          1636,
          2936,
          2936,
          69,
          2880,
          196,
          430,
          2377,
          5656,
          35804,
          37203,
          31172,
          436,
          31951,
          3117
         ],
         "yaxis": "y"
        },
        {
         "alignmentgroup": "True",
         "bingroup": "x",
         "histfunc": "sum",
         "hovertemplate": "model=GraphConv<br>graph=%{x}<br>sum of n_covered=%{y}<extra></extra>",
         "legendgroup": "GraphConv",
         "marker": {
          "color": "#EF553B"
         },
         "name": "GraphConv",
         "offsetgroup": "GraphConv",
         "orientation": "v",
         "showlegend": true,
         "type": "histogram",
         "x": [
          "graph_dolphins",
          "graph_karate",
          "graph_football",
          "graph_jazz",
          "socfb-nips-ego",
          "socfb-Mich67",
          "socfb-Brandeis99",
          "ego-facebook",
          "graph_CA-GrQc",
          "graph_ncstrlwg2",
          "graph_CA-HepTh",
          "graph_actors_dat",
          "graph_CA-HepPh",
          "graph_CA-AstroPh",
          "graph_CA-CondMat",
          "graph_CA-CondMat",
          "soc-gplus",
          "graph_Email-Enron",
          "musae_git",
          "gemsec_facebook_artist",
          "deezer_HR",
          "loc-gowalla_edges",
          "Amazon0302",
          "com-dblp.ungraph",
          "Amazon0312",
          "Amazon0601",
          "Amazon0505",
          "com-youtube.ungraph"
         ],
         "xaxis": "x",
         "y": [
          4,
          10,
          34,
          40,
          234,
          312,
          644,
          740,
          1165,
          1487,
          1693,
          1440,
          1749,
          1982,
          3639,
          3639,
          287,
          3521,
          463,
          1339,
          3398,
          7365,
          64015,
          48390,
          77459,
          77647,
          77336,
          50517
         ],
         "yaxis": "y"
        },
        {
         "alignmentgroup": "True",
         "bingroup": "x",
         "histfunc": "sum",
         "hovertemplate": "model=GCN<br>graph=%{x}<br>sum of n_covered=%{y}<extra></extra>",
         "legendgroup": "GCN",
         "marker": {
          "color": "#00cc96"
         },
         "name": "GCN",
         "offsetgroup": "GCN",
         "orientation": "v",
         "showlegend": true,
         "type": "histogram",
         "x": [
          "graph_dolphins",
          "graph_karate",
          "graph_football",
          "graph_jazz",
          "socfb-nips-ego",
          "socfb-Mich67",
          "socfb-Brandeis99",
          "ego-facebook",
          "graph_CA-GrQc",
          "graph_ncstrlwg2",
          "graph_CA-HepTh",
          "graph_actors_dat",
          "graph_CA-HepPh",
          "graph_CA-AstroPh",
          "graph_CA-CondMat",
          "graph_CA-CondMat",
          "soc-gplus",
          "graph_Email-Enron",
          "musae_git",
          "gemsec_facebook_artist",
          "deezer_HR",
          "loc-gowalla_edges",
          "Amazon0302",
          "com-dblp.ungraph",
          "Amazon0312",
          "Amazon0601",
          "Amazon0505",
          "com-youtube.ungraph"
         ],
         "xaxis": "x",
         "y": [
          4,
          9,
          33,
          30,
          239,
          270,
          481,
          666,
          1102,
          1396,
          1548,
          1047,
          1560,
          1715,
          3149,
          3149,
          350,
          3184,
          294,
          1131,
          3467,
          7038,
          54690,
          41985,
          66398,
          62423,
          61600,
          55664
         ],
         "yaxis": "y"
        },
        {
         "alignmentgroup": "True",
         "bingroup": "x",
         "histfunc": "sum",
         "hovertemplate": "model=GAT<br>graph=%{x}<br>sum of n_covered=%{y}<extra></extra>",
         "legendgroup": "GAT",
         "marker": {
          "color": "#ab63fa"
         },
         "name": "GAT",
         "offsetgroup": "GAT",
         "orientation": "v",
         "showlegend": true,
         "type": "histogram",
         "x": [
          "graph_dolphins",
          "graph_karate",
          "graph_football",
          "graph_jazz",
          "socfb-nips-ego",
          "socfb-Mich67",
          "socfb-Brandeis99",
          "ego-facebook",
          "graph_CA-GrQc",
          "graph_ncstrlwg2",
          "graph_CA-HepTh",
          "graph_actors_dat",
          "graph_CA-HepPh",
          "graph_CA-AstroPh",
          "graph_CA-CondMat",
          "graph_CA-CondMat",
          "soc-gplus",
          "graph_Email-Enron",
          "musae_git",
          "gemsec_facebook_artist",
          "deezer_HR",
          "loc-gowalla_edges",
          "Amazon0302",
          "com-dblp.ungraph",
          "Amazon0312",
          "Amazon0601",
          "Amazon0505",
          "com-youtube.ungraph"
         ],
         "xaxis": "x",
         "y": [
          8,
          14,
          36,
          41,
          671,
          750,
          1123,
          1127,
          1385,
          1772,
          2081,
          2692,
          2185,
          2803,
          4434,
          4434,
          1598,
          6235,
          5602,
          3440,
          4718,
          19716,
          71673,
          61862,
          95346,
          95120,
          96816,
          104458
         ],
         "yaxis": "y"
        },
        {
         "alignmentgroup": "True",
         "bingroup": "x",
         "histfunc": "sum",
         "hovertemplate": "model=GRAT<br>graph=%{x}<br>sum of n_covered=%{y}<extra></extra>",
         "legendgroup": "GRAT",
         "marker": {
          "color": "#FFA15A"
         },
         "name": "GRAT",
         "offsetgroup": "GRAT",
         "orientation": "v",
         "showlegend": true,
         "type": "histogram",
         "x": [
          "graph_dolphins",
          "graph_karate",
          "graph_football",
          "graph_jazz",
          "socfb-nips-ego",
          "socfb-Mich67",
          "socfb-Brandeis99",
          "ego-facebook",
          "graph_CA-GrQc",
          "graph_ncstrlwg2",
          "graph_CA-HepTh",
          "graph_actors_dat",
          "graph_CA-HepPh",
          "graph_CA-AstroPh",
          "graph_CA-CondMat",
          "graph_CA-CondMat",
          "soc-gplus",
          "graph_Email-Enron",
          "musae_git",
          "gemsec_facebook_artist",
          "deezer_HR",
          "loc-gowalla_edges",
          "Amazon0302",
          "com-dblp.ungraph",
          "Amazon0312",
          "Amazon0601",
          "Amazon0505",
          "com-youtube.ungraph"
         ],
         "xaxis": "x",
         "y": [
          3,
          9,
          32,
          55,
          434,
          831,
          952,
          1174,
          1066,
          1153,
          1435,
          2600,
          2350,
          2907,
          3179,
          3179,
          1089,
          3326,
          462,
          3843,
          6181,
          11170,
          35649,
          38568,
          37854,
          37394,
          39437,
          41433
         ],
         "yaxis": "y"
        }
       ],
       "layout": {
        "barmode": "group",
        "height": 400,
        "legend": {
         "title": {
          "text": "model"
         },
         "tracegroupgap": 0
        },
        "margin": {
         "t": 60
        },
        "template": {
         "data": {
          "bar": [
           {
            "error_x": {
             "color": "#2a3f5f"
            },
            "error_y": {
             "color": "#2a3f5f"
            },
            "marker": {
             "line": {
              "color": "#E5ECF6",
              "width": 0.5
             }
            },
            "type": "bar"
           }
          ],
          "barpolar": [
           {
            "marker": {
             "line": {
              "color": "#E5ECF6",
              "width": 0.5
             }
            },
            "type": "barpolar"
           }
          ],
          "carpet": [
           {
            "aaxis": {
             "endlinecolor": "#2a3f5f",
             "gridcolor": "white",
             "linecolor": "white",
             "minorgridcolor": "white",
             "startlinecolor": "#2a3f5f"
            },
            "baxis": {
             "endlinecolor": "#2a3f5f",
             "gridcolor": "white",
             "linecolor": "white",
             "minorgridcolor": "white",
             "startlinecolor": "#2a3f5f"
            },
            "type": "carpet"
           }
          ],
          "choropleth": [
           {
            "colorbar": {
             "outlinewidth": 0,
             "ticks": ""
            },
            "type": "choropleth"
           }
          ],
          "contour": [
           {
            "colorbar": {
             "outlinewidth": 0,
             "ticks": ""
            },
            "colorscale": [
             [
              0,
              "#0d0887"
             ],
             [
              0.1111111111111111,
              "#46039f"
             ],
             [
              0.2222222222222222,
              "#7201a8"
             ],
             [
              0.3333333333333333,
              "#9c179e"
             ],
             [
              0.4444444444444444,
              "#bd3786"
             ],
             [
              0.5555555555555556,
              "#d8576b"
             ],
             [
              0.6666666666666666,
              "#ed7953"
             ],
             [
              0.7777777777777778,
              "#fb9f3a"
             ],
             [
              0.8888888888888888,
              "#fdca26"
             ],
             [
              1,
              "#f0f921"
             ]
            ],
            "type": "contour"
           }
          ],
          "contourcarpet": [
           {
            "colorbar": {
             "outlinewidth": 0,
             "ticks": ""
            },
            "type": "contourcarpet"
           }
          ],
          "heatmap": [
           {
            "colorbar": {
             "outlinewidth": 0,
             "ticks": ""
            },
            "colorscale": [
             [
              0,
              "#0d0887"
             ],
             [
              0.1111111111111111,
              "#46039f"
             ],
             [
              0.2222222222222222,
              "#7201a8"
             ],
             [
              0.3333333333333333,
              "#9c179e"
             ],
             [
              0.4444444444444444,
              "#bd3786"
             ],
             [
              0.5555555555555556,
              "#d8576b"
             ],
             [
              0.6666666666666666,
              "#ed7953"
             ],
             [
              0.7777777777777778,
              "#fb9f3a"
             ],
             [
              0.8888888888888888,
              "#fdca26"
             ],
             [
              1,
              "#f0f921"
             ]
            ],
            "type": "heatmap"
           }
          ],
          "heatmapgl": [
           {
            "colorbar": {
             "outlinewidth": 0,
             "ticks": ""
            },
            "colorscale": [
             [
              0,
              "#0d0887"
             ],
             [
              0.1111111111111111,
              "#46039f"
             ],
             [
              0.2222222222222222,
              "#7201a8"
             ],
             [
              0.3333333333333333,
              "#9c179e"
             ],
             [
              0.4444444444444444,
              "#bd3786"
             ],
             [
              0.5555555555555556,
              "#d8576b"
             ],
             [
              0.6666666666666666,
              "#ed7953"
             ],
             [
              0.7777777777777778,
              "#fb9f3a"
             ],
             [
              0.8888888888888888,
              "#fdca26"
             ],
             [
              1,
              "#f0f921"
             ]
            ],
            "type": "heatmapgl"
           }
          ],
          "histogram": [
           {
            "marker": {
             "colorbar": {
              "outlinewidth": 0,
              "ticks": ""
             }
            },
            "type": "histogram"
           }
          ],
          "histogram2d": [
           {
            "colorbar": {
             "outlinewidth": 0,
             "ticks": ""
            },
            "colorscale": [
             [
              0,
              "#0d0887"
             ],
             [
              0.1111111111111111,
              "#46039f"
             ],
             [
              0.2222222222222222,
              "#7201a8"
             ],
             [
              0.3333333333333333,
              "#9c179e"
             ],
             [
              0.4444444444444444,
              "#bd3786"
             ],
             [
              0.5555555555555556,
              "#d8576b"
             ],
             [
              0.6666666666666666,
              "#ed7953"
             ],
             [
              0.7777777777777778,
              "#fb9f3a"
             ],
             [
              0.8888888888888888,
              "#fdca26"
             ],
             [
              1,
              "#f0f921"
             ]
            ],
            "type": "histogram2d"
           }
          ],
          "histogram2dcontour": [
           {
            "colorbar": {
             "outlinewidth": 0,
             "ticks": ""
            },
            "colorscale": [
             [
              0,
              "#0d0887"
             ],
             [
              0.1111111111111111,
              "#46039f"
             ],
             [
              0.2222222222222222,
              "#7201a8"
             ],
             [
              0.3333333333333333,
              "#9c179e"
             ],
             [
              0.4444444444444444,
              "#bd3786"
             ],
             [
              0.5555555555555556,
              "#d8576b"
             ],
             [
              0.6666666666666666,
              "#ed7953"
             ],
             [
              0.7777777777777778,
              "#fb9f3a"
             ],
             [
              0.8888888888888888,
              "#fdca26"
             ],
             [
              1,
              "#f0f921"
             ]
            ],
            "type": "histogram2dcontour"
           }
          ],
          "mesh3d": [
           {
            "colorbar": {
             "outlinewidth": 0,
             "ticks": ""
            },
            "type": "mesh3d"
           }
          ],
          "parcoords": [
           {
            "line": {
             "colorbar": {
              "outlinewidth": 0,
              "ticks": ""
             }
            },
            "type": "parcoords"
           }
          ],
          "pie": [
           {
            "automargin": true,
            "type": "pie"
           }
          ],
          "scatter": [
           {
            "marker": {
             "colorbar": {
              "outlinewidth": 0,
              "ticks": ""
             }
            },
            "type": "scatter"
           }
          ],
          "scatter3d": [
           {
            "line": {
             "colorbar": {
              "outlinewidth": 0,
              "ticks": ""
             }
            },
            "marker": {
             "colorbar": {
              "outlinewidth": 0,
              "ticks": ""
             }
            },
            "type": "scatter3d"
           }
          ],
          "scattercarpet": [
           {
            "marker": {
             "colorbar": {
              "outlinewidth": 0,
              "ticks": ""
             }
            },
            "type": "scattercarpet"
           }
          ],
          "scattergeo": [
           {
            "marker": {
             "colorbar": {
              "outlinewidth": 0,
              "ticks": ""
             }
            },
            "type": "scattergeo"
           }
          ],
          "scattergl": [
           {
            "marker": {
             "colorbar": {
              "outlinewidth": 0,
              "ticks": ""
             }
            },
            "type": "scattergl"
           }
          ],
          "scattermapbox": [
           {
            "marker": {
             "colorbar": {
              "outlinewidth": 0,
              "ticks": ""
             }
            },
            "type": "scattermapbox"
           }
          ],
          "scatterpolar": [
           {
            "marker": {
             "colorbar": {
              "outlinewidth": 0,
              "ticks": ""
             }
            },
            "type": "scatterpolar"
           }
          ],
          "scatterpolargl": [
           {
            "marker": {
             "colorbar": {
              "outlinewidth": 0,
              "ticks": ""
             }
            },
            "type": "scatterpolargl"
           }
          ],
          "scatterternary": [
           {
            "marker": {
             "colorbar": {
              "outlinewidth": 0,
              "ticks": ""
             }
            },
            "type": "scatterternary"
           }
          ],
          "surface": [
           {
            "colorbar": {
             "outlinewidth": 0,
             "ticks": ""
            },
            "colorscale": [
             [
              0,
              "#0d0887"
             ],
             [
              0.1111111111111111,
              "#46039f"
             ],
             [
              0.2222222222222222,
              "#7201a8"
             ],
             [
              0.3333333333333333,
              "#9c179e"
             ],
             [
              0.4444444444444444,
              "#bd3786"
             ],
             [
              0.5555555555555556,
              "#d8576b"
             ],
             [
              0.6666666666666666,
              "#ed7953"
             ],
             [
              0.7777777777777778,
              "#fb9f3a"
             ],
             [
              0.8888888888888888,
              "#fdca26"
             ],
             [
              1,
              "#f0f921"
             ]
            ],
            "type": "surface"
           }
          ],
          "table": [
           {
            "cells": {
             "fill": {
              "color": "#EBF0F8"
             },
             "line": {
              "color": "white"
             }
            },
            "header": {
             "fill": {
              "color": "#C8D4E3"
             },
             "line": {
              "color": "white"
             }
            },
            "type": "table"
           }
          ]
         },
         "layout": {
          "annotationdefaults": {
           "arrowcolor": "#2a3f5f",
           "arrowhead": 0,
           "arrowwidth": 1
          },
          "autotypenumbers": "strict",
          "coloraxis": {
           "colorbar": {
            "outlinewidth": 0,
            "ticks": ""
           }
          },
          "colorscale": {
           "diverging": [
            [
             0,
             "#8e0152"
            ],
            [
             0.1,
             "#c51b7d"
            ],
            [
             0.2,
             "#de77ae"
            ],
            [
             0.3,
             "#f1b6da"
            ],
            [
             0.4,
             "#fde0ef"
            ],
            [
             0.5,
             "#f7f7f7"
            ],
            [
             0.6,
             "#e6f5d0"
            ],
            [
             0.7,
             "#b8e186"
            ],
            [
             0.8,
             "#7fbc41"
            ],
            [
             0.9,
             "#4d9221"
            ],
            [
             1,
             "#276419"
            ]
           ],
           "sequential": [
            [
             0,
             "#0d0887"
            ],
            [
             0.1111111111111111,
             "#46039f"
            ],
            [
             0.2222222222222222,
             "#7201a8"
            ],
            [
             0.3333333333333333,
             "#9c179e"
            ],
            [
             0.4444444444444444,
             "#bd3786"
            ],
            [
             0.5555555555555556,
             "#d8576b"
            ],
            [
             0.6666666666666666,
             "#ed7953"
            ],
            [
             0.7777777777777778,
             "#fb9f3a"
            ],
            [
             0.8888888888888888,
             "#fdca26"
            ],
            [
             1,
             "#f0f921"
            ]
           ],
           "sequentialminus": [
            [
             0,
             "#0d0887"
            ],
            [
             0.1111111111111111,
             "#46039f"
            ],
            [
             0.2222222222222222,
             "#7201a8"
            ],
            [
             0.3333333333333333,
             "#9c179e"
            ],
            [
             0.4444444444444444,
             "#bd3786"
            ],
            [
             0.5555555555555556,
             "#d8576b"
            ],
            [
             0.6666666666666666,
             "#ed7953"
            ],
            [
             0.7777777777777778,
             "#fb9f3a"
            ],
            [
             0.8888888888888888,
             "#fdca26"
            ],
            [
             1,
             "#f0f921"
            ]
           ]
          },
          "colorway": [
           "#636efa",
           "#EF553B",
           "#00cc96",
           "#ab63fa",
           "#FFA15A",
           "#19d3f3",
           "#FF6692",
           "#B6E880",
           "#FF97FF",
           "#FECB52"
          ],
          "font": {
           "color": "#2a3f5f"
          },
          "geo": {
           "bgcolor": "white",
           "lakecolor": "white",
           "landcolor": "#E5ECF6",
           "showlakes": true,
           "showland": true,
           "subunitcolor": "white"
          },
          "hoverlabel": {
           "align": "left"
          },
          "hovermode": "closest",
          "mapbox": {
           "style": "light"
          },
          "paper_bgcolor": "white",
          "plot_bgcolor": "#E5ECF6",
          "polar": {
           "angularaxis": {
            "gridcolor": "white",
            "linecolor": "white",
            "ticks": ""
           },
           "bgcolor": "#E5ECF6",
           "radialaxis": {
            "gridcolor": "white",
            "linecolor": "white",
            "ticks": ""
           }
          },
          "scene": {
           "xaxis": {
            "backgroundcolor": "#E5ECF6",
            "gridcolor": "white",
            "gridwidth": 2,
            "linecolor": "white",
            "showbackground": true,
            "ticks": "",
            "zerolinecolor": "white"
           },
           "yaxis": {
            "backgroundcolor": "#E5ECF6",
            "gridcolor": "white",
            "gridwidth": 2,
            "linecolor": "white",
            "showbackground": true,
            "ticks": "",
            "zerolinecolor": "white"
           },
           "zaxis": {
            "backgroundcolor": "#E5ECF6",
            "gridcolor": "white",
            "gridwidth": 2,
            "linecolor": "white",
            "showbackground": true,
            "ticks": "",
            "zerolinecolor": "white"
           }
          },
          "shapedefaults": {
           "line": {
            "color": "#2a3f5f"
           }
          },
          "ternary": {
           "aaxis": {
            "gridcolor": "white",
            "linecolor": "white",
            "ticks": ""
           },
           "baxis": {
            "gridcolor": "white",
            "linecolor": "white",
            "ticks": ""
           },
           "bgcolor": "#E5ECF6",
           "caxis": {
            "gridcolor": "white",
            "linecolor": "white",
            "ticks": ""
           }
          },
          "title": {
           "x": 0.05
          },
          "xaxis": {
           "automargin": true,
           "gridcolor": "white",
           "linecolor": "white",
           "ticks": "",
           "title": {
            "standoff": 15
           },
           "zerolinecolor": "white",
           "zerolinewidth": 2
          },
          "yaxis": {
           "automargin": true,
           "gridcolor": "white",
           "linecolor": "white",
           "ticks": "",
           "title": {
            "standoff": 15
           },
           "zerolinecolor": "white",
           "zerolinewidth": 2
          }
         }
        },
        "xaxis": {
         "anchor": "y",
         "domain": [
          0,
          1
         ],
         "title": {
          "text": "graph"
         }
        },
        "yaxis": {
         "anchor": "x",
         "domain": [
          0,
          1
         ],
         "title": {
          "text": "sum of n_covered"
         }
        }
       }
      },
      "text/html": [
       "<div>                            <div id=\"f5cc4342-2a01-4e5f-b5bb-2bff1b7a9510\" class=\"plotly-graph-div\" style=\"height:400px; width:100%;\"></div>            <script type=\"text/javascript\">                require([\"plotly\"], function(Plotly) {                    window.PLOTLYENV=window.PLOTLYENV || {};                                    if (document.getElementById(\"f5cc4342-2a01-4e5f-b5bb-2bff1b7a9510\")) {                    Plotly.newPlot(                        \"f5cc4342-2a01-4e5f-b5bb-2bff1b7a9510\",                        [{\"alignmentgroup\": \"True\", \"bingroup\": \"x\", \"histfunc\": \"sum\", \"hovertemplate\": \"model=MDH<br>graph=%{x}<br>sum of n_covered=%{y}<extra></extra>\", \"legendgroup\": \"MDH\", \"marker\": {\"color\": \"#636efa\"}, \"name\": \"MDH\", \"offsetgroup\": \"MDH\", \"orientation\": \"v\", \"showlegend\": true, \"type\": \"histogram\", \"x\": [\"dolphins\", \"karate\", \"football\", \"jazz\", \"socfb-nips-ego\", \"socfb-Mich67\", \"socfb-Brandeis99\", \"ego-facebook\", \"CA-GrQc\", \"ncstrlwg2\", \"CA-HepTh\", \"actors_dat\", \"CA-HepPh\", \"CA-AstroPh\", \"CA-CondMat\", \"CA-CondMat\", \"soc-gplus\", \"Email-Enron\", \"musae_git\", \"gemsec_facebook_artist\", \"deezer_HR\", \"loc-gowalla_edges\", \"Amazon0302\", \"com-dblp\", \"Amazon0312\", \"Amazon0601\", \"Amazon0505\", \"com-youtube\"], \"xaxis\": \"x\", \"y\": [3, 8, 32, 29, 10, 206, 396, 534, 1027, 1108, 1389, 1013, 1523, 1636, 2936, 2936, 69, 2880, 196, 430, 2377, 5656, 35804, 37203, 31172, 436, 31951, 3117], \"yaxis\": \"y\"}, {\"alignmentgroup\": \"True\", \"bingroup\": \"x\", \"histfunc\": \"sum\", \"hovertemplate\": \"model=GraphConv<br>graph=%{x}<br>sum of n_covered=%{y}<extra></extra>\", \"legendgroup\": \"GraphConv\", \"marker\": {\"color\": \"#EF553B\"}, \"name\": \"GraphConv\", \"offsetgroup\": \"GraphConv\", \"orientation\": \"v\", \"showlegend\": true, \"type\": \"histogram\", \"x\": [\"graph_dolphins\", \"graph_karate\", \"graph_football\", \"graph_jazz\", \"socfb-nips-ego\", \"socfb-Mich67\", \"socfb-Brandeis99\", \"ego-facebook\", \"graph_CA-GrQc\", \"graph_ncstrlwg2\", \"graph_CA-HepTh\", \"graph_actors_dat\", \"graph_CA-HepPh\", \"graph_CA-AstroPh\", \"graph_CA-CondMat\", \"graph_CA-CondMat\", \"soc-gplus\", \"graph_Email-Enron\", \"musae_git\", \"gemsec_facebook_artist\", \"deezer_HR\", \"loc-gowalla_edges\", \"Amazon0302\", \"com-dblp.ungraph\", \"Amazon0312\", \"Amazon0601\", \"Amazon0505\", \"com-youtube.ungraph\"], \"xaxis\": \"x\", \"y\": [4, 10, 34, 40, 234, 312, 644, 740, 1165, 1487, 1693, 1440, 1749, 1982, 3639, 3639, 287, 3521, 463, 1339, 3398, 7365, 64015, 48390, 77459, 77647, 77336, 50517], \"yaxis\": \"y\"}, {\"alignmentgroup\": \"True\", \"bingroup\": \"x\", \"histfunc\": \"sum\", \"hovertemplate\": \"model=GCN<br>graph=%{x}<br>sum of n_covered=%{y}<extra></extra>\", \"legendgroup\": \"GCN\", \"marker\": {\"color\": \"#00cc96\"}, \"name\": \"GCN\", \"offsetgroup\": \"GCN\", \"orientation\": \"v\", \"showlegend\": true, \"type\": \"histogram\", \"x\": [\"graph_dolphins\", \"graph_karate\", \"graph_football\", \"graph_jazz\", \"socfb-nips-ego\", \"socfb-Mich67\", \"socfb-Brandeis99\", \"ego-facebook\", \"graph_CA-GrQc\", \"graph_ncstrlwg2\", \"graph_CA-HepTh\", \"graph_actors_dat\", \"graph_CA-HepPh\", \"graph_CA-AstroPh\", \"graph_CA-CondMat\", \"graph_CA-CondMat\", \"soc-gplus\", \"graph_Email-Enron\", \"musae_git\", \"gemsec_facebook_artist\", \"deezer_HR\", \"loc-gowalla_edges\", \"Amazon0302\", \"com-dblp.ungraph\", \"Amazon0312\", \"Amazon0601\", \"Amazon0505\", \"com-youtube.ungraph\"], \"xaxis\": \"x\", \"y\": [4, 9, 33, 30, 239, 270, 481, 666, 1102, 1396, 1548, 1047, 1560, 1715, 3149, 3149, 350, 3184, 294, 1131, 3467, 7038, 54690, 41985, 66398, 62423, 61600, 55664], \"yaxis\": \"y\"}, {\"alignmentgroup\": \"True\", \"bingroup\": \"x\", \"histfunc\": \"sum\", \"hovertemplate\": \"model=GAT<br>graph=%{x}<br>sum of n_covered=%{y}<extra></extra>\", \"legendgroup\": \"GAT\", \"marker\": {\"color\": \"#ab63fa\"}, \"name\": \"GAT\", \"offsetgroup\": \"GAT\", \"orientation\": \"v\", \"showlegend\": true, \"type\": \"histogram\", \"x\": [\"graph_dolphins\", \"graph_karate\", \"graph_football\", \"graph_jazz\", \"socfb-nips-ego\", \"socfb-Mich67\", \"socfb-Brandeis99\", \"ego-facebook\", \"graph_CA-GrQc\", \"graph_ncstrlwg2\", \"graph_CA-HepTh\", \"graph_actors_dat\", \"graph_CA-HepPh\", \"graph_CA-AstroPh\", \"graph_CA-CondMat\", \"graph_CA-CondMat\", \"soc-gplus\", \"graph_Email-Enron\", \"musae_git\", \"gemsec_facebook_artist\", \"deezer_HR\", \"loc-gowalla_edges\", \"Amazon0302\", \"com-dblp.ungraph\", \"Amazon0312\", \"Amazon0601\", \"Amazon0505\", \"com-youtube.ungraph\"], \"xaxis\": \"x\", \"y\": [8, 14, 36, 41, 671, 750, 1123, 1127, 1385, 1772, 2081, 2692, 2185, 2803, 4434, 4434, 1598, 6235, 5602, 3440, 4718, 19716, 71673, 61862, 95346, 95120, 96816, 104458], \"yaxis\": \"y\"}, {\"alignmentgroup\": \"True\", \"bingroup\": \"x\", \"histfunc\": \"sum\", \"hovertemplate\": \"model=GRAT<br>graph=%{x}<br>sum of n_covered=%{y}<extra></extra>\", \"legendgroup\": \"GRAT\", \"marker\": {\"color\": \"#FFA15A\"}, \"name\": \"GRAT\", \"offsetgroup\": \"GRAT\", \"orientation\": \"v\", \"showlegend\": true, \"type\": \"histogram\", \"x\": [\"graph_dolphins\", \"graph_karate\", \"graph_football\", \"graph_jazz\", \"socfb-nips-ego\", \"socfb-Mich67\", \"socfb-Brandeis99\", \"ego-facebook\", \"graph_CA-GrQc\", \"graph_ncstrlwg2\", \"graph_CA-HepTh\", \"graph_actors_dat\", \"graph_CA-HepPh\", \"graph_CA-AstroPh\", \"graph_CA-CondMat\", \"graph_CA-CondMat\", \"soc-gplus\", \"graph_Email-Enron\", \"musae_git\", \"gemsec_facebook_artist\", \"deezer_HR\", \"loc-gowalla_edges\", \"Amazon0302\", \"com-dblp.ungraph\", \"Amazon0312\", \"Amazon0601\", \"Amazon0505\", \"com-youtube.ungraph\"], \"xaxis\": \"x\", \"y\": [3, 9, 32, 55, 434, 831, 952, 1174, 1066, 1153, 1435, 2600, 2350, 2907, 3179, 3179, 1089, 3326, 462, 3843, 6181, 11170, 35649, 38568, 37854, 37394, 39437, 41433], \"yaxis\": \"y\"}],                        {\"barmode\": \"group\", \"height\": 400, \"legend\": {\"title\": {\"text\": \"model\"}, \"tracegroupgap\": 0}, \"margin\": {\"t\": 60}, \"template\": {\"data\": {\"bar\": [{\"error_x\": {\"color\": \"#2a3f5f\"}, \"error_y\": {\"color\": \"#2a3f5f\"}, \"marker\": {\"line\": {\"color\": \"#E5ECF6\", \"width\": 0.5}}, \"type\": \"bar\"}], \"barpolar\": [{\"marker\": {\"line\": {\"color\": \"#E5ECF6\", \"width\": 0.5}}, \"type\": \"barpolar\"}], \"carpet\": [{\"aaxis\": {\"endlinecolor\": \"#2a3f5f\", \"gridcolor\": \"white\", \"linecolor\": \"white\", \"minorgridcolor\": \"white\", \"startlinecolor\": \"#2a3f5f\"}, \"baxis\": {\"endlinecolor\": \"#2a3f5f\", \"gridcolor\": \"white\", \"linecolor\": \"white\", \"minorgridcolor\": \"white\", \"startlinecolor\": \"#2a3f5f\"}, \"type\": \"carpet\"}], \"choropleth\": [{\"colorbar\": {\"outlinewidth\": 0, \"ticks\": \"\"}, \"type\": \"choropleth\"}], \"contour\": [{\"colorbar\": {\"outlinewidth\": 0, \"ticks\": \"\"}, \"colorscale\": [[0.0, \"#0d0887\"], [0.1111111111111111, \"#46039f\"], [0.2222222222222222, \"#7201a8\"], [0.3333333333333333, \"#9c179e\"], [0.4444444444444444, \"#bd3786\"], [0.5555555555555556, \"#d8576b\"], [0.6666666666666666, \"#ed7953\"], [0.7777777777777778, \"#fb9f3a\"], [0.8888888888888888, \"#fdca26\"], [1.0, \"#f0f921\"]], \"type\": \"contour\"}], \"contourcarpet\": [{\"colorbar\": {\"outlinewidth\": 0, \"ticks\": \"\"}, \"type\": \"contourcarpet\"}], \"heatmap\": [{\"colorbar\": {\"outlinewidth\": 0, \"ticks\": \"\"}, \"colorscale\": [[0.0, \"#0d0887\"], [0.1111111111111111, \"#46039f\"], [0.2222222222222222, \"#7201a8\"], [0.3333333333333333, \"#9c179e\"], [0.4444444444444444, \"#bd3786\"], [0.5555555555555556, \"#d8576b\"], [0.6666666666666666, \"#ed7953\"], [0.7777777777777778, \"#fb9f3a\"], [0.8888888888888888, \"#fdca26\"], [1.0, \"#f0f921\"]], \"type\": \"heatmap\"}], \"heatmapgl\": [{\"colorbar\": {\"outlinewidth\": 0, \"ticks\": \"\"}, \"colorscale\": [[0.0, \"#0d0887\"], [0.1111111111111111, \"#46039f\"], [0.2222222222222222, \"#7201a8\"], [0.3333333333333333, \"#9c179e\"], [0.4444444444444444, \"#bd3786\"], [0.5555555555555556, \"#d8576b\"], [0.6666666666666666, \"#ed7953\"], [0.7777777777777778, \"#fb9f3a\"], [0.8888888888888888, \"#fdca26\"], [1.0, \"#f0f921\"]], \"type\": \"heatmapgl\"}], \"histogram\": [{\"marker\": {\"colorbar\": {\"outlinewidth\": 0, \"ticks\": \"\"}}, \"type\": \"histogram\"}], \"histogram2d\": [{\"colorbar\": {\"outlinewidth\": 0, \"ticks\": \"\"}, \"colorscale\": [[0.0, \"#0d0887\"], [0.1111111111111111, \"#46039f\"], [0.2222222222222222, \"#7201a8\"], [0.3333333333333333, \"#9c179e\"], [0.4444444444444444, \"#bd3786\"], [0.5555555555555556, \"#d8576b\"], [0.6666666666666666, \"#ed7953\"], [0.7777777777777778, \"#fb9f3a\"], [0.8888888888888888, \"#fdca26\"], [1.0, \"#f0f921\"]], \"type\": \"histogram2d\"}], \"histogram2dcontour\": [{\"colorbar\": {\"outlinewidth\": 0, \"ticks\": \"\"}, \"colorscale\": [[0.0, \"#0d0887\"], [0.1111111111111111, \"#46039f\"], [0.2222222222222222, \"#7201a8\"], [0.3333333333333333, \"#9c179e\"], [0.4444444444444444, \"#bd3786\"], [0.5555555555555556, \"#d8576b\"], [0.6666666666666666, \"#ed7953\"], [0.7777777777777778, \"#fb9f3a\"], [0.8888888888888888, \"#fdca26\"], [1.0, \"#f0f921\"]], \"type\": \"histogram2dcontour\"}], \"mesh3d\": [{\"colorbar\": {\"outlinewidth\": 0, \"ticks\": \"\"}, \"type\": \"mesh3d\"}], \"parcoords\": [{\"line\": {\"colorbar\": {\"outlinewidth\": 0, \"ticks\": \"\"}}, \"type\": \"parcoords\"}], \"pie\": [{\"automargin\": true, \"type\": \"pie\"}], \"scatter\": [{\"marker\": {\"colorbar\": {\"outlinewidth\": 0, \"ticks\": \"\"}}, \"type\": \"scatter\"}], \"scatter3d\": [{\"line\": {\"colorbar\": {\"outlinewidth\": 0, \"ticks\": \"\"}}, \"marker\": {\"colorbar\": {\"outlinewidth\": 0, \"ticks\": \"\"}}, \"type\": \"scatter3d\"}], \"scattercarpet\": [{\"marker\": {\"colorbar\": {\"outlinewidth\": 0, \"ticks\": \"\"}}, \"type\": \"scattercarpet\"}], \"scattergeo\": [{\"marker\": {\"colorbar\": {\"outlinewidth\": 0, \"ticks\": \"\"}}, \"type\": \"scattergeo\"}], \"scattergl\": [{\"marker\": {\"colorbar\": {\"outlinewidth\": 0, \"ticks\": \"\"}}, \"type\": \"scattergl\"}], \"scattermapbox\": [{\"marker\": {\"colorbar\": {\"outlinewidth\": 0, \"ticks\": \"\"}}, \"type\": \"scattermapbox\"}], \"scatterpolar\": [{\"marker\": {\"colorbar\": {\"outlinewidth\": 0, \"ticks\": \"\"}}, \"type\": \"scatterpolar\"}], \"scatterpolargl\": [{\"marker\": {\"colorbar\": {\"outlinewidth\": 0, \"ticks\": \"\"}}, \"type\": \"scatterpolargl\"}], \"scatterternary\": [{\"marker\": {\"colorbar\": {\"outlinewidth\": 0, \"ticks\": \"\"}}, \"type\": \"scatterternary\"}], \"surface\": [{\"colorbar\": {\"outlinewidth\": 0, \"ticks\": \"\"}, \"colorscale\": [[0.0, \"#0d0887\"], [0.1111111111111111, \"#46039f\"], [0.2222222222222222, \"#7201a8\"], [0.3333333333333333, \"#9c179e\"], [0.4444444444444444, \"#bd3786\"], [0.5555555555555556, \"#d8576b\"], [0.6666666666666666, \"#ed7953\"], [0.7777777777777778, \"#fb9f3a\"], [0.8888888888888888, \"#fdca26\"], [1.0, \"#f0f921\"]], \"type\": \"surface\"}], \"table\": [{\"cells\": {\"fill\": {\"color\": \"#EBF0F8\"}, \"line\": {\"color\": \"white\"}}, \"header\": {\"fill\": {\"color\": \"#C8D4E3\"}, \"line\": {\"color\": \"white\"}}, \"type\": \"table\"}]}, \"layout\": {\"annotationdefaults\": {\"arrowcolor\": \"#2a3f5f\", \"arrowhead\": 0, \"arrowwidth\": 1}, \"autotypenumbers\": \"strict\", \"coloraxis\": {\"colorbar\": {\"outlinewidth\": 0, \"ticks\": \"\"}}, \"colorscale\": {\"diverging\": [[0, \"#8e0152\"], [0.1, \"#c51b7d\"], [0.2, \"#de77ae\"], [0.3, \"#f1b6da\"], [0.4, \"#fde0ef\"], [0.5, \"#f7f7f7\"], [0.6, \"#e6f5d0\"], [0.7, \"#b8e186\"], [0.8, \"#7fbc41\"], [0.9, \"#4d9221\"], [1, \"#276419\"]], \"sequential\": [[0.0, \"#0d0887\"], [0.1111111111111111, \"#46039f\"], [0.2222222222222222, \"#7201a8\"], [0.3333333333333333, \"#9c179e\"], [0.4444444444444444, \"#bd3786\"], [0.5555555555555556, \"#d8576b\"], [0.6666666666666666, \"#ed7953\"], [0.7777777777777778, \"#fb9f3a\"], [0.8888888888888888, \"#fdca26\"], [1.0, \"#f0f921\"]], \"sequentialminus\": [[0.0, \"#0d0887\"], [0.1111111111111111, \"#46039f\"], [0.2222222222222222, \"#7201a8\"], [0.3333333333333333, \"#9c179e\"], [0.4444444444444444, \"#bd3786\"], [0.5555555555555556, \"#d8576b\"], [0.6666666666666666, \"#ed7953\"], [0.7777777777777778, \"#fb9f3a\"], [0.8888888888888888, \"#fdca26\"], [1.0, \"#f0f921\"]]}, \"colorway\": [\"#636efa\", \"#EF553B\", \"#00cc96\", \"#ab63fa\", \"#FFA15A\", \"#19d3f3\", \"#FF6692\", \"#B6E880\", \"#FF97FF\", \"#FECB52\"], \"font\": {\"color\": \"#2a3f5f\"}, \"geo\": {\"bgcolor\": \"white\", \"lakecolor\": \"white\", \"landcolor\": \"#E5ECF6\", \"showlakes\": true, \"showland\": true, \"subunitcolor\": \"white\"}, \"hoverlabel\": {\"align\": \"left\"}, \"hovermode\": \"closest\", \"mapbox\": {\"style\": \"light\"}, \"paper_bgcolor\": \"white\", \"plot_bgcolor\": \"#E5ECF6\", \"polar\": {\"angularaxis\": {\"gridcolor\": \"white\", \"linecolor\": \"white\", \"ticks\": \"\"}, \"bgcolor\": \"#E5ECF6\", \"radialaxis\": {\"gridcolor\": \"white\", \"linecolor\": \"white\", \"ticks\": \"\"}}, \"scene\": {\"xaxis\": {\"backgroundcolor\": \"#E5ECF6\", \"gridcolor\": \"white\", \"gridwidth\": 2, \"linecolor\": \"white\", \"showbackground\": true, \"ticks\": \"\", \"zerolinecolor\": \"white\"}, \"yaxis\": {\"backgroundcolor\": \"#E5ECF6\", \"gridcolor\": \"white\", \"gridwidth\": 2, \"linecolor\": \"white\", \"showbackground\": true, \"ticks\": \"\", \"zerolinecolor\": \"white\"}, \"zaxis\": {\"backgroundcolor\": \"#E5ECF6\", \"gridcolor\": \"white\", \"gridwidth\": 2, \"linecolor\": \"white\", \"showbackground\": true, \"ticks\": \"\", \"zerolinecolor\": \"white\"}}, \"shapedefaults\": {\"line\": {\"color\": \"#2a3f5f\"}}, \"ternary\": {\"aaxis\": {\"gridcolor\": \"white\", \"linecolor\": \"white\", \"ticks\": \"\"}, \"baxis\": {\"gridcolor\": \"white\", \"linecolor\": \"white\", \"ticks\": \"\"}, \"bgcolor\": \"#E5ECF6\", \"caxis\": {\"gridcolor\": \"white\", \"linecolor\": \"white\", \"ticks\": \"\"}}, \"title\": {\"x\": 0.05}, \"xaxis\": {\"automargin\": true, \"gridcolor\": \"white\", \"linecolor\": \"white\", \"ticks\": \"\", \"title\": {\"standoff\": 15}, \"zerolinecolor\": \"white\", \"zerolinewidth\": 2}, \"yaxis\": {\"automargin\": true, \"gridcolor\": \"white\", \"linecolor\": \"white\", \"ticks\": \"\", \"title\": {\"standoff\": 15}, \"zerolinecolor\": \"white\", \"zerolinewidth\": 2}}}, \"xaxis\": {\"anchor\": \"y\", \"domain\": [0.0, 1.0], \"title\": {\"text\": \"graph\"}}, \"yaxis\": {\"anchor\": \"x\", \"domain\": [0.0, 1.0], \"title\": {\"text\": \"sum of n_covered\"}}},                        {\"responsive\": true}                    ).then(function(){\n",
       "                            \n",
       "var gd = document.getElementById('f5cc4342-2a01-4e5f-b5bb-2bff1b7a9510');\n",
       "var x = new MutationObserver(function (mutations, observer) {{\n",
       "        var display = window.getComputedStyle(gd).display;\n",
       "        if (!display || display === 'none') {{\n",
       "            console.log([gd, 'removed!']);\n",
       "            Plotly.purge(gd);\n",
       "            observer.disconnect();\n",
       "        }}\n",
       "}});\n",
       "\n",
       "// Listen for the removal of the full notebook cells\n",
       "var notebookContainer = gd.closest('#notebook-container');\n",
       "if (notebookContainer) {{\n",
       "    x.observe(notebookContainer, {childList: true});\n",
       "}}\n",
       "\n",
       "// Listen for the clearing of the current output cell\n",
       "var outputEl = gd.closest('.output');\n",
       "if (outputEl) {{\n",
       "    x.observe(outputEl, {childList: true});\n",
       "}}\n",
       "\n",
       "                        })                };                });            </script>        </div>"
      ]
     },
     "metadata": {},
     "output_type": "display_data"
    }
   ],
   "source": [
    "fig = px.histogram(Full, x=\"graph\", y=\"n_covered\",\n",
    "             color='model', barmode='group',\n",
    "             height=400)\n",
    "fig.show()"
   ]
  },
  {
   "cell_type": "code",
   "execution_count": 53,
   "id": "952613d0",
   "metadata": {
    "ExecuteTime": {
     "end_time": "2022-11-07T22:43:44.809632Z",
     "start_time": "2022-11-07T22:43:44.782503Z"
    }
   },
   "outputs": [
    {
     "name": "stderr",
     "output_type": "stream",
     "text": [
      "C:\\Users\\Jairo Enrique\\AppData\\Local\\Temp\\ipykernel_5844\\858979467.py:1: FutureWarning:\n",
      "\n",
      "The default value of numeric_only in DataFrameGroupBy.mean is deprecated. In a future version, numeric_only will default to False. Either specify numeric_only or select only columns which should be valid for the function.\n",
      "\n"
     ]
    },
    {
     "data": {
      "text/html": [
       "<div>\n",
       "<style scoped>\n",
       "    .dataframe tbody tr th:only-of-type {\n",
       "        vertical-align: middle;\n",
       "    }\n",
       "\n",
       "    .dataframe tbody tr th {\n",
       "        vertical-align: top;\n",
       "    }\n",
       "\n",
       "    .dataframe thead th {\n",
       "        text-align: right;\n",
       "    }\n",
       "</style>\n",
       "<table border=\"1\" class=\"dataframe\">\n",
       "  <thead>\n",
       "    <tr style=\"text-align: right;\">\n",
       "      <th></th>\n",
       "      <th>n_covered</th>\n",
       "      <th>n</th>\n",
       "      <th>t_mean</th>\n",
       "    </tr>\n",
       "    <tr>\n",
       "      <th>model</th>\n",
       "      <th></th>\n",
       "      <th></th>\n",
       "      <th></th>\n",
       "    </tr>\n",
       "  </thead>\n",
       "  <tbody>\n",
       "    <tr>\n",
       "      <th>GAT</th>\n",
       "      <td>21147.857143</td>\n",
       "      <td>123275.785714</td>\n",
       "      <td>64.052143</td>\n",
       "    </tr>\n",
       "    <tr>\n",
       "      <th>GCN</th>\n",
       "      <td>13379.357143</td>\n",
       "      <td>123275.785714</td>\n",
       "      <td>12.248929</td>\n",
       "    </tr>\n",
       "    <tr>\n",
       "      <th>GRAT</th>\n",
       "      <td>9920.178571</td>\n",
       "      <td>123275.785714</td>\n",
       "      <td>11.856036</td>\n",
       "    </tr>\n",
       "    <tr>\n",
       "      <th>GraphConv</th>\n",
       "      <td>15376.750000</td>\n",
       "      <td>123275.785714</td>\n",
       "      <td>35.487107</td>\n",
       "    </tr>\n",
       "    <tr>\n",
       "      <th>MDH</th>\n",
       "      <td>5931.321429</td>\n",
       "      <td>123272.357143</td>\n",
       "      <td>473.571196</td>\n",
       "    </tr>\n",
       "  </tbody>\n",
       "</table>\n",
       "</div>"
      ],
      "text/plain": [
       "              n_covered              n      t_mean\n",
       "model                                             \n",
       "GAT        21147.857143  123275.785714   64.052143\n",
       "GCN        13379.357143  123275.785714   12.248929\n",
       "GRAT        9920.178571  123275.785714   11.856036\n",
       "GraphConv  15376.750000  123275.785714   35.487107\n",
       "MDH         5931.321429  123272.357143  473.571196"
      ]
     },
     "execution_count": 53,
     "metadata": {},
     "output_type": "execute_result"
    }
   ],
   "source": [
    "Full.groupby(by = \"model\").mean()"
   ]
  },
  {
   "cell_type": "markdown",
   "id": "d2b7e78b",
   "metadata": {},
   "source": [
    "## Por mejor solución"
   ]
  },
  {
   "cell_type": "code",
   "execution_count": 54,
   "id": "0bac5d8c",
   "metadata": {
    "ExecuteTime": {
     "end_time": "2022-11-07T22:43:54.376913Z",
     "start_time": "2022-11-07T22:43:54.194000Z"
    }
   },
   "outputs": [],
   "source": [
    "models_name = Full.model.unique()\n",
    "Dict = {m: i for m, i in zip(models_name, np.arange(models_name.shape[0]))}\n",
    "\n",
    "MT = np.zeros((models_name.shape[0], models_name.shape[0]))\n",
    "for graph in Full.graph.unique():\n",
    "    \n",
    "    Temp = np.array(Full.query(f\"graph == '{graph}'\").sort_values(by = \"n_covered\", ascending=False).model)\n",
    "    for m in range(Temp.shape[0]):\n",
    "\n",
    "        if (m + 1) == Temp.shape[0]:\n",
    "            MT[ Dict[ Temp[m] ] ][ Dict[ Temp[m] ] ] += 1\n",
    "            continue\n",
    "        MT[ Dict[ Temp[m] ] ][ Dict[ Temp[m + 1] ] ] += 1\n",
    "MT_ = MT / np.sum(MT, axis = 0)"
   ]
  },
  {
   "cell_type": "code",
   "execution_count": 55,
   "id": "051dc7e2",
   "metadata": {
    "ExecuteTime": {
     "end_time": "2022-11-07T22:43:54.933380Z",
     "start_time": "2022-11-07T22:43:54.922363Z"
    }
   },
   "outputs": [
    {
     "name": "stdout",
     "output_type": "stream",
     "text": [
      "[0.03904469 0.17545596 0.18939366 0.22810949 0.36799621] \n",
      " ['MDH' 'GraphConv' 'GCN' 'GAT' 'GRAT']\n"
     ]
    }
   ],
   "source": [
    "SPD_best = np.ones(MT_.shape[0])/MT_.shape[0] # initial distirbution\n",
    "for _ in range(100):\n",
    "    SPD_best = np.dot(MT_, SPD_best.T)\n",
    "print(SPD_best, '\\n',models_name)"
   ]
  },
  {
   "cell_type": "code",
   "execution_count": 56,
   "id": "af86ad0f",
   "metadata": {
    "ExecuteTime": {
     "end_time": "2022-11-07T22:44:02.255980Z",
     "start_time": "2022-11-07T22:44:02.236173Z"
    }
   },
   "outputs": [
    {
     "data": {
      "text/plain": [
       "array(['GRAT', 'GAT', 'GCN', 'GraphConv', 'MDH'], dtype=object)"
      ]
     },
     "execution_count": 56,
     "metadata": {},
     "output_type": "execute_result"
    }
   ],
   "source": [
    "models_name[np.argsort(-SPD_best)]"
   ]
  },
  {
   "cell_type": "code",
   "execution_count": 181,
   "id": "1bbed3e8",
   "metadata": {
    "ExecuteTime": {
     "end_time": "2022-11-02T07:40:59.593603Z",
     "start_time": "2022-11-02T07:40:59.346199Z"
    }
   },
   "outputs": [
    {
     "data": {
      "text/plain": [
       "Text(0.5, 1.0, 'Heatmap for best solution')"
      ]
     },
     "execution_count": 181,
     "metadata": {},
     "output_type": "execute_result"
    },
    {
     "data": {
      "image/png": "[encoded data removed]",
      "text/plain": [
       "<Figure size 640x480 with 2 Axes>"
      ]
     },
     "metadata": {},
     "output_type": "display_data"
    }
   ],
   "source": [
    "sns.heatmap(MT_, annot = True, xticklabels = models_name, yticklabels = models_name)\n",
    "plt.title(\"Heatmap for best solution\")"
   ]
  },
  {
   "cell_type": "markdown",
   "id": "f5715266",
   "metadata": {},
   "source": [
    "## Por tiempo"
   ]
  },
  {
   "cell_type": "code",
   "execution_count": 208,
   "id": "f94933df",
   "metadata": {
    "ExecuteTime": {
     "end_time": "2022-11-02T07:45:20.979556Z",
     "start_time": "2022-11-02T07:45:20.908752Z"
    }
   },
   "outputs": [],
   "source": [
    "MT = np.zeros((models_name.shape[0], models_name.shape[0]))\n",
    "for graph in Full.graph.unique():\n",
    "    Temp = np.array(Full.query(f\"graph == '{graph}'\").sort_values(by = \"t_mean\", ascending=False).model)\n",
    "    for m in range(Temp.shape[0]):\n",
    "\n",
    "        if (m + 1) == Temp.shape[0]:\n",
    "            MT[ Dict[ Temp[m] ] ][ Dict[ Temp[m] ] ] += 1\n",
    "            continue\n",
    "        MT[ Dict[ Temp[m] ] ][ Dict[ Temp[m + 1] ] ] += 1\n",
    "MT_ = MT / np.sum(MT, axis = 0)"
   ]
  },
  {
   "cell_type": "code",
   "execution_count": 209,
   "id": "94d81e18",
   "metadata": {
    "ExecuteTime": {
     "end_time": "2022-11-02T07:45:21.243727Z",
     "start_time": "2022-11-02T07:45:21.235697Z"
    }
   },
   "outputs": [
    {
     "name": "stdout",
     "output_type": "stream",
     "text": [
      "[0.30050102 0.18684683 0.22795364 0.2846985 ] \n",
      " ['GAT' 'GCN' 'GraphConv' 'GRAT']\n"
     ]
    }
   ],
   "source": [
    "SPD_time = np.ones(MT_.shape[0])/MT_.shape[0] # initial distirbution\n",
    "for _ in range(100):\n",
    "    SPD_time = np.dot(MT_, SPD_time)\n",
    "print(SPD_time, '\\n',models_name)"
   ]
  },
  {
   "cell_type": "code",
   "execution_count": 210,
   "id": "46ab724c",
   "metadata": {
    "ExecuteTime": {
     "end_time": "2022-11-02T07:45:21.607311Z",
     "start_time": "2022-11-02T07:45:21.587315Z"
    }
   },
   "outputs": [
    {
     "data": {
      "text/plain": [
       "array(['GAT', 'GRAT', 'GraphConv', 'GCN'], dtype=object)"
      ]
     },
     "execution_count": 210,
     "metadata": {},
     "output_type": "execute_result"
    }
   ],
   "source": [
    "models_name[np.argsort(-SPD_time)]"
   ]
  },
  {
   "cell_type": "code",
   "execution_count": 211,
   "id": "5d163a20",
   "metadata": {
    "ExecuteTime": {
     "end_time": "2022-11-02T07:45:22.724409Z",
     "start_time": "2022-11-02T07:45:22.505707Z"
    }
   },
   "outputs": [
    {
     "data": {
      "text/plain": [
       "Text(0.5, 1.0, 'Heatmap for fastest solution')"
      ]
     },
     "execution_count": 211,
     "metadata": {},
     "output_type": "execute_result"
    },
    {
     "data": {
      "image/png": "[encoded data removed]",
      "text/plain": [
       "<Figure size 640x480 with 2 Axes>"
      ]
     },
     "metadata": {},
     "output_type": "display_data"
    }
   ],
   "source": [
    "sns.heatmap(MT_, annot = True, xticklabels = models_name, yticklabels = models_name)\n",
    "plt.title(\"Heatmap for fastest solution\")"
   ]
  },
  {
   "cell_type": "markdown",
   "id": "44bdda17",
   "metadata": {},
   "source": [
    "## All together"
   ]
  },
  {
   "cell_type": "code",
   "execution_count": 215,
   "id": "8d920673",
   "metadata": {
    "ExecuteTime": {
     "end_time": "2022-11-02T07:49:02.175216Z",
     "start_time": "2022-11-02T07:49:02.164245Z"
    }
   },
   "outputs": [
    {
     "name": "stdout",
     "output_type": "stream",
     "text": [
      "[0.24612 0.25671 0.24446 0.25271]\n",
      "['GAT' 'GCN' 'GraphConv' 'GRAT']\n",
      "\n",
      "----------- Best solution -----------\n",
      "1  -  GCN\n",
      "2  -  GRAT\n",
      "3  -  GAT\n",
      "4  -  GraphConv\n"
     ]
    }
   ],
   "source": [
    "print(np.round(SPD_best, 5))\n",
    "print(models_name)\n",
    "print()\n",
    "print(\"----------- Best solution -----------\")\n",
    "c = 1\n",
    "for g in np.argsort(-SPD_best):\n",
    "    print(c,\" - \", models_name[g])\n",
    "    c+=1"
   ]
  },
  {
   "cell_type": "code",
   "execution_count": 216,
   "id": "c9ad5e0d",
   "metadata": {
    "ExecuteTime": {
     "end_time": "2022-11-02T07:49:02.399328Z",
     "start_time": "2022-11-02T07:49:02.387328Z"
    }
   },
   "outputs": [
    {
     "name": "stdout",
     "output_type": "stream",
     "text": [
      "[0.3005  0.18685 0.22795 0.2847 ]\n",
      "['GAT' 'GCN' 'GraphConv' 'GRAT']\n",
      "\n",
      "----------- Time -----------\n",
      "1  -  GAT\n",
      "2  -  GRAT\n",
      "3  -  GraphConv\n",
      "4  -  GCN\n"
     ]
    }
   ],
   "source": [
    "print(np.round(SPD_time, 5))\n",
    "print(models_name)\n",
    "print()\n",
    "print(\"----------- Time -----------\")\n",
    "c = 1\n",
    "for g in np.argsort(-SPD_time):\n",
    "    print(c,\" - \", models_name[g])\n",
    "    c+=1"
   ]
  },
  {
   "cell_type": "code",
   "execution_count": 68,
   "id": "3042004f",
   "metadata": {
    "ExecuteTime": {
     "end_time": "2022-11-08T16:16:08.043072Z",
     "start_time": "2022-11-08T16:16:08.026143Z"
    }
   },
   "outputs": [],
   "source": [
    "import numpy as np\n",
    "x = np.array([[6.5,7], [5,3],[6,6],[7.5,8.2],[4,4], [6,7], [5,5], [5.1,5.2], [7,8], [8,8], [8,8]])\n",
    "x = np.append(np.ones((11,1)),x, axis = 1)\n",
    "y = np.array([6,8,7,2.5,4,10,5,7,4,12,4])"
   ]
  },
  {
   "cell_type": "code",
   "execution_count": 86,
   "id": "d7e7e171",
   "metadata": {
    "ExecuteTime": {
     "end_time": "2022-11-08T16:34:48.303150Z",
     "start_time": "2022-11-08T16:34:48.282731Z"
    }
   },
   "outputs": [
    {
     "data": {
      "text/plain": [
       "array([[1. , 6.5, 7. ],\n",
       "       [1. , 5. , 3. ],\n",
       "       [1. , 6. , 6. ],\n",
       "       [1. , 7.5, 8.2],\n",
       "       [1. , 4. , 4. ],\n",
       "       [1. , 6. , 7. ],\n",
       "       [1. , 5. , 5. ],\n",
       "       [1. , 5.1, 5.2],\n",
       "       [1. , 7. , 8. ],\n",
       "       [1. , 8. , 8. ],\n",
       "       [1. , 8. , 8. ]])"
      ]
     },
     "execution_count": 86,
     "metadata": {},
     "output_type": "execute_result"
    }
   ],
   "source": [
    "x"
   ]
  },
  {
   "cell_type": "code",
   "execution_count": 73,
   "id": "491ed44c",
   "metadata": {
    "ExecuteTime": {
     "end_time": "2022-11-08T16:17:18.829798Z",
     "start_time": "2022-11-08T16:17:18.801049Z"
    }
   },
   "outputs": [
    {
     "data": {
      "text/plain": [
       "array([[ 2.50477748, -0.61285329,  0.21877171],\n",
       "       [-0.61285329,  0.31657017, -0.21350205],\n",
       "       [ 0.21877171, -0.21350205,  0.1748271 ]])"
      ]
     },
     "execution_count": 73,
     "metadata": {},
     "output_type": "execute_result"
    }
   ],
   "source": [
    "np.linalg.inv(np.dot(x.T, x))"
   ]
  },
  {
   "cell_type": "code",
   "execution_count": 74,
   "id": "b4069a89",
   "metadata": {
    "ExecuteTime": {
     "end_time": "2022-11-08T16:18:28.993261Z",
     "start_time": "2022-11-08T16:18:28.977643Z"
    }
   },
   "outputs": [
    {
     "data": {
      "text/plain": [
       "array([ 69.5 , 432.45, 435.9 ])"
      ]
     },
     "execution_count": 74,
     "metadata": {},
     "output_type": "execute_result"
    }
   ],
   "source": [
    "np.dot(x.T,y)"
   ]
  },
  {
   "cell_type": "code",
   "execution_count": 79,
   "id": "682f7089",
   "metadata": {
    "ExecuteTime": {
     "end_time": "2022-11-08T16:22:29.932063Z",
     "start_time": "2022-11-08T16:22:29.925236Z"
    }
   },
   "outputs": [],
   "source": [
    "B = np.dot(np.linalg.inv(np.dot(x.T, x)), np.dot(x.T,y))\n",
    "B"
   ]
  },
  {
   "cell_type": "code",
   "execution_count": 80,
   "id": "d5fb85be",
   "metadata": {
    "ExecuteTime": {
     "end_time": "2022-11-08T16:22:43.787563Z",
     "start_time": "2022-11-08T16:22:43.771558Z"
    }
   },
   "outputs": [
    {
     "data": {
      "text/plain": [
       "82.13636363636363"
      ]
     },
     "execution_count": 80,
     "metadata": {},
     "output_type": "execute_result"
    }
   ],
   "source": [
    "SST = np.dot(y,y) - (np.sum(y)**2)/11\n",
    "SST"
   ]
  },
  {
   "cell_type": "code",
   "execution_count": 84,
   "id": "66ac8347",
   "metadata": {
    "ExecuteTime": {
     "end_time": "2022-11-08T16:24:06.742304Z",
     "start_time": "2022-11-08T16:24:06.724859Z"
    }
   },
   "outputs": [
    {
     "data": {
      "text/plain": [
       "444.19131364903933"
      ]
     },
     "execution_count": 84,
     "metadata": {},
     "output_type": "execute_result"
    }
   ],
   "source": [
    "np.dot(B, np.dot(x.T,y))"
   ]
  },
  {
   "cell_type": "code",
   "execution_count": 81,
   "id": "6f3e8532",
   "metadata": {
    "ExecuteTime": {
     "end_time": "2022-11-08T16:23:15.664440Z",
     "start_time": "2022-11-08T16:23:15.653718Z"
    }
   },
   "outputs": [
    {
     "data": {
      "text/plain": [
       "77.05868635096067"
      ]
     },
     "execution_count": 81,
     "metadata": {},
     "output_type": "execute_result"
    }
   ],
   "source": [
    "SSE = np.dot(y,y) - np.dot(B, np.dot(x.T,y))\n",
    "SSE"
   ]
  },
  {
   "cell_type": "code",
   "execution_count": 83,
   "id": "007cb220",
   "metadata": {
    "ExecuteTime": {
     "end_time": "2022-11-08T16:23:45.094779Z",
     "start_time": "2022-11-08T16:23:45.083039Z"
    }
   },
   "outputs": [
    {
     "data": {
      "text/plain": [
       "5.077677285402956"
      ]
     },
     "execution_count": 83,
     "metadata": {},
     "output_type": "execute_result"
    }
   ],
   "source": [
    "SSReg = SST - SSE\n",
    "SSReg"
   ]
  },
  {
   "cell_type": "code",
   "execution_count": 90,
   "id": "3d110b50",
   "metadata": {
    "ExecuteTime": {
     "end_time": "2022-11-08T16:41:02.152642Z",
     "start_time": "2022-11-08T16:41:02.137800Z"
    }
   },
   "outputs": [
    {
     "data": {
      "text/plain": [
       "7.663494397900552"
      ]
     },
     "execution_count": 90,
     "metadata": {},
     "output_type": "execute_result"
    }
   ],
   "source": [
    "np.dot(B, [1,10,10])"
   ]
  }
 ],
 "metadata": {
  "hide_input": false,
  "kernelspec": {
   "display_name": "Python 3 (ipykernel)",
   "language": "python",
   "name": "python3"
  },
  "language_info": {
   "codemirror_mode": {
    "name": "ipython",
    "version": 3
   },
   "file_extension": ".py",
   "mimetype": "text/x-python",
   "name": "python",
   "nbconvert_exporter": "python",
   "pygments_lexer": "ipython3",
   "version": "3.8.5"
  },
  "varInspector": {
   "cols": {
    "lenName": 16,
    "lenType": 16,
    "lenVar": 40
   },
   "kernels_config": {
    "python": {
     "delete_cmd_postfix": "",
     "delete_cmd_prefix": "del ",
     "library": "var_list.py",
     "varRefreshCmd": "print(var_dic_list())"
    },
    "r": {
     "delete_cmd_postfix": ") ",
     "delete_cmd_prefix": "rm(",
     "library": "var_list.r",
     "varRefreshCmd": "cat(var_dic_list()) "
    }
   },
   "types_to_exclude": [
    "module",
    "function",
    "builtin_function_or_method",
    "instance",
    "_Feature"
   ],
   "window_display": false
  }
 },
 "nbformat": 4,
 "nbformat_minor": 5
}
