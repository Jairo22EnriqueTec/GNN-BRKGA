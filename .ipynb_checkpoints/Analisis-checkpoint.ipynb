{
 "cells": [
  {
   "cell_type": "code",
   "execution_count": 198,
   "id": "5cdc2e61",
   "metadata": {
    "ExecuteTime": {
     "end_time": "2022-11-26T16:46:58.716804Z",
     "start_time": "2022-11-26T16:46:58.701125Z"
    }
   },
   "outputs": [],
   "source": [
    "import numpy as np\n",
    "import pandas as pd\n",
    "import plotly.express as px\n",
    "import seaborn as sns\n",
    "import matplotlib.pyplot as plt"
   ]
  },
  {
   "cell_type": "code",
   "execution_count": 199,
   "id": "d4169fc4",
   "metadata": {
    "ExecuteTime": {
     "end_time": "2022-11-26T16:46:58.872368Z",
     "start_time": "2022-11-26T16:46:58.847370Z"
    }
   },
   "outputs": [
    {
     "data": {
      "text/html": [
       "<div>\n",
       "<style scoped>\n",
       "    .dataframe tbody tr th:only-of-type {\n",
       "        vertical-align: middle;\n",
       "    }\n",
       "\n",
       "    .dataframe tbody tr th {\n",
       "        vertical-align: top;\n",
       "    }\n",
       "\n",
       "    .dataframe thead th {\n",
       "        text-align: right;\n",
       "    }\n",
       "</style>\n",
       "<table border=\"1\" class=\"dataframe\">\n",
       "  <thead>\n",
       "    <tr style=\"text-align: right;\">\n",
       "      <th></th>\n",
       "      <th>graph</th>\n",
       "      <th>model</th>\n",
       "      <th>n_covered</th>\n",
       "      <th>n</th>\n",
       "      <th>t_mean</th>\n",
       "    </tr>\n",
       "  </thead>\n",
       "  <tbody>\n",
       "    <tr>\n",
       "      <th>0</th>\n",
       "      <td>ER_10000_0</td>\n",
       "      <td>GRAT</td>\n",
       "      <td>1641</td>\n",
       "      <td>10000</td>\n",
       "      <td>0.080</td>\n",
       "    </tr>\n",
       "    <tr>\n",
       "      <th>1</th>\n",
       "      <td>ER_10000_1</td>\n",
       "      <td>GRAT</td>\n",
       "      <td>1624</td>\n",
       "      <td>10000</td>\n",
       "      <td>0.081</td>\n",
       "    </tr>\n",
       "    <tr>\n",
       "      <th>2</th>\n",
       "      <td>ER_10000_2</td>\n",
       "      <td>GRAT</td>\n",
       "      <td>1629</td>\n",
       "      <td>10000</td>\n",
       "      <td>0.085</td>\n",
       "    </tr>\n",
       "    <tr>\n",
       "      <th>3</th>\n",
       "      <td>ER_10000_3</td>\n",
       "      <td>GRAT</td>\n",
       "      <td>1637</td>\n",
       "      <td>10000</td>\n",
       "      <td>0.082</td>\n",
       "    </tr>\n",
       "    <tr>\n",
       "      <th>4</th>\n",
       "      <td>ER_10000_4</td>\n",
       "      <td>GRAT</td>\n",
       "      <td>1642</td>\n",
       "      <td>10000</td>\n",
       "      <td>0.073</td>\n",
       "    </tr>\n",
       "  </tbody>\n",
       "</table>\n",
       "</div>"
      ],
      "text/plain": [
       "        graph model  n_covered      n  t_mean\n",
       "0  ER_10000_0  GRAT       1641  10000   0.080\n",
       "1  ER_10000_1  GRAT       1624  10000   0.081\n",
       "2  ER_10000_2  GRAT       1629  10000   0.085\n",
       "3  ER_10000_3  GRAT       1637  10000   0.082\n",
       "4  ER_10000_4  GRAT       1642  10000   0.073"
      ]
     },
     "execution_count": 199,
     "metadata": {},
     "output_type": "execute_result"
    }
   ],
   "source": [
    "#FastCover = pd.read_csv(\"FastCover/results/scalefree/FastCoverResults_scalefree.txt\", header = None)\n",
    "FastCover = pd.read_csv(\"FastCover/results/paper/FastCoverResults_MDH_erdos.txt\", header = None)\n",
    "FastCover.columns = [\"graph\", \"n_covered\",\"t_mean\",\"n\"]\n",
    "FastCover[\"model\"] = \"GRAT\"\n",
    "FastCover = FastCover[[\"graph\", \"model\",\"n_covered\", \"n\", \"t_mean\"]]\n",
    "FastCover.head()"
   ]
  },
  {
   "cell_type": "code",
   "execution_count": 200,
   "id": "122c71a7",
   "metadata": {
    "ExecuteTime": {
     "end_time": "2022-11-26T16:46:59.044415Z",
     "start_time": "2022-11-26T16:46:59.000471Z"
    }
   },
   "outputs": [
    {
     "data": {
      "text/html": [
       "<div>\n",
       "<style scoped>\n",
       "    .dataframe tbody tr th:only-of-type {\n",
       "        vertical-align: middle;\n",
       "    }\n",
       "\n",
       "    .dataframe tbody tr th {\n",
       "        vertical-align: top;\n",
       "    }\n",
       "\n",
       "    .dataframe thead th {\n",
       "        text-align: right;\n",
       "    }\n",
       "</style>\n",
       "<table border=\"1\" class=\"dataframe\">\n",
       "  <thead>\n",
       "    <tr style=\"text-align: right;\">\n",
       "      <th></th>\n",
       "      <th>graph</th>\n",
       "      <th>model</th>\n",
       "      <th>n_covered</th>\n",
       "      <th>n</th>\n",
       "      <th>t_mean</th>\n",
       "    </tr>\n",
       "  </thead>\n",
       "  <tbody>\n",
       "    <tr>\n",
       "      <th>0</th>\n",
       "      <td>ER_10000_0</td>\n",
       "      <td>GAT</td>\n",
       "      <td>2149</td>\n",
       "      <td>10000</td>\n",
       "      <td>0.089</td>\n",
       "    </tr>\n",
       "    <tr>\n",
       "      <th>1</th>\n",
       "      <td>ER_10000_1</td>\n",
       "      <td>GAT</td>\n",
       "      <td>2131</td>\n",
       "      <td>10000</td>\n",
       "      <td>0.133</td>\n",
       "    </tr>\n",
       "    <tr>\n",
       "      <th>2</th>\n",
       "      <td>ER_10000_2</td>\n",
       "      <td>GAT</td>\n",
       "      <td>2093</td>\n",
       "      <td>10000</td>\n",
       "      <td>0.097</td>\n",
       "    </tr>\n",
       "    <tr>\n",
       "      <th>3</th>\n",
       "      <td>ER_10000_3</td>\n",
       "      <td>GAT</td>\n",
       "      <td>2150</td>\n",
       "      <td>10000</td>\n",
       "      <td>0.097</td>\n",
       "    </tr>\n",
       "    <tr>\n",
       "      <th>4</th>\n",
       "      <td>ER_10000_4</td>\n",
       "      <td>GAT</td>\n",
       "      <td>2101</td>\n",
       "      <td>10000</td>\n",
       "      <td>0.106</td>\n",
       "    </tr>\n",
       "  </tbody>\n",
       "</table>\n",
       "</div>"
      ],
      "text/plain": [
       "        graph model  n_covered      n  t_mean\n",
       "0  ER_10000_0   GAT       2149  10000   0.089\n",
       "1  ER_10000_1   GAT       2131  10000   0.133\n",
       "2  ER_10000_2   GAT       2093  10000   0.097\n",
       "3  ER_10000_3   GAT       2150  10000   0.097\n",
       "4  ER_10000_4   GAT       2101  10000   0.106"
      ]
     },
     "execution_count": 200,
     "metadata": {},
     "output_type": "execute_result"
    }
   ],
   "source": [
    "models = ['GAT', \"GCN\", \"GraphConv\", \"SAGE\"]\n",
    "Full = pd.DataFrame()\n",
    "\n",
    "for model in models:\n",
    "    #GNN = pd.read_csv(f\"Models/results/scalefree/{model}Results_scalefree.txt\", header = None)\n",
    "    GNN = pd.read_csv(f\"Models/results/paper/{model}Results_MDH_erdos.txt\", header = None)\n",
    "    \n",
    "    GNN.columns = [\"graph\", \"n_covered\",\"t_mean\",\"n\"]\n",
    "    GNN[\"model\"] = model\n",
    "    GNN = GNN[[\"graph\", \"model\",\"n_covered\", \"n\", \"t_mean\"]]\n",
    "    \n",
    "    Full = pd.concat([Full, GNN])\n",
    "Full.head()"
   ]
  },
  {
   "cell_type": "code",
   "execution_count": 201,
   "id": "66d5a85f",
   "metadata": {
    "ExecuteTime": {
     "end_time": "2022-11-26T16:46:59.183018Z",
     "start_time": "2022-11-26T16:46:59.155473Z"
    }
   },
   "outputs": [
    {
     "data": {
      "text/html": [
       "<div>\n",
       "<style scoped>\n",
       "    .dataframe tbody tr th:only-of-type {\n",
       "        vertical-align: middle;\n",
       "    }\n",
       "\n",
       "    .dataframe tbody tr th {\n",
       "        vertical-align: top;\n",
       "    }\n",
       "\n",
       "    .dataframe thead th {\n",
       "        text-align: right;\n",
       "    }\n",
       "</style>\n",
       "<table border=\"1\" class=\"dataframe\">\n",
       "  <thead>\n",
       "    <tr style=\"text-align: right;\">\n",
       "      <th></th>\n",
       "      <th>graph</th>\n",
       "      <th>model</th>\n",
       "      <th>n_covered</th>\n",
       "      <th>n</th>\n",
       "      <th>t_mean</th>\n",
       "    </tr>\n",
       "  </thead>\n",
       "  <tbody>\n",
       "    <tr>\n",
       "      <th>0</th>\n",
       "      <td>ER_10000_0</td>\n",
       "      <td>MDH</td>\n",
       "      <td>1632</td>\n",
       "      <td>10000</td>\n",
       "      <td>0.081</td>\n",
       "    </tr>\n",
       "    <tr>\n",
       "      <th>1</th>\n",
       "      <td>ER_10000_1</td>\n",
       "      <td>MDH</td>\n",
       "      <td>1635</td>\n",
       "      <td>10000</td>\n",
       "      <td>0.072</td>\n",
       "    </tr>\n",
       "    <tr>\n",
       "      <th>2</th>\n",
       "      <td>ER_10000_2</td>\n",
       "      <td>MDH</td>\n",
       "      <td>1643</td>\n",
       "      <td>10000</td>\n",
       "      <td>0.065</td>\n",
       "    </tr>\n",
       "    <tr>\n",
       "      <th>3</th>\n",
       "      <td>ER_10000_3</td>\n",
       "      <td>MDH</td>\n",
       "      <td>1623</td>\n",
       "      <td>10000</td>\n",
       "      <td>0.124</td>\n",
       "    </tr>\n",
       "    <tr>\n",
       "      <th>4</th>\n",
       "      <td>ER_10000_4</td>\n",
       "      <td>MDH</td>\n",
       "      <td>1624</td>\n",
       "      <td>10000</td>\n",
       "      <td>0.089</td>\n",
       "    </tr>\n",
       "  </tbody>\n",
       "</table>\n",
       "</div>"
      ],
      "text/plain": [
       "        graph model  n_covered      n  t_mean\n",
       "0  ER_10000_0   MDH       1632  10000   0.081\n",
       "1  ER_10000_1   MDH       1635  10000   0.072\n",
       "2  ER_10000_2   MDH       1643  10000   0.065\n",
       "3  ER_10000_3   MDH       1623  10000   0.124\n",
       "4  ER_10000_4   MDH       1624  10000   0.089"
      ]
     },
     "execution_count": 201,
     "metadata": {},
     "output_type": "execute_result"
    }
   ],
   "source": [
    "MDH = pd.read_csv(f\"MDHResults_erdos.txt\", header = None)\n",
    "MDH.columns = [\"graph\", \"n_covered\",\"t_mean\",\"n\"]\n",
    "MDH[\"model\"] = 'MDH'\n",
    "MDH = MDH[[\"graph\", \"model\",\"n_covered\", \"n\", \"t_mean\"]]\n",
    "MDH.head()"
   ]
  },
  {
   "cell_type": "code",
   "execution_count": 202,
   "id": "8c9279f4",
   "metadata": {
    "ExecuteTime": {
     "end_time": "2022-11-26T16:46:59.322756Z",
     "start_time": "2022-11-26T16:46:59.303639Z"
    }
   },
   "outputs": [],
   "source": [
    "Full = pd.concat([Full, MDH, FastCover])\n",
    "Full['ratio'] =  Full.n_covered/Full.n\n",
    "Full = Full.drop_duplicates(subset=['model', 'graph'], keep='last')"
   ]
  },
  {
   "cell_type": "code",
   "execution_count": 203,
   "id": "fa551e4a",
   "metadata": {
    "ExecuteTime": {
     "end_time": "2022-11-26T16:46:59.507556Z",
     "start_time": "2022-11-26T16:46:59.467462Z"
    }
   },
   "outputs": [
    {
     "data": {
      "text/html": [
       "<div>\n",
       "<style scoped>\n",
       "    .dataframe tbody tr th:only-of-type {\n",
       "        vertical-align: middle;\n",
       "    }\n",
       "\n",
       "    .dataframe tbody tr th {\n",
       "        vertical-align: top;\n",
       "    }\n",
       "\n",
       "    .dataframe thead th {\n",
       "        text-align: right;\n",
       "    }\n",
       "</style>\n",
       "<table border=\"1\" class=\"dataframe\">\n",
       "  <thead>\n",
       "    <tr style=\"text-align: right;\">\n",
       "      <th></th>\n",
       "      <th>graph</th>\n",
       "      <th>model</th>\n",
       "      <th>n_covered</th>\n",
       "      <th>n</th>\n",
       "      <th>t_mean</th>\n",
       "      <th>ratio</th>\n",
       "    </tr>\n",
       "  </thead>\n",
       "  <tbody>\n",
       "    <tr>\n",
       "      <th>10</th>\n",
       "      <td>ER_2000_0</td>\n",
       "      <td>GCN</td>\n",
       "      <td>345</td>\n",
       "      <td>2000</td>\n",
       "      <td>0.009</td>\n",
       "      <td>0.17250</td>\n",
       "    </tr>\n",
       "    <tr>\n",
       "      <th>18</th>\n",
       "      <td>ER_2000_8</td>\n",
       "      <td>MDH</td>\n",
       "      <td>329</td>\n",
       "      <td>2000</td>\n",
       "      <td>0.008</td>\n",
       "      <td>0.16450</td>\n",
       "    </tr>\n",
       "    <tr>\n",
       "      <th>17</th>\n",
       "      <td>ER_2000_7</td>\n",
       "      <td>MDH</td>\n",
       "      <td>331</td>\n",
       "      <td>2000</td>\n",
       "      <td>0.013</td>\n",
       "      <td>0.16550</td>\n",
       "    </tr>\n",
       "    <tr>\n",
       "      <th>16</th>\n",
       "      <td>ER_2000_6</td>\n",
       "      <td>MDH</td>\n",
       "      <td>325</td>\n",
       "      <td>2000</td>\n",
       "      <td>0.008</td>\n",
       "      <td>0.16250</td>\n",
       "    </tr>\n",
       "    <tr>\n",
       "      <th>15</th>\n",
       "      <td>ER_2000_5</td>\n",
       "      <td>MDH</td>\n",
       "      <td>325</td>\n",
       "      <td>2000</td>\n",
       "      <td>0.009</td>\n",
       "      <td>0.16250</td>\n",
       "    </tr>\n",
       "    <tr>\n",
       "      <th>...</th>\n",
       "      <td>...</td>\n",
       "      <td>...</td>\n",
       "      <td>...</td>\n",
       "      <td>...</td>\n",
       "      <td>...</td>\n",
       "      <td>...</td>\n",
       "    </tr>\n",
       "    <tr>\n",
       "      <th>25</th>\n",
       "      <td>ER_50000_2</td>\n",
       "      <td>GCN</td>\n",
       "      <td>8625</td>\n",
       "      <td>50000</td>\n",
       "      <td>1.274</td>\n",
       "      <td>0.17250</td>\n",
       "    </tr>\n",
       "    <tr>\n",
       "      <th>24</th>\n",
       "      <td>ER_50000_1</td>\n",
       "      <td>GCN</td>\n",
       "      <td>8841</td>\n",
       "      <td>50000</td>\n",
       "      <td>1.163</td>\n",
       "      <td>0.17682</td>\n",
       "    </tr>\n",
       "    <tr>\n",
       "      <th>23</th>\n",
       "      <td>ER_50000_0</td>\n",
       "      <td>GCN</td>\n",
       "      <td>8700</td>\n",
       "      <td>50000</td>\n",
       "      <td>1.650</td>\n",
       "      <td>0.17400</td>\n",
       "    </tr>\n",
       "    <tr>\n",
       "      <th>24</th>\n",
       "      <td>ER_50000_1</td>\n",
       "      <td>MDH</td>\n",
       "      <td>8052</td>\n",
       "      <td>50000</td>\n",
       "      <td>0.931</td>\n",
       "      <td>0.16104</td>\n",
       "    </tr>\n",
       "    <tr>\n",
       "      <th>23</th>\n",
       "      <td>ER_50000_0</td>\n",
       "      <td>GAT</td>\n",
       "      <td>10418</td>\n",
       "      <td>50000</td>\n",
       "      <td>1.408</td>\n",
       "      <td>0.20836</td>\n",
       "    </tr>\n",
       "  </tbody>\n",
       "</table>\n",
       "<p>198 rows × 6 columns</p>\n",
       "</div>"
      ],
      "text/plain": [
       "         graph model  n_covered      n  t_mean    ratio\n",
       "10   ER_2000_0   GCN        345   2000   0.009  0.17250\n",
       "18   ER_2000_8   MDH        329   2000   0.008  0.16450\n",
       "17   ER_2000_7   MDH        331   2000   0.013  0.16550\n",
       "16   ER_2000_6   MDH        325   2000   0.008  0.16250\n",
       "15   ER_2000_5   MDH        325   2000   0.009  0.16250\n",
       "..         ...   ...        ...    ...     ...      ...\n",
       "25  ER_50000_2   GCN       8625  50000   1.274  0.17250\n",
       "24  ER_50000_1   GCN       8841  50000   1.163  0.17682\n",
       "23  ER_50000_0   GCN       8700  50000   1.650  0.17400\n",
       "24  ER_50000_1   MDH       8052  50000   0.931  0.16104\n",
       "23  ER_50000_0   GAT      10418  50000   1.408  0.20836\n",
       "\n",
       "[198 rows x 6 columns]"
      ]
     },
     "execution_count": 203,
     "metadata": {},
     "output_type": "execute_result"
    }
   ],
   "source": [
    "Full = Full.sort_values(by=['n'])\n",
    "Full"
   ]
  },
  {
   "cell_type": "code",
   "execution_count": 204,
   "id": "062fea08",
   "metadata": {
    "ExecuteTime": {
     "end_time": "2022-11-26T16:46:59.640580Z",
     "start_time": "2022-11-26T16:46:59.628477Z"
    }
   },
   "outputs": [
    {
     "data": {
      "text/plain": [
       "198"
      ]
     },
     "execution_count": 204,
     "metadata": {},
     "output_type": "execute_result"
    }
   ],
   "source": [
    "Full.model.count()"
   ]
  },
  {
   "cell_type": "code",
   "execution_count": 205,
   "id": "e1bacaec",
   "metadata": {
    "ExecuteTime": {
     "end_time": "2022-11-26T16:46:59.873808Z",
     "start_time": "2022-11-26T16:46:59.796605Z"
    }
   },
   "outputs": [
    {
     "data": {
      "application/vnd.plotly.v1+json": {
       "config": {
        "plotlyServerURL": "https://plot.ly"
       },
       "data": [
        {
         "alignmentgroup": "True",
         "bingroup": "x",
         "histfunc": "sum",
         "hovertemplate": "model=GCN<br>graph=%{x}<br>sum of n_covered=%{y}<extra></extra>",
         "legendgroup": "GCN",
         "marker": {
          "color": "#636efa"
         },
         "name": "GCN",
         "offsetgroup": "GCN",
         "orientation": "v",
         "showlegend": true,
         "type": "histogram",
         "x": [
          "ER_2000_0",
          "ER_2000_1",
          "ER_2000_2",
          "ER_2000_3",
          "ER_2000_4",
          "ER_2000_5",
          "ER_2000_6",
          "ER_2000_7",
          "ER_2000_8",
          "ER_2000_9",
          "ER_5000_4",
          "ER_5000_5",
          "ER_5000_6",
          "ER_5000_1",
          "ER_5000_0",
          "ER_5000_2",
          "ER_5000_3",
          "ER_10000_4",
          "ER_10000_3",
          "ER_10000_2",
          "ER_10000_1",
          "ER_10000_0",
          "ER_20000_0",
          "ER_20000_1",
          "ER_20000_4",
          "ER_20000_3",
          "ER_20000_2",
          "ER_30000_2",
          "ER_30000_1",
          "ER_30000_0",
          "ER_50000_2",
          "ER_50000_1",
          "ER_50000_0"
         ],
         "xaxis": "x",
         "y": [
          345,
          352,
          333,
          354,
          350,
          342,
          346,
          330,
          332,
          351,
          847,
          879,
          878,
          849,
          839,
          871,
          882,
          1716,
          1686,
          1733,
          1697,
          1733,
          3501,
          3522,
          3499,
          3438,
          3499,
          5199,
          5337,
          5224,
          8625,
          8841,
          8700
         ],
         "yaxis": "y"
        },
        {
         "alignmentgroup": "True",
         "bingroup": "x",
         "histfunc": "sum",
         "hovertemplate": "model=MDH<br>graph=%{x}<br>sum of n_covered=%{y}<extra></extra>",
         "legendgroup": "MDH",
         "marker": {
          "color": "#EF553B"
         },
         "name": "MDH",
         "offsetgroup": "MDH",
         "orientation": "v",
         "showlegend": true,
         "type": "histogram",
         "x": [
          "ER_2000_8",
          "ER_2000_7",
          "ER_2000_6",
          "ER_2000_5",
          "ER_2000_4",
          "ER_2000_3",
          "ER_2000_2",
          "ER_2000_1",
          "ER_2000_0",
          "ER_2000_9",
          "ER_5000_6",
          "ER_5000_5",
          "ER_5000_4",
          "ER_5000_3",
          "ER_5000_2",
          "ER_5000_1",
          "ER_5000_0",
          "ER_10000_0",
          "ER_10000_4",
          "ER_10000_3",
          "ER_10000_2",
          "ER_10000_1",
          "ER_20000_3",
          "ER_20000_2",
          "ER_20000_1",
          "ER_20000_0",
          "ER_20000_4",
          "ER_30000_0",
          "ER_30000_1",
          "ER_30000_2",
          "ER_50000_2",
          "ER_50000_0",
          "ER_50000_1"
         ],
         "xaxis": "x",
         "y": [
          329,
          331,
          325,
          325,
          332,
          326,
          326,
          329,
          326,
          328,
          817,
          812,
          795,
          816,
          800,
          811,
          806,
          1632,
          1624,
          1623,
          1643,
          1635,
          3241,
          3285,
          3201,
          3216,
          3237,
          4868,
          4825,
          4881,
          8063,
          8067,
          8052
         ],
         "yaxis": "y"
        },
        {
         "alignmentgroup": "True",
         "bingroup": "x",
         "histfunc": "sum",
         "hovertemplate": "model=GraphConv<br>graph=%{x}<br>sum of n_covered=%{y}<extra></extra>",
         "legendgroup": "GraphConv",
         "marker": {
          "color": "#00cc96"
         },
         "name": "GraphConv",
         "offsetgroup": "GraphConv",
         "orientation": "v",
         "showlegend": true,
         "type": "histogram",
         "x": [
          "ER_2000_9",
          "ER_2000_5",
          "ER_2000_6",
          "ER_2000_7",
          "ER_2000_8",
          "ER_2000_3",
          "ER_2000_2",
          "ER_2000_1",
          "ER_2000_0",
          "ER_2000_4",
          "ER_5000_2",
          "ER_5000_5",
          "ER_5000_4",
          "ER_5000_1",
          "ER_5000_3",
          "ER_5000_6",
          "ER_5000_0",
          "ER_10000_0",
          "ER_10000_4",
          "ER_10000_3",
          "ER_10000_2",
          "ER_10000_1",
          "ER_20000_4",
          "ER_20000_3",
          "ER_20000_2",
          "ER_20000_1",
          "ER_20000_0",
          "ER_30000_2",
          "ER_30000_1",
          "ER_30000_0",
          "ER_50000_2",
          "ER_50000_1",
          "ER_50000_0"
         ],
         "xaxis": "x",
         "y": [
          359,
          346,
          362,
          346,
          354,
          363,
          364,
          361,
          358,
          361,
          900,
          872,
          863,
          881,
          888,
          875,
          869,
          1772,
          1783,
          1736,
          1762,
          1764,
          3559,
          3517,
          3566,
          3532,
          3505,
          5270,
          5370,
          5268,
          8845,
          8841,
          8808
         ],
         "yaxis": "y"
        },
        {
         "alignmentgroup": "True",
         "bingroup": "x",
         "histfunc": "sum",
         "hovertemplate": "model=SAGE<br>graph=%{x}<br>sum of n_covered=%{y}<extra></extra>",
         "legendgroup": "SAGE",
         "marker": {
          "color": "#ab63fa"
         },
         "name": "SAGE",
         "offsetgroup": "SAGE",
         "orientation": "v",
         "showlegend": true,
         "type": "histogram",
         "x": [
          "ER_2000_0",
          "ER_2000_1",
          "ER_2000_2",
          "ER_2000_3",
          "ER_2000_9",
          "ER_2000_8",
          "ER_2000_7",
          "ER_2000_6",
          "ER_2000_5",
          "ER_2000_4",
          "ER_5000_1",
          "ER_5000_6",
          "ER_5000_5",
          "ER_5000_4",
          "ER_5000_3",
          "ER_5000_2",
          "ER_5000_0",
          "ER_10000_0",
          "ER_10000_2",
          "ER_10000_3",
          "ER_10000_1",
          "ER_10000_4",
          "ER_20000_0",
          "ER_20000_1",
          "ER_20000_2",
          "ER_20000_4",
          "ER_20000_3",
          "ER_30000_0",
          "ER_30000_1",
          "ER_30000_2",
          "ER_50000_0",
          "ER_50000_1",
          "ER_50000_2"
         ],
         "xaxis": "x",
         "y": [
          320,
          315,
          319,
          324,
          331,
          316,
          322,
          315,
          325,
          328,
          802,
          809,
          805,
          777,
          805,
          792,
          788,
          1607,
          1607,
          1616,
          1603,
          1603,
          3171,
          3139,
          3215,
          3174,
          3180,
          4785,
          4786,
          4819,
          7928,
          7914,
          7923
         ],
         "yaxis": "y"
        },
        {
         "alignmentgroup": "True",
         "bingroup": "x",
         "histfunc": "sum",
         "hovertemplate": "model=GAT<br>graph=%{x}<br>sum of n_covered=%{y}<extra></extra>",
         "legendgroup": "GAT",
         "marker": {
          "color": "#FFA15A"
         },
         "name": "GAT",
         "offsetgroup": "GAT",
         "orientation": "v",
         "showlegend": true,
         "type": "histogram",
         "x": [
          "ER_2000_3",
          "ER_2000_0",
          "ER_2000_1",
          "ER_2000_2",
          "ER_2000_4",
          "ER_2000_5",
          "ER_2000_6",
          "ER_2000_8",
          "ER_2000_9",
          "ER_2000_7",
          "ER_5000_0",
          "ER_5000_1",
          "ER_5000_2",
          "ER_5000_4",
          "ER_5000_5",
          "ER_5000_3",
          "ER_5000_6",
          "ER_10000_0",
          "ER_10000_1",
          "ER_10000_2",
          "ER_10000_3",
          "ER_10000_4",
          "ER_20000_4",
          "ER_20000_3",
          "ER_20000_2",
          "ER_20000_1",
          "ER_20000_0",
          "ER_30000_0",
          "ER_30000_1",
          "ER_30000_2",
          "ER_50000_1",
          "ER_50000_2",
          "ER_50000_0"
         ],
         "xaxis": "x",
         "y": [
          443,
          425,
          423,
          425,
          436,
          420,
          413,
          430,
          436,
          432,
          1060,
          1046,
          1053,
          1044,
          1071,
          1072,
          1042,
          2149,
          2131,
          2093,
          2150,
          2101,
          4218,
          4208,
          4144,
          4039,
          4119,
          6242,
          6132,
          6296,
          10081,
          10304,
          10418
         ],
         "yaxis": "y"
        },
        {
         "alignmentgroup": "True",
         "bingroup": "x",
         "histfunc": "sum",
         "hovertemplate": "model=GRAT<br>graph=%{x}<br>sum of n_covered=%{y}<extra></extra>",
         "legendgroup": "GRAT",
         "marker": {
          "color": "#19d3f3"
         },
         "name": "GRAT",
         "offsetgroup": "GRAT",
         "orientation": "v",
         "showlegend": true,
         "type": "histogram",
         "x": [
          "ER_2000_8",
          "ER_2000_7",
          "ER_2000_6",
          "ER_2000_9",
          "ER_2000_5",
          "ER_2000_4",
          "ER_2000_3",
          "ER_2000_2",
          "ER_2000_1",
          "ER_2000_0",
          "ER_5000_5",
          "ER_5000_4",
          "ER_5000_3",
          "ER_5000_2",
          "ER_5000_1",
          "ER_5000_0",
          "ER_5000_6",
          "ER_10000_4",
          "ER_10000_3",
          "ER_10000_2",
          "ER_10000_0",
          "ER_10000_1",
          "ER_20000_4",
          "ER_20000_3",
          "ER_20000_2",
          "ER_20000_1",
          "ER_20000_0",
          "ER_30000_1",
          "ER_30000_2",
          "ER_30000_0",
          "ER_50000_2",
          "ER_50000_0",
          "ER_50000_1"
         ],
         "xaxis": "x",
         "y": [
          328,
          320,
          336,
          336,
          331,
          337,
          333,
          336,
          323,
          332,
          824,
          806,
          809,
          828,
          818,
          817,
          807,
          1642,
          1637,
          1629,
          1641,
          1624,
          3289,
          3275,
          3279,
          3261,
          3238,
          4945,
          4927,
          4940,
          8157,
          8147,
          8147
         ],
         "yaxis": "y"
        }
       ],
       "layout": {
        "barmode": "group",
        "height": 400,
        "legend": {
         "title": {
          "text": "model"
         },
         "tracegroupgap": 0
        },
        "margin": {
         "t": 60
        },
        "template": {
         "data": {
          "bar": [
           {
            "error_x": {
             "color": "#2a3f5f"
            },
            "error_y": {
             "color": "#2a3f5f"
            },
            "marker": {
             "line": {
              "color": "#E5ECF6",
              "width": 0.5
             }
            },
            "type": "bar"
           }
          ],
          "barpolar": [
           {
            "marker": {
             "line": {
              "color": "#E5ECF6",
              "width": 0.5
             }
            },
            "type": "barpolar"
           }
          ],
          "carpet": [
           {
            "aaxis": {
             "endlinecolor": "#2a3f5f",
             "gridcolor": "white",
             "linecolor": "white",
             "minorgridcolor": "white",
             "startlinecolor": "#2a3f5f"
            },
            "baxis": {
             "endlinecolor": "#2a3f5f",
             "gridcolor": "white",
             "linecolor": "white",
             "minorgridcolor": "white",
             "startlinecolor": "#2a3f5f"
            },
            "type": "carpet"
           }
          ],
          "choropleth": [
           {
            "colorbar": {
             "outlinewidth": 0,
             "ticks": ""
            },
            "type": "choropleth"
           }
          ],
          "contour": [
           {
            "colorbar": {
             "outlinewidth": 0,
             "ticks": ""
            },
            "colorscale": [
             [
              0,
              "#0d0887"
             ],
             [
              0.1111111111111111,
              "#46039f"
             ],
             [
              0.2222222222222222,
              "#7201a8"
             ],
             [
              0.3333333333333333,
              "#9c179e"
             ],
             [
              0.4444444444444444,
              "#bd3786"
             ],
             [
              0.5555555555555556,
              "#d8576b"
             ],
             [
              0.6666666666666666,
              "#ed7953"
             ],
             [
              0.7777777777777778,
              "#fb9f3a"
             ],
             [
              0.8888888888888888,
              "#fdca26"
             ],
             [
              1,
              "#f0f921"
             ]
            ],
            "type": "contour"
           }
          ],
          "contourcarpet": [
           {
            "colorbar": {
             "outlinewidth": 0,
             "ticks": ""
            },
            "type": "contourcarpet"
           }
          ],
          "heatmap": [
           {
            "colorbar": {
             "outlinewidth": 0,
             "ticks": ""
            },
            "colorscale": [
             [
              0,
              "#0d0887"
             ],
             [
              0.1111111111111111,
              "#46039f"
             ],
             [
              0.2222222222222222,
              "#7201a8"
             ],
             [
              0.3333333333333333,
              "#9c179e"
             ],
             [
              0.4444444444444444,
              "#bd3786"
             ],
             [
              0.5555555555555556,
              "#d8576b"
             ],
             [
              0.6666666666666666,
              "#ed7953"
             ],
             [
              0.7777777777777778,
              "#fb9f3a"
             ],
             [
              0.8888888888888888,
              "#fdca26"
             ],
             [
              1,
              "#f0f921"
             ]
            ],
            "type": "heatmap"
           }
          ],
          "heatmapgl": [
           {
            "colorbar": {
             "outlinewidth": 0,
             "ticks": ""
            },
            "colorscale": [
             [
              0,
              "#0d0887"
             ],
             [
              0.1111111111111111,
              "#46039f"
             ],
             [
              0.2222222222222222,
              "#7201a8"
             ],
             [
              0.3333333333333333,
              "#9c179e"
             ],
             [
              0.4444444444444444,
              "#bd3786"
             ],
             [
              0.5555555555555556,
              "#d8576b"
             ],
             [
              0.6666666666666666,
              "#ed7953"
             ],
             [
              0.7777777777777778,
              "#fb9f3a"
             ],
             [
              0.8888888888888888,
              "#fdca26"
             ],
             [
              1,
              "#f0f921"
             ]
            ],
            "type": "heatmapgl"
           }
          ],
          "histogram": [
           {
            "marker": {
             "colorbar": {
              "outlinewidth": 0,
              "ticks": ""
             }
            },
            "type": "histogram"
           }
          ],
          "histogram2d": [
           {
            "colorbar": {
             "outlinewidth": 0,
             "ticks": ""
            },
            "colorscale": [
             [
              0,
              "#0d0887"
             ],
             [
              0.1111111111111111,
              "#46039f"
             ],
             [
              0.2222222222222222,
              "#7201a8"
             ],
             [
              0.3333333333333333,
              "#9c179e"
             ],
             [
              0.4444444444444444,
              "#bd3786"
             ],
             [
              0.5555555555555556,
              "#d8576b"
             ],
             [
              0.6666666666666666,
              "#ed7953"
             ],
             [
              0.7777777777777778,
              "#fb9f3a"
             ],
             [
              0.8888888888888888,
              "#fdca26"
             ],
             [
              1,
              "#f0f921"
             ]
            ],
            "type": "histogram2d"
           }
          ],
          "histogram2dcontour": [
           {
            "colorbar": {
             "outlinewidth": 0,
             "ticks": ""
            },
            "colorscale": [
             [
              0,
              "#0d0887"
             ],
             [
              0.1111111111111111,
              "#46039f"
             ],
             [
              0.2222222222222222,
              "#7201a8"
             ],
             [
              0.3333333333333333,
              "#9c179e"
             ],
             [
              0.4444444444444444,
              "#bd3786"
             ],
             [
              0.5555555555555556,
              "#d8576b"
             ],
             [
              0.6666666666666666,
              "#ed7953"
             ],
             [
              0.7777777777777778,
              "#fb9f3a"
             ],
             [
              0.8888888888888888,
              "#fdca26"
             ],
             [
              1,
              "#f0f921"
             ]
            ],
            "type": "histogram2dcontour"
           }
          ],
          "mesh3d": [
           {
            "colorbar": {
             "outlinewidth": 0,
             "ticks": ""
            },
            "type": "mesh3d"
           }
          ],
          "parcoords": [
           {
            "line": {
             "colorbar": {
              "outlinewidth": 0,
              "ticks": ""
             }
            },
            "type": "parcoords"
           }
          ],
          "pie": [
           {
            "automargin": true,
            "type": "pie"
           }
          ],
          "scatter": [
           {
            "marker": {
             "colorbar": {
              "outlinewidth": 0,
              "ticks": ""
             }
            },
            "type": "scatter"
           }
          ],
          "scatter3d": [
           {
            "line": {
             "colorbar": {
              "outlinewidth": 0,
              "ticks": ""
             }
            },
            "marker": {
             "colorbar": {
              "outlinewidth": 0,
              "ticks": ""
             }
            },
            "type": "scatter3d"
           }
          ],
          "scattercarpet": [
           {
            "marker": {
             "colorbar": {
              "outlinewidth": 0,
              "ticks": ""
             }
            },
            "type": "scattercarpet"
           }
          ],
          "scattergeo": [
           {
            "marker": {
             "colorbar": {
              "outlinewidth": 0,
              "ticks": ""
             }
            },
            "type": "scattergeo"
           }
          ],
          "scattergl": [
           {
            "marker": {
             "colorbar": {
              "outlinewidth": 0,
              "ticks": ""
             }
            },
            "type": "scattergl"
           }
          ],
          "scattermapbox": [
           {
            "marker": {
             "colorbar": {
              "outlinewidth": 0,
              "ticks": ""
             }
            },
            "type": "scattermapbox"
           }
          ],
          "scatterpolar": [
           {
            "marker": {
             "colorbar": {
              "outlinewidth": 0,
              "ticks": ""
             }
            },
            "type": "scatterpolar"
           }
          ],
          "scatterpolargl": [
           {
            "marker": {
             "colorbar": {
              "outlinewidth": 0,
              "ticks": ""
             }
            },
            "type": "scatterpolargl"
           }
          ],
          "scatterternary": [
           {
            "marker": {
             "colorbar": {
              "outlinewidth": 0,
              "ticks": ""
             }
            },
            "type": "scatterternary"
           }
          ],
          "surface": [
           {
            "colorbar": {
             "outlinewidth": 0,
             "ticks": ""
            },
            "colorscale": [
             [
              0,
              "#0d0887"
             ],
             [
              0.1111111111111111,
              "#46039f"
             ],
             [
              0.2222222222222222,
              "#7201a8"
             ],
             [
              0.3333333333333333,
              "#9c179e"
             ],
             [
              0.4444444444444444,
              "#bd3786"
             ],
             [
              0.5555555555555556,
              "#d8576b"
             ],
             [
              0.6666666666666666,
              "#ed7953"
             ],
             [
              0.7777777777777778,
              "#fb9f3a"
             ],
             [
              0.8888888888888888,
              "#fdca26"
             ],
             [
              1,
              "#f0f921"
             ]
            ],
            "type": "surface"
           }
          ],
          "table": [
           {
            "cells": {
             "fill": {
              "color": "#EBF0F8"
             },
             "line": {
              "color": "white"
             }
            },
            "header": {
             "fill": {
              "color": "#C8D4E3"
             },
             "line": {
              "color": "white"
             }
            },
            "type": "table"
           }
          ]
         },
         "layout": {
          "annotationdefaults": {
           "arrowcolor": "#2a3f5f",
           "arrowhead": 0,
           "arrowwidth": 1
          },
          "autotypenumbers": "strict",
          "coloraxis": {
           "colorbar": {
            "outlinewidth": 0,
            "ticks": ""
           }
          },
          "colorscale": {
           "diverging": [
            [
             0,
             "#8e0152"
            ],
            [
             0.1,
             "#c51b7d"
            ],
            [
             0.2,
             "#de77ae"
            ],
            [
             0.3,
             "#f1b6da"
            ],
            [
             0.4,
             "#fde0ef"
            ],
            [
             0.5,
             "#f7f7f7"
            ],
            [
             0.6,
             "#e6f5d0"
            ],
            [
             0.7,
             "#b8e186"
            ],
            [
             0.8,
             "#7fbc41"
            ],
            [
             0.9,
             "#4d9221"
            ],
            [
             1,
             "#276419"
            ]
           ],
           "sequential": [
            [
             0,
             "#0d0887"
            ],
            [
             0.1111111111111111,
             "#46039f"
            ],
            [
             0.2222222222222222,
             "#7201a8"
            ],
            [
             0.3333333333333333,
             "#9c179e"
            ],
            [
             0.4444444444444444,
             "#bd3786"
            ],
            [
             0.5555555555555556,
             "#d8576b"
            ],
            [
             0.6666666666666666,
             "#ed7953"
            ],
            [
             0.7777777777777778,
             "#fb9f3a"
            ],
            [
             0.8888888888888888,
             "#fdca26"
            ],
            [
             1,
             "#f0f921"
            ]
           ],
           "sequentialminus": [
            [
             0,
             "#0d0887"
            ],
            [
             0.1111111111111111,
             "#46039f"
            ],
            [
             0.2222222222222222,
             "#7201a8"
            ],
            [
             0.3333333333333333,
             "#9c179e"
            ],
            [
             0.4444444444444444,
             "#bd3786"
            ],
            [
             0.5555555555555556,
             "#d8576b"
            ],
            [
             0.6666666666666666,
             "#ed7953"
            ],
            [
             0.7777777777777778,
             "#fb9f3a"
            ],
            [
             0.8888888888888888,
             "#fdca26"
            ],
            [
             1,
             "#f0f921"
            ]
           ]
          },
          "colorway": [
           "#636efa",
           "#EF553B",
           "#00cc96",
           "#ab63fa",
           "#FFA15A",
           "#19d3f3",
           "#FF6692",
           "#B6E880",
           "#FF97FF",
           "#FECB52"
          ],
          "font": {
           "color": "#2a3f5f"
          },
          "geo": {
           "bgcolor": "white",
           "lakecolor": "white",
           "landcolor": "#E5ECF6",
           "showlakes": true,
           "showland": true,
           "subunitcolor": "white"
          },
          "hoverlabel": {
           "align": "left"
          },
          "hovermode": "closest",
          "mapbox": {
           "style": "light"
          },
          "paper_bgcolor": "white",
          "plot_bgcolor": "#E5ECF6",
          "polar": {
           "angularaxis": {
            "gridcolor": "white",
            "linecolor": "white",
            "ticks": ""
           },
           "bgcolor": "#E5ECF6",
           "radialaxis": {
            "gridcolor": "white",
            "linecolor": "white",
            "ticks": ""
           }
          },
          "scene": {
           "xaxis": {
            "backgroundcolor": "#E5ECF6",
            "gridcolor": "white",
            "gridwidth": 2,
            "linecolor": "white",
            "showbackground": true,
            "ticks": "",
            "zerolinecolor": "white"
           },
           "yaxis": {
            "backgroundcolor": "#E5ECF6",
            "gridcolor": "white",
            "gridwidth": 2,
            "linecolor": "white",
            "showbackground": true,
            "ticks": "",
            "zerolinecolor": "white"
           },
           "zaxis": {
            "backgroundcolor": "#E5ECF6",
            "gridcolor": "white",
            "gridwidth": 2,
            "linecolor": "white",
            "showbackground": true,
            "ticks": "",
            "zerolinecolor": "white"
           }
          },
          "shapedefaults": {
           "line": {
            "color": "#2a3f5f"
           }
          },
          "ternary": {
           "aaxis": {
            "gridcolor": "white",
            "linecolor": "white",
            "ticks": ""
           },
           "baxis": {
            "gridcolor": "white",
            "linecolor": "white",
            "ticks": ""
           },
           "bgcolor": "#E5ECF6",
           "caxis": {
            "gridcolor": "white",
            "linecolor": "white",
            "ticks": ""
           }
          },
          "title": {
           "x": 0.05
          },
          "xaxis": {
           "automargin": true,
           "gridcolor": "white",
           "linecolor": "white",
           "ticks": "",
           "title": {
            "standoff": 15
           },
           "zerolinecolor": "white",
           "zerolinewidth": 2
          },
          "yaxis": {
           "automargin": true,
           "gridcolor": "white",
           "linecolor": "white",
           "ticks": "",
           "title": {
            "standoff": 15
           },
           "zerolinecolor": "white",
           "zerolinewidth": 2
          }
         }
        },
        "xaxis": {
         "anchor": "y",
         "domain": [
          0,
          1
         ],
         "title": {
          "text": "graph"
         }
        },
        "yaxis": {
         "anchor": "x",
         "domain": [
          0,
          1
         ],
         "title": {
          "text": "sum of n_covered"
         }
        }
       }
      },
      "text/html": [
       "<div>                            <div id=\"846cddce-c5bf-4d1e-857c-43f98ad62b56\" class=\"plotly-graph-div\" style=\"height:400px; width:100%;\"></div>            <script type=\"text/javascript\">                require([\"plotly\"], function(Plotly) {                    window.PLOTLYENV=window.PLOTLYENV || {};                                    if (document.getElementById(\"846cddce-c5bf-4d1e-857c-43f98ad62b56\")) {                    Plotly.newPlot(                        \"846cddce-c5bf-4d1e-857c-43f98ad62b56\",                        [{\"alignmentgroup\": \"True\", \"bingroup\": \"x\", \"histfunc\": \"sum\", \"hovertemplate\": \"model=GCN<br>graph=%{x}<br>sum of n_covered=%{y}<extra></extra>\", \"legendgroup\": \"GCN\", \"marker\": {\"color\": \"#636efa\"}, \"name\": \"GCN\", \"offsetgroup\": \"GCN\", \"orientation\": \"v\", \"showlegend\": true, \"type\": \"histogram\", \"x\": [\"ER_2000_0\", \"ER_2000_1\", \"ER_2000_2\", \"ER_2000_3\", \"ER_2000_4\", \"ER_2000_5\", \"ER_2000_6\", \"ER_2000_7\", \"ER_2000_8\", \"ER_2000_9\", \"ER_5000_4\", \"ER_5000_5\", \"ER_5000_6\", \"ER_5000_1\", \"ER_5000_0\", \"ER_5000_2\", \"ER_5000_3\", \"ER_10000_4\", \"ER_10000_3\", \"ER_10000_2\", \"ER_10000_1\", \"ER_10000_0\", \"ER_20000_0\", \"ER_20000_1\", \"ER_20000_4\", \"ER_20000_3\", \"ER_20000_2\", \"ER_30000_2\", \"ER_30000_1\", \"ER_30000_0\", \"ER_50000_2\", \"ER_50000_1\", \"ER_50000_0\"], \"xaxis\": \"x\", \"y\": [345, 352, 333, 354, 350, 342, 346, 330, 332, 351, 847, 879, 878, 849, 839, 871, 882, 1716, 1686, 1733, 1697, 1733, 3501, 3522, 3499, 3438, 3499, 5199, 5337, 5224, 8625, 8841, 8700], \"yaxis\": \"y\"}, {\"alignmentgroup\": \"True\", \"bingroup\": \"x\", \"histfunc\": \"sum\", \"hovertemplate\": \"model=MDH<br>graph=%{x}<br>sum of n_covered=%{y}<extra></extra>\", \"legendgroup\": \"MDH\", \"marker\": {\"color\": \"#EF553B\"}, \"name\": \"MDH\", \"offsetgroup\": \"MDH\", \"orientation\": \"v\", \"showlegend\": true, \"type\": \"histogram\", \"x\": [\"ER_2000_8\", \"ER_2000_7\", \"ER_2000_6\", \"ER_2000_5\", \"ER_2000_4\", \"ER_2000_3\", \"ER_2000_2\", \"ER_2000_1\", \"ER_2000_0\", \"ER_2000_9\", \"ER_5000_6\", \"ER_5000_5\", \"ER_5000_4\", \"ER_5000_3\", \"ER_5000_2\", \"ER_5000_1\", \"ER_5000_0\", \"ER_10000_0\", \"ER_10000_4\", \"ER_10000_3\", \"ER_10000_2\", \"ER_10000_1\", \"ER_20000_3\", \"ER_20000_2\", \"ER_20000_1\", \"ER_20000_0\", \"ER_20000_4\", \"ER_30000_0\", \"ER_30000_1\", \"ER_30000_2\", \"ER_50000_2\", \"ER_50000_0\", \"ER_50000_1\"], \"xaxis\": \"x\", \"y\": [329, 331, 325, 325, 332, 326, 326, 329, 326, 328, 817, 812, 795, 816, 800, 811, 806, 1632, 1624, 1623, 1643, 1635, 3241, 3285, 3201, 3216, 3237, 4868, 4825, 4881, 8063, 8067, 8052], \"yaxis\": \"y\"}, {\"alignmentgroup\": \"True\", \"bingroup\": \"x\", \"histfunc\": \"sum\", \"hovertemplate\": \"model=GraphConv<br>graph=%{x}<br>sum of n_covered=%{y}<extra></extra>\", \"legendgroup\": \"GraphConv\", \"marker\": {\"color\": \"#00cc96\"}, \"name\": \"GraphConv\", \"offsetgroup\": \"GraphConv\", \"orientation\": \"v\", \"showlegend\": true, \"type\": \"histogram\", \"x\": [\"ER_2000_9\", \"ER_2000_5\", \"ER_2000_6\", \"ER_2000_7\", \"ER_2000_8\", \"ER_2000_3\", \"ER_2000_2\", \"ER_2000_1\", \"ER_2000_0\", \"ER_2000_4\", \"ER_5000_2\", \"ER_5000_5\", \"ER_5000_4\", \"ER_5000_1\", \"ER_5000_3\", \"ER_5000_6\", \"ER_5000_0\", \"ER_10000_0\", \"ER_10000_4\", \"ER_10000_3\", \"ER_10000_2\", \"ER_10000_1\", \"ER_20000_4\", \"ER_20000_3\", \"ER_20000_2\", \"ER_20000_1\", \"ER_20000_0\", \"ER_30000_2\", \"ER_30000_1\", \"ER_30000_0\", \"ER_50000_2\", \"ER_50000_1\", \"ER_50000_0\"], \"xaxis\": \"x\", \"y\": [359, 346, 362, 346, 354, 363, 364, 361, 358, 361, 900, 872, 863, 881, 888, 875, 869, 1772, 1783, 1736, 1762, 1764, 3559, 3517, 3566, 3532, 3505, 5270, 5370, 5268, 8845, 8841, 8808], \"yaxis\": \"y\"}, {\"alignmentgroup\": \"True\", \"bingroup\": \"x\", \"histfunc\": \"sum\", \"hovertemplate\": \"model=SAGE<br>graph=%{x}<br>sum of n_covered=%{y}<extra></extra>\", \"legendgroup\": \"SAGE\", \"marker\": {\"color\": \"#ab63fa\"}, \"name\": \"SAGE\", \"offsetgroup\": \"SAGE\", \"orientation\": \"v\", \"showlegend\": true, \"type\": \"histogram\", \"x\": [\"ER_2000_0\", \"ER_2000_1\", \"ER_2000_2\", \"ER_2000_3\", \"ER_2000_9\", \"ER_2000_8\", \"ER_2000_7\", \"ER_2000_6\", \"ER_2000_5\", \"ER_2000_4\", \"ER_5000_1\", \"ER_5000_6\", \"ER_5000_5\", \"ER_5000_4\", \"ER_5000_3\", \"ER_5000_2\", \"ER_5000_0\", \"ER_10000_0\", \"ER_10000_2\", \"ER_10000_3\", \"ER_10000_1\", \"ER_10000_4\", \"ER_20000_0\", \"ER_20000_1\", \"ER_20000_2\", \"ER_20000_4\", \"ER_20000_3\", \"ER_30000_0\", \"ER_30000_1\", \"ER_30000_2\", \"ER_50000_0\", \"ER_50000_1\", \"ER_50000_2\"], \"xaxis\": \"x\", \"y\": [320, 315, 319, 324, 331, 316, 322, 315, 325, 328, 802, 809, 805, 777, 805, 792, 788, 1607, 1607, 1616, 1603, 1603, 3171, 3139, 3215, 3174, 3180, 4785, 4786, 4819, 7928, 7914, 7923], \"yaxis\": \"y\"}, {\"alignmentgroup\": \"True\", \"bingroup\": \"x\", \"histfunc\": \"sum\", \"hovertemplate\": \"model=GAT<br>graph=%{x}<br>sum of n_covered=%{y}<extra></extra>\", \"legendgroup\": \"GAT\", \"marker\": {\"color\": \"#FFA15A\"}, \"name\": \"GAT\", \"offsetgroup\": \"GAT\", \"orientation\": \"v\", \"showlegend\": true, \"type\": \"histogram\", \"x\": [\"ER_2000_3\", \"ER_2000_0\", \"ER_2000_1\", \"ER_2000_2\", \"ER_2000_4\", \"ER_2000_5\", \"ER_2000_6\", \"ER_2000_8\", \"ER_2000_9\", \"ER_2000_7\", \"ER_5000_0\", \"ER_5000_1\", \"ER_5000_2\", \"ER_5000_4\", \"ER_5000_5\", \"ER_5000_3\", \"ER_5000_6\", \"ER_10000_0\", \"ER_10000_1\", \"ER_10000_2\", \"ER_10000_3\", \"ER_10000_4\", \"ER_20000_4\", \"ER_20000_3\", \"ER_20000_2\", \"ER_20000_1\", \"ER_20000_0\", \"ER_30000_0\", \"ER_30000_1\", \"ER_30000_2\", \"ER_50000_1\", \"ER_50000_2\", \"ER_50000_0\"], \"xaxis\": \"x\", \"y\": [443, 425, 423, 425, 436, 420, 413, 430, 436, 432, 1060, 1046, 1053, 1044, 1071, 1072, 1042, 2149, 2131, 2093, 2150, 2101, 4218, 4208, 4144, 4039, 4119, 6242, 6132, 6296, 10081, 10304, 10418], \"yaxis\": \"y\"}, {\"alignmentgroup\": \"True\", \"bingroup\": \"x\", \"histfunc\": \"sum\", \"hovertemplate\": \"model=GRAT<br>graph=%{x}<br>sum of n_covered=%{y}<extra></extra>\", \"legendgroup\": \"GRAT\", \"marker\": {\"color\": \"#19d3f3\"}, \"name\": \"GRAT\", \"offsetgroup\": \"GRAT\", \"orientation\": \"v\", \"showlegend\": true, \"type\": \"histogram\", \"x\": [\"ER_2000_8\", \"ER_2000_7\", \"ER_2000_6\", \"ER_2000_9\", \"ER_2000_5\", \"ER_2000_4\", \"ER_2000_3\", \"ER_2000_2\", \"ER_2000_1\", \"ER_2000_0\", \"ER_5000_5\", \"ER_5000_4\", \"ER_5000_3\", \"ER_5000_2\", \"ER_5000_1\", \"ER_5000_0\", \"ER_5000_6\", \"ER_10000_4\", \"ER_10000_3\", \"ER_10000_2\", \"ER_10000_0\", \"ER_10000_1\", \"ER_20000_4\", \"ER_20000_3\", \"ER_20000_2\", \"ER_20000_1\", \"ER_20000_0\", \"ER_30000_1\", \"ER_30000_2\", \"ER_30000_0\", \"ER_50000_2\", \"ER_50000_0\", \"ER_50000_1\"], \"xaxis\": \"x\", \"y\": [328, 320, 336, 336, 331, 337, 333, 336, 323, 332, 824, 806, 809, 828, 818, 817, 807, 1642, 1637, 1629, 1641, 1624, 3289, 3275, 3279, 3261, 3238, 4945, 4927, 4940, 8157, 8147, 8147], \"yaxis\": \"y\"}],                        {\"barmode\": \"group\", \"height\": 400, \"legend\": {\"title\": {\"text\": \"model\"}, \"tracegroupgap\": 0}, \"margin\": {\"t\": 60}, \"template\": {\"data\": {\"bar\": [{\"error_x\": {\"color\": \"#2a3f5f\"}, \"error_y\": {\"color\": \"#2a3f5f\"}, \"marker\": {\"line\": {\"color\": \"#E5ECF6\", \"width\": 0.5}}, \"type\": \"bar\"}], \"barpolar\": [{\"marker\": {\"line\": {\"color\": \"#E5ECF6\", \"width\": 0.5}}, \"type\": \"barpolar\"}], \"carpet\": [{\"aaxis\": {\"endlinecolor\": \"#2a3f5f\", \"gridcolor\": \"white\", \"linecolor\": \"white\", \"minorgridcolor\": \"white\", \"startlinecolor\": \"#2a3f5f\"}, \"baxis\": {\"endlinecolor\": \"#2a3f5f\", \"gridcolor\": \"white\", \"linecolor\": \"white\", \"minorgridcolor\": \"white\", \"startlinecolor\": \"#2a3f5f\"}, \"type\": \"carpet\"}], \"choropleth\": [{\"colorbar\": {\"outlinewidth\": 0, \"ticks\": \"\"}, \"type\": \"choropleth\"}], \"contour\": [{\"colorbar\": {\"outlinewidth\": 0, \"ticks\": \"\"}, \"colorscale\": [[0.0, \"#0d0887\"], [0.1111111111111111, \"#46039f\"], [0.2222222222222222, \"#7201a8\"], [0.3333333333333333, \"#9c179e\"], [0.4444444444444444, \"#bd3786\"], [0.5555555555555556, \"#d8576b\"], [0.6666666666666666, \"#ed7953\"], [0.7777777777777778, \"#fb9f3a\"], [0.8888888888888888, \"#fdca26\"], [1.0, \"#f0f921\"]], \"type\": \"contour\"}], \"contourcarpet\": [{\"colorbar\": {\"outlinewidth\": 0, \"ticks\": \"\"}, \"type\": \"contourcarpet\"}], \"heatmap\": [{\"colorbar\": {\"outlinewidth\": 0, \"ticks\": \"\"}, \"colorscale\": [[0.0, \"#0d0887\"], [0.1111111111111111, \"#46039f\"], [0.2222222222222222, \"#7201a8\"], [0.3333333333333333, \"#9c179e\"], [0.4444444444444444, \"#bd3786\"], [0.5555555555555556, \"#d8576b\"], [0.6666666666666666, \"#ed7953\"], [0.7777777777777778, \"#fb9f3a\"], [0.8888888888888888, \"#fdca26\"], [1.0, \"#f0f921\"]], \"type\": \"heatmap\"}], \"heatmapgl\": [{\"colorbar\": {\"outlinewidth\": 0, \"ticks\": \"\"}, \"colorscale\": [[0.0, \"#0d0887\"], [0.1111111111111111, \"#46039f\"], [0.2222222222222222, \"#7201a8\"], [0.3333333333333333, \"#9c179e\"], [0.4444444444444444, \"#bd3786\"], [0.5555555555555556, \"#d8576b\"], [0.6666666666666666, \"#ed7953\"], [0.7777777777777778, \"#fb9f3a\"], [0.8888888888888888, \"#fdca26\"], [1.0, \"#f0f921\"]], \"type\": \"heatmapgl\"}], \"histogram\": [{\"marker\": {\"colorbar\": {\"outlinewidth\": 0, \"ticks\": \"\"}}, \"type\": \"histogram\"}], \"histogram2d\": [{\"colorbar\": {\"outlinewidth\": 0, \"ticks\": \"\"}, \"colorscale\": [[0.0, \"#0d0887\"], [0.1111111111111111, \"#46039f\"], [0.2222222222222222, \"#7201a8\"], [0.3333333333333333, \"#9c179e\"], [0.4444444444444444, \"#bd3786\"], [0.5555555555555556, \"#d8576b\"], [0.6666666666666666, \"#ed7953\"], [0.7777777777777778, \"#fb9f3a\"], [0.8888888888888888, \"#fdca26\"], [1.0, \"#f0f921\"]], \"type\": \"histogram2d\"}], \"histogram2dcontour\": [{\"colorbar\": {\"outlinewidth\": 0, \"ticks\": \"\"}, \"colorscale\": [[0.0, \"#0d0887\"], [0.1111111111111111, \"#46039f\"], [0.2222222222222222, \"#7201a8\"], [0.3333333333333333, \"#9c179e\"], [0.4444444444444444, \"#bd3786\"], [0.5555555555555556, \"#d8576b\"], [0.6666666666666666, \"#ed7953\"], [0.7777777777777778, \"#fb9f3a\"], [0.8888888888888888, \"#fdca26\"], [1.0, \"#f0f921\"]], \"type\": \"histogram2dcontour\"}], \"mesh3d\": [{\"colorbar\": {\"outlinewidth\": 0, \"ticks\": \"\"}, \"type\": \"mesh3d\"}], \"parcoords\": [{\"line\": {\"colorbar\": {\"outlinewidth\": 0, \"ticks\": \"\"}}, \"type\": \"parcoords\"}], \"pie\": [{\"automargin\": true, \"type\": \"pie\"}], \"scatter\": [{\"marker\": {\"colorbar\": {\"outlinewidth\": 0, \"ticks\": \"\"}}, \"type\": \"scatter\"}], \"scatter3d\": [{\"line\": {\"colorbar\": {\"outlinewidth\": 0, \"ticks\": \"\"}}, \"marker\": {\"colorbar\": {\"outlinewidth\": 0, \"ticks\": \"\"}}, \"type\": \"scatter3d\"}], \"scattercarpet\": [{\"marker\": {\"colorbar\": {\"outlinewidth\": 0, \"ticks\": \"\"}}, \"type\": \"scattercarpet\"}], \"scattergeo\": [{\"marker\": {\"colorbar\": {\"outlinewidth\": 0, \"ticks\": \"\"}}, \"type\": \"scattergeo\"}], \"scattergl\": [{\"marker\": {\"colorbar\": {\"outlinewidth\": 0, \"ticks\": \"\"}}, \"type\": \"scattergl\"}], \"scattermapbox\": [{\"marker\": {\"colorbar\": {\"outlinewidth\": 0, \"ticks\": \"\"}}, \"type\": \"scattermapbox\"}], \"scatterpolar\": [{\"marker\": {\"colorbar\": {\"outlinewidth\": 0, \"ticks\": \"\"}}, \"type\": \"scatterpolar\"}], \"scatterpolargl\": [{\"marker\": {\"colorbar\": {\"outlinewidth\": 0, \"ticks\": \"\"}}, \"type\": \"scatterpolargl\"}], \"scatterternary\": [{\"marker\": {\"colorbar\": {\"outlinewidth\": 0, \"ticks\": \"\"}}, \"type\": \"scatterternary\"}], \"surface\": [{\"colorbar\": {\"outlinewidth\": 0, \"ticks\": \"\"}, \"colorscale\": [[0.0, \"#0d0887\"], [0.1111111111111111, \"#46039f\"], [0.2222222222222222, \"#7201a8\"], [0.3333333333333333, \"#9c179e\"], [0.4444444444444444, \"#bd3786\"], [0.5555555555555556, \"#d8576b\"], [0.6666666666666666, \"#ed7953\"], [0.7777777777777778, \"#fb9f3a\"], [0.8888888888888888, \"#fdca26\"], [1.0, \"#f0f921\"]], \"type\": \"surface\"}], \"table\": [{\"cells\": {\"fill\": {\"color\": \"#EBF0F8\"}, \"line\": {\"color\": \"white\"}}, \"header\": {\"fill\": {\"color\": \"#C8D4E3\"}, \"line\": {\"color\": \"white\"}}, \"type\": \"table\"}]}, \"layout\": {\"annotationdefaults\": {\"arrowcolor\": \"#2a3f5f\", \"arrowhead\": 0, \"arrowwidth\": 1}, \"autotypenumbers\": \"strict\", \"coloraxis\": {\"colorbar\": {\"outlinewidth\": 0, \"ticks\": \"\"}}, \"colorscale\": {\"diverging\": [[0, \"#8e0152\"], [0.1, \"#c51b7d\"], [0.2, \"#de77ae\"], [0.3, \"#f1b6da\"], [0.4, \"#fde0ef\"], [0.5, \"#f7f7f7\"], [0.6, \"#e6f5d0\"], [0.7, \"#b8e186\"], [0.8, \"#7fbc41\"], [0.9, \"#4d9221\"], [1, \"#276419\"]], \"sequential\": [[0.0, \"#0d0887\"], [0.1111111111111111, \"#46039f\"], [0.2222222222222222, \"#7201a8\"], [0.3333333333333333, \"#9c179e\"], [0.4444444444444444, \"#bd3786\"], [0.5555555555555556, \"#d8576b\"], [0.6666666666666666, \"#ed7953\"], [0.7777777777777778, \"#fb9f3a\"], [0.8888888888888888, \"#fdca26\"], [1.0, \"#f0f921\"]], \"sequentialminus\": [[0.0, \"#0d0887\"], [0.1111111111111111, \"#46039f\"], [0.2222222222222222, \"#7201a8\"], [0.3333333333333333, \"#9c179e\"], [0.4444444444444444, \"#bd3786\"], [0.5555555555555556, \"#d8576b\"], [0.6666666666666666, \"#ed7953\"], [0.7777777777777778, \"#fb9f3a\"], [0.8888888888888888, \"#fdca26\"], [1.0, \"#f0f921\"]]}, \"colorway\": [\"#636efa\", \"#EF553B\", \"#00cc96\", \"#ab63fa\", \"#FFA15A\", \"#19d3f3\", \"#FF6692\", \"#B6E880\", \"#FF97FF\", \"#FECB52\"], \"font\": {\"color\": \"#2a3f5f\"}, \"geo\": {\"bgcolor\": \"white\", \"lakecolor\": \"white\", \"landcolor\": \"#E5ECF6\", \"showlakes\": true, \"showland\": true, \"subunitcolor\": \"white\"}, \"hoverlabel\": {\"align\": \"left\"}, \"hovermode\": \"closest\", \"mapbox\": {\"style\": \"light\"}, \"paper_bgcolor\": \"white\", \"plot_bgcolor\": \"#E5ECF6\", \"polar\": {\"angularaxis\": {\"gridcolor\": \"white\", \"linecolor\": \"white\", \"ticks\": \"\"}, \"bgcolor\": \"#E5ECF6\", \"radialaxis\": {\"gridcolor\": \"white\", \"linecolor\": \"white\", \"ticks\": \"\"}}, \"scene\": {\"xaxis\": {\"backgroundcolor\": \"#E5ECF6\", \"gridcolor\": \"white\", \"gridwidth\": 2, \"linecolor\": \"white\", \"showbackground\": true, \"ticks\": \"\", \"zerolinecolor\": \"white\"}, \"yaxis\": {\"backgroundcolor\": \"#E5ECF6\", \"gridcolor\": \"white\", \"gridwidth\": 2, \"linecolor\": \"white\", \"showbackground\": true, \"ticks\": \"\", \"zerolinecolor\": \"white\"}, \"zaxis\": {\"backgroundcolor\": \"#E5ECF6\", \"gridcolor\": \"white\", \"gridwidth\": 2, \"linecolor\": \"white\", \"showbackground\": true, \"ticks\": \"\", \"zerolinecolor\": \"white\"}}, \"shapedefaults\": {\"line\": {\"color\": \"#2a3f5f\"}}, \"ternary\": {\"aaxis\": {\"gridcolor\": \"white\", \"linecolor\": \"white\", \"ticks\": \"\"}, \"baxis\": {\"gridcolor\": \"white\", \"linecolor\": \"white\", \"ticks\": \"\"}, \"bgcolor\": \"#E5ECF6\", \"caxis\": {\"gridcolor\": \"white\", \"linecolor\": \"white\", \"ticks\": \"\"}}, \"title\": {\"x\": 0.05}, \"xaxis\": {\"automargin\": true, \"gridcolor\": \"white\", \"linecolor\": \"white\", \"ticks\": \"\", \"title\": {\"standoff\": 15}, \"zerolinecolor\": \"white\", \"zerolinewidth\": 2}, \"yaxis\": {\"automargin\": true, \"gridcolor\": \"white\", \"linecolor\": \"white\", \"ticks\": \"\", \"title\": {\"standoff\": 15}, \"zerolinecolor\": \"white\", \"zerolinewidth\": 2}}}, \"xaxis\": {\"anchor\": \"y\", \"domain\": [0.0, 1.0], \"title\": {\"text\": \"graph\"}}, \"yaxis\": {\"anchor\": \"x\", \"domain\": [0.0, 1.0], \"title\": {\"text\": \"sum of n_covered\"}}},                        {\"responsive\": true}                    ).then(function(){\n",
       "                            \n",
       "var gd = document.getElementById('846cddce-c5bf-4d1e-857c-43f98ad62b56');\n",
       "var x = new MutationObserver(function (mutations, observer) {{\n",
       "        var display = window.getComputedStyle(gd).display;\n",
       "        if (!display || display === 'none') {{\n",
       "            console.log([gd, 'removed!']);\n",
       "            Plotly.purge(gd);\n",
       "            observer.disconnect();\n",
       "        }}\n",
       "}});\n",
       "\n",
       "// Listen for the removal of the full notebook cells\n",
       "var notebookContainer = gd.closest('#notebook-container');\n",
       "if (notebookContainer) {{\n",
       "    x.observe(notebookContainer, {childList: true});\n",
       "}}\n",
       "\n",
       "// Listen for the clearing of the current output cell\n",
       "var outputEl = gd.closest('.output');\n",
       "if (outputEl) {{\n",
       "    x.observe(outputEl, {childList: true});\n",
       "}}\n",
       "\n",
       "                        })                };                });            </script>        </div>"
      ]
     },
     "metadata": {},
     "output_type": "display_data"
    }
   ],
   "source": [
    "fig = px.histogram(Full, x=\"graph\", y=\"n_covered\",\n",
    "             color='model', barmode='group',\n",
    "             height=400)\n",
    "fig.show()"
   ]
  },
  {
   "cell_type": "code",
   "execution_count": 206,
   "id": "952613d0",
   "metadata": {
    "ExecuteTime": {
     "end_time": "2022-11-26T16:47:00.061958Z",
     "start_time": "2022-11-26T16:47:00.006189Z"
    }
   },
   "outputs": [
    {
     "name": "stderr",
     "output_type": "stream",
     "text": [
      "C:\\Users\\Jairo Enrique\\AppData\\Local\\Temp\\ipykernel_18044\\1843624887.py:1: FutureWarning:\n",
      "\n",
      "The default value of numeric_only in DataFrameGroupBy.mean is deprecated. In a future version, numeric_only will default to False. Either specify numeric_only or select only columns which should be valid for the function.\n",
      "\n"
     ]
    },
    {
     "data": {
      "text/html": [
       "<div>\n",
       "<style scoped>\n",
       "    .dataframe tbody tr th:only-of-type {\n",
       "        vertical-align: middle;\n",
       "    }\n",
       "\n",
       "    .dataframe tbody tr th {\n",
       "        vertical-align: top;\n",
       "    }\n",
       "\n",
       "    .dataframe thead th {\n",
       "        text-align: right;\n",
       "    }\n",
       "</style>\n",
       "<table border=\"1\" class=\"dataframe\">\n",
       "  <thead>\n",
       "    <tr style=\"text-align: right;\">\n",
       "      <th></th>\n",
       "      <th>n_covered</th>\n",
       "      <th>n</th>\n",
       "      <th>t_mean</th>\n",
       "      <th>ratio</th>\n",
       "    </tr>\n",
       "    <tr>\n",
       "      <th>model</th>\n",
       "      <th></th>\n",
       "      <th></th>\n",
       "      <th></th>\n",
       "      <th></th>\n",
       "    </tr>\n",
       "  </thead>\n",
       "  <tbody>\n",
       "    <tr>\n",
       "      <th>SAGE</th>\n",
       "      <td>2147.363636</td>\n",
       "      <td>13484.848485</td>\n",
       "      <td>0.228242</td>\n",
       "      <td>0.159867</td>\n",
       "    </tr>\n",
       "    <tr>\n",
       "      <th>MDH</th>\n",
       "      <td>2182.636364</td>\n",
       "      <td>13484.848485</td>\n",
       "      <td>0.169455</td>\n",
       "      <td>0.162547</td>\n",
       "    </tr>\n",
       "    <tr>\n",
       "      <th>GRAT</th>\n",
       "      <td>2206.030303</td>\n",
       "      <td>13484.848485</td>\n",
       "      <td>0.171606</td>\n",
       "      <td>0.164089</td>\n",
       "    </tr>\n",
       "    <tr>\n",
       "      <th>GCN</th>\n",
       "      <td>2346.363636</td>\n",
       "      <td>13484.848485</td>\n",
       "      <td>0.222364</td>\n",
       "      <td>0.172867</td>\n",
       "    </tr>\n",
       "    <tr>\n",
       "      <th>GraphConv</th>\n",
       "      <td>2382.424242</td>\n",
       "      <td>13484.848485</td>\n",
       "      <td>0.200000</td>\n",
       "      <td>0.177042</td>\n",
       "    </tr>\n",
       "    <tr>\n",
       "      <th>GAT</th>\n",
       "      <td>2802.909091</td>\n",
       "      <td>13484.848485</td>\n",
       "      <td>0.267424</td>\n",
       "      <td>0.210797</td>\n",
       "    </tr>\n",
       "  </tbody>\n",
       "</table>\n",
       "</div>"
      ],
      "text/plain": [
       "             n_covered             n    t_mean     ratio\n",
       "model                                                   \n",
       "SAGE       2147.363636  13484.848485  0.228242  0.159867\n",
       "MDH        2182.636364  13484.848485  0.169455  0.162547\n",
       "GRAT       2206.030303  13484.848485  0.171606  0.164089\n",
       "GCN        2346.363636  13484.848485  0.222364  0.172867\n",
       "GraphConv  2382.424242  13484.848485  0.200000  0.177042\n",
       "GAT        2802.909091  13484.848485  0.267424  0.210797"
      ]
     },
     "execution_count": 206,
     "metadata": {},
     "output_type": "execute_result"
    }
   ],
   "source": [
    "Full.groupby(by = \"model\").mean().sort_values(by=['ratio'])"
   ]
  },
  {
   "cell_type": "code",
   "execution_count": 207,
   "id": "d9491bdb",
   "metadata": {
    "ExecuteTime": {
     "end_time": "2022-11-26T16:47:00.155371Z",
     "start_time": "2022-11-26T16:47:00.133253Z"
    }
   },
   "outputs": [
    {
     "name": "stdout",
     "output_type": "stream",
     "text": [
      "(198, 6)\n"
     ]
    },
    {
     "data": {
      "text/plain": [
       "(139, 6)"
      ]
     },
     "execution_count": 207,
     "metadata": {},
     "output_type": "execute_result"
    }
   ],
   "source": [
    "print(Full.shape)\n",
    "Full = Full.drop_duplicates(subset=['n_covered'], keep = False)\n",
    "Full.shape"
   ]
  },
  {
   "cell_type": "code",
   "execution_count": 208,
   "id": "425ac3dd",
   "metadata": {
    "ExecuteTime": {
     "end_time": "2022-11-26T16:47:00.328488Z",
     "start_time": "2022-11-26T16:47:00.295357Z"
    }
   },
   "outputs": [
    {
     "data": {
      "text/html": [
       "<div>\n",
       "<style scoped>\n",
       "    .dataframe tbody tr th:only-of-type {\n",
       "        vertical-align: middle;\n",
       "    }\n",
       "\n",
       "    .dataframe tbody tr th {\n",
       "        vertical-align: top;\n",
       "    }\n",
       "\n",
       "    .dataframe thead th {\n",
       "        text-align: right;\n",
       "    }\n",
       "</style>\n",
       "<table border=\"1\" class=\"dataframe\">\n",
       "  <thead>\n",
       "    <tr style=\"text-align: right;\">\n",
       "      <th></th>\n",
       "      <th>graph</th>\n",
       "      <th>model</th>\n",
       "      <th>n_covered</th>\n",
       "      <th>n</th>\n",
       "      <th>t_mean</th>\n",
       "      <th>ratio</th>\n",
       "    </tr>\n",
       "  </thead>\n",
       "  <tbody>\n",
       "    <tr>\n",
       "      <th>10</th>\n",
       "      <td>ER_2000_0</td>\n",
       "      <td>GCN</td>\n",
       "      <td>345</td>\n",
       "      <td>2000</td>\n",
       "      <td>0.009</td>\n",
       "      <td>0.17250</td>\n",
       "    </tr>\n",
       "    <tr>\n",
       "      <th>19</th>\n",
       "      <td>ER_2000_9</td>\n",
       "      <td>GraphConv</td>\n",
       "      <td>359</td>\n",
       "      <td>2000</td>\n",
       "      <td>0.017</td>\n",
       "      <td>0.17950</td>\n",
       "    </tr>\n",
       "    <tr>\n",
       "      <th>11</th>\n",
       "      <td>ER_2000_1</td>\n",
       "      <td>GCN</td>\n",
       "      <td>352</td>\n",
       "      <td>2000</td>\n",
       "      <td>0.008</td>\n",
       "      <td>0.17600</td>\n",
       "    </tr>\n",
       "    <tr>\n",
       "      <th>14</th>\n",
       "      <td>ER_2000_4</td>\n",
       "      <td>GCN</td>\n",
       "      <td>350</td>\n",
       "      <td>2000</td>\n",
       "      <td>0.008</td>\n",
       "      <td>0.17500</td>\n",
       "    </tr>\n",
       "    <tr>\n",
       "      <th>15</th>\n",
       "      <td>ER_2000_5</td>\n",
       "      <td>GCN</td>\n",
       "      <td>342</td>\n",
       "      <td>2000</td>\n",
       "      <td>0.019</td>\n",
       "      <td>0.17100</td>\n",
       "    </tr>\n",
       "    <tr>\n",
       "      <th>...</th>\n",
       "      <td>...</td>\n",
       "      <td>...</td>\n",
       "      <td>...</td>\n",
       "      <td>...</td>\n",
       "      <td>...</td>\n",
       "      <td>...</td>\n",
       "    </tr>\n",
       "    <tr>\n",
       "      <th>25</th>\n",
       "      <td>ER_50000_2</td>\n",
       "      <td>SAGE</td>\n",
       "      <td>7923</td>\n",
       "      <td>50000</td>\n",
       "      <td>1.084</td>\n",
       "      <td>0.15846</td>\n",
       "    </tr>\n",
       "    <tr>\n",
       "      <th>25</th>\n",
       "      <td>ER_50000_2</td>\n",
       "      <td>GCN</td>\n",
       "      <td>8625</td>\n",
       "      <td>50000</td>\n",
       "      <td>1.274</td>\n",
       "      <td>0.17250</td>\n",
       "    </tr>\n",
       "    <tr>\n",
       "      <th>23</th>\n",
       "      <td>ER_50000_0</td>\n",
       "      <td>GCN</td>\n",
       "      <td>8700</td>\n",
       "      <td>50000</td>\n",
       "      <td>1.650</td>\n",
       "      <td>0.17400</td>\n",
       "    </tr>\n",
       "    <tr>\n",
       "      <th>24</th>\n",
       "      <td>ER_50000_1</td>\n",
       "      <td>MDH</td>\n",
       "      <td>8052</td>\n",
       "      <td>50000</td>\n",
       "      <td>0.931</td>\n",
       "      <td>0.16104</td>\n",
       "    </tr>\n",
       "    <tr>\n",
       "      <th>23</th>\n",
       "      <td>ER_50000_0</td>\n",
       "      <td>GAT</td>\n",
       "      <td>10418</td>\n",
       "      <td>50000</td>\n",
       "      <td>1.408</td>\n",
       "      <td>0.20836</td>\n",
       "    </tr>\n",
       "  </tbody>\n",
       "</table>\n",
       "<p>139 rows × 6 columns</p>\n",
       "</div>"
      ],
      "text/plain": [
       "         graph      model  n_covered      n  t_mean    ratio\n",
       "10   ER_2000_0        GCN        345   2000   0.009  0.17250\n",
       "19   ER_2000_9  GraphConv        359   2000   0.017  0.17950\n",
       "11   ER_2000_1        GCN        352   2000   0.008  0.17600\n",
       "14   ER_2000_4        GCN        350   2000   0.008  0.17500\n",
       "15   ER_2000_5        GCN        342   2000   0.019  0.17100\n",
       "..         ...        ...        ...    ...     ...      ...\n",
       "25  ER_50000_2       SAGE       7923  50000   1.084  0.15846\n",
       "25  ER_50000_2        GCN       8625  50000   1.274  0.17250\n",
       "23  ER_50000_0        GCN       8700  50000   1.650  0.17400\n",
       "24  ER_50000_1        MDH       8052  50000   0.931  0.16104\n",
       "23  ER_50000_0        GAT      10418  50000   1.408  0.20836\n",
       "\n",
       "[139 rows x 6 columns]"
      ]
     },
     "execution_count": 208,
     "metadata": {},
     "output_type": "execute_result"
    }
   ],
   "source": [
    "Full"
   ]
  },
  {
   "cell_type": "markdown",
   "id": "d2b7e78b",
   "metadata": {},
   "source": [
    "## Por mejor solución"
   ]
  },
  {
   "cell_type": "code",
   "execution_count": 209,
   "id": "0bac5d8c",
   "metadata": {
    "ExecuteTime": {
     "end_time": "2022-11-26T16:47:00.687303Z",
     "start_time": "2022-11-26T16:47:00.623038Z"
    }
   },
   "outputs": [
    {
     "data": {
      "text/plain": [
       "array([1., 1., 1., 1., 1., 1.])"
      ]
     },
     "execution_count": 209,
     "metadata": {},
     "output_type": "execute_result"
    }
   ],
   "source": [
    "models_name = Full.model.unique()\n",
    "Dict = {m: i for m, i in zip(models_name, np.arange(models_name.shape[0]))}\n",
    "\n",
    "MT = np.zeros((models_name.shape[0], models_name.shape[0]))\n",
    "for graph in Full.graph.unique():\n",
    "    \n",
    "    Temp = np.array(Full.query(f\"graph == '{graph}'\").sort_values(by = \"ratio\", ascending = False).model)\n",
    "    \n",
    "    for m in range(Temp.shape[0]):\n",
    "\n",
    "        if (m + 1) == Temp.shape[0]:\n",
    "            MT[ Dict[ Temp[m] ] ][ Dict[ Temp[m] ] ] += 1\n",
    "            continue\n",
    "        \n",
    "        for j in range(m + 1, Temp.shape[0]):\n",
    "            MT[ Dict[ Temp[m] ] ][ Dict[ Temp[j] ] ] += 1\n",
    "        \n",
    "\n",
    "MT_ = MT / np.expand_dims(np.sum(MT, axis = 1), 1)\n",
    "# La por filas siempre debe de dar 1 y para la probabilidad de estado estacionario, \n",
    "# se hace la transpuesta, es decir, las columnas son las deben sumar 1\n",
    "MT_.sum(1)"
   ]
  },
  {
   "cell_type": "code",
   "execution_count": 210,
   "id": "051dc7e2",
   "metadata": {
    "ExecuteTime": {
     "end_time": "2022-11-26T16:47:00.811287Z",
     "start_time": "2022-11-26T16:47:00.798744Z"
    }
   },
   "outputs": [
    {
     "name": "stdout",
     "output_type": "stream",
     "text": [
      "[0. 0. 1. 0. 0. 0.] \n",
      " ['GCN' 'GraphConv' 'SAGE' 'GAT' 'GRAT' 'MDH']\n"
     ]
    }
   ],
   "source": [
    "SPD_best = np.ones(MT_.shape[0])/MT_.shape[0] # initial distirbution\n",
    "for _ in range(200):\n",
    "    SPD_best = np.dot(MT_.T, SPD_best)\n",
    "print(np.round(SPD_best,3), '\\n',models_name)"
   ]
  },
  {
   "cell_type": "code",
   "execution_count": 211,
   "id": "af86ad0f",
   "metadata": {
    "ExecuteTime": {
     "end_time": "2022-11-26T16:47:01.139827Z",
     "start_time": "2022-11-26T16:47:01.119822Z"
    }
   },
   "outputs": [
    {
     "data": {
      "text/plain": [
       "array(['SAGE', 'MDH', 'GRAT', 'GCN', 'GraphConv', 'GAT'], dtype=object)"
      ]
     },
     "execution_count": 211,
     "metadata": {},
     "output_type": "execute_result"
    }
   ],
   "source": [
    "# Obtenemos el mínimo porque \n",
    "models_name[np.argsort(-SPD_best)]"
   ]
  },
  {
   "cell_type": "code",
   "execution_count": 212,
   "id": "1bbed3e8",
   "metadata": {
    "ExecuteTime": {
     "end_time": "2022-11-26T16:47:01.624231Z",
     "start_time": "2022-11-26T16:47:01.156294Z"
    }
   },
   "outputs": [
    {
     "data": {
      "image/png": "[encoded data removed]",
      "text/plain": [
       "<Figure size 640x480 with 2 Axes>"
      ]
     },
     "metadata": {},
     "output_type": "display_data"
    }
   ],
   "source": [
    "sns.heatmap(MT_, annot = True, xticklabels = models_name, yticklabels = models_name)\n",
    "plt.title(\"Heatmap for best solution\")\n",
    "plt.xlabel(\"Mejor que\");"
   ]
  },
  {
   "cell_type": "markdown",
   "id": "f5715266",
   "metadata": {},
   "source": [
    "## Por tiempo"
   ]
  },
  {
   "cell_type": "code",
   "execution_count": 213,
   "id": "f94933df",
   "metadata": {
    "ExecuteTime": {
     "end_time": "2022-11-26T16:47:01.828512Z",
     "start_time": "2022-11-26T16:47:01.721551Z"
    }
   },
   "outputs": [
    {
     "data": {
      "text/plain": [
       "array([1., 1., 1., 1., 1., 1.])"
      ]
     },
     "execution_count": 213,
     "metadata": {},
     "output_type": "execute_result"
    }
   ],
   "source": [
    "MT = np.zeros((models_name.shape[0], models_name.shape[0]))\n",
    "for graph in Full.graph.unique():\n",
    "    Temp = np.array(Full.query(f\"graph == '{graph}'\").sort_values(by = \"t_mean\", ascending=False).model)\n",
    "    for m in range(Temp.shape[0]):\n",
    "\n",
    "        if (m + 1) == Temp.shape[0]:\n",
    "            MT[ Dict[ Temp[m] ] ][ Dict[ Temp[m] ] ] += 1\n",
    "            continue\n",
    "        MT[ Dict[ Temp[m] ] ][ Dict[ Temp[m + 1] ] ] += 1\n",
    "\n",
    "MT_ = MT / np.expand_dims(np.sum(MT, axis = 1), 1)\n",
    "# La por filas siempre debe de dar 1 y para la probabilidad de estado estacionario, \n",
    "# se hace la transpuesta, es decir, las columnas son las deben sumar 1\n",
    "MT_.sum(1)"
   ]
  },
  {
   "cell_type": "code",
   "execution_count": 214,
   "id": "94d81e18",
   "metadata": {
    "ExecuteTime": {
     "end_time": "2022-11-26T16:47:01.906172Z",
     "start_time": "2022-11-26T16:47:01.894654Z"
    }
   },
   "outputs": [
    {
     "name": "stdout",
     "output_type": "stream",
     "text": [
      "[0.11679 0.13206 0.09233 0.09148 0.19592 0.37143] \n",
      " ['GCN' 'GraphConv' 'SAGE' 'GAT' 'GRAT' 'MDH']\n"
     ]
    }
   ],
   "source": [
    "SPD_time = np.ones(MT_.shape[0])/MT_.shape[0] # initial distirbution\n",
    "for _ in range(100):\n",
    "    SPD_time = np.dot(MT_.T, SPD_time)\n",
    "print(np.round(SPD_time,5), '\\n',models_name)"
   ]
  },
  {
   "cell_type": "code",
   "execution_count": 215,
   "id": "46ab724c",
   "metadata": {
    "ExecuteTime": {
     "end_time": "2022-11-26T16:47:02.169691Z",
     "start_time": "2022-11-26T16:47:02.151517Z"
    }
   },
   "outputs": [
    {
     "data": {
      "text/plain": [
       "array(['MDH', 'GRAT', 'GraphConv', 'GCN', 'SAGE', 'GAT'], dtype=object)"
      ]
     },
     "execution_count": 215,
     "metadata": {},
     "output_type": "execute_result"
    }
   ],
   "source": [
    "models_name[np.argsort(-SPD_time)]"
   ]
  },
  {
   "cell_type": "code",
   "execution_count": 216,
   "id": "5d163a20",
   "metadata": {
    "ExecuteTime": {
     "end_time": "2022-11-26T16:47:02.768636Z",
     "start_time": "2022-11-26T16:47:02.355780Z"
    }
   },
   "outputs": [
    {
     "data": {
      "text/plain": [
       "Text(0.5, 1.0, 'Heatmap for fastest solution')"
      ]
     },
     "execution_count": 216,
     "metadata": {},
     "output_type": "execute_result"
    },
    {
     "data": {
      "image/png": "[encoded data removed]",
      "text/plain": [
       "<Figure size 640x480 with 2 Axes>"
      ]
     },
     "metadata": {},
     "output_type": "display_data"
    }
   ],
   "source": [
    "sns.heatmap(MT_, annot = True, xticklabels = models_name, yticklabels = models_name)\n",
    "plt.title(\"Heatmap for fastest solution\")"
   ]
  },
  {
   "cell_type": "markdown",
   "id": "44bdda17",
   "metadata": {},
   "source": [
    "## All together"
   ]
  },
  {
   "cell_type": "code",
   "execution_count": 217,
   "id": "8d920673",
   "metadata": {
    "ExecuteTime": {
     "end_time": "2022-11-26T16:47:02.921347Z",
     "start_time": "2022-11-26T16:47:02.908807Z"
    }
   },
   "outputs": [
    {
     "name": "stdout",
     "output_type": "stream",
     "text": [
      "---- Best solution ----\n",
      "\n",
      "1  -  SAGE  \t 1.000\n",
      "2  -  MDH  \t 0.000\n",
      "3  -  GRAT  \t 0.000\n",
      "4  -  GCN  \t 0.000\n",
      "5  -  GraphC  \t 0.000\n",
      "6  -  GAT  \t 0.000\n"
     ]
    }
   ],
   "source": [
    "print(\"---- Best solution ----\\n\")\n",
    "c = 1\n",
    "for g in np.argsort(-SPD_best):\n",
    "    print(c,\" - \", models_name[g][:6], f\" \\t {SPD_best[g]:.3f}\")\n",
    "    c += 1"
   ]
  },
  {
   "cell_type": "code",
   "execution_count": 218,
   "id": "c9ad5e0d",
   "metadata": {
    "ExecuteTime": {
     "end_time": "2022-11-26T16:47:03.313139Z",
     "start_time": "2022-11-26T16:47:03.293240Z"
    }
   },
   "outputs": [
    {
     "name": "stdout",
     "output_type": "stream",
     "text": [
      "------ Best time ------\n",
      "\n",
      "1  -  MDH  \t 0.371\n",
      "2  -  GRAT  \t 0.196\n",
      "3  -  GraphC  \t 0.132\n",
      "4  -  GCN  \t 0.117\n",
      "5  -  SAGE  \t 0.092\n",
      "6  -  GAT  \t 0.091\n"
     ]
    }
   ],
   "source": [
    "print(\"------ Best time ------\\n\")\n",
    "c = 1\n",
    "for g in np.argsort(-SPD_time):\n",
    "    print(c,\" - \", models_name[g][:6], f\" \\t {SPD_time[g]:.3f}\")\n",
    "    c+=1"
   ]
  },
  {
   "cell_type": "code",
   "execution_count": null,
   "id": "b7adceff",
   "metadata": {},
   "outputs": [],
   "source": []
  },
  {
   "cell_type": "code",
   "execution_count": null,
   "id": "c73e8d0e",
   "metadata": {},
   "outputs": [],
   "source": []
  },
  {
   "cell_type": "code",
   "execution_count": 301,
   "id": "3042004f",
   "metadata": {
    "ExecuteTime": {
     "end_time": "2022-11-10T20:31:17.528681Z",
     "start_time": "2022-11-10T20:31:17.513222Z"
    }
   },
   "outputs": [],
   "source": [
    "import numpy as np\n",
    "x = np.array([[6.5,7], [5,3],[6,6],[7.5,8.2],[4,4], [6,7], [5,5], [5.1,5.2], [7,8], [8,8], [8,8]])\n",
    "x = np.append(np.ones((11,1)),x, axis = 1)\n",
    "y = np.array([6,8,7,2.5,4,10,5,7,4,12,4])"
   ]
  },
  {
   "cell_type": "code",
   "execution_count": 3,
   "id": "d7e7e171",
   "metadata": {
    "ExecuteTime": {
     "end_time": "2022-11-10T16:13:31.518949Z",
     "start_time": "2022-11-10T16:13:31.496937Z"
    }
   },
   "outputs": [
    {
     "data": {
      "text/plain": [
       "array([[1. , 6.5, 7. ],\n",
       "       [1. , 5. , 3. ],\n",
       "       [1. , 6. , 6. ],\n",
       "       [1. , 7.5, 8.2],\n",
       "       [1. , 4. , 4. ],\n",
       "       [1. , 6. , 7. ],\n",
       "       [1. , 5. , 5. ],\n",
       "       [1. , 5.1, 5.2],\n",
       "       [1. , 7. , 8. ],\n",
       "       [1. , 8. , 8. ],\n",
       "       [1. , 8. , 8. ]])"
      ]
     },
     "execution_count": 3,
     "metadata": {},
     "output_type": "execute_result"
    }
   ],
   "source": [
    "x"
   ]
  },
  {
   "cell_type": "code",
   "execution_count": 4,
   "id": "3b6f61c8",
   "metadata": {
    "ExecuteTime": {
     "end_time": "2022-11-10T16:13:31.766813Z",
     "start_time": "2022-11-10T16:13:31.745840Z"
    }
   },
   "outputs": [
    {
     "data": {
      "text/plain": [
       "array([[ 11.  ,  68.1 ,  69.4 ],\n",
       "       [ 68.1 , 439.51, 451.52],\n",
       "       [ 69.4 , 451.52, 470.28]])"
      ]
     },
     "execution_count": 4,
     "metadata": {},
     "output_type": "execute_result"
    }
   ],
   "source": [
    "np.dot(x.T, x)"
   ]
  },
  {
   "cell_type": "code",
   "execution_count": 73,
   "id": "491ed44c",
   "metadata": {
    "ExecuteTime": {
     "end_time": "2022-11-08T16:17:18.829798Z",
     "start_time": "2022-11-08T16:17:18.801049Z"
    }
   },
   "outputs": [
    {
     "data": {
      "text/plain": [
       "array([[ 2.50477748, -0.61285329,  0.21877171],\n",
       "       [-0.61285329,  0.31657017, -0.21350205],\n",
       "       [ 0.21877171, -0.21350205,  0.1748271 ]])"
      ]
     },
     "execution_count": 73,
     "metadata": {},
     "output_type": "execute_result"
    }
   ],
   "source": [
    "np.linalg.inv(np.dot(x.T, x))"
   ]
  },
  {
   "cell_type": "code",
   "execution_count": 74,
   "id": "b4069a89",
   "metadata": {
    "ExecuteTime": {
     "end_time": "2022-11-08T16:18:28.993261Z",
     "start_time": "2022-11-08T16:18:28.977643Z"
    }
   },
   "outputs": [
    {
     "data": {
      "text/plain": [
       "array([ 69.5 , 432.45, 435.9 ])"
      ]
     },
     "execution_count": 74,
     "metadata": {},
     "output_type": "execute_result"
    }
   ],
   "source": [
    "np.dot(x.T,y)"
   ]
  },
  {
   "cell_type": "code",
   "execution_count": 5,
   "id": "682f7089",
   "metadata": {
    "ExecuteTime": {
     "end_time": "2022-11-10T16:17:37.141680Z",
     "start_time": "2022-11-10T16:17:37.105825Z"
    }
   },
   "outputs": [
    {
     "data": {
      "text/plain": [
       "array([ 4.41621859,  1.24192201, -0.91719443])"
      ]
     },
     "execution_count": 5,
     "metadata": {},
     "output_type": "execute_result"
    }
   ],
   "source": [
    "B = np.dot(np.linalg.inv(np.dot(x.T, x)), np.dot(x.T,y))\n",
    "B"
   ]
  },
  {
   "cell_type": "code",
   "execution_count": 80,
   "id": "d5fb85be",
   "metadata": {
    "ExecuteTime": {
     "end_time": "2022-11-08T16:22:43.787563Z",
     "start_time": "2022-11-08T16:22:43.771558Z"
    }
   },
   "outputs": [
    {
     "data": {
      "text/plain": [
       "82.13636363636363"
      ]
     },
     "execution_count": 80,
     "metadata": {},
     "output_type": "execute_result"
    }
   ],
   "source": [
    "SST = np.dot(y,y) - (np.sum(y)**2)/11\n",
    "SST"
   ]
  },
  {
   "cell_type": "code",
   "execution_count": 84,
   "id": "66ac8347",
   "metadata": {
    "ExecuteTime": {
     "end_time": "2022-11-08T16:24:06.742304Z",
     "start_time": "2022-11-08T16:24:06.724859Z"
    }
   },
   "outputs": [
    {
     "data": {
      "text/plain": [
       "444.19131364903933"
      ]
     },
     "execution_count": 84,
     "metadata": {},
     "output_type": "execute_result"
    }
   ],
   "source": [
    "np.dot(B, np.dot(x.T,y))"
   ]
  },
  {
   "cell_type": "code",
   "execution_count": 81,
   "id": "6f3e8532",
   "metadata": {
    "ExecuteTime": {
     "end_time": "2022-11-08T16:23:15.664440Z",
     "start_time": "2022-11-08T16:23:15.653718Z"
    }
   },
   "outputs": [
    {
     "data": {
      "text/plain": [
       "77.05868635096067"
      ]
     },
     "execution_count": 81,
     "metadata": {},
     "output_type": "execute_result"
    }
   ],
   "source": [
    "SSE = np.dot(y,y) - np.dot(B, np.dot(x.T,y))\n",
    "SSE"
   ]
  },
  {
   "cell_type": "code",
   "execution_count": 83,
   "id": "007cb220",
   "metadata": {
    "ExecuteTime": {
     "end_time": "2022-11-08T16:23:45.094779Z",
     "start_time": "2022-11-08T16:23:45.083039Z"
    }
   },
   "outputs": [
    {
     "data": {
      "text/plain": [
       "5.077677285402956"
      ]
     },
     "execution_count": 83,
     "metadata": {},
     "output_type": "execute_result"
    }
   ],
   "source": [
    "SSReg = SST - SSE\n",
    "SSReg"
   ]
  },
  {
   "cell_type": "code",
   "execution_count": 90,
   "id": "3d110b50",
   "metadata": {
    "ExecuteTime": {
     "end_time": "2022-11-08T16:41:02.152642Z",
     "start_time": "2022-11-08T16:41:02.137800Z"
    }
   },
   "outputs": [
    {
     "data": {
      "text/plain": [
       "7.663494397900552"
      ]
     },
     "execution_count": 90,
     "metadata": {},
     "output_type": "execute_result"
    }
   ],
   "source": [
    "np.dot(B, [1,10,10])"
   ]
  },
  {
   "cell_type": "code",
   "execution_count": 15,
   "id": "24514330",
   "metadata": {
    "ExecuteTime": {
     "end_time": "2022-11-10T17:47:07.655658Z",
     "start_time": "2022-11-10T17:47:07.644659Z"
    }
   },
   "outputs": [
    {
     "data": {
      "text/plain": [
       "tensor([1.])"
      ]
     },
     "execution_count": 15,
     "metadata": {},
     "output_type": "execute_result"
    }
   ],
   "source": [
    "import torch\n",
    "torch.sigmoid(torch.tensor([100]))"
   ]
  }
 ],
 "metadata": {
  "hide_input": false,
  "kernelspec": {
   "display_name": "Python 3 (ipykernel)",
   "language": "python",
   "name": "python3"
  },
  "language_info": {
   "codemirror_mode": {
    "name": "ipython",
    "version": 3
   },
   "file_extension": ".py",
   "mimetype": "text/x-python",
   "name": "python",
   "nbconvert_exporter": "python",
   "pygments_lexer": "ipython3",
   "version": "3.8.5"
  },
  "varInspector": {
   "cols": {
    "lenName": 16,
    "lenType": 16,
    "lenVar": 40
   },
   "kernels_config": {
    "python": {
     "delete_cmd_postfix": "",
     "delete_cmd_prefix": "del ",
     "library": "var_list.py",
     "varRefreshCmd": "print(var_dic_list())"
    },
    "r": {
     "delete_cmd_postfix": ") ",
     "delete_cmd_prefix": "rm(",
     "library": "var_list.r",
     "varRefreshCmd": "cat(var_dic_list()) "
    }
   },
   "types_to_exclude": [
    "module",
    "function",
    "builtin_function_or_method",
    "instance",
    "_Feature"
   ],
   "window_display": false
  }
 },
 "nbformat": 4,
 "nbformat_minor": 5
}
