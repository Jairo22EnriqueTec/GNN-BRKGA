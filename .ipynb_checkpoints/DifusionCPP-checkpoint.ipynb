{
 "cells": [
  {
   "cell_type": "code",
   "execution_count": 1,
   "id": "2075e096",
   "metadata": {
    "ExecuteTime": {
     "end_time": "2022-11-07T17:48:56.541653Z",
     "start_time": "2022-11-07T17:48:53.128129Z"
    }
   },
   "outputs": [],
   "source": [
    "import numpy as np\n",
    "import igraph\n",
    "import networkx as nx\n",
    "import time\n",
    "import os\n",
    "import sys\n",
    "sys.path.append(\"./FastCover/\")\n",
    "from utils import FindMinimumTarget"
   ]
  },
  {
   "cell_type": "code",
   "execution_count": 2,
   "id": "413afce8",
   "metadata": {
    "ExecuteTime": {
     "end_time": "2022-11-07T17:48:58.219763Z",
     "start_time": "2022-11-07T17:48:58.200576Z"
    }
   },
   "outputs": [],
   "source": [
    "def first_pos_not_member(options, n):\n",
    "    for i in range(n):\n",
    "        if member[options[i]] == 0:\n",
    "            return i"
   ]
  },
  {
   "cell_type": "code",
   "execution_count": 3,
   "id": "72a30993",
   "metadata": {
    "ExecuteTime": {
     "end_time": "2022-11-07T17:48:58.498531Z",
     "start_time": "2022-11-07T17:48:58.491216Z"
    }
   },
   "outputs": [],
   "source": [
    "#node = options[pos]\n",
    "def diffusion(node, Neigh, member, covered_by):\n",
    "#node = options[pos]\n",
    "    n_of_vertices_covered = np.dot(member, np.ones(n, dtype=np.int16))\n",
    "    to_add = [node]\n",
    "    while len(to_add) > 0:\n",
    "        new_to_add = []\n",
    "\n",
    "        for sit in to_add:\n",
    "\n",
    "            for sit2 in Neigh[sit]:\n",
    "\n",
    "                if not member[sit2]:\n",
    "\n",
    "                    covered_by[sit2] += 1\n",
    "                    if (covered_by[sit2] >= required[sit2]):\n",
    "                            new_to_add.append(sit2)\n",
    "                            member[sit2] = 1;\n",
    "                            n_of_vertices_covered += 1\n",
    "        to_add = new_to_add.copy()\n",
    "    #print(n_of_vertices_covered)\n",
    "    return (n_of_vertices_covered == n)"
   ]
  },
  {
   "cell_type": "code",
   "execution_count": 23,
   "id": "529f3c15",
   "metadata": {
    "ExecuteTime": {
     "end_time": "2022-11-07T17:54:12.791587Z",
     "start_time": "2022-11-07T17:54:12.576852Z"
    }
   },
   "outputs": [],
   "source": [
    "graph = igraph.Graph().Read_Edgelist('./BRKGA/instances/txt/musae_git.txt')"
   ]
  },
  {
   "cell_type": "code",
   "execution_count": 24,
   "id": "ca7fb3cd",
   "metadata": {
    "ExecuteTime": {
     "end_time": "2022-11-07T17:54:18.463940Z",
     "start_time": "2022-11-07T17:54:16.625573Z"
    }
   },
   "outputs": [],
   "source": [
    "G = graph.to_networkx().to_undirected()\n",
    "n = len(G.nodes())\n",
    "\n",
    "degree = np.array(nx.degree(G)).T[1]\n",
    "#Neigh = np.zeros((n, maxneighs), dtype = np.int16)-1\n",
    "Neigh = [[] for _ in range(n)]\n",
    "required = np.array(np.ceil(degree/2), dtype = np.int16)\n",
    "\n",
    "targetset = []"
   ]
  },
  {
   "cell_type": "code",
   "execution_count": 25,
   "id": "d7af5df5",
   "metadata": {
    "ExecuteTime": {
     "end_time": "2022-11-07T17:54:20.958152Z",
     "start_time": "2022-11-07T17:54:20.567520Z"
    }
   },
   "outputs": [],
   "source": [
    "with open(\"./BRKGA/instances/txt/musae_git.txt\") as f:\n",
    "    for line in f.readlines():\n",
    "        line = line.replace(\"\\n\", \"\")\n",
    "        line = line.split(\" \")\n",
    "        \n",
    "        Neigh[int(line[0])].append(int(line[1]))\n",
    "        Neigh[int(line[1])].append(int(line[0]))"
   ]
  },
  {
   "cell_type": "code",
   "execution_count": 26,
   "id": "88cfa23d",
   "metadata": {
    "ExecuteTime": {
     "end_time": "2022-11-07T17:54:23.386728Z",
     "start_time": "2022-11-07T17:54:23.353900Z"
    }
   },
   "outputs": [],
   "source": [
    "options = np.zeros(n,dtype=np.int16)\n",
    "\n",
    "# aquí la salida de la red\n",
    "out = np.ones(n,dtype=np.int16)\n",
    "for i in range(n):\n",
    "    options[i] = degree[i] * out[i]\n",
    "\n",
    "#contiene los nodos ordenados\n",
    "options = np.argsort(-options)\n",
    "\n",
    "covered_by = np.zeros(n , dtype = np.int16)\n",
    "\n",
    "member = np.zeros(n , dtype = np.int16)"
   ]
  },
  {
   "cell_type": "code",
   "execution_count": 27,
   "id": "02b930f2",
   "metadata": {
    "ExecuteTime": {
     "end_time": "2022-11-07T17:54:27.162285Z",
     "start_time": "2022-11-07T17:54:25.885761Z"
    }
   },
   "outputs": [
    {
     "ename": "TypeError",
     "evalue": "only integer scalar arrays can be converted to a scalar index",
     "output_type": "error",
     "traceback": [
      "\u001b[1;31m---------------------------------------------------------------------------\u001b[0m",
      "\u001b[1;31mTypeError\u001b[0m                                 Traceback (most recent call last)",
      "Input \u001b[1;32mIn [27]\u001b[0m, in \u001b[0;36m<cell line: 3>\u001b[1;34m()\u001b[0m\n\u001b[0;32m      6\u001b[0m     member[options[pos]] \u001b[38;5;241m=\u001b[39m \u001b[38;5;241m1\u001b[39m\n\u001b[0;32m      7\u001b[0m     \u001b[38;5;66;03m# se manda \u001b[39;00m\n\u001b[1;32m----> 8\u001b[0m     finished \u001b[38;5;241m=\u001b[39m \u001b[43mdiffusion\u001b[49m\u001b[43m(\u001b[49m\u001b[43moptions\u001b[49m\u001b[43m[\u001b[49m\u001b[43mpos\u001b[49m\u001b[43m]\u001b[49m\u001b[43m,\u001b[49m\u001b[43m \u001b[49m\u001b[43mNeigh\u001b[49m\u001b[43m,\u001b[49m\u001b[43m \u001b[49m\u001b[43mmember\u001b[49m\u001b[43m,\u001b[49m\u001b[43m \u001b[49m\u001b[43mcovered_by\u001b[49m\u001b[43m)\u001b[49m\n\u001b[0;32m     10\u001b[0m \u001b[38;5;28mprint\u001b[39m(\u001b[38;5;124mf\u001b[39m\u001b[38;5;124m\"\u001b[39m\u001b[38;5;132;01m{\u001b[39;00mtime\u001b[38;5;241m.\u001b[39mtime() \u001b[38;5;241m-\u001b[39m init\u001b[38;5;132;01m:\u001b[39;00m\u001b[38;5;124m.3f\u001b[39m\u001b[38;5;132;01m}\u001b[39;00m\u001b[38;5;124m\"\u001b[39m)\n",
      "Input \u001b[1;32mIn [3]\u001b[0m, in \u001b[0;36mdiffusion\u001b[1;34m(node, Neigh, member, covered_by)\u001b[0m\n\u001b[0;32m      7\u001b[0m new_to_add \u001b[38;5;241m=\u001b[39m []\n\u001b[0;32m      9\u001b[0m \u001b[38;5;28;01mfor\u001b[39;00m sit \u001b[38;5;129;01min\u001b[39;00m to_add:\n\u001b[1;32m---> 11\u001b[0m     \u001b[38;5;28;01mfor\u001b[39;00m sit2 \u001b[38;5;129;01min\u001b[39;00m \u001b[43mNeigh\u001b[49m\u001b[43m[\u001b[49m\u001b[43msit\u001b[49m\u001b[43m]\u001b[49m:\n\u001b[0;32m     13\u001b[0m         \u001b[38;5;28;01mif\u001b[39;00m \u001b[38;5;129;01mnot\u001b[39;00m member[sit2]:\n\u001b[0;32m     15\u001b[0m             covered_by[sit2] \u001b[38;5;241m+\u001b[39m\u001b[38;5;241m=\u001b[39m \u001b[38;5;241m1\u001b[39m\n",
      "\u001b[1;31mTypeError\u001b[0m: only integer scalar arrays can be converted to a scalar index"
     ]
    }
   ],
   "source": [
    "init = time.time()\n",
    "finished = False\n",
    "while not finished:\n",
    "    pos = first_pos_not_member(options, n)\n",
    "    targetset.append(pos)\n",
    "    member[options[pos]] = 1\n",
    "    # se manda \n",
    "    finished = diffusion(options[pos], Neigh, member, covered_by)\n",
    "    \n",
    "print(f\"{time.time() - init:.3f}\")"
   ]
  },
  {
   "cell_type": "code",
   "execution_count": 30,
   "id": "6e3dbca8",
   "metadata": {
    "ExecuteTime": {
     "end_time": "2022-11-07T17:54:57.857832Z",
     "start_time": "2022-11-07T17:54:44.960442Z"
    }
   },
   "outputs": [
    {
     "name": "stdout",
     "output_type": "stream",
     "text": [
      "0.03 Infected\n",
      "1.00 Infected\n",
      "\n",
      "12.877\n"
     ]
    }
   ],
   "source": [
    "init = time.time()\n",
    "FindMinimumTarget(G, out = None, threshold=0.5)\n",
    "print(f\"{time.time() - init:.3f}\")"
   ]
  },
  {
   "cell_type": "code",
   "execution_count": 29,
   "id": "9e917043",
   "metadata": {
    "ExecuteTime": {
     "end_time": "2022-11-07T17:54:42.355507Z",
     "start_time": "2022-11-07T17:54:42.339471Z"
    }
   },
   "outputs": [],
   "source": [
    "#Neigh"
   ]
  },
  {
   "cell_type": "code",
   "execution_count": null,
   "id": "324b1635",
   "metadata": {},
   "outputs": [],
   "source": []
  }
 ],
 "metadata": {
  "hide_input": false,
  "kernelspec": {
   "display_name": "Python 3 (ipykernel)",
   "language": "python",
   "name": "python3"
  },
  "language_info": {
   "codemirror_mode": {
    "name": "ipython",
    "version": 3
   },
   "file_extension": ".py",
   "mimetype": "text/x-python",
   "name": "python",
   "nbconvert_exporter": "python",
   "pygments_lexer": "ipython3",
   "version": "3.8.5"
  },
  "varInspector": {
   "cols": {
    "lenName": 16,
    "lenType": 16,
    "lenVar": 40
   },
   "kernels_config": {
    "python": {
     "delete_cmd_postfix": "",
     "delete_cmd_prefix": "del ",
     "library": "var_list.py",
     "varRefreshCmd": "print(var_dic_list())"
    },
    "r": {
     "delete_cmd_postfix": ") ",
     "delete_cmd_prefix": "rm(",
     "library": "var_list.r",
     "varRefreshCmd": "cat(var_dic_list()) "
    }
   },
   "types_to_exclude": [
    "module",
    "function",
    "builtin_function_or_method",
    "instance",
    "_Feature"
   ],
   "window_display": false
  }
 },
 "nbformat": 4,
 "nbformat_minor": 5
}
