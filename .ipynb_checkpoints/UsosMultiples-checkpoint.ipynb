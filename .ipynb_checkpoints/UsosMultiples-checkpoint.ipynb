{
 "cells": [
  {
   "cell_type": "code",
   "execution_count": 6,
   "id": "851439f8",
   "metadata": {
    "ExecuteTime": {
     "end_time": "2022-11-26T09:38:04.791535Z",
     "start_time": "2022-11-26T09:38:04.773720Z"
    }
   },
   "outputs": [],
   "source": [
    "import numpy as np\n",
    "import networkx as nx\n",
    "import igraph\n",
    "import progressbar\n",
    "from icecream import ic\n",
    "import os\n",
    "ic.configureOutput(prefix = 'debug | -> ')\n",
    "ic.disable()\n",
    "ic.enable()"
   ]
  },
  {
   "cell_type": "markdown",
   "id": "efa9fbd2",
   "metadata": {},
   "source": [
    "## Entreno y evaluación de las redes con scale free networks"
   ]
  },
  {
   "cell_type": "code",
   "execution_count": 16,
   "id": "3350fc8f",
   "metadata": {
    "ExecuteTime": {
     "end_time": "2022-11-26T09:43:17.605716Z",
     "start_time": "2022-11-26T09:43:17.598252Z"
    }
   },
   "outputs": [],
   "source": [
    "PATH_INSTANCES = './BRKGA/instances/scalefree/dimacs/'\n",
    "NEW_PATH = \"./BRKGA/instances/scalefree/txt/\""
   ]
  },
  {
   "cell_type": "code",
   "execution_count": 17,
   "id": "a67425e9",
   "metadata": {
    "ExecuteTime": {
     "end_time": "2022-11-26T09:43:17.918375Z",
     "start_time": "2022-11-26T09:43:17.898736Z"
    }
   },
   "outputs": [],
   "source": [
    "def Dimacs2Txt(ruta, nuevaruta):\n",
    "    file1 = open(ruta, 'rb')\n",
    "    Lines = file1.readlines()\n",
    "    newname = \".\".join((PATH_INSTANCES+file).split(\"/\")[-1].split(\".\")[:-1])+\".txt\"\n",
    "    file2 = open(nuevaruta+newname, 'w')\n",
    "    c = 0\n",
    "    for line in Lines[1:]:\n",
    "        v = line.strip().split()\n",
    "        file2.write(f\"{int(v[1])-1} {int(v[2])-1}\")\n",
    "        file2.write('\\n')\n",
    "        c += 1\n",
    "    file1.close()\n",
    "    file2.close()\n",
    "    print(f\"para {newname} se escribieron {c} lines\")\n",
    "    return newname\n"
   ]
  },
  {
   "cell_type": "code",
   "execution_count": 18,
   "id": "a58e91b5",
   "metadata": {
    "ExecuteTime": {
     "end_time": "2022-11-26T09:43:19.668161Z",
     "start_time": "2022-11-26T09:43:18.474914Z"
    }
   },
   "outputs": [
    {
     "name": "stderr",
     "output_type": "stream",
     "text": [
      " 15% (3 of 20) |###                      | Elapsed Time: 0:00:00 ETA:   0:00:00"
     ]
    },
    {
     "name": "stdout",
     "output_type": "stream",
     "text": [
      "para graph1__2.25_1000_10.txt se escribieron 10000 lines\n",
      "para graph1__2.25_1000_20.txt se escribieron 20000 lines\n",
      "para graph1__2.25_1000_30.txt se escribieron 30000 lines\n",
      "para graph1__2.25_1000_5.txt se escribieron 5000 lines\n",
      "para graph1__2.5_1000_10.txt se escribieron 10000 lines\n"
     ]
    },
    {
     "name": "stderr",
     "output_type": "stream",
     "text": [
      " 45% (9 of 20) |###########              | Elapsed Time: 0:00:00 ETA:   0:00:00"
     ]
    },
    {
     "name": "stdout",
     "output_type": "stream",
     "text": [
      "para graph1__2.5_1000_20.txt se escribieron 20000 lines\n",
      "para graph1__2.5_1000_30.txt se escribieron 30000 lines\n",
      "para graph1__2.5_1000_5.txt se escribieron 5000 lines\n",
      "para graph1__2.75_1000_10.txt se escribieron 10000 lines\n"
     ]
    },
    {
     "name": "stderr",
     "output_type": "stream",
     "text": [
      " 65% (13 of 20) |###############         | Elapsed Time: 0:00:00 ETA:   0:00:00"
     ]
    },
    {
     "name": "stdout",
     "output_type": "stream",
     "text": [
      "para graph1__2.75_1000_20.txt se escribieron 20000 lines\n",
      "para graph1__2.75_1000_30.txt se escribieron 30000 lines\n",
      "para graph1__2.75_1000_5.txt se escribieron 5000 lines\n",
      "para graph1__2_1000_10.txt se escribieron 10000 lines\n"
     ]
    },
    {
     "name": "stderr",
     "output_type": "stream",
     "text": [
      " 85% (17 of 20) |####################    | Elapsed Time: 0:00:00 ETA:   0:00:00"
     ]
    },
    {
     "name": "stdout",
     "output_type": "stream",
     "text": [
      "para graph1__2_1000_20.txt se escribieron 20000 lines\n",
      "para graph1__2_1000_30.txt se escribieron 30000 lines\n",
      "para graph1__2_1000_5.txt se escribieron 5000 lines\n",
      "para graph1__3_1000_10.txt se escribieron 10000 lines\n"
     ]
    },
    {
     "name": "stderr",
     "output_type": "stream",
     "text": [
      "100% (20 of 20) |########################| Elapsed Time: 0:00:01 Time:  0:00:01\n"
     ]
    },
    {
     "name": "stdout",
     "output_type": "stream",
     "text": [
      "para graph1__3_1000_20.txt se escribieron 20000 lines\n",
      "para graph1__3_1000_30.txt se escribieron 30000 lines\n",
      "para graph1__3_1000_5.txt se escribieron 5000 lines\n"
     ]
    }
   ],
   "source": [
    "Graphs = [graph for graph in os.listdir(PATH_INSTANCES)]\n",
    "for file in progressbar.progressbar(Graphs):\n",
    "    Dimacs2Txt(PATH_INSTANCES+file, NEW_PATH)"
   ]
  },
  {
   "cell_type": "code",
   "execution_count": 22,
   "id": "fd34282a",
   "metadata": {
    "ExecuteTime": {
     "end_time": "2022-11-26T10:00:39.685423Z",
     "start_time": "2022-11-26T10:00:39.657904Z"
    }
   },
   "outputs": [],
   "source": [
    "G = igraph.Graph.Read_Ncol(NEW_PATH+'graph1__2.5_1000_5.txt', directed = False)"
   ]
  },
  {
   "cell_type": "code",
   "execution_count": 29,
   "id": "5004d42a",
   "metadata": {
    "ExecuteTime": {
     "end_time": "2022-11-26T11:04:50.901705Z",
     "start_time": "2022-11-26T11:04:50.846224Z"
    }
   },
   "outputs": [
    {
     "data": {
      "text/plain": [
       "['graph1__2.25_1000_10.txt',\n",
       " 'graph1__2.25_1000_20.txt',\n",
       " 'graph1__2.25_1000_30.txt',\n",
       " 'graph1__2.25_1000_5.txt',\n",
       " 'graph1__2.5_1000_10.txt',\n",
       " 'graph1__2.5_1000_20.txt',\n",
       " 'graph1__2.5_1000_30.txt',\n",
       " 'graph1__2.5_1000_5.txt',\n",
       " 'graph1__2.75_1000_10.txt',\n",
       " 'graph1__2.75_1000_20.txt',\n",
       " 'graph1__2.75_1000_30.txt',\n",
       " 'graph1__2.75_1000_5.txt',\n",
       " 'graph1__2_1000_10.txt',\n",
       " 'graph1__2_1000_20.txt',\n",
       " 'graph1__2_1000_30.txt',\n",
       " 'graph1__2_1000_5.txt',\n",
       " 'graph1__3_1000_10.txt',\n",
       " 'graph1__3_1000_20.txt',\n",
       " 'graph1__3_1000_30.txt',\n",
       " 'graph1__3_1000_5.txt']"
      ]
     },
     "execution_count": 29,
     "metadata": {},
     "output_type": "execute_result"
    }
   ],
   "source": [
    "Graphs"
   ]
  },
  {
   "cell_type": "code",
   "execution_count": null,
   "id": "8989e69d",
   "metadata": {},
   "outputs": [],
   "source": []
  }
 ],
 "metadata": {
  "hide_input": false,
  "kernelspec": {
   "display_name": "Python 3 (ipykernel)",
   "language": "python",
   "name": "python3"
  },
  "language_info": {
   "codemirror_mode": {
    "name": "ipython",
    "version": 3
   },
   "file_extension": ".py",
   "mimetype": "text/x-python",
   "name": "python",
   "nbconvert_exporter": "python",
   "pygments_lexer": "ipython3",
   "version": "3.8.5"
  },
  "varInspector": {
   "cols": {
    "lenName": 16,
    "lenType": 16,
    "lenVar": 40
   },
   "kernels_config": {
    "python": {
     "delete_cmd_postfix": "",
     "delete_cmd_prefix": "del ",
     "library": "var_list.py",
     "varRefreshCmd": "print(var_dic_list())"
    },
    "r": {
     "delete_cmd_postfix": ") ",
     "delete_cmd_prefix": "rm(",
     "library": "var_list.r",
     "varRefreshCmd": "cat(var_dic_list()) "
    }
   },
   "types_to_exclude": [
    "module",
    "function",
    "builtin_function_or_method",
    "instance",
    "_Feature"
   ],
   "window_display": false
  }
 },
 "nbformat": 4,
 "nbformat_minor": 5
}
