{
 "cells": [
  {
   "cell_type": "code",
   "execution_count": 50,
   "id": "2aac7004",
   "metadata": {
    "ExecuteTime": {
     "end_time": "2023-01-13T20:56:17.289825Z",
     "start_time": "2023-01-13T20:56:17.284533Z"
    }
   },
   "outputs": [],
   "source": [
    "from OwnGenetical import geneticalgorithm as ga"
   ]
  },
  {
   "cell_type": "code",
   "execution_count": 53,
   "id": "eebb9be6",
   "metadata": {
    "ExecuteTime": {
     "end_time": "2023-01-13T20:56:58.208402Z",
     "start_time": "2023-01-13T20:56:57.694433Z"
    }
   },
   "outputs": [
    {
     "name": "stdout",
     "output_type": "stream",
     "text": [
      " The best solution found:                                                                           \n",
      " [-9.76387836 -9.99854179 -9.85109855]\n",
      "\n",
      " Objective function:\n",
      " -29.613518696443975\n"
     ]
    }
   ],
   "source": [
    "def Func(x):\n",
    "    return np.sum(x)\n",
    "\n",
    "def Func2(x):\n",
    "    return -np.sum(x)\n",
    "\n",
    "varbound = np.array([[-10,10]] * 3)\n",
    "\n",
    "algorithm_param = {'max_num_iteration' : 100,\\\n",
    "                   'population_size' : 5,\\\n",
    "                   'mutation_probability' : 0.4,\\\n",
    "                   'elit_ratio': 0.01,\\\n",
    "                   'crossover_probability': 0.5,\\\n",
    "                   'parents_portion': 0.3,\\\n",
    "                   'crossover_type' : 'uniform',\\\n",
    "                   'max_iteration_without_improv' : 1_000_000}\n",
    "\n",
    "GA_model = ga(function = Func,\\\n",
    "                            secondfunc = Func2, \\\n",
    "            dimension = 3,\\\n",
    "            variable_type = 'real',\\\n",
    "            variable_boundaries = varbound,\\\n",
    "            algorithm_parameters = algorithm_param,\n",
    "            function_timeout = 1_0,\n",
    "            convergence_curve = False)\n",
    "\n",
    "GA_model.run()\n"
   ]
  },
  {
   "cell_type": "code",
   "execution_count": 52,
   "id": "a18f883f",
   "metadata": {
    "ExecuteTime": {
     "end_time": "2023-01-13T20:56:30.040144Z",
     "start_time": "2023-01-13T20:56:29.887749Z"
    }
   },
   "outputs": [
    {
     "data": {
      "text/plain": [
       "Text(0.5, 1.0, '')"
      ]
     },
     "execution_count": 52,
     "metadata": {},
     "output_type": "execute_result"
    },
    {
     "data": {
      "image/png": "[encoded data removed]",
      "text/plain": [
       "<Figure size 640x480 with 1 Axes>"
      ]
     },
     "metadata": {},
     "output_type": "display_data"
    }
   ],
   "source": [
    "plt.plot(GA_model.report)\n",
    "plt.plot(GA_model.reportsecond)\n",
    "plt.grid()\n",
    "plt.title(\"\")\n",
    "\n",
    "#plt.savefig(\"Borrarya.png\");\n",
    "#plt.clf()"
   ]
  },
  {
   "cell_type": "code",
   "execution_count": null,
   "id": "c0881896",
   "metadata": {},
   "outputs": [],
   "source": []
  }
 ],
 "metadata": {
  "hide_input": false,
  "kernelspec": {
   "display_name": "Python 3 (ipykernel)",
   "language": "python",
   "name": "python3"
  },
  "language_info": {
   "codemirror_mode": {
    "name": "ipython",
    "version": 3
   },
   "file_extension": ".py",
   "mimetype": "text/x-python",
   "name": "python",
   "nbconvert_exporter": "python",
   "pygments_lexer": "ipython3",
   "version": "3.8.5"
  },
  "varInspector": {
   "cols": {
    "lenName": 16,
    "lenType": 16,
    "lenVar": 40
   },
   "kernels_config": {
    "python": {
     "delete_cmd_postfix": "",
     "delete_cmd_prefix": "del ",
     "library": "var_list.py",
     "varRefreshCmd": "print(var_dic_list())"
    },
    "r": {
     "delete_cmd_postfix": ") ",
     "delete_cmd_prefix": "rm(",
     "library": "var_list.r",
     "varRefreshCmd": "cat(var_dic_list()) "
    }
   },
   "types_to_exclude": [
    "module",
    "function",
    "builtin_function_or_method",
    "instance",
    "_Feature"
   ],
   "window_display": false
  }
 },
 "nbformat": 4,
 "nbformat_minor": 5
}
