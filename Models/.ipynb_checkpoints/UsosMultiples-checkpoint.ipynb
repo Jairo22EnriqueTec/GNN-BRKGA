{
 "cells": [
  {
   "cell_type": "code",
   "execution_count": 7,
   "metadata": {
    "ExecuteTime": {
     "end_time": "2022-10-29T20:45:00.338152Z",
     "start_time": "2022-10-29T20:45:00.327030Z"
    }
   },
   "outputs": [],
   "source": [
    "import networkx as nx\n",
    "import numpy as np\n",
    "import torch\n",
    "from datetime import datetime\n",
    "import os\n",
    "import torch.nn as nn\n",
    "import torch.nn.functional as F\n",
    "from torch_geometric.nn import GCNConv\n",
    "import matplotlib.pyplot as plt\n",
    "\n",
    "import pandas as pd\n",
    "import torch_geometric.transforms as T\n",
    "\n",
    "#from create_dataset import CreateDataset\n",
    "\n",
    "from models import GNNModel\n",
    "\n",
    "import sys\n",
    "sys.path.append(\"../FastCover/\")\n",
    "from utils import *"
   ]
  },
  {
   "cell_type": "code",
   "execution_count": 5,
   "metadata": {
    "ExecuteTime": {
     "end_time": "2022-10-29T20:44:46.508513Z",
     "start_time": "2022-10-29T20:44:46.456575Z"
    }
   },
   "outputs": [],
   "source": [
    "PATH_SAVE_TRAINS_CHECKPOINTS = 'runs/checkpoints/'\n",
    "PATH_SAVE_TRAINS = 'runs/'\n",
    "PATH_TRAIN = '../FastCover/data/ER_graphs/train/'\n",
    "\n",
    "num_features = 1\n",
    "num_classes  = 2\n",
    "\n",
    "threshold = 0.5\n",
    "\n",
    "optimizer_name = \"Adam\"\n",
    "lr = 1e-3\n",
    "epochs = 20\n",
    "\n",
    "SEED = 13\n",
    "\n",
    "device = torch.device('cuda' if torch.cuda.is_available() else 'cpu')\n",
    "\n",
    "layers = [\"GCN\", \"GAT\",\"GraphConv\"]\n",
    "\n",
    "Models = [GNNModel(c_in = 1, c_hidden = 100, c_out = 2, num_layers = 2, layer_name = layer_name, dp_rate=0.1) for \n",
    "         layer_name in layers]"
   ]
  },
  {
   "cell_type": "code",
   "execution_count": 9,
   "metadata": {
    "ExecuteTime": {
     "end_time": "2022-10-29T20:45:12.465318Z",
     "start_time": "2022-10-29T20:45:12.046360Z"
    }
   },
   "outputs": [],
   "source": [
    "ERInstances = [graph for graph in os.listdir(PATH_TRAIN+'pkl')]\n",
    "graphs = []\n",
    "for er in ERInstances:\n",
    "    graph = igraph.Graph().Read_Pickle(PATH_TRAIN + 'pkl/'+er)\n",
    "    graphs.append(graph.to_networkx())    \n",
    "\n",
    "OptInstances = [graph for graph in os.listdir(PATH_TRAIN+'optimal')]\n",
    "Solutions = []\n",
    "for er in OptInstances:\n",
    "    opt = []\n",
    "    with open(PATH_TRAIN+'optimal/'+er) as f:\n",
    "        for line in f.readlines():\n",
    "            opt.append(int(line.replace(\"\\n\", \"\")))\n",
    "    Solutions.append(opt)"
   ]
  },
  {
   "cell_type": "code",
   "execution_count": null,
   "metadata": {
    "ExecuteTime": {
     "end_time": "2022-10-29T20:44:36.042090Z",
     "start_time": "2022-10-29T20:44:36.034117Z"
    }
   },
   "outputs": [],
   "source": []
  },
  {
   "cell_type": "code",
   "execution_count": 73,
   "metadata": {
    "ExecuteTime": {
     "end_time": "2022-10-29T19:21:57.430612Z",
     "start_time": "2022-10-29T19:21:57.418818Z"
    }
   },
   "outputs": [],
   "source": [
    "## Falta por incluir estax"
   ]
  },
  {
   "cell_type": "code",
   "execution_count": 74,
   "metadata": {
    "ExecuteTime": {
     "end_time": "2022-10-29T19:21:57.616519Z",
     "start_time": "2022-10-29T19:21:57.590453Z"
    }
   },
   "outputs": [],
   "source": [
    "from torch_geometric.nn import GCNConv, GINConv\n",
    "import torch\n",
    "import torch.nn.functional as F\n",
    "from torch.nn import Linear, Sequential, BatchNorm1d, ReLU, Dropout\n",
    "from torch_geometric.nn import GCNConv, GINConv\n",
    "from torch_geometric.nn import global_mean_pool, global_add_pool\n",
    "\n",
    "class GIN(torch.nn.Module):\n",
    "    \"\"\"GIN\"\"\"\n",
    "    def __init__(self, dim_h):\n",
    "        super(GIN, self).__init__()\n",
    "        self.conv1 = GINConv(\n",
    "            Sequential(Linear(1, dim_h),\n",
    "                       BatchNorm1d(dim_h), ReLU(),\n",
    "                       Linear(dim_h, dim_h), ReLU()))\n",
    "        self.conv2 = GINConv(\n",
    "            Sequential(Linear(dim_h, dim_h), BatchNorm1d(dim_h), ReLU(),\n",
    "                       Linear(dim_h, dim_h), ReLU()))\n",
    "        self.conv3 = GINConv(\n",
    "            Sequential(Linear(dim_h, dim_h), BatchNorm1d(dim_h), ReLU(),\n",
    "                       Linear(dim_h, dim_h), ReLU()))\n",
    "        self.lin1 = Linear(dim_h*3, dim_h*3)\n",
    "        self.lin2 = Linear(dim_h*3, dataset.num_classes)\n",
    "\n",
    "    def forward(self, x, edge_index, batch):\n",
    "        # Node embeddings \n",
    "        h1 = self.conv1(x, edge_index)\n",
    "        h2 = self.conv2(h1, edge_index)\n",
    "        h3 = self.conv3(h2, edge_index)\n",
    "\n",
    "        # Graph-level readout\n",
    "        h1 = global_add_pool(h1, batch)\n",
    "        h2 = global_add_pool(h2, batch)\n",
    "        h3 = global_add_pool(h3, batch)\n",
    "\n",
    "        # Concatenate graph embeddings\n",
    "        h = torch.cat((h1, h2, h3), dim=1)\n",
    "\n",
    "        # Classifier\n",
    "        h = self.lin1(h)\n",
    "        h = h.relu()\n",
    "        h = F.dropout(h, p=0.5, training=self.training)\n",
    "        h = self.lin2(h)\n",
    "        \n",
    "        return h, F.log_softmax(h, dim=1)"
   ]
  },
  {
   "cell_type": "code",
   "execution_count": 75,
   "metadata": {
    "ExecuteTime": {
     "end_time": "2022-10-29T19:21:57.849765Z",
     "start_time": "2022-10-29T19:21:57.824221Z"
    }
   },
   "outputs": [
    {
     "data": {
      "text/plain": [
       "Data(edge_index=[2, 9982], num_nodes=1000, x=[1000, 1], y=[1000], num_classes=2)"
      ]
     },
     "execution_count": 75,
     "metadata": {},
     "output_type": "execute_result"
    }
   ],
   "source": [
    "gin = GIN(dim_h=1)\n",
    "Graphs_Train[0]"
   ]
  },
  {
   "cell_type": "code",
   "execution_count": 59,
   "metadata": {
    "ExecuteTime": {
     "end_time": "2022-10-29T19:14:26.336949Z",
     "start_time": "2022-10-29T19:14:26.314622Z"
    }
   },
   "outputs": [],
   "source": [
    "Models.append(gin)\n",
    "layers.append('GIN')"
   ]
  },
  {
   "cell_type": "code",
   "execution_count": null,
   "metadata": {
    "ExecuteTime": {
     "end_time": "2022-10-29T19:15:02.691998Z",
     "start_time": "2022-10-29T19:15:02.684591Z"
    }
   },
   "outputs": [],
   "source": []
  },
  {
   "cell_type": "markdown",
   "metadata": {},
   "source": [
    "## Train"
   ]
  },
  {
   "cell_type": "code",
   "execution_count": 10,
   "metadata": {
    "ExecuteTime": {
     "end_time": "2022-10-29T20:45:17.940510Z",
     "start_time": "2022-10-29T20:45:17.773077Z"
    }
   },
   "outputs": [],
   "source": [
    "Graphs_Train = Convert2DataSet(graphs, Solutions)"
   ]
  },
  {
   "cell_type": "code",
   "execution_count": 11,
   "metadata": {
    "ExecuteTime": {
     "end_time": "2022-10-29T20:45:19.362776Z",
     "start_time": "2022-10-29T20:45:19.354800Z"
    }
   },
   "outputs": [],
   "source": [
    "def train(model, optimizer, data):\n",
    "        model.train()\n",
    "        optimizer.zero_grad()\n",
    "\n",
    "        F.nll_loss(model(data.x, data.edge_index), data.y).backward()\n",
    "        optimizer.step()\n",
    "        return model, optimizer\n",
    "      \n",
    "    \n",
    "@torch.no_grad()\n",
    "def test(data, model):\n",
    "  model.eval()\n",
    "  logits = model(data.x, data.edge_index)\n",
    "  pred = logits.max(1)[1]\n",
    "  acc = pred.eq(data.y).sum().item() / data.num_nodes\n",
    "  return acc"
   ]
  },
  {
   "cell_type": "code",
   "execution_count": 12,
   "metadata": {
    "ExecuteTime": {
     "end_time": "2022-10-29T20:45:48.402042Z",
     "start_time": "2022-10-29T20:45:21.313695Z"
    }
   },
   "outputs": [
    {
     "name": "stdout",
     "output_type": "stream",
     "text": [
      "\n",
      " ----- Model:GCN -----\n",
      "Epoch 5 saved for GCN.\n",
      "\n",
      "Mean Acc: 0.8551333333333333\n",
      "\n",
      "Epoch 10 saved for GCN.\n",
      "\n",
      "Mean Acc: 0.8551333333333333\n",
      "\n",
      "Epoch 15 saved for GCN.\n",
      "\n",
      "Mean Acc: 0.8551333333333333\n",
      "\n",
      "GCN saved in runs/\n",
      "\n",
      "\n",
      " ----- Model:GAT -----\n",
      "Epoch 5 saved for GAT.\n",
      "\n",
      "Mean Acc: 0.8551333333333333\n",
      "\n",
      "Epoch 10 saved for GAT.\n",
      "\n",
      "Mean Acc: 0.8551333333333333\n",
      "\n",
      "Epoch 15 saved for GAT.\n",
      "\n",
      "Mean Acc: 0.8551333333333333\n",
      "\n",
      "GAT saved in runs/\n",
      "\n",
      "\n",
      " ----- Model:GraphConv -----\n",
      "Epoch 5 saved for GraphConv.\n",
      "\n",
      "Mean Acc: 0.8551333333333333\n",
      "\n",
      "Epoch 10 saved for GraphConv.\n",
      "\n",
      "Mean Acc: 0.8551333333333333\n",
      "\n",
      "Epoch 15 saved for GraphConv.\n",
      "\n",
      "Mean Acc: 0.8551333333333333\n",
      "\n",
      "GraphConv saved in runs/\n",
      "\n"
     ]
    }
   ],
   "source": [
    "torch.manual_seed(SEED)\n",
    "for i in range(len(Models)):\n",
    "    print()\n",
    "    print(f\" ----- Model:{layers[i]} -----\")\n",
    "    optimizer = getattr(torch.optim, optimizer_name)(Models[i].parameters(), lr = lr)\n",
    "\n",
    "    for epoch in range(1, epochs):\n",
    "        \n",
    "        for data in Graphs_Train:\n",
    "            train(Models[i], optimizer, data)\n",
    "        \n",
    "        if epoch%5 == 0:\n",
    "            torch.save(Models[i].state_dict(), f=f\"{PATH_SAVE_TRAINS_CHECKPOINTS}Checkpoint-model-{layers[i]}-epoch-{epoch}.pt\")\n",
    "            print(f\"Epoch {epoch} saved for {layers[i]}.\\n\")\n",
    "        \n",
    "            Acc = []\n",
    "\n",
    "            for data in Graphs_Train:\n",
    "                Acc.append(test(data, Models[i]))\n",
    "            print(f\"Mean Acc: {np.mean(Acc)}\")\n",
    "            print()\n",
    "        \n",
    "    dt_string = datetime.now().strftime(\"%m-%d_%H-%M\")\n",
    "    torch.save(Models[i].state_dict(), f=f\"{PATH_SAVE_TRAINS}{layers[i]}_seed_{SEED}_thr_{int(threshold*10)}_date_{dt_string}.pt\")\n",
    "    \n",
    "    print(f\"{layers[i]} saved in {PATH_SAVE_TRAINS}\\n\")"
   ]
  },
  {
   "cell_type": "markdown",
   "metadata": {},
   "source": [
    "## Test"
   ]
  },
  {
   "cell_type": "code",
   "execution_count": 131,
   "metadata": {
    "ExecuteTime": {
     "end_time": "2022-10-29T19:53:44.437863Z",
     "start_time": "2022-10-29T19:53:44.408207Z"
    }
   },
   "outputs": [],
   "source": [
    "import igraph\n",
    "import dgl\n",
    "import torch\n",
    "import time\n",
    "import os\n",
    "import networkx as nx\n",
    "from datetime import datetime\n",
    "import pandas as pd\n",
    "from utils import *\n",
    "from GRAT import GRAT3\n",
    "import warnings\n",
    "warnings.filterwarnings('ignore')\n",
    "import argparse\n",
    "\n",
    "\"\"\"\n",
    "parser = argparse.ArgumentParser()\n",
    "\n",
    "parser.add_argument(\"-th\", \"--Threshold\", help = \"Infection Threshold\", type = float)\n",
    "parser.add_argument(\"-type\", \"--Type\", help = \"short, large or full\", type = str)\n",
    "args = parser.parse_args()\n",
    "\"\"\"\n",
    "# Example: python EvaluateFastCover.py -th 0.5 -type \"short\"\n",
    "\n",
    "Graphs_short = [\n",
    " 'ego-facebook.txt',\n",
    " 'gemsec_facebook_artist.txt',\n",
    " 'graph_actors_dat.txt',\n",
    " 'graph_CA-AstroPh.txt',\n",
    " 'graph_CA-CondMat.txt',\n",
    " 'graph_CA-GrQc.txt',\n",
    " 'graph_CA-HepPh.txt',\n",
    " 'graph_CA-HepTh.txt',\n",
    " 'graph_dolphins.txt',\n",
    " 'graph_Email-Enron.txt',\n",
    " 'graph_football.txt',\n",
    " 'graph_jazz.txt',\n",
    " 'graph_karate.txt',\n",
    " 'graph_ncstrlwg2.txt',\n",
    " 'soc-gplus.txt',\n",
    " 'socfb-Brandeis99.txt',\n",
    " 'socfb-Mich67.txt',\n",
    " 'socfb-nips-ego.txt']\n",
    "\n",
    "Graphs_large = ['Amazon0302.txt',\n",
    " 'Amazon0312.txt',\n",
    " 'Amazon0505.txt',\n",
    " 'Amazon0601.txt',\n",
    " 'com-youtube.ungraph.txt',\n",
    " 'com-dblp.ungraph.txt',\n",
    " 'loc-gowalla_edges.txt',\n",
    " 'deezer_HR.txt',\n",
    " 'musae_git.txt']\n",
    "\n",
    "PATH_TO_TEST = \"../BRKGA/instances/txt/\"\n",
    "\"\"\"\n",
    "if args.Type == \"short\":\n",
    "    Graphs = Graphs_short\n",
    "elif args.Type == \"large\":\n",
    "    Graphs = Graphs_large\n",
    "elif args.Type == \"full\":\n",
    "    Graphs = [graph for graph in os.listdir(PATH_TO_TEST)]\n",
    "else:\n",
    "    raise NameError(\"Only: 'short', 'large' or 'full\")\n",
    "\"\"\"\n",
    "Graphs = [Graphs_short[11]]\n",
    "PATH_SAVED_TRAINS = \"runs/\"\n",
    "PATH_SAVE_RESULTS = 'results/'\n",
    "\n",
    "NAME_SAVE_RESULTS = 'Models' #Change this\n",
    "\n",
    "FEATURE_TYPE = \"1\"\n",
    "HIDDEN_FEATS = [32]*6\n",
    "input_dim = 32\n",
    "use_cuda = False\n",
    "directed_test = False\n",
    "\n",
    "#threshold = args.Threshold\n",
    "threshold = 0.5\n",
    "dt_string = datetime.now().strftime(\"%m-%d_%H-%M\")\n",
    "\n",
    "RUNS_LIST = [run for run in os.listdir(PATH_SAVED_TRAINS) if \".pt\" in run]\n",
    "\n",
    "SEEDS = []\n",
    "MODELS = []\n",
    "for run_name in RUNS_LIST:\n",
    "    SEEDS.append(run_name.split(\"_\")[2])\n",
    "    MODELS.append(run_name.split(\"_\")[0])\n"
   ]
  },
  {
   "cell_type": "code",
   "execution_count": 132,
   "metadata": {
    "ExecuteTime": {
     "end_time": "2022-10-29T19:53:44.672499Z",
     "start_time": "2022-10-29T19:53:44.652734Z"
    }
   },
   "outputs": [
    {
     "data": {
      "text/plain": [
       "['GAT', 'GCN', 'GraphConv']"
      ]
     },
     "execution_count": 132,
     "metadata": {},
     "output_type": "execute_result"
    }
   ],
   "source": [
    "MODELS"
   ]
  },
  {
   "cell_type": "code",
   "execution_count": 133,
   "metadata": {
    "ExecuteTime": {
     "end_time": "2022-10-29T19:53:59.547434Z",
     "start_time": "2022-10-29T19:53:44.943383Z"
    }
   },
   "outputs": [
    {
     "name": "stdout",
     "output_type": "stream",
     "text": [
      "\n",
      "Evaluation of model: GAT, seed: 13 in GAT_seed_13_thr_5_date_10-29_21-22.pt\n",
      "\n",
      "Loading ../BRKGA/instances/txt/graph_jazz.txt ...\n",
      "\n",
      "Starting infection\n",
      "\n",
      "0.01 Infected\n",
      "0.01 Infected\n",
      "0.02 Infected\n",
      "0.03 Infected\n",
      "0.03 Infected\n",
      "0.04 Infected\n",
      "1/1 Graph: jazz\n",
      "Best Target Set length: 54 out of 198\n",
      "Ratio Solution / Graph lentgh: 0.273\n",
      "Time: 3.67s\n",
      "\n",
      "\n",
      "Evaluation of model: GCN, seed: 13 in GCN_seed_13_thr_5_date_10-29_21-22.pt\n",
      "\n",
      "Loading ../BRKGA/instances/txt/graph_jazz.txt ...\n",
      "\n",
      "Starting infection\n",
      "\n",
      "0.01 Infected\n",
      "0.02 Infected\n",
      "0.02 Infected\n",
      "0.03 Infected\n",
      "0.03 Infected\n",
      "0.04 Infected\n",
      "1/1 Graph: jazz\n",
      "Best Target Set length: 76 out of 198\n",
      "Ratio Solution / Graph lentgh: 0.384\n",
      "Time: 7.67s\n",
      "\n",
      "\n",
      "Evaluation of model: GraphConv, seed: 13 in GraphConv_seed_13_thr_5_date_10-29_21-22.pt\n",
      "\n",
      "Loading ../BRKGA/instances/txt/graph_jazz.txt ...\n",
      "\n",
      "Starting infection\n",
      "\n",
      "0.01 Infected\n",
      "0.01 Infected\n",
      "0.02 Infected\n",
      "0.02 Infected\n",
      "0.03 Infected\n",
      "1/1 Graph: jazz\n",
      "Best Target Set length: 59 out of 198\n",
      "Ratio Solution / Graph lentgh: 0.298\n",
      "Time: 3.13s\n",
      "\n",
      "Evaluation has finnished successfully. \n",
      "Data saved in results/\n"
     ]
    }
   ],
   "source": [
    "records = []\n",
    "\n",
    "Total = len(Graphs)\n",
    "    \n",
    "for run_name, model, seed in zip(RUNS_LIST, MODELS, SEEDS):\n",
    "    print()\n",
    "    print(f\"Evaluation of model: {model}, seed: {seed} in {run_name}\")\n",
    "    print()\n",
    "    \n",
    "    net = GNNModel(c_in = 1, c_hidden = 100, c_out = 2, num_layers = 2, layer_name = model, dp_rate=0.1)\n",
    "    net.load_state_dict(torch.load(PATH_SAVE_TRAINS+run_name))\n",
    "    \n",
    "    if use_cuda:\n",
    "        net.cuda()\n",
    "\n",
    "    c = 1\n",
    "    for file in Graphs:\n",
    "            print(f\"Loading {PATH_TO_TEST+file} ...\")\n",
    "            name = file.split(\".\")[0].replace(\"graph_\", \"\")\n",
    "\n",
    "            graph = igraph.Graph().Read_Edgelist(PATH_TO_TEST + file)\n",
    "            data = Convert2DataSet([graph.to_networkx()], [[]])[0]\n",
    "\n",
    "            #dglgraph = get_rev_dgl(graph, FEATURE_TYPE, input_dim, directed_test, use_cuda)\n",
    "            \n",
    "            print(\"\\nStarting infection\\n\")\n",
    "\n",
    "            start_time = time.time()\n",
    "\n",
    "            out = net(data.x, data.edge_index).max(1)[0]\n",
    "\n",
    "            G = graph.to_networkx().to_undirected()\n",
    "\n",
    "            n = len(G.nodes())\n",
    "\n",
    "            _ , minTargetGRAT = FindMinimumTarget(G, out, threshold)\n",
    "\n",
    "            final_time = (time.time() - start_time)\n",
    "            print()\n",
    "            print(f\"{c}/{Total} Graph: {name}\")\n",
    "            print(f\"Best Target Set length: {minTargetGRAT} out of {n}\")\n",
    "            print(f\"Ratio Solution / Graph lentgh: {minTargetGRAT/n:.3f}\")\n",
    "            print(f\"Time: {final_time:.2f}s\")\n",
    "            print()\n",
    "            records.append({\n",
    "            \"graph\": name,\n",
    "            \"model\": model,\n",
    "            \"seed\": seed,\n",
    "            \"threshold\": threshold,\n",
    "            \"n_covered\": minTargetGRAT,\n",
    "            \"n\": n,\n",
    "            \"coverage\": minTargetGRAT/n,\n",
    "            \"t_mean\": final_time\n",
    "            })\n",
    "\n",
    "            pd.DataFrame(records).to_csv(PATH_SAVE_RESULTS + NAME_SAVE_RESULTS +\"_\" + dt_string + \".csv\")\n",
    "\n",
    "            c+=1\n",
    "print(f\"Evaluation has finnished successfully. \\nData saved in {PATH_SAVE_RESULTS}\")\n"
   ]
  },
  {
   "cell_type": "code",
   "execution_count": null,
   "metadata": {
    "ExecuteTime": {
     "end_time": "2022-10-22T18:21:21.707845Z",
     "start_time": "2022-10-22T18:21:21.672912Z"
    }
   },
   "outputs": [],
   "source": [
    "Models = [GNNModel(c_in = 1, c_hidden = 100, c_out = 2, num_layers = 2, layer_name = layer_name, dp_rate=0.1) for \n",
    "         layer_name in layers]"
   ]
  },
  {
   "cell_type": "code",
   "execution_count": 88,
   "metadata": {
    "ExecuteTime": {
     "end_time": "2022-10-29T19:30:22.167984Z",
     "start_time": "2022-10-29T19:30:22.147311Z"
    }
   },
   "outputs": [
    {
     "data": {
      "text/plain": [
       "'runs/GraphConv_seed_13_thr_5_date_10-29_21-22.pt'"
      ]
     },
     "execution_count": 88,
     "metadata": {},
     "output_type": "execute_result"
    }
   ],
   "source": [
    "PATH_SAVE_TRAINS+run_name"
   ]
  },
  {
   "cell_type": "code",
   "execution_count": 94,
   "metadata": {
    "ExecuteTime": {
     "end_time": "2022-10-29T19:37:33.611736Z",
     "start_time": "2022-10-29T19:37:33.547436Z"
    }
   },
   "outputs": [],
   "source": [
    "#Convert2DataSet(Graphs, Optimals)\n",
    "D = Convert2DataSet([graph.to_networkx()], [[]])[0]"
   ]
  },
  {
   "cell_type": "code",
   "execution_count": 115,
   "metadata": {
    "ExecuteTime": {
     "end_time": "2022-10-29T19:44:02.116995Z",
     "start_time": "2022-10-29T19:43:16.182996Z"
    }
   },
   "outputs": [
    {
     "name": "stdout",
     "output_type": "stream",
     "text": [
      "\n",
      "Starting infection\n",
      "\n",
      "0.00 Infected\n",
      "0.00 Infected\n",
      "0.00 Infected\n",
      "0.00 Infected\n",
      "0.01 Infected\n",
      "0.01 Infected\n"
     ]
    }
   ],
   "source": [
    "#graph = igraph.Graph().Read_Edgelist(PATH_TO_TEST + file)\n",
    "data = Convert2DataSet([graph.to_networkx()], [[]])[0]\n",
    "\n",
    "#dglgraph = get_rev_dgl(graph, FEATURE_TYPE, input_dim, directed_test, use_cuda)\n",
    "\n",
    "print(\"\\nStarting infection\\n\")\n",
    "\n",
    "start_time = time.time()\n",
    "\n",
    "out = net(data.x, data.edge_index).max(1)[0]\n",
    "\n",
    "G = graph.to_networkx().to_undirected()\n",
    "\n",
    "n = len(G.nodes())\n",
    "\n",
    "_ , minTargetGRAT = FindMinimumTarget(G, out, threshold)"
   ]
  },
  {
   "cell_type": "code",
   "execution_count": 118,
   "metadata": {
    "ExecuteTime": {
     "end_time": "2022-10-29T19:45:24.855592Z",
     "start_time": "2022-10-29T19:45:24.836174Z"
    }
   },
   "outputs": [
    {
     "data": {
      "text/plain": [
       "'ego-facebook.txt'"
      ]
     },
     "execution_count": 118,
     "metadata": {},
     "output_type": "execute_result"
    }
   ],
   "source": [
    "Graphs"
   ]
  }
 ],
 "metadata": {
  "hide_input": false,
  "kernelspec": {
   "display_name": "Python 3 (ipykernel)",
   "language": "python",
   "name": "python3"
  },
  "language_info": {
   "codemirror_mode": {
    "name": "ipython",
    "version": 3
   },
   "file_extension": ".py",
   "mimetype": "text/x-python",
   "name": "python",
   "nbconvert_exporter": "python",
   "pygments_lexer": "ipython3",
   "version": "3.8.5"
  },
  "varInspector": {
   "cols": {
    "lenName": 16,
    "lenType": 16,
    "lenVar": 40
   },
   "kernels_config": {
    "python": {
     "delete_cmd_postfix": "",
     "delete_cmd_prefix": "del ",
     "library": "var_list.py",
     "varRefreshCmd": "print(var_dic_list())"
    },
    "r": {
     "delete_cmd_postfix": ") ",
     "delete_cmd_prefix": "rm(",
     "library": "var_list.r",
     "varRefreshCmd": "cat(var_dic_list()) "
    }
   },
   "types_to_exclude": [
    "module",
    "function",
    "builtin_function_or_method",
    "instance",
    "_Feature"
   ],
   "window_display": false
  }
 },
 "nbformat": 4,
 "nbformat_minor": 4
}
