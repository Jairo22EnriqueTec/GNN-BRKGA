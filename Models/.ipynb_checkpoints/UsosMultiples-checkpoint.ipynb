{
 "cells": [
  {
   "cell_type": "code",
   "execution_count": 17,
   "metadata": {
    "ExecuteTime": {
     "end_time": "2022-10-22T16:35:43.518316Z",
     "start_time": "2022-10-22T16:35:43.504285Z"
    }
   },
   "outputs": [],
   "source": [
    "import networkx as nx\n",
    "import numpy as np\n",
    "import torch\n",
    "from datetime import datetime\n",
    "\n",
    "import torch.nn as nn\n",
    "import torch.nn.functional as F\n",
    "from torch_geometric.nn import GCNConv\n",
    "import matplotlib.pyplot as plt\n",
    "\n",
    "import pandas as pd\n",
    "import torch_geometric.transforms as T\n",
    "\n",
    "from create_dataset import CreateDataset\n",
    "\n",
    "from models import GNNModel\n",
    "\n",
    "import sys\n",
    "sys.path.append(\"../FastCover/\")\n",
    "from utils import *"
   ]
  },
  {
   "cell_type": "code",
   "execution_count": 5,
   "metadata": {
    "ExecuteTime": {
     "end_time": "2022-10-22T16:30:21.668112Z",
     "start_time": "2022-10-22T16:30:21.645813Z"
    }
   },
   "outputs": [],
   "source": [
    "PATH_SAVE_TRAINS_CHECKPOINTS = 'runs/checkpoints/'\n",
    "PATH_SAVE_TRAINS = 'runs/'\n",
    "\n",
    "num_features = 1\n",
    "num_classes  = 2\n",
    "\n",
    "threshold = 0.5\n",
    "\n",
    "optimizer_name = \"Adam\"\n",
    "lr = 1e-3\n",
    "epochs = 2\n",
    "\n",
    "SEED = 13\n",
    "\n",
    "device = torch.device('cuda' if torch.cuda.is_available() else 'cpu')\n",
    "\n",
    "layers = [\"GCN\", \"GAT\",\"GraphConv\"]\n",
    "\n",
    "Models = [GNNModel(c_in = 1, c_hidden = 100, c_out = 2, num_layers = 2, layer_name = layer_name, dp_rate=0.1) for \n",
    "         layer_name in layers]"
   ]
  },
  {
   "cell_type": "code",
   "execution_count": 6,
   "metadata": {
    "ExecuteTime": {
     "end_time": "2022-10-22T16:30:23.317668Z",
     "start_time": "2022-10-22T16:30:23.301602Z"
    }
   },
   "outputs": [],
   "source": [
    "def getGraph(n, p = 0.5):\n",
    "    while True:\n",
    "        G = nx.erdos_renyi_graph(n, p, directed = False)\n",
    "        AllConected = True if len([i for i in nx.connected_components(G)]) == 1 else False\n",
    "        if AllConected:\n",
    "            break\n",
    "    return G\n",
    "\n",
    "def Convert2DataSet(Graphs):\n",
    "    g = []\n",
    "    for G in Graphs:\n",
    "        # Cambiar aquí la forma de cómo calcular dichos valores\n",
    "        OptimalSet, _ = MDH(G, threshold, print_= False)\n",
    "\n",
    "        NumNodes = G.number_of_nodes()\n",
    "        labels = np.zeros(NumNodes)\n",
    "        labels[OptimalSet] = 1\n",
    "\n",
    "        dataset = CreateDataset(G, labels)\n",
    "        data = dataset[0]\n",
    "\n",
    "        data =  data.to(device)\n",
    "        g.append(data)\n",
    "    return g"
   ]
  },
  {
   "cell_type": "code",
   "execution_count": 4,
   "metadata": {
    "ExecuteTime": {
     "end_time": "2022-10-22T15:39:34.720821Z",
     "start_time": "2022-10-22T15:39:34.712669Z"
    }
   },
   "outputs": [],
   "source": [
    "# de aquí solo es cargar y pasarlo a networkx para que pueda ser utilizado"
   ]
  },
  {
   "cell_type": "code",
   "execution_count": 22,
   "metadata": {
    "ExecuteTime": {
     "end_time": "2022-10-22T16:50:08.454369Z",
     "start_time": "2022-10-22T16:50:08.427227Z"
    }
   },
   "outputs": [],
   "source": [
    "n = 30\n",
    "p = 0.6\n",
    "Train = [getGraph(n+i, p) for i in range(10)]"
   ]
  },
  {
   "cell_type": "markdown",
   "metadata": {},
   "source": [
    "## Train"
   ]
  },
  {
   "cell_type": "code",
   "execution_count": 23,
   "metadata": {
    "ExecuteTime": {
     "end_time": "2022-10-22T16:50:10.258501Z",
     "start_time": "2022-10-22T16:50:09.688377Z"
    }
   },
   "outputs": [],
   "source": [
    "Graphs_Train = Convert2DataSet(Train)"
   ]
  },
  {
   "cell_type": "code",
   "execution_count": 9,
   "metadata": {
    "ExecuteTime": {
     "end_time": "2022-10-22T16:30:29.238016Z",
     "start_time": "2022-10-22T16:30:29.226190Z"
    }
   },
   "outputs": [],
   "source": [
    "def train(model, optimizer, data):\n",
    "        model.train()\n",
    "        optimizer.zero_grad()\n",
    "\n",
    "        F.nll_loss(model(data.x, data.edge_index), data.y).backward()\n",
    "        optimizer.step()\n",
    "        return model, optimizer\n",
    "      \n",
    "    \n",
    "@torch.no_grad()\n",
    "def test(data, model):\n",
    "  model.eval()\n",
    "  logits = model(data.x, data.edge_index)\n",
    "  pred = logits.max(1)[1]\n",
    "  acc = pred.eq(data.y).sum().item() / data.num_nodes\n",
    "  return acc"
   ]
  },
  {
   "cell_type": "code",
   "execution_count": 29,
   "metadata": {
    "ExecuteTime": {
     "end_time": "2022-10-22T16:53:08.288336Z",
     "start_time": "2022-10-22T16:53:06.983003Z"
    }
   },
   "outputs": [
    {
     "name": "stdout",
     "output_type": "stream",
     "text": [
      "\n",
      " ----- Model:GCN -----\n",
      "Epoch 5 saved for GCN.\n",
      "\n",
      "Mean Acc: 0.3484966659387413\n",
      "\n",
      "Epoch 10 saved for GCN.\n",
      "\n",
      "Mean Acc: 0.3484966659387413\n",
      "\n",
      "GCN saved in runs/\n",
      "\n",
      "\n",
      " ----- Model:GAT -----\n",
      "Epoch 5 saved for GAT.\n",
      "\n",
      "Mean Acc: 0.6515033340612588\n",
      "\n",
      "Epoch 10 saved for GAT.\n",
      "\n",
      "Mean Acc: 0.6515033340612588\n",
      "\n",
      "GAT saved in runs/\n",
      "\n",
      "\n",
      " ----- Model:GraphConv -----\n",
      "Epoch 5 saved for GraphConv.\n",
      "\n",
      "Mean Acc: 0.3484966659387413\n",
      "\n",
      "Epoch 10 saved for GraphConv.\n",
      "\n",
      "Mean Acc: 0.3484966659387413\n",
      "\n",
      "GraphConv saved in runs/\n",
      "\n"
     ]
    }
   ],
   "source": [
    "torch.manual_seed(SEED)\n",
    "for i in range(len(Models)):\n",
    "    print()\n",
    "    print(f\" ----- Model:{layers[i]} -----\")\n",
    "    optimizer = getattr(torch.optim, optimizer_name)(Models[i].parameters(), lr = lr)\n",
    "\n",
    "    for epoch in range(1, epochs):\n",
    "        \n",
    "        for data in Graphs_Train:\n",
    "            train(Models[i], optimizer, data)\n",
    "        \n",
    "        if epoch%5 == 0:\n",
    "            torch.save(Models[i].state_dict(), f=f\"{PATH_SAVE_TRAINS_CHECKPOINTS}Checkpoint-model-{layers[i]}-epoch-{epoch}.pt\")\n",
    "            print(f\"Epoch {epoch} saved for {layers[i]}.\\n\")\n",
    "        \n",
    "            Acc = []\n",
    "\n",
    "            for data in Graphs_Train:\n",
    "                Acc.append(test(data, Models[i]))\n",
    "            print(f\"Mean Acc: {np.mean(Acc)}\")\n",
    "            print()\n",
    "        \n",
    "    dt_string = datetime.now().strftime(\"%m-%d_%H-%M\")\n",
    "    torch.save(Models[i].state_dict(), f=f\"{PATH_SAVE_TRAINS}{layers[i]}_seed_{SEED}_thr_{int(threshold*10)}_date_{dt_string}.pt\")\n",
    "    \n",
    "    print(f\"{layers[i]} saved in {PATH_SAVE_TRAINS}\\n\")"
   ]
  },
  {
   "cell_type": "markdown",
   "metadata": {},
   "source": [
    "## Test"
   ]
  },
  {
   "cell_type": "code",
   "execution_count": null,
   "metadata": {},
   "outputs": [],
   "source": [
    "PATH_SAVE_TRAINS = 'runs/'"
   ]
  },
  {
   "cell_type": "code",
   "execution_count": null,
   "metadata": {},
   "outputs": [],
   "source": []
  },
  {
   "cell_type": "code",
   "execution_count": null,
   "metadata": {},
   "outputs": [],
   "source": [
    "Test =  [getGraph(n+2*i, p) for i in range(5)]\n",
    "Graphs_Test = Convert2DataSet(Test)"
   ]
  },
  {
   "cell_type": "code",
   "execution_count": 158,
   "metadata": {
    "ExecuteTime": {
     "end_time": "2022-10-22T16:22:59.735816Z",
     "start_time": "2022-10-22T16:22:59.699796Z"
    }
   },
   "outputs": [
    {
     "name": "stdout",
     "output_type": "stream",
     "text": [
      "0.7\n",
      "0.65625\n",
      "0.6470588235294118\n",
      "0.6666666666666666\n",
      "0.6578947368421053\n"
     ]
    }
   ],
   "source": [
    "Acc = []\n",
    "    for data in Graphs_Test:\n",
    "        Acc.append(test(data, Models[i]))\n",
    "    \n",
    "    records"
   ]
  }
 ],
 "metadata": {
  "hide_input": false,
  "kernelspec": {
   "display_name": "Python 3",
   "language": "python",
   "name": "python3"
  },
  "language_info": {
   "codemirror_mode": {
    "name": "ipython",
    "version": 3
   },
   "file_extension": ".py",
   "mimetype": "text/x-python",
   "name": "python",
   "nbconvert_exporter": "python",
   "pygments_lexer": "ipython3",
   "version": "3.8.5"
  },
  "varInspector": {
   "cols": {
    "lenName": 16,
    "lenType": 16,
    "lenVar": 40
   },
   "kernels_config": {
    "python": {
     "delete_cmd_postfix": "",
     "delete_cmd_prefix": "del ",
     "library": "var_list.py",
     "varRefreshCmd": "print(var_dic_list())"
    },
    "r": {
     "delete_cmd_postfix": ") ",
     "delete_cmd_prefix": "rm(",
     "library": "var_list.r",
     "varRefreshCmd": "cat(var_dic_list()) "
    }
   },
   "types_to_exclude": [
    "module",
    "function",
    "builtin_function_or_method",
    "instance",
    "_Feature"
   ],
   "window_display": false
  }
 },
 "nbformat": 4,
 "nbformat_minor": 4
}
