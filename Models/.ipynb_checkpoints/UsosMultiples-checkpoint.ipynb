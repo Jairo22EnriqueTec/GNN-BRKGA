{
 "cells": [
  {
   "cell_type": "code",
   "execution_count": 1,
   "metadata": {
    "ExecuteTime": {
     "end_time": "2022-12-04T15:04:47.895045Z",
     "start_time": "2022-12-04T15:04:40.745217Z"
    }
   },
   "outputs": [],
   "source": [
    "import networkx as nx\n",
    "import numpy as np\n",
    "import torch\n",
    "from datetime import datetime\n",
    "import os\n",
    "import torch.nn as nn\n",
    "import torch.nn.functional as F\n",
    "from torch_geometric.nn import GCNConv\n",
    "import matplotlib.pyplot as plt\n",
    "from icecream import ic\n",
    "\n",
    "ic.configureOutput(\"debug | -> \")\n",
    "\n",
    "import pandas as pd\n",
    "import torch_geometric.transforms as T\n",
    "\n",
    "#from create_dataset import CreateDataset\n",
    "\n",
    "from models import GNNModel\n",
    "\n",
    "import sys\n",
    "sys.path.append(\"../FastCover/\")\n",
    "from utils import *"
   ]
  },
  {
   "cell_type": "code",
   "execution_count": 16,
   "metadata": {
    "ExecuteTime": {
     "end_time": "2022-12-04T15:10:50.442429Z",
     "start_time": "2022-12-04T15:10:50.405028Z"
    }
   },
   "outputs": [],
   "source": [
    "PATH_SAVE_TRAINS = 'runs/Erdos_MDH/'\n",
    "PATH_TO_TRAIN = \"../BRKGA/instances/Erdos/train/\"\n",
    "MDH = False\n",
    "\n",
    "\n",
    "Features = None\n",
    "if MDH:\n",
    "    num_features = 1\n",
    "else:\n",
    "    num_features = 5 # Change if needed\n",
    "    \n",
    "num_classes  = 2\n",
    "\n",
    "threshold = 0.5\n",
    "\n",
    "optimizer_name = \"Adam\"\n",
    "lr = 1e-3\n",
    "epochs = 21\n",
    "\n",
    "SEED = 13\n",
    "\n",
    "device = torch.device('cuda' if torch.cuda.is_available() else 'cpu')\n",
    "\n",
    "layers = [\"GCN\", \"GAT\",\"GraphConv\", \"SAGE\"]\n",
    "#layers = [\"SAGE\"]\n",
    "\n",
    "Models = [GNNModel(c_in = num_features, c_hidden = 100, c_out = 2, num_layers = 2, layer_name = layer_name, dp_rate=0.1) for \n",
    "         layer_name in layers]"
   ]
  },
  {
   "cell_type": "code",
   "execution_count": 17,
   "metadata": {
    "ExecuteTime": {
     "end_time": "2022-12-04T15:11:00.703966Z",
     "start_time": "2022-12-04T15:10:56.285404Z"
    }
   },
   "outputs": [],
   "source": [
    "Instances = [graph for graph in os.listdir(PATH_TO_TRAIN + 'txt')]\n",
    "\n",
    "graphs = []\n",
    "for er in Instances:\n",
    "    graph = igraph.Graph.Read_Edgelist(PATH_TO_TRAIN+\"txt/\"+er, directed = False)\n",
    "    graphs.append(graph.to_networkx())    \n",
    "\n",
    "OptInstances = [graph for graph in os.listdir(PATH_TO_TRAIN+'optimal')]\n",
    "Solutions = []\n",
    "for er in OptInstances:\n",
    "    opt = []\n",
    "    with open(PATH_TO_TRAIN+'optimal/'+er) as f:\n",
    "        for line in f.readlines():\n",
    "            opt.append(int(line.replace(\"\\n\", \"\")))\n",
    "    Solutions.append(opt)"
   ]
  },
  {
   "cell_type": "code",
   "execution_count": 18,
   "metadata": {
    "ExecuteTime": {
     "end_time": "2022-12-04T15:11:07.220873Z",
     "start_time": "2022-12-04T15:11:06.356476Z"
    }
   },
   "outputs": [],
   "source": [
    "if not MDH:\n",
    "    graphFeatures = [feat for feat in os.listdir(PATH_TO_TRAIN+'feats')]\n",
    "    Features = []\n",
    "    for er in graphFeatures:\n",
    "        temp = []\n",
    "        with open(PATH_TO_TRAIN+'feats/'+er) as f:\n",
    "            for line in f.readlines()[1:]:\n",
    "                feats = np.array(line.split(\",\"), dtype = float)\n",
    "                temp.append(feats)\n",
    "        Features.append(np.array(temp))"
   ]
  },
  {
   "cell_type": "code",
   "execution_count": 19,
   "metadata": {
    "ExecuteTime": {
     "end_time": "2022-12-04T15:11:13.244602Z",
     "start_time": "2022-12-04T15:11:13.229587Z"
    }
   },
   "outputs": [
    {
     "data": {
      "text/plain": [
       "(1000, 5)"
      ]
     },
     "execution_count": 19,
     "metadata": {},
     "output_type": "execute_result"
    }
   ],
   "source": [
    "Features[0].shape"
   ]
  },
  {
   "cell_type": "code",
   "execution_count": 20,
   "metadata": {
    "ExecuteTime": {
     "end_time": "2022-12-04T15:11:24.097870Z",
     "start_time": "2022-12-04T15:11:19.558520Z"
    }
   },
   "outputs": [],
   "source": [
    "Graphs_Train = Convert2DataSet(graphs, Solutions, feats = Features)\n",
    "num_features = Graphs_Train[0].num_features\n",
    "num_classes = Graphs_Train[0].num_classes"
   ]
  },
  {
   "cell_type": "markdown",
   "metadata": {},
   "source": [
    "## Train"
   ]
  },
  {
   "cell_type": "code",
   "execution_count": 21,
   "metadata": {
    "ExecuteTime": {
     "end_time": "2022-12-04T15:11:32.389098Z",
     "start_time": "2022-12-04T15:11:32.373455Z"
    }
   },
   "outputs": [],
   "source": [
    "def train(model, optimizer, data):\n",
    "        optimizer.zero_grad()\n",
    "\n",
    "        F.nll_loss(model(data.x, data.edge_index), data.y).backward()\n",
    "        optimizer.step()\n",
    "        return model, optimizer\n",
    "      \n",
    "    \n",
    "@torch.no_grad()\n",
    "def test(data, model):\n",
    "  model.eval()\n",
    "  logits = model(data.x, data.edge_index)\n",
    "  pred = logits.max(1)[1]\n",
    "  acc = pred.eq(data.y).sum().item() / data.num_nodes\n",
    "  return acc"
   ]
  },
  {
   "cell_type": "code",
   "execution_count": 22,
   "metadata": {
    "ExecuteTime": {
     "end_time": "2022-12-04T15:11:55.034770Z",
     "start_time": "2022-12-04T15:11:38.986476Z"
    }
   },
   "outputs": [
    {
     "name": "stdout",
     "output_type": "stream",
     "text": [
      "\n",
      " ----- Model:GCN -----\n",
      "GCN saved in runs/Erdos_MDH/\n",
      "\n",
      "\n",
      " ----- Model:GAT -----\n",
      "GAT saved in runs/Erdos_MDH/\n",
      "\n",
      "\n",
      " ----- Model:GraphConv -----\n",
      "GraphConv saved in runs/Erdos_MDH/\n",
      "\n",
      "\n",
      " ----- Model:SAGE -----\n",
      "SAGE saved in runs/Erdos_MDH/\n",
      "\n"
     ]
    }
   ],
   "source": [
    "torch.manual_seed(SEED)\n",
    "for i in range(len(Models)):\n",
    "    print()\n",
    "    print(f\" ----- Model:{layers[i]} -----\")\n",
    "    optimizer = getattr(torch.optim, optimizer_name)(Models[i].parameters(), lr = lr)\n",
    "\n",
    "    for epoch in range(1, epochs):\n",
    "        \n",
    "        for data in Graphs_Train:\n",
    "            train(Models[i], optimizer, data)\n",
    "        \n",
    "        if epoch%5 == 0:\n",
    "            #torch.save(Models[i].state_dict(), f=f\"{PATH_SAVE_TRAINS_CHECKPOINTS}Checkpoint-model-{layers[i]}-epoch-{epoch}.pt\")\n",
    "            print(f\"Epoch {epoch} saved for {layers[i]}.\\n\")\n",
    "        \n",
    "            Acc = []\n",
    "\n",
    "            for data in Graphs_Train:\n",
    "                Acc.append(test(data, Models[i]))\n",
    "            print(f\"Mean Acc: {np.mean(Acc)}\")\n",
    "            print()\n",
    "        \n",
    "    dt_string = datetime.now().strftime(\"%m-%d_%H-%M\")\n",
    "    torch.save(Models[i].state_dict(), f=f\"{PATH_SAVE_TRAINS}{layers[i]}_seed_{SEED}_thr_{int(threshold*10)}_date_{dt_string}.pt\")\n",
    "    \n",
    "    print(f\"{layers[i]} saved in {PATH_SAVE_TRAINS}\\n\")"
   ]
  },
  {
   "cell_type": "code",
   "execution_count": null,
   "metadata": {},
   "outputs": [],
   "source": []
  }
 ],
 "metadata": {
  "hide_input": false,
  "kernelspec": {
   "display_name": "Python 3 (ipykernel)",
   "language": "python",
   "name": "python3"
  },
  "language_info": {
   "codemirror_mode": {
    "name": "ipython",
    "version": 3
   },
   "file_extension": ".py",
   "mimetype": "text/x-python",
   "name": "python",
   "nbconvert_exporter": "python",
   "pygments_lexer": "ipython3",
   "version": "3.8.5"
  },
  "varInspector": {
   "cols": {
    "lenName": 16,
    "lenType": 16,
    "lenVar": 40
   },
   "kernels_config": {
    "python": {
     "delete_cmd_postfix": "",
     "delete_cmd_prefix": "del ",
     "library": "var_list.py",
     "varRefreshCmd": "print(var_dic_list())"
    },
    "r": {
     "delete_cmd_postfix": ") ",
     "delete_cmd_prefix": "rm(",
     "library": "var_list.r",
     "varRefreshCmd": "cat(var_dic_list()) "
    }
   },
   "types_to_exclude": [
    "module",
    "function",
    "builtin_function_or_method",
    "instance",
    "_Feature"
   ],
   "window_display": false
  }
 },
 "nbformat": 4,
 "nbformat_minor": 4
}
