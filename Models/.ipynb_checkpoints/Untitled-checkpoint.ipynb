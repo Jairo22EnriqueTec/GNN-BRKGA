{
 "cells": [
  {
   "cell_type": "code",
   "execution_count": 1,
   "id": "7fecbab7",
   "metadata": {
    "ExecuteTime": {
     "end_time": "2022-11-09T14:18:14.363256Z",
     "start_time": "2022-11-09T14:18:07.996868Z"
    }
   },
   "outputs": [],
   "source": [
    "import networkx as nx\n",
    "import numpy as np\n",
    "import torch\n",
    "from datetime import datetime\n",
    "import os\n",
    "import torch.nn as nn\n",
    "import torch.nn.functional as F\n",
    "from torch_geometric.nn import GCNConv\n",
    "import matplotlib.pyplot as plt\n",
    "\n",
    "import pandas as pd\n",
    "import torch_geometric.transforms as T\n",
    "\n",
    "#from create_dataset import CreateDataset\n",
    "\n",
    "from models import GNNModel\n",
    "\n",
    "import sys\n",
    "sys.path.append(\"../FastCover/\")\n",
    "from utils import *"
   ]
  },
  {
   "cell_type": "code",
   "execution_count": 2,
   "id": "791f2ac1",
   "metadata": {
    "ExecuteTime": {
     "end_time": "2022-11-09T14:18:17.823594Z",
     "start_time": "2022-11-09T14:18:17.800803Z"
    }
   },
   "outputs": [],
   "source": [
    "PATH_SAVE_TRAINS_CHECKPOINTS = 'runs/checkpoints/'\n",
    "PATH_SAVE_TRAINS = 'runs/'\n",
    "PATH_TRAIN = '../FastCover/data/ER_graphs/train/'\n",
    "\n",
    "num_features = 1\n",
    "num_classes  = 2\n",
    "\n",
    "threshold = 0.5\n",
    "\n",
    "optimizer_name = \"Adam\"\n",
    "lr = 1e-3\n",
    "epochs = 20\n",
    "\n",
    "SEED = 13\n",
    "\n",
    "device = torch.device('cuda' if torch.cuda.is_available() else 'cpu')\n",
    "\n",
    "#layers = [\"GCN\", \"GAT\",\"GraphConv\"]\n",
    "layers = [\"SAGE\"]\n",
    "\n",
    "Models = [GNNModel(c_in = 1, c_hidden = 100, c_out = 2, num_layers = 2, layer_name = layer_name, dp_rate=0.1) for \n",
    "         layer_name in layers]"
   ]
  },
  {
   "cell_type": "code",
   "execution_count": 3,
   "id": "872f1823",
   "metadata": {
    "ExecuteTime": {
     "end_time": "2022-11-09T14:18:19.366026Z",
     "start_time": "2022-11-09T14:18:19.110463Z"
    }
   },
   "outputs": [],
   "source": [
    "ERInstances = [graph for graph in os.listdir(PATH_TRAIN+'pkl')]\n",
    "graphs = []\n",
    "for er in ERInstances:\n",
    "    graph = igraph.Graph().Read_Pickle(PATH_TRAIN + 'pkl/'+er)\n",
    "    graphs.append(graph.to_networkx())    \n",
    "\n",
    "OptInstances = [graph for graph in os.listdir(PATH_TRAIN+'optimal')]\n",
    "Solutions = []\n",
    "for er in OptInstances:\n",
    "    opt = []\n",
    "    with open(PATH_TRAIN+'optimal/'+er) as f:\n",
    "        for line in f.readlines():\n",
    "            opt.append(int(line.replace(\"\\n\", \"\")))\n",
    "    Solutions.append(opt)"
   ]
  },
  {
   "cell_type": "code",
   "execution_count": 4,
   "id": "46c786ce",
   "metadata": {
    "ExecuteTime": {
     "end_time": "2022-11-09T14:18:23.532943Z",
     "start_time": "2022-11-09T14:18:23.309992Z"
    }
   },
   "outputs": [],
   "source": [
    "Graphs_Train = Convert2DataSet(graphs, Solutions)\n",
    "data = Graphs_Train[0]"
   ]
  },
  {
   "cell_type": "code",
   "execution_count": 85,
   "id": "39c92e12",
   "metadata": {
    "ExecuteTime": {
     "end_time": "2022-11-09T11:51:41.358563Z",
     "start_time": "2022-11-09T11:51:41.338569Z"
    }
   },
   "outputs": [],
   "source": [
    "S = np.argsort(-np.array(nx.degree(graphs[0])).T[1])[100:]\n",
    "data = Convert2DataSet([graphs[0]], [S])[0]"
   ]
  },
  {
   "cell_type": "code",
   "execution_count": 86,
   "id": "f4c083b7",
   "metadata": {
    "ExecuteTime": {
     "end_time": "2022-11-09T11:51:42.868648Z",
     "start_time": "2022-11-09T11:51:42.853925Z"
    }
   },
   "outputs": [
    {
     "data": {
      "text/plain": [
       "array([ 13,  17,  24,  42,  46,  51,  55,  58,  63,  70,  72,  82,  83,\n",
       "        86,  89, 113, 125, 143, 148, 172, 176, 179, 184, 190, 191, 194,\n",
       "       204, 218, 225, 231, 233, 237, 239, 243, 245, 246, 258, 259, 262,\n",
       "       266, 287, 293, 309, 316, 322, 336, 344, 346, 348, 354, 358, 359,\n",
       "       360, 362, 373, 387, 391, 403, 404, 406, 410, 417, 422, 436, 453,\n",
       "       454, 462, 473, 475, 477, 483, 490, 492, 498, 509, 518, 527, 543,\n",
       "       547, 553, 557, 566, 568, 570, 575, 580, 593, 605, 623, 650, 657,\n",
       "       671, 678, 683, 684, 685, 689, 691, 698, 703, 715, 732, 734, 738,\n",
       "       748, 757, 775, 780, 782, 784, 786, 797, 801, 805, 806, 821, 822,\n",
       "       829, 835, 852, 861, 863, 873, 882, 888, 896, 901, 903, 904, 907,\n",
       "       916, 921, 929, 938, 943, 949, 951, 960, 962, 964, 965, 972, 973,\n",
       "       975, 977, 979, 987, 999])"
      ]
     },
     "execution_count": 86,
     "metadata": {},
     "output_type": "execute_result"
    }
   ],
   "source": [
    "np.array(Solutions[0])"
   ]
  },
  {
   "cell_type": "code",
   "execution_count": 40,
   "id": "160598c4",
   "metadata": {
    "ExecuteTime": {
     "end_time": "2022-11-09T11:47:05.243833Z",
     "start_time": "2022-11-09T11:47:05.228225Z"
    }
   },
   "outputs": [
    {
     "data": {
      "text/plain": [
       "array([  0,   2,   7,  13,  17,  42,  46,  55,  58,  60,  63,  64,  67,\n",
       "        68,  70,  75,  82,  86,  89, 108, 113, 160, 167, 173, 184, 188,\n",
       "       190, 191, 194, 199, 200, 201, 204, 212, 218, 233, 234, 237, 239,\n",
       "       244, 246, 254, 256, 259, 262, 263, 281, 283, 287, 301, 316, 319,\n",
       "       322, 336, 344, 354, 357, 358, 359, 362, 390, 398, 402, 429, 430,\n",
       "       432, 433, 453, 469, 473, 475, 483, 490, 492, 525, 526, 543, 547,\n",
       "       553, 557, 566, 570, 578, 580, 582, 584, 593, 594, 601, 605, 609,\n",
       "       619, 620, 631, 645, 650, 657, 663, 671, 684, 685, 697, 703, 711,\n",
       "       732, 734, 742, 754, 757, 764, 768, 772, 775, 784, 787, 790, 797,\n",
       "       801, 803, 806, 814, 824, 827, 835, 839, 840, 843, 849, 851, 852,\n",
       "       859, 882, 888, 902, 903, 904, 916, 920, 929, 938, 943, 957, 960,\n",
       "       972, 973, 974, 984, 999], dtype=int64)"
      ]
     },
     "execution_count": 40,
     "metadata": {},
     "output_type": "execute_result"
    }
   ],
   "source": [
    "np.sort(np.argsort(-np.array(nx.degree(graphs[0])).T[1])[:148])"
   ]
  },
  {
   "cell_type": "code",
   "execution_count": 94,
   "id": "8f13856c",
   "metadata": {
    "ExecuteTime": {
     "end_time": "2022-11-09T11:52:47.189503Z",
     "start_time": "2022-11-09T11:52:47.173506Z"
    }
   },
   "outputs": [],
   "source": [
    "import torch\n",
    "import torch.nn.functional as F\n",
    "from torch_geometric.nn import GCNConv\n",
    "\n",
    "class GCN(torch.nn.Module):\n",
    "    def __init__(self):\n",
    "        super().__init__()\n",
    "        self.conv1 = GCNConv(data.num_node_features, 16)\n",
    "        self.conv2 = GCNConv(16, data.num_classes)\n",
    "\n",
    "    def forward(self, data):\n",
    "        x, edge_index = data.x, data.edge_index\n",
    "\n",
    "        x = self.conv1(x, edge_index)\n",
    "        x = F.relu(x)\n",
    "        x = F.dropout(x, training=self.training)\n",
    "        x = self.conv2(x, edge_index)\n",
    "\n",
    "        return F.log_softmax(x, dim=1)"
   ]
  },
  {
   "cell_type": "code",
   "execution_count": 119,
   "id": "14cbfee0",
   "metadata": {
    "ExecuteTime": {
     "end_time": "2022-11-09T11:55:34.167831Z",
     "start_time": "2022-11-09T11:55:34.156194Z"
    }
   },
   "outputs": [],
   "source": [
    "GAT = Models[0]"
   ]
  },
  {
   "cell_type": "code",
   "execution_count": 5,
   "id": "23ec8bc8",
   "metadata": {
    "ExecuteTime": {
     "end_time": "2022-11-09T14:18:32.307893Z",
     "start_time": "2022-11-09T14:18:27.928773Z"
    }
   },
   "outputs": [
    {
     "name": "stdout",
     "output_type": "stream",
     "text": [
      "\n",
      " ----- Model:SAGE -----\n",
      "SAGE saved in runs/\n",
      "\n"
     ]
    }
   ],
   "source": [
    "for i in range(len(Models)):\n",
    "    print()\n",
    "    print(f\" ----- Model:{layers[i]} -----\")\n",
    "    for data in Graphs_Train:\n",
    "        device = torch.device('cuda' if torch.cuda.is_available() else 'cpu')\n",
    "        model = Models[i].to(device)\n",
    "        data = data.to(device)\n",
    "        optimizer = torch.optim.Adam(model.parameters(), lr=0.01, weight_decay=5e-4)\n",
    "\n",
    "        model.train()\n",
    "        for epoch in range(epochs):\n",
    "            optimizer.zero_grad()\n",
    "            #out = model(data)\n",
    "            out = model(data.x, data.edge_index)\n",
    "            loss = F.nll_loss(out, data.y)\n",
    "            loss.backward()\n",
    "            optimizer.step()\n",
    "            \n",
    "    dt_string = datetime.now().strftime(\"%m-%d_%H-%M\")\n",
    "    torch.save(model.state_dict(), f=f\"{PATH_SAVE_TRAINS}{layers[i]}_seed_{SEED}_thr_{int(threshold*10)}_date_{dt_string}.pt\")\n",
    "    \n",
    "    print(f\"{layers[i]} saved in {PATH_SAVE_TRAINS}\\n\")"
   ]
  },
  {
   "cell_type": "code",
   "execution_count": 161,
   "id": "1e4033a2",
   "metadata": {
    "ExecuteTime": {
     "end_time": "2022-11-09T12:10:26.578086Z",
     "start_time": "2022-11-09T12:10:26.558421Z"
    }
   },
   "outputs": [
    {
     "name": "stdout",
     "output_type": "stream",
     "text": [
      "Accuracy: 0.8690\n",
      "tensor(158)\n"
     ]
    }
   ],
   "source": [
    "for data in Graphs_Train[-1:]:\n",
    "    model.eval()\n",
    "    #pred = model(data).argmax(dim=1)\n",
    "    pred = model(data.x, data.edge_index).argmax(dim=1)\n",
    "    correct = (pred == data.y).sum()\n",
    "    acc = int(correct) / 1000\n",
    "    print(f'Accuracy: {acc:.4f}')\n",
    "    print(torch.sum(pred))"
   ]
  },
  {
   "cell_type": "code",
   "execution_count": 162,
   "id": "eb805a63",
   "metadata": {
    "ExecuteTime": {
     "end_time": "2022-11-09T12:10:31.353095Z",
     "start_time": "2022-11-09T12:10:31.338936Z"
    }
   },
   "outputs": [],
   "source": [
    "Top = np.sort(torch.topk(out.max(1)[0], 148)[1].detach().numpy())\n",
    "TopDegree = np.sort(np.argsort(-np.array(nx.degree(graphs[-1])).T[1])[:148])\n",
    "TopSol = np.where(data.y ==1)[0]"
   ]
  },
  {
   "cell_type": "code",
   "execution_count": 163,
   "id": "48c468a9",
   "metadata": {
    "ExecuteTime": {
     "end_time": "2022-11-09T12:10:31.973713Z",
     "start_time": "2022-11-09T12:10:31.953851Z"
    }
   },
   "outputs": [],
   "source": [
    "d = 0\n",
    "s = 0\n",
    "for t in Top:\n",
    "    d += 1 if t in TopDegree else 0\n",
    "    s += 1 if t in TopSol else 0\n",
    "    "
   ]
  },
  {
   "cell_type": "code",
   "execution_count": 165,
   "id": "50d388ca",
   "metadata": {
    "ExecuteTime": {
     "end_time": "2022-11-09T12:10:34.596277Z",
     "start_time": "2022-11-09T12:10:34.581032Z"
    }
   },
   "outputs": [
    {
     "data": {
      "text/plain": [
       "3"
      ]
     },
     "execution_count": 165,
     "metadata": {},
     "output_type": "execute_result"
    }
   ],
   "source": [
    "d"
   ]
  },
  {
   "cell_type": "code",
   "execution_count": 173,
   "id": "88fa228c",
   "metadata": {
    "ExecuteTime": {
     "end_time": "2022-11-09T12:20:30.070496Z",
     "start_time": "2022-11-09T12:20:30.047641Z"
    }
   },
   "outputs": [
    {
     "data": {
      "text/plain": [
       "tensor([10.])"
      ]
     },
     "execution_count": 173,
     "metadata": {},
     "output_type": "execute_result"
    }
   ],
   "source": [
    "torch.exp(torch.log(torch.tensor([10])))"
   ]
  },
  {
   "cell_type": "code",
   "execution_count": 169,
   "id": "fc67e7bf",
   "metadata": {
    "ExecuteTime": {
     "end_time": "2022-11-09T12:19:41.450713Z",
     "start_time": "2022-11-09T12:19:41.435393Z"
    }
   },
   "outputs": [
    {
     "data": {
      "text/plain": [
       "tensor([1])"
      ]
     },
     "execution_count": 169,
     "metadata": {},
     "output_type": "execute_result"
    }
   ],
   "source": [
    "torch.tensor([1])"
   ]
  }
 ],
 "metadata": {
  "hide_input": false,
  "kernelspec": {
   "display_name": "Python 3 (ipykernel)",
   "language": "python",
   "name": "python3"
  },
  "language_info": {
   "codemirror_mode": {
    "name": "ipython",
    "version": 3
   },
   "file_extension": ".py",
   "mimetype": "text/x-python",
   "name": "python",
   "nbconvert_exporter": "python",
   "pygments_lexer": "ipython3",
   "version": "3.8.5"
  },
  "varInspector": {
   "cols": {
    "lenName": 16,
    "lenType": 16,
    "lenVar": 40
   },
   "kernels_config": {
    "python": {
     "delete_cmd_postfix": "",
     "delete_cmd_prefix": "del ",
     "library": "var_list.py",
     "varRefreshCmd": "print(var_dic_list())"
    },
    "r": {
     "delete_cmd_postfix": ") ",
     "delete_cmd_prefix": "rm(",
     "library": "var_list.r",
     "varRefreshCmd": "cat(var_dic_list()) "
    }
   },
   "types_to_exclude": [
    "module",
    "function",
    "builtin_function_or_method",
    "instance",
    "_Feature"
   ],
   "window_display": false
  }
 },
 "nbformat": 4,
 "nbformat_minor": 5
}
