{
 "cells": [
  {
   "cell_type": "code",
   "execution_count": 2,
   "metadata": {
    "ExecuteTime": {
     "end_time": "2022-12-09T16:41:37.847756Z",
     "start_time": "2022-12-09T16:41:37.835218Z"
    }
   },
   "outputs": [],
   "source": [
    "import networkx as nx\n",
    "import numpy as np\n",
    "import torch\n",
    "from datetime import datetime\n",
    "import os\n",
    "import torch.nn as nn\n",
    "import torch.nn.functional as F\n",
    "from torch_geometric.nn import GCNConv\n",
    "import matplotlib.pyplot as plt\n",
    "from icecream import ic\n",
    "\n",
    "ic.configureOutput(\"debug | -> \")\n",
    "\n",
    "import pandas as pd\n",
    "import torch_geometric.transforms as T\n",
    "\n",
    "#from create_dataset import CreateDataset\n",
    "\n",
    "from models import GNNModel\n",
    "\n",
    "import sys\n",
    "sys.path.append(\"../FastCover/\")\n",
    "from utils import *"
   ]
  },
  {
   "cell_type": "code",
   "execution_count": 102,
   "metadata": {
    "ExecuteTime": {
     "end_time": "2022-12-09T17:45:47.562534Z",
     "start_time": "2022-12-09T17:45:47.540870Z"
    }
   },
   "outputs": [],
   "source": [
    "PATH_SAVE_TRAINS = 'runs/Erdos_MDH/'\n",
    "PATH_TO_TRAIN = \"../BRKGA/instances/Erdos/train/\"\n",
    "PATH_TO_VALIDATION = \"../BRKGA/instances/Erdos/validation/\"\n",
    "MDH = False\n",
    "\n",
    "\n",
    "Features = None\n",
    "if MDH:\n",
    "    num_features = 1\n",
    "else:\n",
    "    num_features = 4 # Change if needed\n",
    "    \n",
    "num_classes  = 2\n",
    "\n",
    "threshold = 0.5\n",
    "\n",
    "optimizer_name = \"Adam\"\n",
    "lr = 5e-4\n",
    "epochs = 21\n",
    "\n",
    "SEED = 13\n",
    "\n",
    "device = torch.device('cuda' if torch.cuda.is_available() else 'cpu')\n",
    "\n",
    "layers = [\"GCN\", \"GAT\",\"GraphConv\", \"SAGE\"]\n",
    "#layers = [\"SAGE\"]\n",
    "\n",
    "Models = [GNNModel(c_in = num_features, c_hidden = 100, c_out = 2, num_layers = 2, layer_name = layer_name, dp_rate=0.1) for \n",
    "         layer_name in layers]"
   ]
  },
  {
   "cell_type": "code",
   "execution_count": 103,
   "metadata": {
    "ExecuteTime": {
     "end_time": "2022-12-09T17:45:51.336072Z",
     "start_time": "2022-12-09T17:45:48.741356Z"
    }
   },
   "outputs": [],
   "source": [
    "Instances = [graph for graph in os.listdir(PATH_TO_TRAIN + 'txt')]\n",
    "\n",
    "graphs = []\n",
    "for er in Instances:\n",
    "    graph = igraph.Graph.Read_Edgelist(PATH_TO_TRAIN+\"txt/\"+er, directed = False)\n",
    "    graphs.append(graph.to_networkx())    \n",
    "\n",
    "OptInstances = [graph for graph in os.listdir(PATH_TO_TRAIN+'optimal')]\n",
    "Solutions = []\n",
    "for er in OptInstances:\n",
    "    opt = []\n",
    "    with open(PATH_TO_TRAIN+'optimal/'+er) as f:\n",
    "        for line in f.readlines():\n",
    "            opt.append(int(line.replace(\"\\n\", \"\")))\n",
    "    Solutions.append(opt)"
   ]
  },
  {
   "cell_type": "code",
   "execution_count": 104,
   "metadata": {
    "ExecuteTime": {
     "end_time": "2022-12-09T17:45:52.831832Z",
     "start_time": "2022-12-09T17:45:52.601850Z"
    }
   },
   "outputs": [],
   "source": [
    "Instances = [graph for graph in os.listdir(PATH_TO_VALIDATION + 'txt')]\n",
    "\n",
    "graphs_val = []\n",
    "for er in Instances:\n",
    "    graph = igraph.Graph.Read_Edgelist(PATH_TO_VALIDATION+\"txt/\"+er, directed = False)\n",
    "    graphs_val.append(graph.to_networkx())    \n",
    "\n",
    "    \n",
    "OptInstances = [graph for graph in os.listdir(PATH_TO_VALIDATION+'optimal')]\n",
    "Solutions_val = []\n",
    "for er in OptInstances:\n",
    "    opt = []\n",
    "    with open(PATH_TO_VALIDATION+'optimal/'+er) as f:\n",
    "        for line in f.readlines():\n",
    "            opt.append(int(line.replace(\"\\n\", \"\")))\n",
    "    Solutions_val.append(opt)"
   ]
  },
  {
   "cell_type": "code",
   "execution_count": null,
   "metadata": {
    "ExecuteTime": {
     "end_time": "2022-12-09T16:58:31.215750Z",
     "start_time": "2022-12-09T16:58:31.208098Z"
    }
   },
   "outputs": [],
   "source": []
  },
  {
   "cell_type": "code",
   "execution_count": 105,
   "metadata": {
    "ExecuteTime": {
     "end_time": "2022-12-09T17:45:54.666625Z",
     "start_time": "2022-12-09T17:45:54.076464Z"
    }
   },
   "outputs": [],
   "source": [
    "if not MDH:\n",
    "    graphFeatures = [feat for feat in os.listdir(PATH_TO_TRAIN+'feats')]\n",
    "    Features = []\n",
    "    for er in graphFeatures:\n",
    "        temp = []\n",
    "        with open(PATH_TO_TRAIN+'feats/'+er) as f:\n",
    "            for line in f.readlines()[1:]:\n",
    "                feats = np.array(line.split(\",\"), dtype = float)\n",
    "                temp.append(feats)\n",
    "        Features.append(np.array(temp))\n",
    "        \n",
    "        \n",
    "    graphFeatures_val = [feat for feat in os.listdir(PATH_TO_VALIDATION+'feats')]\n",
    "    Features_val = []\n",
    "    for er in graphFeatures_val:\n",
    "        temp = []\n",
    "        with open(PATH_TO_VALIDATION+'feats/'+er) as f:\n",
    "            for line in f.readlines()[1:]:\n",
    "                feats = np.array(line.split(\",\"), dtype = float)\n",
    "                temp.append(feats)\n",
    "        Features_val.append(np.array(temp))"
   ]
  },
  {
   "cell_type": "code",
   "execution_count": 43,
   "metadata": {
    "ExecuteTime": {
     "end_time": "2022-12-09T16:59:32.884312Z",
     "start_time": "2022-12-09T16:59:32.871518Z"
    }
   },
   "outputs": [
    {
     "data": {
      "text/plain": [
       "6"
      ]
     },
     "execution_count": 43,
     "metadata": {},
     "output_type": "execute_result"
    }
   ],
   "source": [
    "len(Features_val)"
   ]
  },
  {
   "cell_type": "code",
   "execution_count": 11,
   "metadata": {
    "ExecuteTime": {
     "end_time": "2022-12-04T16:30:08.045073Z",
     "start_time": "2022-12-04T16:30:08.027678Z"
    }
   },
   "outputs": [],
   "source": [
    "D = (Features[0] - np.min(Features[0], axis = 0)) / ( np.max(Features[0], axis = 0) - np.min(Features[0], axis = 0) )"
   ]
  },
  {
   "cell_type": "code",
   "execution_count": 14,
   "metadata": {
    "ExecuteTime": {
     "end_time": "2022-12-04T16:30:20.833264Z",
     "start_time": "2022-12-04T16:30:20.817269Z"
    }
   },
   "outputs": [
    {
     "data": {
      "text/plain": [
       "array([0., 0., 0., 0., 0.])"
      ]
     },
     "execution_count": 14,
     "metadata": {},
     "output_type": "execute_result"
    }
   ],
   "source": [
    "np.min(D, axis = 0)"
   ]
  },
  {
   "cell_type": "code",
   "execution_count": 106,
   "metadata": {
    "ExecuteTime": {
     "end_time": "2022-12-09T17:45:58.362174Z",
     "start_time": "2022-12-09T17:45:56.060835Z"
    }
   },
   "outputs": [],
   "source": [
    "Graphs_Train = Convert2DataSet(graphs, Solutions, feats = Features)\n",
    "Graphs_Val = Convert2DataSet(graphs_val, Solutions_val, feats = Features_val)\n",
    "num_features = Graphs_Train[0].num_features\n",
    "num_classes = Graphs_Train[0].num_classes"
   ]
  },
  {
   "cell_type": "markdown",
   "metadata": {},
   "source": [
    "## Train"
   ]
  },
  {
   "cell_type": "code",
   "execution_count": 107,
   "metadata": {
    "ExecuteTime": {
     "end_time": "2022-12-09T17:45:59.786862Z",
     "start_time": "2022-12-09T17:45:59.773133Z"
    }
   },
   "outputs": [],
   "source": [
    "class EarlyStopping():\n",
    "    def __init__(self, patience):\n",
    "        self.minloss = np.inf\n",
    "        self.dt_string = datetime.now().strftime(\"%m-%d_%H-%M\")\n",
    "        self.count = 0\n",
    "        self.patience = patience\n",
    "        self.epoch = 0\n",
    "        self.history = []\n",
    "        \n",
    "    def check(self, model, Graphs_Val, Graphs_Train):\n",
    "        self.epoch += 1\n",
    "        \n",
    "        val_loss = 0\n",
    "        for data in Graphs_Val:\n",
    "            val_loss += F.nll_loss(model(data.x, data.edge_index), data.y).detach().numpy() / len(Graphs_Val)\n",
    "            \n",
    "        if val_loss < self.minloss:\n",
    "            print(f\"\\nval_loss improved from {self.minloss :.3f} to {val_loss:.3f} Saving...\")\n",
    "            torch.save(model.state_dict(), f=f\"{PATH_SAVE_TRAINS}{layers[i]}_seed_{SEED}_thr_{int(threshold*10)}_date_{self.dt_string}.pt\")\n",
    "            self.minloss = val_loss\n",
    "            self.count = 0\n",
    "        else:\n",
    "            print(f\"\\nEarlyStopping count {self.count} of {self.patience}\\n\")\n",
    "            self.count += 1\n",
    "        \n",
    "        \n",
    "        val_train = 0\n",
    "        for data in Graphs_Train:\n",
    "            val_train += F.nll_loss(model(data.x, data.edge_index), data.y).detach().numpy() / len(Graphs_Train)\n",
    "            \n",
    "        self.history.append([self.epoch, val_loss, val_train])\n",
    "        \n",
    "        if self.count >= self.patience:\n",
    "            print(\"\\nEarlyStopping limit reached.\\n\")\n",
    "            return True\n",
    "        else:\n",
    "            return False\n",
    "    \n",
    "    def plot_history(self, title_ = \"\"):\n",
    "        plt.plot(np.array(self.history).T[0], np.array(self.history).T[1], label = \"Val loss\")\n",
    "        plt.plot(np.array(self.history).T[0], np.array(self.history).T[2], label = \"Train loss\")\n",
    "        plt.title(f\"Learning curve {title_}\")\n",
    "        plt.legend()\n",
    "        plt.grid()\n",
    "        plt.show()\n",
    "    "
   ]
  },
  {
   "cell_type": "code",
   "execution_count": null,
   "metadata": {
    "ExecuteTime": {
     "end_time": "2022-12-09T16:46:56.398747Z",
     "start_time": "2022-12-09T16:46:56.381517Z"
    }
   },
   "outputs": [],
   "source": []
  },
  {
   "cell_type": "code",
   "execution_count": 108,
   "metadata": {
    "ExecuteTime": {
     "end_time": "2022-12-09T17:46:01.116565Z",
     "start_time": "2022-12-09T17:46:01.103789Z"
    }
   },
   "outputs": [],
   "source": [
    "def train(model, optimizer, data):\n",
    "        optimizer.zero_grad()\n",
    "\n",
    "        F.nll_loss(model(data.x, data.edge_index), data.y).backward()\n",
    "        optimizer.step()\n",
    "        return model, optimizer\n",
    "      \n",
    "    \n",
    "@torch.no_grad()\n",
    "def test(data, model):\n",
    "  model.eval()\n",
    "  logits = model(data.x, data.edge_index)\n",
    "  pred = logits.max(1)[1]\n",
    "  acc = pred.eq(data.y).sum().item() / data.num_nodes\n",
    "  return acc\n",
    "\n",
    "\n"
   ]
  },
  {
   "cell_type": "code",
   "execution_count": 111,
   "metadata": {
    "ExecuteTime": {
     "end_time": "2022-12-09T17:49:58.637472Z",
     "start_time": "2022-12-09T17:47:50.350519Z"
    }
   },
   "outputs": [
    {
     "name": "stdout",
     "output_type": "stream",
     "text": [
      "\n",
      " ----- Model:SAGE -----\n",
      "\n",
      "val_loss improved from inf to 0.504 Saving...\n",
      "\n",
      "val_loss improved from 0.504 to 0.488 Saving...\n",
      "\n",
      "val_loss improved from 0.488 to 0.464 Saving...\n",
      "\n",
      "val_loss improved from 0.464 to 0.432 Saving...\n",
      "Epoch 5 saved for SAGE.\n",
      "\n",
      "Mean Acc: 0.818696875\n",
      "\n",
      "\n",
      "val_loss improved from 0.432 to 0.398 Saving...\n",
      "\n",
      "val_loss improved from 0.398 to 0.369 Saving...\n",
      "\n",
      "val_loss improved from 0.369 to 0.343 Saving...\n",
      "\n",
      "val_loss improved from 0.343 to 0.319 Saving...\n",
      "\n",
      "val_loss improved from 0.319 to 0.299 Saving...\n",
      "Epoch 10 saved for SAGE.\n",
      "\n",
      "Mean Acc: 0.8995875\n",
      "\n",
      "\n",
      "val_loss improved from 0.299 to 0.282 Saving...\n",
      "\n",
      "val_loss improved from 0.282 to 0.267 Saving...\n",
      "\n",
      "val_loss improved from 0.267 to 0.255 Saving...\n",
      "\n",
      "val_loss improved from 0.255 to 0.245 Saving...\n",
      "\n",
      "val_loss improved from 0.245 to 0.236 Saving...\n",
      "Epoch 15 saved for SAGE.\n",
      "\n",
      "Mean Acc: 0.926921875\n",
      "\n",
      "\n",
      "val_loss improved from 0.236 to 0.228 Saving...\n",
      "\n",
      "val_loss improved from 0.228 to 0.222 Saving...\n",
      "\n",
      "val_loss improved from 0.222 to 0.216 Saving...\n",
      "\n",
      "val_loss improved from 0.216 to 0.211 Saving...\n",
      "\n",
      "val_loss improved from 0.211 to 0.207 Saving...\n",
      "Epoch 20 saved for SAGE.\n",
      "\n",
      "Mean Acc: 0.93261875\n",
      "\n",
      "\n",
      "val_loss improved from 0.207 to 0.203 Saving...\n",
      "\n",
      "val_loss improved from 0.203 to 0.199 Saving...\n",
      "\n",
      "val_loss improved from 0.199 to 0.196 Saving...\n",
      "\n",
      "val_loss improved from 0.196 to 0.193 Saving...\n",
      "\n",
      "val_loss improved from 0.193 to 0.191 Saving...\n",
      "Epoch 25 saved for SAGE.\n",
      "\n",
      "Mean Acc: 0.9356562500000001\n",
      "\n",
      "\n",
      "val_loss improved from 0.191 to 0.188 Saving...\n",
      "\n",
      "val_loss improved from 0.188 to 0.186 Saving...\n",
      "\n",
      "val_loss improved from 0.186 to 0.184 Saving...\n",
      "\n",
      "val_loss improved from 0.184 to 0.182 Saving...\n",
      "\n",
      "val_loss improved from 0.182 to 0.181 Saving...\n",
      "Epoch 30 saved for SAGE.\n",
      "\n",
      "Mean Acc: 0.938128125\n",
      "\n",
      "\n",
      "val_loss improved from 0.181 to 0.179 Saving...\n",
      "\n",
      "val_loss improved from 0.179 to 0.178 Saving...\n",
      "\n",
      "val_loss improved from 0.178 to 0.176 Saving...\n",
      "\n",
      "val_loss improved from 0.176 to 0.175 Saving...\n",
      "\n",
      "val_loss improved from 0.175 to 0.174 Saving...\n",
      "Epoch 35 saved for SAGE.\n",
      "\n",
      "Mean Acc: 0.9396125000000001\n",
      "\n",
      "\n",
      "val_loss improved from 0.174 to 0.173 Saving...\n",
      "\n",
      "val_loss improved from 0.173 to 0.172 Saving...\n",
      "\n",
      "val_loss improved from 0.172 to 0.171 Saving...\n",
      "\n",
      "val_loss improved from 0.171 to 0.170 Saving...\n",
      "\n",
      "val_loss improved from 0.170 to 0.169 Saving...\n",
      "Epoch 40 saved for SAGE.\n",
      "\n",
      "Mean Acc: 0.9415218750000001\n",
      "\n",
      "\n",
      "val_loss improved from 0.169 to 0.168 Saving...\n",
      "\n",
      "val_loss improved from 0.168 to 0.167 Saving...\n",
      "\n",
      "val_loss improved from 0.167 to 0.167 Saving...\n",
      "\n",
      "val_loss improved from 0.167 to 0.166 Saving...\n",
      "\n",
      "val_loss improved from 0.166 to 0.165 Saving...\n",
      "Epoch 45 saved for SAGE.\n",
      "\n",
      "Mean Acc: 0.943171875\n",
      "\n",
      "\n",
      "val_loss improved from 0.165 to 0.165 Saving...\n",
      "\n",
      "val_loss improved from 0.165 to 0.164 Saving...\n",
      "\n",
      "val_loss improved from 0.164 to 0.164 Saving...\n",
      "\n",
      "val_loss improved from 0.164 to 0.163 Saving...\n",
      "\n",
      "val_loss improved from 0.163 to 0.163 Saving...\n",
      "Epoch 50 saved for SAGE.\n",
      "\n",
      "Mean Acc: 0.9449281250000001\n",
      "\n",
      "\n",
      "val_loss improved from 0.163 to 0.162 Saving...\n",
      "\n",
      "val_loss improved from 0.162 to 0.162 Saving...\n",
      "\n",
      "val_loss improved from 0.162 to 0.161 Saving...\n",
      "\n",
      "val_loss improved from 0.161 to 0.161 Saving...\n",
      "\n",
      "val_loss improved from 0.161 to 0.161 Saving...\n",
      "Epoch 55 saved for SAGE.\n",
      "\n",
      "Mean Acc: 0.946065625\n",
      "\n",
      "\n",
      "val_loss improved from 0.161 to 0.160 Saving...\n",
      "\n",
      "val_loss improved from 0.160 to 0.160 Saving...\n",
      "\n",
      "val_loss improved from 0.160 to 0.160 Saving...\n",
      "\n",
      "val_loss improved from 0.160 to 0.159 Saving...\n",
      "\n",
      "val_loss improved from 0.159 to 0.159 Saving...\n",
      "Epoch 60 saved for SAGE.\n",
      "\n",
      "Mean Acc: 0.946978125\n",
      "\n",
      "\n",
      "val_loss improved from 0.159 to 0.159 Saving...\n",
      "SAGE saved in runs/Erdos_MDH/\n",
      "\n"
     ]
    }
   ],
   "source": [
    "torch.manual_seed(SEED)\n",
    "\n",
    "#for i in range(len(Models)):\n",
    "for i in range(3, 4):\n",
    "    print()\n",
    "    print(f\" ----- Model:{layers[i]} -----\")\n",
    "    optimizer = getattr(torch.optim, optimizer_name)(Models[i].parameters(), lr = lr)\n",
    "    \n",
    "    ES = EarlyStopping(patience = 12)\n",
    "    \n",
    "    for epoch in range(1, 61):\n",
    "        \n",
    "        for data in Graphs_Train:\n",
    "            train(Models[i], optimizer, data)\n",
    "        \n",
    "        if epoch%5 == 0:\n",
    "            #torch.save(Models[i].state_dict(), f=f\"{PATH_SAVE_TRAINS_CHECKPOINTS}Checkpoint-model-{layers[i]}-epoch-{epoch}.pt\")\n",
    "            print(f\"Epoch {epoch} saved for {layers[i]}.\\n\")\n",
    "        \n",
    "            Acc = []\n",
    "\n",
    "            for data in Graphs_Train:\n",
    "                Acc.append(test(data, Models[i]))\n",
    "            print(f\"Mean Acc: {np.mean(Acc)}\")\n",
    "            print()\n",
    "        \n",
    "        \n",
    "        if ES.check(Models[i], Graphs_Val, Graphs_Train):\n",
    "            break\n",
    "    #torch.save(Models[i].state_dict(), f=f\"{PATH_SAVE_TRAINS}{layers[i]}_seed_{SEED}_thr_{int(threshold*10)}_date_{dt_string}.pt\")\n",
    "    \n",
    "    print(f\"{layers[i]} saved in {PATH_SAVE_TRAINS}\\n\")\n",
    "    ES.plot_history(layers[i])"
   ]
  },
  {
   "cell_type": "code",
   "execution_count": 112,
   "metadata": {
    "ExecuteTime": {
     "end_time": "2022-12-09T17:50:29.218486Z",
     "start_time": "2022-12-09T17:50:29.046157Z"
    }
   },
   "outputs": [
    {
     "data": {
      "image/png": "[encoded data removed]",
      "text/plain": [
       "<Figure size 640x480 with 1 Axes>"
      ]
     },
     "metadata": {},
     "output_type": "display_data"
    }
   ],
   "source": [
    "ES.plot_history()\n",
    "#for sage"
   ]
  },
  {
   "cell_type": "code",
   "execution_count": 95,
   "metadata": {
    "ExecuteTime": {
     "end_time": "2022-12-09T17:36:41.995790Z",
     "start_time": "2022-12-09T17:36:41.843556Z"
    }
   },
   "outputs": [
    {
     "data": {
      "image/png": "[encoded data removed]",
      "text/plain": [
       "<Figure size 640x480 with 1 Axes>"
      ]
     },
     "metadata": {},
     "output_type": "display_data"
    }
   ],
   "source": [
    "#ES.plot_history()\n",
    "#for GCN"
   ]
  },
  {
   "cell_type": "code",
   "execution_count": 98,
   "metadata": {
    "ExecuteTime": {
     "end_time": "2022-12-09T17:43:15.097941Z",
     "start_time": "2022-12-09T17:43:14.933417Z"
    }
   },
   "outputs": [
    {
     "data": {
      "image/png": "[encoded data removed]",
      "text/plain": [
       "<Figure size 640x480 with 1 Axes>"
      ]
     },
     "metadata": {},
     "output_type": "display_data"
    }
   ],
   "source": [
    "ES.plot_history()"
   ]
  },
  {
   "cell_type": "code",
   "execution_count": 110,
   "metadata": {
    "ExecuteTime": {
     "end_time": "2022-12-09T17:47:28.300951Z",
     "start_time": "2022-12-09T17:47:28.123730Z"
    }
   },
   "outputs": [
    {
     "data": {
      "image/png": "[encoded data removed]",
      "text/plain": [
       "<Figure size 640x480 with 1 Axes>"
      ]
     },
     "metadata": {},
     "output_type": "display_data"
    }
   ],
   "source": [
    "ES.plot_history(\"GraphConv\")"
   ]
  },
  {
   "cell_type": "code",
   "execution_count": 10,
   "metadata": {
    "ExecuteTime": {
     "end_time": "2023-02-10T18:14:25.072434Z",
     "start_time": "2023-02-10T18:14:25.059444Z"
    }
   },
   "outputs": [
    {
     "data": {
      "text/plain": [
       "'C:\\\\Users\\\\Jairo Enrique\\\\OneDrive - Instituto Tecnologico y de Estudios Superiores de Monterrey\\\\UAB\\\\IIIA\\\\GNN-BRKGA\\\\Models'"
      ]
     },
     "execution_count": 10,
     "metadata": {},
     "output_type": "execute_result"
    }
   ],
   "source": [
    "%pwd"
   ]
  },
  {
   "cell_type": "code",
   "execution_count": 11,
   "metadata": {
    "ExecuteTime": {
     "end_time": "2023-02-10T18:16:07.728879Z",
     "start_time": "2023-02-10T18:16:07.724665Z"
    }
   },
   "outputs": [],
   "source": [
    "name = \"SAGE_mut_0.1_cross_0.6_type_uniform_iter_2\"\n",
    "\n",
    "if not os.path.exists(name):\n",
    "    os.mkdir(name)\n",
    "    \n"
   ]
  },
  {
   "cell_type": "code",
   "execution_count": 30,
   "metadata": {
    "ExecuteTime": {
     "end_time": "2023-02-10T23:36:51.173746Z",
     "start_time": "2023-02-10T23:36:51.158120Z"
    }
   },
   "outputs": [
    {
     "data": {
      "text/plain": [
       "['GCN_2_mut_0.1_cross_0.6_type_one_point_iter_3',\n",
       " 'GCN_3_mut_0.1_cross_0.6_type_one_point_iter_3',\n",
       " 'SAGE_1_mut_0.1_cross_0.6_type_one_point_iter_3',\n",
       " 'SAGE_2_mut_0.1_cross_0.6_type_one_point_iter_3',\n",
       " 'SAGE_3_mut_0.1_cross_0.6_type_one_point_iter_3']"
      ]
     },
     "execution_count": 30,
     "metadata": {},
     "output_type": "execute_result"
    }
   ],
   "source": [
    "import os\n",
    "d = os.listdir(\"./runs/eliminar\")\n",
    "d"
   ]
  },
  {
   "cell_type": "code",
   "execution_count": 35,
   "metadata": {
    "ExecuteTime": {
     "end_time": "2023-02-10T23:37:24.642829Z",
     "start_time": "2023-02-10T23:37:24.628881Z"
    }
   },
   "outputs": [
    {
     "data": {
      "text/plain": [
       "(array([-8.47486689,  5.6921779 ,  1.52711059,  6.91269772,  9.33249705,\n",
       "        -3.9491625 , -3.47851705,  4.29748694,  4.69300465, -8.42879934,\n",
       "        -7.93319268,  7.28797738,  7.51141674,  0.66667338, -3.20569348,\n",
       "        -9.0565023 , -8.31714373, -0.97849094,  0.32527263, -1.99087185,\n",
       "        -4.16313873,  5.72377743,  6.93897276,  5.10324972,  7.12146573,\n",
       "         1.7532162 , -5.34428925, -3.98711062,  6.01228096,  0.6243755 ,\n",
       "        -8.7505699 , -9.44079635,  6.49540221,  3.3076658 , -6.91576495,\n",
       "        -7.90962891,  2.93329363,  1.86988551,  5.37379304, -7.29669202,\n",
       "        -2.2094033 , -4.3084466 ,  1.74394816, -1.48407632, -6.02601239,\n",
       "         6.71921322,  4.00566146,  7.2200687 ,  4.06167025, -5.38340287,\n",
       "        -2.42981564,  7.34502628, -7.94427077, -9.16267109, -6.16295239,\n",
       "        -8.97583314,  5.10532425, -4.71714407, -7.65408508,  4.14980778,\n",
       "         0.54893249,  8.59517303, -8.7881952 , -0.48055179,  6.22609552,\n",
       "         8.67518163, -2.11848064, -5.35289706,  5.81760091, -4.54326506,\n",
       "         9.19611922,  5.68197419,  6.31742447, -5.9736804 ,  3.30809333,\n",
       "        -8.79004086, -1.80276202,  0.88120808,  4.36276902, -7.94970247,\n",
       "        -3.12478737, -0.91319459, -3.24993214, -3.84082696, -6.98484241,\n",
       "        -9.80422841, -9.96772554, -4.25045551, -5.57919169,  5.42552652,\n",
       "        -9.06904025, -6.25189238,  8.23757654,  0.367929  , -7.1457076 ,\n",
       "        -6.32198389,  3.00411324,  0.01892959, -4.45286597,  4.70992045,\n",
       "         2.66990797,  0.83521745,  9.10300197,  8.55500982, -2.47016466,\n",
       "        -2.93150928,  6.76281632, -4.04091775, -6.6795955 ,  2.63909829,\n",
       "        -0.04134127,  3.90634504, -1.97449098, -6.45360542, -9.64011205,\n",
       "         1.46119329, -0.18485562, -2.79813143,  0.20364144, -8.35695352,\n",
       "        -6.08029021,  4.81990722, -1.98055839, -8.94414698, -7.90727174,\n",
       "         0.40879711,  1.80630595,  6.14231389, -8.70107408,  5.11680419,\n",
       "         8.139068  ,  6.11934857,  8.60005247,  9.22269227, -4.73524478,\n",
       "         3.16329513, -6.77035486, -1.1736317 ,  6.97523234, -5.32324821,\n",
       "        -8.1206514 , -5.11104093,  4.27363562,  8.05696306, -8.40526306,\n",
       "         6.00950008, -5.33792019, -0.83214584, -6.64249239, -7.11322614,\n",
       "         6.1717564 ,  4.07567345, -4.2546258 , -9.50492135,  7.07363733,\n",
       "        -8.4233303 , -7.50332197, -7.44612308, -1.53992545, -4.78866122,\n",
       "         6.88452299,  5.5622467 , -0.67658197,  5.30927608,  9.49227361,\n",
       "        -0.91679484, -0.36660601,  4.05022793, -7.89400387, -2.75641594,\n",
       "        -3.07936089,  2.79413149,  9.14990361, -8.04730722,  0.21820402,\n",
       "         9.84462431,  1.79833378, -4.62026119, -9.92649329, -1.07786779,\n",
       "        -4.7111286 ,  4.05548406,  7.89452799, -6.19219556, -7.2732318 ,\n",
       "         9.23696411,  3.651494  ,  7.09022795,  2.605335  , -8.72990787,\n",
       "         8.7803718 , -2.44653856, -5.85473243, -5.32659677, -1.80773787,\n",
       "        -0.44952723, -4.68870199,  0.90596692,  4.56627032, -3.60922723,\n",
       "        -4.47295445, -6.30188907, -2.07645427,  3.86994924, -6.72797177,\n",
       "         5.55780084,  9.89321254,  8.58883773,  6.34834364, -0.70991484,\n",
       "        -0.75021612,  8.91071948, -1.63076293, -2.5583269 , -6.86985184,\n",
       "        -6.97509595, -1.47320486,  0.93493332,  2.49027182,  7.4949522 ,\n",
       "         0.93748838, -3.76510911, -9.62798652, -4.95532623, -0.11127003,\n",
       "        -4.78432968, -4.23496906, -7.58464729, -3.9507731 , -2.65849649,\n",
       "         0.53298217, -9.44435374,  8.3073688 , -4.42287323, -2.91139242,\n",
       "         0.60688561, -7.16458308, -5.75770313, -3.46256912,  7.52216451,\n",
       "         2.28744709,  0.29697041,  9.7052443 , -1.70589304,  4.29760197,\n",
       "        -7.5031433 , -7.03742029,  9.89086251, -6.3083475 ,  4.84175129,\n",
       "         7.52413923, -2.13524317, -1.62225815,  5.62125715,  0.23363549,\n",
       "        -2.25813879, -5.17275868,  7.07745941]),\n",
       " 258)"
      ]
     },
     "execution_count": 35,
     "metadata": {},
     "output_type": "execute_result"
    }
   ],
   "source": [
    "f =\"./runs/eliminar/\"+d[4]+\"/\"\n",
    "with open(f'{f}SAGE_iter_1.npy', 'rb') as f:\n",
    "    a = np.load(f, allow_pickle = True)\n",
    "    \n",
    "a, len(a)"
   ]
  },
  {
   "cell_type": "code",
   "execution_count": 28,
   "metadata": {
    "ExecuteTime": {
     "end_time": "2023-02-10T22:54:00.031269Z",
     "start_time": "2023-02-10T22:54:00.023297Z"
    }
   },
   "outputs": [
    {
     "data": {
      "text/plain": [
       "[0, 1, 2, 3, 4, 5, 6, 7, 8, 9, 10, 11, 12, 13, 14, 15, 16, 17, 18, 19]"
      ]
     },
     "execution_count": 28,
     "metadata": {},
     "output_type": "execute_result"
    }
   ],
   "source": [
    "d = [k for k in range(10)]\n",
    "d += [k for k in range(10,20)]\n",
    "d"
   ]
  },
  {
   "cell_type": "code",
   "execution_count": 29,
   "metadata": {
    "ExecuteTime": {
     "end_time": "2023-02-10T22:56:35.389731Z",
     "start_time": "2023-02-10T22:56:35.368800Z"
    }
   },
   "outputs": [
    {
     "data": {
      "text/plain": [
       "[1, 1, 1, 1, 1, 2, 2, 2, 2, 2, 3, 3, 3, 3, 3]"
      ]
     },
     "execution_count": 29,
     "metadata": {},
     "output_type": "execute_result"
    }
   ],
   "source": [
    "cant_layers = [1]*5\n",
    "cant_layers += [2]*5\n",
    "cant_layers += [3]*5\n",
    "cant_layers"
   ]
  },
  {
   "cell_type": "code",
   "execution_count": 13,
   "metadata": {
    "ExecuteTime": {
     "end_time": "2023-02-14T00:27:16.846359Z",
     "start_time": "2023-02-14T00:27:16.832095Z"
    }
   },
   "outputs": [],
   "source": [
    "import subprocess\n",
    "import os"
   ]
  },
  {
   "cell_type": "code",
   "execution_count": 69,
   "metadata": {
    "ExecuteTime": {
     "end_time": "2023-02-14T02:21:33.808320Z",
     "start_time": "2023-02-14T02:21:33.802824Z"
    }
   },
   "outputs": [],
   "source": [
    "os.chdir('../')"
   ]
  },
  {
   "cell_type": "code",
   "execution_count": 63,
   "metadata": {
    "ExecuteTime": {
     "end_time": "2023-02-14T02:17:28.257678Z",
     "start_time": "2023-02-14T02:17:28.245717Z"
    }
   },
   "outputs": [],
   "source": [
    "os.chdir('./Models/')"
   ]
  },
  {
   "cell_type": "code",
   "execution_count": 15,
   "metadata": {
    "ExecuteTime": {
     "end_time": "2023-02-14T00:27:29.982181Z",
     "start_time": "2023-02-14T00:27:29.971207Z"
    }
   },
   "outputs": [
    {
     "data": {
      "text/plain": [
       "'C:\\\\Users\\\\Jairo Enrique\\\\OneDrive - Instituto Tecnologico y de Estudios Superiores de Monterrey\\\\UAB\\\\IIIA\\\\GNN-BRKGA\\\\BRKGA'"
      ]
     },
     "execution_count": 15,
     "metadata": {},
     "output_type": "execute_result"
    }
   ],
   "source": [
    "%pwd"
   ]
  },
  {
   "cell_type": "code",
   "execution_count": 29,
   "metadata": {
    "ExecuteTime": {
     "end_time": "2023-02-14T00:32:00.271053Z",
     "start_time": "2023-02-14T00:32:00.244136Z"
    }
   },
   "outputs": [
    {
     "name": "stdout",
     "output_type": "stream",
     "text": [
      "None\n"
     ]
    }
   ],
   "source": [
    "## Shell=False helps the process terminate\n",
    "process = subprocess.Popen([\"./Ejemplo.exe\", \"hola\"])\n",
    "\n",
    "## Get exit codes\n",
    "out, err = process.communicate()\n",
    "errcode = process.returncode\n",
    "print(out)\n",
    "\n",
    "process.kill() \n",
    "process.terminate()"
   ]
  },
  {
   "cell_type": "code",
   "execution_count": 60,
   "metadata": {
    "ExecuteTime": {
     "end_time": "2023-02-14T02:10:48.601528Z",
     "start_time": "2023-02-14T02:10:48.587577Z"
    }
   },
   "outputs": [],
   "source": [
    "path_save = \"../Models/results/scalefree_MDH_socialnetworks/Pruebas_GA/TwoLayers/Results_SMS3.txt\"\n",
    "\n",
    "path_prob = \"../Models/probabilidades/scalefree_socialnetworks/Pruebas_GA/TwoLayers/\";\n",
    "\n",
    "model = \"SAGE30\""
   ]
  },
  {
   "cell_type": "code",
   "execution_count": 61,
   "metadata": {
    "ExecuteTime": {
     "end_time": "2023-02-14T02:10:51.704435Z",
     "start_time": "2023-02-14T02:10:48.929555Z"
    }
   },
   "outputs": [],
   "source": [
    "os.chdir('../BRKGA/')\n",
    "res = subprocess.run([\"./diffusion.exe\", \"-pp\", path_prob, \"-ps\", path_save, \"-m\", model])\n",
    "if res.returncode == 1:\n",
    "    print(\"No se logró\")\n"
   ]
  },
  {
   "cell_type": "code",
   "execution_count": 90,
   "metadata": {
    "ExecuteTime": {
     "end_time": "2023-02-14T02:51:22.054320Z",
     "start_time": "2023-02-14T02:51:06.982131Z"
    }
   },
   "outputs": [
    {
     "name": "stdout",
     "output_type": "stream",
     "text": [
      "No se logró\n"
     ]
    }
   ],
   "source": [
    "res = subprocess.run([\n",
    "sys.executable, \"ExtractProbabilitiesModels.py\", \"-pm\", \"runs/Erdos/Pruebas_GA/Allfeatures/\", \"-pi\",\n",
    "    \"../BRKGA/instances/socialnetworks/\", \"-ps\", \"runs/eliminar/\"])\n",
    "\n",
    "if res.returncode == 1:\n",
    "    print(\"No se logró\")"
   ]
  },
  {
   "cell_type": "code",
   "execution_count": 82,
   "metadata": {
    "ExecuteTime": {
     "end_time": "2023-02-14T02:31:43.508784Z",
     "start_time": "2023-02-14T02:31:43.491836Z"
    }
   },
   "outputs": [],
   "source": [
    "os.chdir('./Models')"
   ]
  },
  {
   "cell_type": "code",
   "execution_count": 89,
   "metadata": {
    "ExecuteTime": {
     "end_time": "2023-02-14T02:51:01.748061Z",
     "start_time": "2023-02-14T02:51:01.737097Z"
    }
   },
   "outputs": [
    {
     "data": {
      "text/plain": [
       "'C:\\\\Users\\\\Jairo Enrique\\\\OneDrive - Instituto Tecnologico y de Estudios Superiores de Monterrey\\\\UAB\\\\IIIA\\\\GNN-BRKGA\\\\Models'"
      ]
     },
     "execution_count": 89,
     "metadata": {},
     "output_type": "execute_result"
    }
   ],
   "source": [
    "%pwd"
   ]
  },
  {
   "cell_type": "code",
   "execution_count": 83,
   "metadata": {
    "ExecuteTime": {
     "end_time": "2023-02-14T02:31:44.780810Z",
     "start_time": "2023-02-14T02:31:44.771863Z"
    }
   },
   "outputs": [
    {
     "data": {
      "text/plain": [
       "'C:\\\\Users\\\\Jairo Enrique\\\\OneDrive - Instituto Tecnologico y de Estudios Superiores de Monterrey\\\\UAB\\\\IIIA\\\\GNN-BRKGA\\\\Models'"
      ]
     },
     "execution_count": 83,
     "metadata": {},
     "output_type": "execute_result"
    }
   ],
   "source": [
    "python ExtractProbabilitiesModels.py -pm \"runs/Erdos/Pruebas_GA/Allfeatures/\" -pi \"../BRKGA/instances/socialnetworks/\" -ps \"runs/eliminar/\""
   ]
  },
  {
   "cell_type": "code",
   "execution_count": null,
   "metadata": {},
   "outputs": [],
   "source": []
  },
  {
   "cell_type": "code",
   "execution_count": 10,
   "metadata": {
    "ExecuteTime": {
     "end_time": "2023-02-14T23:22:15.537930Z",
     "start_time": "2023-02-14T23:22:15.524933Z"
    }
   },
   "outputs": [
    {
     "data": {
      "text/plain": [
       "GNN()"
      ]
     },
     "execution_count": 10,
     "metadata": {},
     "output_type": "execute_result"
    }
   ],
   "source": [
    "GNN(num_node_features = 5, num_classes = 2, name_layer = \"SAGE\", num_layers = cant_layers)"
   ]
  },
  {
   "cell_type": "code",
   "execution_count": 18,
   "metadata": {
    "ExecuteTime": {
     "end_time": "2023-02-14T23:32:51.710459Z",
     "start_time": "2023-02-14T23:32:41.826427Z"
    }
   },
   "outputs": [],
   "source": [
    "import igraph\n",
    "import dgl\n",
    "import torch\n",
    "import time\n",
    "import os\n",
    "import networkx as nx\n",
    "from datetime import datetime\n",
    "import pandas as pd\n",
    "import sys\n",
    "sys.path.append(\"../FastCover/\")\n",
    "from utils import *\n",
    "import warnings\n",
    "warnings.filterwarnings('ignore')\n",
    "import argparse\n",
    "from models import GNN\n",
    "\n",
    "\n",
    "#v.g. python ExtractProbabilitiesModels.py -pm \"runs/Erdos/\" -pi \"../BRKGA/instances/Erdos/test/\" -ps \"./probabilidades/Erdos_Erdos/\"\n",
    "\n",
    "PATH_TO_TEST = \"../BRKGA/instances/socialnetworks/\"\n",
    "\n",
    "MDH = False\n",
    "\n",
    "PATH_SAVE_RESULTS = \"runs/eliminar/SAGE_3_mut_0.1_cross_0.6_type_one_point_iter_3/probs/\"\n",
    "\n",
    "PATH_SAVED_TRAINS = \"runs/eliminar/SAGE_3_mut_0.1_cross_0.6_type_one_point_iter_3/\"\n",
    "\n",
    "\n",
    "#PATH_TO_TEST = \"../BRKGA/instances/txt/\"\n",
    "#PATH_SAVED_TRAINS = \"runs/scalefree/\"\n",
    "#PATH_SAVE_RESULTS = 'probabilidades/scalefree/'\n",
    "\n",
    "Graphs = [graph for graph in os.listdir(PATH_TO_TEST + \"txt\") if \".txt\" in graph]\n",
    "\n",
    "NAME_SAVE_RESULTS = 'Models' #Change this\n",
    "\n",
    "Features = [None]*len(Graphs)\n",
    "\n",
    "if MDH:\n",
    "    num_features = 1\n",
    "else:\n",
    "    num_features = 5 # Change if needed\n",
    "\n",
    "    #graphFeatures = [feat for feat in os.listdir(PATH_TO_TEST+'feats') if \".txt\" in feat]\n",
    "    Features = []\n",
    "    for er in Graphs:\n",
    "        temp = []\n",
    "        #with open(PATH_TO_TEST+'feats/'+er) as f:\n",
    "        with open(PATH_TO_TEST+'feats/'+er.replace(\".txt\", \"_feat.txt\")) as f:\n",
    "            for line in f.readlines()[1:]:\n",
    "                feats = np.array(line.split(\",\"), dtype = float)\n",
    "                temp.append(feats)\n",
    "        \n",
    "        temp = np.array(temp)\n",
    "        #temp = np.delete(temp, 0, 1)\n",
    "        Features.append(temp)\n",
    "\n",
    "        \n",
    "\n",
    "\n",
    "\n",
    "device = torch.device('cuda' if torch.cuda.is_available() else 'cpu')\n",
    "\n",
    "use_cuda = False\n",
    "\n",
    "dt_string = datetime.now().strftime(\"%m-%d_%H-%M\")\n",
    "\n",
    "RUNS_LIST = [run for run in os.listdir(PATH_SAVED_TRAINS) if \".pt\" in run]\n",
    "\n",
    "SEEDS = []\n",
    "MODELS = []\n",
    "for run_name in RUNS_LIST:\n",
    "    SEEDS.append(run_name.split(\"_\")[3])\n",
    "    MODELS.append(run_name.split(\"_\")[0])\n",
    "    #EPOCHS.append(run_name.split(\"_\")[2])\n",
    "    \n",
    "records = []\n",
    "Total = len(Graphs)\n",
    "\n",
    "def save(name, model, out):\n",
    "    with open(f'{PATH_SAVE_RESULTS}{model}_{name}', 'w') as f:\n",
    "        out = out.detach().numpy()\n",
    "        e = 0.0001\n",
    "        for o in out:\n",
    "            f.write(str(np.round(o + e, 6)))\n",
    "            f.write(\"\\n\")\n",
    "\n"
   ]
  },
  {
   "cell_type": "code",
   "execution_count": 27,
   "metadata": {
    "ExecuteTime": {
     "end_time": "2023-02-14T23:35:28.392173Z",
     "start_time": "2023-02-14T23:35:21.857870Z"
    }
   },
   "outputs": [
    {
     "name": "stdout",
     "output_type": "stream",
     "text": [
      "\n",
      "Evaluation of model: SAGE3, seed: thr in SAGE3_seed_13_thr_5_date_02-14_17-27.pt\n",
      "\n",
      "Loading ../BRKGA/instances/socialnetworks/txt/Amazon0302.txt ...\n"
     ]
    },
    {
     "ename": "KeyboardInterrupt",
     "evalue": "",
     "output_type": "error",
     "traceback": [
      "\u001b[1;31m---------------------------------------------------------------------------\u001b[0m",
      "\u001b[1;31mKeyError\u001b[0m                                  Traceback (most recent call last)",
      "File \u001b[1;32m~\\.conda\\envs\\DataScience\\lib\\_collections_abc.py:666\u001b[0m, in \u001b[0;36mMapping.__contains__\u001b[1;34m(self, key)\u001b[0m\n\u001b[0;32m    665\u001b[0m \u001b[38;5;28;01mtry\u001b[39;00m:\n\u001b[1;32m--> 666\u001b[0m     \u001b[38;5;28;43mself\u001b[39;49m\u001b[43m[\u001b[49m\u001b[43mkey\u001b[49m\u001b[43m]\u001b[49m\n\u001b[0;32m    667\u001b[0m \u001b[38;5;28;01mexcept\u001b[39;00m \u001b[38;5;167;01mKeyError\u001b[39;00m:\n",
      "File \u001b[1;32m~\\.conda\\envs\\DataScience\\lib\\site-packages\\networkx\\classes\\coreviews.py:54\u001b[0m, in \u001b[0;36mAtlasView.__getitem__\u001b[1;34m(self, key)\u001b[0m\n\u001b[0;32m     53\u001b[0m \u001b[38;5;28;01mdef\u001b[39;00m \u001b[38;5;21m__getitem__\u001b[39m(\u001b[38;5;28mself\u001b[39m, key):\n\u001b[1;32m---> 54\u001b[0m     \u001b[38;5;28;01mreturn\u001b[39;00m \u001b[38;5;28;43mself\u001b[39;49m\u001b[38;5;241;43m.\u001b[39;49m\u001b[43m_atlas\u001b[49m\u001b[43m[\u001b[49m\u001b[43mkey\u001b[49m\u001b[43m]\u001b[49m\n",
      "\u001b[1;31mKeyError\u001b[0m: 104940",
      "\nDuring handling of the above exception, another exception occurred:\n",
      "\u001b[1;31mKeyboardInterrupt\u001b[0m                         Traceback (most recent call last)",
      "Input \u001b[1;32mIn [27]\u001b[0m, in \u001b[0;36m<cell line: 1>\u001b[1;34m()\u001b[0m\n\u001b[0;32m     18\u001b[0m name \u001b[38;5;241m=\u001b[39m file\u001b[38;5;241m.\u001b[39msplit(\u001b[38;5;124m\"\u001b[39m\u001b[38;5;124m.\u001b[39m\u001b[38;5;124m\"\u001b[39m)[\u001b[38;5;241m0\u001b[39m]\u001b[38;5;241m.\u001b[39mreplace(\u001b[38;5;124m\"\u001b[39m\u001b[38;5;124mgraph_\u001b[39m\u001b[38;5;124m\"\u001b[39m, \u001b[38;5;124m\"\u001b[39m\u001b[38;5;124m\"\u001b[39m)\n\u001b[0;32m     20\u001b[0m graph \u001b[38;5;241m=\u001b[39m igraph\u001b[38;5;241m.\u001b[39mGraph\u001b[38;5;241m.\u001b[39mRead_Edgelist(PATH_TO_TEST \u001b[38;5;241m+\u001b[39m\u001b[38;5;124m\"\u001b[39m\u001b[38;5;124mtxt/\u001b[39m\u001b[38;5;124m\"\u001b[39m\u001b[38;5;241m+\u001b[39m file, directed \u001b[38;5;241m=\u001b[39m \u001b[38;5;28;01mFalse\u001b[39;00m)\u001b[38;5;241m.\u001b[39mto_networkx()\n\u001b[1;32m---> 21\u001b[0m data \u001b[38;5;241m=\u001b[39m \u001b[43mConvert2DataSet\u001b[49m\u001b[43m(\u001b[49m\u001b[43m[\u001b[49m\u001b[43mgraph\u001b[49m\u001b[43m]\u001b[49m\u001b[43m,\u001b[49m\u001b[43m \u001b[49m\u001b[43m[\u001b[49m\u001b[43m[\u001b[49m\u001b[43m]\u001b[49m\u001b[43m]\u001b[49m\u001b[43m,\u001b[49m\u001b[43m \u001b[49m\u001b[43m[\u001b[49m\u001b[43mfeat\u001b[49m\u001b[43m]\u001b[49m\u001b[43m)\u001b[49m[\u001b[38;5;241m0\u001b[39m]\n\u001b[0;32m     24\u001b[0m \u001b[38;5;66;03m#G = graph.to_networkx().to_undirected()\u001b[39;00m\n\u001b[0;32m     26\u001b[0m n \u001b[38;5;241m=\u001b[39m \u001b[38;5;28mlen\u001b[39m(graph\u001b[38;5;241m.\u001b[39mnodes())\n",
      "File \u001b[1;32m~\\OneDrive - Instituto Tecnologico y de Estudios Superiores de Monterrey\\UAB\\IIIA\\GNN-BRKGA\\FastCover\\utils.py:214\u001b[0m, in \u001b[0;36mConvert2DataSet\u001b[1;34m(Graphs, Optimals, feats, scale)\u001b[0m\n\u001b[0;32m    211\u001b[0m labels \u001b[38;5;241m=\u001b[39m np\u001b[38;5;241m.\u001b[39mzeros(NumNodes)\n\u001b[0;32m    212\u001b[0m labels[OptimalSet] \u001b[38;5;241m=\u001b[39m \u001b[38;5;241m1\u001b[39m\n\u001b[1;32m--> 214\u001b[0m dataset \u001b[38;5;241m=\u001b[39m \u001b[43mCreateDataset\u001b[49m\u001b[43m(\u001b[49m\u001b[43mG\u001b[49m\u001b[43m,\u001b[49m\u001b[43m \u001b[49m\u001b[43mlabels\u001b[49m\u001b[43m,\u001b[49m\u001b[43m \u001b[49m\u001b[43mfeats\u001b[49m\u001b[43m \u001b[49m\u001b[38;5;241;43m=\u001b[39;49m\u001b[43m \u001b[49m\u001b[43mfeat\u001b[49m\u001b[43m,\u001b[49m\u001b[43m \u001b[49m\u001b[43mscale\u001b[49m\u001b[43m \u001b[49m\u001b[38;5;241;43m=\u001b[39;49m\u001b[43m \u001b[49m\u001b[43mscale\u001b[49m\u001b[43m)\u001b[49m\n\u001b[0;32m    215\u001b[0m data \u001b[38;5;241m=\u001b[39m dataset[\u001b[38;5;241m0\u001b[39m]\n\u001b[0;32m    217\u001b[0m data \u001b[38;5;241m=\u001b[39m  data\u001b[38;5;241m.\u001b[39mto(device)\n",
      "File \u001b[1;32m~\\OneDrive - Instituto Tecnologico y de Estudios Superiores de Monterrey\\UAB\\IIIA\\GNN-BRKGA\\FastCover\\create_dataset.py:10\u001b[0m, in \u001b[0;36mCreateDataset.__init__\u001b[1;34m(self, G, labels, transform, feats, scale)\u001b[0m\n\u001b[0;32m      7\u001b[0m \u001b[38;5;28;01mdef\u001b[39;00m \u001b[38;5;21m__init__\u001b[39m(\u001b[38;5;28mself\u001b[39m, G, labels, transform \u001b[38;5;241m=\u001b[39m \u001b[38;5;28;01mNone\u001b[39;00m, feats \u001b[38;5;241m=\u001b[39m \u001b[38;5;28;01mNone\u001b[39;00m, scale \u001b[38;5;241m=\u001b[39m \u001b[38;5;28;01mTrue\u001b[39;00m):\n\u001b[0;32m      8\u001b[0m     \u001b[38;5;28msuper\u001b[39m(CreateDataset, \u001b[38;5;28mself\u001b[39m)\u001b[38;5;241m.\u001b[39m\u001b[38;5;21m__init__\u001b[39m(\u001b[38;5;124m'\u001b[39m\u001b[38;5;124m.\u001b[39m\u001b[38;5;124m'\u001b[39m, transform, \u001b[38;5;28;01mNone\u001b[39;00m, \u001b[38;5;28;01mNone\u001b[39;00m)\n\u001b[1;32m---> 10\u001b[0m     adj \u001b[38;5;241m=\u001b[39m \u001b[43mnx\u001b[49m\u001b[38;5;241;43m.\u001b[39;49m\u001b[43mto_scipy_sparse_matrix\u001b[49m\u001b[43m(\u001b[49m\u001b[43mG\u001b[49m\u001b[43m)\u001b[49m\u001b[38;5;241m.\u001b[39mtocoo()\n\u001b[0;32m     11\u001b[0m     row \u001b[38;5;241m=\u001b[39m torch\u001b[38;5;241m.\u001b[39mfrom_numpy(adj\u001b[38;5;241m.\u001b[39mrow\u001b[38;5;241m.\u001b[39mastype(np\u001b[38;5;241m.\u001b[39mint64))\u001b[38;5;241m.\u001b[39mto(torch\u001b[38;5;241m.\u001b[39mlong)\n\u001b[0;32m     12\u001b[0m     col \u001b[38;5;241m=\u001b[39m torch\u001b[38;5;241m.\u001b[39mfrom_numpy(adj\u001b[38;5;241m.\u001b[39mcol\u001b[38;5;241m.\u001b[39mastype(np\u001b[38;5;241m.\u001b[39mint64))\u001b[38;5;241m.\u001b[39mto(torch\u001b[38;5;241m.\u001b[39mlong)\n",
      "File \u001b[1;32m~\\.conda\\envs\\DataScience\\lib\\site-packages\\networkx\\convert_matrix.py:892\u001b[0m, in \u001b[0;36mto_scipy_sparse_matrix\u001b[1;34m(G, nodelist, dtype, weight, format)\u001b[0m\n\u001b[0;32m    889\u001b[0m c \u001b[38;5;241m=\u001b[39m col \u001b[38;5;241m+\u001b[39m row\n\u001b[0;32m    890\u001b[0m \u001b[38;5;66;03m# selfloop entries get double counted when symmetrizing\u001b[39;00m\n\u001b[0;32m    891\u001b[0m \u001b[38;5;66;03m# so we subtract the data on the diagonal\u001b[39;00m\n\u001b[1;32m--> 892\u001b[0m selfloops \u001b[38;5;241m=\u001b[39m \u001b[38;5;28;43mlist\u001b[39;49m\u001b[43m(\u001b[49m\u001b[43mnx\u001b[49m\u001b[38;5;241;43m.\u001b[39;49m\u001b[43mselfloop_edges\u001b[49m\u001b[43m(\u001b[49m\u001b[43mG\u001b[49m\u001b[43m,\u001b[49m\u001b[43m \u001b[49m\u001b[43mdata\u001b[49m\u001b[38;5;241;43m=\u001b[39;49m\u001b[43mweight\u001b[49m\u001b[43m,\u001b[49m\u001b[43m \u001b[49m\u001b[43mdefault\u001b[49m\u001b[38;5;241;43m=\u001b[39;49m\u001b[38;5;241;43m1\u001b[39;49m\u001b[43m)\u001b[49m\u001b[43m)\u001b[49m\n\u001b[0;32m    893\u001b[0m \u001b[38;5;28;01mif\u001b[39;00m selfloops:\n\u001b[0;32m    894\u001b[0m     diag_index, diag_data \u001b[38;5;241m=\u001b[39m \u001b[38;5;28mzip\u001b[39m(\u001b[38;5;241m*\u001b[39m((index[u], \u001b[38;5;241m-\u001b[39mwt) \u001b[38;5;28;01mfor\u001b[39;00m u, v, wt \u001b[38;5;129;01min\u001b[39;00m selfloops))\n",
      "File \u001b[1;32m~\\.conda\\envs\\DataScience\\lib\\site-packages\\networkx\\classes\\function.py:1199\u001b[0m, in \u001b[0;36m<genexpr>\u001b[1;34m(.0)\u001b[0m\n\u001b[0;32m   1189\u001b[0m             \u001b[38;5;28;01mreturn\u001b[39;00m (\n\u001b[0;32m   1190\u001b[0m                 (n, n, d\u001b[38;5;241m.\u001b[39mget(data, default))\n\u001b[0;32m   1191\u001b[0m                 \u001b[38;5;28;01mfor\u001b[39;00m n, nbrs \u001b[38;5;129;01min\u001b[39;00m G\u001b[38;5;241m.\u001b[39madj\u001b[38;5;241m.\u001b[39mitems()\n\u001b[0;32m   1192\u001b[0m                 \u001b[38;5;28;01mif\u001b[39;00m n \u001b[38;5;129;01min\u001b[39;00m nbrs\n\u001b[0;32m   1193\u001b[0m                 \u001b[38;5;28;01mfor\u001b[39;00m d \u001b[38;5;129;01min\u001b[39;00m nbrs[n]\u001b[38;5;241m.\u001b[39mvalues()\n\u001b[0;32m   1194\u001b[0m             )\n\u001b[0;32m   1195\u001b[0m     \u001b[38;5;28;01melse\u001b[39;00m:\n\u001b[0;32m   1196\u001b[0m         \u001b[38;5;28;01mreturn\u001b[39;00m (\n\u001b[0;32m   1197\u001b[0m             (n, n, nbrs[n]\u001b[38;5;241m.\u001b[39mget(data, default))\n\u001b[0;32m   1198\u001b[0m             \u001b[38;5;28;01mfor\u001b[39;00m n, nbrs \u001b[38;5;129;01min\u001b[39;00m G\u001b[38;5;241m.\u001b[39madj\u001b[38;5;241m.\u001b[39mitems()\n\u001b[1;32m-> 1199\u001b[0m             \u001b[38;5;28;01mif\u001b[39;00m \u001b[43mn\u001b[49m\u001b[43m \u001b[49m\u001b[38;5;129;43;01min\u001b[39;49;00m\u001b[43m \u001b[49m\u001b[43mnbrs\u001b[49m\n\u001b[0;32m   1200\u001b[0m         )\n\u001b[0;32m   1201\u001b[0m \u001b[38;5;28;01melse\u001b[39;00m:\n\u001b[0;32m   1202\u001b[0m     \u001b[38;5;28;01mif\u001b[39;00m G\u001b[38;5;241m.\u001b[39mis_multigraph():\n",
      "File \u001b[1;32m~\\.conda\\envs\\DataScience\\lib\\_collections_abc.py:667\u001b[0m, in \u001b[0;36mMapping.__contains__\u001b[1;34m(self, key)\u001b[0m\n\u001b[0;32m    665\u001b[0m \u001b[38;5;28;01mtry\u001b[39;00m:\n\u001b[0;32m    666\u001b[0m     \u001b[38;5;28mself\u001b[39m[key]\n\u001b[1;32m--> 667\u001b[0m \u001b[38;5;28;01mexcept\u001b[39;00m \u001b[38;5;167;43;01mKeyError\u001b[39;49;00m:\n\u001b[0;32m    668\u001b[0m     \u001b[38;5;28;01mreturn\u001b[39;00m \u001b[38;5;28;01mFalse\u001b[39;00m\n\u001b[0;32m    669\u001b[0m \u001b[38;5;28;01melse\u001b[39;00m:\n",
      "\u001b[1;31mKeyboardInterrupt\u001b[0m: "
     ]
    }
   ],
   "source": [
    "for run_name, model, seed in zip(RUNS_LIST, MODELS, SEEDS):\n",
    "    print()\n",
    "    print(f\"Evaluation of model: {model}, seed: {seed} in {run_name}\")\n",
    "    print()\n",
    "    \n",
    "    #net = GNN(c_in = num_features, c_hidden = 100, c_out = 2, num_layers = 2, layer_name = model, dp_rate=0.1)\n",
    "    cant_layers = 1 if model[4:] == '' else int(model[4:])\n",
    "    net = GNN(num_node_features = 5, num_classes = 2, name_layer = model[:4], num_layers = cant_layers)\n",
    "    \n",
    "    net.load_state_dict(torch.load(PATH_SAVED_TRAINS+run_name))\n",
    "    \n",
    "    if use_cuda:\n",
    "        net.cuda()\n",
    "\n",
    "    c = 1\n",
    "    for file, feat in zip(Graphs, Features):\n",
    "            print(f\"Loading {PATH_TO_TEST}txt/{file} ...\")\n",
    "            name = file.split(\".\")[0].replace(\"graph_\", \"\")\n",
    "\n",
    "            graph = igraph.Graph.Read_Edgelist(PATH_TO_TEST +\"txt/\"+ file, directed = False).to_networkx()\n",
    "            data = Convert2DataSet([graph], [[]], [feat])[0]\n",
    "            \n",
    "\n",
    "            #G = graph.to_networkx().to_undirected()\n",
    "\n",
    "            n = len(graph.nodes())\n",
    "            \n",
    "            start_time = time.time()\n",
    "\n",
    "            # Puesto viene de un log softmax y queremos extraer las probs de que pertenezcan \n",
    "            # a la solución, lo cual está en la columna 1\n",
    "            out = torch.exp(net(data)).T[1]\n",
    "            \n",
    "            save(file, model, out)\n",
    "         \n",
    "           \n",
    "            c+=1\n",
    "print(f\"Evaluation has finnished successfully. \\nData saved in {PATH_SAVE_RESULTS}\")\n",
    "\n"
   ]
  },
  {
   "cell_type": "code",
   "execution_count": 2,
   "metadata": {
    "ExecuteTime": {
     "end_time": "2023-02-15T00:03:54.000703Z",
     "start_time": "2023-02-15T00:03:53.987704Z"
    }
   },
   "outputs": [],
   "source": [
    "import subprocess"
   ]
  },
  {
   "cell_type": "code",
   "execution_count": 8,
   "metadata": {
    "ExecuteTime": {
     "end_time": "2023-02-15T01:07:26.964895Z",
     "start_time": "2023-02-15T01:02:38.671952Z"
    }
   },
   "outputs": [
    {
     "name": "stdout",
     "output_type": "stream",
     "text": [
      "Se logró\n"
     ]
    }
   ],
   "source": [
    "path_save = \"runs/eliminar/SAGE_3_mut_0.1_cross_0.6_type_one_point_iter_3/\"\n",
    "\n",
    "path_prob = \"runs/eliminar/SAGE_3_mut_0.1_cross_0.6_type_one_point_iter_3/probs/\";\n",
    "\n",
    "model = \"SAGE3\"\n",
    "\n",
    "res = subprocess.run([\"./diffusion.exe\", \"-pp\", path_prob, \"-ps\", path_save, \"-m\", model])\n",
    "if res.returncode == 1:\n",
    "    print(\"No se logró\")\n",
    "elif res.returncode == 0:\n",
    "    print(\"Se logró\")"
   ]
  },
  {
   "cell_type": "code",
   "execution_count": 4,
   "metadata": {
    "ExecuteTime": {
     "end_time": "2023-02-15T00:05:36.690023Z",
     "start_time": "2023-02-15T00:05:36.672068Z"
    }
   },
   "outputs": [
    {
     "data": {
      "text/plain": [
       "'./diffusion.exe -pp /runs/eliminar/SAGE_3_mut_0.1_cross_0.6_type_one_point_iter_3/probs/ -ps /runs/eliminar/SAGE_3_mut_0.1_cross_0.6_type_one_point_iter_3/Results.txt -m SAGE'"
      ]
     },
     "execution_count": 4,
     "metadata": {},
     "output_type": "execute_result"
    }
   ],
   "source": [
    "f\"./diffusion.exe -pp {path_prob} -ps {path_save} -m {model}\"\n"
   ]
  },
  {
   "cell_type": "code",
   "execution_count": 10,
   "metadata": {
    "ExecuteTime": {
     "end_time": "2023-02-15T01:36:56.159829Z",
     "start_time": "2023-02-15T01:36:56.145868Z"
    }
   },
   "outputs": [
    {
     "data": {
      "text/plain": [
       "'hol'"
      ]
     },
     "execution_count": 10,
     "metadata": {},
     "output_type": "execute_result"
    }
   ],
   "source": [
    "\"hola\"[:-1]"
   ]
  }
 ],
 "metadata": {
  "hide_input": false,
  "kernelspec": {
   "display_name": "Python 3 (ipykernel)",
   "language": "python",
   "name": "python3"
  },
  "language_info": {
   "codemirror_mode": {
    "name": "ipython",
    "version": 3
   },
   "file_extension": ".py",
   "mimetype": "text/x-python",
   "name": "python",
   "nbconvert_exporter": "python",
   "pygments_lexer": "ipython3",
   "version": "3.8.5"
  },
  "varInspector": {
   "cols": {
    "lenName": 16,
    "lenType": 16,
    "lenVar": 40
   },
   "kernels_config": {
    "python": {
     "delete_cmd_postfix": "",
     "delete_cmd_prefix": "del ",
     "library": "var_list.py",
     "varRefreshCmd": "print(var_dic_list())"
    },
    "r": {
     "delete_cmd_postfix": ") ",
     "delete_cmd_prefix": "rm(",
     "library": "var_list.r",
     "varRefreshCmd": "cat(var_dic_list()) "
    }
   },
   "types_to_exclude": [
    "module",
    "function",
    "builtin_function_or_method",
    "instance",
    "_Feature"
   ],
   "window_display": false
  }
 },
 "nbformat": 4,
 "nbformat_minor": 4
}
