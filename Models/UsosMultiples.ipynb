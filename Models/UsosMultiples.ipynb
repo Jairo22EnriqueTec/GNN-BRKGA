{
 "cells": [
  {
   "cell_type": "code",
   "execution_count": 17,
   "metadata": {
    "ExecuteTime": {
     "end_time": "2022-11-26T14:25:04.429396Z",
     "start_time": "2022-11-26T14:25:04.400854Z"
    }
   },
   "outputs": [],
   "source": [
    "import networkx as nx\n",
    "import numpy as np\n",
    "import torch\n",
    "from datetime import datetime\n",
    "import os\n",
    "import torch.nn as nn\n",
    "import torch.nn.functional as F\n",
    "from torch_geometric.nn import GCNConv\n",
    "import matplotlib.pyplot as plt\n",
    "from icecream import ic\n",
    "\n",
    "ic.configureOutput(\"debug | -> \")\n",
    "\n",
    "import pandas as pd\n",
    "import torch_geometric.transforms as T\n",
    "\n",
    "#from create_dataset import CreateDataset\n",
    "\n",
    "from models import GNNModel\n",
    "\n",
    "import sys\n",
    "sys.path.append(\"../FastCover/\")\n",
    "from utils import *"
   ]
  },
  {
   "cell_type": "code",
   "execution_count": 71,
   "metadata": {
    "ExecuteTime": {
     "end_time": "2022-11-26T14:44:11.307014Z",
     "start_time": "2022-11-26T14:44:11.275921Z"
    }
   },
   "outputs": [],
   "source": [
    "PATH_SAVE_TRAINS_CHECKPOINTS = 'runs/scalefree/checkpoints/'\n",
    "PATH_SAVE_TRAINS = 'runs/scalefree/'\n",
    "PATH_TO_TRAIN = \"../BRKGA/instances/scalefree/\"\n",
    "\n",
    "num_features = 1\n",
    "num_classes  = 2\n",
    "\n",
    "threshold = 0.5\n",
    "\n",
    "optimizer_name = \"Adam\"\n",
    "lr = 1e-3\n",
    "epochs = 21\n",
    "\n",
    "SEED = 13\n",
    "\n",
    "device = torch.device('cuda' if torch.cuda.is_available() else 'cpu')\n",
    "\n",
    "layers = [\"GCN\", \"GAT\",\"GraphConv\", \"SAGE\"]\n",
    "#layers = [\"SAGE\"]\n",
    "\n",
    "Models = [GNNModel(c_in = 1, c_hidden = 100, c_out = 2, num_layers = 2, layer_name = layer_name, dp_rate=0.1) for \n",
    "         layer_name in layers]"
   ]
  },
  {
   "cell_type": "code",
   "execution_count": 63,
   "metadata": {
    "ExecuteTime": {
     "end_time": "2022-11-26T14:39:41.736600Z",
     "start_time": "2022-11-26T14:39:40.964792Z"
    }
   },
   "outputs": [],
   "source": [
    "Instances = [graph for graph in os.listdir(PATH_TO_TRAIN + 'txt')]\n",
    "\n",
    "graphs = []\n",
    "for er in Instances:\n",
    "    graph = igraph.Graph.Read_Edgelist(PATH_TO_TRAIN+\"txt/\"+er, directed = False)\n",
    "    graphs.append(graph.to_networkx())    \n",
    "\n",
    "OptInstances = [graph for graph in os.listdir(PATH_TO_TRAIN+'optimal')]\n",
    "Solutions = []\n",
    "for er in OptInstances:\n",
    "    opt = []\n",
    "    with open(PATH_TO_TRAIN+'optimal/'+er) as f:\n",
    "        for line in f.readlines():\n",
    "            opt.append(int(line.replace(\"\\n\", \"\")))\n",
    "    Solutions.append(opt)"
   ]
  },
  {
   "cell_type": "code",
   "execution_count": 14,
   "metadata": {
    "ExecuteTime": {
     "end_time": "2022-11-26T14:22:53.932443Z",
     "start_time": "2022-11-26T14:22:53.697280Z"
    }
   },
   "outputs": [
    {
     "data": {
      "text/plain": [
       "(array([868., 100.,  19.,   4.,   4.,   2.,   0.,   1.,   0.,   1.]),\n",
       " array([  1. ,  15.4,  29.8,  44.2,  58.6,  73. ,  87.4, 101.8, 116.2,\n",
       "        130.6, 145. ]),\n",
       " <BarContainer object of 10 artists>)"
      ]
     },
     "execution_count": 14,
     "metadata": {},
     "output_type": "execute_result"
    },
    {
     "data": {
      "image/png": "[encoded data removed]",
      "text/plain": [
       "<Figure size 640x480 with 1 Axes>"
      ]
     },
     "metadata": {},
     "output_type": "display_data"
    }
   ],
   "source": [
    "plt.hist(nx.degree(graph))"
   ]
  },
  {
   "cell_type": "code",
   "execution_count": 4,
   "metadata": {
    "ExecuteTime": {
     "end_time": "2022-11-08T11:01:46.214842Z",
     "start_time": "2022-11-08T11:01:46.192840Z"
    }
   },
   "outputs": [],
   "source": [
    "from torch_geometric.nn import GCNConv, GINConv\n",
    "import torch\n",
    "import torch.nn.functional as F\n",
    "from torch.nn import Linear, Sequential, BatchNorm1d, ReLU, Dropout\n",
    "from torch_geometric.nn import GCNConv, GINConv\n",
    "from torch_geometric.nn import global_mean_pool, global_add_pool\n",
    "\n",
    "class GIN(torch.nn.Module):\n",
    "    \"\"\"GIN\"\"\"\n",
    "    def __init__(self, dim_h, num_features, num_classes):\n",
    "        super(GIN, self).__init__()\n",
    "        self.conv1 = GINConv(\n",
    "            Sequential(Linear(num_features, dim_h),\n",
    "                       BatchNorm1d(dim_h), ReLU(),\n",
    "                       Linear(dim_h, dim_h), ReLU()))\n",
    "        self.conv2 = GINConv(\n",
    "            Sequential(Linear(dim_h, dim_h), BatchNorm1d(dim_h), ReLU(),\n",
    "                       Linear(dim_h, dim_h), ReLU()))\n",
    "        self.conv3 = GINConv(\n",
    "            Sequential(Linear(dim_h, dim_h), BatchNorm1d(dim_h), ReLU(),\n",
    "                       Linear(dim_h, dim_h), ReLU()))\n",
    "        \n",
    "        self.lin1 = Linear(dim_h*3, dim_h*3)\n",
    "        self.lin2 = Linear(dim_h*3, num_classes)\n",
    "\n",
    "    def forward(self, x, edge_index, batch):\n",
    "        # Node embeddings \n",
    "        h1 = self.conv1(x, edge_index)\n",
    "        h2 = self.conv2(h1, edge_index)\n",
    "        h3 = self.conv3(h2, edge_index)\n",
    "        #print(h3.detach().numpy().shape)\n",
    "        x = Linear(2, 1000)(h3)\n",
    "        print(x.detach().numpy().shape)\n",
    "        # num_nodes x 1\n",
    "        # aquí le tengo que aplicar una función para que cambie a num_nodes x num_classes\n",
    "        # y ya solo regresar el softmax\n",
    "        #return h3\n",
    "\n",
    "        # Graph-level readout\n",
    "        h1 = global_add_pool(h1, batch)\n",
    "        h2 = global_add_pool(h2, batch)\n",
    "        h3 = global_add_pool(h3, batch)\n",
    "        # 1 x 1 due to global pooling\n",
    "        \n",
    "        print(h3.detach().numpy().shape)\n",
    "\n",
    "        # Concatenate graph embeddings\n",
    "        h = torch.cat((h1, h2, h3), dim=1)\n",
    "        #3x1 due to concat\n",
    "\n",
    "        # Classifier\n",
    "        h = self.lin1(h)\n",
    "        h = h.relu()\n",
    "        h = F.dropout(h, p=0.5, training=self.training)\n",
    "        h = self.lin2(h)\n",
    "        #3 x num_classes due to \n",
    "        \n",
    "        return h, F.log_softmax(h, dim=1)"
   ]
  },
  {
   "cell_type": "code",
   "execution_count": 65,
   "metadata": {
    "ExecuteTime": {
     "end_time": "2022-11-26T14:39:47.850818Z",
     "start_time": "2022-11-26T14:39:46.103949Z"
    }
   },
   "outputs": [
    {
     "name": "stderr",
     "output_type": "stream",
     "text": [
      "debug | -> i: 0\n",
      "debug | -> i: 1\n",
      "debug | -> i: 2\n",
      "debug | -> i: 3\n",
      "debug | -> i: 4\n",
      "debug | -> i: 5\n",
      "debug | -> i: 6\n",
      "debug | -> i: 7\n",
      "debug | -> i: 8\n",
      "debug | -> i: 9\n",
      "debug | -> i: 10\n",
      "debug | -> i: 11\n",
      "debug | -> i: 12\n",
      "debug | -> i: 13\n",
      "debug | -> i: 14\n",
      "debug | -> i: 15\n",
      "debug | -> i: 16\n",
      "debug | -> i: 17\n",
      "debug | -> i: 18\n",
      "debug | -> i: 19\n"
     ]
    }
   ],
   "source": [
    "Graphs_Train = Convert2DataSet(graphs, Solutions)\n",
    "num_features = Graphs_Train[0].num_features\n",
    "num_classes = Graphs_Train[0].num_classes"
   ]
  },
  {
   "cell_type": "code",
   "execution_count": 119,
   "metadata": {
    "ExecuteTime": {
     "end_time": "2022-11-05T15:08:53.442190Z",
     "start_time": "2022-11-05T15:08:53.422193Z"
    }
   },
   "outputs": [],
   "source": [
    "gin = GIN(dim_h = 1, num_classes = num_classes, num_features = num_features)"
   ]
  },
  {
   "cell_type": "code",
   "execution_count": 28,
   "metadata": {
    "ExecuteTime": {
     "end_time": "2022-11-05T13:31:17.209075Z",
     "start_time": "2022-11-05T13:31:17.201075Z"
    }
   },
   "outputs": [],
   "source": [
    "Models.append(gin)\n",
    "layers.append('GIN')"
   ]
  },
  {
   "cell_type": "markdown",
   "metadata": {},
   "source": [
    "## Train"
   ]
  },
  {
   "cell_type": "code",
   "execution_count": 69,
   "metadata": {
    "ExecuteTime": {
     "end_time": "2022-11-26T14:42:36.155145Z",
     "start_time": "2022-11-26T14:42:36.141733Z"
    }
   },
   "outputs": [],
   "source": [
    "def train(model, optimizer, data):\n",
    "        optimizer.zero_grad()\n",
    "\n",
    "        F.nll_loss(model(data.x, data.edge_index), data.y).backward()\n",
    "        optimizer.step()\n",
    "        return model, optimizer\n",
    "      \n",
    "    \n",
    "@torch.no_grad()\n",
    "def test(data, model):\n",
    "  model.eval()\n",
    "  logits = model(data.x, data.edge_index)\n",
    "  pred = logits.max(1)[1]\n",
    "  acc = pred.eq(data.y).sum().item() / data.num_nodes\n",
    "  return acc"
   ]
  },
  {
   "cell_type": "code",
   "execution_count": 72,
   "metadata": {
    "ExecuteTime": {
     "end_time": "2022-11-26T14:45:33.271717Z",
     "start_time": "2022-11-26T14:44:21.555672Z"
    }
   },
   "outputs": [
    {
     "name": "stdout",
     "output_type": "stream",
     "text": [
      "\n",
      " ----- Model:GCN -----\n",
      "Epoch 5 saved for GCN.\n",
      "\n",
      "Mean Acc: 0.89445\n",
      "\n",
      "Epoch 10 saved for GCN.\n",
      "\n",
      "Mean Acc: 0.89445\n",
      "\n",
      "Epoch 15 saved for GCN.\n",
      "\n",
      "Mean Acc: 0.89445\n",
      "\n",
      "Epoch 20 saved for GCN.\n",
      "\n",
      "Mean Acc: 0.89445\n",
      "\n",
      "GCN saved in runs/scalefree/\n",
      "\n",
      "\n",
      " ----- Model:GAT -----\n",
      "Epoch 5 saved for GAT.\n",
      "\n",
      "Mean Acc: 0.89445\n",
      "\n",
      "Epoch 10 saved for GAT.\n",
      "\n",
      "Mean Acc: 0.89445\n",
      "\n",
      "Epoch 15 saved for GAT.\n",
      "\n",
      "Mean Acc: 0.89445\n",
      "\n",
      "Epoch 20 saved for GAT.\n",
      "\n",
      "Mean Acc: 0.89445\n",
      "\n",
      "GAT saved in runs/scalefree/\n",
      "\n",
      "\n",
      " ----- Model:GraphConv -----\n",
      "Epoch 5 saved for GraphConv.\n",
      "\n",
      "Mean Acc: 0.8436\n",
      "\n",
      "Epoch 10 saved for GraphConv.\n",
      "\n",
      "Mean Acc: 0.89445\n",
      "\n",
      "Epoch 15 saved for GraphConv.\n",
      "\n",
      "Mean Acc: 0.8366999999999999\n",
      "\n",
      "Epoch 20 saved for GraphConv.\n",
      "\n",
      "Mean Acc: 0.89825\n",
      "\n",
      "GraphConv saved in runs/scalefree/\n",
      "\n",
      "\n",
      " ----- Model:SAGE -----\n",
      "Epoch 5 saved for SAGE.\n",
      "\n",
      "Mean Acc: 0.89445\n",
      "\n",
      "Epoch 10 saved for SAGE.\n",
      "\n",
      "Mean Acc: 0.9314000000000002\n",
      "\n",
      "Epoch 15 saved for SAGE.\n",
      "\n",
      "Mean Acc: 0.9525000000000002\n",
      "\n",
      "Epoch 20 saved for SAGE.\n",
      "\n",
      "Mean Acc: 0.9588999999999999\n",
      "\n",
      "SAGE saved in runs/scalefree/\n",
      "\n"
     ]
    }
   ],
   "source": [
    "torch.manual_seed(SEED)\n",
    "for i in range(len(Models)):\n",
    "    print()\n",
    "    print(f\" ----- Model:{layers[i]} -----\")\n",
    "    optimizer = getattr(torch.optim, optimizer_name)(Models[i].parameters(), lr = lr)\n",
    "\n",
    "    for epoch in range(1, epochs):\n",
    "        \n",
    "        for data in Graphs_Train:\n",
    "            train(Models[i], optimizer, data)\n",
    "        \n",
    "        if epoch%5 == 0:\n",
    "            #torch.save(Models[i].state_dict(), f=f\"{PATH_SAVE_TRAINS_CHECKPOINTS}Checkpoint-model-{layers[i]}-epoch-{epoch}.pt\")\n",
    "            print(f\"Epoch {epoch} saved for {layers[i]}.\\n\")\n",
    "        \n",
    "            Acc = []\n",
    "\n",
    "            for data in Graphs_Train:\n",
    "                Acc.append(test(data, Models[i]))\n",
    "            print(f\"Mean Acc: {np.mean(Acc)}\")\n",
    "            print()\n",
    "        \n",
    "    dt_string = datetime.now().strftime(\"%m-%d_%H-%M\")\n",
    "    torch.save(Models[i].state_dict(), f=f\"{PATH_SAVE_TRAINS}{layers[i]}_seed_{SEED}_thr_{int(threshold*10)}_date_{dt_string}.pt\")\n",
    "    \n",
    "    print(f\"{layers[i]} saved in {PATH_SAVE_TRAINS}\\n\")"
   ]
  }
 ],
 "metadata": {
  "hide_input": false,
  "kernelspec": {
   "display_name": "Python 3 (ipykernel)",
   "language": "python",
   "name": "python3"
  },
  "language_info": {
   "codemirror_mode": {
    "name": "ipython",
    "version": 3
   },
   "file_extension": ".py",
   "mimetype": "text/x-python",
   "name": "python",
   "nbconvert_exporter": "python",
   "pygments_lexer": "ipython3",
   "version": "3.8.5"
  },
  "varInspector": {
   "cols": {
    "lenName": 16,
    "lenType": 16,
    "lenVar": 40
   },
   "kernels_config": {
    "python": {
     "delete_cmd_postfix": "",
     "delete_cmd_prefix": "del ",
     "library": "var_list.py",
     "varRefreshCmd": "print(var_dic_list())"
    },
    "r": {
     "delete_cmd_postfix": ") ",
     "delete_cmd_prefix": "rm(",
     "library": "var_list.r",
     "varRefreshCmd": "cat(var_dic_list()) "
    }
   },
   "types_to_exclude": [
    "module",
    "function",
    "builtin_function_or_method",
    "instance",
    "_Feature"
   ],
   "window_display": false
  }
 },
 "nbformat": 4,
 "nbformat_minor": 4
}
