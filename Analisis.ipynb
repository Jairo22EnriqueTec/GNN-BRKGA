{
 "cells": [
  {
   "cell_type": "code",
   "execution_count": 23,
   "id": "5cdc2e61",
   "metadata": {
    "ExecuteTime": {
     "end_time": "2022-12-01T19:06:45.429948Z",
     "start_time": "2022-12-01T19:06:45.358699Z"
    }
   },
   "outputs": [],
   "source": [
    "import numpy as np\n",
    "import pandas as pd\n",
    "import plotly.express as px\n",
    "import seaborn as sns\n",
    "import matplotlib.pyplot as plt"
   ]
  },
  {
   "cell_type": "code",
   "execution_count": 24,
   "id": "d4169fc4",
   "metadata": {
    "ExecuteTime": {
     "end_time": "2022-12-01T19:06:45.958543Z",
     "start_time": "2022-12-01T19:06:45.683073Z"
    }
   },
   "outputs": [
    {
     "data": {
      "text/html": [
       "<div>\n",
       "<style scoped>\n",
       "    .dataframe tbody tr th:only-of-type {\n",
       "        vertical-align: middle;\n",
       "    }\n",
       "\n",
       "    .dataframe tbody tr th {\n",
       "        vertical-align: top;\n",
       "    }\n",
       "\n",
       "    .dataframe thead th {\n",
       "        text-align: right;\n",
       "    }\n",
       "</style>\n",
       "<table border=\"1\" class=\"dataframe\">\n",
       "  <thead>\n",
       "    <tr style=\"text-align: right;\">\n",
       "      <th></th>\n",
       "      <th>graph</th>\n",
       "      <th>model</th>\n",
       "      <th>n_covered</th>\n",
       "      <th>n</th>\n",
       "      <th>t_mean</th>\n",
       "    </tr>\n",
       "  </thead>\n",
       "  <tbody>\n",
       "    <tr>\n",
       "      <th>0</th>\n",
       "      <td>graph_football</td>\n",
       "      <td>GRAT</td>\n",
       "      <td>32</td>\n",
       "      <td>115</td>\n",
       "      <td>0.000</td>\n",
       "    </tr>\n",
       "    <tr>\n",
       "      <th>1</th>\n",
       "      <td>graph_jazz</td>\n",
       "      <td>GRAT</td>\n",
       "      <td>37</td>\n",
       "      <td>198</td>\n",
       "      <td>0.000</td>\n",
       "    </tr>\n",
       "    <tr>\n",
       "      <th>2</th>\n",
       "      <td>graph_karate</td>\n",
       "      <td>GRAT</td>\n",
       "      <td>9</td>\n",
       "      <td>62</td>\n",
       "      <td>0.000</td>\n",
       "    </tr>\n",
       "    <tr>\n",
       "      <th>3</th>\n",
       "      <td>graph_CA-CondMat</td>\n",
       "      <td>GRAT</td>\n",
       "      <td>3160</td>\n",
       "      <td>23133</td>\n",
       "      <td>0.480</td>\n",
       "    </tr>\n",
       "    <tr>\n",
       "      <th>4</th>\n",
       "      <td>gemsec_facebook_artist</td>\n",
       "      <td>GRAT</td>\n",
       "      <td>1699</td>\n",
       "      <td>50515</td>\n",
       "      <td>0.577</td>\n",
       "    </tr>\n",
       "  </tbody>\n",
       "</table>\n",
       "</div>"
      ],
      "text/plain": [
       "                    graph model  n_covered      n  t_mean\n",
       "0          graph_football  GRAT         32    115   0.000\n",
       "1              graph_jazz  GRAT         37    198   0.000\n",
       "2            graph_karate  GRAT          9     62   0.000\n",
       "3        graph_CA-CondMat  GRAT       3160  23133   0.480\n",
       "4  gemsec_facebook_artist  GRAT       1699  50515   0.577"
      ]
     },
     "execution_count": 24,
     "metadata": {},
     "output_type": "execute_result"
    }
   ],
   "source": [
    "FastCover = pd.read_csv(\"FastCover/results/scalefree/justprob/FastCoverResults_scalefree.txt\", header = None)\n",
    "#FastCover = pd.read_csv(\"FastCover/results/paper/FastCoverResults_MDH_erdos.txt\", header = None)\n",
    "FastCover.columns = [\"graph\", \"n_covered\",\"t_mean\",\"n\"]\n",
    "FastCover[\"model\"] = \"GRAT\"\n",
    "FastCover = FastCover[[\"graph\", \"model\",\"n_covered\", \"n\", \"t_mean\"]]\n",
    "FastCover.head()"
   ]
  },
  {
   "cell_type": "code",
   "execution_count": 25,
   "id": "122c71a7",
   "metadata": {
    "ExecuteTime": {
     "end_time": "2022-12-01T19:06:46.194261Z",
     "start_time": "2022-12-01T19:06:46.121209Z"
    }
   },
   "outputs": [
    {
     "data": {
      "text/html": [
       "<div>\n",
       "<style scoped>\n",
       "    .dataframe tbody tr th:only-of-type {\n",
       "        vertical-align: middle;\n",
       "    }\n",
       "\n",
       "    .dataframe tbody tr th {\n",
       "        vertical-align: top;\n",
       "    }\n",
       "\n",
       "    .dataframe thead th {\n",
       "        text-align: right;\n",
       "    }\n",
       "</style>\n",
       "<table border=\"1\" class=\"dataframe\">\n",
       "  <thead>\n",
       "    <tr style=\"text-align: right;\">\n",
       "      <th></th>\n",
       "      <th>graph</th>\n",
       "      <th>model</th>\n",
       "      <th>n_covered</th>\n",
       "      <th>n</th>\n",
       "      <th>t_mean</th>\n",
       "    </tr>\n",
       "  </thead>\n",
       "  <tbody>\n",
       "    <tr>\n",
       "      <th>0</th>\n",
       "      <td>graph_football</td>\n",
       "      <td>GAT</td>\n",
       "      <td>37</td>\n",
       "      <td>115</td>\n",
       "      <td>0.000</td>\n",
       "    </tr>\n",
       "    <tr>\n",
       "      <th>1</th>\n",
       "      <td>graph_jazz</td>\n",
       "      <td>GAT</td>\n",
       "      <td>84</td>\n",
       "      <td>198</td>\n",
       "      <td>0.004</td>\n",
       "    </tr>\n",
       "    <tr>\n",
       "      <th>2</th>\n",
       "      <td>graph_karate</td>\n",
       "      <td>GAT</td>\n",
       "      <td>15</td>\n",
       "      <td>62</td>\n",
       "      <td>0.000</td>\n",
       "    </tr>\n",
       "    <tr>\n",
       "      <th>3</th>\n",
       "      <td>graph_CA-CondMat</td>\n",
       "      <td>GAT</td>\n",
       "      <td>8124</td>\n",
       "      <td>23133</td>\n",
       "      <td>1.888</td>\n",
       "    </tr>\n",
       "    <tr>\n",
       "      <th>4</th>\n",
       "      <td>gemsec_facebook_artist</td>\n",
       "      <td>GAT</td>\n",
       "      <td>20032</td>\n",
       "      <td>50515</td>\n",
       "      <td>7.927</td>\n",
       "    </tr>\n",
       "  </tbody>\n",
       "</table>\n",
       "</div>"
      ],
      "text/plain": [
       "                    graph model  n_covered      n  t_mean\n",
       "0          graph_football   GAT         37    115   0.000\n",
       "1              graph_jazz   GAT         84    198   0.004\n",
       "2            graph_karate   GAT         15     62   0.000\n",
       "3        graph_CA-CondMat   GAT       8124  23133   1.888\n",
       "4  gemsec_facebook_artist   GAT      20032  50515   7.927"
      ]
     },
     "execution_count": 25,
     "metadata": {},
     "output_type": "execute_result"
    }
   ],
   "source": [
    "models = ['GAT', \"GCN\", \"GraphConv\", \"SAGE\"]\n",
    "Full = pd.DataFrame()\n",
    "\n",
    "for model in models:\n",
    "    GNN = pd.read_csv(f\"Models/results/scalefree/justprob/{model}Results_scalefree.txt\", header = None)\n",
    "    #GNN = pd.read_csv(f\"Models/results/paper/{model}Results_MDH_erdos.txt\", header = None)\n",
    "    \n",
    "    GNN.columns = [\"graph\", \"n_covered\",\"t_mean\",\"n\"]\n",
    "    GNN[\"model\"] = model\n",
    "    GNN = GNN[[\"graph\", \"model\",\"n_covered\", \"n\", \"t_mean\"]]\n",
    "    \n",
    "    Full = pd.concat([Full, GNN])\n",
    "Full.head()"
   ]
  },
  {
   "cell_type": "code",
   "execution_count": 26,
   "id": "66d5a85f",
   "metadata": {
    "ExecuteTime": {
     "end_time": "2022-12-01T19:06:46.427965Z",
     "start_time": "2022-12-01T19:06:46.410880Z"
    }
   },
   "outputs": [
    {
     "data": {
      "text/html": [
       "<div>\n",
       "<style scoped>\n",
       "    .dataframe tbody tr th:only-of-type {\n",
       "        vertical-align: middle;\n",
       "    }\n",
       "\n",
       "    .dataframe tbody tr th {\n",
       "        vertical-align: top;\n",
       "    }\n",
       "\n",
       "    .dataframe thead th {\n",
       "        text-align: right;\n",
       "    }\n",
       "</style>\n",
       "<table border=\"1\" class=\"dataframe\">\n",
       "  <thead>\n",
       "    <tr style=\"text-align: right;\">\n",
       "      <th></th>\n",
       "      <th>graph</th>\n",
       "      <th>model</th>\n",
       "      <th>n_covered</th>\n",
       "      <th>n</th>\n",
       "      <th>t_mean</th>\n",
       "    </tr>\n",
       "  </thead>\n",
       "  <tbody>\n",
       "    <tr>\n",
       "      <th>0</th>\n",
       "      <td>graph_football</td>\n",
       "      <td>MDH</td>\n",
       "      <td>31</td>\n",
       "      <td>115</td>\n",
       "      <td>0.000</td>\n",
       "    </tr>\n",
       "    <tr>\n",
       "      <th>1</th>\n",
       "      <td>graph_jazz</td>\n",
       "      <td>MDH</td>\n",
       "      <td>31</td>\n",
       "      <td>198</td>\n",
       "      <td>0.002</td>\n",
       "    </tr>\n",
       "    <tr>\n",
       "      <th>2</th>\n",
       "      <td>graph_karate</td>\n",
       "      <td>MDH</td>\n",
       "      <td>8</td>\n",
       "      <td>62</td>\n",
       "      <td>0.000</td>\n",
       "    </tr>\n",
       "    <tr>\n",
       "      <th>3</th>\n",
       "      <td>graph_CA-CondMat</td>\n",
       "      <td>MDH</td>\n",
       "      <td>2938</td>\n",
       "      <td>23133</td>\n",
       "      <td>0.754</td>\n",
       "    </tr>\n",
       "    <tr>\n",
       "      <th>4</th>\n",
       "      <td>gemsec_facebook_artist</td>\n",
       "      <td>MDH</td>\n",
       "      <td>790</td>\n",
       "      <td>50515</td>\n",
       "      <td>0.400</td>\n",
       "    </tr>\n",
       "  </tbody>\n",
       "</table>\n",
       "</div>"
      ],
      "text/plain": [
       "                    graph model  n_covered      n  t_mean\n",
       "0          graph_football   MDH         31    115   0.000\n",
       "1              graph_jazz   MDH         31    198   0.002\n",
       "2            graph_karate   MDH          8     62   0.000\n",
       "3        graph_CA-CondMat   MDH       2938  23133   0.754\n",
       "4  gemsec_facebook_artist   MDH        790  50515   0.400"
      ]
     },
     "execution_count": 26,
     "metadata": {},
     "output_type": "execute_result"
    }
   ],
   "source": [
    "MDH = pd.read_csv(f\"MDH/MDHResults.txt\", header = None)\n",
    "MDH.columns = [\"graph\", \"n_covered\",\"t_mean\",\"n\"]\n",
    "MDH[\"model\"] = 'MDH'\n",
    "MDH = MDH[[\"graph\", \"model\",\"n_covered\", \"n\", \"t_mean\"]]\n",
    "MDH.head()"
   ]
  },
  {
   "cell_type": "code",
   "execution_count": 34,
   "id": "8c9279f4",
   "metadata": {
    "ExecuteTime": {
     "end_time": "2022-12-01T19:06:59.431174Z",
     "start_time": "2022-12-01T19:06:59.414266Z"
    }
   },
   "outputs": [],
   "source": [
    "Full = pd.concat([Full, MDH, FastCover])\n",
    "Full['ratio'] =  Full.n_covered/Full.n\n",
    "Full = Full.drop_duplicates(subset=['model', 'graph'], keep='last')"
   ]
  },
  {
   "cell_type": "code",
   "execution_count": 35,
   "id": "fa551e4a",
   "metadata": {
    "ExecuteTime": {
     "end_time": "2022-12-01T19:06:59.603308Z",
     "start_time": "2022-12-01T19:06:59.575229Z"
    }
   },
   "outputs": [
    {
     "data": {
      "text/html": [
       "<div>\n",
       "<style scoped>\n",
       "    .dataframe tbody tr th:only-of-type {\n",
       "        vertical-align: middle;\n",
       "    }\n",
       "\n",
       "    .dataframe tbody tr th {\n",
       "        vertical-align: top;\n",
       "    }\n",
       "\n",
       "    .dataframe thead th {\n",
       "        text-align: right;\n",
       "    }\n",
       "</style>\n",
       "<table border=\"1\" class=\"dataframe\">\n",
       "  <thead>\n",
       "    <tr style=\"text-align: right;\">\n",
       "      <th></th>\n",
       "      <th>graph</th>\n",
       "      <th>model</th>\n",
       "      <th>n_covered</th>\n",
       "      <th>n</th>\n",
       "      <th>t_mean</th>\n",
       "      <th>ratio</th>\n",
       "    </tr>\n",
       "  </thead>\n",
       "  <tbody>\n",
       "    <tr>\n",
       "      <th>12</th>\n",
       "      <td>graph_dolphins</td>\n",
       "      <td>GraphConv</td>\n",
       "      <td>13</td>\n",
       "      <td>34</td>\n",
       "      <td>0.000</td>\n",
       "      <td>0.382353</td>\n",
       "    </tr>\n",
       "    <tr>\n",
       "      <th>12</th>\n",
       "      <td>graph_dolphins</td>\n",
       "      <td>GAT</td>\n",
       "      <td>12</td>\n",
       "      <td>34</td>\n",
       "      <td>0.000</td>\n",
       "      <td>0.352941</td>\n",
       "    </tr>\n",
       "    <tr>\n",
       "      <th>12</th>\n",
       "      <td>graph_dolphins</td>\n",
       "      <td>MDH</td>\n",
       "      <td>3</td>\n",
       "      <td>34</td>\n",
       "      <td>0.000</td>\n",
       "      <td>0.088235</td>\n",
       "    </tr>\n",
       "    <tr>\n",
       "      <th>12</th>\n",
       "      <td>graph_dolphins</td>\n",
       "      <td>GRAT</td>\n",
       "      <td>4</td>\n",
       "      <td>34</td>\n",
       "      <td>0.000</td>\n",
       "      <td>0.117647</td>\n",
       "    </tr>\n",
       "    <tr>\n",
       "      <th>2</th>\n",
       "      <td>graph_karate</td>\n",
       "      <td>GAT</td>\n",
       "      <td>15</td>\n",
       "      <td>62</td>\n",
       "      <td>0.000</td>\n",
       "      <td>0.241935</td>\n",
       "    </tr>\n",
       "    <tr>\n",
       "      <th>...</th>\n",
       "      <td>...</td>\n",
       "      <td>...</td>\n",
       "      <td>...</td>\n",
       "      <td>...</td>\n",
       "      <td>...</td>\n",
       "      <td>...</td>\n",
       "    </tr>\n",
       "    <tr>\n",
       "      <th>23</th>\n",
       "      <td>com-youtube.ungraph</td>\n",
       "      <td>MDH</td>\n",
       "      <td>39090</td>\n",
       "      <td>1134890</td>\n",
       "      <td>317.299</td>\n",
       "      <td>0.034444</td>\n",
       "    </tr>\n",
       "    <tr>\n",
       "      <th>23</th>\n",
       "      <td>com-youtube.ungraph</td>\n",
       "      <td>GraphConv</td>\n",
       "      <td>237831</td>\n",
       "      <td>1134890</td>\n",
       "      <td>1093.651</td>\n",
       "      <td>0.209563</td>\n",
       "    </tr>\n",
       "    <tr>\n",
       "      <th>23</th>\n",
       "      <td>com-youtube.ungraph</td>\n",
       "      <td>GCN</td>\n",
       "      <td>319859</td>\n",
       "      <td>1134890</td>\n",
       "      <td>3030.602</td>\n",
       "      <td>0.281841</td>\n",
       "    </tr>\n",
       "    <tr>\n",
       "      <th>23</th>\n",
       "      <td>com-youtube.ungraph</td>\n",
       "      <td>GRAT</td>\n",
       "      <td>65794</td>\n",
       "      <td>1134890</td>\n",
       "      <td>62.537</td>\n",
       "      <td>0.057974</td>\n",
       "    </tr>\n",
       "    <tr>\n",
       "      <th>23</th>\n",
       "      <td>com-youtube.ungraph</td>\n",
       "      <td>GAT</td>\n",
       "      <td>495435</td>\n",
       "      <td>1134890</td>\n",
       "      <td>3818.455</td>\n",
       "      <td>0.436549</td>\n",
       "    </tr>\n",
       "  </tbody>\n",
       "</table>\n",
       "<p>151 rows × 6 columns</p>\n",
       "</div>"
      ],
      "text/plain": [
       "                  graph      model  n_covered        n    t_mean     ratio\n",
       "12       graph_dolphins  GraphConv         13       34     0.000  0.382353\n",
       "12       graph_dolphins        GAT         12       34     0.000  0.352941\n",
       "12       graph_dolphins        MDH          3       34     0.000  0.088235\n",
       "12       graph_dolphins       GRAT          4       34     0.000  0.117647\n",
       "2          graph_karate        GAT         15       62     0.000  0.241935\n",
       "..                  ...        ...        ...      ...       ...       ...\n",
       "23  com-youtube.ungraph        MDH      39090  1134890   317.299  0.034444\n",
       "23  com-youtube.ungraph  GraphConv     237831  1134890  1093.651  0.209563\n",
       "23  com-youtube.ungraph        GCN     319859  1134890  3030.602  0.281841\n",
       "23  com-youtube.ungraph       GRAT      65794  1134890    62.537  0.057974\n",
       "23  com-youtube.ungraph        GAT     495435  1134890  3818.455  0.436549\n",
       "\n",
       "[151 rows x 6 columns]"
      ]
     },
     "execution_count": 35,
     "metadata": {},
     "output_type": "execute_result"
    }
   ],
   "source": [
    "Full = Full.sort_values(by=['n'])\n",
    "Full"
   ]
  },
  {
   "cell_type": "code",
   "execution_count": 36,
   "id": "062fea08",
   "metadata": {
    "ExecuteTime": {
     "end_time": "2022-12-01T19:06:59.789830Z",
     "start_time": "2022-12-01T19:06:59.776335Z"
    }
   },
   "outputs": [
    {
     "data": {
      "text/plain": [
       "151"
      ]
     },
     "execution_count": 36,
     "metadata": {},
     "output_type": "execute_result"
    }
   ],
   "source": [
    "Full.model.count()"
   ]
  },
  {
   "cell_type": "code",
   "execution_count": 37,
   "id": "e1bacaec",
   "metadata": {
    "ExecuteTime": {
     "end_time": "2022-12-01T19:07:00.211127Z",
     "start_time": "2022-12-01T19:07:00.114524Z"
    }
   },
   "outputs": [
    {
     "data": {
      "application/vnd.plotly.v1+json": {
       "config": {
        "plotlyServerURL": "https://plot.ly"
       },
       "data": [
        {
         "alignmentgroup": "True",
         "bingroup": "x",
         "histfunc": "sum",
         "hovertemplate": "model=GraphConv<br>graph=%{x}<br>sum of n_covered=%{y}<extra></extra>",
         "legendgroup": "GraphConv",
         "marker": {
          "color": "#636efa"
         },
         "name": "GraphConv",
         "offsetgroup": "GraphConv",
         "orientation": "v",
         "showlegend": true,
         "type": "histogram",
         "x": [
          "graph_dolphins",
          "graph_karate",
          "graph_jazz",
          "socfb-nips-ego",
          "socfb-Mich67",
          "socfb-Brandeis99",
          "ego-facebook",
          "graph_CA-GrQc",
          "graph_ncstrlwg2",
          "graph_CA-HepTh",
          "graph_actors_dat",
          "graph_CA-HepPh",
          "graph_CA-AstroPh",
          "graph_CA-CondMat",
          "soc-gplus",
          "graph_Email-Enron",
          "musae_git",
          "gemsec_facebook_artist",
          "deezer_HR",
          "loc-gowalla_edges",
          "Amazon0302",
          "com-dblp.ungraph",
          "Amazon0312",
          "Amazon0601",
          "Amazon0505",
          "com-youtube.ungraph"
         ],
         "xaxis": "x",
         "y": [
          13,
          20,
          88,
          1152,
          1581,
          1602,
          1064,
          1647,
          1981,
          2403,
          2365,
          3675,
          3216,
          5645,
          9067,
          5501,
          23599,
          22986,
          20150,
          33163,
          60089,
          85858,
          94538,
          97001,
          105457,
          237831
         ],
         "yaxis": "y"
        },
        {
         "alignmentgroup": "True",
         "bingroup": "x",
         "histfunc": "sum",
         "hovertemplate": "model=GAT<br>graph=%{x}<br>sum of n_covered=%{y}<extra></extra>",
         "legendgroup": "GAT",
         "marker": {
          "color": "#EF553B"
         },
         "name": "GAT",
         "offsetgroup": "GAT",
         "orientation": "v",
         "showlegend": true,
         "type": "histogram",
         "x": [
          "graph_dolphins",
          "graph_karate",
          "graph_jazz",
          "socfb-nips-ego",
          "socfb-Mich67",
          "socfb-Brandeis99",
          "ego-facebook",
          "graph_CA-GrQc",
          "graph_ncstrlwg2",
          "graph_CA-HepTh",
          "graph_actors_dat",
          "graph_CA-HepPh",
          "graph_CA-AstroPh",
          "graph_CA-CondMat",
          "soc-gplus",
          "graph_Email-Enron",
          "musae_git",
          "gemsec_facebook_artist",
          "deezer_HR",
          "loc-gowalla_edges",
          "Amazon0302",
          "com-dblp.ungraph",
          "Amazon0312",
          "Amazon0601",
          "Amazon0505",
          "com-youtube.ungraph"
         ],
         "xaxis": "x",
         "y": [
          12,
          15,
          84,
          505,
          1609,
          1434,
          1035,
          1930,
          2133,
          3582,
          3403,
          4878,
          8197,
          8124,
          8329,
          12840,
          13860,
          20032,
          18559,
          75596,
          72699,
          104797,
          96047,
          95754,
          98938,
          495435
         ],
         "yaxis": "y"
        },
        {
         "alignmentgroup": "True",
         "bingroup": "x",
         "histfunc": "sum",
         "hovertemplate": "model=MDH<br>graph=%{x}<br>sum of n_covered=%{y}<extra></extra>",
         "legendgroup": "MDH",
         "marker": {
          "color": "#00cc96"
         },
         "name": "MDH",
         "offsetgroup": "MDH",
         "orientation": "v",
         "showlegend": true,
         "type": "histogram",
         "x": [
          "graph_dolphins",
          "graph_karate",
          "graph_football",
          "graph_jazz",
          "socfb-nips-ego",
          "socfb-Mich67",
          "socfb-Brandeis99",
          "ego-facebook",
          "graph_CA-GrQc",
          "graph_ncstrlwg2",
          "graph_CA-HepTh",
          "graph_actors_dat",
          "graph_CA-HepPh",
          "graph_CA-AstroPh",
          "graph_CA-CondMat",
          "soc-gplus",
          "graph_Email-Enron",
          "musae_git",
          "gemsec_facebook_artist",
          "deezer_HR",
          "loc-gowalla_edges",
          "Amazon0302",
          "com-dblp.ungraph",
          "Amazon0312",
          "Amazon0601",
          "Amazon0505",
          "com-youtube.ungraph"
         ],
         "xaxis": "x",
         "y": [
          3,
          8,
          31,
          31,
          10,
          202,
          395,
          528,
          1033,
          1108,
          1388,
          1014,
          1529,
          1638,
          2938,
          69,
          2881,
          196,
          790,
          2346,
          5670,
          35766,
          37197,
          31165,
          31507,
          31926,
          39090
         ],
         "yaxis": "y"
        },
        {
         "alignmentgroup": "True",
         "bingroup": "x",
         "histfunc": "sum",
         "hovertemplate": "model=GRAT<br>graph=%{x}<br>sum of n_covered=%{y}<extra></extra>",
         "legendgroup": "GRAT",
         "marker": {
          "color": "#ab63fa"
         },
         "name": "GRAT",
         "offsetgroup": "GRAT",
         "orientation": "v",
         "showlegend": true,
         "type": "histogram",
         "x": [
          "graph_dolphins",
          "graph_karate",
          "graph_football",
          "graph_jazz",
          "socfb-nips-ego",
          "socfb-Mich67",
          "socfb-Brandeis99",
          "ego-facebook",
          "graph_CA-GrQc",
          "graph_ncstrlwg2",
          "graph_CA-HepTh",
          "graph_actors_dat",
          "graph_CA-HepPh",
          "graph_CA-AstroPh",
          "graph_CA-CondMat",
          "soc-gplus",
          "graph_Email-Enron",
          "musae_git",
          "gemsec_facebook_artist",
          "deezer_HR",
          "loc-gowalla_edges",
          "Amazon0302",
          "com-dblp.ungraph",
          "Amazon0312",
          "Amazon0601",
          "Amazon0505",
          "com-youtube.ungraph"
         ],
         "xaxis": "x",
         "y": [
          4,
          9,
          32,
          37,
          11,
          483,
          742,
          1132,
          1065,
          1164,
          1519,
          1617,
          1839,
          2410,
          3160,
          103,
          3349,
          651,
          1699,
          3860,
          12191,
          36897,
          40129,
          36841,
          37061,
          37663,
          65794
         ],
         "yaxis": "y"
        },
        {
         "alignmentgroup": "True",
         "bingroup": "x",
         "histfunc": "sum",
         "hovertemplate": "model=GCN<br>graph=%{x}<br>sum of n_covered=%{y}<extra></extra>",
         "legendgroup": "GCN",
         "marker": {
          "color": "#FFA15A"
         },
         "name": "GCN",
         "offsetgroup": "GCN",
         "orientation": "v",
         "showlegend": true,
         "type": "histogram",
         "x": [
          "graph_karate",
          "graph_jazz",
          "socfb-nips-ego",
          "socfb-Mich67",
          "socfb-Brandeis99",
          "ego-facebook",
          "graph_CA-GrQc",
          "graph_ncstrlwg2",
          "graph_CA-HepTh",
          "graph_actors_dat",
          "graph_CA-HepPh",
          "graph_CA-AstroPh",
          "graph_CA-CondMat",
          "soc-gplus",
          "graph_Email-Enron",
          "musae_git",
          "gemsec_facebook_artist",
          "deezer_HR",
          "loc-gowalla_edges",
          "Amazon0302",
          "com-dblp.ungraph",
          "Amazon0312",
          "Amazon0601",
          "Amazon0505",
          "com-youtube.ungraph"
         ],
         "xaxis": "x",
         "y": [
          27,
          94,
          1176,
          2042,
          2264,
          1922,
          1887,
          2141,
          3472,
          5268,
          5085,
          8933,
          8336,
          7990,
          21368,
          20058,
          30070,
          20033,
          80247,
          64571,
          113046,
          111171,
          113271,
          119370,
          319859
         ],
         "yaxis": "y"
        },
        {
         "alignmentgroup": "True",
         "bingroup": "x",
         "histfunc": "sum",
         "hovertemplate": "model=SAGE<br>graph=%{x}<br>sum of n_covered=%{y}<extra></extra>",
         "legendgroup": "SAGE",
         "marker": {
          "color": "#19d3f3"
         },
         "name": "SAGE",
         "offsetgroup": "SAGE",
         "orientation": "v",
         "showlegend": true,
         "type": "histogram",
         "x": [
          "graph_football",
          "socfb-Mich67",
          "socfb-Brandeis99",
          "graph_CA-GrQc",
          "graph_CA-HepTh",
          "graph_CA-HepPh",
          "graph_CA-AstroPh",
          "graph_CA-CondMat",
          "soc-gplus",
          "graph_Email-Enron",
          "musae_git",
          "gemsec_facebook_artist",
          "deezer_HR",
          "loc-gowalla_edges",
          "Amazon0302",
          "com-dblp.ungraph",
          "Amazon0312",
          "Amazon0601",
          "Amazon0505",
          "com-youtube.ungraph"
         ],
         "xaxis": "x",
         "y": [
          30,
          380,
          709,
          1046,
          1399,
          1891,
          1800,
          3190,
          156,
          5130,
          8174,
          5400,
          8839,
          43721,
          49420,
          47593,
          75531,
          74790,
          76176,
          214940
         ],
         "yaxis": "y"
        }
       ],
       "layout": {
        "barmode": "group",
        "height": 400,
        "legend": {
         "title": {
          "text": "model"
         },
         "tracegroupgap": 0
        },
        "margin": {
         "t": 60
        },
        "template": {
         "data": {
          "bar": [
           {
            "error_x": {
             "color": "#2a3f5f"
            },
            "error_y": {
             "color": "#2a3f5f"
            },
            "marker": {
             "line": {
              "color": "#E5ECF6",
              "width": 0.5
             }
            },
            "type": "bar"
           }
          ],
          "barpolar": [
           {
            "marker": {
             "line": {
              "color": "#E5ECF6",
              "width": 0.5
             }
            },
            "type": "barpolar"
           }
          ],
          "carpet": [
           {
            "aaxis": {
             "endlinecolor": "#2a3f5f",
             "gridcolor": "white",
             "linecolor": "white",
             "minorgridcolor": "white",
             "startlinecolor": "#2a3f5f"
            },
            "baxis": {
             "endlinecolor": "#2a3f5f",
             "gridcolor": "white",
             "linecolor": "white",
             "minorgridcolor": "white",
             "startlinecolor": "#2a3f5f"
            },
            "type": "carpet"
           }
          ],
          "choropleth": [
           {
            "colorbar": {
             "outlinewidth": 0,
             "ticks": ""
            },
            "type": "choropleth"
           }
          ],
          "contour": [
           {
            "colorbar": {
             "outlinewidth": 0,
             "ticks": ""
            },
            "colorscale": [
             [
              0,
              "#0d0887"
             ],
             [
              0.1111111111111111,
              "#46039f"
             ],
             [
              0.2222222222222222,
              "#7201a8"
             ],
             [
              0.3333333333333333,
              "#9c179e"
             ],
             [
              0.4444444444444444,
              "#bd3786"
             ],
             [
              0.5555555555555556,
              "#d8576b"
             ],
             [
              0.6666666666666666,
              "#ed7953"
             ],
             [
              0.7777777777777778,
              "#fb9f3a"
             ],
             [
              0.8888888888888888,
              "#fdca26"
             ],
             [
              1,
              "#f0f921"
             ]
            ],
            "type": "contour"
           }
          ],
          "contourcarpet": [
           {
            "colorbar": {
             "outlinewidth": 0,
             "ticks": ""
            },
            "type": "contourcarpet"
           }
          ],
          "heatmap": [
           {
            "colorbar": {
             "outlinewidth": 0,
             "ticks": ""
            },
            "colorscale": [
             [
              0,
              "#0d0887"
             ],
             [
              0.1111111111111111,
              "#46039f"
             ],
             [
              0.2222222222222222,
              "#7201a8"
             ],
             [
              0.3333333333333333,
              "#9c179e"
             ],
             [
              0.4444444444444444,
              "#bd3786"
             ],
             [
              0.5555555555555556,
              "#d8576b"
             ],
             [
              0.6666666666666666,
              "#ed7953"
             ],
             [
              0.7777777777777778,
              "#fb9f3a"
             ],
             [
              0.8888888888888888,
              "#fdca26"
             ],
             [
              1,
              "#f0f921"
             ]
            ],
            "type": "heatmap"
           }
          ],
          "heatmapgl": [
           {
            "colorbar": {
             "outlinewidth": 0,
             "ticks": ""
            },
            "colorscale": [
             [
              0,
              "#0d0887"
             ],
             [
              0.1111111111111111,
              "#46039f"
             ],
             [
              0.2222222222222222,
              "#7201a8"
             ],
             [
              0.3333333333333333,
              "#9c179e"
             ],
             [
              0.4444444444444444,
              "#bd3786"
             ],
             [
              0.5555555555555556,
              "#d8576b"
             ],
             [
              0.6666666666666666,
              "#ed7953"
             ],
             [
              0.7777777777777778,
              "#fb9f3a"
             ],
             [
              0.8888888888888888,
              "#fdca26"
             ],
             [
              1,
              "#f0f921"
             ]
            ],
            "type": "heatmapgl"
           }
          ],
          "histogram": [
           {
            "marker": {
             "colorbar": {
              "outlinewidth": 0,
              "ticks": ""
             }
            },
            "type": "histogram"
           }
          ],
          "histogram2d": [
           {
            "colorbar": {
             "outlinewidth": 0,
             "ticks": ""
            },
            "colorscale": [
             [
              0,
              "#0d0887"
             ],
             [
              0.1111111111111111,
              "#46039f"
             ],
             [
              0.2222222222222222,
              "#7201a8"
             ],
             [
              0.3333333333333333,
              "#9c179e"
             ],
             [
              0.4444444444444444,
              "#bd3786"
             ],
             [
              0.5555555555555556,
              "#d8576b"
             ],
             [
              0.6666666666666666,
              "#ed7953"
             ],
             [
              0.7777777777777778,
              "#fb9f3a"
             ],
             [
              0.8888888888888888,
              "#fdca26"
             ],
             [
              1,
              "#f0f921"
             ]
            ],
            "type": "histogram2d"
           }
          ],
          "histogram2dcontour": [
           {
            "colorbar": {
             "outlinewidth": 0,
             "ticks": ""
            },
            "colorscale": [
             [
              0,
              "#0d0887"
             ],
             [
              0.1111111111111111,
              "#46039f"
             ],
             [
              0.2222222222222222,
              "#7201a8"
             ],
             [
              0.3333333333333333,
              "#9c179e"
             ],
             [
              0.4444444444444444,
              "#bd3786"
             ],
             [
              0.5555555555555556,
              "#d8576b"
             ],
             [
              0.6666666666666666,
              "#ed7953"
             ],
             [
              0.7777777777777778,
              "#fb9f3a"
             ],
             [
              0.8888888888888888,
              "#fdca26"
             ],
             [
              1,
              "#f0f921"
             ]
            ],
            "type": "histogram2dcontour"
           }
          ],
          "mesh3d": [
           {
            "colorbar": {
             "outlinewidth": 0,
             "ticks": ""
            },
            "type": "mesh3d"
           }
          ],
          "parcoords": [
           {
            "line": {
             "colorbar": {
              "outlinewidth": 0,
              "ticks": ""
             }
            },
            "type": "parcoords"
           }
          ],
          "pie": [
           {
            "automargin": true,
            "type": "pie"
           }
          ],
          "scatter": [
           {
            "marker": {
             "colorbar": {
              "outlinewidth": 0,
              "ticks": ""
             }
            },
            "type": "scatter"
           }
          ],
          "scatter3d": [
           {
            "line": {
             "colorbar": {
              "outlinewidth": 0,
              "ticks": ""
             }
            },
            "marker": {
             "colorbar": {
              "outlinewidth": 0,
              "ticks": ""
             }
            },
            "type": "scatter3d"
           }
          ],
          "scattercarpet": [
           {
            "marker": {
             "colorbar": {
              "outlinewidth": 0,
              "ticks": ""
             }
            },
            "type": "scattercarpet"
           }
          ],
          "scattergeo": [
           {
            "marker": {
             "colorbar": {
              "outlinewidth": 0,
              "ticks": ""
             }
            },
            "type": "scattergeo"
           }
          ],
          "scattergl": [
           {
            "marker": {
             "colorbar": {
              "outlinewidth": 0,
              "ticks": ""
             }
            },
            "type": "scattergl"
           }
          ],
          "scattermapbox": [
           {
            "marker": {
             "colorbar": {
              "outlinewidth": 0,
              "ticks": ""
             }
            },
            "type": "scattermapbox"
           }
          ],
          "scatterpolar": [
           {
            "marker": {
             "colorbar": {
              "outlinewidth": 0,
              "ticks": ""
             }
            },
            "type": "scatterpolar"
           }
          ],
          "scatterpolargl": [
           {
            "marker": {
             "colorbar": {
              "outlinewidth": 0,
              "ticks": ""
             }
            },
            "type": "scatterpolargl"
           }
          ],
          "scatterternary": [
           {
            "marker": {
             "colorbar": {
              "outlinewidth": 0,
              "ticks": ""
             }
            },
            "type": "scatterternary"
           }
          ],
          "surface": [
           {
            "colorbar": {
             "outlinewidth": 0,
             "ticks": ""
            },
            "colorscale": [
             [
              0,
              "#0d0887"
             ],
             [
              0.1111111111111111,
              "#46039f"
             ],
             [
              0.2222222222222222,
              "#7201a8"
             ],
             [
              0.3333333333333333,
              "#9c179e"
             ],
             [
              0.4444444444444444,
              "#bd3786"
             ],
             [
              0.5555555555555556,
              "#d8576b"
             ],
             [
              0.6666666666666666,
              "#ed7953"
             ],
             [
              0.7777777777777778,
              "#fb9f3a"
             ],
             [
              0.8888888888888888,
              "#fdca26"
             ],
             [
              1,
              "#f0f921"
             ]
            ],
            "type": "surface"
           }
          ],
          "table": [
           {
            "cells": {
             "fill": {
              "color": "#EBF0F8"
             },
             "line": {
              "color": "white"
             }
            },
            "header": {
             "fill": {
              "color": "#C8D4E3"
             },
             "line": {
              "color": "white"
             }
            },
            "type": "table"
           }
          ]
         },
         "layout": {
          "annotationdefaults": {
           "arrowcolor": "#2a3f5f",
           "arrowhead": 0,
           "arrowwidth": 1
          },
          "autotypenumbers": "strict",
          "coloraxis": {
           "colorbar": {
            "outlinewidth": 0,
            "ticks": ""
           }
          },
          "colorscale": {
           "diverging": [
            [
             0,
             "#8e0152"
            ],
            [
             0.1,
             "#c51b7d"
            ],
            [
             0.2,
             "#de77ae"
            ],
            [
             0.3,
             "#f1b6da"
            ],
            [
             0.4,
             "#fde0ef"
            ],
            [
             0.5,
             "#f7f7f7"
            ],
            [
             0.6,
             "#e6f5d0"
            ],
            [
             0.7,
             "#b8e186"
            ],
            [
             0.8,
             "#7fbc41"
            ],
            [
             0.9,
             "#4d9221"
            ],
            [
             1,
             "#276419"
            ]
           ],
           "sequential": [
            [
             0,
             "#0d0887"
            ],
            [
             0.1111111111111111,
             "#46039f"
            ],
            [
             0.2222222222222222,
             "#7201a8"
            ],
            [
             0.3333333333333333,
             "#9c179e"
            ],
            [
             0.4444444444444444,
             "#bd3786"
            ],
            [
             0.5555555555555556,
             "#d8576b"
            ],
            [
             0.6666666666666666,
             "#ed7953"
            ],
            [
             0.7777777777777778,
             "#fb9f3a"
            ],
            [
             0.8888888888888888,
             "#fdca26"
            ],
            [
             1,
             "#f0f921"
            ]
           ],
           "sequentialminus": [
            [
             0,
             "#0d0887"
            ],
            [
             0.1111111111111111,
             "#46039f"
            ],
            [
             0.2222222222222222,
             "#7201a8"
            ],
            [
             0.3333333333333333,
             "#9c179e"
            ],
            [
             0.4444444444444444,
             "#bd3786"
            ],
            [
             0.5555555555555556,
             "#d8576b"
            ],
            [
             0.6666666666666666,
             "#ed7953"
            ],
            [
             0.7777777777777778,
             "#fb9f3a"
            ],
            [
             0.8888888888888888,
             "#fdca26"
            ],
            [
             1,
             "#f0f921"
            ]
           ]
          },
          "colorway": [
           "#636efa",
           "#EF553B",
           "#00cc96",
           "#ab63fa",
           "#FFA15A",
           "#19d3f3",
           "#FF6692",
           "#B6E880",
           "#FF97FF",
           "#FECB52"
          ],
          "font": {
           "color": "#2a3f5f"
          },
          "geo": {
           "bgcolor": "white",
           "lakecolor": "white",
           "landcolor": "#E5ECF6",
           "showlakes": true,
           "showland": true,
           "subunitcolor": "white"
          },
          "hoverlabel": {
           "align": "left"
          },
          "hovermode": "closest",
          "mapbox": {
           "style": "light"
          },
          "paper_bgcolor": "white",
          "plot_bgcolor": "#E5ECF6",
          "polar": {
           "angularaxis": {
            "gridcolor": "white",
            "linecolor": "white",
            "ticks": ""
           },
           "bgcolor": "#E5ECF6",
           "radialaxis": {
            "gridcolor": "white",
            "linecolor": "white",
            "ticks": ""
           }
          },
          "scene": {
           "xaxis": {
            "backgroundcolor": "#E5ECF6",
            "gridcolor": "white",
            "gridwidth": 2,
            "linecolor": "white",
            "showbackground": true,
            "ticks": "",
            "zerolinecolor": "white"
           },
           "yaxis": {
            "backgroundcolor": "#E5ECF6",
            "gridcolor": "white",
            "gridwidth": 2,
            "linecolor": "white",
            "showbackground": true,
            "ticks": "",
            "zerolinecolor": "white"
           },
           "zaxis": {
            "backgroundcolor": "#E5ECF6",
            "gridcolor": "white",
            "gridwidth": 2,
            "linecolor": "white",
            "showbackground": true,
            "ticks": "",
            "zerolinecolor": "white"
           }
          },
          "shapedefaults": {
           "line": {
            "color": "#2a3f5f"
           }
          },
          "ternary": {
           "aaxis": {
            "gridcolor": "white",
            "linecolor": "white",
            "ticks": ""
           },
           "baxis": {
            "gridcolor": "white",
            "linecolor": "white",
            "ticks": ""
           },
           "bgcolor": "#E5ECF6",
           "caxis": {
            "gridcolor": "white",
            "linecolor": "white",
            "ticks": ""
           }
          },
          "title": {
           "x": 0.05
          },
          "xaxis": {
           "automargin": true,
           "gridcolor": "white",
           "linecolor": "white",
           "ticks": "",
           "title": {
            "standoff": 15
           },
           "zerolinecolor": "white",
           "zerolinewidth": 2
          },
          "yaxis": {
           "automargin": true,
           "gridcolor": "white",
           "linecolor": "white",
           "ticks": "",
           "title": {
            "standoff": 15
           },
           "zerolinecolor": "white",
           "zerolinewidth": 2
          }
         }
        },
        "xaxis": {
         "anchor": "y",
         "domain": [
          0,
          1
         ],
         "title": {
          "text": "graph"
         }
        },
        "yaxis": {
         "anchor": "x",
         "domain": [
          0,
          1
         ],
         "title": {
          "text": "sum of n_covered"
         }
        }
       }
      },
      "text/html": [
       "<div>                            <div id=\"00259cdb-213e-4086-8087-fe8efce3cda1\" class=\"plotly-graph-div\" style=\"height:400px; width:100%;\"></div>            <script type=\"text/javascript\">                require([\"plotly\"], function(Plotly) {                    window.PLOTLYENV=window.PLOTLYENV || {};                                    if (document.getElementById(\"00259cdb-213e-4086-8087-fe8efce3cda1\")) {                    Plotly.newPlot(                        \"00259cdb-213e-4086-8087-fe8efce3cda1\",                        [{\"alignmentgroup\": \"True\", \"bingroup\": \"x\", \"histfunc\": \"sum\", \"hovertemplate\": \"model=GraphConv<br>graph=%{x}<br>sum of n_covered=%{y}<extra></extra>\", \"legendgroup\": \"GraphConv\", \"marker\": {\"color\": \"#636efa\"}, \"name\": \"GraphConv\", \"offsetgroup\": \"GraphConv\", \"orientation\": \"v\", \"showlegend\": true, \"type\": \"histogram\", \"x\": [\"graph_dolphins\", \"graph_karate\", \"graph_jazz\", \"socfb-nips-ego\", \"socfb-Mich67\", \"socfb-Brandeis99\", \"ego-facebook\", \"graph_CA-GrQc\", \"graph_ncstrlwg2\", \"graph_CA-HepTh\", \"graph_actors_dat\", \"graph_CA-HepPh\", \"graph_CA-AstroPh\", \"graph_CA-CondMat\", \"soc-gplus\", \"graph_Email-Enron\", \"musae_git\", \"gemsec_facebook_artist\", \"deezer_HR\", \"loc-gowalla_edges\", \"Amazon0302\", \"com-dblp.ungraph\", \"Amazon0312\", \"Amazon0601\", \"Amazon0505\", \"com-youtube.ungraph\"], \"xaxis\": \"x\", \"y\": [13, 20, 88, 1152, 1581, 1602, 1064, 1647, 1981, 2403, 2365, 3675, 3216, 5645, 9067, 5501, 23599, 22986, 20150, 33163, 60089, 85858, 94538, 97001, 105457, 237831], \"yaxis\": \"y\"}, {\"alignmentgroup\": \"True\", \"bingroup\": \"x\", \"histfunc\": \"sum\", \"hovertemplate\": \"model=GAT<br>graph=%{x}<br>sum of n_covered=%{y}<extra></extra>\", \"legendgroup\": \"GAT\", \"marker\": {\"color\": \"#EF553B\"}, \"name\": \"GAT\", \"offsetgroup\": \"GAT\", \"orientation\": \"v\", \"showlegend\": true, \"type\": \"histogram\", \"x\": [\"graph_dolphins\", \"graph_karate\", \"graph_jazz\", \"socfb-nips-ego\", \"socfb-Mich67\", \"socfb-Brandeis99\", \"ego-facebook\", \"graph_CA-GrQc\", \"graph_ncstrlwg2\", \"graph_CA-HepTh\", \"graph_actors_dat\", \"graph_CA-HepPh\", \"graph_CA-AstroPh\", \"graph_CA-CondMat\", \"soc-gplus\", \"graph_Email-Enron\", \"musae_git\", \"gemsec_facebook_artist\", \"deezer_HR\", \"loc-gowalla_edges\", \"Amazon0302\", \"com-dblp.ungraph\", \"Amazon0312\", \"Amazon0601\", \"Amazon0505\", \"com-youtube.ungraph\"], \"xaxis\": \"x\", \"y\": [12, 15, 84, 505, 1609, 1434, 1035, 1930, 2133, 3582, 3403, 4878, 8197, 8124, 8329, 12840, 13860, 20032, 18559, 75596, 72699, 104797, 96047, 95754, 98938, 495435], \"yaxis\": \"y\"}, {\"alignmentgroup\": \"True\", \"bingroup\": \"x\", \"histfunc\": \"sum\", \"hovertemplate\": \"model=MDH<br>graph=%{x}<br>sum of n_covered=%{y}<extra></extra>\", \"legendgroup\": \"MDH\", \"marker\": {\"color\": \"#00cc96\"}, \"name\": \"MDH\", \"offsetgroup\": \"MDH\", \"orientation\": \"v\", \"showlegend\": true, \"type\": \"histogram\", \"x\": [\"graph_dolphins\", \"graph_karate\", \"graph_football\", \"graph_jazz\", \"socfb-nips-ego\", \"socfb-Mich67\", \"socfb-Brandeis99\", \"ego-facebook\", \"graph_CA-GrQc\", \"graph_ncstrlwg2\", \"graph_CA-HepTh\", \"graph_actors_dat\", \"graph_CA-HepPh\", \"graph_CA-AstroPh\", \"graph_CA-CondMat\", \"soc-gplus\", \"graph_Email-Enron\", \"musae_git\", \"gemsec_facebook_artist\", \"deezer_HR\", \"loc-gowalla_edges\", \"Amazon0302\", \"com-dblp.ungraph\", \"Amazon0312\", \"Amazon0601\", \"Amazon0505\", \"com-youtube.ungraph\"], \"xaxis\": \"x\", \"y\": [3, 8, 31, 31, 10, 202, 395, 528, 1033, 1108, 1388, 1014, 1529, 1638, 2938, 69, 2881, 196, 790, 2346, 5670, 35766, 37197, 31165, 31507, 31926, 39090], \"yaxis\": \"y\"}, {\"alignmentgroup\": \"True\", \"bingroup\": \"x\", \"histfunc\": \"sum\", \"hovertemplate\": \"model=GRAT<br>graph=%{x}<br>sum of n_covered=%{y}<extra></extra>\", \"legendgroup\": \"GRAT\", \"marker\": {\"color\": \"#ab63fa\"}, \"name\": \"GRAT\", \"offsetgroup\": \"GRAT\", \"orientation\": \"v\", \"showlegend\": true, \"type\": \"histogram\", \"x\": [\"graph_dolphins\", \"graph_karate\", \"graph_football\", \"graph_jazz\", \"socfb-nips-ego\", \"socfb-Mich67\", \"socfb-Brandeis99\", \"ego-facebook\", \"graph_CA-GrQc\", \"graph_ncstrlwg2\", \"graph_CA-HepTh\", \"graph_actors_dat\", \"graph_CA-HepPh\", \"graph_CA-AstroPh\", \"graph_CA-CondMat\", \"soc-gplus\", \"graph_Email-Enron\", \"musae_git\", \"gemsec_facebook_artist\", \"deezer_HR\", \"loc-gowalla_edges\", \"Amazon0302\", \"com-dblp.ungraph\", \"Amazon0312\", \"Amazon0601\", \"Amazon0505\", \"com-youtube.ungraph\"], \"xaxis\": \"x\", \"y\": [4, 9, 32, 37, 11, 483, 742, 1132, 1065, 1164, 1519, 1617, 1839, 2410, 3160, 103, 3349, 651, 1699, 3860, 12191, 36897, 40129, 36841, 37061, 37663, 65794], \"yaxis\": \"y\"}, {\"alignmentgroup\": \"True\", \"bingroup\": \"x\", \"histfunc\": \"sum\", \"hovertemplate\": \"model=GCN<br>graph=%{x}<br>sum of n_covered=%{y}<extra></extra>\", \"legendgroup\": \"GCN\", \"marker\": {\"color\": \"#FFA15A\"}, \"name\": \"GCN\", \"offsetgroup\": \"GCN\", \"orientation\": \"v\", \"showlegend\": true, \"type\": \"histogram\", \"x\": [\"graph_karate\", \"graph_jazz\", \"socfb-nips-ego\", \"socfb-Mich67\", \"socfb-Brandeis99\", \"ego-facebook\", \"graph_CA-GrQc\", \"graph_ncstrlwg2\", \"graph_CA-HepTh\", \"graph_actors_dat\", \"graph_CA-HepPh\", \"graph_CA-AstroPh\", \"graph_CA-CondMat\", \"soc-gplus\", \"graph_Email-Enron\", \"musae_git\", \"gemsec_facebook_artist\", \"deezer_HR\", \"loc-gowalla_edges\", \"Amazon0302\", \"com-dblp.ungraph\", \"Amazon0312\", \"Amazon0601\", \"Amazon0505\", \"com-youtube.ungraph\"], \"xaxis\": \"x\", \"y\": [27, 94, 1176, 2042, 2264, 1922, 1887, 2141, 3472, 5268, 5085, 8933, 8336, 7990, 21368, 20058, 30070, 20033, 80247, 64571, 113046, 111171, 113271, 119370, 319859], \"yaxis\": \"y\"}, {\"alignmentgroup\": \"True\", \"bingroup\": \"x\", \"histfunc\": \"sum\", \"hovertemplate\": \"model=SAGE<br>graph=%{x}<br>sum of n_covered=%{y}<extra></extra>\", \"legendgroup\": \"SAGE\", \"marker\": {\"color\": \"#19d3f3\"}, \"name\": \"SAGE\", \"offsetgroup\": \"SAGE\", \"orientation\": \"v\", \"showlegend\": true, \"type\": \"histogram\", \"x\": [\"graph_football\", \"socfb-Mich67\", \"socfb-Brandeis99\", \"graph_CA-GrQc\", \"graph_CA-HepTh\", \"graph_CA-HepPh\", \"graph_CA-AstroPh\", \"graph_CA-CondMat\", \"soc-gplus\", \"graph_Email-Enron\", \"musae_git\", \"gemsec_facebook_artist\", \"deezer_HR\", \"loc-gowalla_edges\", \"Amazon0302\", \"com-dblp.ungraph\", \"Amazon0312\", \"Amazon0601\", \"Amazon0505\", \"com-youtube.ungraph\"], \"xaxis\": \"x\", \"y\": [30, 380, 709, 1046, 1399, 1891, 1800, 3190, 156, 5130, 8174, 5400, 8839, 43721, 49420, 47593, 75531, 74790, 76176, 214940], \"yaxis\": \"y\"}],                        {\"barmode\": \"group\", \"height\": 400, \"legend\": {\"title\": {\"text\": \"model\"}, \"tracegroupgap\": 0}, \"margin\": {\"t\": 60}, \"template\": {\"data\": {\"bar\": [{\"error_x\": {\"color\": \"#2a3f5f\"}, \"error_y\": {\"color\": \"#2a3f5f\"}, \"marker\": {\"line\": {\"color\": \"#E5ECF6\", \"width\": 0.5}}, \"type\": \"bar\"}], \"barpolar\": [{\"marker\": {\"line\": {\"color\": \"#E5ECF6\", \"width\": 0.5}}, \"type\": \"barpolar\"}], \"carpet\": [{\"aaxis\": {\"endlinecolor\": \"#2a3f5f\", \"gridcolor\": \"white\", \"linecolor\": \"white\", \"minorgridcolor\": \"white\", \"startlinecolor\": \"#2a3f5f\"}, \"baxis\": {\"endlinecolor\": \"#2a3f5f\", \"gridcolor\": \"white\", \"linecolor\": \"white\", \"minorgridcolor\": \"white\", \"startlinecolor\": \"#2a3f5f\"}, \"type\": \"carpet\"}], \"choropleth\": [{\"colorbar\": {\"outlinewidth\": 0, \"ticks\": \"\"}, \"type\": \"choropleth\"}], \"contour\": [{\"colorbar\": {\"outlinewidth\": 0, \"ticks\": \"\"}, \"colorscale\": [[0.0, \"#0d0887\"], [0.1111111111111111, \"#46039f\"], [0.2222222222222222, \"#7201a8\"], [0.3333333333333333, \"#9c179e\"], [0.4444444444444444, \"#bd3786\"], [0.5555555555555556, \"#d8576b\"], [0.6666666666666666, \"#ed7953\"], [0.7777777777777778, \"#fb9f3a\"], [0.8888888888888888, \"#fdca26\"], [1.0, \"#f0f921\"]], \"type\": \"contour\"}], \"contourcarpet\": [{\"colorbar\": {\"outlinewidth\": 0, \"ticks\": \"\"}, \"type\": \"contourcarpet\"}], \"heatmap\": [{\"colorbar\": {\"outlinewidth\": 0, \"ticks\": \"\"}, \"colorscale\": [[0.0, \"#0d0887\"], [0.1111111111111111, \"#46039f\"], [0.2222222222222222, \"#7201a8\"], [0.3333333333333333, \"#9c179e\"], [0.4444444444444444, \"#bd3786\"], [0.5555555555555556, \"#d8576b\"], [0.6666666666666666, \"#ed7953\"], [0.7777777777777778, \"#fb9f3a\"], [0.8888888888888888, \"#fdca26\"], [1.0, \"#f0f921\"]], \"type\": \"heatmap\"}], \"heatmapgl\": [{\"colorbar\": {\"outlinewidth\": 0, \"ticks\": \"\"}, \"colorscale\": [[0.0, \"#0d0887\"], [0.1111111111111111, \"#46039f\"], [0.2222222222222222, \"#7201a8\"], [0.3333333333333333, \"#9c179e\"], [0.4444444444444444, \"#bd3786\"], [0.5555555555555556, \"#d8576b\"], [0.6666666666666666, \"#ed7953\"], [0.7777777777777778, \"#fb9f3a\"], [0.8888888888888888, \"#fdca26\"], [1.0, \"#f0f921\"]], \"type\": \"heatmapgl\"}], \"histogram\": [{\"marker\": {\"colorbar\": {\"outlinewidth\": 0, \"ticks\": \"\"}}, \"type\": \"histogram\"}], \"histogram2d\": [{\"colorbar\": {\"outlinewidth\": 0, \"ticks\": \"\"}, \"colorscale\": [[0.0, \"#0d0887\"], [0.1111111111111111, \"#46039f\"], [0.2222222222222222, \"#7201a8\"], [0.3333333333333333, \"#9c179e\"], [0.4444444444444444, \"#bd3786\"], [0.5555555555555556, \"#d8576b\"], [0.6666666666666666, \"#ed7953\"], [0.7777777777777778, \"#fb9f3a\"], [0.8888888888888888, \"#fdca26\"], [1.0, \"#f0f921\"]], \"type\": \"histogram2d\"}], \"histogram2dcontour\": [{\"colorbar\": {\"outlinewidth\": 0, \"ticks\": \"\"}, \"colorscale\": [[0.0, \"#0d0887\"], [0.1111111111111111, \"#46039f\"], [0.2222222222222222, \"#7201a8\"], [0.3333333333333333, \"#9c179e\"], [0.4444444444444444, \"#bd3786\"], [0.5555555555555556, \"#d8576b\"], [0.6666666666666666, \"#ed7953\"], [0.7777777777777778, \"#fb9f3a\"], [0.8888888888888888, \"#fdca26\"], [1.0, \"#f0f921\"]], \"type\": \"histogram2dcontour\"}], \"mesh3d\": [{\"colorbar\": {\"outlinewidth\": 0, \"ticks\": \"\"}, \"type\": \"mesh3d\"}], \"parcoords\": [{\"line\": {\"colorbar\": {\"outlinewidth\": 0, \"ticks\": \"\"}}, \"type\": \"parcoords\"}], \"pie\": [{\"automargin\": true, \"type\": \"pie\"}], \"scatter\": [{\"marker\": {\"colorbar\": {\"outlinewidth\": 0, \"ticks\": \"\"}}, \"type\": \"scatter\"}], \"scatter3d\": [{\"line\": {\"colorbar\": {\"outlinewidth\": 0, \"ticks\": \"\"}}, \"marker\": {\"colorbar\": {\"outlinewidth\": 0, \"ticks\": \"\"}}, \"type\": \"scatter3d\"}], \"scattercarpet\": [{\"marker\": {\"colorbar\": {\"outlinewidth\": 0, \"ticks\": \"\"}}, \"type\": \"scattercarpet\"}], \"scattergeo\": [{\"marker\": {\"colorbar\": {\"outlinewidth\": 0, \"ticks\": \"\"}}, \"type\": \"scattergeo\"}], \"scattergl\": [{\"marker\": {\"colorbar\": {\"outlinewidth\": 0, \"ticks\": \"\"}}, \"type\": \"scattergl\"}], \"scattermapbox\": [{\"marker\": {\"colorbar\": {\"outlinewidth\": 0, \"ticks\": \"\"}}, \"type\": \"scattermapbox\"}], \"scatterpolar\": [{\"marker\": {\"colorbar\": {\"outlinewidth\": 0, \"ticks\": \"\"}}, \"type\": \"scatterpolar\"}], \"scatterpolargl\": [{\"marker\": {\"colorbar\": {\"outlinewidth\": 0, \"ticks\": \"\"}}, \"type\": \"scatterpolargl\"}], \"scatterternary\": [{\"marker\": {\"colorbar\": {\"outlinewidth\": 0, \"ticks\": \"\"}}, \"type\": \"scatterternary\"}], \"surface\": [{\"colorbar\": {\"outlinewidth\": 0, \"ticks\": \"\"}, \"colorscale\": [[0.0, \"#0d0887\"], [0.1111111111111111, \"#46039f\"], [0.2222222222222222, \"#7201a8\"], [0.3333333333333333, \"#9c179e\"], [0.4444444444444444, \"#bd3786\"], [0.5555555555555556, \"#d8576b\"], [0.6666666666666666, \"#ed7953\"], [0.7777777777777778, \"#fb9f3a\"], [0.8888888888888888, \"#fdca26\"], [1.0, \"#f0f921\"]], \"type\": \"surface\"}], \"table\": [{\"cells\": {\"fill\": {\"color\": \"#EBF0F8\"}, \"line\": {\"color\": \"white\"}}, \"header\": {\"fill\": {\"color\": \"#C8D4E3\"}, \"line\": {\"color\": \"white\"}}, \"type\": \"table\"}]}, \"layout\": {\"annotationdefaults\": {\"arrowcolor\": \"#2a3f5f\", \"arrowhead\": 0, \"arrowwidth\": 1}, \"autotypenumbers\": \"strict\", \"coloraxis\": {\"colorbar\": {\"outlinewidth\": 0, \"ticks\": \"\"}}, \"colorscale\": {\"diverging\": [[0, \"#8e0152\"], [0.1, \"#c51b7d\"], [0.2, \"#de77ae\"], [0.3, \"#f1b6da\"], [0.4, \"#fde0ef\"], [0.5, \"#f7f7f7\"], [0.6, \"#e6f5d0\"], [0.7, \"#b8e186\"], [0.8, \"#7fbc41\"], [0.9, \"#4d9221\"], [1, \"#276419\"]], \"sequential\": [[0.0, \"#0d0887\"], [0.1111111111111111, \"#46039f\"], [0.2222222222222222, \"#7201a8\"], [0.3333333333333333, \"#9c179e\"], [0.4444444444444444, \"#bd3786\"], [0.5555555555555556, \"#d8576b\"], [0.6666666666666666, \"#ed7953\"], [0.7777777777777778, \"#fb9f3a\"], [0.8888888888888888, \"#fdca26\"], [1.0, \"#f0f921\"]], \"sequentialminus\": [[0.0, \"#0d0887\"], [0.1111111111111111, \"#46039f\"], [0.2222222222222222, \"#7201a8\"], [0.3333333333333333, \"#9c179e\"], [0.4444444444444444, \"#bd3786\"], [0.5555555555555556, \"#d8576b\"], [0.6666666666666666, \"#ed7953\"], [0.7777777777777778, \"#fb9f3a\"], [0.8888888888888888, \"#fdca26\"], [1.0, \"#f0f921\"]]}, \"colorway\": [\"#636efa\", \"#EF553B\", \"#00cc96\", \"#ab63fa\", \"#FFA15A\", \"#19d3f3\", \"#FF6692\", \"#B6E880\", \"#FF97FF\", \"#FECB52\"], \"font\": {\"color\": \"#2a3f5f\"}, \"geo\": {\"bgcolor\": \"white\", \"lakecolor\": \"white\", \"landcolor\": \"#E5ECF6\", \"showlakes\": true, \"showland\": true, \"subunitcolor\": \"white\"}, \"hoverlabel\": {\"align\": \"left\"}, \"hovermode\": \"closest\", \"mapbox\": {\"style\": \"light\"}, \"paper_bgcolor\": \"white\", \"plot_bgcolor\": \"#E5ECF6\", \"polar\": {\"angularaxis\": {\"gridcolor\": \"white\", \"linecolor\": \"white\", \"ticks\": \"\"}, \"bgcolor\": \"#E5ECF6\", \"radialaxis\": {\"gridcolor\": \"white\", \"linecolor\": \"white\", \"ticks\": \"\"}}, \"scene\": {\"xaxis\": {\"backgroundcolor\": \"#E5ECF6\", \"gridcolor\": \"white\", \"gridwidth\": 2, \"linecolor\": \"white\", \"showbackground\": true, \"ticks\": \"\", \"zerolinecolor\": \"white\"}, \"yaxis\": {\"backgroundcolor\": \"#E5ECF6\", \"gridcolor\": \"white\", \"gridwidth\": 2, \"linecolor\": \"white\", \"showbackground\": true, \"ticks\": \"\", \"zerolinecolor\": \"white\"}, \"zaxis\": {\"backgroundcolor\": \"#E5ECF6\", \"gridcolor\": \"white\", \"gridwidth\": 2, \"linecolor\": \"white\", \"showbackground\": true, \"ticks\": \"\", \"zerolinecolor\": \"white\"}}, \"shapedefaults\": {\"line\": {\"color\": \"#2a3f5f\"}}, \"ternary\": {\"aaxis\": {\"gridcolor\": \"white\", \"linecolor\": \"white\", \"ticks\": \"\"}, \"baxis\": {\"gridcolor\": \"white\", \"linecolor\": \"white\", \"ticks\": \"\"}, \"bgcolor\": \"#E5ECF6\", \"caxis\": {\"gridcolor\": \"white\", \"linecolor\": \"white\", \"ticks\": \"\"}}, \"title\": {\"x\": 0.05}, \"xaxis\": {\"automargin\": true, \"gridcolor\": \"white\", \"linecolor\": \"white\", \"ticks\": \"\", \"title\": {\"standoff\": 15}, \"zerolinecolor\": \"white\", \"zerolinewidth\": 2}, \"yaxis\": {\"automargin\": true, \"gridcolor\": \"white\", \"linecolor\": \"white\", \"ticks\": \"\", \"title\": {\"standoff\": 15}, \"zerolinecolor\": \"white\", \"zerolinewidth\": 2}}}, \"xaxis\": {\"anchor\": \"y\", \"domain\": [0.0, 1.0], \"title\": {\"text\": \"graph\"}}, \"yaxis\": {\"anchor\": \"x\", \"domain\": [0.0, 1.0], \"title\": {\"text\": \"sum of n_covered\"}}},                        {\"responsive\": true}                    ).then(function(){\n",
       "                            \n",
       "var gd = document.getElementById('00259cdb-213e-4086-8087-fe8efce3cda1');\n",
       "var x = new MutationObserver(function (mutations, observer) {{\n",
       "        var display = window.getComputedStyle(gd).display;\n",
       "        if (!display || display === 'none') {{\n",
       "            console.log([gd, 'removed!']);\n",
       "            Plotly.purge(gd);\n",
       "            observer.disconnect();\n",
       "        }}\n",
       "}});\n",
       "\n",
       "// Listen for the removal of the full notebook cells\n",
       "var notebookContainer = gd.closest('#notebook-container');\n",
       "if (notebookContainer) {{\n",
       "    x.observe(notebookContainer, {childList: true});\n",
       "}}\n",
       "\n",
       "// Listen for the clearing of the current output cell\n",
       "var outputEl = gd.closest('.output');\n",
       "if (outputEl) {{\n",
       "    x.observe(outputEl, {childList: true});\n",
       "}}\n",
       "\n",
       "                        })                };                });            </script>        </div>"
      ]
     },
     "metadata": {},
     "output_type": "display_data"
    }
   ],
   "source": [
    "fig = px.histogram(Full, x=\"graph\", y=\"n_covered\",\n",
    "             color='model', barmode='group',\n",
    "             height=400)\n",
    "fig.show()"
   ]
  },
  {
   "cell_type": "code",
   "execution_count": 38,
   "id": "952613d0",
   "metadata": {
    "ExecuteTime": {
     "end_time": "2022-12-01T19:07:00.726091Z",
     "start_time": "2022-12-01T19:07:00.697340Z"
    }
   },
   "outputs": [
    {
     "name": "stderr",
     "output_type": "stream",
     "text": [
      "C:\\Users\\Jairo Enrique\\AppData\\Local\\Temp\\ipykernel_17244\\1843624887.py:1: FutureWarning:\n",
      "\n",
      "The default value of numeric_only in DataFrameGroupBy.mean is deprecated. In a future version, numeric_only will default to False. Either specify numeric_only or select only columns which should be valid for the function.\n",
      "\n"
     ]
    },
    {
     "data": {
      "text/html": [
       "<div>\n",
       "<style scoped>\n",
       "    .dataframe tbody tr th:only-of-type {\n",
       "        vertical-align: middle;\n",
       "    }\n",
       "\n",
       "    .dataframe tbody tr th {\n",
       "        vertical-align: top;\n",
       "    }\n",
       "\n",
       "    .dataframe thead th {\n",
       "        text-align: right;\n",
       "    }\n",
       "</style>\n",
       "<table border=\"1\" class=\"dataframe\">\n",
       "  <thead>\n",
       "    <tr style=\"text-align: right;\">\n",
       "      <th></th>\n",
       "      <th>n_covered</th>\n",
       "      <th>n</th>\n",
       "      <th>t_mean</th>\n",
       "      <th>ratio</th>\n",
       "    </tr>\n",
       "    <tr>\n",
       "      <th>model</th>\n",
       "      <th></th>\n",
       "      <th></th>\n",
       "      <th></th>\n",
       "      <th></th>\n",
       "    </tr>\n",
       "  </thead>\n",
       "  <tbody>\n",
       "    <tr>\n",
       "      <th>MDH</th>\n",
       "      <td>8535.518519</td>\n",
       "      <td>126984.777778</td>\n",
       "      <td>25.929741</td>\n",
       "      <td>0.095638</td>\n",
       "    </tr>\n",
       "    <tr>\n",
       "      <th>GRAT</th>\n",
       "      <td>10794.888889</td>\n",
       "      <td>126984.777778</td>\n",
       "      <td>11.097704</td>\n",
       "      <td>0.123316</td>\n",
       "    </tr>\n",
       "    <tr>\n",
       "      <th>SAGE</th>\n",
       "      <td>31015.750000</td>\n",
       "      <td>170246.500000</td>\n",
       "      <td>94.712400</td>\n",
       "      <td>0.160935</td>\n",
       "    </tr>\n",
       "    <tr>\n",
       "      <th>GraphConv</th>\n",
       "      <td>31603.538462</td>\n",
       "      <td>131864.384615</td>\n",
       "      <td>66.714731</td>\n",
       "      <td>0.310163</td>\n",
       "    </tr>\n",
       "    <tr>\n",
       "      <th>GAT</th>\n",
       "      <td>44224.115385</td>\n",
       "      <td>131864.384615</td>\n",
       "      <td>191.852692</td>\n",
       "      <td>0.338407</td>\n",
       "    </tr>\n",
       "    <tr>\n",
       "      <th>GCN</th>\n",
       "      <td>42548.040000</td>\n",
       "      <td>137137.600000</td>\n",
       "      <td>170.006880</td>\n",
       "      <td>0.412259</td>\n",
       "    </tr>\n",
       "  </tbody>\n",
       "</table>\n",
       "</div>"
      ],
      "text/plain": [
       "              n_covered              n      t_mean     ratio\n",
       "model                                                       \n",
       "MDH         8535.518519  126984.777778   25.929741  0.095638\n",
       "GRAT       10794.888889  126984.777778   11.097704  0.123316\n",
       "SAGE       31015.750000  170246.500000   94.712400  0.160935\n",
       "GraphConv  31603.538462  131864.384615   66.714731  0.310163\n",
       "GAT        44224.115385  131864.384615  191.852692  0.338407\n",
       "GCN        42548.040000  137137.600000  170.006880  0.412259"
      ]
     },
     "execution_count": 38,
     "metadata": {},
     "output_type": "execute_result"
    }
   ],
   "source": [
    "Full.groupby(by = \"model\").mean().sort_values(by=['ratio'])"
   ]
  },
  {
   "cell_type": "code",
   "execution_count": 39,
   "id": "d9491bdb",
   "metadata": {
    "ExecuteTime": {
     "end_time": "2022-12-01T19:07:01.103096Z",
     "start_time": "2022-12-01T19:07:01.088340Z"
    }
   },
   "outputs": [
    {
     "name": "stdout",
     "output_type": "stream",
     "text": [
      "(151, 6)\n"
     ]
    },
    {
     "data": {
      "text/plain": [
       "(151, 6)"
      ]
     },
     "execution_count": 39,
     "metadata": {},
     "output_type": "execute_result"
    }
   ],
   "source": [
    "print(Full.shape)\n",
    "#Full = Full.drop_duplicates(subset=['n_covered'], keep = False)\n",
    "Full.shape"
   ]
  },
  {
   "cell_type": "code",
   "execution_count": 40,
   "id": "425ac3dd",
   "metadata": {
    "ExecuteTime": {
     "end_time": "2022-12-01T19:07:01.490313Z",
     "start_time": "2022-12-01T19:07:01.463250Z"
    }
   },
   "outputs": [
    {
     "data": {
      "text/html": [
       "<div>\n",
       "<style scoped>\n",
       "    .dataframe tbody tr th:only-of-type {\n",
       "        vertical-align: middle;\n",
       "    }\n",
       "\n",
       "    .dataframe tbody tr th {\n",
       "        vertical-align: top;\n",
       "    }\n",
       "\n",
       "    .dataframe thead th {\n",
       "        text-align: right;\n",
       "    }\n",
       "</style>\n",
       "<table border=\"1\" class=\"dataframe\">\n",
       "  <thead>\n",
       "    <tr style=\"text-align: right;\">\n",
       "      <th></th>\n",
       "      <th>graph</th>\n",
       "      <th>model</th>\n",
       "      <th>n_covered</th>\n",
       "      <th>n</th>\n",
       "      <th>t_mean</th>\n",
       "      <th>ratio</th>\n",
       "    </tr>\n",
       "  </thead>\n",
       "  <tbody>\n",
       "    <tr>\n",
       "      <th>12</th>\n",
       "      <td>graph_dolphins</td>\n",
       "      <td>GraphConv</td>\n",
       "      <td>13</td>\n",
       "      <td>34</td>\n",
       "      <td>0.000</td>\n",
       "      <td>0.382353</td>\n",
       "    </tr>\n",
       "    <tr>\n",
       "      <th>12</th>\n",
       "      <td>graph_dolphins</td>\n",
       "      <td>GAT</td>\n",
       "      <td>12</td>\n",
       "      <td>34</td>\n",
       "      <td>0.000</td>\n",
       "      <td>0.352941</td>\n",
       "    </tr>\n",
       "    <tr>\n",
       "      <th>12</th>\n",
       "      <td>graph_dolphins</td>\n",
       "      <td>MDH</td>\n",
       "      <td>3</td>\n",
       "      <td>34</td>\n",
       "      <td>0.000</td>\n",
       "      <td>0.088235</td>\n",
       "    </tr>\n",
       "    <tr>\n",
       "      <th>12</th>\n",
       "      <td>graph_dolphins</td>\n",
       "      <td>GRAT</td>\n",
       "      <td>4</td>\n",
       "      <td>34</td>\n",
       "      <td>0.000</td>\n",
       "      <td>0.117647</td>\n",
       "    </tr>\n",
       "    <tr>\n",
       "      <th>2</th>\n",
       "      <td>graph_karate</td>\n",
       "      <td>GAT</td>\n",
       "      <td>15</td>\n",
       "      <td>62</td>\n",
       "      <td>0.000</td>\n",
       "      <td>0.241935</td>\n",
       "    </tr>\n",
       "    <tr>\n",
       "      <th>...</th>\n",
       "      <td>...</td>\n",
       "      <td>...</td>\n",
       "      <td>...</td>\n",
       "      <td>...</td>\n",
       "      <td>...</td>\n",
       "      <td>...</td>\n",
       "    </tr>\n",
       "    <tr>\n",
       "      <th>23</th>\n",
       "      <td>com-youtube.ungraph</td>\n",
       "      <td>MDH</td>\n",
       "      <td>39090</td>\n",
       "      <td>1134890</td>\n",
       "      <td>317.299</td>\n",
       "      <td>0.034444</td>\n",
       "    </tr>\n",
       "    <tr>\n",
       "      <th>23</th>\n",
       "      <td>com-youtube.ungraph</td>\n",
       "      <td>GraphConv</td>\n",
       "      <td>237831</td>\n",
       "      <td>1134890</td>\n",
       "      <td>1093.651</td>\n",
       "      <td>0.209563</td>\n",
       "    </tr>\n",
       "    <tr>\n",
       "      <th>23</th>\n",
       "      <td>com-youtube.ungraph</td>\n",
       "      <td>GCN</td>\n",
       "      <td>319859</td>\n",
       "      <td>1134890</td>\n",
       "      <td>3030.602</td>\n",
       "      <td>0.281841</td>\n",
       "    </tr>\n",
       "    <tr>\n",
       "      <th>23</th>\n",
       "      <td>com-youtube.ungraph</td>\n",
       "      <td>GRAT</td>\n",
       "      <td>65794</td>\n",
       "      <td>1134890</td>\n",
       "      <td>62.537</td>\n",
       "      <td>0.057974</td>\n",
       "    </tr>\n",
       "    <tr>\n",
       "      <th>23</th>\n",
       "      <td>com-youtube.ungraph</td>\n",
       "      <td>GAT</td>\n",
       "      <td>495435</td>\n",
       "      <td>1134890</td>\n",
       "      <td>3818.455</td>\n",
       "      <td>0.436549</td>\n",
       "    </tr>\n",
       "  </tbody>\n",
       "</table>\n",
       "<p>151 rows × 6 columns</p>\n",
       "</div>"
      ],
      "text/plain": [
       "                  graph      model  n_covered        n    t_mean     ratio\n",
       "12       graph_dolphins  GraphConv         13       34     0.000  0.382353\n",
       "12       graph_dolphins        GAT         12       34     0.000  0.352941\n",
       "12       graph_dolphins        MDH          3       34     0.000  0.088235\n",
       "12       graph_dolphins       GRAT          4       34     0.000  0.117647\n",
       "2          graph_karate        GAT         15       62     0.000  0.241935\n",
       "..                  ...        ...        ...      ...       ...       ...\n",
       "23  com-youtube.ungraph        MDH      39090  1134890   317.299  0.034444\n",
       "23  com-youtube.ungraph  GraphConv     237831  1134890  1093.651  0.209563\n",
       "23  com-youtube.ungraph        GCN     319859  1134890  3030.602  0.281841\n",
       "23  com-youtube.ungraph       GRAT      65794  1134890    62.537  0.057974\n",
       "23  com-youtube.ungraph        GAT     495435  1134890  3818.455  0.436549\n",
       "\n",
       "[151 rows x 6 columns]"
      ]
     },
     "execution_count": 40,
     "metadata": {},
     "output_type": "execute_result"
    }
   ],
   "source": [
    "Full"
   ]
  },
  {
   "cell_type": "markdown",
   "id": "d2b7e78b",
   "metadata": {},
   "source": [
    "## Por mejor solución"
   ]
  },
  {
   "cell_type": "code",
   "execution_count": 41,
   "id": "0bac5d8c",
   "metadata": {
    "ExecuteTime": {
     "end_time": "2022-12-01T19:07:02.110611Z",
     "start_time": "2022-12-01T19:07:02.007435Z"
    }
   },
   "outputs": [
    {
     "data": {
      "text/plain": [
       "array([1., 1., 1., 1., 1., 1.])"
      ]
     },
     "execution_count": 41,
     "metadata": {},
     "output_type": "execute_result"
    }
   ],
   "source": [
    "models_name = Full.model.unique()\n",
    "Dict = {m: i for m, i in zip(models_name, np.arange(models_name.shape[0]))}\n",
    "\n",
    "MT = np.zeros((models_name.shape[0], models_name.shape[0]))\n",
    "for graph in Full.graph.unique():\n",
    "    \n",
    "    Temp = np.array(Full.query(f\"graph == '{graph}'\").sort_values(by = \"ratio\", ascending = False).model)\n",
    "    \n",
    "    for m in range(Temp.shape[0]):\n",
    "\n",
    "        if (m + 1) == Temp.shape[0]:\n",
    "            MT[ Dict[ Temp[m] ] ][ Dict[ Temp[m] ] ] += 1\n",
    "            continue\n",
    "        \n",
    "        for j in range(m + 1, Temp.shape[0]):\n",
    "            MT[ Dict[ Temp[m] ] ][ Dict[ Temp[j] ] ] += 1\n",
    "        \n",
    "\n",
    "MT_ = MT / np.expand_dims(np.sum(MT, axis = 1), 1)\n",
    "# La por filas siempre debe de dar 1 y para la probabilidad de estado estacionario, \n",
    "# se hace la transpuesta, es decir, las columnas son las deben sumar 1\n",
    "MT_.sum(1)"
   ]
  },
  {
   "cell_type": "code",
   "execution_count": 42,
   "id": "051dc7e2",
   "metadata": {
    "ExecuteTime": {
     "end_time": "2022-12-01T19:07:02.343195Z",
     "start_time": "2022-12-01T19:07:02.314194Z"
    }
   },
   "outputs": [
    {
     "name": "stdout",
     "output_type": "stream",
     "text": [
      "[0.002 0.001 0.942 0.016 0.    0.039] \n",
      " ['GraphConv' 'GAT' 'MDH' 'GRAT' 'GCN' 'SAGE']\n"
     ]
    }
   ],
   "source": [
    "SPD_best = np.ones(MT_.shape[0])/MT_.shape[0] # initial distirbution\n",
    "for _ in range(200):\n",
    "    SPD_best = np.dot(MT_.T, SPD_best)\n",
    "print(np.round(SPD_best,3), '\\n',models_name)"
   ]
  },
  {
   "cell_type": "code",
   "execution_count": 43,
   "id": "af86ad0f",
   "metadata": {
    "ExecuteTime": {
     "end_time": "2022-12-01T19:07:02.917781Z",
     "start_time": "2022-12-01T19:07:02.910261Z"
    }
   },
   "outputs": [
    {
     "data": {
      "text/plain": [
       "array(['MDH', 'SAGE', 'GRAT', 'GraphConv', 'GAT', 'GCN'], dtype=object)"
      ]
     },
     "execution_count": 43,
     "metadata": {},
     "output_type": "execute_result"
    }
   ],
   "source": [
    "# Obtenemos el mínimo porque \n",
    "models_name[np.argsort(-SPD_best)]"
   ]
  },
  {
   "cell_type": "code",
   "execution_count": 44,
   "id": "1bbed3e8",
   "metadata": {
    "ExecuteTime": {
     "end_time": "2022-12-01T19:07:03.743703Z",
     "start_time": "2022-12-01T19:07:03.125238Z"
    }
   },
   "outputs": [
    {
     "data": {
      "image/png": "[encoded data removed]",
      "text/plain": [
       "<Figure size 640x480 with 2 Axes>"
      ]
     },
     "metadata": {},
     "output_type": "display_data"
    }
   ],
   "source": [
    "sns.heatmap(MT_, annot = True, xticklabels = models_name, yticklabels = models_name)\n",
    "plt.title(\"Heatmap for best solution\")\n",
    "plt.xlabel(\"Mejor que\");"
   ]
  },
  {
   "cell_type": "markdown",
   "id": "f5715266",
   "metadata": {},
   "source": [
    "## Por tiempo"
   ]
  },
  {
   "cell_type": "code",
   "execution_count": 45,
   "id": "f94933df",
   "metadata": {
    "ExecuteTime": {
     "end_time": "2022-12-01T19:07:11.505016Z",
     "start_time": "2022-12-01T19:07:11.420590Z"
    }
   },
   "outputs": [
    {
     "data": {
      "text/plain": [
       "array([1., 1., 1., 1., 1., 1.])"
      ]
     },
     "execution_count": 45,
     "metadata": {},
     "output_type": "execute_result"
    }
   ],
   "source": [
    "MT = np.zeros((models_name.shape[0], models_name.shape[0]))\n",
    "for graph in Full.graph.unique():\n",
    "    Temp = np.array(Full.query(f\"graph == '{graph}'\").sort_values(by = \"t_mean\", ascending=False).model)\n",
    "    for m in range(Temp.shape[0]):\n",
    "\n",
    "        if (m + 1) == Temp.shape[0]:\n",
    "            MT[ Dict[ Temp[m] ] ][ Dict[ Temp[m] ] ] += 1\n",
    "            continue\n",
    "        MT[ Dict[ Temp[m] ] ][ Dict[ Temp[m + 1] ] ] += 1\n",
    "\n",
    "MT_ = MT / np.expand_dims(np.sum(MT, axis = 1), 1)\n",
    "# La por filas siempre debe de dar 1 y para la probabilidad de estado estacionario, \n",
    "# se hace la transpuesta, es decir, las columnas son las deben sumar 1\n",
    "MT_.sum(1)"
   ]
  },
  {
   "cell_type": "code",
   "execution_count": 46,
   "id": "94d81e18",
   "metadata": {
    "ExecuteTime": {
     "end_time": "2022-12-01T19:07:22.088667Z",
     "start_time": "2022-12-01T19:07:22.075652Z"
    }
   },
   "outputs": [
    {
     "name": "stdout",
     "output_type": "stream",
     "text": [
      "[0.10134 0.02453 0.25904 0.44536 0.02289 0.14684] \n",
      " ['GraphConv' 'GAT' 'MDH' 'GRAT' 'GCN' 'SAGE']\n"
     ]
    }
   ],
   "source": [
    "SPD_time = np.ones(MT_.shape[0])/MT_.shape[0] # initial distirbution\n",
    "for _ in range(100):\n",
    "    SPD_time = np.dot(MT_.T, SPD_time)\n",
    "print(np.round(SPD_time,5), '\\n',models_name)"
   ]
  },
  {
   "cell_type": "code",
   "execution_count": 47,
   "id": "46ab724c",
   "metadata": {
    "ExecuteTime": {
     "end_time": "2022-12-01T19:07:22.259559Z",
     "start_time": "2022-12-01T19:07:22.247001Z"
    }
   },
   "outputs": [
    {
     "data": {
      "text/plain": [
       "array(['GRAT', 'MDH', 'SAGE', 'GraphConv', 'GAT', 'GCN'], dtype=object)"
      ]
     },
     "execution_count": 47,
     "metadata": {},
     "output_type": "execute_result"
    }
   ],
   "source": [
    "models_name[np.argsort(-SPD_time)]"
   ]
  },
  {
   "cell_type": "code",
   "execution_count": 48,
   "id": "5d163a20",
   "metadata": {
    "ExecuteTime": {
     "end_time": "2022-12-01T19:07:22.936258Z",
     "start_time": "2022-12-01T19:07:22.407351Z"
    }
   },
   "outputs": [
    {
     "data": {
      "text/plain": [
       "Text(0.5, 1.0, 'Heatmap for fastest solution')"
      ]
     },
     "execution_count": 48,
     "metadata": {},
     "output_type": "execute_result"
    },
    {
     "data": {
      "image/png": "[encoded data removed]",
      "text/plain": [
       "<Figure size 640x480 with 2 Axes>"
      ]
     },
     "metadata": {},
     "output_type": "display_data"
    }
   ],
   "source": [
    "sns.heatmap(MT_, annot = True, xticklabels = models_name, yticklabels = models_name)\n",
    "plt.title(\"Heatmap for fastest solution\")"
   ]
  },
  {
   "cell_type": "markdown",
   "id": "44bdda17",
   "metadata": {},
   "source": [
    "## All together"
   ]
  },
  {
   "cell_type": "code",
   "execution_count": 49,
   "id": "8d920673",
   "metadata": {
    "ExecuteTime": {
     "end_time": "2022-12-01T19:07:23.093284Z",
     "start_time": "2022-12-01T19:07:23.081718Z"
    }
   },
   "outputs": [
    {
     "name": "stdout",
     "output_type": "stream",
     "text": [
      "---- Best solution ----\n",
      "\n",
      "1  -  MDH  \t 0.942\n",
      "2  -  SAGE  \t 0.039\n",
      "3  -  GRAT  \t 0.016\n",
      "4  -  GraphC  \t 0.002\n",
      "5  -  GAT  \t 0.001\n",
      "6  -  GCN  \t 0.000\n"
     ]
    }
   ],
   "source": [
    "print(\"---- Best solution ----\\n\")\n",
    "c = 1\n",
    "for g in np.argsort(-SPD_best):\n",
    "    print(c,\" - \", models_name[g][:6], f\" \\t {SPD_best[g]:.3f}\")\n",
    "    c += 1"
   ]
  },
  {
   "cell_type": "code",
   "execution_count": 50,
   "id": "c9ad5e0d",
   "metadata": {
    "ExecuteTime": {
     "end_time": "2022-12-01T19:07:23.749480Z",
     "start_time": "2022-12-01T19:07:23.740936Z"
    }
   },
   "outputs": [
    {
     "name": "stdout",
     "output_type": "stream",
     "text": [
      "------ Best time ------\n",
      "\n",
      "1  -  GRAT  \t 0.445\n",
      "2  -  MDH  \t 0.259\n",
      "3  -  SAGE  \t 0.147\n",
      "4  -  GraphC  \t 0.101\n",
      "5  -  GAT  \t 0.025\n",
      "6  -  GCN  \t 0.023\n"
     ]
    }
   ],
   "source": [
    "print(\"------ Best time ------\\n\")\n",
    "c = 1\n",
    "for g in np.argsort(-SPD_time):\n",
    "    print(c,\" - \", models_name[g][:6], f\" \\t {SPD_time[g]:.3f}\")\n",
    "    c+=1"
   ]
  },
  {
   "cell_type": "code",
   "execution_count": null,
   "id": "b7adceff",
   "metadata": {},
   "outputs": [],
   "source": []
  },
  {
   "cell_type": "code",
   "execution_count": null,
   "id": "c73e8d0e",
   "metadata": {},
   "outputs": [],
   "source": []
  },
  {
   "cell_type": "code",
   "execution_count": 301,
   "id": "3042004f",
   "metadata": {
    "ExecuteTime": {
     "end_time": "2022-11-10T20:31:17.528681Z",
     "start_time": "2022-11-10T20:31:17.513222Z"
    }
   },
   "outputs": [],
   "source": [
    "import numpy as np\n",
    "x = np.array([[6.5,7], [5,3],[6,6],[7.5,8.2],[4,4], [6,7], [5,5], [5.1,5.2], [7,8], [8,8], [8,8]])\n",
    "x = np.append(np.ones((11,1)),x, axis = 1)\n",
    "y = np.array([6,8,7,2.5,4,10,5,7,4,12,4])"
   ]
  },
  {
   "cell_type": "code",
   "execution_count": 3,
   "id": "d7e7e171",
   "metadata": {
    "ExecuteTime": {
     "end_time": "2022-11-10T16:13:31.518949Z",
     "start_time": "2022-11-10T16:13:31.496937Z"
    }
   },
   "outputs": [
    {
     "data": {
      "text/plain": [
       "array([[1. , 6.5, 7. ],\n",
       "       [1. , 5. , 3. ],\n",
       "       [1. , 6. , 6. ],\n",
       "       [1. , 7.5, 8.2],\n",
       "       [1. , 4. , 4. ],\n",
       "       [1. , 6. , 7. ],\n",
       "       [1. , 5. , 5. ],\n",
       "       [1. , 5.1, 5.2],\n",
       "       [1. , 7. , 8. ],\n",
       "       [1. , 8. , 8. ],\n",
       "       [1. , 8. , 8. ]])"
      ]
     },
     "execution_count": 3,
     "metadata": {},
     "output_type": "execute_result"
    }
   ],
   "source": [
    "x"
   ]
  },
  {
   "cell_type": "code",
   "execution_count": 4,
   "id": "3b6f61c8",
   "metadata": {
    "ExecuteTime": {
     "end_time": "2022-11-10T16:13:31.766813Z",
     "start_time": "2022-11-10T16:13:31.745840Z"
    }
   },
   "outputs": [
    {
     "data": {
      "text/plain": [
       "array([[ 11.  ,  68.1 ,  69.4 ],\n",
       "       [ 68.1 , 439.51, 451.52],\n",
       "       [ 69.4 , 451.52, 470.28]])"
      ]
     },
     "execution_count": 4,
     "metadata": {},
     "output_type": "execute_result"
    }
   ],
   "source": [
    "np.dot(x.T, x)"
   ]
  },
  {
   "cell_type": "code",
   "execution_count": 73,
   "id": "491ed44c",
   "metadata": {
    "ExecuteTime": {
     "end_time": "2022-11-08T16:17:18.829798Z",
     "start_time": "2022-11-08T16:17:18.801049Z"
    }
   },
   "outputs": [
    {
     "data": {
      "text/plain": [
       "array([[ 2.50477748, -0.61285329,  0.21877171],\n",
       "       [-0.61285329,  0.31657017, -0.21350205],\n",
       "       [ 0.21877171, -0.21350205,  0.1748271 ]])"
      ]
     },
     "execution_count": 73,
     "metadata": {},
     "output_type": "execute_result"
    }
   ],
   "source": [
    "np.linalg.inv(np.dot(x.T, x))"
   ]
  },
  {
   "cell_type": "code",
   "execution_count": 74,
   "id": "b4069a89",
   "metadata": {
    "ExecuteTime": {
     "end_time": "2022-11-08T16:18:28.993261Z",
     "start_time": "2022-11-08T16:18:28.977643Z"
    }
   },
   "outputs": [
    {
     "data": {
      "text/plain": [
       "array([ 69.5 , 432.45, 435.9 ])"
      ]
     },
     "execution_count": 74,
     "metadata": {},
     "output_type": "execute_result"
    }
   ],
   "source": [
    "np.dot(x.T,y)"
   ]
  },
  {
   "cell_type": "code",
   "execution_count": 5,
   "id": "682f7089",
   "metadata": {
    "ExecuteTime": {
     "end_time": "2022-11-10T16:17:37.141680Z",
     "start_time": "2022-11-10T16:17:37.105825Z"
    }
   },
   "outputs": [
    {
     "data": {
      "text/plain": [
       "array([ 4.41621859,  1.24192201, -0.91719443])"
      ]
     },
     "execution_count": 5,
     "metadata": {},
     "output_type": "execute_result"
    }
   ],
   "source": [
    "B = np.dot(np.linalg.inv(np.dot(x.T, x)), np.dot(x.T,y))\n",
    "B"
   ]
  },
  {
   "cell_type": "code",
   "execution_count": 80,
   "id": "d5fb85be",
   "metadata": {
    "ExecuteTime": {
     "end_time": "2022-11-08T16:22:43.787563Z",
     "start_time": "2022-11-08T16:22:43.771558Z"
    }
   },
   "outputs": [
    {
     "data": {
      "text/plain": [
       "82.13636363636363"
      ]
     },
     "execution_count": 80,
     "metadata": {},
     "output_type": "execute_result"
    }
   ],
   "source": [
    "SST = np.dot(y,y) - (np.sum(y)**2)/11\n",
    "SST"
   ]
  },
  {
   "cell_type": "code",
   "execution_count": 84,
   "id": "66ac8347",
   "metadata": {
    "ExecuteTime": {
     "end_time": "2022-11-08T16:24:06.742304Z",
     "start_time": "2022-11-08T16:24:06.724859Z"
    }
   },
   "outputs": [
    {
     "data": {
      "text/plain": [
       "444.19131364903933"
      ]
     },
     "execution_count": 84,
     "metadata": {},
     "output_type": "execute_result"
    }
   ],
   "source": [
    "np.dot(B, np.dot(x.T,y))"
   ]
  },
  {
   "cell_type": "code",
   "execution_count": 81,
   "id": "6f3e8532",
   "metadata": {
    "ExecuteTime": {
     "end_time": "2022-11-08T16:23:15.664440Z",
     "start_time": "2022-11-08T16:23:15.653718Z"
    }
   },
   "outputs": [
    {
     "data": {
      "text/plain": [
       "77.05868635096067"
      ]
     },
     "execution_count": 81,
     "metadata": {},
     "output_type": "execute_result"
    }
   ],
   "source": [
    "SSE = np.dot(y,y) - np.dot(B, np.dot(x.T,y))\n",
    "SSE"
   ]
  },
  {
   "cell_type": "code",
   "execution_count": 83,
   "id": "007cb220",
   "metadata": {
    "ExecuteTime": {
     "end_time": "2022-11-08T16:23:45.094779Z",
     "start_time": "2022-11-08T16:23:45.083039Z"
    }
   },
   "outputs": [
    {
     "data": {
      "text/plain": [
       "5.077677285402956"
      ]
     },
     "execution_count": 83,
     "metadata": {},
     "output_type": "execute_result"
    }
   ],
   "source": [
    "SSReg = SST - SSE\n",
    "SSReg"
   ]
  },
  {
   "cell_type": "code",
   "execution_count": 90,
   "id": "3d110b50",
   "metadata": {
    "ExecuteTime": {
     "end_time": "2022-11-08T16:41:02.152642Z",
     "start_time": "2022-11-08T16:41:02.137800Z"
    }
   },
   "outputs": [
    {
     "data": {
      "text/plain": [
       "7.663494397900552"
      ]
     },
     "execution_count": 90,
     "metadata": {},
     "output_type": "execute_result"
    }
   ],
   "source": [
    "np.dot(B, [1,10,10])"
   ]
  },
  {
   "cell_type": "code",
   "execution_count": 15,
   "id": "24514330",
   "metadata": {
    "ExecuteTime": {
     "end_time": "2022-11-10T17:47:07.655658Z",
     "start_time": "2022-11-10T17:47:07.644659Z"
    }
   },
   "outputs": [
    {
     "data": {
      "text/plain": [
       "tensor([1.])"
      ]
     },
     "execution_count": 15,
     "metadata": {},
     "output_type": "execute_result"
    }
   ],
   "source": [
    "import torch\n",
    "torch.sigmoid(torch.tensor([100]))"
   ]
  }
 ],
 "metadata": {
  "hide_input": false,
  "kernelspec": {
   "display_name": "Python 3 (ipykernel)",
   "language": "python",
   "name": "python3"
  },
  "language_info": {
   "codemirror_mode": {
    "name": "ipython",
    "version": 3
   },
   "file_extension": ".py",
   "mimetype": "text/x-python",
   "name": "python",
   "nbconvert_exporter": "python",
   "pygments_lexer": "ipython3",
   "version": "3.8.5"
  },
  "varInspector": {
   "cols": {
    "lenName": 16,
    "lenType": 16,
    "lenVar": 40
   },
   "kernels_config": {
    "python": {
     "delete_cmd_postfix": "",
     "delete_cmd_prefix": "del ",
     "library": "var_list.py",
     "varRefreshCmd": "print(var_dic_list())"
    },
    "r": {
     "delete_cmd_postfix": ") ",
     "delete_cmd_prefix": "rm(",
     "library": "var_list.r",
     "varRefreshCmd": "cat(var_dic_list()) "
    }
   },
   "types_to_exclude": [
    "module",
    "function",
    "builtin_function_or_method",
    "instance",
    "_Feature"
   ],
   "window_display": false
  }
 },
 "nbformat": 4,
 "nbformat_minor": 5
}
