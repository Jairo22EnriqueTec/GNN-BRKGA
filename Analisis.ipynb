{
 "cells": [
  {
   "cell_type": "code",
   "execution_count": 2,
   "id": "5cdc2e61",
   "metadata": {
    "ExecuteTime": {
     "end_time": "2023-01-12T14:08:38.873047Z",
     "start_time": "2023-01-12T14:08:33.768550Z"
    }
   },
   "outputs": [],
   "source": [
    "import numpy as np\n",
    "import pandas as pd\n",
    "import plotly.express as px\n",
    "import seaborn as sns\n",
    "import matplotlib.pyplot as plt"
   ]
  },
  {
   "cell_type": "code",
   "execution_count": 48,
   "id": "e8225ed8",
   "metadata": {
    "ExecuteTime": {
     "end_time": "2023-01-12T14:28:59.696096Z",
     "start_time": "2023-01-12T14:28:59.676159Z"
    }
   },
   "outputs": [],
   "source": [
    "general = 'Erdos'\n",
    "tipo = \"scalefree_MDH_Erdos\"\n",
    "subfijo = \"_SME\""
   ]
  },
  {
   "cell_type": "code",
   "execution_count": 49,
   "id": "f1102e59",
   "metadata": {
    "ExecuteTime": {
     "end_time": "2023-01-12T14:29:00.242204Z",
     "start_time": "2023-01-12T14:29:00.230382Z"
    }
   },
   "outputs": [],
   "source": [
    "\"\"\"\n",
    "EME: GRAT > MDH > GAT\n",
    "EIE: MDH > SAGE > GRAT \n",
    "\n",
    "** GAT es muy mala heurística pura y sage muy buena\n",
    "\n",
    "SIE: MDH > GRAT > SAGE\n",
    "SME: GRAT > MDH > GAT\n",
    "\n",
    "\n",
    "EMS: \n",
    "SMS: \n",
    "SIS:\n",
    "EIS:\n",
    "\"\"\";"
   ]
  },
  {
   "cell_type": "code",
   "execution_count": 50,
   "id": "d4169fc4",
   "metadata": {
    "ExecuteTime": {
     "end_time": "2023-01-12T14:29:00.474522Z",
     "start_time": "2023-01-12T14:29:00.431031Z"
    }
   },
   "outputs": [
    {
     "data": {
      "text/html": [
       "<div>\n",
       "<style scoped>\n",
       "    .dataframe tbody tr th:only-of-type {\n",
       "        vertical-align: middle;\n",
       "    }\n",
       "\n",
       "    .dataframe tbody tr th {\n",
       "        vertical-align: top;\n",
       "    }\n",
       "\n",
       "    .dataframe thead th {\n",
       "        text-align: right;\n",
       "    }\n",
       "</style>\n",
       "<table border=\"1\" class=\"dataframe\">\n",
       "  <thead>\n",
       "    <tr style=\"text-align: right;\">\n",
       "      <th></th>\n",
       "      <th>graph</th>\n",
       "      <th>model</th>\n",
       "      <th>target_size</th>\n",
       "      <th>n</th>\n",
       "      <th>t_mean</th>\n",
       "    </tr>\n",
       "  </thead>\n",
       "  <tbody>\n",
       "    <tr>\n",
       "      <th>0</th>\n",
       "      <td>ER_10000_10_0</td>\n",
       "      <td>GRAT</td>\n",
       "      <td>1633</td>\n",
       "      <td>10000</td>\n",
       "      <td>0.071</td>\n",
       "    </tr>\n",
       "    <tr>\n",
       "      <th>1</th>\n",
       "      <td>ER_10000_10_1</td>\n",
       "      <td>GRAT</td>\n",
       "      <td>1607</td>\n",
       "      <td>10000</td>\n",
       "      <td>0.070</td>\n",
       "    </tr>\n",
       "    <tr>\n",
       "      <th>2</th>\n",
       "      <td>ER_10000_15_0</td>\n",
       "      <td>GRAT</td>\n",
       "      <td>1971</td>\n",
       "      <td>10000</td>\n",
       "      <td>0.090</td>\n",
       "    </tr>\n",
       "    <tr>\n",
       "      <th>3</th>\n",
       "      <td>ER_10000_15_1</td>\n",
       "      <td>GRAT</td>\n",
       "      <td>1995</td>\n",
       "      <td>10000</td>\n",
       "      <td>0.081</td>\n",
       "    </tr>\n",
       "    <tr>\n",
       "      <th>4</th>\n",
       "      <td>ER_10000_20_0</td>\n",
       "      <td>GRAT</td>\n",
       "      <td>2224</td>\n",
       "      <td>10000</td>\n",
       "      <td>0.122</td>\n",
       "    </tr>\n",
       "  </tbody>\n",
       "</table>\n",
       "</div>"
      ],
      "text/plain": [
       "           graph model  target_size      n  t_mean\n",
       "0  ER_10000_10_0  GRAT         1633  10000   0.071\n",
       "1  ER_10000_10_1  GRAT         1607  10000   0.070\n",
       "2  ER_10000_15_0  GRAT         1971  10000   0.090\n",
       "3  ER_10000_15_1  GRAT         1995  10000   0.081\n",
       "4  ER_10000_20_0  GRAT         2224  10000   0.122"
      ]
     },
     "execution_count": 50,
     "metadata": {},
     "output_type": "execute_result"
    }
   ],
   "source": [
    "FastCover = pd.read_csv(f\"FastCover/results/{tipo}/FCResults{subfijo}.txt\", header = None)\n",
    "#FastCover = pd.read_csv(\"FastCover/results/paper/FastCoverResults_MDH_erdos.txt\", header = None)\n",
    "FastCover.columns = [\"graph\", \"target_size\",\"t_mean\",\"n\"]\n",
    "FastCover[\"model\"] = \"GRAT\"\n",
    "FastCover = FastCover[[\"graph\", \"model\",\"target_size\", \"n\", \"t_mean\"]]\n",
    "FastCover.head()"
   ]
  },
  {
   "cell_type": "code",
   "execution_count": 51,
   "id": "122c71a7",
   "metadata": {
    "ExecuteTime": {
     "end_time": "2023-01-12T14:29:01.226277Z",
     "start_time": "2023-01-12T14:29:01.130185Z"
    }
   },
   "outputs": [
    {
     "name": "stdout",
     "output_type": "stream",
     "text": [
      "(36, 5)\n"
     ]
    },
    {
     "data": {
      "text/html": [
       "<div>\n",
       "<style scoped>\n",
       "    .dataframe tbody tr th:only-of-type {\n",
       "        vertical-align: middle;\n",
       "    }\n",
       "\n",
       "    .dataframe tbody tr th {\n",
       "        vertical-align: top;\n",
       "    }\n",
       "\n",
       "    .dataframe thead th {\n",
       "        text-align: right;\n",
       "    }\n",
       "</style>\n",
       "<table border=\"1\" class=\"dataframe\">\n",
       "  <thead>\n",
       "    <tr style=\"text-align: right;\">\n",
       "      <th></th>\n",
       "      <th>graph</th>\n",
       "      <th>model</th>\n",
       "      <th>target_size</th>\n",
       "      <th>n</th>\n",
       "      <th>t_mean</th>\n",
       "    </tr>\n",
       "  </thead>\n",
       "  <tbody>\n",
       "    <tr>\n",
       "      <th>0</th>\n",
       "      <td>ER_10000_10_0</td>\n",
       "      <td>SAGE</td>\n",
       "      <td>1573</td>\n",
       "      <td>10000</td>\n",
       "      <td>0.061164</td>\n",
       "    </tr>\n",
       "    <tr>\n",
       "      <th>1</th>\n",
       "      <td>ER_10000_10_1</td>\n",
       "      <td>SAGE</td>\n",
       "      <td>1568</td>\n",
       "      <td>10000</td>\n",
       "      <td>0.103333</td>\n",
       "    </tr>\n",
       "    <tr>\n",
       "      <th>2</th>\n",
       "      <td>ER_10000_15_0</td>\n",
       "      <td>SAGE</td>\n",
       "      <td>1952</td>\n",
       "      <td>10000</td>\n",
       "      <td>0.105182</td>\n",
       "    </tr>\n",
       "    <tr>\n",
       "      <th>3</th>\n",
       "      <td>ER_10000_15_1</td>\n",
       "      <td>SAGE</td>\n",
       "      <td>1932</td>\n",
       "      <td>10000</td>\n",
       "      <td>0.102802</td>\n",
       "    </tr>\n",
       "    <tr>\n",
       "      <th>4</th>\n",
       "      <td>ER_10000_20_0</td>\n",
       "      <td>SAGE</td>\n",
       "      <td>2205</td>\n",
       "      <td>10000</td>\n",
       "      <td>0.118439</td>\n",
       "    </tr>\n",
       "  </tbody>\n",
       "</table>\n",
       "</div>"
      ],
      "text/plain": [
       "           graph model  target_size      n    t_mean\n",
       "0  ER_10000_10_0  SAGE         1573  10000  0.061164\n",
       "1  ER_10000_10_1  SAGE         1568  10000  0.103333\n",
       "2  ER_10000_15_0  SAGE         1952  10000  0.105182\n",
       "3  ER_10000_15_1  SAGE         1932  10000  0.102802\n",
       "4  ER_10000_20_0  SAGE         2205  10000  0.118439"
      ]
     },
     "execution_count": 51,
     "metadata": {},
     "output_type": "execute_result"
    }
   ],
   "source": [
    "#models = ['GAT', \"GCN\", \"GraphConv\", \"SAGE\", \"SGConv\"]\n",
    "models = [\"SAGE\"]\n",
    "Full = pd.DataFrame()\n",
    "\n",
    "for model in models:\n",
    "    \n",
    "    GNN = pd.read_csv(f\"Models/results/{tipo}/Pruebas_GA/Allfeatures/{model}Results{subfijo}.txt\", header = None)\n",
    "    #GNN = pd.read_csv(f\"Models/results/paper/{model}Results_MDH_erdos.txt\", header = None)\n",
    "    \n",
    "    GNN.columns = [\"graph\", \"target_size\",\"t_mean\",\"n\"]\n",
    "    GNN[\"model\"] = model\n",
    "    GNN = GNN[[\"graph\", \"model\",\"target_size\", \"n\", \"t_mean\"]]\n",
    "    \n",
    "    Full = pd.concat([Full, GNN])\n",
    "\n",
    "\n",
    "\n",
    "GNN = pd.read_csv(f\"Models/results/{tipo}/ant/GATResults{subfijo}.txt\", header = None)\n",
    "    \n",
    "GNN.columns = [\"graph\", \"target_size\",\"t_mean\",\"n\"]\n",
    "GNN[\"model\"] = \"GAT\"\n",
    "GNN = GNN[[\"graph\", \"model\",\"target_size\", \"n\", \"t_mean\"]]\n",
    "\n",
    "Full = pd.concat([Full, GNN])\n",
    "    \n",
    "print(Full.shape)\n",
    "Full.head()"
   ]
  },
  {
   "cell_type": "code",
   "execution_count": 52,
   "id": "66d5a85f",
   "metadata": {
    "ExecuteTime": {
     "end_time": "2023-01-12T14:29:02.098807Z",
     "start_time": "2023-01-12T14:29:02.049547Z"
    }
   },
   "outputs": [
    {
     "name": "stdout",
     "output_type": "stream",
     "text": [
      "(18, 5)\n"
     ]
    },
    {
     "data": {
      "text/html": [
       "<div>\n",
       "<style scoped>\n",
       "    .dataframe tbody tr th:only-of-type {\n",
       "        vertical-align: middle;\n",
       "    }\n",
       "\n",
       "    .dataframe tbody tr th {\n",
       "        vertical-align: top;\n",
       "    }\n",
       "\n",
       "    .dataframe thead th {\n",
       "        text-align: right;\n",
       "    }\n",
       "</style>\n",
       "<table border=\"1\" class=\"dataframe\">\n",
       "  <thead>\n",
       "    <tr style=\"text-align: right;\">\n",
       "      <th></th>\n",
       "      <th>graph</th>\n",
       "      <th>model</th>\n",
       "      <th>target_size</th>\n",
       "      <th>n</th>\n",
       "      <th>t_mean</th>\n",
       "    </tr>\n",
       "  </thead>\n",
       "  <tbody>\n",
       "    <tr>\n",
       "      <th>0</th>\n",
       "      <td>ER_10000_10_0</td>\n",
       "      <td>MDH</td>\n",
       "      <td>1617</td>\n",
       "      <td>10000</td>\n",
       "      <td>0.065</td>\n",
       "    </tr>\n",
       "    <tr>\n",
       "      <th>1</th>\n",
       "      <td>ER_10000_10_1</td>\n",
       "      <td>MDH</td>\n",
       "      <td>1618</td>\n",
       "      <td>10000</td>\n",
       "      <td>0.069</td>\n",
       "    </tr>\n",
       "    <tr>\n",
       "      <th>2</th>\n",
       "      <td>ER_10000_15_0</td>\n",
       "      <td>MDH</td>\n",
       "      <td>1980</td>\n",
       "      <td>10000</td>\n",
       "      <td>0.099</td>\n",
       "    </tr>\n",
       "    <tr>\n",
       "      <th>3</th>\n",
       "      <td>ER_10000_15_1</td>\n",
       "      <td>MDH</td>\n",
       "      <td>1962</td>\n",
       "      <td>10000</td>\n",
       "      <td>0.091</td>\n",
       "    </tr>\n",
       "    <tr>\n",
       "      <th>4</th>\n",
       "      <td>ER_10000_20_0</td>\n",
       "      <td>MDH</td>\n",
       "      <td>2274</td>\n",
       "      <td>10000</td>\n",
       "      <td>0.114</td>\n",
       "    </tr>\n",
       "  </tbody>\n",
       "</table>\n",
       "</div>"
      ],
      "text/plain": [
       "           graph model  target_size      n  t_mean\n",
       "0  ER_10000_10_0   MDH         1617  10000   0.065\n",
       "1  ER_10000_10_1   MDH         1618  10000   0.069\n",
       "2  ER_10000_15_0   MDH         1980  10000   0.099\n",
       "3  ER_10000_15_1   MDH         1962  10000   0.091\n",
       "4  ER_10000_20_0   MDH         2274  10000   0.114"
      ]
     },
     "execution_count": 52,
     "metadata": {},
     "output_type": "execute_result"
    }
   ],
   "source": [
    "MDH = pd.read_csv(f\"MDH/MDH_{general}_Results.txt\", header = None)\n",
    "MDH.columns = [\"graph\", \"target_size\",\"t_mean\",\"n\"]\n",
    "MDH[\"model\"] = 'MDH'\n",
    "MDH = MDH[[\"graph\", \"model\",\"target_size\", \"n\", \"t_mean\"]]\n",
    "MDH = MDH.query(\"graph != 'com-youtube.ungraph'\")\n",
    "print(MDH.shape)\n",
    "MDH.head()"
   ]
  },
  {
   "cell_type": "code",
   "execution_count": 53,
   "id": "8c9279f4",
   "metadata": {
    "ExecuteTime": {
     "end_time": "2023-01-12T14:29:02.965899Z",
     "start_time": "2023-01-12T14:29:02.956033Z"
    }
   },
   "outputs": [],
   "source": [
    "Full = pd.concat([Full, MDH, FastCover])\n",
    "Full['ratio'] =  Full.target_size/Full.n"
   ]
  },
  {
   "cell_type": "code",
   "execution_count": 54,
   "id": "fa551e4a",
   "metadata": {
    "ExecuteTime": {
     "end_time": "2023-01-12T14:29:03.839479Z",
     "start_time": "2023-01-12T14:29:03.800581Z"
    }
   },
   "outputs": [
    {
     "data": {
      "text/html": [
       "<div>\n",
       "<style scoped>\n",
       "    .dataframe tbody tr th:only-of-type {\n",
       "        vertical-align: middle;\n",
       "    }\n",
       "\n",
       "    .dataframe tbody tr th {\n",
       "        vertical-align: top;\n",
       "    }\n",
       "\n",
       "    .dataframe thead th {\n",
       "        text-align: right;\n",
       "    }\n",
       "</style>\n",
       "<table border=\"1\" class=\"dataframe\">\n",
       "  <thead>\n",
       "    <tr style=\"text-align: right;\">\n",
       "      <th></th>\n",
       "      <th>index</th>\n",
       "      <th>graph</th>\n",
       "      <th>model</th>\n",
       "      <th>target_size</th>\n",
       "      <th>n</th>\n",
       "      <th>t_mean</th>\n",
       "      <th>ratio</th>\n",
       "    </tr>\n",
       "  </thead>\n",
       "  <tbody>\n",
       "    <tr>\n",
       "      <th>0</th>\n",
       "      <td>0</td>\n",
       "      <td>ER_10000_10_0</td>\n",
       "      <td>SAGE</td>\n",
       "      <td>1573</td>\n",
       "      <td>10000</td>\n",
       "      <td>0.061164</td>\n",
       "      <td>0.157300</td>\n",
       "    </tr>\n",
       "    <tr>\n",
       "      <th>1</th>\n",
       "      <td>1</td>\n",
       "      <td>ER_10000_10_1</td>\n",
       "      <td>SAGE</td>\n",
       "      <td>1568</td>\n",
       "      <td>10000</td>\n",
       "      <td>0.103333</td>\n",
       "      <td>0.156800</td>\n",
       "    </tr>\n",
       "    <tr>\n",
       "      <th>2</th>\n",
       "      <td>2</td>\n",
       "      <td>ER_10000_15_0</td>\n",
       "      <td>SAGE</td>\n",
       "      <td>1952</td>\n",
       "      <td>10000</td>\n",
       "      <td>0.105182</td>\n",
       "      <td>0.195200</td>\n",
       "    </tr>\n",
       "    <tr>\n",
       "      <th>3</th>\n",
       "      <td>3</td>\n",
       "      <td>ER_10000_15_1</td>\n",
       "      <td>SAGE</td>\n",
       "      <td>1932</td>\n",
       "      <td>10000</td>\n",
       "      <td>0.102802</td>\n",
       "      <td>0.193200</td>\n",
       "    </tr>\n",
       "    <tr>\n",
       "      <th>4</th>\n",
       "      <td>4</td>\n",
       "      <td>ER_10000_20_0</td>\n",
       "      <td>SAGE</td>\n",
       "      <td>2205</td>\n",
       "      <td>10000</td>\n",
       "      <td>0.118439</td>\n",
       "      <td>0.220500</td>\n",
       "    </tr>\n",
       "    <tr>\n",
       "      <th>...</th>\n",
       "      <td>...</td>\n",
       "      <td>...</td>\n",
       "      <td>...</td>\n",
       "      <td>...</td>\n",
       "      <td>...</td>\n",
       "      <td>...</td>\n",
       "      <td>...</td>\n",
       "    </tr>\n",
       "    <tr>\n",
       "      <th>67</th>\n",
       "      <td>13</td>\n",
       "      <td>ER_30000_15_0</td>\n",
       "      <td>GRAT</td>\n",
       "      <td>5952</td>\n",
       "      <td>30000</td>\n",
       "      <td>0.535000</td>\n",
       "      <td>0.198400</td>\n",
       "    </tr>\n",
       "    <tr>\n",
       "      <th>68</th>\n",
       "      <td>14</td>\n",
       "      <td>ER_30000_20_0</td>\n",
       "      <td>GRAT</td>\n",
       "      <td>6713</td>\n",
       "      <td>30000</td>\n",
       "      <td>0.696000</td>\n",
       "      <td>0.223767</td>\n",
       "    </tr>\n",
       "    <tr>\n",
       "      <th>69</th>\n",
       "      <td>15</td>\n",
       "      <td>ER_50000_10_0</td>\n",
       "      <td>GRAT</td>\n",
       "      <td>14685</td>\n",
       "      <td>50000</td>\n",
       "      <td>5.275000</td>\n",
       "      <td>0.293700</td>\n",
       "    </tr>\n",
       "    <tr>\n",
       "      <th>70</th>\n",
       "      <td>16</td>\n",
       "      <td>ER_50000_15_0</td>\n",
       "      <td>GRAT</td>\n",
       "      <td>9897</td>\n",
       "      <td>50000</td>\n",
       "      <td>1.351000</td>\n",
       "      <td>0.197940</td>\n",
       "    </tr>\n",
       "    <tr>\n",
       "      <th>71</th>\n",
       "      <td>17</td>\n",
       "      <td>ER_50000_20_0</td>\n",
       "      <td>GRAT</td>\n",
       "      <td>11146</td>\n",
       "      <td>50000</td>\n",
       "      <td>1.634000</td>\n",
       "      <td>0.222920</td>\n",
       "    </tr>\n",
       "  </tbody>\n",
       "</table>\n",
       "<p>72 rows × 7 columns</p>\n",
       "</div>"
      ],
      "text/plain": [
       "    index          graph model  target_size      n    t_mean     ratio\n",
       "0       0  ER_10000_10_0  SAGE         1573  10000  0.061164  0.157300\n",
       "1       1  ER_10000_10_1  SAGE         1568  10000  0.103333  0.156800\n",
       "2       2  ER_10000_15_0  SAGE         1952  10000  0.105182  0.195200\n",
       "3       3  ER_10000_15_1  SAGE         1932  10000  0.102802  0.193200\n",
       "4       4  ER_10000_20_0  SAGE         2205  10000  0.118439  0.220500\n",
       "..    ...            ...   ...          ...    ...       ...       ...\n",
       "67     13  ER_30000_15_0  GRAT         5952  30000  0.535000  0.198400\n",
       "68     14  ER_30000_20_0  GRAT         6713  30000  0.696000  0.223767\n",
       "69     15  ER_50000_10_0  GRAT        14685  50000  5.275000  0.293700\n",
       "70     16  ER_50000_15_0  GRAT         9897  50000  1.351000  0.197940\n",
       "71     17  ER_50000_20_0  GRAT        11146  50000  1.634000  0.222920\n",
       "\n",
       "[72 rows x 7 columns]"
      ]
     },
     "execution_count": 54,
     "metadata": {},
     "output_type": "execute_result"
    }
   ],
   "source": [
    "#Full = Full.sort_values(by=['n'])\n",
    "Full = Full.reset_index()\n",
    "Full = Full.query(\"graph != 'com-youtube.ungraph'\")\n",
    "Full"
   ]
  },
  {
   "cell_type": "code",
   "execution_count": 55,
   "id": "1f7e1517",
   "metadata": {
    "ExecuteTime": {
     "end_time": "2023-01-12T14:29:04.901938Z",
     "start_time": "2023-01-12T14:29:04.895884Z"
    }
   },
   "outputs": [],
   "source": [
    "Full['target_size_diff'] = ( np.array(Full.target_size) - np.tile(MDH.target_size, 4) )"
   ]
  },
  {
   "cell_type": "code",
   "execution_count": 56,
   "id": "062fea08",
   "metadata": {
    "ExecuteTime": {
     "end_time": "2023-01-12T14:29:05.422798Z",
     "start_time": "2023-01-12T14:29:05.414586Z"
    }
   },
   "outputs": [
    {
     "data": {
      "text/plain": [
       "72"
      ]
     },
     "execution_count": 56,
     "metadata": {},
     "output_type": "execute_result"
    }
   ],
   "source": [
    "Full.model.count()"
   ]
  },
  {
   "cell_type": "code",
   "execution_count": 57,
   "id": "e1bacaec",
   "metadata": {
    "ExecuteTime": {
     "end_time": "2023-01-12T14:29:06.105997Z",
     "start_time": "2023-01-12T14:29:05.946459Z"
    }
   },
   "outputs": [
    {
     "data": {
      "application/vnd.plotly.v1+json": {
       "config": {
        "plotlyServerURL": "https://plot.ly"
       },
       "data": [
        {
         "alignmentgroup": "True",
         "bingroup": "x",
         "histfunc": "sum",
         "hovertemplate": "model=SAGE<br>graph=%{x}<br>sum of target_size=%{y}<extra></extra>",
         "legendgroup": "SAGE",
         "marker": {
          "color": "#636efa",
          "pattern": {
           "shape": ""
          }
         },
         "name": "SAGE",
         "offsetgroup": "SAGE",
         "orientation": "v",
         "showlegend": true,
         "type": "histogram",
         "x": [
          "ER_10000_10_0",
          "ER_10000_10_1",
          "ER_10000_15_0",
          "ER_10000_15_1",
          "ER_10000_20_0",
          "ER_10000_20_1",
          "ER_20000_10_0",
          "ER_20000_10_1",
          "ER_20000_15_0",
          "ER_20000_15_1",
          "ER_20000_20_0",
          "ER_20000_20_1",
          "ER_30000_10_0",
          "ER_30000_15_0",
          "ER_30000_20_0",
          "ER_50000_10_0",
          "ER_50000_15_0",
          "ER_50000_20_0"
         ],
         "xaxis": "x",
         "y": [
          1573,
          1568,
          1952,
          1932,
          2205,
          2212,
          3112,
          3094,
          3877,
          3852,
          4397,
          4400,
          4668,
          5768,
          6606,
          14598,
          9623,
          10883
         ],
         "yaxis": "y"
        },
        {
         "alignmentgroup": "True",
         "bingroup": "x",
         "histfunc": "sum",
         "hovertemplate": "model=GAT<br>graph=%{x}<br>sum of target_size=%{y}<extra></extra>",
         "legendgroup": "GAT",
         "marker": {
          "color": "#EF553B",
          "pattern": {
           "shape": ""
          }
         },
         "name": "GAT",
         "offsetgroup": "GAT",
         "orientation": "v",
         "showlegend": true,
         "type": "histogram",
         "x": [
          "ER_10000_10_0",
          "ER_10000_10_1",
          "ER_10000_15_0",
          "ER_10000_15_1",
          "ER_10000_20_0",
          "ER_10000_20_1",
          "ER_20000_10_0",
          "ER_20000_10_1",
          "ER_20000_15_0",
          "ER_20000_15_1",
          "ER_20000_20_0",
          "ER_20000_20_1",
          "ER_30000_10_0",
          "ER_30000_15_0",
          "ER_30000_20_0",
          "ER_50000_10_0",
          "ER_50000_15_0",
          "ER_50000_20_0"
         ],
         "xaxis": "x",
         "y": [
          1793,
          1657,
          2141,
          2342,
          2574,
          2578,
          3211,
          3256,
          4061,
          4241,
          4520,
          4854,
          4824,
          6043,
          6908,
          11658,
          9761,
          11327
         ],
         "yaxis": "y"
        },
        {
         "alignmentgroup": "True",
         "bingroup": "x",
         "histfunc": "sum",
         "hovertemplate": "model=MDH<br>graph=%{x}<br>sum of target_size=%{y}<extra></extra>",
         "legendgroup": "MDH",
         "marker": {
          "color": "#00cc96",
          "pattern": {
           "shape": ""
          }
         },
         "name": "MDH",
         "offsetgroup": "MDH",
         "orientation": "v",
         "showlegend": true,
         "type": "histogram",
         "x": [
          "ER_10000_10_0",
          "ER_10000_10_1",
          "ER_10000_15_0",
          "ER_10000_15_1",
          "ER_10000_20_0",
          "ER_10000_20_1",
          "ER_20000_10_0",
          "ER_20000_10_1",
          "ER_20000_15_0",
          "ER_20000_15_1",
          "ER_20000_20_0",
          "ER_20000_20_1",
          "ER_30000_10_0",
          "ER_30000_15_0",
          "ER_30000_20_0",
          "ER_50000_10_0",
          "ER_50000_15_0",
          "ER_50000_20_0"
         ],
         "xaxis": "x",
         "y": [
          1617,
          1618,
          1980,
          1962,
          2274,
          2265,
          3227,
          3192,
          3951,
          3956,
          4513,
          4543,
          4863,
          5936,
          6772,
          11245,
          9903,
          11217
         ],
         "yaxis": "y"
        },
        {
         "alignmentgroup": "True",
         "bingroup": "x",
         "histfunc": "sum",
         "hovertemplate": "model=GRAT<br>graph=%{x}<br>sum of target_size=%{y}<extra></extra>",
         "legendgroup": "GRAT",
         "marker": {
          "color": "#ab63fa",
          "pattern": {
           "shape": ""
          }
         },
         "name": "GRAT",
         "offsetgroup": "GRAT",
         "orientation": "v",
         "showlegend": true,
         "type": "histogram",
         "x": [
          "ER_10000_10_0",
          "ER_10000_10_1",
          "ER_10000_15_0",
          "ER_10000_15_1",
          "ER_10000_20_0",
          "ER_10000_20_1",
          "ER_20000_10_0",
          "ER_20000_10_1",
          "ER_20000_15_0",
          "ER_20000_15_1",
          "ER_20000_20_0",
          "ER_20000_20_1",
          "ER_30000_10_0",
          "ER_30000_15_0",
          "ER_30000_20_0",
          "ER_50000_10_0",
          "ER_50000_15_0",
          "ER_50000_20_0"
         ],
         "xaxis": "x",
         "y": [
          1633,
          1607,
          1971,
          1995,
          2224,
          2233,
          3222,
          3182,
          3962,
          3950,
          4461,
          4486,
          4831,
          5952,
          6713,
          14685,
          9897,
          11146
         ],
         "yaxis": "y"
        }
       ],
       "layout": {
        "barmode": "group",
        "height": 400,
        "legend": {
         "title": {
          "text": "model"
         },
         "tracegroupgap": 0
        },
        "margin": {
         "t": 60
        },
        "template": {
         "data": {
          "bar": [
           {
            "error_x": {
             "color": "#2a3f5f"
            },
            "error_y": {
             "color": "#2a3f5f"
            },
            "marker": {
             "line": {
              "color": "#E5ECF6",
              "width": 0.5
             },
             "pattern": {
              "fillmode": "overlay",
              "size": 10,
              "solidity": 0.2
             }
            },
            "type": "bar"
           }
          ],
          "barpolar": [
           {
            "marker": {
             "line": {
              "color": "#E5ECF6",
              "width": 0.5
             },
             "pattern": {
              "fillmode": "overlay",
              "size": 10,
              "solidity": 0.2
             }
            },
            "type": "barpolar"
           }
          ],
          "carpet": [
           {
            "aaxis": {
             "endlinecolor": "#2a3f5f",
             "gridcolor": "white",
             "linecolor": "white",
             "minorgridcolor": "white",
             "startlinecolor": "#2a3f5f"
            },
            "baxis": {
             "endlinecolor": "#2a3f5f",
             "gridcolor": "white",
             "linecolor": "white",
             "minorgridcolor": "white",
             "startlinecolor": "#2a3f5f"
            },
            "type": "carpet"
           }
          ],
          "choropleth": [
           {
            "colorbar": {
             "outlinewidth": 0,
             "ticks": ""
            },
            "type": "choropleth"
           }
          ],
          "contour": [
           {
            "colorbar": {
             "outlinewidth": 0,
             "ticks": ""
            },
            "colorscale": [
             [
              0,
              "#0d0887"
             ],
             [
              0.1111111111111111,
              "#46039f"
             ],
             [
              0.2222222222222222,
              "#7201a8"
             ],
             [
              0.3333333333333333,
              "#9c179e"
             ],
             [
              0.4444444444444444,
              "#bd3786"
             ],
             [
              0.5555555555555556,
              "#d8576b"
             ],
             [
              0.6666666666666666,
              "#ed7953"
             ],
             [
              0.7777777777777778,
              "#fb9f3a"
             ],
             [
              0.8888888888888888,
              "#fdca26"
             ],
             [
              1,
              "#f0f921"
             ]
            ],
            "type": "contour"
           }
          ],
          "contourcarpet": [
           {
            "colorbar": {
             "outlinewidth": 0,
             "ticks": ""
            },
            "type": "contourcarpet"
           }
          ],
          "heatmap": [
           {
            "colorbar": {
             "outlinewidth": 0,
             "ticks": ""
            },
            "colorscale": [
             [
              0,
              "#0d0887"
             ],
             [
              0.1111111111111111,
              "#46039f"
             ],
             [
              0.2222222222222222,
              "#7201a8"
             ],
             [
              0.3333333333333333,
              "#9c179e"
             ],
             [
              0.4444444444444444,
              "#bd3786"
             ],
             [
              0.5555555555555556,
              "#d8576b"
             ],
             [
              0.6666666666666666,
              "#ed7953"
             ],
             [
              0.7777777777777778,
              "#fb9f3a"
             ],
             [
              0.8888888888888888,
              "#fdca26"
             ],
             [
              1,
              "#f0f921"
             ]
            ],
            "type": "heatmap"
           }
          ],
          "heatmapgl": [
           {
            "colorbar": {
             "outlinewidth": 0,
             "ticks": ""
            },
            "colorscale": [
             [
              0,
              "#0d0887"
             ],
             [
              0.1111111111111111,
              "#46039f"
             ],
             [
              0.2222222222222222,
              "#7201a8"
             ],
             [
              0.3333333333333333,
              "#9c179e"
             ],
             [
              0.4444444444444444,
              "#bd3786"
             ],
             [
              0.5555555555555556,
              "#d8576b"
             ],
             [
              0.6666666666666666,
              "#ed7953"
             ],
             [
              0.7777777777777778,
              "#fb9f3a"
             ],
             [
              0.8888888888888888,
              "#fdca26"
             ],
             [
              1,
              "#f0f921"
             ]
            ],
            "type": "heatmapgl"
           }
          ],
          "histogram": [
           {
            "marker": {
             "pattern": {
              "fillmode": "overlay",
              "size": 10,
              "solidity": 0.2
             }
            },
            "type": "histogram"
           }
          ],
          "histogram2d": [
           {
            "colorbar": {
             "outlinewidth": 0,
             "ticks": ""
            },
            "colorscale": [
             [
              0,
              "#0d0887"
             ],
             [
              0.1111111111111111,
              "#46039f"
             ],
             [
              0.2222222222222222,
              "#7201a8"
             ],
             [
              0.3333333333333333,
              "#9c179e"
             ],
             [
              0.4444444444444444,
              "#bd3786"
             ],
             [
              0.5555555555555556,
              "#d8576b"
             ],
             [
              0.6666666666666666,
              "#ed7953"
             ],
             [
              0.7777777777777778,
              "#fb9f3a"
             ],
             [
              0.8888888888888888,
              "#fdca26"
             ],
             [
              1,
              "#f0f921"
             ]
            ],
            "type": "histogram2d"
           }
          ],
          "histogram2dcontour": [
           {
            "colorbar": {
             "outlinewidth": 0,
             "ticks": ""
            },
            "colorscale": [
             [
              0,
              "#0d0887"
             ],
             [
              0.1111111111111111,
              "#46039f"
             ],
             [
              0.2222222222222222,
              "#7201a8"
             ],
             [
              0.3333333333333333,
              "#9c179e"
             ],
             [
              0.4444444444444444,
              "#bd3786"
             ],
             [
              0.5555555555555556,
              "#d8576b"
             ],
             [
              0.6666666666666666,
              "#ed7953"
             ],
             [
              0.7777777777777778,
              "#fb9f3a"
             ],
             [
              0.8888888888888888,
              "#fdca26"
             ],
             [
              1,
              "#f0f921"
             ]
            ],
            "type": "histogram2dcontour"
           }
          ],
          "mesh3d": [
           {
            "colorbar": {
             "outlinewidth": 0,
             "ticks": ""
            },
            "type": "mesh3d"
           }
          ],
          "parcoords": [
           {
            "line": {
             "colorbar": {
              "outlinewidth": 0,
              "ticks": ""
             }
            },
            "type": "parcoords"
           }
          ],
          "pie": [
           {
            "automargin": true,
            "type": "pie"
           }
          ],
          "scatter": [
           {
            "fillpattern": {
             "fillmode": "overlay",
             "size": 10,
             "solidity": 0.2
            },
            "type": "scatter"
           }
          ],
          "scatter3d": [
           {
            "line": {
             "colorbar": {
              "outlinewidth": 0,
              "ticks": ""
             }
            },
            "marker": {
             "colorbar": {
              "outlinewidth": 0,
              "ticks": ""
             }
            },
            "type": "scatter3d"
           }
          ],
          "scattercarpet": [
           {
            "marker": {
             "colorbar": {
              "outlinewidth": 0,
              "ticks": ""
             }
            },
            "type": "scattercarpet"
           }
          ],
          "scattergeo": [
           {
            "marker": {
             "colorbar": {
              "outlinewidth": 0,
              "ticks": ""
             }
            },
            "type": "scattergeo"
           }
          ],
          "scattergl": [
           {
            "marker": {
             "colorbar": {
              "outlinewidth": 0,
              "ticks": ""
             }
            },
            "type": "scattergl"
           }
          ],
          "scattermapbox": [
           {
            "marker": {
             "colorbar": {
              "outlinewidth": 0,
              "ticks": ""
             }
            },
            "type": "scattermapbox"
           }
          ],
          "scatterpolar": [
           {
            "marker": {
             "colorbar": {
              "outlinewidth": 0,
              "ticks": ""
             }
            },
            "type": "scatterpolar"
           }
          ],
          "scatterpolargl": [
           {
            "marker": {
             "colorbar": {
              "outlinewidth": 0,
              "ticks": ""
             }
            },
            "type": "scatterpolargl"
           }
          ],
          "scatterternary": [
           {
            "marker": {
             "colorbar": {
              "outlinewidth": 0,
              "ticks": ""
             }
            },
            "type": "scatterternary"
           }
          ],
          "surface": [
           {
            "colorbar": {
             "outlinewidth": 0,
             "ticks": ""
            },
            "colorscale": [
             [
              0,
              "#0d0887"
             ],
             [
              0.1111111111111111,
              "#46039f"
             ],
             [
              0.2222222222222222,
              "#7201a8"
             ],
             [
              0.3333333333333333,
              "#9c179e"
             ],
             [
              0.4444444444444444,
              "#bd3786"
             ],
             [
              0.5555555555555556,
              "#d8576b"
             ],
             [
              0.6666666666666666,
              "#ed7953"
             ],
             [
              0.7777777777777778,
              "#fb9f3a"
             ],
             [
              0.8888888888888888,
              "#fdca26"
             ],
             [
              1,
              "#f0f921"
             ]
            ],
            "type": "surface"
           }
          ],
          "table": [
           {
            "cells": {
             "fill": {
              "color": "#EBF0F8"
             },
             "line": {
              "color": "white"
             }
            },
            "header": {
             "fill": {
              "color": "#C8D4E3"
             },
             "line": {
              "color": "white"
             }
            },
            "type": "table"
           }
          ]
         },
         "layout": {
          "annotationdefaults": {
           "arrowcolor": "#2a3f5f",
           "arrowhead": 0,
           "arrowwidth": 1
          },
          "autotypenumbers": "strict",
          "coloraxis": {
           "colorbar": {
            "outlinewidth": 0,
            "ticks": ""
           }
          },
          "colorscale": {
           "diverging": [
            [
             0,
             "#8e0152"
            ],
            [
             0.1,
             "#c51b7d"
            ],
            [
             0.2,
             "#de77ae"
            ],
            [
             0.3,
             "#f1b6da"
            ],
            [
             0.4,
             "#fde0ef"
            ],
            [
             0.5,
             "#f7f7f7"
            ],
            [
             0.6,
             "#e6f5d0"
            ],
            [
             0.7,
             "#b8e186"
            ],
            [
             0.8,
             "#7fbc41"
            ],
            [
             0.9,
             "#4d9221"
            ],
            [
             1,
             "#276419"
            ]
           ],
           "sequential": [
            [
             0,
             "#0d0887"
            ],
            [
             0.1111111111111111,
             "#46039f"
            ],
            [
             0.2222222222222222,
             "#7201a8"
            ],
            [
             0.3333333333333333,
             "#9c179e"
            ],
            [
             0.4444444444444444,
             "#bd3786"
            ],
            [
             0.5555555555555556,
             "#d8576b"
            ],
            [
             0.6666666666666666,
             "#ed7953"
            ],
            [
             0.7777777777777778,
             "#fb9f3a"
            ],
            [
             0.8888888888888888,
             "#fdca26"
            ],
            [
             1,
             "#f0f921"
            ]
           ],
           "sequentialminus": [
            [
             0,
             "#0d0887"
            ],
            [
             0.1111111111111111,
             "#46039f"
            ],
            [
             0.2222222222222222,
             "#7201a8"
            ],
            [
             0.3333333333333333,
             "#9c179e"
            ],
            [
             0.4444444444444444,
             "#bd3786"
            ],
            [
             0.5555555555555556,
             "#d8576b"
            ],
            [
             0.6666666666666666,
             "#ed7953"
            ],
            [
             0.7777777777777778,
             "#fb9f3a"
            ],
            [
             0.8888888888888888,
             "#fdca26"
            ],
            [
             1,
             "#f0f921"
            ]
           ]
          },
          "colorway": [
           "#636efa",
           "#EF553B",
           "#00cc96",
           "#ab63fa",
           "#FFA15A",
           "#19d3f3",
           "#FF6692",
           "#B6E880",
           "#FF97FF",
           "#FECB52"
          ],
          "font": {
           "color": "#2a3f5f"
          },
          "geo": {
           "bgcolor": "white",
           "lakecolor": "white",
           "landcolor": "#E5ECF6",
           "showlakes": true,
           "showland": true,
           "subunitcolor": "white"
          },
          "hoverlabel": {
           "align": "left"
          },
          "hovermode": "closest",
          "mapbox": {
           "style": "light"
          },
          "paper_bgcolor": "white",
          "plot_bgcolor": "#E5ECF6",
          "polar": {
           "angularaxis": {
            "gridcolor": "white",
            "linecolor": "white",
            "ticks": ""
           },
           "bgcolor": "#E5ECF6",
           "radialaxis": {
            "gridcolor": "white",
            "linecolor": "white",
            "ticks": ""
           }
          },
          "scene": {
           "xaxis": {
            "backgroundcolor": "#E5ECF6",
            "gridcolor": "white",
            "gridwidth": 2,
            "linecolor": "white",
            "showbackground": true,
            "ticks": "",
            "zerolinecolor": "white"
           },
           "yaxis": {
            "backgroundcolor": "#E5ECF6",
            "gridcolor": "white",
            "gridwidth": 2,
            "linecolor": "white",
            "showbackground": true,
            "ticks": "",
            "zerolinecolor": "white"
           },
           "zaxis": {
            "backgroundcolor": "#E5ECF6",
            "gridcolor": "white",
            "gridwidth": 2,
            "linecolor": "white",
            "showbackground": true,
            "ticks": "",
            "zerolinecolor": "white"
           }
          },
          "shapedefaults": {
           "line": {
            "color": "#2a3f5f"
           }
          },
          "ternary": {
           "aaxis": {
            "gridcolor": "white",
            "linecolor": "white",
            "ticks": ""
           },
           "baxis": {
            "gridcolor": "white",
            "linecolor": "white",
            "ticks": ""
           },
           "bgcolor": "#E5ECF6",
           "caxis": {
            "gridcolor": "white",
            "linecolor": "white",
            "ticks": ""
           }
          },
          "title": {
           "x": 0.05
          },
          "xaxis": {
           "automargin": true,
           "gridcolor": "white",
           "linecolor": "white",
           "ticks": "",
           "title": {
            "standoff": 15
           },
           "zerolinecolor": "white",
           "zerolinewidth": 2
          },
          "yaxis": {
           "automargin": true,
           "gridcolor": "white",
           "linecolor": "white",
           "ticks": "",
           "title": {
            "standoff": 15
           },
           "zerolinecolor": "white",
           "zerolinewidth": 2
          }
         }
        },
        "xaxis": {
         "anchor": "y",
         "domain": [
          0,
          1
         ],
         "title": {
          "text": "graph"
         }
        },
        "yaxis": {
         "anchor": "x",
         "domain": [
          0,
          1
         ],
         "title": {
          "text": "sum of target_size"
         }
        }
       }
      },
      "text/html": [
       "<div>                            <div id=\"4a504bf5-30ad-4a3b-9b1c-ea97a4eba50b\" class=\"plotly-graph-div\" style=\"height:400px; width:100%;\"></div>            <script type=\"text/javascript\">                require([\"plotly\"], function(Plotly) {                    window.PLOTLYENV=window.PLOTLYENV || {};                                    if (document.getElementById(\"4a504bf5-30ad-4a3b-9b1c-ea97a4eba50b\")) {                    Plotly.newPlot(                        \"4a504bf5-30ad-4a3b-9b1c-ea97a4eba50b\",                        [{\"alignmentgroup\":\"True\",\"bingroup\":\"x\",\"histfunc\":\"sum\",\"hovertemplate\":\"model=SAGE<br>graph=%{x}<br>sum of target_size=%{y}<extra></extra>\",\"legendgroup\":\"SAGE\",\"marker\":{\"color\":\"#636efa\",\"pattern\":{\"shape\":\"\"}},\"name\":\"SAGE\",\"offsetgroup\":\"SAGE\",\"orientation\":\"v\",\"showlegend\":true,\"x\":[\"ER_10000_10_0\",\"ER_10000_10_1\",\"ER_10000_15_0\",\"ER_10000_15_1\",\"ER_10000_20_0\",\"ER_10000_20_1\",\"ER_20000_10_0\",\"ER_20000_10_1\",\"ER_20000_15_0\",\"ER_20000_15_1\",\"ER_20000_20_0\",\"ER_20000_20_1\",\"ER_30000_10_0\",\"ER_30000_15_0\",\"ER_30000_20_0\",\"ER_50000_10_0\",\"ER_50000_15_0\",\"ER_50000_20_0\"],\"xaxis\":\"x\",\"y\":[1573,1568,1952,1932,2205,2212,3112,3094,3877,3852,4397,4400,4668,5768,6606,14598,9623,10883],\"yaxis\":\"y\",\"type\":\"histogram\"},{\"alignmentgroup\":\"True\",\"bingroup\":\"x\",\"histfunc\":\"sum\",\"hovertemplate\":\"model=GAT<br>graph=%{x}<br>sum of target_size=%{y}<extra></extra>\",\"legendgroup\":\"GAT\",\"marker\":{\"color\":\"#EF553B\",\"pattern\":{\"shape\":\"\"}},\"name\":\"GAT\",\"offsetgroup\":\"GAT\",\"orientation\":\"v\",\"showlegend\":true,\"x\":[\"ER_10000_10_0\",\"ER_10000_10_1\",\"ER_10000_15_0\",\"ER_10000_15_1\",\"ER_10000_20_0\",\"ER_10000_20_1\",\"ER_20000_10_0\",\"ER_20000_10_1\",\"ER_20000_15_0\",\"ER_20000_15_1\",\"ER_20000_20_0\",\"ER_20000_20_1\",\"ER_30000_10_0\",\"ER_30000_15_0\",\"ER_30000_20_0\",\"ER_50000_10_0\",\"ER_50000_15_0\",\"ER_50000_20_0\"],\"xaxis\":\"x\",\"y\":[1793,1657,2141,2342,2574,2578,3211,3256,4061,4241,4520,4854,4824,6043,6908,11658,9761,11327],\"yaxis\":\"y\",\"type\":\"histogram\"},{\"alignmentgroup\":\"True\",\"bingroup\":\"x\",\"histfunc\":\"sum\",\"hovertemplate\":\"model=MDH<br>graph=%{x}<br>sum of target_size=%{y}<extra></extra>\",\"legendgroup\":\"MDH\",\"marker\":{\"color\":\"#00cc96\",\"pattern\":{\"shape\":\"\"}},\"name\":\"MDH\",\"offsetgroup\":\"MDH\",\"orientation\":\"v\",\"showlegend\":true,\"x\":[\"ER_10000_10_0\",\"ER_10000_10_1\",\"ER_10000_15_0\",\"ER_10000_15_1\",\"ER_10000_20_0\",\"ER_10000_20_1\",\"ER_20000_10_0\",\"ER_20000_10_1\",\"ER_20000_15_0\",\"ER_20000_15_1\",\"ER_20000_20_0\",\"ER_20000_20_1\",\"ER_30000_10_0\",\"ER_30000_15_0\",\"ER_30000_20_0\",\"ER_50000_10_0\",\"ER_50000_15_0\",\"ER_50000_20_0\"],\"xaxis\":\"x\",\"y\":[1617,1618,1980,1962,2274,2265,3227,3192,3951,3956,4513,4543,4863,5936,6772,11245,9903,11217],\"yaxis\":\"y\",\"type\":\"histogram\"},{\"alignmentgroup\":\"True\",\"bingroup\":\"x\",\"histfunc\":\"sum\",\"hovertemplate\":\"model=GRAT<br>graph=%{x}<br>sum of target_size=%{y}<extra></extra>\",\"legendgroup\":\"GRAT\",\"marker\":{\"color\":\"#ab63fa\",\"pattern\":{\"shape\":\"\"}},\"name\":\"GRAT\",\"offsetgroup\":\"GRAT\",\"orientation\":\"v\",\"showlegend\":true,\"x\":[\"ER_10000_10_0\",\"ER_10000_10_1\",\"ER_10000_15_0\",\"ER_10000_15_1\",\"ER_10000_20_0\",\"ER_10000_20_1\",\"ER_20000_10_0\",\"ER_20000_10_1\",\"ER_20000_15_0\",\"ER_20000_15_1\",\"ER_20000_20_0\",\"ER_20000_20_1\",\"ER_30000_10_0\",\"ER_30000_15_0\",\"ER_30000_20_0\",\"ER_50000_10_0\",\"ER_50000_15_0\",\"ER_50000_20_0\"],\"xaxis\":\"x\",\"y\":[1633,1607,1971,1995,2224,2233,3222,3182,3962,3950,4461,4486,4831,5952,6713,14685,9897,11146],\"yaxis\":\"y\",\"type\":\"histogram\"}],                        {\"template\":{\"data\":{\"histogram2dcontour\":[{\"type\":\"histogram2dcontour\",\"colorbar\":{\"outlinewidth\":0,\"ticks\":\"\"},\"colorscale\":[[0.0,\"#0d0887\"],[0.1111111111111111,\"#46039f\"],[0.2222222222222222,\"#7201a8\"],[0.3333333333333333,\"#9c179e\"],[0.4444444444444444,\"#bd3786\"],[0.5555555555555556,\"#d8576b\"],[0.6666666666666666,\"#ed7953\"],[0.7777777777777778,\"#fb9f3a\"],[0.8888888888888888,\"#fdca26\"],[1.0,\"#f0f921\"]]}],\"choropleth\":[{\"type\":\"choropleth\",\"colorbar\":{\"outlinewidth\":0,\"ticks\":\"\"}}],\"histogram2d\":[{\"type\":\"histogram2d\",\"colorbar\":{\"outlinewidth\":0,\"ticks\":\"\"},\"colorscale\":[[0.0,\"#0d0887\"],[0.1111111111111111,\"#46039f\"],[0.2222222222222222,\"#7201a8\"],[0.3333333333333333,\"#9c179e\"],[0.4444444444444444,\"#bd3786\"],[0.5555555555555556,\"#d8576b\"],[0.6666666666666666,\"#ed7953\"],[0.7777777777777778,\"#fb9f3a\"],[0.8888888888888888,\"#fdca26\"],[1.0,\"#f0f921\"]]}],\"heatmap\":[{\"type\":\"heatmap\",\"colorbar\":{\"outlinewidth\":0,\"ticks\":\"\"},\"colorscale\":[[0.0,\"#0d0887\"],[0.1111111111111111,\"#46039f\"],[0.2222222222222222,\"#7201a8\"],[0.3333333333333333,\"#9c179e\"],[0.4444444444444444,\"#bd3786\"],[0.5555555555555556,\"#d8576b\"],[0.6666666666666666,\"#ed7953\"],[0.7777777777777778,\"#fb9f3a\"],[0.8888888888888888,\"#fdca26\"],[1.0,\"#f0f921\"]]}],\"heatmapgl\":[{\"type\":\"heatmapgl\",\"colorbar\":{\"outlinewidth\":0,\"ticks\":\"\"},\"colorscale\":[[0.0,\"#0d0887\"],[0.1111111111111111,\"#46039f\"],[0.2222222222222222,\"#7201a8\"],[0.3333333333333333,\"#9c179e\"],[0.4444444444444444,\"#bd3786\"],[0.5555555555555556,\"#d8576b\"],[0.6666666666666666,\"#ed7953\"],[0.7777777777777778,\"#fb9f3a\"],[0.8888888888888888,\"#fdca26\"],[1.0,\"#f0f921\"]]}],\"contourcarpet\":[{\"type\":\"contourcarpet\",\"colorbar\":{\"outlinewidth\":0,\"ticks\":\"\"}}],\"contour\":[{\"type\":\"contour\",\"colorbar\":{\"outlinewidth\":0,\"ticks\":\"\"},\"colorscale\":[[0.0,\"#0d0887\"],[0.1111111111111111,\"#46039f\"],[0.2222222222222222,\"#7201a8\"],[0.3333333333333333,\"#9c179e\"],[0.4444444444444444,\"#bd3786\"],[0.5555555555555556,\"#d8576b\"],[0.6666666666666666,\"#ed7953\"],[0.7777777777777778,\"#fb9f3a\"],[0.8888888888888888,\"#fdca26\"],[1.0,\"#f0f921\"]]}],\"surface\":[{\"type\":\"surface\",\"colorbar\":{\"outlinewidth\":0,\"ticks\":\"\"},\"colorscale\":[[0.0,\"#0d0887\"],[0.1111111111111111,\"#46039f\"],[0.2222222222222222,\"#7201a8\"],[0.3333333333333333,\"#9c179e\"],[0.4444444444444444,\"#bd3786\"],[0.5555555555555556,\"#d8576b\"],[0.6666666666666666,\"#ed7953\"],[0.7777777777777778,\"#fb9f3a\"],[0.8888888888888888,\"#fdca26\"],[1.0,\"#f0f921\"]]}],\"mesh3d\":[{\"type\":\"mesh3d\",\"colorbar\":{\"outlinewidth\":0,\"ticks\":\"\"}}],\"scatter\":[{\"fillpattern\":{\"fillmode\":\"overlay\",\"size\":10,\"solidity\":0.2},\"type\":\"scatter\"}],\"parcoords\":[{\"type\":\"parcoords\",\"line\":{\"colorbar\":{\"outlinewidth\":0,\"ticks\":\"\"}}}],\"scatterpolargl\":[{\"type\":\"scatterpolargl\",\"marker\":{\"colorbar\":{\"outlinewidth\":0,\"ticks\":\"\"}}}],\"bar\":[{\"error_x\":{\"color\":\"#2a3f5f\"},\"error_y\":{\"color\":\"#2a3f5f\"},\"marker\":{\"line\":{\"color\":\"#E5ECF6\",\"width\":0.5},\"pattern\":{\"fillmode\":\"overlay\",\"size\":10,\"solidity\":0.2}},\"type\":\"bar\"}],\"scattergeo\":[{\"type\":\"scattergeo\",\"marker\":{\"colorbar\":{\"outlinewidth\":0,\"ticks\":\"\"}}}],\"scatterpolar\":[{\"type\":\"scatterpolar\",\"marker\":{\"colorbar\":{\"outlinewidth\":0,\"ticks\":\"\"}}}],\"histogram\":[{\"marker\":{\"pattern\":{\"fillmode\":\"overlay\",\"size\":10,\"solidity\":0.2}},\"type\":\"histogram\"}],\"scattergl\":[{\"type\":\"scattergl\",\"marker\":{\"colorbar\":{\"outlinewidth\":0,\"ticks\":\"\"}}}],\"scatter3d\":[{\"type\":\"scatter3d\",\"line\":{\"colorbar\":{\"outlinewidth\":0,\"ticks\":\"\"}},\"marker\":{\"colorbar\":{\"outlinewidth\":0,\"ticks\":\"\"}}}],\"scattermapbox\":[{\"type\":\"scattermapbox\",\"marker\":{\"colorbar\":{\"outlinewidth\":0,\"ticks\":\"\"}}}],\"scatterternary\":[{\"type\":\"scatterternary\",\"marker\":{\"colorbar\":{\"outlinewidth\":0,\"ticks\":\"\"}}}],\"scattercarpet\":[{\"type\":\"scattercarpet\",\"marker\":{\"colorbar\":{\"outlinewidth\":0,\"ticks\":\"\"}}}],\"carpet\":[{\"aaxis\":{\"endlinecolor\":\"#2a3f5f\",\"gridcolor\":\"white\",\"linecolor\":\"white\",\"minorgridcolor\":\"white\",\"startlinecolor\":\"#2a3f5f\"},\"baxis\":{\"endlinecolor\":\"#2a3f5f\",\"gridcolor\":\"white\",\"linecolor\":\"white\",\"minorgridcolor\":\"white\",\"startlinecolor\":\"#2a3f5f\"},\"type\":\"carpet\"}],\"table\":[{\"cells\":{\"fill\":{\"color\":\"#EBF0F8\"},\"line\":{\"color\":\"white\"}},\"header\":{\"fill\":{\"color\":\"#C8D4E3\"},\"line\":{\"color\":\"white\"}},\"type\":\"table\"}],\"barpolar\":[{\"marker\":{\"line\":{\"color\":\"#E5ECF6\",\"width\":0.5},\"pattern\":{\"fillmode\":\"overlay\",\"size\":10,\"solidity\":0.2}},\"type\":\"barpolar\"}],\"pie\":[{\"automargin\":true,\"type\":\"pie\"}]},\"layout\":{\"autotypenumbers\":\"strict\",\"colorway\":[\"#636efa\",\"#EF553B\",\"#00cc96\",\"#ab63fa\",\"#FFA15A\",\"#19d3f3\",\"#FF6692\",\"#B6E880\",\"#FF97FF\",\"#FECB52\"],\"font\":{\"color\":\"#2a3f5f\"},\"hovermode\":\"closest\",\"hoverlabel\":{\"align\":\"left\"},\"paper_bgcolor\":\"white\",\"plot_bgcolor\":\"#E5ECF6\",\"polar\":{\"bgcolor\":\"#E5ECF6\",\"angularaxis\":{\"gridcolor\":\"white\",\"linecolor\":\"white\",\"ticks\":\"\"},\"radialaxis\":{\"gridcolor\":\"white\",\"linecolor\":\"white\",\"ticks\":\"\"}},\"ternary\":{\"bgcolor\":\"#E5ECF6\",\"aaxis\":{\"gridcolor\":\"white\",\"linecolor\":\"white\",\"ticks\":\"\"},\"baxis\":{\"gridcolor\":\"white\",\"linecolor\":\"white\",\"ticks\":\"\"},\"caxis\":{\"gridcolor\":\"white\",\"linecolor\":\"white\",\"ticks\":\"\"}},\"coloraxis\":{\"colorbar\":{\"outlinewidth\":0,\"ticks\":\"\"}},\"colorscale\":{\"sequential\":[[0.0,\"#0d0887\"],[0.1111111111111111,\"#46039f\"],[0.2222222222222222,\"#7201a8\"],[0.3333333333333333,\"#9c179e\"],[0.4444444444444444,\"#bd3786\"],[0.5555555555555556,\"#d8576b\"],[0.6666666666666666,\"#ed7953\"],[0.7777777777777778,\"#fb9f3a\"],[0.8888888888888888,\"#fdca26\"],[1.0,\"#f0f921\"]],\"sequentialminus\":[[0.0,\"#0d0887\"],[0.1111111111111111,\"#46039f\"],[0.2222222222222222,\"#7201a8\"],[0.3333333333333333,\"#9c179e\"],[0.4444444444444444,\"#bd3786\"],[0.5555555555555556,\"#d8576b\"],[0.6666666666666666,\"#ed7953\"],[0.7777777777777778,\"#fb9f3a\"],[0.8888888888888888,\"#fdca26\"],[1.0,\"#f0f921\"]],\"diverging\":[[0,\"#8e0152\"],[0.1,\"#c51b7d\"],[0.2,\"#de77ae\"],[0.3,\"#f1b6da\"],[0.4,\"#fde0ef\"],[0.5,\"#f7f7f7\"],[0.6,\"#e6f5d0\"],[0.7,\"#b8e186\"],[0.8,\"#7fbc41\"],[0.9,\"#4d9221\"],[1,\"#276419\"]]},\"xaxis\":{\"gridcolor\":\"white\",\"linecolor\":\"white\",\"ticks\":\"\",\"title\":{\"standoff\":15},\"zerolinecolor\":\"white\",\"automargin\":true,\"zerolinewidth\":2},\"yaxis\":{\"gridcolor\":\"white\",\"linecolor\":\"white\",\"ticks\":\"\",\"title\":{\"standoff\":15},\"zerolinecolor\":\"white\",\"automargin\":true,\"zerolinewidth\":2},\"scene\":{\"xaxis\":{\"backgroundcolor\":\"#E5ECF6\",\"gridcolor\":\"white\",\"linecolor\":\"white\",\"showbackground\":true,\"ticks\":\"\",\"zerolinecolor\":\"white\",\"gridwidth\":2},\"yaxis\":{\"backgroundcolor\":\"#E5ECF6\",\"gridcolor\":\"white\",\"linecolor\":\"white\",\"showbackground\":true,\"ticks\":\"\",\"zerolinecolor\":\"white\",\"gridwidth\":2},\"zaxis\":{\"backgroundcolor\":\"#E5ECF6\",\"gridcolor\":\"white\",\"linecolor\":\"white\",\"showbackground\":true,\"ticks\":\"\",\"zerolinecolor\":\"white\",\"gridwidth\":2}},\"shapedefaults\":{\"line\":{\"color\":\"#2a3f5f\"}},\"annotationdefaults\":{\"arrowcolor\":\"#2a3f5f\",\"arrowhead\":0,\"arrowwidth\":1},\"geo\":{\"bgcolor\":\"white\",\"landcolor\":\"#E5ECF6\",\"subunitcolor\":\"white\",\"showland\":true,\"showlakes\":true,\"lakecolor\":\"white\"},\"title\":{\"x\":0.05},\"mapbox\":{\"style\":\"light\"}}},\"xaxis\":{\"anchor\":\"y\",\"domain\":[0.0,1.0],\"title\":{\"text\":\"graph\"}},\"yaxis\":{\"anchor\":\"x\",\"domain\":[0.0,1.0],\"title\":{\"text\":\"sum of target_size\"}},\"legend\":{\"title\":{\"text\":\"model\"},\"tracegroupgap\":0},\"margin\":{\"t\":60},\"barmode\":\"group\",\"height\":400},                        {\"responsive\": true}                    ).then(function(){\n",
       "                            \n",
       "var gd = document.getElementById('4a504bf5-30ad-4a3b-9b1c-ea97a4eba50b');\n",
       "var x = new MutationObserver(function (mutations, observer) {{\n",
       "        var display = window.getComputedStyle(gd).display;\n",
       "        if (!display || display === 'none') {{\n",
       "            console.log([gd, 'removed!']);\n",
       "            Plotly.purge(gd);\n",
       "            observer.disconnect();\n",
       "        }}\n",
       "}});\n",
       "\n",
       "// Listen for the removal of the full notebook cells\n",
       "var notebookContainer = gd.closest('#notebook-container');\n",
       "if (notebookContainer) {{\n",
       "    x.observe(notebookContainer, {childList: true});\n",
       "}}\n",
       "\n",
       "// Listen for the clearing of the current output cell\n",
       "var outputEl = gd.closest('.output');\n",
       "if (outputEl) {{\n",
       "    x.observe(outputEl, {childList: true});\n",
       "}}\n",
       "\n",
       "                        })                };                });            </script>        </div>"
      ]
     },
     "metadata": {},
     "output_type": "display_data"
    }
   ],
   "source": [
    "fig = px.histogram(Full, x=\"graph\", y=\"target_size\",\n",
    "             color='model', barmode='group',\n",
    "             height=400)\n",
    "fig.show()"
   ]
  },
  {
   "cell_type": "code",
   "execution_count": 59,
   "id": "6175317c",
   "metadata": {
    "ExecuteTime": {
     "end_time": "2023-01-12T14:29:09.225916Z",
     "start_time": "2023-01-12T14:29:09.115887Z"
    }
   },
   "outputs": [
    {
     "data": {
      "application/vnd.plotly.v1+json": {
       "config": {
        "plotlyServerURL": "https://plot.ly"
       },
       "data": [
        {
         "alignmentgroup": "True",
         "bingroup": "x",
         "histfunc": "sum",
         "hovertemplate": "model=SAGE<br>graph=%{x}<br>sum of target_size_diff=%{y}<extra></extra>",
         "legendgroup": "SAGE",
         "marker": {
          "color": "#636efa",
          "pattern": {
           "shape": ""
          }
         },
         "name": "SAGE",
         "offsetgroup": "SAGE",
         "orientation": "v",
         "showlegend": true,
         "type": "histogram",
         "x": [
          "ER_10000_10_0",
          "ER_10000_10_1",
          "ER_10000_15_0",
          "ER_10000_15_1",
          "ER_10000_20_0",
          "ER_10000_20_1",
          "ER_20000_10_0",
          "ER_20000_10_1",
          "ER_20000_15_0",
          "ER_20000_15_1",
          "ER_20000_20_0",
          "ER_20000_20_1",
          "ER_30000_10_0",
          "ER_30000_15_0",
          "ER_30000_20_0",
          "ER_50000_10_0",
          "ER_50000_15_0",
          "ER_50000_20_0"
         ],
         "xaxis": "x",
         "y": [
          -44,
          -50,
          -28,
          -30,
          -69,
          -53,
          -115,
          -98,
          -74,
          -104,
          -116,
          -143,
          -195,
          -168,
          -166,
          3353,
          -280,
          -334
         ],
         "yaxis": "y"
        },
        {
         "alignmentgroup": "True",
         "bingroup": "x",
         "histfunc": "sum",
         "hovertemplate": "model=GAT<br>graph=%{x}<br>sum of target_size_diff=%{y}<extra></extra>",
         "legendgroup": "GAT",
         "marker": {
          "color": "#EF553B",
          "pattern": {
           "shape": ""
          }
         },
         "name": "GAT",
         "offsetgroup": "GAT",
         "orientation": "v",
         "showlegend": true,
         "type": "histogram",
         "x": [
          "ER_10000_10_0",
          "ER_10000_10_1",
          "ER_10000_15_0",
          "ER_10000_15_1",
          "ER_10000_20_0",
          "ER_10000_20_1",
          "ER_20000_10_0",
          "ER_20000_10_1",
          "ER_20000_15_0",
          "ER_20000_15_1",
          "ER_20000_20_0",
          "ER_20000_20_1",
          "ER_30000_10_0",
          "ER_30000_15_0",
          "ER_30000_20_0",
          "ER_50000_10_0",
          "ER_50000_15_0",
          "ER_50000_20_0"
         ],
         "xaxis": "x",
         "y": [
          176,
          39,
          161,
          380,
          300,
          313,
          -16,
          64,
          110,
          285,
          7,
          311,
          -39,
          107,
          136,
          413,
          -142,
          110
         ],
         "yaxis": "y"
        },
        {
         "alignmentgroup": "True",
         "bingroup": "x",
         "histfunc": "sum",
         "hovertemplate": "model=MDH<br>graph=%{x}<br>sum of target_size_diff=%{y}<extra></extra>",
         "legendgroup": "MDH",
         "marker": {
          "color": "#00cc96",
          "pattern": {
           "shape": ""
          }
         },
         "name": "MDH",
         "offsetgroup": "MDH",
         "orientation": "v",
         "showlegend": true,
         "type": "histogram",
         "x": [
          "ER_10000_10_0",
          "ER_10000_10_1",
          "ER_10000_15_0",
          "ER_10000_15_1",
          "ER_10000_20_0",
          "ER_10000_20_1",
          "ER_20000_10_0",
          "ER_20000_10_1",
          "ER_20000_15_0",
          "ER_20000_15_1",
          "ER_20000_20_0",
          "ER_20000_20_1",
          "ER_30000_10_0",
          "ER_30000_15_0",
          "ER_30000_20_0",
          "ER_50000_10_0",
          "ER_50000_15_0",
          "ER_50000_20_0"
         ],
         "xaxis": "x",
         "y": [
          0,
          0,
          0,
          0,
          0,
          0,
          0,
          0,
          0,
          0,
          0,
          0,
          0,
          0,
          0,
          0,
          0,
          0
         ],
         "yaxis": "y"
        },
        {
         "alignmentgroup": "True",
         "bingroup": "x",
         "histfunc": "sum",
         "hovertemplate": "model=GRAT<br>graph=%{x}<br>sum of target_size_diff=%{y}<extra></extra>",
         "legendgroup": "GRAT",
         "marker": {
          "color": "#ab63fa",
          "pattern": {
           "shape": ""
          }
         },
         "name": "GRAT",
         "offsetgroup": "GRAT",
         "orientation": "v",
         "showlegend": true,
         "type": "histogram",
         "x": [
          "ER_10000_10_0",
          "ER_10000_10_1",
          "ER_10000_15_0",
          "ER_10000_15_1",
          "ER_10000_20_0",
          "ER_10000_20_1",
          "ER_20000_10_0",
          "ER_20000_10_1",
          "ER_20000_15_0",
          "ER_20000_15_1",
          "ER_20000_20_0",
          "ER_20000_20_1",
          "ER_30000_10_0",
          "ER_30000_15_0",
          "ER_30000_20_0",
          "ER_50000_10_0",
          "ER_50000_15_0",
          "ER_50000_20_0"
         ],
         "xaxis": "x",
         "y": [
          16,
          -11,
          -9,
          33,
          -50,
          -32,
          -5,
          -10,
          11,
          -6,
          -52,
          -57,
          -32,
          16,
          -59,
          3440,
          -6,
          -71
         ],
         "yaxis": "y"
        }
       ],
       "layout": {
        "barmode": "group",
        "height": 400,
        "legend": {
         "title": {
          "text": "model"
         },
         "tracegroupgap": 0
        },
        "margin": {
         "t": 60
        },
        "template": {
         "data": {
          "bar": [
           {
            "error_x": {
             "color": "#2a3f5f"
            },
            "error_y": {
             "color": "#2a3f5f"
            },
            "marker": {
             "line": {
              "color": "#E5ECF6",
              "width": 0.5
             },
             "pattern": {
              "fillmode": "overlay",
              "size": 10,
              "solidity": 0.2
             }
            },
            "type": "bar"
           }
          ],
          "barpolar": [
           {
            "marker": {
             "line": {
              "color": "#E5ECF6",
              "width": 0.5
             },
             "pattern": {
              "fillmode": "overlay",
              "size": 10,
              "solidity": 0.2
             }
            },
            "type": "barpolar"
           }
          ],
          "carpet": [
           {
            "aaxis": {
             "endlinecolor": "#2a3f5f",
             "gridcolor": "white",
             "linecolor": "white",
             "minorgridcolor": "white",
             "startlinecolor": "#2a3f5f"
            },
            "baxis": {
             "endlinecolor": "#2a3f5f",
             "gridcolor": "white",
             "linecolor": "white",
             "minorgridcolor": "white",
             "startlinecolor": "#2a3f5f"
            },
            "type": "carpet"
           }
          ],
          "choropleth": [
           {
            "colorbar": {
             "outlinewidth": 0,
             "ticks": ""
            },
            "type": "choropleth"
           }
          ],
          "contour": [
           {
            "colorbar": {
             "outlinewidth": 0,
             "ticks": ""
            },
            "colorscale": [
             [
              0,
              "#0d0887"
             ],
             [
              0.1111111111111111,
              "#46039f"
             ],
             [
              0.2222222222222222,
              "#7201a8"
             ],
             [
              0.3333333333333333,
              "#9c179e"
             ],
             [
              0.4444444444444444,
              "#bd3786"
             ],
             [
              0.5555555555555556,
              "#d8576b"
             ],
             [
              0.6666666666666666,
              "#ed7953"
             ],
             [
              0.7777777777777778,
              "#fb9f3a"
             ],
             [
              0.8888888888888888,
              "#fdca26"
             ],
             [
              1,
              "#f0f921"
             ]
            ],
            "type": "contour"
           }
          ],
          "contourcarpet": [
           {
            "colorbar": {
             "outlinewidth": 0,
             "ticks": ""
            },
            "type": "contourcarpet"
           }
          ],
          "heatmap": [
           {
            "colorbar": {
             "outlinewidth": 0,
             "ticks": ""
            },
            "colorscale": [
             [
              0,
              "#0d0887"
             ],
             [
              0.1111111111111111,
              "#46039f"
             ],
             [
              0.2222222222222222,
              "#7201a8"
             ],
             [
              0.3333333333333333,
              "#9c179e"
             ],
             [
              0.4444444444444444,
              "#bd3786"
             ],
             [
              0.5555555555555556,
              "#d8576b"
             ],
             [
              0.6666666666666666,
              "#ed7953"
             ],
             [
              0.7777777777777778,
              "#fb9f3a"
             ],
             [
              0.8888888888888888,
              "#fdca26"
             ],
             [
              1,
              "#f0f921"
             ]
            ],
            "type": "heatmap"
           }
          ],
          "heatmapgl": [
           {
            "colorbar": {
             "outlinewidth": 0,
             "ticks": ""
            },
            "colorscale": [
             [
              0,
              "#0d0887"
             ],
             [
              0.1111111111111111,
              "#46039f"
             ],
             [
              0.2222222222222222,
              "#7201a8"
             ],
             [
              0.3333333333333333,
              "#9c179e"
             ],
             [
              0.4444444444444444,
              "#bd3786"
             ],
             [
              0.5555555555555556,
              "#d8576b"
             ],
             [
              0.6666666666666666,
              "#ed7953"
             ],
             [
              0.7777777777777778,
              "#fb9f3a"
             ],
             [
              0.8888888888888888,
              "#fdca26"
             ],
             [
              1,
              "#f0f921"
             ]
            ],
            "type": "heatmapgl"
           }
          ],
          "histogram": [
           {
            "marker": {
             "pattern": {
              "fillmode": "overlay",
              "size": 10,
              "solidity": 0.2
             }
            },
            "type": "histogram"
           }
          ],
          "histogram2d": [
           {
            "colorbar": {
             "outlinewidth": 0,
             "ticks": ""
            },
            "colorscale": [
             [
              0,
              "#0d0887"
             ],
             [
              0.1111111111111111,
              "#46039f"
             ],
             [
              0.2222222222222222,
              "#7201a8"
             ],
             [
              0.3333333333333333,
              "#9c179e"
             ],
             [
              0.4444444444444444,
              "#bd3786"
             ],
             [
              0.5555555555555556,
              "#d8576b"
             ],
             [
              0.6666666666666666,
              "#ed7953"
             ],
             [
              0.7777777777777778,
              "#fb9f3a"
             ],
             [
              0.8888888888888888,
              "#fdca26"
             ],
             [
              1,
              "#f0f921"
             ]
            ],
            "type": "histogram2d"
           }
          ],
          "histogram2dcontour": [
           {
            "colorbar": {
             "outlinewidth": 0,
             "ticks": ""
            },
            "colorscale": [
             [
              0,
              "#0d0887"
             ],
             [
              0.1111111111111111,
              "#46039f"
             ],
             [
              0.2222222222222222,
              "#7201a8"
             ],
             [
              0.3333333333333333,
              "#9c179e"
             ],
             [
              0.4444444444444444,
              "#bd3786"
             ],
             [
              0.5555555555555556,
              "#d8576b"
             ],
             [
              0.6666666666666666,
              "#ed7953"
             ],
             [
              0.7777777777777778,
              "#fb9f3a"
             ],
             [
              0.8888888888888888,
              "#fdca26"
             ],
             [
              1,
              "#f0f921"
             ]
            ],
            "type": "histogram2dcontour"
           }
          ],
          "mesh3d": [
           {
            "colorbar": {
             "outlinewidth": 0,
             "ticks": ""
            },
            "type": "mesh3d"
           }
          ],
          "parcoords": [
           {
            "line": {
             "colorbar": {
              "outlinewidth": 0,
              "ticks": ""
             }
            },
            "type": "parcoords"
           }
          ],
          "pie": [
           {
            "automargin": true,
            "type": "pie"
           }
          ],
          "scatter": [
           {
            "fillpattern": {
             "fillmode": "overlay",
             "size": 10,
             "solidity": 0.2
            },
            "type": "scatter"
           }
          ],
          "scatter3d": [
           {
            "line": {
             "colorbar": {
              "outlinewidth": 0,
              "ticks": ""
             }
            },
            "marker": {
             "colorbar": {
              "outlinewidth": 0,
              "ticks": ""
             }
            },
            "type": "scatter3d"
           }
          ],
          "scattercarpet": [
           {
            "marker": {
             "colorbar": {
              "outlinewidth": 0,
              "ticks": ""
             }
            },
            "type": "scattercarpet"
           }
          ],
          "scattergeo": [
           {
            "marker": {
             "colorbar": {
              "outlinewidth": 0,
              "ticks": ""
             }
            },
            "type": "scattergeo"
           }
          ],
          "scattergl": [
           {
            "marker": {
             "colorbar": {
              "outlinewidth": 0,
              "ticks": ""
             }
            },
            "type": "scattergl"
           }
          ],
          "scattermapbox": [
           {
            "marker": {
             "colorbar": {
              "outlinewidth": 0,
              "ticks": ""
             }
            },
            "type": "scattermapbox"
           }
          ],
          "scatterpolar": [
           {
            "marker": {
             "colorbar": {
              "outlinewidth": 0,
              "ticks": ""
             }
            },
            "type": "scatterpolar"
           }
          ],
          "scatterpolargl": [
           {
            "marker": {
             "colorbar": {
              "outlinewidth": 0,
              "ticks": ""
             }
            },
            "type": "scatterpolargl"
           }
          ],
          "scatterternary": [
           {
            "marker": {
             "colorbar": {
              "outlinewidth": 0,
              "ticks": ""
             }
            },
            "type": "scatterternary"
           }
          ],
          "surface": [
           {
            "colorbar": {
             "outlinewidth": 0,
             "ticks": ""
            },
            "colorscale": [
             [
              0,
              "#0d0887"
             ],
             [
              0.1111111111111111,
              "#46039f"
             ],
             [
              0.2222222222222222,
              "#7201a8"
             ],
             [
              0.3333333333333333,
              "#9c179e"
             ],
             [
              0.4444444444444444,
              "#bd3786"
             ],
             [
              0.5555555555555556,
              "#d8576b"
             ],
             [
              0.6666666666666666,
              "#ed7953"
             ],
             [
              0.7777777777777778,
              "#fb9f3a"
             ],
             [
              0.8888888888888888,
              "#fdca26"
             ],
             [
              1,
              "#f0f921"
             ]
            ],
            "type": "surface"
           }
          ],
          "table": [
           {
            "cells": {
             "fill": {
              "color": "#EBF0F8"
             },
             "line": {
              "color": "white"
             }
            },
            "header": {
             "fill": {
              "color": "#C8D4E3"
             },
             "line": {
              "color": "white"
             }
            },
            "type": "table"
           }
          ]
         },
         "layout": {
          "annotationdefaults": {
           "arrowcolor": "#2a3f5f",
           "arrowhead": 0,
           "arrowwidth": 1
          },
          "autotypenumbers": "strict",
          "coloraxis": {
           "colorbar": {
            "outlinewidth": 0,
            "ticks": ""
           }
          },
          "colorscale": {
           "diverging": [
            [
             0,
             "#8e0152"
            ],
            [
             0.1,
             "#c51b7d"
            ],
            [
             0.2,
             "#de77ae"
            ],
            [
             0.3,
             "#f1b6da"
            ],
            [
             0.4,
             "#fde0ef"
            ],
            [
             0.5,
             "#f7f7f7"
            ],
            [
             0.6,
             "#e6f5d0"
            ],
            [
             0.7,
             "#b8e186"
            ],
            [
             0.8,
             "#7fbc41"
            ],
            [
             0.9,
             "#4d9221"
            ],
            [
             1,
             "#276419"
            ]
           ],
           "sequential": [
            [
             0,
             "#0d0887"
            ],
            [
             0.1111111111111111,
             "#46039f"
            ],
            [
             0.2222222222222222,
             "#7201a8"
            ],
            [
             0.3333333333333333,
             "#9c179e"
            ],
            [
             0.4444444444444444,
             "#bd3786"
            ],
            [
             0.5555555555555556,
             "#d8576b"
            ],
            [
             0.6666666666666666,
             "#ed7953"
            ],
            [
             0.7777777777777778,
             "#fb9f3a"
            ],
            [
             0.8888888888888888,
             "#fdca26"
            ],
            [
             1,
             "#f0f921"
            ]
           ],
           "sequentialminus": [
            [
             0,
             "#0d0887"
            ],
            [
             0.1111111111111111,
             "#46039f"
            ],
            [
             0.2222222222222222,
             "#7201a8"
            ],
            [
             0.3333333333333333,
             "#9c179e"
            ],
            [
             0.4444444444444444,
             "#bd3786"
            ],
            [
             0.5555555555555556,
             "#d8576b"
            ],
            [
             0.6666666666666666,
             "#ed7953"
            ],
            [
             0.7777777777777778,
             "#fb9f3a"
            ],
            [
             0.8888888888888888,
             "#fdca26"
            ],
            [
             1,
             "#f0f921"
            ]
           ]
          },
          "colorway": [
           "#636efa",
           "#EF553B",
           "#00cc96",
           "#ab63fa",
           "#FFA15A",
           "#19d3f3",
           "#FF6692",
           "#B6E880",
           "#FF97FF",
           "#FECB52"
          ],
          "font": {
           "color": "#2a3f5f"
          },
          "geo": {
           "bgcolor": "white",
           "lakecolor": "white",
           "landcolor": "#E5ECF6",
           "showlakes": true,
           "showland": true,
           "subunitcolor": "white"
          },
          "hoverlabel": {
           "align": "left"
          },
          "hovermode": "closest",
          "mapbox": {
           "style": "light"
          },
          "paper_bgcolor": "white",
          "plot_bgcolor": "#E5ECF6",
          "polar": {
           "angularaxis": {
            "gridcolor": "white",
            "linecolor": "white",
            "ticks": ""
           },
           "bgcolor": "#E5ECF6",
           "radialaxis": {
            "gridcolor": "white",
            "linecolor": "white",
            "ticks": ""
           }
          },
          "scene": {
           "xaxis": {
            "backgroundcolor": "#E5ECF6",
            "gridcolor": "white",
            "gridwidth": 2,
            "linecolor": "white",
            "showbackground": true,
            "ticks": "",
            "zerolinecolor": "white"
           },
           "yaxis": {
            "backgroundcolor": "#E5ECF6",
            "gridcolor": "white",
            "gridwidth": 2,
            "linecolor": "white",
            "showbackground": true,
            "ticks": "",
            "zerolinecolor": "white"
           },
           "zaxis": {
            "backgroundcolor": "#E5ECF6",
            "gridcolor": "white",
            "gridwidth": 2,
            "linecolor": "white",
            "showbackground": true,
            "ticks": "",
            "zerolinecolor": "white"
           }
          },
          "shapedefaults": {
           "line": {
            "color": "#2a3f5f"
           }
          },
          "ternary": {
           "aaxis": {
            "gridcolor": "white",
            "linecolor": "white",
            "ticks": ""
           },
           "baxis": {
            "gridcolor": "white",
            "linecolor": "white",
            "ticks": ""
           },
           "bgcolor": "#E5ECF6",
           "caxis": {
            "gridcolor": "white",
            "linecolor": "white",
            "ticks": ""
           }
          },
          "title": {
           "x": 0.05
          },
          "xaxis": {
           "automargin": true,
           "gridcolor": "white",
           "linecolor": "white",
           "ticks": "",
           "title": {
            "standoff": 15
           },
           "zerolinecolor": "white",
           "zerolinewidth": 2
          },
          "yaxis": {
           "automargin": true,
           "gridcolor": "white",
           "linecolor": "white",
           "ticks": "",
           "title": {
            "standoff": 15
           },
           "zerolinecolor": "white",
           "zerolinewidth": 2
          }
         }
        },
        "xaxis": {
         "anchor": "y",
         "domain": [
          0,
          1
         ],
         "title": {
          "text": "graph"
         }
        },
        "yaxis": {
         "anchor": "x",
         "domain": [
          0,
          1
         ],
         "title": {
          "text": "sum of target_size_diff"
         }
        }
       }
      },
      "text/html": [
       "<div>                            <div id=\"9de700a9-1cc0-4b42-ba8e-052eef2a3c21\" class=\"plotly-graph-div\" style=\"height:400px; width:100%;\"></div>            <script type=\"text/javascript\">                require([\"plotly\"], function(Plotly) {                    window.PLOTLYENV=window.PLOTLYENV || {};                                    if (document.getElementById(\"9de700a9-1cc0-4b42-ba8e-052eef2a3c21\")) {                    Plotly.newPlot(                        \"9de700a9-1cc0-4b42-ba8e-052eef2a3c21\",                        [{\"alignmentgroup\":\"True\",\"bingroup\":\"x\",\"histfunc\":\"sum\",\"hovertemplate\":\"model=SAGE<br>graph=%{x}<br>sum of target_size_diff=%{y}<extra></extra>\",\"legendgroup\":\"SAGE\",\"marker\":{\"color\":\"#636efa\",\"pattern\":{\"shape\":\"\"}},\"name\":\"SAGE\",\"offsetgroup\":\"SAGE\",\"orientation\":\"v\",\"showlegend\":true,\"x\":[\"ER_10000_10_0\",\"ER_10000_10_1\",\"ER_10000_15_0\",\"ER_10000_15_1\",\"ER_10000_20_0\",\"ER_10000_20_1\",\"ER_20000_10_0\",\"ER_20000_10_1\",\"ER_20000_15_0\",\"ER_20000_15_1\",\"ER_20000_20_0\",\"ER_20000_20_1\",\"ER_30000_10_0\",\"ER_30000_15_0\",\"ER_30000_20_0\",\"ER_50000_10_0\",\"ER_50000_15_0\",\"ER_50000_20_0\"],\"xaxis\":\"x\",\"y\":[-44,-50,-28,-30,-69,-53,-115,-98,-74,-104,-116,-143,-195,-168,-166,3353,-280,-334],\"yaxis\":\"y\",\"type\":\"histogram\"},{\"alignmentgroup\":\"True\",\"bingroup\":\"x\",\"histfunc\":\"sum\",\"hovertemplate\":\"model=GAT<br>graph=%{x}<br>sum of target_size_diff=%{y}<extra></extra>\",\"legendgroup\":\"GAT\",\"marker\":{\"color\":\"#EF553B\",\"pattern\":{\"shape\":\"\"}},\"name\":\"GAT\",\"offsetgroup\":\"GAT\",\"orientation\":\"v\",\"showlegend\":true,\"x\":[\"ER_10000_10_0\",\"ER_10000_10_1\",\"ER_10000_15_0\",\"ER_10000_15_1\",\"ER_10000_20_0\",\"ER_10000_20_1\",\"ER_20000_10_0\",\"ER_20000_10_1\",\"ER_20000_15_0\",\"ER_20000_15_1\",\"ER_20000_20_0\",\"ER_20000_20_1\",\"ER_30000_10_0\",\"ER_30000_15_0\",\"ER_30000_20_0\",\"ER_50000_10_0\",\"ER_50000_15_0\",\"ER_50000_20_0\"],\"xaxis\":\"x\",\"y\":[176,39,161,380,300,313,-16,64,110,285,7,311,-39,107,136,413,-142,110],\"yaxis\":\"y\",\"type\":\"histogram\"},{\"alignmentgroup\":\"True\",\"bingroup\":\"x\",\"histfunc\":\"sum\",\"hovertemplate\":\"model=MDH<br>graph=%{x}<br>sum of target_size_diff=%{y}<extra></extra>\",\"legendgroup\":\"MDH\",\"marker\":{\"color\":\"#00cc96\",\"pattern\":{\"shape\":\"\"}},\"name\":\"MDH\",\"offsetgroup\":\"MDH\",\"orientation\":\"v\",\"showlegend\":true,\"x\":[\"ER_10000_10_0\",\"ER_10000_10_1\",\"ER_10000_15_0\",\"ER_10000_15_1\",\"ER_10000_20_0\",\"ER_10000_20_1\",\"ER_20000_10_0\",\"ER_20000_10_1\",\"ER_20000_15_0\",\"ER_20000_15_1\",\"ER_20000_20_0\",\"ER_20000_20_1\",\"ER_30000_10_0\",\"ER_30000_15_0\",\"ER_30000_20_0\",\"ER_50000_10_0\",\"ER_50000_15_0\",\"ER_50000_20_0\"],\"xaxis\":\"x\",\"y\":[0,0,0,0,0,0,0,0,0,0,0,0,0,0,0,0,0,0],\"yaxis\":\"y\",\"type\":\"histogram\"},{\"alignmentgroup\":\"True\",\"bingroup\":\"x\",\"histfunc\":\"sum\",\"hovertemplate\":\"model=GRAT<br>graph=%{x}<br>sum of target_size_diff=%{y}<extra></extra>\",\"legendgroup\":\"GRAT\",\"marker\":{\"color\":\"#ab63fa\",\"pattern\":{\"shape\":\"\"}},\"name\":\"GRAT\",\"offsetgroup\":\"GRAT\",\"orientation\":\"v\",\"showlegend\":true,\"x\":[\"ER_10000_10_0\",\"ER_10000_10_1\",\"ER_10000_15_0\",\"ER_10000_15_1\",\"ER_10000_20_0\",\"ER_10000_20_1\",\"ER_20000_10_0\",\"ER_20000_10_1\",\"ER_20000_15_0\",\"ER_20000_15_1\",\"ER_20000_20_0\",\"ER_20000_20_1\",\"ER_30000_10_0\",\"ER_30000_15_0\",\"ER_30000_20_0\",\"ER_50000_10_0\",\"ER_50000_15_0\",\"ER_50000_20_0\"],\"xaxis\":\"x\",\"y\":[16,-11,-9,33,-50,-32,-5,-10,11,-6,-52,-57,-32,16,-59,3440,-6,-71],\"yaxis\":\"y\",\"type\":\"histogram\"}],                        {\"template\":{\"data\":{\"histogram2dcontour\":[{\"type\":\"histogram2dcontour\",\"colorbar\":{\"outlinewidth\":0,\"ticks\":\"\"},\"colorscale\":[[0.0,\"#0d0887\"],[0.1111111111111111,\"#46039f\"],[0.2222222222222222,\"#7201a8\"],[0.3333333333333333,\"#9c179e\"],[0.4444444444444444,\"#bd3786\"],[0.5555555555555556,\"#d8576b\"],[0.6666666666666666,\"#ed7953\"],[0.7777777777777778,\"#fb9f3a\"],[0.8888888888888888,\"#fdca26\"],[1.0,\"#f0f921\"]]}],\"choropleth\":[{\"type\":\"choropleth\",\"colorbar\":{\"outlinewidth\":0,\"ticks\":\"\"}}],\"histogram2d\":[{\"type\":\"histogram2d\",\"colorbar\":{\"outlinewidth\":0,\"ticks\":\"\"},\"colorscale\":[[0.0,\"#0d0887\"],[0.1111111111111111,\"#46039f\"],[0.2222222222222222,\"#7201a8\"],[0.3333333333333333,\"#9c179e\"],[0.4444444444444444,\"#bd3786\"],[0.5555555555555556,\"#d8576b\"],[0.6666666666666666,\"#ed7953\"],[0.7777777777777778,\"#fb9f3a\"],[0.8888888888888888,\"#fdca26\"],[1.0,\"#f0f921\"]]}],\"heatmap\":[{\"type\":\"heatmap\",\"colorbar\":{\"outlinewidth\":0,\"ticks\":\"\"},\"colorscale\":[[0.0,\"#0d0887\"],[0.1111111111111111,\"#46039f\"],[0.2222222222222222,\"#7201a8\"],[0.3333333333333333,\"#9c179e\"],[0.4444444444444444,\"#bd3786\"],[0.5555555555555556,\"#d8576b\"],[0.6666666666666666,\"#ed7953\"],[0.7777777777777778,\"#fb9f3a\"],[0.8888888888888888,\"#fdca26\"],[1.0,\"#f0f921\"]]}],\"heatmapgl\":[{\"type\":\"heatmapgl\",\"colorbar\":{\"outlinewidth\":0,\"ticks\":\"\"},\"colorscale\":[[0.0,\"#0d0887\"],[0.1111111111111111,\"#46039f\"],[0.2222222222222222,\"#7201a8\"],[0.3333333333333333,\"#9c179e\"],[0.4444444444444444,\"#bd3786\"],[0.5555555555555556,\"#d8576b\"],[0.6666666666666666,\"#ed7953\"],[0.7777777777777778,\"#fb9f3a\"],[0.8888888888888888,\"#fdca26\"],[1.0,\"#f0f921\"]]}],\"contourcarpet\":[{\"type\":\"contourcarpet\",\"colorbar\":{\"outlinewidth\":0,\"ticks\":\"\"}}],\"contour\":[{\"type\":\"contour\",\"colorbar\":{\"outlinewidth\":0,\"ticks\":\"\"},\"colorscale\":[[0.0,\"#0d0887\"],[0.1111111111111111,\"#46039f\"],[0.2222222222222222,\"#7201a8\"],[0.3333333333333333,\"#9c179e\"],[0.4444444444444444,\"#bd3786\"],[0.5555555555555556,\"#d8576b\"],[0.6666666666666666,\"#ed7953\"],[0.7777777777777778,\"#fb9f3a\"],[0.8888888888888888,\"#fdca26\"],[1.0,\"#f0f921\"]]}],\"surface\":[{\"type\":\"surface\",\"colorbar\":{\"outlinewidth\":0,\"ticks\":\"\"},\"colorscale\":[[0.0,\"#0d0887\"],[0.1111111111111111,\"#46039f\"],[0.2222222222222222,\"#7201a8\"],[0.3333333333333333,\"#9c179e\"],[0.4444444444444444,\"#bd3786\"],[0.5555555555555556,\"#d8576b\"],[0.6666666666666666,\"#ed7953\"],[0.7777777777777778,\"#fb9f3a\"],[0.8888888888888888,\"#fdca26\"],[1.0,\"#f0f921\"]]}],\"mesh3d\":[{\"type\":\"mesh3d\",\"colorbar\":{\"outlinewidth\":0,\"ticks\":\"\"}}],\"scatter\":[{\"fillpattern\":{\"fillmode\":\"overlay\",\"size\":10,\"solidity\":0.2},\"type\":\"scatter\"}],\"parcoords\":[{\"type\":\"parcoords\",\"line\":{\"colorbar\":{\"outlinewidth\":0,\"ticks\":\"\"}}}],\"scatterpolargl\":[{\"type\":\"scatterpolargl\",\"marker\":{\"colorbar\":{\"outlinewidth\":0,\"ticks\":\"\"}}}],\"bar\":[{\"error_x\":{\"color\":\"#2a3f5f\"},\"error_y\":{\"color\":\"#2a3f5f\"},\"marker\":{\"line\":{\"color\":\"#E5ECF6\",\"width\":0.5},\"pattern\":{\"fillmode\":\"overlay\",\"size\":10,\"solidity\":0.2}},\"type\":\"bar\"}],\"scattergeo\":[{\"type\":\"scattergeo\",\"marker\":{\"colorbar\":{\"outlinewidth\":0,\"ticks\":\"\"}}}],\"scatterpolar\":[{\"type\":\"scatterpolar\",\"marker\":{\"colorbar\":{\"outlinewidth\":0,\"ticks\":\"\"}}}],\"histogram\":[{\"marker\":{\"pattern\":{\"fillmode\":\"overlay\",\"size\":10,\"solidity\":0.2}},\"type\":\"histogram\"}],\"scattergl\":[{\"type\":\"scattergl\",\"marker\":{\"colorbar\":{\"outlinewidth\":0,\"ticks\":\"\"}}}],\"scatter3d\":[{\"type\":\"scatter3d\",\"line\":{\"colorbar\":{\"outlinewidth\":0,\"ticks\":\"\"}},\"marker\":{\"colorbar\":{\"outlinewidth\":0,\"ticks\":\"\"}}}],\"scattermapbox\":[{\"type\":\"scattermapbox\",\"marker\":{\"colorbar\":{\"outlinewidth\":0,\"ticks\":\"\"}}}],\"scatterternary\":[{\"type\":\"scatterternary\",\"marker\":{\"colorbar\":{\"outlinewidth\":0,\"ticks\":\"\"}}}],\"scattercarpet\":[{\"type\":\"scattercarpet\",\"marker\":{\"colorbar\":{\"outlinewidth\":0,\"ticks\":\"\"}}}],\"carpet\":[{\"aaxis\":{\"endlinecolor\":\"#2a3f5f\",\"gridcolor\":\"white\",\"linecolor\":\"white\",\"minorgridcolor\":\"white\",\"startlinecolor\":\"#2a3f5f\"},\"baxis\":{\"endlinecolor\":\"#2a3f5f\",\"gridcolor\":\"white\",\"linecolor\":\"white\",\"minorgridcolor\":\"white\",\"startlinecolor\":\"#2a3f5f\"},\"type\":\"carpet\"}],\"table\":[{\"cells\":{\"fill\":{\"color\":\"#EBF0F8\"},\"line\":{\"color\":\"white\"}},\"header\":{\"fill\":{\"color\":\"#C8D4E3\"},\"line\":{\"color\":\"white\"}},\"type\":\"table\"}],\"barpolar\":[{\"marker\":{\"line\":{\"color\":\"#E5ECF6\",\"width\":0.5},\"pattern\":{\"fillmode\":\"overlay\",\"size\":10,\"solidity\":0.2}},\"type\":\"barpolar\"}],\"pie\":[{\"automargin\":true,\"type\":\"pie\"}]},\"layout\":{\"autotypenumbers\":\"strict\",\"colorway\":[\"#636efa\",\"#EF553B\",\"#00cc96\",\"#ab63fa\",\"#FFA15A\",\"#19d3f3\",\"#FF6692\",\"#B6E880\",\"#FF97FF\",\"#FECB52\"],\"font\":{\"color\":\"#2a3f5f\"},\"hovermode\":\"closest\",\"hoverlabel\":{\"align\":\"left\"},\"paper_bgcolor\":\"white\",\"plot_bgcolor\":\"#E5ECF6\",\"polar\":{\"bgcolor\":\"#E5ECF6\",\"angularaxis\":{\"gridcolor\":\"white\",\"linecolor\":\"white\",\"ticks\":\"\"},\"radialaxis\":{\"gridcolor\":\"white\",\"linecolor\":\"white\",\"ticks\":\"\"}},\"ternary\":{\"bgcolor\":\"#E5ECF6\",\"aaxis\":{\"gridcolor\":\"white\",\"linecolor\":\"white\",\"ticks\":\"\"},\"baxis\":{\"gridcolor\":\"white\",\"linecolor\":\"white\",\"ticks\":\"\"},\"caxis\":{\"gridcolor\":\"white\",\"linecolor\":\"white\",\"ticks\":\"\"}},\"coloraxis\":{\"colorbar\":{\"outlinewidth\":0,\"ticks\":\"\"}},\"colorscale\":{\"sequential\":[[0.0,\"#0d0887\"],[0.1111111111111111,\"#46039f\"],[0.2222222222222222,\"#7201a8\"],[0.3333333333333333,\"#9c179e\"],[0.4444444444444444,\"#bd3786\"],[0.5555555555555556,\"#d8576b\"],[0.6666666666666666,\"#ed7953\"],[0.7777777777777778,\"#fb9f3a\"],[0.8888888888888888,\"#fdca26\"],[1.0,\"#f0f921\"]],\"sequentialminus\":[[0.0,\"#0d0887\"],[0.1111111111111111,\"#46039f\"],[0.2222222222222222,\"#7201a8\"],[0.3333333333333333,\"#9c179e\"],[0.4444444444444444,\"#bd3786\"],[0.5555555555555556,\"#d8576b\"],[0.6666666666666666,\"#ed7953\"],[0.7777777777777778,\"#fb9f3a\"],[0.8888888888888888,\"#fdca26\"],[1.0,\"#f0f921\"]],\"diverging\":[[0,\"#8e0152\"],[0.1,\"#c51b7d\"],[0.2,\"#de77ae\"],[0.3,\"#f1b6da\"],[0.4,\"#fde0ef\"],[0.5,\"#f7f7f7\"],[0.6,\"#e6f5d0\"],[0.7,\"#b8e186\"],[0.8,\"#7fbc41\"],[0.9,\"#4d9221\"],[1,\"#276419\"]]},\"xaxis\":{\"gridcolor\":\"white\",\"linecolor\":\"white\",\"ticks\":\"\",\"title\":{\"standoff\":15},\"zerolinecolor\":\"white\",\"automargin\":true,\"zerolinewidth\":2},\"yaxis\":{\"gridcolor\":\"white\",\"linecolor\":\"white\",\"ticks\":\"\",\"title\":{\"standoff\":15},\"zerolinecolor\":\"white\",\"automargin\":true,\"zerolinewidth\":2},\"scene\":{\"xaxis\":{\"backgroundcolor\":\"#E5ECF6\",\"gridcolor\":\"white\",\"linecolor\":\"white\",\"showbackground\":true,\"ticks\":\"\",\"zerolinecolor\":\"white\",\"gridwidth\":2},\"yaxis\":{\"backgroundcolor\":\"#E5ECF6\",\"gridcolor\":\"white\",\"linecolor\":\"white\",\"showbackground\":true,\"ticks\":\"\",\"zerolinecolor\":\"white\",\"gridwidth\":2},\"zaxis\":{\"backgroundcolor\":\"#E5ECF6\",\"gridcolor\":\"white\",\"linecolor\":\"white\",\"showbackground\":true,\"ticks\":\"\",\"zerolinecolor\":\"white\",\"gridwidth\":2}},\"shapedefaults\":{\"line\":{\"color\":\"#2a3f5f\"}},\"annotationdefaults\":{\"arrowcolor\":\"#2a3f5f\",\"arrowhead\":0,\"arrowwidth\":1},\"geo\":{\"bgcolor\":\"white\",\"landcolor\":\"#E5ECF6\",\"subunitcolor\":\"white\",\"showland\":true,\"showlakes\":true,\"lakecolor\":\"white\"},\"title\":{\"x\":0.05},\"mapbox\":{\"style\":\"light\"}}},\"xaxis\":{\"anchor\":\"y\",\"domain\":[0.0,1.0],\"title\":{\"text\":\"graph\"}},\"yaxis\":{\"anchor\":\"x\",\"domain\":[0.0,1.0],\"title\":{\"text\":\"sum of target_size_diff\"}},\"legend\":{\"title\":{\"text\":\"model\"},\"tracegroupgap\":0},\"margin\":{\"t\":60},\"barmode\":\"group\",\"height\":400},                        {\"responsive\": true}                    ).then(function(){\n",
       "                            \n",
       "var gd = document.getElementById('9de700a9-1cc0-4b42-ba8e-052eef2a3c21');\n",
       "var x = new MutationObserver(function (mutations, observer) {{\n",
       "        var display = window.getComputedStyle(gd).display;\n",
       "        if (!display || display === 'none') {{\n",
       "            console.log([gd, 'removed!']);\n",
       "            Plotly.purge(gd);\n",
       "            observer.disconnect();\n",
       "        }}\n",
       "}});\n",
       "\n",
       "// Listen for the removal of the full notebook cells\n",
       "var notebookContainer = gd.closest('#notebook-container');\n",
       "if (notebookContainer) {{\n",
       "    x.observe(notebookContainer, {childList: true});\n",
       "}}\n",
       "\n",
       "// Listen for the clearing of the current output cell\n",
       "var outputEl = gd.closest('.output');\n",
       "if (outputEl) {{\n",
       "    x.observe(outputEl, {childList: true});\n",
       "}}\n",
       "\n",
       "                        })                };                });            </script>        </div>"
      ]
     },
     "metadata": {},
     "output_type": "display_data"
    }
   ],
   "source": [
    "fig = px.histogram(Full, x=\"graph\", y=\"target_size_diff\",\n",
    "             color='model', barmode='group',\n",
    "             height=400)\n",
    "fig.show()"
   ]
  },
  {
   "cell_type": "code",
   "execution_count": 60,
   "id": "952613d0",
   "metadata": {
    "ExecuteTime": {
     "end_time": "2023-01-12T14:29:37.013732Z",
     "start_time": "2023-01-12T14:29:36.978342Z"
    }
   },
   "outputs": [
    {
     "data": {
      "text/html": [
       "<div>\n",
       "<style scoped>\n",
       "    .dataframe tbody tr th:only-of-type {\n",
       "        vertical-align: middle;\n",
       "    }\n",
       "\n",
       "    .dataframe tbody tr th {\n",
       "        vertical-align: top;\n",
       "    }\n",
       "\n",
       "    .dataframe thead th {\n",
       "        text-align: right;\n",
       "    }\n",
       "</style>\n",
       "<table border=\"1\" class=\"dataframe\">\n",
       "  <thead>\n",
       "    <tr style=\"text-align: right;\">\n",
       "      <th></th>\n",
       "      <th>index</th>\n",
       "      <th>target_size</th>\n",
       "      <th>n</th>\n",
       "      <th>t_mean</th>\n",
       "      <th>ratio</th>\n",
       "      <th>target_size_diff</th>\n",
       "    </tr>\n",
       "    <tr>\n",
       "      <th>model</th>\n",
       "      <th></th>\n",
       "      <th></th>\n",
       "      <th></th>\n",
       "      <th></th>\n",
       "      <th></th>\n",
       "      <th></th>\n",
       "    </tr>\n",
       "  </thead>\n",
       "  <tbody>\n",
       "    <tr>\n",
       "      <th>SAGE</th>\n",
       "      <td>8.5</td>\n",
       "      <td>4795.555556</td>\n",
       "      <td>23333.333333</td>\n",
       "      <td>0.576995</td>\n",
       "      <td>0.197275</td>\n",
       "      <td>71.444444</td>\n",
       "    </tr>\n",
       "    <tr>\n",
       "      <th>MDH</th>\n",
       "      <td>8.5</td>\n",
       "      <td>4724.111111</td>\n",
       "      <td>23333.333333</td>\n",
       "      <td>0.578278</td>\n",
       "      <td>0.198539</td>\n",
       "      <td>0.000000</td>\n",
       "    </tr>\n",
       "    <tr>\n",
       "      <th>GRAT</th>\n",
       "      <td>8.5</td>\n",
       "      <td>4897.222222</td>\n",
       "      <td>23333.333333</td>\n",
       "      <td>0.673889</td>\n",
       "      <td>0.201512</td>\n",
       "      <td>173.111111</td>\n",
       "    </tr>\n",
       "    <tr>\n",
       "      <th>GAT</th>\n",
       "      <td>8.5</td>\n",
       "      <td>4874.944444</td>\n",
       "      <td>23333.333333</td>\n",
       "      <td>0.525501</td>\n",
       "      <td>0.209059</td>\n",
       "      <td>150.833333</td>\n",
       "    </tr>\n",
       "  </tbody>\n",
       "</table>\n",
       "</div>"
      ],
      "text/plain": [
       "       index  target_size             n    t_mean     ratio  target_size_diff\n",
       "model                                                                        \n",
       "SAGE     8.5  4795.555556  23333.333333  0.576995  0.197275         71.444444\n",
       "MDH      8.5  4724.111111  23333.333333  0.578278  0.198539          0.000000\n",
       "GRAT     8.5  4897.222222  23333.333333  0.673889  0.201512        173.111111\n",
       "GAT      8.5  4874.944444  23333.333333  0.525501  0.209059        150.833333"
      ]
     },
     "execution_count": 60,
     "metadata": {},
     "output_type": "execute_result"
    }
   ],
   "source": [
    "Full.groupby(by = \"model\").mean().sort_values(by=['ratio'])"
   ]
  },
  {
   "cell_type": "code",
   "execution_count": 61,
   "id": "d9491bdb",
   "metadata": {
    "ExecuteTime": {
     "end_time": "2023-01-12T14:29:40.434308Z",
     "start_time": "2023-01-12T14:29:40.418742Z"
    }
   },
   "outputs": [
    {
     "name": "stdout",
     "output_type": "stream",
     "text": [
      "(72, 8)\n"
     ]
    },
    {
     "data": {
      "text/plain": [
       "(72, 8)"
      ]
     },
     "execution_count": 61,
     "metadata": {},
     "output_type": "execute_result"
    }
   ],
   "source": [
    "print(Full.shape)\n",
    "Full_ = Full.drop_duplicates(subset=['target_size'], keep = False)\n",
    "Full_.shape"
   ]
  },
  {
   "cell_type": "code",
   "execution_count": 62,
   "id": "425ac3dd",
   "metadata": {
    "ExecuteTime": {
     "end_time": "2023-01-12T14:29:40.951232Z",
     "start_time": "2023-01-12T14:29:40.920753Z"
    }
   },
   "outputs": [
    {
     "data": {
      "text/html": [
       "<div>\n",
       "<style scoped>\n",
       "    .dataframe tbody tr th:only-of-type {\n",
       "        vertical-align: middle;\n",
       "    }\n",
       "\n",
       "    .dataframe tbody tr th {\n",
       "        vertical-align: top;\n",
       "    }\n",
       "\n",
       "    .dataframe thead th {\n",
       "        text-align: right;\n",
       "    }\n",
       "</style>\n",
       "<table border=\"1\" class=\"dataframe\">\n",
       "  <thead>\n",
       "    <tr style=\"text-align: right;\">\n",
       "      <th></th>\n",
       "      <th>index</th>\n",
       "      <th>graph</th>\n",
       "      <th>model</th>\n",
       "      <th>target_size</th>\n",
       "      <th>n</th>\n",
       "      <th>t_mean</th>\n",
       "      <th>ratio</th>\n",
       "      <th>target_size_diff</th>\n",
       "    </tr>\n",
       "  </thead>\n",
       "  <tbody>\n",
       "    <tr>\n",
       "      <th>17</th>\n",
       "      <td>17</td>\n",
       "      <td>ER_50000_20_0</td>\n",
       "      <td>SAGE</td>\n",
       "      <td>10883</td>\n",
       "      <td>50000</td>\n",
       "      <td>1.823405</td>\n",
       "      <td>0.21766</td>\n",
       "      <td>-334</td>\n",
       "    </tr>\n",
       "    <tr>\n",
       "      <th>71</th>\n",
       "      <td>17</td>\n",
       "      <td>ER_50000_20_0</td>\n",
       "      <td>GRAT</td>\n",
       "      <td>11146</td>\n",
       "      <td>50000</td>\n",
       "      <td>1.634000</td>\n",
       "      <td>0.22292</td>\n",
       "      <td>-71</td>\n",
       "    </tr>\n",
       "    <tr>\n",
       "      <th>53</th>\n",
       "      <td>17</td>\n",
       "      <td>ER_50000_20_0</td>\n",
       "      <td>MDH</td>\n",
       "      <td>11217</td>\n",
       "      <td>50000</td>\n",
       "      <td>2.005000</td>\n",
       "      <td>0.22434</td>\n",
       "      <td>0</td>\n",
       "    </tr>\n",
       "    <tr>\n",
       "      <th>35</th>\n",
       "      <td>17</td>\n",
       "      <td>ER_50000_20_0</td>\n",
       "      <td>GAT</td>\n",
       "      <td>11327</td>\n",
       "      <td>50000</td>\n",
       "      <td>1.916532</td>\n",
       "      <td>0.22654</td>\n",
       "      <td>110</td>\n",
       "    </tr>\n",
       "  </tbody>\n",
       "</table>\n",
       "</div>"
      ],
      "text/plain": [
       "    index          graph model  target_size      n    t_mean    ratio  \\\n",
       "17     17  ER_50000_20_0  SAGE        10883  50000  1.823405  0.21766   \n",
       "71     17  ER_50000_20_0  GRAT        11146  50000  1.634000  0.22292   \n",
       "53     17  ER_50000_20_0   MDH        11217  50000  2.005000  0.22434   \n",
       "35     17  ER_50000_20_0   GAT        11327  50000  1.916532  0.22654   \n",
       "\n",
       "    target_size_diff  \n",
       "17              -334  \n",
       "71               -71  \n",
       "53                 0  \n",
       "35               110  "
      ]
     },
     "execution_count": 62,
     "metadata": {},
     "output_type": "execute_result"
    }
   ],
   "source": [
    "Full_.query(f\"graph == '{Full_.graph.unique()[-1]}'\").sort_values(by = ['target_size'])"
   ]
  },
  {
   "cell_type": "markdown",
   "id": "d2b7e78b",
   "metadata": {},
   "source": [
    "## Por mejor solución"
   ]
  },
  {
   "cell_type": "code",
   "execution_count": 63,
   "id": "0bac5d8c",
   "metadata": {
    "ExecuteTime": {
     "end_time": "2023-01-12T14:29:41.915295Z",
     "start_time": "2023-01-12T14:29:41.839809Z"
    }
   },
   "outputs": [
    {
     "data": {
      "text/plain": [
       "array([1., 1., 1., 1.])"
      ]
     },
     "execution_count": 63,
     "metadata": {},
     "output_type": "execute_result"
    }
   ],
   "source": [
    "models_name = Full_.model.unique()\n",
    "Dict = {m: i for m, i in zip(models_name, np.arange(models_name.shape[0]))}\n",
    "\n",
    "MT = np.zeros((models_name.shape[0], models_name.shape[0]))\n",
    "for graph in Full_.graph.unique():\n",
    "    \n",
    "    Temp = np.array(Full_.query(f\"graph == '{graph}'\").sort_values(by = \"ratio\", ascending = False).model)\n",
    "    \n",
    "    for m in range(Temp.shape[0]):\n",
    "\n",
    "        if (m + 1) == Temp.shape[0]:\n",
    "            MT[ Dict[ Temp[m] ] ][ Dict[ Temp[m] ] ] += 1\n",
    "            continue\n",
    "        \n",
    "        for j in range(m + 1, Temp.shape[0]):\n",
    "            MT[ Dict[ Temp[m] ] ][ Dict[ Temp[j] ] ] += 1\n",
    "        \n",
    "\n",
    "MT_ = MT / np.expand_dims(np.sum(MT, axis = 1), 1)\n",
    "# La por filas siempre debe de dar 1 y para la probabilidad de estado estacionario, \n",
    "# se hace la transpuesta, es decir, las columnas son las deben sumar 1\n",
    "MT_.sum(1)"
   ]
  },
  {
   "cell_type": "code",
   "execution_count": 64,
   "id": "051dc7e2",
   "metadata": {
    "ExecuteTime": {
     "end_time": "2023-01-12T14:29:42.471212Z",
     "start_time": "2023-01-12T14:29:42.451097Z"
    }
   },
   "outputs": [
    {
     "name": "stdout",
     "output_type": "stream",
     "text": [
      "[0.82626 0.05652 0.07235 0.04487] \n",
      " ['SAGE' 'GAT' 'MDH' 'GRAT']\n"
     ]
    }
   ],
   "source": [
    "SPD_best = np.ones(MT_.shape[0])/MT_.shape[0] # initial distirbution\n",
    "for _ in range(200):\n",
    "    SPD_best = np.dot(MT_.T, SPD_best)\n",
    "print(np.round(SPD_best,5), '\\n',models_name)"
   ]
  },
  {
   "cell_type": "code",
   "execution_count": 65,
   "id": "af86ad0f",
   "metadata": {
    "ExecuteTime": {
     "end_time": "2023-01-12T14:19:18.250632Z",
     "start_time": "2023-01-12T14:19:18.235842Z"
    }
   },
   "outputs": [
    {
     "data": {
      "text/plain": [
       "array(['SAGE', 'MDH', 'GAT', 'GRAT'], dtype=object)"
      ]
     },
     "execution_count": 65,
     "metadata": {},
     "output_type": "execute_result"
    }
   ],
   "source": [
    "# Obtenemos el mínimo porque \n",
    "models_name[np.argsort(-SPD_best)]"
   ]
  },
  {
   "cell_type": "code",
   "execution_count": 66,
   "id": "1bbed3e8",
   "metadata": {
    "ExecuteTime": {
     "end_time": "2023-01-12T14:19:20.312028Z",
     "start_time": "2023-01-12T14:19:19.684319Z"
    }
   },
   "outputs": [
    {
     "data": {
      "image/png": "[encoded data removed]",
      "text/plain": [
       "<Figure size 432x288 with 2 Axes>"
      ]
     },
     "metadata": {
      "needs_background": "light"
     },
     "output_type": "display_data"
    }
   ],
   "source": [
    "sns.heatmap(MT_, annot = True, xticklabels = models_name, yticklabels = models_name)\n",
    "plt.title(\"Heatmap for best solution\")\n",
    "plt.xlabel(\"Mejor que\");"
   ]
  },
  {
   "cell_type": "markdown",
   "id": "f5715266",
   "metadata": {},
   "source": [
    "## Por tiempo"
   ]
  },
  {
   "cell_type": "code",
   "execution_count": 38,
   "id": "f94933df",
   "metadata": {
    "ExecuteTime": {
     "end_time": "2022-12-12T19:10:26.509301Z",
     "start_time": "2022-12-12T19:10:26.463304Z"
    }
   },
   "outputs": [
    {
     "data": {
      "text/plain": [
       "array([1., 1., 1., 1.])"
      ]
     },
     "execution_count": 38,
     "metadata": {},
     "output_type": "execute_result"
    }
   ],
   "source": [
    "MT = np.zeros((models_name.shape[0], models_name.shape[0]))\n",
    "for graph in Full_.graph.unique():\n",
    "    Temp = np.array(Full_.query(f\"graph == '{graph}'\").sort_values(by = \"t_mean\", ascending=False).model)\n",
    "    for m in range(Temp.shape[0]):\n",
    "\n",
    "        if (m + 1) == Temp.shape[0]:\n",
    "            MT[ Dict[ Temp[m] ] ][ Dict[ Temp[m] ] ] += 1\n",
    "            continue\n",
    "        MT[ Dict[ Temp[m] ] ][ Dict[ Temp[m + 1] ] ] += 1\n",
    "\n",
    "MT_ = MT / np.expand_dims(np.sum(MT, axis = 1), 1)\n",
    "# La por filas siempre debe de dar 1 y para la probabilidad de estado estacionario, \n",
    "# se hace la transpuesta, es decir, las columnas son las deben sumar 1\n",
    "MT_.sum(1)"
   ]
  },
  {
   "cell_type": "code",
   "execution_count": 39,
   "id": "94d81e18",
   "metadata": {
    "ExecuteTime": {
     "end_time": "2022-12-12T19:10:26.525312Z",
     "start_time": "2022-12-12T19:10:26.511298Z"
    }
   },
   "outputs": [
    {
     "name": "stdout",
     "output_type": "stream",
     "text": [
      "[0.6211  0.14946 0.05952 0.16992] \n",
      " ['SAGE' 'GAT' 'MDH' 'GRAT']\n"
     ]
    }
   ],
   "source": [
    "SPD_time = np.ones(MT_.shape[0])/MT_.shape[0] # initial distirbution\n",
    "for _ in range(100):\n",
    "    SPD_time = np.dot(MT_.T, SPD_time)\n",
    "print(np.round(SPD_time,5), '\\n',models_name)"
   ]
  },
  {
   "cell_type": "code",
   "execution_count": 40,
   "id": "46ab724c",
   "metadata": {
    "ExecuteTime": {
     "end_time": "2022-12-12T19:10:26.541314Z",
     "start_time": "2022-12-12T19:10:26.529304Z"
    }
   },
   "outputs": [
    {
     "data": {
      "text/plain": [
       "array(['SAGE', 'GRAT', 'GAT', 'MDH'], dtype=object)"
      ]
     },
     "execution_count": 40,
     "metadata": {},
     "output_type": "execute_result"
    }
   ],
   "source": [
    "models_name[np.argsort(-SPD_time)]"
   ]
  },
  {
   "cell_type": "code",
   "execution_count": 41,
   "id": "5d163a20",
   "metadata": {
    "ExecuteTime": {
     "end_time": "2022-12-12T19:10:26.937647Z",
     "start_time": "2022-12-12T19:10:26.545502Z"
    }
   },
   "outputs": [
    {
     "data": {
      "text/plain": [
       "Text(0.5, 1.0, 'Heatmap for fastest solution')"
      ]
     },
     "execution_count": 41,
     "metadata": {},
     "output_type": "execute_result"
    },
    {
     "data": {
      "image/png": "[encoded data removed]",
      "text/plain": [
       "<Figure size 432x288 with 2 Axes>"
      ]
     },
     "metadata": {
      "needs_background": "light"
     },
     "output_type": "display_data"
    }
   ],
   "source": [
    "sns.heatmap(MT_, annot = True, xticklabels = models_name, yticklabels = models_name)\n",
    "plt.title(\"Heatmap for fastest solution\")"
   ]
  },
  {
   "cell_type": "markdown",
   "id": "44bdda17",
   "metadata": {},
   "source": [
    "## All together"
   ]
  },
  {
   "cell_type": "code",
   "execution_count": 42,
   "id": "8d920673",
   "metadata": {
    "ExecuteTime": {
     "end_time": "2023-01-12T14:19:26.301485Z",
     "start_time": "2023-01-12T14:19:26.286305Z"
    }
   },
   "outputs": [
    {
     "name": "stdout",
     "output_type": "stream",
     "text": [
      "---- Best solution ----\n",
      "\n",
      "1  -  SAGE  \t 0.420\n",
      "2  -  GAT  \t 0.272\n",
      "3  -  MDH  \t 0.251\n",
      "4  -  GRAT  \t 0.057\n"
     ]
    }
   ],
   "source": [
    "print(\"---- Best solution ----\\n\")\n",
    "c = 1\n",
    "for g in np.argsort(-SPD_best):\n",
    "    print(c,\" - \", models_name[g][:6], f\" \\t {SPD_best[g]:.3f}\")\n",
    "    c += 1"
   ]
  },
  {
   "cell_type": "code",
   "execution_count": 25,
   "id": "c9ad5e0d",
   "metadata": {
    "ExecuteTime": {
     "end_time": "2022-12-12T19:10:27.362580Z",
     "start_time": "2022-12-12T19:10:27.348582Z"
    }
   },
   "outputs": [
    {
     "name": "stdout",
     "output_type": "stream",
     "text": [
      "------ Best time ------\n",
      "\n",
      "1  -  SAGE  \t 0.234\n",
      "2  -  GraphC  \t 0.195\n",
      "3  -  GAT  \t 0.185\n",
      "4  -  GRAT  \t 0.150\n",
      "5  -  GCN  \t 0.119\n",
      "6  -  SGConv  \t 0.088\n",
      "7  -  MDH  \t 0.028\n"
     ]
    }
   ],
   "source": [
    "print(\"------ Best time ------\\n\")\n",
    "c = 1\n",
    "for g in np.argsort(-SPD_time):\n",
    "    print(c,\" - \", models_name[g][:6], f\" \\t {SPD_time[g]:.3f}\")\n",
    "    c+=1"
   ]
  },
  {
   "cell_type": "code",
   "execution_count": null,
   "id": "b7adceff",
   "metadata": {},
   "outputs": [],
   "source": []
  }
 ],
 "metadata": {
  "hide_input": false,
  "kernelspec": {
   "display_name": "Python 3 (ipykernel)",
   "language": "python",
   "name": "python3"
  },
  "language_info": {
   "codemirror_mode": {
    "name": "ipython",
    "version": 3
   },
   "file_extension": ".py",
   "mimetype": "text/x-python",
   "name": "python",
   "nbconvert_exporter": "python",
   "pygments_lexer": "ipython3",
   "version": "3.9.7"
  },
  "varInspector": {
   "cols": {
    "lenName": 16,
    "lenType": 16,
    "lenVar": 40
   },
   "kernels_config": {
    "python": {
     "delete_cmd_postfix": "",
     "delete_cmd_prefix": "del ",
     "library": "var_list.py",
     "varRefreshCmd": "print(var_dic_list())"
    },
    "r": {
     "delete_cmd_postfix": ") ",
     "delete_cmd_prefix": "rm(",
     "library": "var_list.r",
     "varRefreshCmd": "cat(var_dic_list()) "
    }
   },
   "types_to_exclude": [
    "module",
    "function",
    "builtin_function_or_method",
    "instance",
    "_Feature"
   ],
   "window_display": false
  }
 },
 "nbformat": 4,
 "nbformat_minor": 5
}
