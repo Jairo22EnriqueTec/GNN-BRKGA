{
 "cells": [
  {
   "cell_type": "code",
   "execution_count": 1,
   "id": "5cdc2e61",
   "metadata": {
    "ExecuteTime": {
     "end_time": "2022-12-03T17:56:22.099569Z",
     "start_time": "2022-12-03T17:56:15.213413Z"
    }
   },
   "outputs": [],
   "source": [
    "import numpy as np\n",
    "import pandas as pd\n",
    "import plotly.express as px\n",
    "import seaborn as sns\n",
    "import matplotlib.pyplot as plt"
   ]
  },
  {
   "cell_type": "code",
   "execution_count": 29,
   "id": "d4169fc4",
   "metadata": {
    "ExecuteTime": {
     "end_time": "2022-12-03T18:05:21.871926Z",
     "start_time": "2022-12-03T18:05:21.843103Z"
    }
   },
   "outputs": [
    {
     "data": {
      "text/html": [
       "<div>\n",
       "<style scoped>\n",
       "    .dataframe tbody tr th:only-of-type {\n",
       "        vertical-align: middle;\n",
       "    }\n",
       "\n",
       "    .dataframe tbody tr th {\n",
       "        vertical-align: top;\n",
       "    }\n",
       "\n",
       "    .dataframe thead th {\n",
       "        text-align: right;\n",
       "    }\n",
       "</style>\n",
       "<table border=\"1\" class=\"dataframe\">\n",
       "  <thead>\n",
       "    <tr style=\"text-align: right;\">\n",
       "      <th></th>\n",
       "      <th>graph</th>\n",
       "      <th>model</th>\n",
       "      <th>target_size</th>\n",
       "      <th>n</th>\n",
       "      <th>t_mean</th>\n",
       "    </tr>\n",
       "  </thead>\n",
       "  <tbody>\n",
       "    <tr>\n",
       "      <th>0</th>\n",
       "      <td>graph_football</td>\n",
       "      <td>GRAT</td>\n",
       "      <td>32</td>\n",
       "      <td>115</td>\n",
       "      <td>0.000</td>\n",
       "    </tr>\n",
       "    <tr>\n",
       "      <th>1</th>\n",
       "      <td>graph_jazz</td>\n",
       "      <td>GRAT</td>\n",
       "      <td>33</td>\n",
       "      <td>198</td>\n",
       "      <td>0.001</td>\n",
       "    </tr>\n",
       "    <tr>\n",
       "      <th>2</th>\n",
       "      <td>graph_karate</td>\n",
       "      <td>GRAT</td>\n",
       "      <td>8</td>\n",
       "      <td>62</td>\n",
       "      <td>0.000</td>\n",
       "    </tr>\n",
       "    <tr>\n",
       "      <th>3</th>\n",
       "      <td>graph_CA-CondMat</td>\n",
       "      <td>GRAT</td>\n",
       "      <td>2951</td>\n",
       "      <td>23133</td>\n",
       "      <td>0.292</td>\n",
       "    </tr>\n",
       "    <tr>\n",
       "      <th>4</th>\n",
       "      <td>gemsec_facebook_artist</td>\n",
       "      <td>GRAT</td>\n",
       "      <td>978</td>\n",
       "      <td>50515</td>\n",
       "      <td>0.360</td>\n",
       "    </tr>\n",
       "  </tbody>\n",
       "</table>\n",
       "</div>"
      ],
      "text/plain": [
       "                    graph model  target_size      n  t_mean\n",
       "0          graph_football  GRAT           32    115   0.000\n",
       "1              graph_jazz  GRAT           33    198   0.001\n",
       "2            graph_karate  GRAT            8     62   0.000\n",
       "3        graph_CA-CondMat  GRAT         2951  23133   0.292\n",
       "4  gemsec_facebook_artist  GRAT          978  50515   0.360"
      ]
     },
     "execution_count": 29,
     "metadata": {},
     "output_type": "execute_result"
    }
   ],
   "source": [
    "FastCover = pd.read_csv(\"FastCover/results/scalefree_MDH_socialnetworks/FastCoverResults_scalefree.txt\", header = None)\n",
    "#FastCover = pd.read_csv(\"FastCover/results/paper/FastCoverResults_MDH_erdos.txt\", header = None)\n",
    "FastCover.columns = [\"graph\", \"target_size\",\"t_mean\",\"n\"]\n",
    "FastCover[\"model\"] = \"GRAT\"\n",
    "FastCover = FastCover[[\"graph\", \"model\",\"target_size\", \"n\", \"t_mean\"]]\n",
    "FastCover.head()"
   ]
  },
  {
   "cell_type": "code",
   "execution_count": 30,
   "id": "122c71a7",
   "metadata": {
    "ExecuteTime": {
     "end_time": "2022-12-03T18:05:22.075966Z",
     "start_time": "2022-12-03T18:05:22.033819Z"
    }
   },
   "outputs": [
    {
     "data": {
      "text/html": [
       "<div>\n",
       "<style scoped>\n",
       "    .dataframe tbody tr th:only-of-type {\n",
       "        vertical-align: middle;\n",
       "    }\n",
       "\n",
       "    .dataframe tbody tr th {\n",
       "        vertical-align: top;\n",
       "    }\n",
       "\n",
       "    .dataframe thead th {\n",
       "        text-align: right;\n",
       "    }\n",
       "</style>\n",
       "<table border=\"1\" class=\"dataframe\">\n",
       "  <thead>\n",
       "    <tr style=\"text-align: right;\">\n",
       "      <th></th>\n",
       "      <th>graph</th>\n",
       "      <th>model</th>\n",
       "      <th>target_size</th>\n",
       "      <th>n</th>\n",
       "      <th>t_mean</th>\n",
       "    </tr>\n",
       "  </thead>\n",
       "  <tbody>\n",
       "    <tr>\n",
       "      <th>0</th>\n",
       "      <td>graph_football</td>\n",
       "      <td>GAT</td>\n",
       "      <td>34</td>\n",
       "      <td>115</td>\n",
       "      <td>0.001</td>\n",
       "    </tr>\n",
       "    <tr>\n",
       "      <th>1</th>\n",
       "      <td>graph_jazz</td>\n",
       "      <td>GAT</td>\n",
       "      <td>32</td>\n",
       "      <td>198</td>\n",
       "      <td>0.000</td>\n",
       "    </tr>\n",
       "    <tr>\n",
       "      <th>2</th>\n",
       "      <td>graph_karate</td>\n",
       "      <td>GAT</td>\n",
       "      <td>6</td>\n",
       "      <td>62</td>\n",
       "      <td>0.000</td>\n",
       "    </tr>\n",
       "    <tr>\n",
       "      <th>3</th>\n",
       "      <td>graph_CA-CondMat</td>\n",
       "      <td>GAT</td>\n",
       "      <td>2895</td>\n",
       "      <td>23133</td>\n",
       "      <td>0.599</td>\n",
       "    </tr>\n",
       "    <tr>\n",
       "      <th>4</th>\n",
       "      <td>gemsec_facebook_artist</td>\n",
       "      <td>GAT</td>\n",
       "      <td>868</td>\n",
       "      <td>50515</td>\n",
       "      <td>0.400</td>\n",
       "    </tr>\n",
       "  </tbody>\n",
       "</table>\n",
       "</div>"
      ],
      "text/plain": [
       "                    graph model  target_size      n  t_mean\n",
       "0          graph_football   GAT           34    115   0.001\n",
       "1              graph_jazz   GAT           32    198   0.000\n",
       "2            graph_karate   GAT            6     62   0.000\n",
       "3        graph_CA-CondMat   GAT         2895  23133   0.599\n",
       "4  gemsec_facebook_artist   GAT          868  50515   0.400"
      ]
     },
     "execution_count": 30,
     "metadata": {},
     "output_type": "execute_result"
    }
   ],
   "source": [
    "models = ['GAT', \"GCN\", \"GraphConv\", \"SAGE\"]\n",
    "Full = pd.DataFrame()\n",
    "\n",
    "for model in models:\n",
    "    GNN = pd.read_csv(f\"Models/results/scalefree_MDH_socialnetworks/{model}Results_scalefree.txt\", header = None)\n",
    "    #GNN = pd.read_csv(f\"Models/results/paper/{model}Results_MDH_erdos.txt\", header = None)\n",
    "    \n",
    "    GNN.columns = [\"graph\", \"target_size\",\"t_mean\",\"n\"]\n",
    "    GNN[\"model\"] = model\n",
    "    GNN = GNN[[\"graph\", \"model\",\"target_size\", \"n\", \"t_mean\"]]\n",
    "    \n",
    "    Full = pd.concat([Full, GNN])\n",
    "Full.head()"
   ]
  },
  {
   "cell_type": "code",
   "execution_count": 31,
   "id": "66d5a85f",
   "metadata": {
    "ExecuteTime": {
     "end_time": "2022-12-03T18:05:22.168401Z",
     "start_time": "2022-12-03T18:05:22.154363Z"
    }
   },
   "outputs": [
    {
     "data": {
      "text/html": [
       "<div>\n",
       "<style scoped>\n",
       "    .dataframe tbody tr th:only-of-type {\n",
       "        vertical-align: middle;\n",
       "    }\n",
       "\n",
       "    .dataframe tbody tr th {\n",
       "        vertical-align: top;\n",
       "    }\n",
       "\n",
       "    .dataframe thead th {\n",
       "        text-align: right;\n",
       "    }\n",
       "</style>\n",
       "<table border=\"1\" class=\"dataframe\">\n",
       "  <thead>\n",
       "    <tr style=\"text-align: right;\">\n",
       "      <th></th>\n",
       "      <th>graph</th>\n",
       "      <th>model</th>\n",
       "      <th>target_size</th>\n",
       "      <th>n</th>\n",
       "      <th>t_mean</th>\n",
       "    </tr>\n",
       "  </thead>\n",
       "  <tbody>\n",
       "    <tr>\n",
       "      <th>0</th>\n",
       "      <td>graph_football</td>\n",
       "      <td>MDH</td>\n",
       "      <td>31</td>\n",
       "      <td>115</td>\n",
       "      <td>0.000</td>\n",
       "    </tr>\n",
       "    <tr>\n",
       "      <th>1</th>\n",
       "      <td>graph_jazz</td>\n",
       "      <td>MDH</td>\n",
       "      <td>31</td>\n",
       "      <td>198</td>\n",
       "      <td>0.002</td>\n",
       "    </tr>\n",
       "    <tr>\n",
       "      <th>2</th>\n",
       "      <td>graph_karate</td>\n",
       "      <td>MDH</td>\n",
       "      <td>8</td>\n",
       "      <td>62</td>\n",
       "      <td>0.000</td>\n",
       "    </tr>\n",
       "    <tr>\n",
       "      <th>3</th>\n",
       "      <td>graph_CA-CondMat</td>\n",
       "      <td>MDH</td>\n",
       "      <td>2938</td>\n",
       "      <td>23133</td>\n",
       "      <td>0.754</td>\n",
       "    </tr>\n",
       "    <tr>\n",
       "      <th>4</th>\n",
       "      <td>gemsec_facebook_artist</td>\n",
       "      <td>MDH</td>\n",
       "      <td>790</td>\n",
       "      <td>50515</td>\n",
       "      <td>0.400</td>\n",
       "    </tr>\n",
       "  </tbody>\n",
       "</table>\n",
       "</div>"
      ],
      "text/plain": [
       "                    graph model  target_size      n  t_mean\n",
       "0          graph_football   MDH           31    115   0.000\n",
       "1              graph_jazz   MDH           31    198   0.002\n",
       "2            graph_karate   MDH            8     62   0.000\n",
       "3        graph_CA-CondMat   MDH         2938  23133   0.754\n",
       "4  gemsec_facebook_artist   MDH          790  50515   0.400"
      ]
     },
     "execution_count": 31,
     "metadata": {},
     "output_type": "execute_result"
    }
   ],
   "source": [
    "MDH = pd.read_csv(f\"MDH/MDHResults.txt\", header = None)\n",
    "MDH.columns = [\"graph\", \"target_size\",\"t_mean\",\"n\"]\n",
    "MDH[\"model\"] = 'MDH'\n",
    "MDH = MDH[[\"graph\", \"model\",\"target_size\", \"n\", \"t_mean\"]]\n",
    "MDH.head()"
   ]
  },
  {
   "cell_type": "code",
   "execution_count": 32,
   "id": "8c9279f4",
   "metadata": {
    "ExecuteTime": {
     "end_time": "2022-12-03T18:05:22.338193Z",
     "start_time": "2022-12-03T18:05:22.312262Z"
    }
   },
   "outputs": [],
   "source": [
    "Full = pd.concat([Full, MDH, FastCover])\n",
    "Full['ratio'] =  Full.target_size/Full.n\n",
    "Full = Full.drop_duplicates(subset=['model', 'graph'], keep='last')"
   ]
  },
  {
   "cell_type": "code",
   "execution_count": 33,
   "id": "fa551e4a",
   "metadata": {
    "ExecuteTime": {
     "end_time": "2022-12-03T18:05:22.495459Z",
     "start_time": "2022-12-03T18:05:22.474366Z"
    }
   },
   "outputs": [
    {
     "data": {
      "text/html": [
       "<div>\n",
       "<style scoped>\n",
       "    .dataframe tbody tr th:only-of-type {\n",
       "        vertical-align: middle;\n",
       "    }\n",
       "\n",
       "    .dataframe tbody tr th {\n",
       "        vertical-align: top;\n",
       "    }\n",
       "\n",
       "    .dataframe thead th {\n",
       "        text-align: right;\n",
       "    }\n",
       "</style>\n",
       "<table border=\"1\" class=\"dataframe\">\n",
       "  <thead>\n",
       "    <tr style=\"text-align: right;\">\n",
       "      <th></th>\n",
       "      <th>graph</th>\n",
       "      <th>model</th>\n",
       "      <th>target_size</th>\n",
       "      <th>n</th>\n",
       "      <th>t_mean</th>\n",
       "      <th>ratio</th>\n",
       "    </tr>\n",
       "  </thead>\n",
       "  <tbody>\n",
       "    <tr>\n",
       "      <th>12</th>\n",
       "      <td>graph_dolphins</td>\n",
       "      <td>GRAT</td>\n",
       "      <td>3</td>\n",
       "      <td>34</td>\n",
       "      <td>0.000</td>\n",
       "      <td>0.088235</td>\n",
       "    </tr>\n",
       "    <tr>\n",
       "      <th>12</th>\n",
       "      <td>graph_dolphins</td>\n",
       "      <td>SAGE</td>\n",
       "      <td>3</td>\n",
       "      <td>34</td>\n",
       "      <td>0.000</td>\n",
       "      <td>0.088235</td>\n",
       "    </tr>\n",
       "    <tr>\n",
       "      <th>12</th>\n",
       "      <td>graph_dolphins</td>\n",
       "      <td>MDH</td>\n",
       "      <td>3</td>\n",
       "      <td>34</td>\n",
       "      <td>0.000</td>\n",
       "      <td>0.088235</td>\n",
       "    </tr>\n",
       "    <tr>\n",
       "      <th>12</th>\n",
       "      <td>graph_dolphins</td>\n",
       "      <td>GraphConv</td>\n",
       "      <td>6</td>\n",
       "      <td>34</td>\n",
       "      <td>0.000</td>\n",
       "      <td>0.176471</td>\n",
       "    </tr>\n",
       "    <tr>\n",
       "      <th>12</th>\n",
       "      <td>graph_dolphins</td>\n",
       "      <td>GCN</td>\n",
       "      <td>6</td>\n",
       "      <td>34</td>\n",
       "      <td>0.000</td>\n",
       "      <td>0.176471</td>\n",
       "    </tr>\n",
       "    <tr>\n",
       "      <th>...</th>\n",
       "      <td>...</td>\n",
       "      <td>...</td>\n",
       "      <td>...</td>\n",
       "      <td>...</td>\n",
       "      <td>...</td>\n",
       "      <td>...</td>\n",
       "    </tr>\n",
       "    <tr>\n",
       "      <th>23</th>\n",
       "      <td>com-youtube.ungraph</td>\n",
       "      <td>SAGE</td>\n",
       "      <td>39593</td>\n",
       "      <td>1134890</td>\n",
       "      <td>153.891</td>\n",
       "      <td>0.034887</td>\n",
       "    </tr>\n",
       "    <tr>\n",
       "      <th>23</th>\n",
       "      <td>com-youtube.ungraph</td>\n",
       "      <td>GRAT</td>\n",
       "      <td>39084</td>\n",
       "      <td>1134890</td>\n",
       "      <td>78.445</td>\n",
       "      <td>0.034439</td>\n",
       "    </tr>\n",
       "    <tr>\n",
       "      <th>23</th>\n",
       "      <td>com-youtube.ungraph</td>\n",
       "      <td>MDH</td>\n",
       "      <td>39090</td>\n",
       "      <td>1134890</td>\n",
       "      <td>317.299</td>\n",
       "      <td>0.034444</td>\n",
       "    </tr>\n",
       "    <tr>\n",
       "      <th>23</th>\n",
       "      <td>com-youtube.ungraph</td>\n",
       "      <td>GraphConv</td>\n",
       "      <td>63652</td>\n",
       "      <td>1134890</td>\n",
       "      <td>217.945</td>\n",
       "      <td>0.056086</td>\n",
       "    </tr>\n",
       "    <tr>\n",
       "      <th>23</th>\n",
       "      <td>com-youtube.ungraph</td>\n",
       "      <td>GCN</td>\n",
       "      <td>41411</td>\n",
       "      <td>1134890</td>\n",
       "      <td>179.040</td>\n",
       "      <td>0.036489</td>\n",
       "    </tr>\n",
       "  </tbody>\n",
       "</table>\n",
       "<p>162 rows × 6 columns</p>\n",
       "</div>"
      ],
      "text/plain": [
       "                  graph      model  target_size        n   t_mean     ratio\n",
       "12       graph_dolphins       GRAT            3       34    0.000  0.088235\n",
       "12       graph_dolphins       SAGE            3       34    0.000  0.088235\n",
       "12       graph_dolphins        MDH            3       34    0.000  0.088235\n",
       "12       graph_dolphins  GraphConv            6       34    0.000  0.176471\n",
       "12       graph_dolphins        GCN            6       34    0.000  0.176471\n",
       "..                  ...        ...          ...      ...      ...       ...\n",
       "23  com-youtube.ungraph       SAGE        39593  1134890  153.891  0.034887\n",
       "23  com-youtube.ungraph       GRAT        39084  1134890   78.445  0.034439\n",
       "23  com-youtube.ungraph        MDH        39090  1134890  317.299  0.034444\n",
       "23  com-youtube.ungraph  GraphConv        63652  1134890  217.945  0.056086\n",
       "23  com-youtube.ungraph        GCN        41411  1134890  179.040  0.036489\n",
       "\n",
       "[162 rows x 6 columns]"
      ]
     },
     "execution_count": 33,
     "metadata": {},
     "output_type": "execute_result"
    }
   ],
   "source": [
    "Full = Full.sort_values(by=['n'])\n",
    "Full"
   ]
  },
  {
   "cell_type": "code",
   "execution_count": 34,
   "id": "062fea08",
   "metadata": {
    "ExecuteTime": {
     "end_time": "2022-12-03T18:05:22.639511Z",
     "start_time": "2022-12-03T18:05:22.629983Z"
    }
   },
   "outputs": [
    {
     "data": {
      "text/plain": [
       "162"
      ]
     },
     "execution_count": 34,
     "metadata": {},
     "output_type": "execute_result"
    }
   ],
   "source": [
    "Full.model.count()"
   ]
  },
  {
   "cell_type": "code",
   "execution_count": 35,
   "id": "e1bacaec",
   "metadata": {
    "ExecuteTime": {
     "end_time": "2022-12-03T18:05:22.888787Z",
     "start_time": "2022-12-03T18:05:22.791729Z"
    }
   },
   "outputs": [
    {
     "data": {
      "application/vnd.plotly.v1+json": {
       "config": {
        "plotlyServerURL": "https://plot.ly"
       },
       "data": [
        {
         "alignmentgroup": "True",
         "bingroup": "x",
         "histfunc": "sum",
         "hovertemplate": "model=GRAT<br>graph=%{x}<br>sum of target_size=%{y}<extra></extra>",
         "legendgroup": "GRAT",
         "marker": {
          "color": "#636efa"
         },
         "name": "GRAT",
         "offsetgroup": "GRAT",
         "orientation": "v",
         "showlegend": true,
         "type": "histogram",
         "x": [
          "graph_dolphins",
          "graph_karate",
          "graph_football",
          "graph_jazz",
          "socfb-nips-ego",
          "socfb-Mich67",
          "socfb-Brandeis99",
          "ego-facebook",
          "graph_CA-GrQc",
          "graph_ncstrlwg2",
          "graph_CA-HepTh",
          "graph_actors_dat",
          "graph_CA-HepPh",
          "graph_CA-AstroPh",
          "graph_CA-CondMat",
          "soc-gplus",
          "graph_Email-Enron",
          "musae_git",
          "gemsec_facebook_artist",
          "deezer_HR",
          "loc-gowalla_edges",
          "Amazon0302",
          "com-dblp.ungraph",
          "Amazon0312",
          "Amazon0601",
          "Amazon0505",
          "com-youtube.ungraph"
         ],
         "xaxis": "x",
         "y": [
          3,
          8,
          32,
          33,
          10,
          475,
          519,
          528,
          1036,
          1110,
          1382,
          1074,
          1634,
          1832,
          2951,
          69,
          2911,
          206,
          978,
          4402,
          5713,
          35295,
          37340,
          31829,
          31839,
          32587,
          39084
         ],
         "yaxis": "y"
        },
        {
         "alignmentgroup": "True",
         "bingroup": "x",
         "histfunc": "sum",
         "hovertemplate": "model=SAGE<br>graph=%{x}<br>sum of target_size=%{y}<extra></extra>",
         "legendgroup": "SAGE",
         "marker": {
          "color": "#EF553B"
         },
         "name": "SAGE",
         "offsetgroup": "SAGE",
         "orientation": "v",
         "showlegend": true,
         "type": "histogram",
         "x": [
          "graph_dolphins",
          "graph_karate",
          "graph_football",
          "graph_jazz",
          "socfb-nips-ego",
          "socfb-Mich67",
          "socfb-Brandeis99",
          "ego-facebook",
          "graph_CA-GrQc",
          "graph_ncstrlwg2",
          "graph_CA-HepTh",
          "graph_actors_dat",
          "graph_CA-HepPh",
          "graph_CA-AstroPh",
          "graph_CA-CondMat",
          "soc-gplus",
          "graph_Email-Enron",
          "musae_git",
          "gemsec_facebook_artist",
          "deezer_HR",
          "loc-gowalla_edges",
          "Amazon0302",
          "com-dblp.ungraph",
          "Amazon0312",
          "Amazon0601",
          "Amazon0505",
          "com-youtube.ungraph"
         ],
         "xaxis": "x",
         "y": [
          3,
          8,
          31,
          29,
          10,
          242,
          450,
          559,
          1012,
          1094,
          1362,
          1048,
          1489,
          1634,
          2871,
          69,
          2862,
          215,
          811,
          2928,
          5861,
          35945,
          36418,
          31885,
          32245,
          32604,
          39593
         ],
         "yaxis": "y"
        },
        {
         "alignmentgroup": "True",
         "bingroup": "x",
         "histfunc": "sum",
         "hovertemplate": "model=MDH<br>graph=%{x}<br>sum of target_size=%{y}<extra></extra>",
         "legendgroup": "MDH",
         "marker": {
          "color": "#00cc96"
         },
         "name": "MDH",
         "offsetgroup": "MDH",
         "orientation": "v",
         "showlegend": true,
         "type": "histogram",
         "x": [
          "graph_dolphins",
          "graph_karate",
          "graph_football",
          "graph_jazz",
          "socfb-nips-ego",
          "socfb-Mich67",
          "socfb-Brandeis99",
          "ego-facebook",
          "graph_CA-GrQc",
          "graph_ncstrlwg2",
          "graph_CA-HepTh",
          "graph_actors_dat",
          "graph_CA-HepPh",
          "graph_CA-AstroPh",
          "graph_CA-CondMat",
          "soc-gplus",
          "graph_Email-Enron",
          "musae_git",
          "gemsec_facebook_artist",
          "deezer_HR",
          "loc-gowalla_edges",
          "Amazon0302",
          "com-dblp.ungraph",
          "Amazon0312",
          "Amazon0601",
          "Amazon0505",
          "com-youtube.ungraph"
         ],
         "xaxis": "x",
         "y": [
          3,
          8,
          31,
          31,
          10,
          202,
          395,
          528,
          1033,
          1108,
          1388,
          1014,
          1529,
          1638,
          2938,
          69,
          2881,
          196,
          790,
          2346,
          5670,
          35766,
          37197,
          31165,
          31507,
          31926,
          39090
         ],
         "yaxis": "y"
        },
        {
         "alignmentgroup": "True",
         "bingroup": "x",
         "histfunc": "sum",
         "hovertemplate": "model=GraphConv<br>graph=%{x}<br>sum of target_size=%{y}<extra></extra>",
         "legendgroup": "GraphConv",
         "marker": {
          "color": "#ab63fa"
         },
         "name": "GraphConv",
         "offsetgroup": "GraphConv",
         "orientation": "v",
         "showlegend": true,
         "type": "histogram",
         "x": [
          "graph_dolphins",
          "graph_karate",
          "graph_football",
          "graph_jazz",
          "socfb-nips-ego",
          "socfb-Mich67",
          "socfb-Brandeis99",
          "ego-facebook",
          "graph_CA-GrQc",
          "graph_ncstrlwg2",
          "graph_CA-HepTh",
          "graph_actors_dat",
          "graph_CA-HepPh",
          "graph_CA-AstroPh",
          "graph_CA-CondMat",
          "soc-gplus",
          "graph_Email-Enron",
          "musae_git",
          "gemsec_facebook_artist",
          "deezer_HR",
          "loc-gowalla_edges",
          "Amazon0302",
          "com-dblp.ungraph",
          "Amazon0312",
          "Amazon0601",
          "Amazon0505",
          "com-youtube.ungraph"
         ],
         "xaxis": "x",
         "y": [
          6,
          13,
          34,
          64,
          10,
          1092,
          1068,
          775,
          1156,
          1218,
          1650,
          1555,
          2409,
          2426,
          3808,
          1562,
          3446,
          9963,
          9443,
          8464,
          11182,
          41667,
          45490,
          42052,
          44631,
          45716,
          63652
         ],
         "yaxis": "y"
        },
        {
         "alignmentgroup": "True",
         "bingroup": "x",
         "histfunc": "sum",
         "hovertemplate": "model=GCN<br>graph=%{x}<br>sum of target_size=%{y}<extra></extra>",
         "legendgroup": "GCN",
         "marker": {
          "color": "#FFA15A"
         },
         "name": "GCN",
         "offsetgroup": "GCN",
         "orientation": "v",
         "showlegend": true,
         "type": "histogram",
         "x": [
          "graph_dolphins",
          "graph_karate",
          "graph_football",
          "graph_jazz",
          "socfb-nips-ego",
          "socfb-Mich67",
          "socfb-Brandeis99",
          "ego-facebook",
          "graph_CA-GrQc",
          "graph_ncstrlwg2",
          "graph_CA-HepTh",
          "graph_actors_dat",
          "graph_CA-HepPh",
          "graph_CA-AstroPh",
          "graph_CA-CondMat",
          "soc-gplus",
          "graph_Email-Enron",
          "musae_git",
          "gemsec_facebook_artist",
          "deezer_HR",
          "loc-gowalla_edges",
          "Amazon0302",
          "com-dblp.ungraph",
          "Amazon0312",
          "Amazon0601",
          "Amazon0505",
          "com-youtube.ungraph"
         ],
         "xaxis": "x",
         "y": [
          6,
          11,
          32,
          52,
          10,
          372,
          708,
          681,
          1028,
          1128,
          1412,
          1109,
          1565,
          1713,
          2955,
          1077,
          2948,
          2614,
          2883,
          4121,
          6159,
          35787,
          37374,
          31379,
          31981,
          32350,
          41411
         ],
         "yaxis": "y"
        },
        {
         "alignmentgroup": "True",
         "bingroup": "x",
         "histfunc": "sum",
         "hovertemplate": "model=GAT<br>graph=%{x}<br>sum of target_size=%{y}<extra></extra>",
         "legendgroup": "GAT",
         "marker": {
          "color": "#19d3f3"
         },
         "name": "GAT",
         "offsetgroup": "GAT",
         "orientation": "v",
         "showlegend": true,
         "type": "histogram",
         "x": [
          "graph_dolphins",
          "graph_karate",
          "graph_football",
          "graph_jazz",
          "socfb-nips-ego",
          "socfb-Mich67",
          "socfb-Brandeis99",
          "ego-facebook",
          "graph_CA-GrQc",
          "graph_ncstrlwg2",
          "graph_CA-HepTh",
          "graph_actors_dat",
          "graph_CA-HepPh",
          "graph_CA-AstroPh",
          "graph_CA-CondMat",
          "soc-gplus",
          "graph_Email-Enron",
          "musae_git",
          "gemsec_facebook_artist",
          "deezer_HR",
          "loc-gowalla_edges",
          "Amazon0302",
          "com-dblp.ungraph",
          "Amazon0312",
          "Amazon0601",
          "Amazon0505",
          "com-youtube.ungraph"
         ],
         "xaxis": "x",
         "y": [
          3,
          6,
          34,
          32,
          10,
          232,
          403,
          543,
          1020,
          1110,
          1361,
          1015,
          1498,
          1625,
          2895,
          69,
          2837,
          201,
          868,
          2408,
          5695,
          35446,
          36845,
          30986,
          31382,
          31706,
          38774
         ],
         "yaxis": "y"
        }
       ],
       "layout": {
        "barmode": "group",
        "height": 400,
        "legend": {
         "title": {
          "text": "model"
         },
         "tracegroupgap": 0
        },
        "margin": {
         "t": 60
        },
        "template": {
         "data": {
          "bar": [
           {
            "error_x": {
             "color": "#2a3f5f"
            },
            "error_y": {
             "color": "#2a3f5f"
            },
            "marker": {
             "line": {
              "color": "#E5ECF6",
              "width": 0.5
             }
            },
            "type": "bar"
           }
          ],
          "barpolar": [
           {
            "marker": {
             "line": {
              "color": "#E5ECF6",
              "width": 0.5
             }
            },
            "type": "barpolar"
           }
          ],
          "carpet": [
           {
            "aaxis": {
             "endlinecolor": "#2a3f5f",
             "gridcolor": "white",
             "linecolor": "white",
             "minorgridcolor": "white",
             "startlinecolor": "#2a3f5f"
            },
            "baxis": {
             "endlinecolor": "#2a3f5f",
             "gridcolor": "white",
             "linecolor": "white",
             "minorgridcolor": "white",
             "startlinecolor": "#2a3f5f"
            },
            "type": "carpet"
           }
          ],
          "choropleth": [
           {
            "colorbar": {
             "outlinewidth": 0,
             "ticks": ""
            },
            "type": "choropleth"
           }
          ],
          "contour": [
           {
            "colorbar": {
             "outlinewidth": 0,
             "ticks": ""
            },
            "colorscale": [
             [
              0,
              "#0d0887"
             ],
             [
              0.1111111111111111,
              "#46039f"
             ],
             [
              0.2222222222222222,
              "#7201a8"
             ],
             [
              0.3333333333333333,
              "#9c179e"
             ],
             [
              0.4444444444444444,
              "#bd3786"
             ],
             [
              0.5555555555555556,
              "#d8576b"
             ],
             [
              0.6666666666666666,
              "#ed7953"
             ],
             [
              0.7777777777777778,
              "#fb9f3a"
             ],
             [
              0.8888888888888888,
              "#fdca26"
             ],
             [
              1,
              "#f0f921"
             ]
            ],
            "type": "contour"
           }
          ],
          "contourcarpet": [
           {
            "colorbar": {
             "outlinewidth": 0,
             "ticks": ""
            },
            "type": "contourcarpet"
           }
          ],
          "heatmap": [
           {
            "colorbar": {
             "outlinewidth": 0,
             "ticks": ""
            },
            "colorscale": [
             [
              0,
              "#0d0887"
             ],
             [
              0.1111111111111111,
              "#46039f"
             ],
             [
              0.2222222222222222,
              "#7201a8"
             ],
             [
              0.3333333333333333,
              "#9c179e"
             ],
             [
              0.4444444444444444,
              "#bd3786"
             ],
             [
              0.5555555555555556,
              "#d8576b"
             ],
             [
              0.6666666666666666,
              "#ed7953"
             ],
             [
              0.7777777777777778,
              "#fb9f3a"
             ],
             [
              0.8888888888888888,
              "#fdca26"
             ],
             [
              1,
              "#f0f921"
             ]
            ],
            "type": "heatmap"
           }
          ],
          "heatmapgl": [
           {
            "colorbar": {
             "outlinewidth": 0,
             "ticks": ""
            },
            "colorscale": [
             [
              0,
              "#0d0887"
             ],
             [
              0.1111111111111111,
              "#46039f"
             ],
             [
              0.2222222222222222,
              "#7201a8"
             ],
             [
              0.3333333333333333,
              "#9c179e"
             ],
             [
              0.4444444444444444,
              "#bd3786"
             ],
             [
              0.5555555555555556,
              "#d8576b"
             ],
             [
              0.6666666666666666,
              "#ed7953"
             ],
             [
              0.7777777777777778,
              "#fb9f3a"
             ],
             [
              0.8888888888888888,
              "#fdca26"
             ],
             [
              1,
              "#f0f921"
             ]
            ],
            "type": "heatmapgl"
           }
          ],
          "histogram": [
           {
            "marker": {
             "colorbar": {
              "outlinewidth": 0,
              "ticks": ""
             }
            },
            "type": "histogram"
           }
          ],
          "histogram2d": [
           {
            "colorbar": {
             "outlinewidth": 0,
             "ticks": ""
            },
            "colorscale": [
             [
              0,
              "#0d0887"
             ],
             [
              0.1111111111111111,
              "#46039f"
             ],
             [
              0.2222222222222222,
              "#7201a8"
             ],
             [
              0.3333333333333333,
              "#9c179e"
             ],
             [
              0.4444444444444444,
              "#bd3786"
             ],
             [
              0.5555555555555556,
              "#d8576b"
             ],
             [
              0.6666666666666666,
              "#ed7953"
             ],
             [
              0.7777777777777778,
              "#fb9f3a"
             ],
             [
              0.8888888888888888,
              "#fdca26"
             ],
             [
              1,
              "#f0f921"
             ]
            ],
            "type": "histogram2d"
           }
          ],
          "histogram2dcontour": [
           {
            "colorbar": {
             "outlinewidth": 0,
             "ticks": ""
            },
            "colorscale": [
             [
              0,
              "#0d0887"
             ],
             [
              0.1111111111111111,
              "#46039f"
             ],
             [
              0.2222222222222222,
              "#7201a8"
             ],
             [
              0.3333333333333333,
              "#9c179e"
             ],
             [
              0.4444444444444444,
              "#bd3786"
             ],
             [
              0.5555555555555556,
              "#d8576b"
             ],
             [
              0.6666666666666666,
              "#ed7953"
             ],
             [
              0.7777777777777778,
              "#fb9f3a"
             ],
             [
              0.8888888888888888,
              "#fdca26"
             ],
             [
              1,
              "#f0f921"
             ]
            ],
            "type": "histogram2dcontour"
           }
          ],
          "mesh3d": [
           {
            "colorbar": {
             "outlinewidth": 0,
             "ticks": ""
            },
            "type": "mesh3d"
           }
          ],
          "parcoords": [
           {
            "line": {
             "colorbar": {
              "outlinewidth": 0,
              "ticks": ""
             }
            },
            "type": "parcoords"
           }
          ],
          "pie": [
           {
            "automargin": true,
            "type": "pie"
           }
          ],
          "scatter": [
           {
            "marker": {
             "colorbar": {
              "outlinewidth": 0,
              "ticks": ""
             }
            },
            "type": "scatter"
           }
          ],
          "scatter3d": [
           {
            "line": {
             "colorbar": {
              "outlinewidth": 0,
              "ticks": ""
             }
            },
            "marker": {
             "colorbar": {
              "outlinewidth": 0,
              "ticks": ""
             }
            },
            "type": "scatter3d"
           }
          ],
          "scattercarpet": [
           {
            "marker": {
             "colorbar": {
              "outlinewidth": 0,
              "ticks": ""
             }
            },
            "type": "scattercarpet"
           }
          ],
          "scattergeo": [
           {
            "marker": {
             "colorbar": {
              "outlinewidth": 0,
              "ticks": ""
             }
            },
            "type": "scattergeo"
           }
          ],
          "scattergl": [
           {
            "marker": {
             "colorbar": {
              "outlinewidth": 0,
              "ticks": ""
             }
            },
            "type": "scattergl"
           }
          ],
          "scattermapbox": [
           {
            "marker": {
             "colorbar": {
              "outlinewidth": 0,
              "ticks": ""
             }
            },
            "type": "scattermapbox"
           }
          ],
          "scatterpolar": [
           {
            "marker": {
             "colorbar": {
              "outlinewidth": 0,
              "ticks": ""
             }
            },
            "type": "scatterpolar"
           }
          ],
          "scatterpolargl": [
           {
            "marker": {
             "colorbar": {
              "outlinewidth": 0,
              "ticks": ""
             }
            },
            "type": "scatterpolargl"
           }
          ],
          "scatterternary": [
           {
            "marker": {
             "colorbar": {
              "outlinewidth": 0,
              "ticks": ""
             }
            },
            "type": "scatterternary"
           }
          ],
          "surface": [
           {
            "colorbar": {
             "outlinewidth": 0,
             "ticks": ""
            },
            "colorscale": [
             [
              0,
              "#0d0887"
             ],
             [
              0.1111111111111111,
              "#46039f"
             ],
             [
              0.2222222222222222,
              "#7201a8"
             ],
             [
              0.3333333333333333,
              "#9c179e"
             ],
             [
              0.4444444444444444,
              "#bd3786"
             ],
             [
              0.5555555555555556,
              "#d8576b"
             ],
             [
              0.6666666666666666,
              "#ed7953"
             ],
             [
              0.7777777777777778,
              "#fb9f3a"
             ],
             [
              0.8888888888888888,
              "#fdca26"
             ],
             [
              1,
              "#f0f921"
             ]
            ],
            "type": "surface"
           }
          ],
          "table": [
           {
            "cells": {
             "fill": {
              "color": "#EBF0F8"
             },
             "line": {
              "color": "white"
             }
            },
            "header": {
             "fill": {
              "color": "#C8D4E3"
             },
             "line": {
              "color": "white"
             }
            },
            "type": "table"
           }
          ]
         },
         "layout": {
          "annotationdefaults": {
           "arrowcolor": "#2a3f5f",
           "arrowhead": 0,
           "arrowwidth": 1
          },
          "autotypenumbers": "strict",
          "coloraxis": {
           "colorbar": {
            "outlinewidth": 0,
            "ticks": ""
           }
          },
          "colorscale": {
           "diverging": [
            [
             0,
             "#8e0152"
            ],
            [
             0.1,
             "#c51b7d"
            ],
            [
             0.2,
             "#de77ae"
            ],
            [
             0.3,
             "#f1b6da"
            ],
            [
             0.4,
             "#fde0ef"
            ],
            [
             0.5,
             "#f7f7f7"
            ],
            [
             0.6,
             "#e6f5d0"
            ],
            [
             0.7,
             "#b8e186"
            ],
            [
             0.8,
             "#7fbc41"
            ],
            [
             0.9,
             "#4d9221"
            ],
            [
             1,
             "#276419"
            ]
           ],
           "sequential": [
            [
             0,
             "#0d0887"
            ],
            [
             0.1111111111111111,
             "#46039f"
            ],
            [
             0.2222222222222222,
             "#7201a8"
            ],
            [
             0.3333333333333333,
             "#9c179e"
            ],
            [
             0.4444444444444444,
             "#bd3786"
            ],
            [
             0.5555555555555556,
             "#d8576b"
            ],
            [
             0.6666666666666666,
             "#ed7953"
            ],
            [
             0.7777777777777778,
             "#fb9f3a"
            ],
            [
             0.8888888888888888,
             "#fdca26"
            ],
            [
             1,
             "#f0f921"
            ]
           ],
           "sequentialminus": [
            [
             0,
             "#0d0887"
            ],
            [
             0.1111111111111111,
             "#46039f"
            ],
            [
             0.2222222222222222,
             "#7201a8"
            ],
            [
             0.3333333333333333,
             "#9c179e"
            ],
            [
             0.4444444444444444,
             "#bd3786"
            ],
            [
             0.5555555555555556,
             "#d8576b"
            ],
            [
             0.6666666666666666,
             "#ed7953"
            ],
            [
             0.7777777777777778,
             "#fb9f3a"
            ],
            [
             0.8888888888888888,
             "#fdca26"
            ],
            [
             1,
             "#f0f921"
            ]
           ]
          },
          "colorway": [
           "#636efa",
           "#EF553B",
           "#00cc96",
           "#ab63fa",
           "#FFA15A",
           "#19d3f3",
           "#FF6692",
           "#B6E880",
           "#FF97FF",
           "#FECB52"
          ],
          "font": {
           "color": "#2a3f5f"
          },
          "geo": {
           "bgcolor": "white",
           "lakecolor": "white",
           "landcolor": "#E5ECF6",
           "showlakes": true,
           "showland": true,
           "subunitcolor": "white"
          },
          "hoverlabel": {
           "align": "left"
          },
          "hovermode": "closest",
          "mapbox": {
           "style": "light"
          },
          "paper_bgcolor": "white",
          "plot_bgcolor": "#E5ECF6",
          "polar": {
           "angularaxis": {
            "gridcolor": "white",
            "linecolor": "white",
            "ticks": ""
           },
           "bgcolor": "#E5ECF6",
           "radialaxis": {
            "gridcolor": "white",
            "linecolor": "white",
            "ticks": ""
           }
          },
          "scene": {
           "xaxis": {
            "backgroundcolor": "#E5ECF6",
            "gridcolor": "white",
            "gridwidth": 2,
            "linecolor": "white",
            "showbackground": true,
            "ticks": "",
            "zerolinecolor": "white"
           },
           "yaxis": {
            "backgroundcolor": "#E5ECF6",
            "gridcolor": "white",
            "gridwidth": 2,
            "linecolor": "white",
            "showbackground": true,
            "ticks": "",
            "zerolinecolor": "white"
           },
           "zaxis": {
            "backgroundcolor": "#E5ECF6",
            "gridcolor": "white",
            "gridwidth": 2,
            "linecolor": "white",
            "showbackground": true,
            "ticks": "",
            "zerolinecolor": "white"
           }
          },
          "shapedefaults": {
           "line": {
            "color": "#2a3f5f"
           }
          },
          "ternary": {
           "aaxis": {
            "gridcolor": "white",
            "linecolor": "white",
            "ticks": ""
           },
           "baxis": {
            "gridcolor": "white",
            "linecolor": "white",
            "ticks": ""
           },
           "bgcolor": "#E5ECF6",
           "caxis": {
            "gridcolor": "white",
            "linecolor": "white",
            "ticks": ""
           }
          },
          "title": {
           "x": 0.05
          },
          "xaxis": {
           "automargin": true,
           "gridcolor": "white",
           "linecolor": "white",
           "ticks": "",
           "title": {
            "standoff": 15
           },
           "zerolinecolor": "white",
           "zerolinewidth": 2
          },
          "yaxis": {
           "automargin": true,
           "gridcolor": "white",
           "linecolor": "white",
           "ticks": "",
           "title": {
            "standoff": 15
           },
           "zerolinecolor": "white",
           "zerolinewidth": 2
          }
         }
        },
        "xaxis": {
         "anchor": "y",
         "domain": [
          0,
          1
         ],
         "title": {
          "text": "graph"
         }
        },
        "yaxis": {
         "anchor": "x",
         "domain": [
          0,
          1
         ],
         "title": {
          "text": "sum of target_size"
         }
        }
       }
      },
      "text/html": [
       "<div>                            <div id=\"59626d7b-b946-4fe9-9303-02346ce9bbe3\" class=\"plotly-graph-div\" style=\"height:400px; width:100%;\"></div>            <script type=\"text/javascript\">                require([\"plotly\"], function(Plotly) {                    window.PLOTLYENV=window.PLOTLYENV || {};                                    if (document.getElementById(\"59626d7b-b946-4fe9-9303-02346ce9bbe3\")) {                    Plotly.newPlot(                        \"59626d7b-b946-4fe9-9303-02346ce9bbe3\",                        [{\"alignmentgroup\": \"True\", \"bingroup\": \"x\", \"histfunc\": \"sum\", \"hovertemplate\": \"model=GRAT<br>graph=%{x}<br>sum of target_size=%{y}<extra></extra>\", \"legendgroup\": \"GRAT\", \"marker\": {\"color\": \"#636efa\"}, \"name\": \"GRAT\", \"offsetgroup\": \"GRAT\", \"orientation\": \"v\", \"showlegend\": true, \"type\": \"histogram\", \"x\": [\"graph_dolphins\", \"graph_karate\", \"graph_football\", \"graph_jazz\", \"socfb-nips-ego\", \"socfb-Mich67\", \"socfb-Brandeis99\", \"ego-facebook\", \"graph_CA-GrQc\", \"graph_ncstrlwg2\", \"graph_CA-HepTh\", \"graph_actors_dat\", \"graph_CA-HepPh\", \"graph_CA-AstroPh\", \"graph_CA-CondMat\", \"soc-gplus\", \"graph_Email-Enron\", \"musae_git\", \"gemsec_facebook_artist\", \"deezer_HR\", \"loc-gowalla_edges\", \"Amazon0302\", \"com-dblp.ungraph\", \"Amazon0312\", \"Amazon0601\", \"Amazon0505\", \"com-youtube.ungraph\"], \"xaxis\": \"x\", \"y\": [3, 8, 32, 33, 10, 475, 519, 528, 1036, 1110, 1382, 1074, 1634, 1832, 2951, 69, 2911, 206, 978, 4402, 5713, 35295, 37340, 31829, 31839, 32587, 39084], \"yaxis\": \"y\"}, {\"alignmentgroup\": \"True\", \"bingroup\": \"x\", \"histfunc\": \"sum\", \"hovertemplate\": \"model=SAGE<br>graph=%{x}<br>sum of target_size=%{y}<extra></extra>\", \"legendgroup\": \"SAGE\", \"marker\": {\"color\": \"#EF553B\"}, \"name\": \"SAGE\", \"offsetgroup\": \"SAGE\", \"orientation\": \"v\", \"showlegend\": true, \"type\": \"histogram\", \"x\": [\"graph_dolphins\", \"graph_karate\", \"graph_football\", \"graph_jazz\", \"socfb-nips-ego\", \"socfb-Mich67\", \"socfb-Brandeis99\", \"ego-facebook\", \"graph_CA-GrQc\", \"graph_ncstrlwg2\", \"graph_CA-HepTh\", \"graph_actors_dat\", \"graph_CA-HepPh\", \"graph_CA-AstroPh\", \"graph_CA-CondMat\", \"soc-gplus\", \"graph_Email-Enron\", \"musae_git\", \"gemsec_facebook_artist\", \"deezer_HR\", \"loc-gowalla_edges\", \"Amazon0302\", \"com-dblp.ungraph\", \"Amazon0312\", \"Amazon0601\", \"Amazon0505\", \"com-youtube.ungraph\"], \"xaxis\": \"x\", \"y\": [3, 8, 31, 29, 10, 242, 450, 559, 1012, 1094, 1362, 1048, 1489, 1634, 2871, 69, 2862, 215, 811, 2928, 5861, 35945, 36418, 31885, 32245, 32604, 39593], \"yaxis\": \"y\"}, {\"alignmentgroup\": \"True\", \"bingroup\": \"x\", \"histfunc\": \"sum\", \"hovertemplate\": \"model=MDH<br>graph=%{x}<br>sum of target_size=%{y}<extra></extra>\", \"legendgroup\": \"MDH\", \"marker\": {\"color\": \"#00cc96\"}, \"name\": \"MDH\", \"offsetgroup\": \"MDH\", \"orientation\": \"v\", \"showlegend\": true, \"type\": \"histogram\", \"x\": [\"graph_dolphins\", \"graph_karate\", \"graph_football\", \"graph_jazz\", \"socfb-nips-ego\", \"socfb-Mich67\", \"socfb-Brandeis99\", \"ego-facebook\", \"graph_CA-GrQc\", \"graph_ncstrlwg2\", \"graph_CA-HepTh\", \"graph_actors_dat\", \"graph_CA-HepPh\", \"graph_CA-AstroPh\", \"graph_CA-CondMat\", \"soc-gplus\", \"graph_Email-Enron\", \"musae_git\", \"gemsec_facebook_artist\", \"deezer_HR\", \"loc-gowalla_edges\", \"Amazon0302\", \"com-dblp.ungraph\", \"Amazon0312\", \"Amazon0601\", \"Amazon0505\", \"com-youtube.ungraph\"], \"xaxis\": \"x\", \"y\": [3, 8, 31, 31, 10, 202, 395, 528, 1033, 1108, 1388, 1014, 1529, 1638, 2938, 69, 2881, 196, 790, 2346, 5670, 35766, 37197, 31165, 31507, 31926, 39090], \"yaxis\": \"y\"}, {\"alignmentgroup\": \"True\", \"bingroup\": \"x\", \"histfunc\": \"sum\", \"hovertemplate\": \"model=GraphConv<br>graph=%{x}<br>sum of target_size=%{y}<extra></extra>\", \"legendgroup\": \"GraphConv\", \"marker\": {\"color\": \"#ab63fa\"}, \"name\": \"GraphConv\", \"offsetgroup\": \"GraphConv\", \"orientation\": \"v\", \"showlegend\": true, \"type\": \"histogram\", \"x\": [\"graph_dolphins\", \"graph_karate\", \"graph_football\", \"graph_jazz\", \"socfb-nips-ego\", \"socfb-Mich67\", \"socfb-Brandeis99\", \"ego-facebook\", \"graph_CA-GrQc\", \"graph_ncstrlwg2\", \"graph_CA-HepTh\", \"graph_actors_dat\", \"graph_CA-HepPh\", \"graph_CA-AstroPh\", \"graph_CA-CondMat\", \"soc-gplus\", \"graph_Email-Enron\", \"musae_git\", \"gemsec_facebook_artist\", \"deezer_HR\", \"loc-gowalla_edges\", \"Amazon0302\", \"com-dblp.ungraph\", \"Amazon0312\", \"Amazon0601\", \"Amazon0505\", \"com-youtube.ungraph\"], \"xaxis\": \"x\", \"y\": [6, 13, 34, 64, 10, 1092, 1068, 775, 1156, 1218, 1650, 1555, 2409, 2426, 3808, 1562, 3446, 9963, 9443, 8464, 11182, 41667, 45490, 42052, 44631, 45716, 63652], \"yaxis\": \"y\"}, {\"alignmentgroup\": \"True\", \"bingroup\": \"x\", \"histfunc\": \"sum\", \"hovertemplate\": \"model=GCN<br>graph=%{x}<br>sum of target_size=%{y}<extra></extra>\", \"legendgroup\": \"GCN\", \"marker\": {\"color\": \"#FFA15A\"}, \"name\": \"GCN\", \"offsetgroup\": \"GCN\", \"orientation\": \"v\", \"showlegend\": true, \"type\": \"histogram\", \"x\": [\"graph_dolphins\", \"graph_karate\", \"graph_football\", \"graph_jazz\", \"socfb-nips-ego\", \"socfb-Mich67\", \"socfb-Brandeis99\", \"ego-facebook\", \"graph_CA-GrQc\", \"graph_ncstrlwg2\", \"graph_CA-HepTh\", \"graph_actors_dat\", \"graph_CA-HepPh\", \"graph_CA-AstroPh\", \"graph_CA-CondMat\", \"soc-gplus\", \"graph_Email-Enron\", \"musae_git\", \"gemsec_facebook_artist\", \"deezer_HR\", \"loc-gowalla_edges\", \"Amazon0302\", \"com-dblp.ungraph\", \"Amazon0312\", \"Amazon0601\", \"Amazon0505\", \"com-youtube.ungraph\"], \"xaxis\": \"x\", \"y\": [6, 11, 32, 52, 10, 372, 708, 681, 1028, 1128, 1412, 1109, 1565, 1713, 2955, 1077, 2948, 2614, 2883, 4121, 6159, 35787, 37374, 31379, 31981, 32350, 41411], \"yaxis\": \"y\"}, {\"alignmentgroup\": \"True\", \"bingroup\": \"x\", \"histfunc\": \"sum\", \"hovertemplate\": \"model=GAT<br>graph=%{x}<br>sum of target_size=%{y}<extra></extra>\", \"legendgroup\": \"GAT\", \"marker\": {\"color\": \"#19d3f3\"}, \"name\": \"GAT\", \"offsetgroup\": \"GAT\", \"orientation\": \"v\", \"showlegend\": true, \"type\": \"histogram\", \"x\": [\"graph_dolphins\", \"graph_karate\", \"graph_football\", \"graph_jazz\", \"socfb-nips-ego\", \"socfb-Mich67\", \"socfb-Brandeis99\", \"ego-facebook\", \"graph_CA-GrQc\", \"graph_ncstrlwg2\", \"graph_CA-HepTh\", \"graph_actors_dat\", \"graph_CA-HepPh\", \"graph_CA-AstroPh\", \"graph_CA-CondMat\", \"soc-gplus\", \"graph_Email-Enron\", \"musae_git\", \"gemsec_facebook_artist\", \"deezer_HR\", \"loc-gowalla_edges\", \"Amazon0302\", \"com-dblp.ungraph\", \"Amazon0312\", \"Amazon0601\", \"Amazon0505\", \"com-youtube.ungraph\"], \"xaxis\": \"x\", \"y\": [3, 6, 34, 32, 10, 232, 403, 543, 1020, 1110, 1361, 1015, 1498, 1625, 2895, 69, 2837, 201, 868, 2408, 5695, 35446, 36845, 30986, 31382, 31706, 38774], \"yaxis\": \"y\"}],                        {\"barmode\": \"group\", \"height\": 400, \"legend\": {\"title\": {\"text\": \"model\"}, \"tracegroupgap\": 0}, \"margin\": {\"t\": 60}, \"template\": {\"data\": {\"bar\": [{\"error_x\": {\"color\": \"#2a3f5f\"}, \"error_y\": {\"color\": \"#2a3f5f\"}, \"marker\": {\"line\": {\"color\": \"#E5ECF6\", \"width\": 0.5}}, \"type\": \"bar\"}], \"barpolar\": [{\"marker\": {\"line\": {\"color\": \"#E5ECF6\", \"width\": 0.5}}, \"type\": \"barpolar\"}], \"carpet\": [{\"aaxis\": {\"endlinecolor\": \"#2a3f5f\", \"gridcolor\": \"white\", \"linecolor\": \"white\", \"minorgridcolor\": \"white\", \"startlinecolor\": \"#2a3f5f\"}, \"baxis\": {\"endlinecolor\": \"#2a3f5f\", \"gridcolor\": \"white\", \"linecolor\": \"white\", \"minorgridcolor\": \"white\", \"startlinecolor\": \"#2a3f5f\"}, \"type\": \"carpet\"}], \"choropleth\": [{\"colorbar\": {\"outlinewidth\": 0, \"ticks\": \"\"}, \"type\": \"choropleth\"}], \"contour\": [{\"colorbar\": {\"outlinewidth\": 0, \"ticks\": \"\"}, \"colorscale\": [[0.0, \"#0d0887\"], [0.1111111111111111, \"#46039f\"], [0.2222222222222222, \"#7201a8\"], [0.3333333333333333, \"#9c179e\"], [0.4444444444444444, \"#bd3786\"], [0.5555555555555556, \"#d8576b\"], [0.6666666666666666, \"#ed7953\"], [0.7777777777777778, \"#fb9f3a\"], [0.8888888888888888, \"#fdca26\"], [1.0, \"#f0f921\"]], \"type\": \"contour\"}], \"contourcarpet\": [{\"colorbar\": {\"outlinewidth\": 0, \"ticks\": \"\"}, \"type\": \"contourcarpet\"}], \"heatmap\": [{\"colorbar\": {\"outlinewidth\": 0, \"ticks\": \"\"}, \"colorscale\": [[0.0, \"#0d0887\"], [0.1111111111111111, \"#46039f\"], [0.2222222222222222, \"#7201a8\"], [0.3333333333333333, \"#9c179e\"], [0.4444444444444444, \"#bd3786\"], [0.5555555555555556, \"#d8576b\"], [0.6666666666666666, \"#ed7953\"], [0.7777777777777778, \"#fb9f3a\"], [0.8888888888888888, \"#fdca26\"], [1.0, \"#f0f921\"]], \"type\": \"heatmap\"}], \"heatmapgl\": [{\"colorbar\": {\"outlinewidth\": 0, \"ticks\": \"\"}, \"colorscale\": [[0.0, \"#0d0887\"], [0.1111111111111111, \"#46039f\"], [0.2222222222222222, \"#7201a8\"], [0.3333333333333333, \"#9c179e\"], [0.4444444444444444, \"#bd3786\"], [0.5555555555555556, \"#d8576b\"], [0.6666666666666666, \"#ed7953\"], [0.7777777777777778, \"#fb9f3a\"], [0.8888888888888888, \"#fdca26\"], [1.0, \"#f0f921\"]], \"type\": \"heatmapgl\"}], \"histogram\": [{\"marker\": {\"colorbar\": {\"outlinewidth\": 0, \"ticks\": \"\"}}, \"type\": \"histogram\"}], \"histogram2d\": [{\"colorbar\": {\"outlinewidth\": 0, \"ticks\": \"\"}, \"colorscale\": [[0.0, \"#0d0887\"], [0.1111111111111111, \"#46039f\"], [0.2222222222222222, \"#7201a8\"], [0.3333333333333333, \"#9c179e\"], [0.4444444444444444, \"#bd3786\"], [0.5555555555555556, \"#d8576b\"], [0.6666666666666666, \"#ed7953\"], [0.7777777777777778, \"#fb9f3a\"], [0.8888888888888888, \"#fdca26\"], [1.0, \"#f0f921\"]], \"type\": \"histogram2d\"}], \"histogram2dcontour\": [{\"colorbar\": {\"outlinewidth\": 0, \"ticks\": \"\"}, \"colorscale\": [[0.0, \"#0d0887\"], [0.1111111111111111, \"#46039f\"], [0.2222222222222222, \"#7201a8\"], [0.3333333333333333, \"#9c179e\"], [0.4444444444444444, \"#bd3786\"], [0.5555555555555556, \"#d8576b\"], [0.6666666666666666, \"#ed7953\"], [0.7777777777777778, \"#fb9f3a\"], [0.8888888888888888, \"#fdca26\"], [1.0, \"#f0f921\"]], \"type\": \"histogram2dcontour\"}], \"mesh3d\": [{\"colorbar\": {\"outlinewidth\": 0, \"ticks\": \"\"}, \"type\": \"mesh3d\"}], \"parcoords\": [{\"line\": {\"colorbar\": {\"outlinewidth\": 0, \"ticks\": \"\"}}, \"type\": \"parcoords\"}], \"pie\": [{\"automargin\": true, \"type\": \"pie\"}], \"scatter\": [{\"marker\": {\"colorbar\": {\"outlinewidth\": 0, \"ticks\": \"\"}}, \"type\": \"scatter\"}], \"scatter3d\": [{\"line\": {\"colorbar\": {\"outlinewidth\": 0, \"ticks\": \"\"}}, \"marker\": {\"colorbar\": {\"outlinewidth\": 0, \"ticks\": \"\"}}, \"type\": \"scatter3d\"}], \"scattercarpet\": [{\"marker\": {\"colorbar\": {\"outlinewidth\": 0, \"ticks\": \"\"}}, \"type\": \"scattercarpet\"}], \"scattergeo\": [{\"marker\": {\"colorbar\": {\"outlinewidth\": 0, \"ticks\": \"\"}}, \"type\": \"scattergeo\"}], \"scattergl\": [{\"marker\": {\"colorbar\": {\"outlinewidth\": 0, \"ticks\": \"\"}}, \"type\": \"scattergl\"}], \"scattermapbox\": [{\"marker\": {\"colorbar\": {\"outlinewidth\": 0, \"ticks\": \"\"}}, \"type\": \"scattermapbox\"}], \"scatterpolar\": [{\"marker\": {\"colorbar\": {\"outlinewidth\": 0, \"ticks\": \"\"}}, \"type\": \"scatterpolar\"}], \"scatterpolargl\": [{\"marker\": {\"colorbar\": {\"outlinewidth\": 0, \"ticks\": \"\"}}, \"type\": \"scatterpolargl\"}], \"scatterternary\": [{\"marker\": {\"colorbar\": {\"outlinewidth\": 0, \"ticks\": \"\"}}, \"type\": \"scatterternary\"}], \"surface\": [{\"colorbar\": {\"outlinewidth\": 0, \"ticks\": \"\"}, \"colorscale\": [[0.0, \"#0d0887\"], [0.1111111111111111, \"#46039f\"], [0.2222222222222222, \"#7201a8\"], [0.3333333333333333, \"#9c179e\"], [0.4444444444444444, \"#bd3786\"], [0.5555555555555556, \"#d8576b\"], [0.6666666666666666, \"#ed7953\"], [0.7777777777777778, \"#fb9f3a\"], [0.8888888888888888, \"#fdca26\"], [1.0, \"#f0f921\"]], \"type\": \"surface\"}], \"table\": [{\"cells\": {\"fill\": {\"color\": \"#EBF0F8\"}, \"line\": {\"color\": \"white\"}}, \"header\": {\"fill\": {\"color\": \"#C8D4E3\"}, \"line\": {\"color\": \"white\"}}, \"type\": \"table\"}]}, \"layout\": {\"annotationdefaults\": {\"arrowcolor\": \"#2a3f5f\", \"arrowhead\": 0, \"arrowwidth\": 1}, \"autotypenumbers\": \"strict\", \"coloraxis\": {\"colorbar\": {\"outlinewidth\": 0, \"ticks\": \"\"}}, \"colorscale\": {\"diverging\": [[0, \"#8e0152\"], [0.1, \"#c51b7d\"], [0.2, \"#de77ae\"], [0.3, \"#f1b6da\"], [0.4, \"#fde0ef\"], [0.5, \"#f7f7f7\"], [0.6, \"#e6f5d0\"], [0.7, \"#b8e186\"], [0.8, \"#7fbc41\"], [0.9, \"#4d9221\"], [1, \"#276419\"]], \"sequential\": [[0.0, \"#0d0887\"], [0.1111111111111111, \"#46039f\"], [0.2222222222222222, \"#7201a8\"], [0.3333333333333333, \"#9c179e\"], [0.4444444444444444, \"#bd3786\"], [0.5555555555555556, \"#d8576b\"], [0.6666666666666666, \"#ed7953\"], [0.7777777777777778, \"#fb9f3a\"], [0.8888888888888888, \"#fdca26\"], [1.0, \"#f0f921\"]], \"sequentialminus\": [[0.0, \"#0d0887\"], [0.1111111111111111, \"#46039f\"], [0.2222222222222222, \"#7201a8\"], [0.3333333333333333, \"#9c179e\"], [0.4444444444444444, \"#bd3786\"], [0.5555555555555556, \"#d8576b\"], [0.6666666666666666, \"#ed7953\"], [0.7777777777777778, \"#fb9f3a\"], [0.8888888888888888, \"#fdca26\"], [1.0, \"#f0f921\"]]}, \"colorway\": [\"#636efa\", \"#EF553B\", \"#00cc96\", \"#ab63fa\", \"#FFA15A\", \"#19d3f3\", \"#FF6692\", \"#B6E880\", \"#FF97FF\", \"#FECB52\"], \"font\": {\"color\": \"#2a3f5f\"}, \"geo\": {\"bgcolor\": \"white\", \"lakecolor\": \"white\", \"landcolor\": \"#E5ECF6\", \"showlakes\": true, \"showland\": true, \"subunitcolor\": \"white\"}, \"hoverlabel\": {\"align\": \"left\"}, \"hovermode\": \"closest\", \"mapbox\": {\"style\": \"light\"}, \"paper_bgcolor\": \"white\", \"plot_bgcolor\": \"#E5ECF6\", \"polar\": {\"angularaxis\": {\"gridcolor\": \"white\", \"linecolor\": \"white\", \"ticks\": \"\"}, \"bgcolor\": \"#E5ECF6\", \"radialaxis\": {\"gridcolor\": \"white\", \"linecolor\": \"white\", \"ticks\": \"\"}}, \"scene\": {\"xaxis\": {\"backgroundcolor\": \"#E5ECF6\", \"gridcolor\": \"white\", \"gridwidth\": 2, \"linecolor\": \"white\", \"showbackground\": true, \"ticks\": \"\", \"zerolinecolor\": \"white\"}, \"yaxis\": {\"backgroundcolor\": \"#E5ECF6\", \"gridcolor\": \"white\", \"gridwidth\": 2, \"linecolor\": \"white\", \"showbackground\": true, \"ticks\": \"\", \"zerolinecolor\": \"white\"}, \"zaxis\": {\"backgroundcolor\": \"#E5ECF6\", \"gridcolor\": \"white\", \"gridwidth\": 2, \"linecolor\": \"white\", \"showbackground\": true, \"ticks\": \"\", \"zerolinecolor\": \"white\"}}, \"shapedefaults\": {\"line\": {\"color\": \"#2a3f5f\"}}, \"ternary\": {\"aaxis\": {\"gridcolor\": \"white\", \"linecolor\": \"white\", \"ticks\": \"\"}, \"baxis\": {\"gridcolor\": \"white\", \"linecolor\": \"white\", \"ticks\": \"\"}, \"bgcolor\": \"#E5ECF6\", \"caxis\": {\"gridcolor\": \"white\", \"linecolor\": \"white\", \"ticks\": \"\"}}, \"title\": {\"x\": 0.05}, \"xaxis\": {\"automargin\": true, \"gridcolor\": \"white\", \"linecolor\": \"white\", \"ticks\": \"\", \"title\": {\"standoff\": 15}, \"zerolinecolor\": \"white\", \"zerolinewidth\": 2}, \"yaxis\": {\"automargin\": true, \"gridcolor\": \"white\", \"linecolor\": \"white\", \"ticks\": \"\", \"title\": {\"standoff\": 15}, \"zerolinecolor\": \"white\", \"zerolinewidth\": 2}}}, \"xaxis\": {\"anchor\": \"y\", \"domain\": [0.0, 1.0], \"title\": {\"text\": \"graph\"}}, \"yaxis\": {\"anchor\": \"x\", \"domain\": [0.0, 1.0], \"title\": {\"text\": \"sum of target_size\"}}},                        {\"responsive\": true}                    ).then(function(){\n",
       "                            \n",
       "var gd = document.getElementById('59626d7b-b946-4fe9-9303-02346ce9bbe3');\n",
       "var x = new MutationObserver(function (mutations, observer) {{\n",
       "        var display = window.getComputedStyle(gd).display;\n",
       "        if (!display || display === 'none') {{\n",
       "            console.log([gd, 'removed!']);\n",
       "            Plotly.purge(gd);\n",
       "            observer.disconnect();\n",
       "        }}\n",
       "}});\n",
       "\n",
       "// Listen for the removal of the full notebook cells\n",
       "var notebookContainer = gd.closest('#notebook-container');\n",
       "if (notebookContainer) {{\n",
       "    x.observe(notebookContainer, {childList: true});\n",
       "}}\n",
       "\n",
       "// Listen for the clearing of the current output cell\n",
       "var outputEl = gd.closest('.output');\n",
       "if (outputEl) {{\n",
       "    x.observe(outputEl, {childList: true});\n",
       "}}\n",
       "\n",
       "                        })                };                });            </script>        </div>"
      ]
     },
     "metadata": {},
     "output_type": "display_data"
    }
   ],
   "source": [
    "fig = px.histogram(Full, x=\"graph\", y=\"target_size\",\n",
    "             color='model', barmode='group',\n",
    "             height=400)\n",
    "fig.show()"
   ]
  },
  {
   "cell_type": "code",
   "execution_count": 36,
   "id": "952613d0",
   "metadata": {
    "ExecuteTime": {
     "end_time": "2022-12-03T18:05:23.119819Z",
     "start_time": "2022-12-03T18:05:23.098622Z"
    }
   },
   "outputs": [
    {
     "name": "stderr",
     "output_type": "stream",
     "text": [
      "C:\\Users\\Jairo Enrique\\AppData\\Local\\Temp\\ipykernel_8140\\1843624887.py:1: FutureWarning:\n",
      "\n",
      "The default value of numeric_only in DataFrameGroupBy.mean is deprecated. In a future version, numeric_only will default to False. Either specify numeric_only or select only columns which should be valid for the function.\n",
      "\n"
     ]
    },
    {
     "data": {
      "text/html": [
       "<div>\n",
       "<style scoped>\n",
       "    .dataframe tbody tr th:only-of-type {\n",
       "        vertical-align: middle;\n",
       "    }\n",
       "\n",
       "    .dataframe tbody tr th {\n",
       "        vertical-align: top;\n",
       "    }\n",
       "\n",
       "    .dataframe thead th {\n",
       "        text-align: right;\n",
       "    }\n",
       "</style>\n",
       "<table border=\"1\" class=\"dataframe\">\n",
       "  <thead>\n",
       "    <tr style=\"text-align: right;\">\n",
       "      <th></th>\n",
       "      <th>target_size</th>\n",
       "      <th>n</th>\n",
       "      <th>t_mean</th>\n",
       "      <th>ratio</th>\n",
       "    </tr>\n",
       "    <tr>\n",
       "      <th>model</th>\n",
       "      <th></th>\n",
       "      <th></th>\n",
       "      <th></th>\n",
       "      <th></th>\n",
       "    </tr>\n",
       "  </thead>\n",
       "  <tbody>\n",
       "    <tr>\n",
       "      <th>MDH</th>\n",
       "      <td>8535.518519</td>\n",
       "      <td>126984.777778</td>\n",
       "      <td>25.929741</td>\n",
       "      <td>0.095638</td>\n",
       "    </tr>\n",
       "    <tr>\n",
       "      <th>GAT</th>\n",
       "      <td>8481.629630</td>\n",
       "      <td>126984.777778</td>\n",
       "      <td>13.942222</td>\n",
       "      <td>0.095658</td>\n",
       "    </tr>\n",
       "    <tr>\n",
       "      <th>SAGE</th>\n",
       "      <td>8639.925926</td>\n",
       "      <td>126984.777778</td>\n",
       "      <td>12.482444</td>\n",
       "      <td>0.096618</td>\n",
       "    </tr>\n",
       "    <tr>\n",
       "      <th>GRAT</th>\n",
       "      <td>8699.259259</td>\n",
       "      <td>126984.777778</td>\n",
       "      <td>8.432148</td>\n",
       "      <td>0.102852</td>\n",
       "    </tr>\n",
       "    <tr>\n",
       "      <th>GCN</th>\n",
       "      <td>8995.037037</td>\n",
       "      <td>126984.777778</td>\n",
       "      <td>14.388185</td>\n",
       "      <td>0.118868</td>\n",
       "    </tr>\n",
       "    <tr>\n",
       "      <th>GraphConv</th>\n",
       "      <td>12761.185185</td>\n",
       "      <td>126984.777778</td>\n",
       "      <td>15.526037</td>\n",
       "      <td>0.166733</td>\n",
       "    </tr>\n",
       "  </tbody>\n",
       "</table>\n",
       "</div>"
      ],
      "text/plain": [
       "            target_size              n     t_mean     ratio\n",
       "model                                                      \n",
       "MDH         8535.518519  126984.777778  25.929741  0.095638\n",
       "GAT         8481.629630  126984.777778  13.942222  0.095658\n",
       "SAGE        8639.925926  126984.777778  12.482444  0.096618\n",
       "GRAT        8699.259259  126984.777778   8.432148  0.102852\n",
       "GCN         8995.037037  126984.777778  14.388185  0.118868\n",
       "GraphConv  12761.185185  126984.777778  15.526037  0.166733"
      ]
     },
     "execution_count": 36,
     "metadata": {},
     "output_type": "execute_result"
    }
   ],
   "source": [
    "Full.groupby(by = \"model\").mean().sort_values(by=['ratio'])"
   ]
  },
  {
   "cell_type": "code",
   "execution_count": 37,
   "id": "d9491bdb",
   "metadata": {
    "ExecuteTime": {
     "end_time": "2022-12-03T18:05:24.630715Z",
     "start_time": "2022-12-03T18:05:24.618555Z"
    }
   },
   "outputs": [
    {
     "name": "stdout",
     "output_type": "stream",
     "text": [
      "(162, 6)\n"
     ]
    },
    {
     "data": {
      "text/plain": [
       "(162, 6)"
      ]
     },
     "execution_count": 37,
     "metadata": {},
     "output_type": "execute_result"
    }
   ],
   "source": [
    "print(Full.shape)\n",
    "#Full = Full.drop_duplicates(subset=['target_size'], keep = False)\n",
    "Full.shape"
   ]
  },
  {
   "cell_type": "code",
   "execution_count": 67,
   "id": "425ac3dd",
   "metadata": {
    "ExecuteTime": {
     "end_time": "2022-12-03T18:10:04.880120Z",
     "start_time": "2022-12-03T18:10:04.854761Z"
    }
   },
   "outputs": [
    {
     "data": {
      "text/html": [
       "<div>\n",
       "<style scoped>\n",
       "    .dataframe tbody tr th:only-of-type {\n",
       "        vertical-align: middle;\n",
       "    }\n",
       "\n",
       "    .dataframe tbody tr th {\n",
       "        vertical-align: top;\n",
       "    }\n",
       "\n",
       "    .dataframe thead th {\n",
       "        text-align: right;\n",
       "    }\n",
       "</style>\n",
       "<table border=\"1\" class=\"dataframe\">\n",
       "  <thead>\n",
       "    <tr style=\"text-align: right;\">\n",
       "      <th></th>\n",
       "      <th>graph</th>\n",
       "      <th>model</th>\n",
       "      <th>target_size</th>\n",
       "      <th>n</th>\n",
       "      <th>t_mean</th>\n",
       "      <th>ratio</th>\n",
       "    </tr>\n",
       "  </thead>\n",
       "  <tbody>\n",
       "    <tr>\n",
       "      <th>7</th>\n",
       "      <td>graph_CA-AstroPh</td>\n",
       "      <td>GAT</td>\n",
       "      <td>1625</td>\n",
       "      <td>18772</td>\n",
       "      <td>0.399</td>\n",
       "      <td>0.086565</td>\n",
       "    </tr>\n",
       "    <tr>\n",
       "      <th>7</th>\n",
       "      <td>graph_CA-AstroPh</td>\n",
       "      <td>SAGE</td>\n",
       "      <td>1634</td>\n",
       "      <td>18772</td>\n",
       "      <td>0.280</td>\n",
       "      <td>0.087045</td>\n",
       "    </tr>\n",
       "    <tr>\n",
       "      <th>7</th>\n",
       "      <td>graph_CA-AstroPh</td>\n",
       "      <td>MDH</td>\n",
       "      <td>1638</td>\n",
       "      <td>18772</td>\n",
       "      <td>0.390</td>\n",
       "      <td>0.087258</td>\n",
       "    </tr>\n",
       "    <tr>\n",
       "      <th>7</th>\n",
       "      <td>graph_CA-AstroPh</td>\n",
       "      <td>GCN</td>\n",
       "      <td>1713</td>\n",
       "      <td>18772</td>\n",
       "      <td>0.370</td>\n",
       "      <td>0.091253</td>\n",
       "    </tr>\n",
       "    <tr>\n",
       "      <th>7</th>\n",
       "      <td>graph_CA-AstroPh</td>\n",
       "      <td>GRAT</td>\n",
       "      <td>1832</td>\n",
       "      <td>18772</td>\n",
       "      <td>0.245</td>\n",
       "      <td>0.097592</td>\n",
       "    </tr>\n",
       "    <tr>\n",
       "      <th>7</th>\n",
       "      <td>graph_CA-AstroPh</td>\n",
       "      <td>GraphConv</td>\n",
       "      <td>2426</td>\n",
       "      <td>18772</td>\n",
       "      <td>0.378</td>\n",
       "      <td>0.129235</td>\n",
       "    </tr>\n",
       "  </tbody>\n",
       "</table>\n",
       "</div>"
      ],
      "text/plain": [
       "              graph      model  target_size      n  t_mean     ratio\n",
       "7  graph_CA-AstroPh        GAT         1625  18772   0.399  0.086565\n",
       "7  graph_CA-AstroPh       SAGE         1634  18772   0.280  0.087045\n",
       "7  graph_CA-AstroPh        MDH         1638  18772   0.390  0.087258\n",
       "7  graph_CA-AstroPh        GCN         1713  18772   0.370  0.091253\n",
       "7  graph_CA-AstroPh       GRAT         1832  18772   0.245  0.097592\n",
       "7  graph_CA-AstroPh  GraphConv         2426  18772   0.378  0.129235"
      ]
     },
     "execution_count": 67,
     "metadata": {},
     "output_type": "execute_result"
    }
   ],
   "source": [
    "Full.query(f\"graph == '{Full.graph.unique()[13]}'\").sort_values(by = ['target_size'])"
   ]
  },
  {
   "cell_type": "markdown",
   "id": "d2b7e78b",
   "metadata": {},
   "source": [
    "## Por mejor solución"
   ]
  },
  {
   "cell_type": "code",
   "execution_count": 42,
   "id": "0bac5d8c",
   "metadata": {
    "ExecuteTime": {
     "end_time": "2022-12-03T18:06:00.321800Z",
     "start_time": "2022-12-03T18:06:00.245692Z"
    }
   },
   "outputs": [
    {
     "data": {
      "text/plain": [
       "array([1., 1., 1., 1., 1., 1.])"
      ]
     },
     "execution_count": 42,
     "metadata": {},
     "output_type": "execute_result"
    }
   ],
   "source": [
    "models_name = Full.model.unique()\n",
    "Dict = {m: i for m, i in zip(models_name, np.arange(models_name.shape[0]))}\n",
    "\n",
    "MT = np.zeros((models_name.shape[0], models_name.shape[0]))\n",
    "for graph in Full.graph.unique():\n",
    "    \n",
    "    Temp = np.array(Full.query(f\"graph == '{graph}'\").sort_values(by = \"ratio\", ascending = False).model)\n",
    "    \n",
    "    for m in range(Temp.shape[0]):\n",
    "\n",
    "        if (m + 1) == Temp.shape[0]:\n",
    "            MT[ Dict[ Temp[m] ] ][ Dict[ Temp[m] ] ] += 1\n",
    "            continue\n",
    "        \n",
    "        for j in range(m + 1, Temp.shape[0]):\n",
    "            MT[ Dict[ Temp[m] ] ][ Dict[ Temp[j] ] ] += 1\n",
    "        \n",
    "\n",
    "MT_ = MT / np.expand_dims(np.sum(MT, axis = 1), 1)\n",
    "# La por filas siempre debe de dar 1 y para la probabilidad de estado estacionario, \n",
    "# se hace la transpuesta, es decir, las columnas son las deben sumar 1\n",
    "MT_.sum(1)"
   ]
  },
  {
   "cell_type": "code",
   "execution_count": 69,
   "id": "051dc7e2",
   "metadata": {
    "ExecuteTime": {
     "end_time": "2022-12-03T18:11:30.526707Z",
     "start_time": "2022-12-03T18:11:30.510674Z"
    }
   },
   "outputs": [
    {
     "name": "stdout",
     "output_type": "stream",
     "text": [
      "[0.10199 0.20321 0.29225 0.0138  0.065   0.32375] \n",
      " ['GRAT' 'SAGE' 'MDH' 'GraphConv' 'GCN' 'GAT']\n"
     ]
    }
   ],
   "source": [
    "SPD_best = np.ones(MT_.shape[0])/MT_.shape[0] # initial distirbution\n",
    "for _ in range(200):\n",
    "    SPD_best = np.dot(MT_.T, SPD_best)\n",
    "print(np.round(SPD_best,5), '\\n',models_name)"
   ]
  },
  {
   "cell_type": "code",
   "execution_count": 44,
   "id": "af86ad0f",
   "metadata": {
    "ExecuteTime": {
     "end_time": "2022-12-03T18:06:02.398311Z",
     "start_time": "2022-12-03T18:06:02.378482Z"
    }
   },
   "outputs": [
    {
     "data": {
      "text/plain": [
       "array(['GAT', 'MDH', 'SAGE', 'GRAT', 'GCN', 'GraphConv'], dtype=object)"
      ]
     },
     "execution_count": 44,
     "metadata": {},
     "output_type": "execute_result"
    }
   ],
   "source": [
    "# Obtenemos el mínimo porque \n",
    "models_name[np.argsort(-SPD_best)]"
   ]
  },
  {
   "cell_type": "code",
   "execution_count": 20,
   "id": "1bbed3e8",
   "metadata": {
    "ExecuteTime": {
     "end_time": "2022-12-03T17:58:42.764688Z",
     "start_time": "2022-12-03T17:58:42.232759Z"
    }
   },
   "outputs": [
    {
     "data": {
      "image/png": "[encoded data removed]",
      "text/plain": [
       "<Figure size 640x480 with 2 Axes>"
      ]
     },
     "metadata": {},
     "output_type": "display_data"
    }
   ],
   "source": [
    "sns.heatmap(MT_, annot = True, xticklabels = models_name, yticklabels = models_name)\n",
    "plt.title(\"Heatmap for best solution\")\n",
    "plt.xlabel(\"Mejor que\");"
   ]
  },
  {
   "cell_type": "markdown",
   "id": "f5715266",
   "metadata": {},
   "source": [
    "## Por tiempo"
   ]
  },
  {
   "cell_type": "code",
   "execution_count": 45,
   "id": "f94933df",
   "metadata": {
    "ExecuteTime": {
     "end_time": "2022-12-01T19:07:11.505016Z",
     "start_time": "2022-12-01T19:07:11.420590Z"
    }
   },
   "outputs": [
    {
     "data": {
      "text/plain": [
       "array([1., 1., 1., 1., 1., 1.])"
      ]
     },
     "execution_count": 45,
     "metadata": {},
     "output_type": "execute_result"
    }
   ],
   "source": [
    "MT = np.zeros((models_name.shape[0], models_name.shape[0]))\n",
    "for graph in Full.graph.unique():\n",
    "    Temp = np.array(Full.query(f\"graph == '{graph}'\").sort_values(by = \"t_mean\", ascending=False).model)\n",
    "    for m in range(Temp.shape[0]):\n",
    "\n",
    "        if (m + 1) == Temp.shape[0]:\n",
    "            MT[ Dict[ Temp[m] ] ][ Dict[ Temp[m] ] ] += 1\n",
    "            continue\n",
    "        MT[ Dict[ Temp[m] ] ][ Dict[ Temp[m + 1] ] ] += 1\n",
    "\n",
    "MT_ = MT / np.expand_dims(np.sum(MT, axis = 1), 1)\n",
    "# La por filas siempre debe de dar 1 y para la probabilidad de estado estacionario, \n",
    "# se hace la transpuesta, es decir, las columnas son las deben sumar 1\n",
    "MT_.sum(1)"
   ]
  },
  {
   "cell_type": "code",
   "execution_count": 46,
   "id": "94d81e18",
   "metadata": {
    "ExecuteTime": {
     "end_time": "2022-12-01T19:07:22.088667Z",
     "start_time": "2022-12-01T19:07:22.075652Z"
    }
   },
   "outputs": [
    {
     "name": "stdout",
     "output_type": "stream",
     "text": [
      "[0.10134 0.02453 0.25904 0.44536 0.02289 0.14684] \n",
      " ['GraphConv' 'GAT' 'MDH' 'GRAT' 'GCN' 'SAGE']\n"
     ]
    }
   ],
   "source": [
    "SPD_time = np.ones(MT_.shape[0])/MT_.shape[0] # initial distirbution\n",
    "for _ in range(100):\n",
    "    SPD_time = np.dot(MT_.T, SPD_time)\n",
    "print(np.round(SPD_time,5), '\\n',models_name)"
   ]
  },
  {
   "cell_type": "code",
   "execution_count": 47,
   "id": "46ab724c",
   "metadata": {
    "ExecuteTime": {
     "end_time": "2022-12-01T19:07:22.259559Z",
     "start_time": "2022-12-01T19:07:22.247001Z"
    }
   },
   "outputs": [
    {
     "data": {
      "text/plain": [
       "array(['GRAT', 'MDH', 'SAGE', 'GraphConv', 'GAT', 'GCN'], dtype=object)"
      ]
     },
     "execution_count": 47,
     "metadata": {},
     "output_type": "execute_result"
    }
   ],
   "source": [
    "models_name[np.argsort(-SPD_time)]"
   ]
  },
  {
   "cell_type": "code",
   "execution_count": 48,
   "id": "5d163a20",
   "metadata": {
    "ExecuteTime": {
     "end_time": "2022-12-01T19:07:22.936258Z",
     "start_time": "2022-12-01T19:07:22.407351Z"
    }
   },
   "outputs": [
    {
     "data": {
      "text/plain": [
       "Text(0.5, 1.0, 'Heatmap for fastest solution')"
      ]
     },
     "execution_count": 48,
     "metadata": {},
     "output_type": "execute_result"
    },
    {
     "data": {
      "image/png": "[encoded data removed]",
      "text/plain": [
       "<Figure size 640x480 with 2 Axes>"
      ]
     },
     "metadata": {},
     "output_type": "display_data"
    }
   ],
   "source": [
    "sns.heatmap(MT_, annot = True, xticklabels = models_name, yticklabels = models_name)\n",
    "plt.title(\"Heatmap for fastest solution\")"
   ]
  },
  {
   "cell_type": "markdown",
   "id": "44bdda17",
   "metadata": {},
   "source": [
    "## All together"
   ]
  },
  {
   "cell_type": "code",
   "execution_count": 21,
   "id": "8d920673",
   "metadata": {
    "ExecuteTime": {
     "end_time": "2022-12-03T17:58:56.556752Z",
     "start_time": "2022-12-03T17:58:56.541165Z"
    }
   },
   "outputs": [
    {
     "name": "stdout",
     "output_type": "stream",
     "text": [
      "---- Best solution ----\n",
      "\n",
      "1  -  GAT  \t 0.367\n",
      "2  -  MDH  \t 0.287\n",
      "3  -  SAGE  \t 0.214\n",
      "4  -  GRAT  \t 0.090\n",
      "5  -  GCN  \t 0.042\n",
      "6  -  GraphC  \t 0.000\n"
     ]
    }
   ],
   "source": [
    "print(\"---- Best solution ----\\n\")\n",
    "c = 1\n",
    "for g in np.argsort(-SPD_best):\n",
    "    print(c,\" - \", models_name[g][:6], f\" \\t {SPD_best[g]:.3f}\")\n",
    "    c += 1"
   ]
  },
  {
   "cell_type": "code",
   "execution_count": 50,
   "id": "c9ad5e0d",
   "metadata": {
    "ExecuteTime": {
     "end_time": "2022-12-01T19:07:23.749480Z",
     "start_time": "2022-12-01T19:07:23.740936Z"
    }
   },
   "outputs": [
    {
     "name": "stdout",
     "output_type": "stream",
     "text": [
      "------ Best time ------\n",
      "\n",
      "1  -  GRAT  \t 0.445\n",
      "2  -  MDH  \t 0.259\n",
      "3  -  SAGE  \t 0.147\n",
      "4  -  GraphC  \t 0.101\n",
      "5  -  GAT  \t 0.025\n",
      "6  -  GCN  \t 0.023\n"
     ]
    }
   ],
   "source": [
    "print(\"------ Best time ------\\n\")\n",
    "c = 1\n",
    "for g in np.argsort(-SPD_time):\n",
    "    print(c,\" - \", models_name[g][:6], f\" \\t {SPD_time[g]:.3f}\")\n",
    "    c+=1"
   ]
  },
  {
   "cell_type": "code",
   "execution_count": null,
   "id": "b7adceff",
   "metadata": {},
   "outputs": [],
   "source": []
  },
  {
   "cell_type": "code",
   "execution_count": null,
   "id": "c73e8d0e",
   "metadata": {},
   "outputs": [],
   "source": []
  },
  {
   "cell_type": "code",
   "execution_count": 301,
   "id": "3042004f",
   "metadata": {
    "ExecuteTime": {
     "end_time": "2022-11-10T20:31:17.528681Z",
     "start_time": "2022-11-10T20:31:17.513222Z"
    }
   },
   "outputs": [],
   "source": [
    "import numpy as np\n",
    "x = np.array([[6.5,7], [5,3],[6,6],[7.5,8.2],[4,4], [6,7], [5,5], [5.1,5.2], [7,8], [8,8], [8,8]])\n",
    "x = np.append(np.ones((11,1)),x, axis = 1)\n",
    "y = np.array([6,8,7,2.5,4,10,5,7,4,12,4])"
   ]
  },
  {
   "cell_type": "code",
   "execution_count": 3,
   "id": "d7e7e171",
   "metadata": {
    "ExecuteTime": {
     "end_time": "2022-11-10T16:13:31.518949Z",
     "start_time": "2022-11-10T16:13:31.496937Z"
    }
   },
   "outputs": [
    {
     "data": {
      "text/plain": [
       "array([[1. , 6.5, 7. ],\n",
       "       [1. , 5. , 3. ],\n",
       "       [1. , 6. , 6. ],\n",
       "       [1. , 7.5, 8.2],\n",
       "       [1. , 4. , 4. ],\n",
       "       [1. , 6. , 7. ],\n",
       "       [1. , 5. , 5. ],\n",
       "       [1. , 5.1, 5.2],\n",
       "       [1. , 7. , 8. ],\n",
       "       [1. , 8. , 8. ],\n",
       "       [1. , 8. , 8. ]])"
      ]
     },
     "execution_count": 3,
     "metadata": {},
     "output_type": "execute_result"
    }
   ],
   "source": [
    "x"
   ]
  },
  {
   "cell_type": "code",
   "execution_count": 4,
   "id": "3b6f61c8",
   "metadata": {
    "ExecuteTime": {
     "end_time": "2022-11-10T16:13:31.766813Z",
     "start_time": "2022-11-10T16:13:31.745840Z"
    }
   },
   "outputs": [
    {
     "data": {
      "text/plain": [
       "array([[ 11.  ,  68.1 ,  69.4 ],\n",
       "       [ 68.1 , 439.51, 451.52],\n",
       "       [ 69.4 , 451.52, 470.28]])"
      ]
     },
     "execution_count": 4,
     "metadata": {},
     "output_type": "execute_result"
    }
   ],
   "source": [
    "np.dot(x.T, x)"
   ]
  },
  {
   "cell_type": "code",
   "execution_count": 73,
   "id": "491ed44c",
   "metadata": {
    "ExecuteTime": {
     "end_time": "2022-11-08T16:17:18.829798Z",
     "start_time": "2022-11-08T16:17:18.801049Z"
    }
   },
   "outputs": [
    {
     "data": {
      "text/plain": [
       "array([[ 2.50477748, -0.61285329,  0.21877171],\n",
       "       [-0.61285329,  0.31657017, -0.21350205],\n",
       "       [ 0.21877171, -0.21350205,  0.1748271 ]])"
      ]
     },
     "execution_count": 73,
     "metadata": {},
     "output_type": "execute_result"
    }
   ],
   "source": [
    "np.linalg.inv(np.dot(x.T, x))"
   ]
  },
  {
   "cell_type": "code",
   "execution_count": 74,
   "id": "b4069a89",
   "metadata": {
    "ExecuteTime": {
     "end_time": "2022-11-08T16:18:28.993261Z",
     "start_time": "2022-11-08T16:18:28.977643Z"
    }
   },
   "outputs": [
    {
     "data": {
      "text/plain": [
       "array([ 69.5 , 432.45, 435.9 ])"
      ]
     },
     "execution_count": 74,
     "metadata": {},
     "output_type": "execute_result"
    }
   ],
   "source": [
    "np.dot(x.T,y)"
   ]
  },
  {
   "cell_type": "code",
   "execution_count": 5,
   "id": "682f7089",
   "metadata": {
    "ExecuteTime": {
     "end_time": "2022-11-10T16:17:37.141680Z",
     "start_time": "2022-11-10T16:17:37.105825Z"
    }
   },
   "outputs": [
    {
     "data": {
      "text/plain": [
       "array([ 4.41621859,  1.24192201, -0.91719443])"
      ]
     },
     "execution_count": 5,
     "metadata": {},
     "output_type": "execute_result"
    }
   ],
   "source": [
    "B = np.dot(np.linalg.inv(np.dot(x.T, x)), np.dot(x.T,y))\n",
    "B"
   ]
  },
  {
   "cell_type": "code",
   "execution_count": 80,
   "id": "d5fb85be",
   "metadata": {
    "ExecuteTime": {
     "end_time": "2022-11-08T16:22:43.787563Z",
     "start_time": "2022-11-08T16:22:43.771558Z"
    }
   },
   "outputs": [
    {
     "data": {
      "text/plain": [
       "82.13636363636363"
      ]
     },
     "execution_count": 80,
     "metadata": {},
     "output_type": "execute_result"
    }
   ],
   "source": [
    "SST = np.dot(y,y) - (np.sum(y)**2)/11\n",
    "SST"
   ]
  },
  {
   "cell_type": "code",
   "execution_count": 84,
   "id": "66ac8347",
   "metadata": {
    "ExecuteTime": {
     "end_time": "2022-11-08T16:24:06.742304Z",
     "start_time": "2022-11-08T16:24:06.724859Z"
    }
   },
   "outputs": [
    {
     "data": {
      "text/plain": [
       "444.19131364903933"
      ]
     },
     "execution_count": 84,
     "metadata": {},
     "output_type": "execute_result"
    }
   ],
   "source": [
    "np.dot(B, np.dot(x.T,y))"
   ]
  },
  {
   "cell_type": "code",
   "execution_count": 81,
   "id": "6f3e8532",
   "metadata": {
    "ExecuteTime": {
     "end_time": "2022-11-08T16:23:15.664440Z",
     "start_time": "2022-11-08T16:23:15.653718Z"
    }
   },
   "outputs": [
    {
     "data": {
      "text/plain": [
       "77.05868635096067"
      ]
     },
     "execution_count": 81,
     "metadata": {},
     "output_type": "execute_result"
    }
   ],
   "source": [
    "SSE = np.dot(y,y) - np.dot(B, np.dot(x.T,y))\n",
    "SSE"
   ]
  },
  {
   "cell_type": "code",
   "execution_count": 83,
   "id": "007cb220",
   "metadata": {
    "ExecuteTime": {
     "end_time": "2022-11-08T16:23:45.094779Z",
     "start_time": "2022-11-08T16:23:45.083039Z"
    }
   },
   "outputs": [
    {
     "data": {
      "text/plain": [
       "5.077677285402956"
      ]
     },
     "execution_count": 83,
     "metadata": {},
     "output_type": "execute_result"
    }
   ],
   "source": [
    "SSReg = SST - SSE\n",
    "SSReg"
   ]
  },
  {
   "cell_type": "code",
   "execution_count": 90,
   "id": "3d110b50",
   "metadata": {
    "ExecuteTime": {
     "end_time": "2022-11-08T16:41:02.152642Z",
     "start_time": "2022-11-08T16:41:02.137800Z"
    }
   },
   "outputs": [
    {
     "data": {
      "text/plain": [
       "7.663494397900552"
      ]
     },
     "execution_count": 90,
     "metadata": {},
     "output_type": "execute_result"
    }
   ],
   "source": [
    "np.dot(B, [1,10,10])"
   ]
  },
  {
   "cell_type": "code",
   "execution_count": 15,
   "id": "24514330",
   "metadata": {
    "ExecuteTime": {
     "end_time": "2022-11-10T17:47:07.655658Z",
     "start_time": "2022-11-10T17:47:07.644659Z"
    }
   },
   "outputs": [
    {
     "data": {
      "text/plain": [
       "tensor([1.])"
      ]
     },
     "execution_count": 15,
     "metadata": {},
     "output_type": "execute_result"
    }
   ],
   "source": [
    "import torch\n",
    "torch.sigmoid(torch.tensor([100]))"
   ]
  }
 ],
 "metadata": {
  "hide_input": false,
  "kernelspec": {
   "display_name": "Python 3 (ipykernel)",
   "language": "python",
   "name": "python3"
  },
  "language_info": {
   "codemirror_mode": {
    "name": "ipython",
    "version": 3
   },
   "file_extension": ".py",
   "mimetype": "text/x-python",
   "name": "python",
   "nbconvert_exporter": "python",
   "pygments_lexer": "ipython3",
   "version": "3.8.5"
  },
  "varInspector": {
   "cols": {
    "lenName": 16,
    "lenType": 16,
    "lenVar": 40
   },
   "kernels_config": {
    "python": {
     "delete_cmd_postfix": "",
     "delete_cmd_prefix": "del ",
     "library": "var_list.py",
     "varRefreshCmd": "print(var_dic_list())"
    },
    "r": {
     "delete_cmd_postfix": ") ",
     "delete_cmd_prefix": "rm(",
     "library": "var_list.r",
     "varRefreshCmd": "cat(var_dic_list()) "
    }
   },
   "types_to_exclude": [
    "module",
    "function",
    "builtin_function_or_method",
    "instance",
    "_Feature"
   ],
   "window_display": false
  }
 },
 "nbformat": 4,
 "nbformat_minor": 5
}
