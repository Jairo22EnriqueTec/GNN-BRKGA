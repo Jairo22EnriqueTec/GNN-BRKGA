{
 "cells": [
  {
   "cell_type": "code",
   "execution_count": 139,
   "id": "5cdc2e61",
   "metadata": {
    "ExecuteTime": {
     "end_time": "2022-11-01T19:34:27.894882Z",
     "start_time": "2022-11-01T19:34:27.879900Z"
    }
   },
   "outputs": [],
   "source": [
    "import numpy as np\n",
    "import pandas as pd\n",
    "import plotly.express as px\n",
    "import seaborn as sns\n",
    "import matplotlib.pyplot as plt"
   ]
  },
  {
   "cell_type": "code",
   "execution_count": 217,
   "id": "d4169fc4",
   "metadata": {
    "ExecuteTime": {
     "end_time": "2022-11-02T09:21:07.975818Z",
     "start_time": "2022-11-02T09:21:07.926121Z"
    }
   },
   "outputs": [
    {
     "data": {
      "text/html": [
       "<div>\n",
       "<style scoped>\n",
       "    .dataframe tbody tr th:only-of-type {\n",
       "        vertical-align: middle;\n",
       "    }\n",
       "\n",
       "    .dataframe tbody tr th {\n",
       "        vertical-align: top;\n",
       "    }\n",
       "\n",
       "    .dataframe thead th {\n",
       "        text-align: right;\n",
       "    }\n",
       "</style>\n",
       "<table border=\"1\" class=\"dataframe\">\n",
       "  <thead>\n",
       "    <tr style=\"text-align: right;\">\n",
       "      <th></th>\n",
       "      <th>Unnamed: 0</th>\n",
       "      <th>graph</th>\n",
       "      <th>model</th>\n",
       "      <th>seed</th>\n",
       "      <th>threshold</th>\n",
       "      <th>n_covered</th>\n",
       "      <th>n</th>\n",
       "      <th>coverage</th>\n",
       "      <th>t_mean</th>\n",
       "    </tr>\n",
       "  </thead>\n",
       "  <tbody>\n",
       "    <tr>\n",
       "      <th>0</th>\n",
       "      <td>0</td>\n",
       "      <td>Amazon0302</td>\n",
       "      <td>GRAT</td>\n",
       "      <td>13</td>\n",
       "      <td>0.5</td>\n",
       "      <td>52859</td>\n",
       "      <td>262111</td>\n",
       "      <td>0.201666</td>\n",
       "      <td>999.743185</td>\n",
       "    </tr>\n",
       "    <tr>\n",
       "      <th>1</th>\n",
       "      <td>1</td>\n",
       "      <td>Amazon0312</td>\n",
       "      <td>GRAT</td>\n",
       "      <td>13</td>\n",
       "      <td>0.5</td>\n",
       "      <td>78118</td>\n",
       "      <td>400727</td>\n",
       "      <td>0.194941</td>\n",
       "      <td>2372.091988</td>\n",
       "    </tr>\n",
       "    <tr>\n",
       "      <th>2</th>\n",
       "      <td>2</td>\n",
       "      <td>Amazon0505</td>\n",
       "      <td>GRAT</td>\n",
       "      <td>13</td>\n",
       "      <td>0.5</td>\n",
       "      <td>75931</td>\n",
       "      <td>410236</td>\n",
       "      <td>0.185091</td>\n",
       "      <td>3125.944629</td>\n",
       "    </tr>\n",
       "    <tr>\n",
       "      <th>3</th>\n",
       "      <td>3</td>\n",
       "      <td>Amazon0601</td>\n",
       "      <td>GRAT</td>\n",
       "      <td>13</td>\n",
       "      <td>0.5</td>\n",
       "      <td>1668</td>\n",
       "      <td>403393</td>\n",
       "      <td>0.004135</td>\n",
       "      <td>395.010195</td>\n",
       "    </tr>\n",
       "    <tr>\n",
       "      <th>4</th>\n",
       "      <td>4</td>\n",
       "      <td>com-dblp</td>\n",
       "      <td>GRAT</td>\n",
       "      <td>13</td>\n",
       "      <td>0.5</td>\n",
       "      <td>58628</td>\n",
       "      <td>317080</td>\n",
       "      <td>0.184900</td>\n",
       "      <td>2012.461888</td>\n",
       "    </tr>\n",
       "    <tr>\n",
       "      <th>5</th>\n",
       "      <td>5</td>\n",
       "      <td>com-youtube</td>\n",
       "      <td>GRAT</td>\n",
       "      <td>13</td>\n",
       "      <td>0.5</td>\n",
       "      <td>16988</td>\n",
       "      <td>1134796</td>\n",
       "      <td>0.014970</td>\n",
       "      <td>6217.375283</td>\n",
       "    </tr>\n",
       "    <tr>\n",
       "      <th>6</th>\n",
       "      <td>6</td>\n",
       "      <td>deezer_HR</td>\n",
       "      <td>GRAT</td>\n",
       "      <td>13</td>\n",
       "      <td>0.5</td>\n",
       "      <td>13911</td>\n",
       "      <td>54573</td>\n",
       "      <td>0.254906</td>\n",
       "      <td>57.812031</td>\n",
       "    </tr>\n",
       "    <tr>\n",
       "      <th>7</th>\n",
       "      <td>7</td>\n",
       "      <td>ego-facebook</td>\n",
       "      <td>GRAT</td>\n",
       "      <td>13</td>\n",
       "      <td>0.5</td>\n",
       "      <td>94</td>\n",
       "      <td>4039</td>\n",
       "      <td>0.023273</td>\n",
       "      <td>2.718155</td>\n",
       "    </tr>\n",
       "    <tr>\n",
       "      <th>8</th>\n",
       "      <td>8</td>\n",
       "      <td>gemsec_facebook_artist</td>\n",
       "      <td>GRAT</td>\n",
       "      <td>13</td>\n",
       "      <td>0.5</td>\n",
       "      <td>804</td>\n",
       "      <td>50514</td>\n",
       "      <td>0.015916</td>\n",
       "      <td>13.280995</td>\n",
       "    </tr>\n",
       "    <tr>\n",
       "      <th>9</th>\n",
       "      <td>9</td>\n",
       "      <td>actors_dat</td>\n",
       "      <td>GRAT</td>\n",
       "      <td>13</td>\n",
       "      <td>0.5</td>\n",
       "      <td>2114</td>\n",
       "      <td>10042</td>\n",
       "      <td>0.210516</td>\n",
       "      <td>3.724972</td>\n",
       "    </tr>\n",
       "    <tr>\n",
       "      <th>10</th>\n",
       "      <td>10</td>\n",
       "      <td>CA-AstroPh</td>\n",
       "      <td>GRAT</td>\n",
       "      <td>13</td>\n",
       "      <td>0.5</td>\n",
       "      <td>4311</td>\n",
       "      <td>18772</td>\n",
       "      <td>0.229651</td>\n",
       "      <td>7.093538</td>\n",
       "    </tr>\n",
       "    <tr>\n",
       "      <th>11</th>\n",
       "      <td>11</td>\n",
       "      <td>CA-CondMat</td>\n",
       "      <td>GRAT</td>\n",
       "      <td>13</td>\n",
       "      <td>0.5</td>\n",
       "      <td>4063</td>\n",
       "      <td>23133</td>\n",
       "      <td>0.175637</td>\n",
       "      <td>6.534686</td>\n",
       "    </tr>\n",
       "    <tr>\n",
       "      <th>12</th>\n",
       "      <td>12</td>\n",
       "      <td>CA-GrQc</td>\n",
       "      <td>GRAT</td>\n",
       "      <td>13</td>\n",
       "      <td>0.5</td>\n",
       "      <td>948</td>\n",
       "      <td>5242</td>\n",
       "      <td>0.180847</td>\n",
       "      <td>0.930405</td>\n",
       "    </tr>\n",
       "    <tr>\n",
       "      <th>13</th>\n",
       "      <td>13</td>\n",
       "      <td>CA-HepPh</td>\n",
       "      <td>GRAT</td>\n",
       "      <td>13</td>\n",
       "      <td>0.5</td>\n",
       "      <td>2275</td>\n",
       "      <td>12008</td>\n",
       "      <td>0.189457</td>\n",
       "      <td>3.980074</td>\n",
       "    </tr>\n",
       "    <tr>\n",
       "      <th>14</th>\n",
       "      <td>14</td>\n",
       "      <td>CA-HepTh</td>\n",
       "      <td>GRAT</td>\n",
       "      <td>13</td>\n",
       "      <td>0.5</td>\n",
       "      <td>1596</td>\n",
       "      <td>9877</td>\n",
       "      <td>0.161588</td>\n",
       "      <td>1.778898</td>\n",
       "    </tr>\n",
       "    <tr>\n",
       "      <th>15</th>\n",
       "      <td>15</td>\n",
       "      <td>dolphins</td>\n",
       "      <td>GRAT</td>\n",
       "      <td>13</td>\n",
       "      <td>0.5</td>\n",
       "      <td>3</td>\n",
       "      <td>34</td>\n",
       "      <td>0.088235</td>\n",
       "      <td>0.150000</td>\n",
       "    </tr>\n",
       "    <tr>\n",
       "      <th>16</th>\n",
       "      <td>16</td>\n",
       "      <td>Email-Enron</td>\n",
       "      <td>GRAT</td>\n",
       "      <td>13</td>\n",
       "      <td>0.5</td>\n",
       "      <td>3855</td>\n",
       "      <td>36692</td>\n",
       "      <td>0.105064</td>\n",
       "      <td>13.448198</td>\n",
       "    </tr>\n",
       "    <tr>\n",
       "      <th>17</th>\n",
       "      <td>17</td>\n",
       "      <td>football</td>\n",
       "      <td>GRAT</td>\n",
       "      <td>13</td>\n",
       "      <td>0.5</td>\n",
       "      <td>35</td>\n",
       "      <td>115</td>\n",
       "      <td>0.304348</td>\n",
       "      <td>0.229175</td>\n",
       "    </tr>\n",
       "    <tr>\n",
       "      <th>18</th>\n",
       "      <td>18</td>\n",
       "      <td>jazz</td>\n",
       "      <td>GRAT</td>\n",
       "      <td>13</td>\n",
       "      <td>0.5</td>\n",
       "      <td>61</td>\n",
       "      <td>198</td>\n",
       "      <td>0.308081</td>\n",
       "      <td>0.414823</td>\n",
       "    </tr>\n",
       "    <tr>\n",
       "      <th>19</th>\n",
       "      <td>19</td>\n",
       "      <td>karate</td>\n",
       "      <td>GRAT</td>\n",
       "      <td>13</td>\n",
       "      <td>0.5</td>\n",
       "      <td>13</td>\n",
       "      <td>62</td>\n",
       "      <td>0.209677</td>\n",
       "      <td>0.165362</td>\n",
       "    </tr>\n",
       "    <tr>\n",
       "      <th>20</th>\n",
       "      <td>20</td>\n",
       "      <td>ncstrlwg2</td>\n",
       "      <td>GRAT</td>\n",
       "      <td>13</td>\n",
       "      <td>0.5</td>\n",
       "      <td>1420</td>\n",
       "      <td>6396</td>\n",
       "      <td>0.222014</td>\n",
       "      <td>1.063720</td>\n",
       "    </tr>\n",
       "    <tr>\n",
       "      <th>21</th>\n",
       "      <td>21</td>\n",
       "      <td>loc-gowalla_edges</td>\n",
       "      <td>GRAT</td>\n",
       "      <td>13</td>\n",
       "      <td>0.5</td>\n",
       "      <td>29615</td>\n",
       "      <td>196591</td>\n",
       "      <td>0.150643</td>\n",
       "      <td>474.341996</td>\n",
       "    </tr>\n",
       "    <tr>\n",
       "      <th>22</th>\n",
       "      <td>22</td>\n",
       "      <td>musae_git</td>\n",
       "      <td>GRAT</td>\n",
       "      <td>13</td>\n",
       "      <td>0.5</td>\n",
       "      <td>7960</td>\n",
       "      <td>37700</td>\n",
       "      <td>0.211141</td>\n",
       "      <td>23.013956</td>\n",
       "    </tr>\n",
       "    <tr>\n",
       "      <th>23</th>\n",
       "      <td>23</td>\n",
       "      <td>soc-gplus</td>\n",
       "      <td>GRAT</td>\n",
       "      <td>13</td>\n",
       "      <td>0.5</td>\n",
       "      <td>1549</td>\n",
       "      <td>23628</td>\n",
       "      <td>0.065558</td>\n",
       "      <td>3.056034</td>\n",
       "    </tr>\n",
       "    <tr>\n",
       "      <th>24</th>\n",
       "      <td>24</td>\n",
       "      <td>socfb-Brandeis99</td>\n",
       "      <td>GRAT</td>\n",
       "      <td>13</td>\n",
       "      <td>0.5</td>\n",
       "      <td>1276</td>\n",
       "      <td>3898</td>\n",
       "      <td>0.327347</td>\n",
       "      <td>2.749501</td>\n",
       "    </tr>\n",
       "    <tr>\n",
       "      <th>25</th>\n",
       "      <td>25</td>\n",
       "      <td>socfb-Mich67</td>\n",
       "      <td>GRAT</td>\n",
       "      <td>13</td>\n",
       "      <td>0.5</td>\n",
       "      <td>1194</td>\n",
       "      <td>3748</td>\n",
       "      <td>0.318570</td>\n",
       "      <td>2.158383</td>\n",
       "    </tr>\n",
       "    <tr>\n",
       "      <th>26</th>\n",
       "      <td>26</td>\n",
       "      <td>socfb-nips-ego</td>\n",
       "      <td>GRAT</td>\n",
       "      <td>13</td>\n",
       "      <td>0.5</td>\n",
       "      <td>8</td>\n",
       "      <td>2888</td>\n",
       "      <td>0.002770</td>\n",
       "      <td>0.313751</td>\n",
       "    </tr>\n",
       "  </tbody>\n",
       "</table>\n",
       "</div>"
      ],
      "text/plain": [
       "    Unnamed: 0                   graph model  seed  threshold  n_covered  \\\n",
       "0            0              Amazon0302  GRAT    13        0.5      52859   \n",
       "1            1              Amazon0312  GRAT    13        0.5      78118   \n",
       "2            2              Amazon0505  GRAT    13        0.5      75931   \n",
       "3            3              Amazon0601  GRAT    13        0.5       1668   \n",
       "4            4                com-dblp  GRAT    13        0.5      58628   \n",
       "5            5             com-youtube  GRAT    13        0.5      16988   \n",
       "6            6               deezer_HR  GRAT    13        0.5      13911   \n",
       "7            7            ego-facebook  GRAT    13        0.5         94   \n",
       "8            8  gemsec_facebook_artist  GRAT    13        0.5        804   \n",
       "9            9              actors_dat  GRAT    13        0.5       2114   \n",
       "10          10              CA-AstroPh  GRAT    13        0.5       4311   \n",
       "11          11              CA-CondMat  GRAT    13        0.5       4063   \n",
       "12          12                 CA-GrQc  GRAT    13        0.5        948   \n",
       "13          13                CA-HepPh  GRAT    13        0.5       2275   \n",
       "14          14                CA-HepTh  GRAT    13        0.5       1596   \n",
       "15          15                dolphins  GRAT    13        0.5          3   \n",
       "16          16             Email-Enron  GRAT    13        0.5       3855   \n",
       "17          17                football  GRAT    13        0.5         35   \n",
       "18          18                    jazz  GRAT    13        0.5         61   \n",
       "19          19                  karate  GRAT    13        0.5         13   \n",
       "20          20               ncstrlwg2  GRAT    13        0.5       1420   \n",
       "21          21       loc-gowalla_edges  GRAT    13        0.5      29615   \n",
       "22          22               musae_git  GRAT    13        0.5       7960   \n",
       "23          23               soc-gplus  GRAT    13        0.5       1549   \n",
       "24          24        socfb-Brandeis99  GRAT    13        0.5       1276   \n",
       "25          25            socfb-Mich67  GRAT    13        0.5       1194   \n",
       "26          26          socfb-nips-ego  GRAT    13        0.5          8   \n",
       "\n",
       "          n  coverage       t_mean  \n",
       "0    262111  0.201666   999.743185  \n",
       "1    400727  0.194941  2372.091988  \n",
       "2    410236  0.185091  3125.944629  \n",
       "3    403393  0.004135   395.010195  \n",
       "4    317080  0.184900  2012.461888  \n",
       "5   1134796  0.014970  6217.375283  \n",
       "6     54573  0.254906    57.812031  \n",
       "7      4039  0.023273     2.718155  \n",
       "8     50514  0.015916    13.280995  \n",
       "9     10042  0.210516     3.724972  \n",
       "10    18772  0.229651     7.093538  \n",
       "11    23133  0.175637     6.534686  \n",
       "12     5242  0.180847     0.930405  \n",
       "13    12008  0.189457     3.980074  \n",
       "14     9877  0.161588     1.778898  \n",
       "15       34  0.088235     0.150000  \n",
       "16    36692  0.105064    13.448198  \n",
       "17      115  0.304348     0.229175  \n",
       "18      198  0.308081     0.414823  \n",
       "19       62  0.209677     0.165362  \n",
       "20     6396  0.222014     1.063720  \n",
       "21   196591  0.150643   474.341996  \n",
       "22    37700  0.211141    23.013956  \n",
       "23    23628  0.065558     3.056034  \n",
       "24     3898  0.327347     2.749501  \n",
       "25     3748  0.318570     2.158383  \n",
       "26     2888  0.002770     0.313751  "
      ]
     },
     "execution_count": 217,
     "metadata": {},
     "output_type": "execute_result"
    }
   ],
   "source": [
    "FastCover = pd.read_csv(\"FastCover/results/FastCover_11-01_12-43.csv\")\n",
    "FastCover"
   ]
  },
  {
   "cell_type": "code",
   "execution_count": 47,
   "id": "b4dbe2ed",
   "metadata": {
    "ExecuteTime": {
     "end_time": "2022-11-01T19:04:44.295809Z",
     "start_time": "2022-11-01T19:04:44.246694Z"
    }
   },
   "outputs": [
    {
     "data": {
      "text/html": [
       "<div>\n",
       "<style scoped>\n",
       "    .dataframe tbody tr th:only-of-type {\n",
       "        vertical-align: middle;\n",
       "    }\n",
       "\n",
       "    .dataframe tbody tr th {\n",
       "        vertical-align: top;\n",
       "    }\n",
       "\n",
       "    .dataframe thead th {\n",
       "        text-align: right;\n",
       "    }\n",
       "</style>\n",
       "<table border=\"1\" class=\"dataframe\">\n",
       "  <thead>\n",
       "    <tr style=\"text-align: right;\">\n",
       "      <th></th>\n",
       "      <th>Unnamed: 0</th>\n",
       "      <th>graph</th>\n",
       "      <th>model</th>\n",
       "      <th>seed</th>\n",
       "      <th>threshold</th>\n",
       "      <th>n_covered</th>\n",
       "      <th>n</th>\n",
       "      <th>coverage</th>\n",
       "      <th>t_mean</th>\n",
       "    </tr>\n",
       "  </thead>\n",
       "  <tbody>\n",
       "    <tr>\n",
       "      <th>0</th>\n",
       "      <td>0</td>\n",
       "      <td>Amazon0302</td>\n",
       "      <td>GRAT</td>\n",
       "      <td>13</td>\n",
       "      <td>0.5</td>\n",
       "      <td>52859</td>\n",
       "      <td>262111</td>\n",
       "      <td>0.201666</td>\n",
       "      <td>999.743185</td>\n",
       "    </tr>\n",
       "    <tr>\n",
       "      <th>1</th>\n",
       "      <td>1</td>\n",
       "      <td>Amazon0312</td>\n",
       "      <td>GRAT</td>\n",
       "      <td>13</td>\n",
       "      <td>0.5</td>\n",
       "      <td>78118</td>\n",
       "      <td>400727</td>\n",
       "      <td>0.194941</td>\n",
       "      <td>2372.091988</td>\n",
       "    </tr>\n",
       "    <tr>\n",
       "      <th>2</th>\n",
       "      <td>2</td>\n",
       "      <td>Amazon0505</td>\n",
       "      <td>GRAT</td>\n",
       "      <td>13</td>\n",
       "      <td>0.5</td>\n",
       "      <td>75931</td>\n",
       "      <td>410236</td>\n",
       "      <td>0.185091</td>\n",
       "      <td>3125.944629</td>\n",
       "    </tr>\n",
       "    <tr>\n",
       "      <th>3</th>\n",
       "      <td>3</td>\n",
       "      <td>Amazon0601</td>\n",
       "      <td>GRAT</td>\n",
       "      <td>13</td>\n",
       "      <td>0.5</td>\n",
       "      <td>1668</td>\n",
       "      <td>403393</td>\n",
       "      <td>0.004135</td>\n",
       "      <td>395.010195</td>\n",
       "    </tr>\n",
       "    <tr>\n",
       "      <th>4</th>\n",
       "      <td>4</td>\n",
       "      <td>com-dblp</td>\n",
       "      <td>GRAT</td>\n",
       "      <td>13</td>\n",
       "      <td>0.5</td>\n",
       "      <td>58628</td>\n",
       "      <td>317080</td>\n",
       "      <td>0.184900</td>\n",
       "      <td>2012.461888</td>\n",
       "    </tr>\n",
       "    <tr>\n",
       "      <th>5</th>\n",
       "      <td>5</td>\n",
       "      <td>com-youtube</td>\n",
       "      <td>GRAT</td>\n",
       "      <td>13</td>\n",
       "      <td>0.5</td>\n",
       "      <td>16988</td>\n",
       "      <td>1134796</td>\n",
       "      <td>0.014970</td>\n",
       "      <td>6217.375283</td>\n",
       "    </tr>\n",
       "    <tr>\n",
       "      <th>6</th>\n",
       "      <td>6</td>\n",
       "      <td>deezer_HR</td>\n",
       "      <td>GRAT</td>\n",
       "      <td>13</td>\n",
       "      <td>0.5</td>\n",
       "      <td>13911</td>\n",
       "      <td>54573</td>\n",
       "      <td>0.254906</td>\n",
       "      <td>57.812031</td>\n",
       "    </tr>\n",
       "    <tr>\n",
       "      <th>8</th>\n",
       "      <td>8</td>\n",
       "      <td>gemsec_facebook_artist</td>\n",
       "      <td>GRAT</td>\n",
       "      <td>13</td>\n",
       "      <td>0.5</td>\n",
       "      <td>804</td>\n",
       "      <td>50514</td>\n",
       "      <td>0.015916</td>\n",
       "      <td>13.280995</td>\n",
       "    </tr>\n",
       "    <tr>\n",
       "      <th>21</th>\n",
       "      <td>21</td>\n",
       "      <td>loc-gowalla_edges</td>\n",
       "      <td>GRAT</td>\n",
       "      <td>13</td>\n",
       "      <td>0.5</td>\n",
       "      <td>29615</td>\n",
       "      <td>196591</td>\n",
       "      <td>0.150643</td>\n",
       "      <td>474.341996</td>\n",
       "    </tr>\n",
       "  </tbody>\n",
       "</table>\n",
       "</div>"
      ],
      "text/plain": [
       "    Unnamed: 0                   graph model  seed  threshold  n_covered  \\\n",
       "0            0              Amazon0302  GRAT    13        0.5      52859   \n",
       "1            1              Amazon0312  GRAT    13        0.5      78118   \n",
       "2            2              Amazon0505  GRAT    13        0.5      75931   \n",
       "3            3              Amazon0601  GRAT    13        0.5       1668   \n",
       "4            4                com-dblp  GRAT    13        0.5      58628   \n",
       "5            5             com-youtube  GRAT    13        0.5      16988   \n",
       "6            6               deezer_HR  GRAT    13        0.5      13911   \n",
       "8            8  gemsec_facebook_artist  GRAT    13        0.5        804   \n",
       "21          21       loc-gowalla_edges  GRAT    13        0.5      29615   \n",
       "\n",
       "          n  coverage       t_mean  \n",
       "0    262111  0.201666   999.743185  \n",
       "1    400727  0.194941  2372.091988  \n",
       "2    410236  0.185091  3125.944629  \n",
       "3    403393  0.004135   395.010195  \n",
       "4    317080  0.184900  2012.461888  \n",
       "5   1134796  0.014970  6217.375283  \n",
       "6     54573  0.254906    57.812031  \n",
       "8     50514  0.015916    13.280995  \n",
       "21   196591  0.150643   474.341996  "
      ]
     },
     "execution_count": 47,
     "metadata": {},
     "output_type": "execute_result"
    }
   ],
   "source": [
    "FastCover.loc[FastCover.n > 50_015 ,:]"
   ]
  },
  {
   "cell_type": "code",
   "execution_count": 49,
   "id": "122c71a7",
   "metadata": {
    "ExecuteTime": {
     "end_time": "2022-11-01T19:05:03.156858Z",
     "start_time": "2022-11-01T19:05:03.120380Z"
    }
   },
   "outputs": [
    {
     "data": {
      "text/html": [
       "<div>\n",
       "<style scoped>\n",
       "    .dataframe tbody tr th:only-of-type {\n",
       "        vertical-align: middle;\n",
       "    }\n",
       "\n",
       "    .dataframe tbody tr th {\n",
       "        vertical-align: top;\n",
       "    }\n",
       "\n",
       "    .dataframe thead th {\n",
       "        text-align: right;\n",
       "    }\n",
       "</style>\n",
       "<table border=\"1\" class=\"dataframe\">\n",
       "  <thead>\n",
       "    <tr style=\"text-align: right;\">\n",
       "      <th></th>\n",
       "      <th>Unnamed: 0</th>\n",
       "      <th>graph</th>\n",
       "      <th>model</th>\n",
       "      <th>seed</th>\n",
       "      <th>threshold</th>\n",
       "      <th>n_covered</th>\n",
       "      <th>n</th>\n",
       "      <th>coverage</th>\n",
       "      <th>t_mean</th>\n",
       "    </tr>\n",
       "  </thead>\n",
       "  <tbody>\n",
       "    <tr>\n",
       "      <th>0</th>\n",
       "      <td>0</td>\n",
       "      <td>ego-facebook</td>\n",
       "      <td>GAT</td>\n",
       "      <td>13</td>\n",
       "      <td>0.5</td>\n",
       "      <td>723</td>\n",
       "      <td>4039</td>\n",
       "      <td>0.179005</td>\n",
       "      <td>0.766428</td>\n",
       "    </tr>\n",
       "    <tr>\n",
       "      <th>1</th>\n",
       "      <td>1</td>\n",
       "      <td>gemsec_facebook_artist</td>\n",
       "      <td>GAT</td>\n",
       "      <td>13</td>\n",
       "      <td>0.5</td>\n",
       "      <td>3497</td>\n",
       "      <td>50514</td>\n",
       "      <td>0.069228</td>\n",
       "      <td>11.916866</td>\n",
       "    </tr>\n",
       "    <tr>\n",
       "      <th>2</th>\n",
       "      <td>2</td>\n",
       "      <td>actors_dat</td>\n",
       "      <td>GAT</td>\n",
       "      <td>13</td>\n",
       "      <td>0.5</td>\n",
       "      <td>2032</td>\n",
       "      <td>10042</td>\n",
       "      <td>0.202350</td>\n",
       "      <td>2.147332</td>\n",
       "    </tr>\n",
       "    <tr>\n",
       "      <th>3</th>\n",
       "      <td>3</td>\n",
       "      <td>CA-AstroPh</td>\n",
       "      <td>GAT</td>\n",
       "      <td>13</td>\n",
       "      <td>0.5</td>\n",
       "      <td>3365</td>\n",
       "      <td>18772</td>\n",
       "      <td>0.179256</td>\n",
       "      <td>4.425135</td>\n",
       "    </tr>\n",
       "    <tr>\n",
       "      <th>4</th>\n",
       "      <td>4</td>\n",
       "      <td>CA-CondMat</td>\n",
       "      <td>GAT</td>\n",
       "      <td>13</td>\n",
       "      <td>0.5</td>\n",
       "      <td>3539</td>\n",
       "      <td>23133</td>\n",
       "      <td>0.152985</td>\n",
       "      <td>5.141691</td>\n",
       "    </tr>\n",
       "  </tbody>\n",
       "</table>\n",
       "</div>"
      ],
      "text/plain": [
       "   Unnamed: 0                   graph model  seed  threshold  n_covered  \\\n",
       "0           0            ego-facebook   GAT    13        0.5        723   \n",
       "1           1  gemsec_facebook_artist   GAT    13        0.5       3497   \n",
       "2           2              actors_dat   GAT    13        0.5       2032   \n",
       "3           3              CA-AstroPh   GAT    13        0.5       3365   \n",
       "4           4              CA-CondMat   GAT    13        0.5       3539   \n",
       "\n",
       "       n  coverage     t_mean  \n",
       "0   4039  0.179005   0.766428  \n",
       "1  50514  0.069228  11.916866  \n",
       "2  10042  0.202350   2.147332  \n",
       "3  18772  0.179256   4.425135  \n",
       "4  23133  0.152985   5.141691  "
      ]
     },
     "execution_count": 49,
     "metadata": {},
     "output_type": "execute_result"
    }
   ],
   "source": [
    "Models = pd.read_csv(\"Models/results/Models_11-01_17-34.csv\")\n",
    "Models.head()"
   ]
  },
  {
   "cell_type": "code",
   "execution_count": 174,
   "id": "66d5a85f",
   "metadata": {
    "ExecuteTime": {
     "end_time": "2022-11-02T07:39:48.691081Z",
     "start_time": "2022-11-02T07:39:48.501144Z"
    }
   },
   "outputs": [
    {
     "data": {
      "text/html": [
       "<div>\n",
       "<style scoped>\n",
       "    .dataframe tbody tr th:only-of-type {\n",
       "        vertical-align: middle;\n",
       "    }\n",
       "\n",
       "    .dataframe tbody tr th {\n",
       "        vertical-align: top;\n",
       "    }\n",
       "\n",
       "    .dataframe thead th {\n",
       "        text-align: right;\n",
       "    }\n",
       "</style>\n",
       "<table border=\"1\" class=\"dataframe\">\n",
       "  <thead>\n",
       "    <tr style=\"text-align: right;\">\n",
       "      <th></th>\n",
       "      <th>Unnamed: 0</th>\n",
       "      <th>graph</th>\n",
       "      <th>model</th>\n",
       "      <th>seed</th>\n",
       "      <th>threshold</th>\n",
       "      <th>n_covered</th>\n",
       "      <th>n</th>\n",
       "      <th>coverage</th>\n",
       "      <th>t_mean</th>\n",
       "    </tr>\n",
       "  </thead>\n",
       "  <tbody>\n",
       "    <tr>\n",
       "      <th>0</th>\n",
       "      <td>0</td>\n",
       "      <td>Amazon0302</td>\n",
       "      <td>GAT</td>\n",
       "      <td>13</td>\n",
       "      <td>0.5</td>\n",
       "      <td>53017</td>\n",
       "      <td>262111</td>\n",
       "      <td>0.202269</td>\n",
       "      <td>981.287366</td>\n",
       "    </tr>\n",
       "    <tr>\n",
       "      <th>1</th>\n",
       "      <td>1</td>\n",
       "      <td>Amazon0312</td>\n",
       "      <td>GAT</td>\n",
       "      <td>13</td>\n",
       "      <td>0.5</td>\n",
       "      <td>82541</td>\n",
       "      <td>400727</td>\n",
       "      <td>0.205978</td>\n",
       "      <td>2662.260526</td>\n",
       "    </tr>\n",
       "    <tr>\n",
       "      <th>2</th>\n",
       "      <td>2</td>\n",
       "      <td>Amazon0505</td>\n",
       "      <td>GAT</td>\n",
       "      <td>13</td>\n",
       "      <td>0.5</td>\n",
       "      <td>76803</td>\n",
       "      <td>410236</td>\n",
       "      <td>0.187217</td>\n",
       "      <td>2379.210667</td>\n",
       "    </tr>\n",
       "    <tr>\n",
       "      <th>3</th>\n",
       "      <td>3</td>\n",
       "      <td>Amazon0601</td>\n",
       "      <td>GAT</td>\n",
       "      <td>13</td>\n",
       "      <td>0.5</td>\n",
       "      <td>4491</td>\n",
       "      <td>403393</td>\n",
       "      <td>0.011133</td>\n",
       "      <td>246.721773</td>\n",
       "    </tr>\n",
       "    <tr>\n",
       "      <th>4</th>\n",
       "      <td>4</td>\n",
       "      <td>com-youtube</td>\n",
       "      <td>GAT</td>\n",
       "      <td>13</td>\n",
       "      <td>0.5</td>\n",
       "      <td>63082</td>\n",
       "      <td>1134796</td>\n",
       "      <td>0.055589</td>\n",
       "      <td>6369.097616</td>\n",
       "    </tr>\n",
       "  </tbody>\n",
       "</table>\n",
       "</div>"
      ],
      "text/plain": [
       "   Unnamed: 0        graph model  seed  threshold  n_covered        n  \\\n",
       "0           0   Amazon0302   GAT    13        0.5      53017   262111   \n",
       "1           1   Amazon0312   GAT    13        0.5      82541   400727   \n",
       "2           2   Amazon0505   GAT    13        0.5      76803   410236   \n",
       "3           3   Amazon0601   GAT    13        0.5       4491   403393   \n",
       "4           4  com-youtube   GAT    13        0.5      63082  1134796   \n",
       "\n",
       "   coverage       t_mean  \n",
       "0  0.202269   981.287366  \n",
       "1  0.205978  2662.260526  \n",
       "2  0.187217  2379.210667  \n",
       "3  0.011133   246.721773  \n",
       "4  0.055589  6369.097616  "
      ]
     },
     "execution_count": 174,
     "metadata": {},
     "output_type": "execute_result"
    }
   ],
   "source": [
    "ModelsFull = pd.read_csv(\"Models/results/Models_11-01_19-11.csv\")\n",
    "ModelsFull.head()"
   ]
  },
  {
   "cell_type": "code",
   "execution_count": 175,
   "id": "fa551e4a",
   "metadata": {
    "ExecuteTime": {
     "end_time": "2022-11-02T07:39:59.062085Z",
     "start_time": "2022-11-02T07:39:59.033093Z"
    }
   },
   "outputs": [],
   "source": [
    "Full = pd.concat([Models, FastCover, ModelsFull])\n",
    "Full = Full.sort_values(by=['n'])\n",
    "#Full = Full.loc[Full.n < 30_000 ,:]"
   ]
  },
  {
   "cell_type": "code",
   "execution_count": 176,
   "id": "e1bacaec",
   "metadata": {
    "ExecuteTime": {
     "end_time": "2022-11-02T07:40:01.416398Z",
     "start_time": "2022-11-02T07:40:01.155180Z"
    }
   },
   "outputs": [
    {
     "data": {
      "application/vnd.plotly.v1+json": {
       "config": {
        "plotlyServerURL": "https://plot.ly"
       },
       "data": [
        {
         "alignmentgroup": "True",
         "bingroup": "x",
         "histfunc": "sum",
         "hovertemplate": "model=GAT<br>graph=%{x}<br>sum of n_covered=%{y}<extra></extra>",
         "legendgroup": "GAT",
         "marker": {
          "color": "#636efa"
         },
         "name": "GAT",
         "offsetgroup": "GAT",
         "orientation": "v",
         "showlegend": true,
         "type": "histogram",
         "x": [
          "dolphins",
          "karate",
          "football",
          "jazz",
          "socfb-nips-ego",
          "socfb-Mich67",
          "socfb-Brandeis99",
          "ego-facebook",
          "CA-GrQc",
          "ncstrlwg2",
          "CA-HepTh",
          "actors_dat",
          "CA-HepPh",
          "CA-AstroPh",
          "CA-CondMat",
          "soc-gplus",
          "Email-Enron",
          "musae_git",
          "gemsec_facebook_artist",
          "deezer_HR",
          "loc-gowalla_edges",
          "Amazon0302",
          "com-dblp",
          "Amazon0312",
          "Amazon0601",
          "Amazon0505",
          "com-youtube"
         ],
         "xaxis": "x",
         "y": [
          7,
          13,
          36,
          57,
          707,
          1185,
          1196,
          723,
          845,
          1306,
          1281,
          2032,
          1582,
          3365,
          3539,
          4201,
          4932,
          10125,
          3497,
          13992,
          26691,
          53017,
          68533,
          82541,
          4491,
          76803,
          63082
         ],
         "yaxis": "y"
        },
        {
         "alignmentgroup": "True",
         "bingroup": "x",
         "histfunc": "sum",
         "hovertemplate": "model=GCN<br>graph=%{x}<br>sum of n_covered=%{y}<extra></extra>",
         "legendgroup": "GCN",
         "marker": {
          "color": "#EF553B"
         },
         "name": "GCN",
         "offsetgroup": "GCN",
         "orientation": "v",
         "showlegend": true,
         "type": "histogram",
         "x": [
          "dolphins",
          "karate",
          "football",
          "jazz",
          "socfb-nips-ego",
          "socfb-Mich67",
          "socfb-Brandeis99",
          "ego-facebook",
          "CA-GrQc",
          "ncstrlwg2",
          "CA-HepTh",
          "actors_dat",
          "CA-HepPh",
          "CA-AstroPh",
          "CA-CondMat",
          "soc-gplus",
          "Email-Enron",
          "musae_git",
          "gemsec_facebook_artist",
          "deezer_HR",
          "loc-gowalla_edges",
          "Amazon0302",
          "com-dblp",
          "Amazon0312",
          "Amazon0601",
          "Amazon0505",
          "com-youtube"
         ],
         "xaxis": "x",
         "y": [
          4,
          13,
          31,
          51,
          293,
          1176,
          1362,
          961,
          960,
          1317,
          1410,
          1554,
          1614,
          2402,
          3669,
          3195,
          3743,
          7803,
          3876,
          13785,
          31243,
          54046,
          60971,
          76890,
          2371,
          77545,
          97527
         ],
         "yaxis": "y"
        },
        {
         "alignmentgroup": "True",
         "bingroup": "x",
         "histfunc": "sum",
         "hovertemplate": "model=GraphConv<br>graph=%{x}<br>sum of n_covered=%{y}<extra></extra>",
         "legendgroup": "GraphConv",
         "marker": {
          "color": "#00cc96"
         },
         "name": "GraphConv",
         "offsetgroup": "GraphConv",
         "orientation": "v",
         "showlegend": true,
         "type": "histogram",
         "x": [
          "dolphins",
          "karate",
          "football",
          "jazz",
          "socfb-nips-ego",
          "socfb-Mich67",
          "socfb-Brandeis99",
          "ego-facebook",
          "CA-GrQc",
          "ncstrlwg2",
          "CA-HepTh",
          "actors_dat",
          "CA-HepPh",
          "CA-AstroPh",
          "CA-CondMat",
          "soc-gplus",
          "Email-Enron",
          "musae_git",
          "gemsec_facebook_artist",
          "deezer_HR",
          "loc-gowalla_edges",
          "Amazon0302",
          "com-dblp",
          "Amazon0312",
          "Amazon0601",
          "Amazon0505",
          "com-youtube"
         ],
         "xaxis": "x",
         "y": [
          4,
          11,
          33,
          42,
          175,
          1112,
          1288,
          963,
          908,
          1403,
          1208,
          1525,
          1404,
          2787,
          4107,
          3556,
          2768,
          8572,
          3974,
          13751,
          16938,
          56035,
          70532,
          87891,
          1966,
          85385,
          36679
         ],
         "yaxis": "y"
        },
        {
         "alignmentgroup": "True",
         "bingroup": "x",
         "histfunc": "sum",
         "hovertemplate": "model=GRAT<br>graph=%{x}<br>sum of n_covered=%{y}<extra></extra>",
         "legendgroup": "GRAT",
         "marker": {
          "color": "#ab63fa"
         },
         "name": "GRAT",
         "offsetgroup": "GRAT",
         "orientation": "v",
         "showlegend": true,
         "type": "histogram",
         "x": [
          "dolphins",
          "karate",
          "football",
          "jazz",
          "socfb-nips-ego",
          "socfb-Mich67",
          "socfb-Brandeis99",
          "ego-facebook",
          "CA-GrQc",
          "ncstrlwg2",
          "CA-HepTh",
          "actors_dat",
          "CA-HepPh",
          "CA-AstroPh",
          "CA-CondMat",
          "soc-gplus",
          "Email-Enron",
          "musae_git",
          "gemsec_facebook_artist",
          "deezer_HR",
          "loc-gowalla_edges",
          "Amazon0302",
          "com-dblp",
          "Amazon0312",
          "Amazon0601",
          "Amazon0505",
          "com-youtube"
         ],
         "xaxis": "x",
         "y": [
          3,
          13,
          35,
          61,
          8,
          1194,
          1276,
          94,
          948,
          1420,
          1596,
          2114,
          2275,
          4311,
          4063,
          1549,
          3855,
          7960,
          804,
          13911,
          29615,
          52859,
          58628,
          78118,
          1668,
          75931,
          16988
         ],
         "yaxis": "y"
        }
       ],
       "layout": {
        "barmode": "group",
        "height": 400,
        "legend": {
         "title": {
          "text": "model"
         },
         "tracegroupgap": 0
        },
        "margin": {
         "t": 60
        },
        "template": {
         "data": {
          "bar": [
           {
            "error_x": {
             "color": "#2a3f5f"
            },
            "error_y": {
             "color": "#2a3f5f"
            },
            "marker": {
             "line": {
              "color": "#E5ECF6",
              "width": 0.5
             }
            },
            "type": "bar"
           }
          ],
          "barpolar": [
           {
            "marker": {
             "line": {
              "color": "#E5ECF6",
              "width": 0.5
             }
            },
            "type": "barpolar"
           }
          ],
          "carpet": [
           {
            "aaxis": {
             "endlinecolor": "#2a3f5f",
             "gridcolor": "white",
             "linecolor": "white",
             "minorgridcolor": "white",
             "startlinecolor": "#2a3f5f"
            },
            "baxis": {
             "endlinecolor": "#2a3f5f",
             "gridcolor": "white",
             "linecolor": "white",
             "minorgridcolor": "white",
             "startlinecolor": "#2a3f5f"
            },
            "type": "carpet"
           }
          ],
          "choropleth": [
           {
            "colorbar": {
             "outlinewidth": 0,
             "ticks": ""
            },
            "type": "choropleth"
           }
          ],
          "contour": [
           {
            "colorbar": {
             "outlinewidth": 0,
             "ticks": ""
            },
            "colorscale": [
             [
              0,
              "#0d0887"
             ],
             [
              0.1111111111111111,
              "#46039f"
             ],
             [
              0.2222222222222222,
              "#7201a8"
             ],
             [
              0.3333333333333333,
              "#9c179e"
             ],
             [
              0.4444444444444444,
              "#bd3786"
             ],
             [
              0.5555555555555556,
              "#d8576b"
             ],
             [
              0.6666666666666666,
              "#ed7953"
             ],
             [
              0.7777777777777778,
              "#fb9f3a"
             ],
             [
              0.8888888888888888,
              "#fdca26"
             ],
             [
              1,
              "#f0f921"
             ]
            ],
            "type": "contour"
           }
          ],
          "contourcarpet": [
           {
            "colorbar": {
             "outlinewidth": 0,
             "ticks": ""
            },
            "type": "contourcarpet"
           }
          ],
          "heatmap": [
           {
            "colorbar": {
             "outlinewidth": 0,
             "ticks": ""
            },
            "colorscale": [
             [
              0,
              "#0d0887"
             ],
             [
              0.1111111111111111,
              "#46039f"
             ],
             [
              0.2222222222222222,
              "#7201a8"
             ],
             [
              0.3333333333333333,
              "#9c179e"
             ],
             [
              0.4444444444444444,
              "#bd3786"
             ],
             [
              0.5555555555555556,
              "#d8576b"
             ],
             [
              0.6666666666666666,
              "#ed7953"
             ],
             [
              0.7777777777777778,
              "#fb9f3a"
             ],
             [
              0.8888888888888888,
              "#fdca26"
             ],
             [
              1,
              "#f0f921"
             ]
            ],
            "type": "heatmap"
           }
          ],
          "heatmapgl": [
           {
            "colorbar": {
             "outlinewidth": 0,
             "ticks": ""
            },
            "colorscale": [
             [
              0,
              "#0d0887"
             ],
             [
              0.1111111111111111,
              "#46039f"
             ],
             [
              0.2222222222222222,
              "#7201a8"
             ],
             [
              0.3333333333333333,
              "#9c179e"
             ],
             [
              0.4444444444444444,
              "#bd3786"
             ],
             [
              0.5555555555555556,
              "#d8576b"
             ],
             [
              0.6666666666666666,
              "#ed7953"
             ],
             [
              0.7777777777777778,
              "#fb9f3a"
             ],
             [
              0.8888888888888888,
              "#fdca26"
             ],
             [
              1,
              "#f0f921"
             ]
            ],
            "type": "heatmapgl"
           }
          ],
          "histogram": [
           {
            "marker": {
             "colorbar": {
              "outlinewidth": 0,
              "ticks": ""
             }
            },
            "type": "histogram"
           }
          ],
          "histogram2d": [
           {
            "colorbar": {
             "outlinewidth": 0,
             "ticks": ""
            },
            "colorscale": [
             [
              0,
              "#0d0887"
             ],
             [
              0.1111111111111111,
              "#46039f"
             ],
             [
              0.2222222222222222,
              "#7201a8"
             ],
             [
              0.3333333333333333,
              "#9c179e"
             ],
             [
              0.4444444444444444,
              "#bd3786"
             ],
             [
              0.5555555555555556,
              "#d8576b"
             ],
             [
              0.6666666666666666,
              "#ed7953"
             ],
             [
              0.7777777777777778,
              "#fb9f3a"
             ],
             [
              0.8888888888888888,
              "#fdca26"
             ],
             [
              1,
              "#f0f921"
             ]
            ],
            "type": "histogram2d"
           }
          ],
          "histogram2dcontour": [
           {
            "colorbar": {
             "outlinewidth": 0,
             "ticks": ""
            },
            "colorscale": [
             [
              0,
              "#0d0887"
             ],
             [
              0.1111111111111111,
              "#46039f"
             ],
             [
              0.2222222222222222,
              "#7201a8"
             ],
             [
              0.3333333333333333,
              "#9c179e"
             ],
             [
              0.4444444444444444,
              "#bd3786"
             ],
             [
              0.5555555555555556,
              "#d8576b"
             ],
             [
              0.6666666666666666,
              "#ed7953"
             ],
             [
              0.7777777777777778,
              "#fb9f3a"
             ],
             [
              0.8888888888888888,
              "#fdca26"
             ],
             [
              1,
              "#f0f921"
             ]
            ],
            "type": "histogram2dcontour"
           }
          ],
          "mesh3d": [
           {
            "colorbar": {
             "outlinewidth": 0,
             "ticks": ""
            },
            "type": "mesh3d"
           }
          ],
          "parcoords": [
           {
            "line": {
             "colorbar": {
              "outlinewidth": 0,
              "ticks": ""
             }
            },
            "type": "parcoords"
           }
          ],
          "pie": [
           {
            "automargin": true,
            "type": "pie"
           }
          ],
          "scatter": [
           {
            "marker": {
             "colorbar": {
              "outlinewidth": 0,
              "ticks": ""
             }
            },
            "type": "scatter"
           }
          ],
          "scatter3d": [
           {
            "line": {
             "colorbar": {
              "outlinewidth": 0,
              "ticks": ""
             }
            },
            "marker": {
             "colorbar": {
              "outlinewidth": 0,
              "ticks": ""
             }
            },
            "type": "scatter3d"
           }
          ],
          "scattercarpet": [
           {
            "marker": {
             "colorbar": {
              "outlinewidth": 0,
              "ticks": ""
             }
            },
            "type": "scattercarpet"
           }
          ],
          "scattergeo": [
           {
            "marker": {
             "colorbar": {
              "outlinewidth": 0,
              "ticks": ""
             }
            },
            "type": "scattergeo"
           }
          ],
          "scattergl": [
           {
            "marker": {
             "colorbar": {
              "outlinewidth": 0,
              "ticks": ""
             }
            },
            "type": "scattergl"
           }
          ],
          "scattermapbox": [
           {
            "marker": {
             "colorbar": {
              "outlinewidth": 0,
              "ticks": ""
             }
            },
            "type": "scattermapbox"
           }
          ],
          "scatterpolar": [
           {
            "marker": {
             "colorbar": {
              "outlinewidth": 0,
              "ticks": ""
             }
            },
            "type": "scatterpolar"
           }
          ],
          "scatterpolargl": [
           {
            "marker": {
             "colorbar": {
              "outlinewidth": 0,
              "ticks": ""
             }
            },
            "type": "scatterpolargl"
           }
          ],
          "scatterternary": [
           {
            "marker": {
             "colorbar": {
              "outlinewidth": 0,
              "ticks": ""
             }
            },
            "type": "scatterternary"
           }
          ],
          "surface": [
           {
            "colorbar": {
             "outlinewidth": 0,
             "ticks": ""
            },
            "colorscale": [
             [
              0,
              "#0d0887"
             ],
             [
              0.1111111111111111,
              "#46039f"
             ],
             [
              0.2222222222222222,
              "#7201a8"
             ],
             [
              0.3333333333333333,
              "#9c179e"
             ],
             [
              0.4444444444444444,
              "#bd3786"
             ],
             [
              0.5555555555555556,
              "#d8576b"
             ],
             [
              0.6666666666666666,
              "#ed7953"
             ],
             [
              0.7777777777777778,
              "#fb9f3a"
             ],
             [
              0.8888888888888888,
              "#fdca26"
             ],
             [
              1,
              "#f0f921"
             ]
            ],
            "type": "surface"
           }
          ],
          "table": [
           {
            "cells": {
             "fill": {
              "color": "#EBF0F8"
             },
             "line": {
              "color": "white"
             }
            },
            "header": {
             "fill": {
              "color": "#C8D4E3"
             },
             "line": {
              "color": "white"
             }
            },
            "type": "table"
           }
          ]
         },
         "layout": {
          "annotationdefaults": {
           "arrowcolor": "#2a3f5f",
           "arrowhead": 0,
           "arrowwidth": 1
          },
          "autotypenumbers": "strict",
          "coloraxis": {
           "colorbar": {
            "outlinewidth": 0,
            "ticks": ""
           }
          },
          "colorscale": {
           "diverging": [
            [
             0,
             "#8e0152"
            ],
            [
             0.1,
             "#c51b7d"
            ],
            [
             0.2,
             "#de77ae"
            ],
            [
             0.3,
             "#f1b6da"
            ],
            [
             0.4,
             "#fde0ef"
            ],
            [
             0.5,
             "#f7f7f7"
            ],
            [
             0.6,
             "#e6f5d0"
            ],
            [
             0.7,
             "#b8e186"
            ],
            [
             0.8,
             "#7fbc41"
            ],
            [
             0.9,
             "#4d9221"
            ],
            [
             1,
             "#276419"
            ]
           ],
           "sequential": [
            [
             0,
             "#0d0887"
            ],
            [
             0.1111111111111111,
             "#46039f"
            ],
            [
             0.2222222222222222,
             "#7201a8"
            ],
            [
             0.3333333333333333,
             "#9c179e"
            ],
            [
             0.4444444444444444,
             "#bd3786"
            ],
            [
             0.5555555555555556,
             "#d8576b"
            ],
            [
             0.6666666666666666,
             "#ed7953"
            ],
            [
             0.7777777777777778,
             "#fb9f3a"
            ],
            [
             0.8888888888888888,
             "#fdca26"
            ],
            [
             1,
             "#f0f921"
            ]
           ],
           "sequentialminus": [
            [
             0,
             "#0d0887"
            ],
            [
             0.1111111111111111,
             "#46039f"
            ],
            [
             0.2222222222222222,
             "#7201a8"
            ],
            [
             0.3333333333333333,
             "#9c179e"
            ],
            [
             0.4444444444444444,
             "#bd3786"
            ],
            [
             0.5555555555555556,
             "#d8576b"
            ],
            [
             0.6666666666666666,
             "#ed7953"
            ],
            [
             0.7777777777777778,
             "#fb9f3a"
            ],
            [
             0.8888888888888888,
             "#fdca26"
            ],
            [
             1,
             "#f0f921"
            ]
           ]
          },
          "colorway": [
           "#636efa",
           "#EF553B",
           "#00cc96",
           "#ab63fa",
           "#FFA15A",
           "#19d3f3",
           "#FF6692",
           "#B6E880",
           "#FF97FF",
           "#FECB52"
          ],
          "font": {
           "color": "#2a3f5f"
          },
          "geo": {
           "bgcolor": "white",
           "lakecolor": "white",
           "landcolor": "#E5ECF6",
           "showlakes": true,
           "showland": true,
           "subunitcolor": "white"
          },
          "hoverlabel": {
           "align": "left"
          },
          "hovermode": "closest",
          "mapbox": {
           "style": "light"
          },
          "paper_bgcolor": "white",
          "plot_bgcolor": "#E5ECF6",
          "polar": {
           "angularaxis": {
            "gridcolor": "white",
            "linecolor": "white",
            "ticks": ""
           },
           "bgcolor": "#E5ECF6",
           "radialaxis": {
            "gridcolor": "white",
            "linecolor": "white",
            "ticks": ""
           }
          },
          "scene": {
           "xaxis": {
            "backgroundcolor": "#E5ECF6",
            "gridcolor": "white",
            "gridwidth": 2,
            "linecolor": "white",
            "showbackground": true,
            "ticks": "",
            "zerolinecolor": "white"
           },
           "yaxis": {
            "backgroundcolor": "#E5ECF6",
            "gridcolor": "white",
            "gridwidth": 2,
            "linecolor": "white",
            "showbackground": true,
            "ticks": "",
            "zerolinecolor": "white"
           },
           "zaxis": {
            "backgroundcolor": "#E5ECF6",
            "gridcolor": "white",
            "gridwidth": 2,
            "linecolor": "white",
            "showbackground": true,
            "ticks": "",
            "zerolinecolor": "white"
           }
          },
          "shapedefaults": {
           "line": {
            "color": "#2a3f5f"
           }
          },
          "ternary": {
           "aaxis": {
            "gridcolor": "white",
            "linecolor": "white",
            "ticks": ""
           },
           "baxis": {
            "gridcolor": "white",
            "linecolor": "white",
            "ticks": ""
           },
           "bgcolor": "#E5ECF6",
           "caxis": {
            "gridcolor": "white",
            "linecolor": "white",
            "ticks": ""
           }
          },
          "title": {
           "x": 0.05
          },
          "xaxis": {
           "automargin": true,
           "gridcolor": "white",
           "linecolor": "white",
           "ticks": "",
           "title": {
            "standoff": 15
           },
           "zerolinecolor": "white",
           "zerolinewidth": 2
          },
          "yaxis": {
           "automargin": true,
           "gridcolor": "white",
           "linecolor": "white",
           "ticks": "",
           "title": {
            "standoff": 15
           },
           "zerolinecolor": "white",
           "zerolinewidth": 2
          }
         }
        },
        "xaxis": {
         "anchor": "y",
         "domain": [
          0,
          1
         ],
         "title": {
          "text": "graph"
         }
        },
        "yaxis": {
         "anchor": "x",
         "domain": [
          0,
          1
         ],
         "title": {
          "text": "sum of n_covered"
         }
        }
       }
      },
      "text/html": [
       "<div>                            <div id=\"6a29ee94-e491-42dc-82be-e34e9dcbd555\" class=\"plotly-graph-div\" style=\"height:400px; width:100%;\"></div>            <script type=\"text/javascript\">                require([\"plotly\"], function(Plotly) {                    window.PLOTLYENV=window.PLOTLYENV || {};                                    if (document.getElementById(\"6a29ee94-e491-42dc-82be-e34e9dcbd555\")) {                    Plotly.newPlot(                        \"6a29ee94-e491-42dc-82be-e34e9dcbd555\",                        [{\"alignmentgroup\": \"True\", \"bingroup\": \"x\", \"histfunc\": \"sum\", \"hovertemplate\": \"model=GAT<br>graph=%{x}<br>sum of n_covered=%{y}<extra></extra>\", \"legendgroup\": \"GAT\", \"marker\": {\"color\": \"#636efa\"}, \"name\": \"GAT\", \"offsetgroup\": \"GAT\", \"orientation\": \"v\", \"showlegend\": true, \"type\": \"histogram\", \"x\": [\"dolphins\", \"karate\", \"football\", \"jazz\", \"socfb-nips-ego\", \"socfb-Mich67\", \"socfb-Brandeis99\", \"ego-facebook\", \"CA-GrQc\", \"ncstrlwg2\", \"CA-HepTh\", \"actors_dat\", \"CA-HepPh\", \"CA-AstroPh\", \"CA-CondMat\", \"soc-gplus\", \"Email-Enron\", \"musae_git\", \"gemsec_facebook_artist\", \"deezer_HR\", \"loc-gowalla_edges\", \"Amazon0302\", \"com-dblp\", \"Amazon0312\", \"Amazon0601\", \"Amazon0505\", \"com-youtube\"], \"xaxis\": \"x\", \"y\": [7, 13, 36, 57, 707, 1185, 1196, 723, 845, 1306, 1281, 2032, 1582, 3365, 3539, 4201, 4932, 10125, 3497, 13992, 26691, 53017, 68533, 82541, 4491, 76803, 63082], \"yaxis\": \"y\"}, {\"alignmentgroup\": \"True\", \"bingroup\": \"x\", \"histfunc\": \"sum\", \"hovertemplate\": \"model=GCN<br>graph=%{x}<br>sum of n_covered=%{y}<extra></extra>\", \"legendgroup\": \"GCN\", \"marker\": {\"color\": \"#EF553B\"}, \"name\": \"GCN\", \"offsetgroup\": \"GCN\", \"orientation\": \"v\", \"showlegend\": true, \"type\": \"histogram\", \"x\": [\"dolphins\", \"karate\", \"football\", \"jazz\", \"socfb-nips-ego\", \"socfb-Mich67\", \"socfb-Brandeis99\", \"ego-facebook\", \"CA-GrQc\", \"ncstrlwg2\", \"CA-HepTh\", \"actors_dat\", \"CA-HepPh\", \"CA-AstroPh\", \"CA-CondMat\", \"soc-gplus\", \"Email-Enron\", \"musae_git\", \"gemsec_facebook_artist\", \"deezer_HR\", \"loc-gowalla_edges\", \"Amazon0302\", \"com-dblp\", \"Amazon0312\", \"Amazon0601\", \"Amazon0505\", \"com-youtube\"], \"xaxis\": \"x\", \"y\": [4, 13, 31, 51, 293, 1176, 1362, 961, 960, 1317, 1410, 1554, 1614, 2402, 3669, 3195, 3743, 7803, 3876, 13785, 31243, 54046, 60971, 76890, 2371, 77545, 97527], \"yaxis\": \"y\"}, {\"alignmentgroup\": \"True\", \"bingroup\": \"x\", \"histfunc\": \"sum\", \"hovertemplate\": \"model=GraphConv<br>graph=%{x}<br>sum of n_covered=%{y}<extra></extra>\", \"legendgroup\": \"GraphConv\", \"marker\": {\"color\": \"#00cc96\"}, \"name\": \"GraphConv\", \"offsetgroup\": \"GraphConv\", \"orientation\": \"v\", \"showlegend\": true, \"type\": \"histogram\", \"x\": [\"dolphins\", \"karate\", \"football\", \"jazz\", \"socfb-nips-ego\", \"socfb-Mich67\", \"socfb-Brandeis99\", \"ego-facebook\", \"CA-GrQc\", \"ncstrlwg2\", \"CA-HepTh\", \"actors_dat\", \"CA-HepPh\", \"CA-AstroPh\", \"CA-CondMat\", \"soc-gplus\", \"Email-Enron\", \"musae_git\", \"gemsec_facebook_artist\", \"deezer_HR\", \"loc-gowalla_edges\", \"Amazon0302\", \"com-dblp\", \"Amazon0312\", \"Amazon0601\", \"Amazon0505\", \"com-youtube\"], \"xaxis\": \"x\", \"y\": [4, 11, 33, 42, 175, 1112, 1288, 963, 908, 1403, 1208, 1525, 1404, 2787, 4107, 3556, 2768, 8572, 3974, 13751, 16938, 56035, 70532, 87891, 1966, 85385, 36679], \"yaxis\": \"y\"}, {\"alignmentgroup\": \"True\", \"bingroup\": \"x\", \"histfunc\": \"sum\", \"hovertemplate\": \"model=GRAT<br>graph=%{x}<br>sum of n_covered=%{y}<extra></extra>\", \"legendgroup\": \"GRAT\", \"marker\": {\"color\": \"#ab63fa\"}, \"name\": \"GRAT\", \"offsetgroup\": \"GRAT\", \"orientation\": \"v\", \"showlegend\": true, \"type\": \"histogram\", \"x\": [\"dolphins\", \"karate\", \"football\", \"jazz\", \"socfb-nips-ego\", \"socfb-Mich67\", \"socfb-Brandeis99\", \"ego-facebook\", \"CA-GrQc\", \"ncstrlwg2\", \"CA-HepTh\", \"actors_dat\", \"CA-HepPh\", \"CA-AstroPh\", \"CA-CondMat\", \"soc-gplus\", \"Email-Enron\", \"musae_git\", \"gemsec_facebook_artist\", \"deezer_HR\", \"loc-gowalla_edges\", \"Amazon0302\", \"com-dblp\", \"Amazon0312\", \"Amazon0601\", \"Amazon0505\", \"com-youtube\"], \"xaxis\": \"x\", \"y\": [3, 13, 35, 61, 8, 1194, 1276, 94, 948, 1420, 1596, 2114, 2275, 4311, 4063, 1549, 3855, 7960, 804, 13911, 29615, 52859, 58628, 78118, 1668, 75931, 16988], \"yaxis\": \"y\"}],                        {\"barmode\": \"group\", \"height\": 400, \"legend\": {\"title\": {\"text\": \"model\"}, \"tracegroupgap\": 0}, \"margin\": {\"t\": 60}, \"template\": {\"data\": {\"bar\": [{\"error_x\": {\"color\": \"#2a3f5f\"}, \"error_y\": {\"color\": \"#2a3f5f\"}, \"marker\": {\"line\": {\"color\": \"#E5ECF6\", \"width\": 0.5}}, \"type\": \"bar\"}], \"barpolar\": [{\"marker\": {\"line\": {\"color\": \"#E5ECF6\", \"width\": 0.5}}, \"type\": \"barpolar\"}], \"carpet\": [{\"aaxis\": {\"endlinecolor\": \"#2a3f5f\", \"gridcolor\": \"white\", \"linecolor\": \"white\", \"minorgridcolor\": \"white\", \"startlinecolor\": \"#2a3f5f\"}, \"baxis\": {\"endlinecolor\": \"#2a3f5f\", \"gridcolor\": \"white\", \"linecolor\": \"white\", \"minorgridcolor\": \"white\", \"startlinecolor\": \"#2a3f5f\"}, \"type\": \"carpet\"}], \"choropleth\": [{\"colorbar\": {\"outlinewidth\": 0, \"ticks\": \"\"}, \"type\": \"choropleth\"}], \"contour\": [{\"colorbar\": {\"outlinewidth\": 0, \"ticks\": \"\"}, \"colorscale\": [[0.0, \"#0d0887\"], [0.1111111111111111, \"#46039f\"], [0.2222222222222222, \"#7201a8\"], [0.3333333333333333, \"#9c179e\"], [0.4444444444444444, \"#bd3786\"], [0.5555555555555556, \"#d8576b\"], [0.6666666666666666, \"#ed7953\"], [0.7777777777777778, \"#fb9f3a\"], [0.8888888888888888, \"#fdca26\"], [1.0, \"#f0f921\"]], \"type\": \"contour\"}], \"contourcarpet\": [{\"colorbar\": {\"outlinewidth\": 0, \"ticks\": \"\"}, \"type\": \"contourcarpet\"}], \"heatmap\": [{\"colorbar\": {\"outlinewidth\": 0, \"ticks\": \"\"}, \"colorscale\": [[0.0, \"#0d0887\"], [0.1111111111111111, \"#46039f\"], [0.2222222222222222, \"#7201a8\"], [0.3333333333333333, \"#9c179e\"], [0.4444444444444444, \"#bd3786\"], [0.5555555555555556, \"#d8576b\"], [0.6666666666666666, \"#ed7953\"], [0.7777777777777778, \"#fb9f3a\"], [0.8888888888888888, \"#fdca26\"], [1.0, \"#f0f921\"]], \"type\": \"heatmap\"}], \"heatmapgl\": [{\"colorbar\": {\"outlinewidth\": 0, \"ticks\": \"\"}, \"colorscale\": [[0.0, \"#0d0887\"], [0.1111111111111111, \"#46039f\"], [0.2222222222222222, \"#7201a8\"], [0.3333333333333333, \"#9c179e\"], [0.4444444444444444, \"#bd3786\"], [0.5555555555555556, \"#d8576b\"], [0.6666666666666666, \"#ed7953\"], [0.7777777777777778, \"#fb9f3a\"], [0.8888888888888888, \"#fdca26\"], [1.0, \"#f0f921\"]], \"type\": \"heatmapgl\"}], \"histogram\": [{\"marker\": {\"colorbar\": {\"outlinewidth\": 0, \"ticks\": \"\"}}, \"type\": \"histogram\"}], \"histogram2d\": [{\"colorbar\": {\"outlinewidth\": 0, \"ticks\": \"\"}, \"colorscale\": [[0.0, \"#0d0887\"], [0.1111111111111111, \"#46039f\"], [0.2222222222222222, \"#7201a8\"], [0.3333333333333333, \"#9c179e\"], [0.4444444444444444, \"#bd3786\"], [0.5555555555555556, \"#d8576b\"], [0.6666666666666666, \"#ed7953\"], [0.7777777777777778, \"#fb9f3a\"], [0.8888888888888888, \"#fdca26\"], [1.0, \"#f0f921\"]], \"type\": \"histogram2d\"}], \"histogram2dcontour\": [{\"colorbar\": {\"outlinewidth\": 0, \"ticks\": \"\"}, \"colorscale\": [[0.0, \"#0d0887\"], [0.1111111111111111, \"#46039f\"], [0.2222222222222222, \"#7201a8\"], [0.3333333333333333, \"#9c179e\"], [0.4444444444444444, \"#bd3786\"], [0.5555555555555556, \"#d8576b\"], [0.6666666666666666, \"#ed7953\"], [0.7777777777777778, \"#fb9f3a\"], [0.8888888888888888, \"#fdca26\"], [1.0, \"#f0f921\"]], \"type\": \"histogram2dcontour\"}], \"mesh3d\": [{\"colorbar\": {\"outlinewidth\": 0, \"ticks\": \"\"}, \"type\": \"mesh3d\"}], \"parcoords\": [{\"line\": {\"colorbar\": {\"outlinewidth\": 0, \"ticks\": \"\"}}, \"type\": \"parcoords\"}], \"pie\": [{\"automargin\": true, \"type\": \"pie\"}], \"scatter\": [{\"marker\": {\"colorbar\": {\"outlinewidth\": 0, \"ticks\": \"\"}}, \"type\": \"scatter\"}], \"scatter3d\": [{\"line\": {\"colorbar\": {\"outlinewidth\": 0, \"ticks\": \"\"}}, \"marker\": {\"colorbar\": {\"outlinewidth\": 0, \"ticks\": \"\"}}, \"type\": \"scatter3d\"}], \"scattercarpet\": [{\"marker\": {\"colorbar\": {\"outlinewidth\": 0, \"ticks\": \"\"}}, \"type\": \"scattercarpet\"}], \"scattergeo\": [{\"marker\": {\"colorbar\": {\"outlinewidth\": 0, \"ticks\": \"\"}}, \"type\": \"scattergeo\"}], \"scattergl\": [{\"marker\": {\"colorbar\": {\"outlinewidth\": 0, \"ticks\": \"\"}}, \"type\": \"scattergl\"}], \"scattermapbox\": [{\"marker\": {\"colorbar\": {\"outlinewidth\": 0, \"ticks\": \"\"}}, \"type\": \"scattermapbox\"}], \"scatterpolar\": [{\"marker\": {\"colorbar\": {\"outlinewidth\": 0, \"ticks\": \"\"}}, \"type\": \"scatterpolar\"}], \"scatterpolargl\": [{\"marker\": {\"colorbar\": {\"outlinewidth\": 0, \"ticks\": \"\"}}, \"type\": \"scatterpolargl\"}], \"scatterternary\": [{\"marker\": {\"colorbar\": {\"outlinewidth\": 0, \"ticks\": \"\"}}, \"type\": \"scatterternary\"}], \"surface\": [{\"colorbar\": {\"outlinewidth\": 0, \"ticks\": \"\"}, \"colorscale\": [[0.0, \"#0d0887\"], [0.1111111111111111, \"#46039f\"], [0.2222222222222222, \"#7201a8\"], [0.3333333333333333, \"#9c179e\"], [0.4444444444444444, \"#bd3786\"], [0.5555555555555556, \"#d8576b\"], [0.6666666666666666, \"#ed7953\"], [0.7777777777777778, \"#fb9f3a\"], [0.8888888888888888, \"#fdca26\"], [1.0, \"#f0f921\"]], \"type\": \"surface\"}], \"table\": [{\"cells\": {\"fill\": {\"color\": \"#EBF0F8\"}, \"line\": {\"color\": \"white\"}}, \"header\": {\"fill\": {\"color\": \"#C8D4E3\"}, \"line\": {\"color\": \"white\"}}, \"type\": \"table\"}]}, \"layout\": {\"annotationdefaults\": {\"arrowcolor\": \"#2a3f5f\", \"arrowhead\": 0, \"arrowwidth\": 1}, \"autotypenumbers\": \"strict\", \"coloraxis\": {\"colorbar\": {\"outlinewidth\": 0, \"ticks\": \"\"}}, \"colorscale\": {\"diverging\": [[0, \"#8e0152\"], [0.1, \"#c51b7d\"], [0.2, \"#de77ae\"], [0.3, \"#f1b6da\"], [0.4, \"#fde0ef\"], [0.5, \"#f7f7f7\"], [0.6, \"#e6f5d0\"], [0.7, \"#b8e186\"], [0.8, \"#7fbc41\"], [0.9, \"#4d9221\"], [1, \"#276419\"]], \"sequential\": [[0.0, \"#0d0887\"], [0.1111111111111111, \"#46039f\"], [0.2222222222222222, \"#7201a8\"], [0.3333333333333333, \"#9c179e\"], [0.4444444444444444, \"#bd3786\"], [0.5555555555555556, \"#d8576b\"], [0.6666666666666666, \"#ed7953\"], [0.7777777777777778, \"#fb9f3a\"], [0.8888888888888888, \"#fdca26\"], [1.0, \"#f0f921\"]], \"sequentialminus\": [[0.0, \"#0d0887\"], [0.1111111111111111, \"#46039f\"], [0.2222222222222222, \"#7201a8\"], [0.3333333333333333, \"#9c179e\"], [0.4444444444444444, \"#bd3786\"], [0.5555555555555556, \"#d8576b\"], [0.6666666666666666, \"#ed7953\"], [0.7777777777777778, \"#fb9f3a\"], [0.8888888888888888, \"#fdca26\"], [1.0, \"#f0f921\"]]}, \"colorway\": [\"#636efa\", \"#EF553B\", \"#00cc96\", \"#ab63fa\", \"#FFA15A\", \"#19d3f3\", \"#FF6692\", \"#B6E880\", \"#FF97FF\", \"#FECB52\"], \"font\": {\"color\": \"#2a3f5f\"}, \"geo\": {\"bgcolor\": \"white\", \"lakecolor\": \"white\", \"landcolor\": \"#E5ECF6\", \"showlakes\": true, \"showland\": true, \"subunitcolor\": \"white\"}, \"hoverlabel\": {\"align\": \"left\"}, \"hovermode\": \"closest\", \"mapbox\": {\"style\": \"light\"}, \"paper_bgcolor\": \"white\", \"plot_bgcolor\": \"#E5ECF6\", \"polar\": {\"angularaxis\": {\"gridcolor\": \"white\", \"linecolor\": \"white\", \"ticks\": \"\"}, \"bgcolor\": \"#E5ECF6\", \"radialaxis\": {\"gridcolor\": \"white\", \"linecolor\": \"white\", \"ticks\": \"\"}}, \"scene\": {\"xaxis\": {\"backgroundcolor\": \"#E5ECF6\", \"gridcolor\": \"white\", \"gridwidth\": 2, \"linecolor\": \"white\", \"showbackground\": true, \"ticks\": \"\", \"zerolinecolor\": \"white\"}, \"yaxis\": {\"backgroundcolor\": \"#E5ECF6\", \"gridcolor\": \"white\", \"gridwidth\": 2, \"linecolor\": \"white\", \"showbackground\": true, \"ticks\": \"\", \"zerolinecolor\": \"white\"}, \"zaxis\": {\"backgroundcolor\": \"#E5ECF6\", \"gridcolor\": \"white\", \"gridwidth\": 2, \"linecolor\": \"white\", \"showbackground\": true, \"ticks\": \"\", \"zerolinecolor\": \"white\"}}, \"shapedefaults\": {\"line\": {\"color\": \"#2a3f5f\"}}, \"ternary\": {\"aaxis\": {\"gridcolor\": \"white\", \"linecolor\": \"white\", \"ticks\": \"\"}, \"baxis\": {\"gridcolor\": \"white\", \"linecolor\": \"white\", \"ticks\": \"\"}, \"bgcolor\": \"#E5ECF6\", \"caxis\": {\"gridcolor\": \"white\", \"linecolor\": \"white\", \"ticks\": \"\"}}, \"title\": {\"x\": 0.05}, \"xaxis\": {\"automargin\": true, \"gridcolor\": \"white\", \"linecolor\": \"white\", \"ticks\": \"\", \"title\": {\"standoff\": 15}, \"zerolinecolor\": \"white\", \"zerolinewidth\": 2}, \"yaxis\": {\"automargin\": true, \"gridcolor\": \"white\", \"linecolor\": \"white\", \"ticks\": \"\", \"title\": {\"standoff\": 15}, \"zerolinecolor\": \"white\", \"zerolinewidth\": 2}}}, \"xaxis\": {\"anchor\": \"y\", \"domain\": [0.0, 1.0], \"title\": {\"text\": \"graph\"}}, \"yaxis\": {\"anchor\": \"x\", \"domain\": [0.0, 1.0], \"title\": {\"text\": \"sum of n_covered\"}}},                        {\"responsive\": true}                    ).then(function(){\n",
       "                            \n",
       "var gd = document.getElementById('6a29ee94-e491-42dc-82be-e34e9dcbd555');\n",
       "var x = new MutationObserver(function (mutations, observer) {{\n",
       "        var display = window.getComputedStyle(gd).display;\n",
       "        if (!display || display === 'none') {{\n",
       "            console.log([gd, 'removed!']);\n",
       "            Plotly.purge(gd);\n",
       "            observer.disconnect();\n",
       "        }}\n",
       "}});\n",
       "\n",
       "// Listen for the removal of the full notebook cells\n",
       "var notebookContainer = gd.closest('#notebook-container');\n",
       "if (notebookContainer) {{\n",
       "    x.observe(notebookContainer, {childList: true});\n",
       "}}\n",
       "\n",
       "// Listen for the clearing of the current output cell\n",
       "var outputEl = gd.closest('.output');\n",
       "if (outputEl) {{\n",
       "    x.observe(outputEl, {childList: true});\n",
       "}}\n",
       "\n",
       "                        })                };                });            </script>        </div>"
      ]
     },
     "metadata": {},
     "output_type": "display_data"
    }
   ],
   "source": [
    "fig = px.histogram(Full, x=\"graph\", y=\"n_covered\",\n",
    "             color='model', barmode='group',\n",
    "             height=400)\n",
    "fig.show()"
   ]
  },
  {
   "cell_type": "code",
   "execution_count": 177,
   "id": "952613d0",
   "metadata": {
    "ExecuteTime": {
     "end_time": "2022-11-02T07:40:19.207766Z",
     "start_time": "2022-11-02T07:40:19.170036Z"
    }
   },
   "outputs": [
    {
     "name": "stderr",
     "output_type": "stream",
     "text": [
      "C:\\Users\\Jairo Enrique\\AppData\\Local\\Temp\\ipykernel_6052\\858979467.py:1: FutureWarning:\n",
      "\n",
      "The default value of numeric_only in DataFrameGroupBy.mean is deprecated. In a future version, numeric_only will default to False. Either specify numeric_only or select only columns which should be valid for the function.\n",
      "\n"
     ]
    },
    {
     "data": {
      "text/html": [
       "<div>\n",
       "<style scoped>\n",
       "    .dataframe tbody tr th:only-of-type {\n",
       "        vertical-align: middle;\n",
       "    }\n",
       "\n",
       "    .dataframe tbody tr th {\n",
       "        vertical-align: top;\n",
       "    }\n",
       "\n",
       "    .dataframe thead th {\n",
       "        text-align: right;\n",
       "    }\n",
       "</style>\n",
       "<table border=\"1\" class=\"dataframe\">\n",
       "  <thead>\n",
       "    <tr style=\"text-align: right;\">\n",
       "      <th></th>\n",
       "      <th>Unnamed: 0</th>\n",
       "      <th>seed</th>\n",
       "      <th>threshold</th>\n",
       "      <th>n_covered</th>\n",
       "      <th>n</th>\n",
       "      <th>coverage</th>\n",
       "      <th>t_mean</th>\n",
       "    </tr>\n",
       "    <tr>\n",
       "      <th>model</th>\n",
       "      <th></th>\n",
       "      <th></th>\n",
       "      <th></th>\n",
       "      <th></th>\n",
       "      <th></th>\n",
       "      <th></th>\n",
       "      <th></th>\n",
       "    </tr>\n",
       "  </thead>\n",
       "  <tbody>\n",
       "    <tr>\n",
       "      <th>GAT</th>\n",
       "      <td>7.0</td>\n",
       "      <td>13.0</td>\n",
       "      <td>0.5</td>\n",
       "      <td>15917.740741</td>\n",
       "      <td>126981.222222</td>\n",
       "      <td>0.190563</td>\n",
       "      <td>538.946634</td>\n",
       "    </tr>\n",
       "    <tr>\n",
       "      <th>GCN</th>\n",
       "      <td>22.0</td>\n",
       "      <td>13.0</td>\n",
       "      <td>0.5</td>\n",
       "      <td>16659.703704</td>\n",
       "      <td>126981.222222</td>\n",
       "      <td>0.176601</td>\n",
       "      <td>522.504691</td>\n",
       "    </tr>\n",
       "    <tr>\n",
       "      <th>GRAT</th>\n",
       "      <td>13.0</td>\n",
       "      <td>13.0</td>\n",
       "      <td>0.5</td>\n",
       "      <td>13381.370370</td>\n",
       "      <td>126981.222222</td>\n",
       "      <td>0.168183</td>\n",
       "      <td>583.021697</td>\n",
       "    </tr>\n",
       "    <tr>\n",
       "      <th>GraphConv</th>\n",
       "      <td>37.0</td>\n",
       "      <td>13.0</td>\n",
       "      <td>0.5</td>\n",
       "      <td>15000.629630</td>\n",
       "      <td>126981.222222</td>\n",
       "      <td>0.170406</td>\n",
       "      <td>487.741261</td>\n",
       "    </tr>\n",
       "  </tbody>\n",
       "</table>\n",
       "</div>"
      ],
      "text/plain": [
       "           Unnamed: 0  seed  threshold     n_covered              n  coverage  \\\n",
       "model                                                                           \n",
       "GAT               7.0  13.0        0.5  15917.740741  126981.222222  0.190563   \n",
       "GCN              22.0  13.0        0.5  16659.703704  126981.222222  0.176601   \n",
       "GRAT             13.0  13.0        0.5  13381.370370  126981.222222  0.168183   \n",
       "GraphConv        37.0  13.0        0.5  15000.629630  126981.222222  0.170406   \n",
       "\n",
       "               t_mean  \n",
       "model                  \n",
       "GAT        538.946634  \n",
       "GCN        522.504691  \n",
       "GRAT       583.021697  \n",
       "GraphConv  487.741261  "
      ]
     },
     "execution_count": 177,
     "metadata": {},
     "output_type": "execute_result"
    }
   ],
   "source": [
    "Full.groupby(by = \"model\").mean()"
   ]
  },
  {
   "cell_type": "markdown",
   "id": "d2b7e78b",
   "metadata": {},
   "source": [
    "## Por mejor solución"
   ]
  },
  {
   "cell_type": "code",
   "execution_count": 194,
   "id": "0bac5d8c",
   "metadata": {
    "ExecuteTime": {
     "end_time": "2022-11-02T07:43:25.776920Z",
     "start_time": "2022-11-02T07:43:25.700690Z"
    }
   },
   "outputs": [],
   "source": [
    "models_name = Full.model.unique()\n",
    "Dict = {m: i for m, i in zip(models_name, np.arange(models_name.shape[0]))}\n",
    "\n",
    "MT = np.zeros((models_name.shape[0], models_name.shape[0]))\n",
    "for graph in Full.graph.unique():\n",
    "    \n",
    "    Temp = np.array(Full.query(f\"graph == '{graph}'\").sort_values(by = \"n_covered\", ascending=False).model)\n",
    "    for m in range(Temp.shape[0]):\n",
    "\n",
    "        if (m + 1) == Temp.shape[0]:\n",
    "            MT[ Dict[ Temp[m] ] ][ Dict[ Temp[m] ] ] += 1\n",
    "            continue\n",
    "        MT[ Dict[ Temp[m] ] ][ Dict[ Temp[m + 1] ] ] += 1\n",
    "MT_ = MT / np.sum(MT, axis = 0)"
   ]
  },
  {
   "cell_type": "code",
   "execution_count": 195,
   "id": "051dc7e2",
   "metadata": {
    "ExecuteTime": {
     "end_time": "2022-11-02T07:43:26.012238Z",
     "start_time": "2022-11-02T07:43:26.005274Z"
    }
   },
   "outputs": [
    {
     "name": "stdout",
     "output_type": "stream",
     "text": [
      "[0.24612398 0.25670796 0.24445576 0.2527123 ] \n",
      " ['GAT' 'GCN' 'GraphConv' 'GRAT']\n"
     ]
    }
   ],
   "source": [
    "SPD_best = np.ones(MT_.shape[0])/MT_.shape[0] # initial distirbution\n",
    "for _ in range(100):\n",
    "    SPD_best = np.dot(MT_, SPD_best.T)\n",
    "print(SPD_best, '\\n',models_name)"
   ]
  },
  {
   "cell_type": "code",
   "execution_count": 212,
   "id": "af86ad0f",
   "metadata": {
    "ExecuteTime": {
     "end_time": "2022-11-02T07:46:47.816767Z",
     "start_time": "2022-11-02T07:46:47.796814Z"
    }
   },
   "outputs": [
    {
     "data": {
      "text/plain": [
       "array(['GCN', 'GRAT', 'GAT', 'GraphConv'], dtype=object)"
      ]
     },
     "execution_count": 212,
     "metadata": {},
     "output_type": "execute_result"
    }
   ],
   "source": [
    "models_name[np.argsort(-SPD_best)]"
   ]
  },
  {
   "cell_type": "code",
   "execution_count": 181,
   "id": "1bbed3e8",
   "metadata": {
    "ExecuteTime": {
     "end_time": "2022-11-02T07:40:59.593603Z",
     "start_time": "2022-11-02T07:40:59.346199Z"
    }
   },
   "outputs": [
    {
     "data": {
      "text/plain": [
       "Text(0.5, 1.0, 'Heatmap for best solution')"
      ]
     },
     "execution_count": 181,
     "metadata": {},
     "output_type": "execute_result"
    },
    {
     "data": {
      "image/png": "[encoded data removed]",
      "text/plain": [
       "<Figure size 640x480 with 2 Axes>"
      ]
     },
     "metadata": {},
     "output_type": "display_data"
    }
   ],
   "source": [
    "sns.heatmap(MT_, annot = True, xticklabels = models_name, yticklabels = models_name)\n",
    "plt.title(\"Heatmap for best solution\")"
   ]
  },
  {
   "cell_type": "markdown",
   "id": "f5715266",
   "metadata": {},
   "source": [
    "## Por tiempo"
   ]
  },
  {
   "cell_type": "code",
   "execution_count": 208,
   "id": "f94933df",
   "metadata": {
    "ExecuteTime": {
     "end_time": "2022-11-02T07:45:20.979556Z",
     "start_time": "2022-11-02T07:45:20.908752Z"
    }
   },
   "outputs": [],
   "source": [
    "MT = np.zeros((models_name.shape[0], models_name.shape[0]))\n",
    "for graph in Full.graph.unique():\n",
    "    Temp = np.array(Full.query(f\"graph == '{graph}'\").sort_values(by = \"t_mean\", ascending=False).model)\n",
    "    for m in range(Temp.shape[0]):\n",
    "\n",
    "        if (m + 1) == Temp.shape[0]:\n",
    "            MT[ Dict[ Temp[m] ] ][ Dict[ Temp[m] ] ] += 1\n",
    "            continue\n",
    "        MT[ Dict[ Temp[m] ] ][ Dict[ Temp[m + 1] ] ] += 1\n",
    "MT_ = MT / np.sum(MT, axis = 0)"
   ]
  },
  {
   "cell_type": "code",
   "execution_count": 209,
   "id": "94d81e18",
   "metadata": {
    "ExecuteTime": {
     "end_time": "2022-11-02T07:45:21.243727Z",
     "start_time": "2022-11-02T07:45:21.235697Z"
    }
   },
   "outputs": [
    {
     "name": "stdout",
     "output_type": "stream",
     "text": [
      "[0.30050102 0.18684683 0.22795364 0.2846985 ] \n",
      " ['GAT' 'GCN' 'GraphConv' 'GRAT']\n"
     ]
    }
   ],
   "source": [
    "SPD_time = np.ones(MT_.shape[0])/MT_.shape[0] # initial distirbution\n",
    "for _ in range(100):\n",
    "    SPD_time = np.dot(MT_, SPD_time)\n",
    "print(SPD_time, '\\n',models_name)"
   ]
  },
  {
   "cell_type": "code",
   "execution_count": 210,
   "id": "46ab724c",
   "metadata": {
    "ExecuteTime": {
     "end_time": "2022-11-02T07:45:21.607311Z",
     "start_time": "2022-11-02T07:45:21.587315Z"
    }
   },
   "outputs": [
    {
     "data": {
      "text/plain": [
       "array(['GAT', 'GRAT', 'GraphConv', 'GCN'], dtype=object)"
      ]
     },
     "execution_count": 210,
     "metadata": {},
     "output_type": "execute_result"
    }
   ],
   "source": [
    "models_name[np.argsort(-SPD_time)]"
   ]
  },
  {
   "cell_type": "code",
   "execution_count": 211,
   "id": "5d163a20",
   "metadata": {
    "ExecuteTime": {
     "end_time": "2022-11-02T07:45:22.724409Z",
     "start_time": "2022-11-02T07:45:22.505707Z"
    }
   },
   "outputs": [
    {
     "data": {
      "text/plain": [
       "Text(0.5, 1.0, 'Heatmap for fastest solution')"
      ]
     },
     "execution_count": 211,
     "metadata": {},
     "output_type": "execute_result"
    },
    {
     "data": {
      "image/png": "[encoded data removed]",
      "text/plain": [
       "<Figure size 640x480 with 2 Axes>"
      ]
     },
     "metadata": {},
     "output_type": "display_data"
    }
   ],
   "source": [
    "sns.heatmap(MT_, annot = True, xticklabels = models_name, yticklabels = models_name)\n",
    "plt.title(\"Heatmap for fastest solution\")"
   ]
  },
  {
   "cell_type": "markdown",
   "id": "44bdda17",
   "metadata": {},
   "source": [
    "## All together"
   ]
  },
  {
   "cell_type": "code",
   "execution_count": 215,
   "id": "8d920673",
   "metadata": {
    "ExecuteTime": {
     "end_time": "2022-11-02T07:49:02.175216Z",
     "start_time": "2022-11-02T07:49:02.164245Z"
    }
   },
   "outputs": [
    {
     "name": "stdout",
     "output_type": "stream",
     "text": [
      "[0.24612 0.25671 0.24446 0.25271]\n",
      "['GAT' 'GCN' 'GraphConv' 'GRAT']\n",
      "\n",
      "----------- Best solution -----------\n",
      "1  -  GCN\n",
      "2  -  GRAT\n",
      "3  -  GAT\n",
      "4  -  GraphConv\n"
     ]
    }
   ],
   "source": [
    "print(np.round(SPD_best, 5))\n",
    "print(models_name)\n",
    "print()\n",
    "print(\"----------- Best solution -----------\")\n",
    "c = 1\n",
    "for g in np.argsort(-SPD_best):\n",
    "    print(c,\" - \", models_name[g])\n",
    "    c+=1"
   ]
  },
  {
   "cell_type": "code",
   "execution_count": 216,
   "id": "c9ad5e0d",
   "metadata": {
    "ExecuteTime": {
     "end_time": "2022-11-02T07:49:02.399328Z",
     "start_time": "2022-11-02T07:49:02.387328Z"
    }
   },
   "outputs": [
    {
     "name": "stdout",
     "output_type": "stream",
     "text": [
      "[0.3005  0.18685 0.22795 0.2847 ]\n",
      "['GAT' 'GCN' 'GraphConv' 'GRAT']\n",
      "\n",
      "----------- Time -----------\n",
      "1  -  GAT\n",
      "2  -  GRAT\n",
      "3  -  GraphConv\n",
      "4  -  GCN\n"
     ]
    }
   ],
   "source": [
    "print(np.round(SPD_time, 5))\n",
    "print(models_name)\n",
    "print()\n",
    "print(\"----------- Time -----------\")\n",
    "c = 1\n",
    "for g in np.argsort(-SPD_time):\n",
    "    print(c,\" - \", models_name[g])\n",
    "    c+=1"
   ]
  },
  {
   "cell_type": "code",
   "execution_count": null,
   "id": "3042004f",
   "metadata": {},
   "outputs": [],
   "source": []
  }
 ],
 "metadata": {
  "hide_input": false,
  "kernelspec": {
   "display_name": "Python 3 (ipykernel)",
   "language": "python",
   "name": "python3"
  },
  "language_info": {
   "codemirror_mode": {
    "name": "ipython",
    "version": 3
   },
   "file_extension": ".py",
   "mimetype": "text/x-python",
   "name": "python",
   "nbconvert_exporter": "python",
   "pygments_lexer": "ipython3",
   "version": "3.8.5"
  },
  "varInspector": {
   "cols": {
    "lenName": 16,
    "lenType": 16,
    "lenVar": 40
   },
   "kernels_config": {
    "python": {
     "delete_cmd_postfix": "",
     "delete_cmd_prefix": "del ",
     "library": "var_list.py",
     "varRefreshCmd": "print(var_dic_list())"
    },
    "r": {
     "delete_cmd_postfix": ") ",
     "delete_cmd_prefix": "rm(",
     "library": "var_list.r",
     "varRefreshCmd": "cat(var_dic_list()) "
    }
   },
   "types_to_exclude": [
    "module",
    "function",
    "builtin_function_or_method",
    "instance",
    "_Feature"
   ],
   "window_display": false
  }
 },
 "nbformat": 4,
 "nbformat_minor": 5
}
