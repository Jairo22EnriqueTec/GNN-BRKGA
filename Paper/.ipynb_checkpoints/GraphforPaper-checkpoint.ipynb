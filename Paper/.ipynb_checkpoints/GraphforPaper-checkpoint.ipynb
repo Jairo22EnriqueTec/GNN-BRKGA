{
 "cells": [
  {
   "cell_type": "code",
   "execution_count": 74,
   "id": "7e8a85d5",
   "metadata": {
    "ExecuteTime": {
     "end_time": "2023-01-25T15:24:05.928208Z",
     "start_time": "2023-01-25T15:24:05.912571Z"
    }
   },
   "outputs": [],
   "source": [
    "import networkx as nx\n",
    "import sys\n",
    "sys.path.append(\"../FastCover/\")\n",
    "import pandas as pd\n",
    "from utils import *\n",
    "import matplotlib.pyplot as plt"
   ]
  },
  {
   "cell_type": "code",
   "execution_count": 23,
   "id": "f6afd170",
   "metadata": {
    "ExecuteTime": {
     "end_time": "2023-01-25T15:02:12.527864Z",
     "start_time": "2023-01-25T15:02:12.491459Z"
    }
   },
   "outputs": [],
   "source": [
    "def getDimParams(model):\n",
    "    # Returns the number of parameters needed\n",
    "    sum_ = 0\n",
    "    for name, param in model.named_parameters():\n",
    "        m = 1\n",
    "        #print(name, param.shape)\n",
    "        #print(np.max(param.detach().numpy()), np.min(param.detach().numpy()))\n",
    "        for n in param.shape:\n",
    "            m*=n\n",
    "        sum_ += m\n",
    "    return sum_ \n",
    "\n",
    "def getStateDict(model, params):\n",
    "    # reensamble the original state dict with new values\n",
    "    sd = model.state_dict()\n",
    "    sum_ = 0\n",
    "    from_ = 0\n",
    "\n",
    "    for name, param in model.named_parameters():\n",
    "        m = 1\n",
    "        for n in param.shape:\n",
    "            m*=n\n",
    "        #print(m)\n",
    "        #print(vals[from_:from_+m].reshape(param.shape).shape)\n",
    "        sd[name] = torch.tensor(params[from_:from_+m].reshape(param.shape))\n",
    "        from_ += m\n",
    "        #print(from_)\n",
    "    return sd\n",
    "\n",
    "def SimpleweightedCrossEntropy(y, p, w):\n",
    "    return np.sum(y*(1-p)*w[0] + (1-y)*p*w[1]) / len(y)\n",
    "\n",
    "def Func(X, MDH = False, alpha = 0.7):\n",
    "    # Objective function\n",
    "    \n",
    "    if not MDH:\n",
    "        sd = getStateDict(Models[i], X)\n",
    "        Models[i].load_state_dict(sd)\n",
    "    else:\n",
    "        alpha = 1\n",
    "        \n",
    "    \n",
    "    value = 0.0\n",
    "    loss = 0.0\n",
    "    \n",
    "    for ig, data in enumerate(Graphs_Train):\n",
    "        \n",
    "        if MDH:\n",
    "            y_pred = None\n",
    "        else:\n",
    "            data = data.to(device)\n",
    "            y_pred = torch.exp(Models[i](data)).T[1]\n",
    "        \n",
    "        \n",
    "        ts = len(FindMinimumTarget(graphs[ig], out = y_pred, threshold = 0.5)[0])\n",
    "        \n",
    "        val = ts / graphs[ig].number_of_nodes()\n",
    "        \n",
    "        value += val\n",
    "        \n",
    "        #\"\"\"\n",
    "        if not MDH:\n",
    "            zeros = np.zeros(data.num_nodes)\n",
    "            zeros[torch.topk(y_pred, ts)[1]] = 1\n",
    "            weigth_minoritaria = np.sum(zeros==0)/np.sum(zeros)\n",
    "            loss += SimpleweightedCrossEntropy(zeros, y_pred.detach().numpy(), [weigth_minoritaria, 1])\n",
    "        \n",
    "        #\"\"\"\n",
    "        \n",
    "        \n",
    "    \n",
    "    value /= len(Graphs_Train) \n",
    "    loss /= len(Graphs_Train) \n",
    "    #return value\n",
    "    \n",
    "    return value * (alpha) + loss * (1 - alpha)\n",
    "\n",
    "\n",
    "def getDataSet(file, file_graph, scale, remove_BC = False):\n",
    "    \n",
    "    G = loadGraph(file_graph)\n",
    "    Features = []\n",
    "    temp = []\n",
    "    try:\n",
    "        with open(file) as f:\n",
    "            c = 0\n",
    "\n",
    "            for line in f.readlines()[1:]:\n",
    "                c+=1\n",
    "                feats = np.array(line.split(\",\"), dtype = float)\n",
    "                temp.append(feats)\n",
    "        temp = np.array(temp)\n",
    "        if remove_BC:\n",
    "            temp = np.delete(temp, 0, 1)\n",
    "        Features.append(temp)\n",
    "    except Exception as e:\n",
    "        print(er)\n",
    "        print(line)\n",
    "        print(c)\n",
    "        print(e)\n",
    "\n",
    "    Graphs_Train = Convert2DataSet([G], [[]], feats = Features, scale = scale)\n",
    "\n",
    "    return Graphs_Train"
   ]
  },
  {
   "cell_type": "code",
   "execution_count": 49,
   "id": "933b9422",
   "metadata": {
    "ExecuteTime": {
     "end_time": "2023-01-25T15:08:57.489648Z",
     "start_time": "2023-01-25T15:08:57.470560Z"
    }
   },
   "outputs": [],
   "source": [
    "import torch.nn as nn\n",
    "import torch_geometric.nn as geom_nn\n",
    "import torch.nn.functional as F\n",
    "import torch\n",
    "from torch_geometric.nn import Linear\n",
    "\n",
    "class GNN(torch.nn.Module):\n",
    "    def __init__(self, num_node_features, num_classes, name_layer = \"SAGE\"):\n",
    "        super().__init__()\n",
    "        self.name = name_layer\n",
    "        layer = None\n",
    "        hidden_feats = 8\n",
    "        \n",
    "        if name_layer == \"SAGE\":\n",
    "            layer = geom_nn.SAGEConv\n",
    "            \n",
    "            self.conv1 = layer(num_node_features, num_classes)\n",
    "            #self.conv3 = layer(hidden_feats, num_classes)\n",
    "            \n",
    "        elif name_layer == \"GAT\":\n",
    "            layer = geom_nn.GATConv\n",
    "            \n",
    "            self.conv1 = layer(num_node_features, num_classes)\n",
    "            #self.conv3 = layer(hidden_feats, num_classes)\n",
    "            \n",
    "        elif name_layer == \"GCN\":\n",
    "            layer = geom_nn.GCNConv\n",
    "            \n",
    "            self.conv1 = layer(num_node_features, num_classes)\n",
    "            #self.conv1 = layer(num_node_features, hidden_feats)\n",
    "            #self.conv3 = Linear(hidden_feats, num_classes)\n",
    "            \n",
    "        elif name_layer == \"GraphConv\":\n",
    "            layer = geom_nn.GraphConv\n",
    "            \n",
    "            self.conv1 = layer(num_node_features, num_classes)\n",
    "            \n",
    "        elif name_layer == \"SGConv\":\n",
    "            layer = geom_nn.SGConv\n",
    "            \n",
    "            self.conv1 = layer(num_node_features, num_classes)\n",
    "            #self.conv3 = Linear(hidden_feats, num_classes)\n",
    "        \n",
    "        \n",
    "        else:\n",
    "            print(\"Nanais\")\n",
    "    \n",
    "        \n",
    "        #self.conv2 = layer(hidden_feats, hidden_feats)\n",
    "        #self.conv3 = Linear(hidden_feats, num_classes)\n",
    "\n",
    "    def forward(self, data):\n",
    "        x, edge_index = data.x, data.edge_index\n",
    "\n",
    "        x = self.conv1(x, edge_index)\n",
    "        x = F.relu(x)\n",
    "        #x = self.conv3(x, edge_index)\n",
    "        #x = F.relu(x)\n",
    "        #x = F.dropout(x, training=self.training)\n",
    "        #x = self.conv2(x, edge_index)\n",
    "\n",
    "        #return F.log_softmax(self.conv3(x), dim=1)\n",
    "        #if self.name in ['GraphConv', 'GCN', 'SAGE']:\n",
    "        return F.log_softmax(x, dim=1)\n",
    "        #else:\n",
    "        #    return F.log_softmax(self.conv3(x), dim=1)\n",
    "        "
   ]
  },
  {
   "cell_type": "code",
   "execution_count": 59,
   "id": "e389d25d",
   "metadata": {
    "ExecuteTime": {
     "end_time": "2023-01-25T15:09:12.619096Z",
     "start_time": "2023-01-25T15:09:12.596965Z"
    }
   },
   "outputs": [],
   "source": [
    "torch.manual_seed(13)\n",
    "layers = [\"SAGE\"]\n",
    "Models = [GNN(5, 2, name_layer = layer_name) for \n",
    "         layer_name in layers]"
   ]
  },
  {
   "cell_type": "code",
   "execution_count": 60,
   "id": "af08fc0c",
   "metadata": {
    "ExecuteTime": {
     "end_time": "2023-01-25T15:09:14.220126Z",
     "start_time": "2023-01-25T15:09:14.207608Z"
    }
   },
   "outputs": [
    {
     "data": {
      "text/plain": [
       "OrderedDict([('conv1.lin_l.weight',\n",
       "              tensor([[-0.0867,  0.2864,  0.4286, -0.1540, -0.0826],\n",
       "                      [ 0.2036, -0.0442, -0.2385, -0.4105, -0.2288]])),\n",
       "             ('conv1.lin_l.bias', tensor([0.0963, 0.2928])),\n",
       "             ('conv1.lin_r.weight',\n",
       "              tensor([[ 0.4300, -0.2047, -0.0808, -0.1787,  0.2088],\n",
       "                      [-0.3054,  0.4187, -0.3986,  0.2524, -0.0794]]))])"
      ]
     },
     "execution_count": 60,
     "metadata": {},
     "output_type": "execute_result"
    }
   ],
   "source": [
    "Models[0].state_dict()"
   ]
  },
  {
   "cell_type": "code",
   "execution_count": 61,
   "id": "89f0f085",
   "metadata": {
    "ExecuteTime": {
     "end_time": "2023-01-25T15:09:14.720201Z",
     "start_time": "2023-01-25T15:09:14.710167Z"
    }
   },
   "outputs": [],
   "source": [
    "ps = f\"../Models/runs/scalefree/Pruebas_GA/Allfeatures/SAGE_iter_100.txt\" \n",
    "\n",
    "params = []\n",
    "with open(ps) as f:\n",
    "    for line in f.readlines():\n",
    "        params.append(float(line.replace(\"\\n\",\"\")))\n",
    "params = np.array(params)"
   ]
  },
  {
   "cell_type": "code",
   "execution_count": 62,
   "id": "ff3f025c",
   "metadata": {
    "ExecuteTime": {
     "end_time": "2023-01-25T15:09:14.759394Z",
     "start_time": "2023-01-25T15:09:14.743381Z"
    }
   },
   "outputs": [
    {
     "data": {
      "text/plain": [
       "array([ 2.58137524,  9.90616878, -0.24033945,  3.45550824,  5.83060793,\n",
       "       -6.64832569, -3.22552829, -3.59032898, -8.1770277 ,  4.17768925,\n",
       "        2.3566232 ,  5.31024302, -5.86804651, -3.50768203, -7.05690445,\n",
       "       -0.31086873,  5.17875879,  6.32634986,  5.40959078,  4.03472141,\n",
       "        2.09572157,  6.72101697])"
      ]
     },
     "execution_count": 62,
     "metadata": {},
     "output_type": "execute_result"
    }
   ],
   "source": [
    "params"
   ]
  },
  {
   "cell_type": "code",
   "execution_count": 63,
   "id": "686c9421",
   "metadata": {
    "ExecuteTime": {
     "end_time": "2023-01-25T15:09:14.790736Z",
     "start_time": "2023-01-25T15:09:14.770583Z"
    }
   },
   "outputs": [
    {
     "data": {
      "text/plain": [
       "OrderedDict([('conv1.lin_l.weight',\n",
       "              tensor([[ 2.5814,  9.9062, -0.2403,  3.4555,  5.8306],\n",
       "                      [-6.6483, -3.2255, -3.5903, -8.1770,  4.1777]])),\n",
       "             ('conv1.lin_l.bias', tensor([2.3566, 5.3102])),\n",
       "             ('conv1.lin_r.weight',\n",
       "              tensor([[-5.8680, -3.5077, -7.0569, -0.3109,  5.1788],\n",
       "                      [ 6.3263,  5.4096,  4.0347,  2.0957,  6.7210]]))])"
      ]
     },
     "execution_count": 63,
     "metadata": {},
     "output_type": "execute_result"
    }
   ],
   "source": [
    "sd = getStateDict(Models[0], params)\n",
    "Models[0].load_state_dict(sd)\n",
    "\n",
    "Models[0].state_dict()"
   ]
  },
  {
   "cell_type": "code",
   "execution_count": 92,
   "id": "aa6d2794",
   "metadata": {
    "ExecuteTime": {
     "end_time": "2023-01-25T15:34:58.830937Z",
     "start_time": "2023-01-25T15:34:58.704645Z"
    }
   },
   "outputs": [
    {
     "data": {
      "image/png": "[encoded data removed]",
      "text/plain": [
       "<Figure size 640x480 with 1 Axes>"
      ]
     },
     "metadata": {},
     "output_type": "display_data"
    }
   ],
   "source": [
    "N = 10\n",
    "p = 0.3\n",
    "G = nx.erdos_renyi_graph(N, p, seed = 13)\n",
    "nx.draw(G, with_labels = True)"
   ]
  },
  {
   "cell_type": "code",
   "execution_count": 65,
   "id": "53e1c7a3",
   "metadata": {
    "ExecuteTime": {
     "end_time": "2023-01-25T15:09:14.961845Z",
     "start_time": "2023-01-25T15:09:14.949917Z"
    }
   },
   "outputs": [],
   "source": [
    "def getFeatures(G):\n",
    "    \n",
    "    BC = np.array(list(nx.betweenness_centrality(G).values()))\n",
    "    CC = np.array(list(nx.closeness_centrality(G).values()))\n",
    "    #LC = np.array(list(nx.load_centrality(G).values()))\n",
    "    DG = np.array(list(nx.degree(G))).T[1]\n",
    "    PR = np.array(list(nx.pagerank(G).values()))\n",
    "    \n",
    "    EC = np.array(list(nx.eigenvector_centrality(G).values()))\n",
    "\n",
    "    features = [BC, PR, DG, CC, EC]\n",
    "    names = [\"BC\", \"PageRank\", \"degree\", \"closeness_centrality\", \"E\"]#, \"LC\"]\n",
    "    return np.array(features).T, names"
   ]
  },
  {
   "cell_type": "code",
   "execution_count": 66,
   "id": "9634cfdd",
   "metadata": {
    "ExecuteTime": {
     "end_time": "2023-01-25T15:09:14.987337Z",
     "start_time": "2023-01-25T15:09:14.967092Z"
    }
   },
   "outputs": [],
   "source": [
    "feats, _ = getFeatures(G)"
   ]
  },
  {
   "cell_type": "code",
   "execution_count": 96,
   "id": "70e5cc9e",
   "metadata": {
    "ExecuteTime": {
     "end_time": "2023-01-25T15:43:35.615877Z",
     "start_time": "2023-01-25T15:43:35.600884Z"
    }
   },
   "outputs": [
    {
     "data": {
      "text/plain": [
       "array([0.        , 0.04434195, 1.        , 0.42857143, 0.14257831])"
      ]
     },
     "execution_count": 96,
     "metadata": {},
     "output_type": "execute_result"
    }
   ],
   "source": [
    "feats[9]"
   ]
  },
  {
   "cell_type": "code",
   "execution_count": 68,
   "id": "77f02360",
   "metadata": {
    "ExecuteTime": {
     "end_time": "2023-01-25T15:09:15.027718Z",
     "start_time": "2023-01-25T15:09:15.003765Z"
    }
   },
   "outputs": [
    {
     "data": {
      "text/plain": [
       "Data(edge_index=[2, 28], num_nodes=10, x=[10, 5], y=[10], num_classes=2)"
      ]
     },
     "execution_count": 68,
     "metadata": {},
     "output_type": "execute_result"
    }
   ],
   "source": [
    "X = Convert2DataSet([G], [[]], feats = [feats])[0]\n",
    "X"
   ]
  },
  {
   "cell_type": "code",
   "execution_count": 70,
   "id": "d87f5b95",
   "metadata": {
    "ExecuteTime": {
     "end_time": "2023-01-25T15:09:24.199222Z",
     "start_time": "2023-01-25T15:09:24.184229Z"
    }
   },
   "outputs": [
    {
     "data": {
      "text/plain": [
       "tensor([[5.3062e-10, 1.0000e+00],\n",
       "        [1.0039e-10, 1.0000e+00],\n",
       "        [6.3014e-01, 3.6986e-01],\n",
       "        [9.9693e-01, 3.0675e-03],\n",
       "        [1.0000e+00, 1.4549e-07],\n",
       "        [1.0000e+00, 5.2301e-07],\n",
       "        [9.6215e-01, 3.7850e-02],\n",
       "        [1.0000e+00, 2.0672e-06],\n",
       "        [1.0000e+00, 2.0672e-06],\n",
       "        [1.0000e+00, 7.0344e-11]], grad_fn=<ExpBackward0>)"
      ]
     },
     "execution_count": 70,
     "metadata": {},
     "output_type": "execute_result"
    }
   ],
   "source": [
    "torch.exp(Models[0](X))"
   ]
  },
  {
   "cell_type": "code",
   "execution_count": 77,
   "id": "643a84a9",
   "metadata": {
    "ExecuteTime": {
     "end_time": "2023-01-25T15:25:17.188998Z",
     "start_time": "2023-01-25T15:25:17.170634Z"
    }
   },
   "outputs": [],
   "source": [
    "data = pd.read_csv(\"./SAGE_training_Erdos_SF.csv\")"
   ]
  },
  {
   "cell_type": "code",
   "execution_count": 85,
   "id": "7e72fdd1",
   "metadata": {
    "ExecuteTime": {
     "end_time": "2023-01-25T15:27:57.038170Z",
     "start_time": "2023-01-25T15:27:56.760467Z"
    }
   },
   "outputs": [
    {
     "data": {
      "text/plain": [
       "Text(0, 0.5, 'Loss')"
      ]
     },
     "execution_count": 85,
     "metadata": {},
     "output_type": "execute_result"
    },
    {
     "data": {
      "image/png": "[encoded data removed]",
      "text/plain": [
       "<Figure size 640x480 with 1 Axes>"
      ]
     },
     "metadata": {},
     "output_type": "display_data"
    }
   ],
   "source": [
    "plt.plot(np.arange(1, 101,1), data['Erdos'], label = \"Erdös (validation)\")\n",
    "plt.plot(np.arange(1, 101,1), data['Scalefree'], label = 'scalefree (train)')\n",
    "plt.grid()\n",
    "plt.title(\"GA SAGE training evolution\")\n",
    "plt.legend()\n",
    "plt.xlabel(\"Generations\")\n",
    "plt.ylabel(\"Loss\")"
   ]
  },
  {
   "cell_type": "code",
   "execution_count": null,
   "id": "0ff9f392",
   "metadata": {},
   "outputs": [],
   "source": [
    "\"\"\"\n",
    "Para el diagrama que primero del grafo entero\n",
    "Después 5 grafos más pequeños que pinte de un color la importancia de cada nodo conforme a las features\n",
    "\n",
    "después mostrar cómo se multiplican las características por las matrices, \n",
    "\n",
    "y al final las probabilidades asignadas por SAGE y un colorcito que diga cuáles son más importantes\n",
    "\"\"\""
   ]
  },
  {
   "cell_type": "code",
   "execution_count": null,
   "id": "7cfb69d1",
   "metadata": {},
   "outputs": [],
   "source": []
  },
  {
   "cell_type": "code",
   "execution_count": null,
   "id": "23abf360",
   "metadata": {},
   "outputs": [],
   "source": []
  },
  {
   "cell_type": "code",
   "execution_count": null,
   "id": "807e0c3d",
   "metadata": {},
   "outputs": [],
   "source": []
  },
  {
   "cell_type": "code",
   "execution_count": null,
   "id": "8d16c89e",
   "metadata": {},
   "outputs": [],
   "source": []
  },
  {
   "cell_type": "code",
   "execution_count": null,
   "id": "1892d927",
   "metadata": {},
   "outputs": [],
   "source": []
  },
  {
   "cell_type": "code",
   "execution_count": null,
   "id": "59e2a763",
   "metadata": {},
   "outputs": [],
   "source": []
  },
  {
   "cell_type": "code",
   "execution_count": null,
   "id": "c3429973",
   "metadata": {},
   "outputs": [],
   "source": []
  }
 ],
 "metadata": {
  "hide_input": false,
  "kernelspec": {
   "display_name": "Python 3 (ipykernel)",
   "language": "python",
   "name": "python3"
  },
  "language_info": {
   "codemirror_mode": {
    "name": "ipython",
    "version": 3
   },
   "file_extension": ".py",
   "mimetype": "text/x-python",
   "name": "python",
   "nbconvert_exporter": "python",
   "pygments_lexer": "ipython3",
   "version": "3.8.5"
  },
  "varInspector": {
   "cols": {
    "lenName": 16,
    "lenType": 16,
    "lenVar": 40
   },
   "kernels_config": {
    "python": {
     "delete_cmd_postfix": "",
     "delete_cmd_prefix": "del ",
     "library": "var_list.py",
     "varRefreshCmd": "print(var_dic_list())"
    },
    "r": {
     "delete_cmd_postfix": ") ",
     "delete_cmd_prefix": "rm(",
     "library": "var_list.r",
     "varRefreshCmd": "cat(var_dic_list()) "
    }
   },
   "types_to_exclude": [
    "module",
    "function",
    "builtin_function_or_method",
    "instance",
    "_Feature"
   ],
   "window_display": false
  }
 },
 "nbformat": 4,
 "nbformat_minor": 5
}
