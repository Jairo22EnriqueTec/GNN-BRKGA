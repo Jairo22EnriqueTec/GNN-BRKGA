{
 "cells": [
  {
   "cell_type": "code",
   "execution_count": 3,
   "id": "851439f8",
   "metadata": {
    "ExecuteTime": {
     "end_time": "2022-12-12T18:14:17.238667Z",
     "start_time": "2022-12-12T18:14:13.193637Z"
    }
   },
   "outputs": [
    {
     "name": "stderr",
     "output_type": "stream",
     "text": [
      "C:\\Users\\Jairo Enrique\\.conda\\envs\\DataScience\\lib\\site-packages\\statsmodels\\tsa\\base\\tsa_model.py:7: FutureWarning: pandas.Int64Index is deprecated and will be removed from pandas in a future version. Use pandas.Index with the appropriate dtype instead.\n",
      "  from pandas import (to_datetime, Int64Index, DatetimeIndex, Period,\n",
      "C:\\Users\\Jairo Enrique\\.conda\\envs\\DataScience\\lib\\site-packages\\statsmodels\\tsa\\base\\tsa_model.py:7: FutureWarning: pandas.Float64Index is deprecated and will be removed from pandas in a future version. Use pandas.Index with the appropriate dtype instead.\n",
      "  from pandas import (to_datetime, Int64Index, DatetimeIndex, Period,\n"
     ]
    }
   ],
   "source": [
    "import numpy as np\n",
    "import networkx as nx\n",
    "import igraph\n",
    "import progressbar\n",
    "from icecream import ic\n",
    "import os\n",
    "import time\n",
    "import matplotlib.pyplot as plt\n",
    "import statsmodels.api as sm\n",
    "import pandas as pd\n",
    "import shutil\n",
    "\n",
    "ic.configureOutput(prefix = 'debug | -> ')\n",
    "ic.disable()\n",
    "ic.enable()"
   ]
  },
  {
   "cell_type": "markdown",
   "id": "efa9fbd2",
   "metadata": {},
   "source": [
    "## Entreno y evaluación de las redes con scale free networks"
   ]
  },
  {
   "cell_type": "code",
   "execution_count": 9,
   "id": "3350fc8f",
   "metadata": {
    "ExecuteTime": {
     "end_time": "2022-12-11T18:47:43.144945Z",
     "start_time": "2022-12-11T18:47:43.129912Z"
    }
   },
   "outputs": [],
   "source": [
    "PATH_INSTANCES = './BRKGA/instances/scalefree/train/dimacs/'\n",
    "NEW_PATH = \"./BRKGA/instances/scalefree/train/txt/\""
   ]
  },
  {
   "cell_type": "code",
   "execution_count": 10,
   "id": "a67425e9",
   "metadata": {
    "ExecuteTime": {
     "end_time": "2022-12-11T18:47:44.117050Z",
     "start_time": "2022-12-11T18:47:44.099903Z"
    }
   },
   "outputs": [],
   "source": [
    "def Dimacs2Txt(ruta, nuevaruta):\n",
    "    file1 = open(ruta, 'rb')\n",
    "    Lines = file1.readlines()\n",
    "    SizeAnt = len(Lines)\n",
    "    newname = \".\".join((PATH_INSTANCES+file).split(\"/\")[-1].split(\".\")[:-1])+\".txt\"\n",
    "    file2 = open(nuevaruta+newname, 'w')\n",
    "    c = 0\n",
    "    for line in Lines[1:]:\n",
    "        v = line.strip().split()\n",
    "        file2.write(f\"{int(v[1])-1} {int(v[2])-1}\")\n",
    "        file2.write('\\n')\n",
    "        c += 1\n",
    "    file1.close()\n",
    "    file2.close()\n",
    "    print(f\"para {newname} se escribieron {c} lines y eran {SizeAnt}\")\n",
    "    return newname\n"
   ]
  },
  {
   "cell_type": "code",
   "execution_count": 11,
   "id": "a58e91b5",
   "metadata": {
    "ExecuteTime": {
     "end_time": "2022-12-11T18:47:47.585022Z",
     "start_time": "2022-12-11T18:47:45.074647Z"
    }
   },
   "outputs": [
    {
     "name": "stderr",
     "output_type": "stream",
     "text": [
      " 10% (2 of 20) |##                       | Elapsed Time: 0:00:00 ETA:   0:00:02"
     ]
    },
    {
     "name": "stdout",
     "output_type": "stream",
     "text": [
      "para graph1__2.25_1000_10.txt se escribieron 10000 lines y eran 10001\n",
      "para graph1__2.25_1000_20.txt se escribieron 20000 lines y eran 20001\n"
     ]
    },
    {
     "name": "stderr",
     "output_type": "stream",
     "text": [
      " 25% (5 of 20) |######                   | Elapsed Time: 0:00:00 ETA:   0:00:01"
     ]
    },
    {
     "name": "stdout",
     "output_type": "stream",
     "text": [
      "para graph1__2.25_1000_30.txt se escribieron 30000 lines y eran 30001\n",
      "para graph1__2.25_1000_5.txt se escribieron 5000 lines y eran 5001\n",
      "para graph1__2.5_1000_10.txt se escribieron 10000 lines y eran 10001\n"
     ]
    },
    {
     "name": "stderr",
     "output_type": "stream",
     "text": [
      "\r",
      " 30% (6 of 20) |#######                  | Elapsed Time: 0:00:00 ETA:   0:00:01"
     ]
    },
    {
     "name": "stdout",
     "output_type": "stream",
     "text": [
      "para graph1__2.5_1000_20.txt se escribieron 20000 lines y eran 20001\n",
      "para graph1__2.5_1000_30.txt se escribieron 30000 lines y eran 30001\n"
     ]
    },
    {
     "name": "stderr",
     "output_type": "stream",
     "text": [
      " 45% (9 of 20) |###########              | Elapsed Time: 0:00:01 ETA:   0:00:01"
     ]
    },
    {
     "name": "stdout",
     "output_type": "stream",
     "text": [
      "para graph1__2.5_1000_5.txt se escribieron 5000 lines y eran 5001\n",
      "para graph1__2.75_1000_10.txt se escribieron 10000 lines y eran 10001\n"
     ]
    },
    {
     "name": "stderr",
     "output_type": "stream",
     "text": [
      "\r",
      " 50% (10 of 20) |############            | Elapsed Time: 0:00:01 ETA:   0:00:01"
     ]
    },
    {
     "name": "stdout",
     "output_type": "stream",
     "text": [
      "para graph1__2.75_1000_20.txt se escribieron 20000 lines y eran 20001\n"
     ]
    },
    {
     "name": "stderr",
     "output_type": "stream",
     "text": [
      " 65% (13 of 20) |###############         | Elapsed Time: 0:00:01 ETA:   0:00:00"
     ]
    },
    {
     "name": "stdout",
     "output_type": "stream",
     "text": [
      "para graph1__2.75_1000_30.txt se escribieron 30000 lines y eran 30001\n",
      "para graph1__2.75_1000_5.txt se escribieron 5000 lines y eran 5001\n",
      "para graph1__2_1000_10.txt se escribieron 10000 lines y eran 10001\n"
     ]
    },
    {
     "name": "stderr",
     "output_type": "stream",
     "text": [
      "\r",
      " 70% (14 of 20) |################        | Elapsed Time: 0:00:01 ETA:   0:00:00"
     ]
    },
    {
     "name": "stdout",
     "output_type": "stream",
     "text": [
      "para graph1__2_1000_20.txt se escribieron 20000 lines y eran 20001\n"
     ]
    },
    {
     "name": "stderr",
     "output_type": "stream",
     "text": [
      " 85% (17 of 20) |####################    | Elapsed Time: 0:00:02 ETA:   0:00:00"
     ]
    },
    {
     "name": "stdout",
     "output_type": "stream",
     "text": [
      "para graph1__2_1000_30.txt se escribieron 30000 lines y eran 30001\n",
      "para graph1__2_1000_5.txt se escribieron 5000 lines y eran 5001\n",
      "para graph1__3_1000_10.txt se escribieron 10000 lines y eran 10001\n"
     ]
    },
    {
     "name": "stderr",
     "output_type": "stream",
     "text": [
      "\r",
      " 90% (18 of 20) |#####################   | Elapsed Time: 0:00:02 ETA:   0:00:00"
     ]
    },
    {
     "name": "stdout",
     "output_type": "stream",
     "text": [
      "para graph1__3_1000_20.txt se escribieron 20000 lines y eran 20001\n"
     ]
    },
    {
     "name": "stderr",
     "output_type": "stream",
     "text": [
      "100% (20 of 20) |########################| Elapsed Time: 0:00:02 Time:  0:00:02\n"
     ]
    },
    {
     "name": "stdout",
     "output_type": "stream",
     "text": [
      "para graph1__3_1000_30.txt se escribieron 30000 lines y eran 30001\n",
      "para graph1__3_1000_5.txt se escribieron 5000 lines y eran 5001\n"
     ]
    }
   ],
   "source": [
    "Graphs = [graph for graph in os.listdir(PATH_INSTANCES)]\n",
    "for file in progressbar.progressbar(Graphs):\n",
    "    Dimacs2Txt(PATH_INSTANCES+file, NEW_PATH)"
   ]
  },
  {
   "cell_type": "code",
   "execution_count": 26,
   "id": "fd34282a",
   "metadata": {
    "ExecuteTime": {
     "end_time": "2022-12-11T18:49:21.876763Z",
     "start_time": "2022-12-11T18:49:21.833228Z"
    }
   },
   "outputs": [],
   "source": [
    "G = igraph.Graph.Read_Edgelist(NEW_PATH+'graph1__2.5_1000_5.txt', directed = False)\n",
    "G = G.to_networkx()"
   ]
  },
  {
   "cell_type": "code",
   "execution_count": 29,
   "id": "5004d42a",
   "metadata": {
    "ExecuteTime": {
     "end_time": "2022-12-11T18:49:32.436771Z",
     "start_time": "2022-12-11T18:49:32.423786Z"
    }
   },
   "outputs": [
    {
     "data": {
      "text/plain": [
       "[163]"
      ]
     },
     "execution_count": 29,
     "metadata": {},
     "output_type": "execute_result"
    }
   ],
   "source": [
    "list(nx.isolates(G))"
   ]
  },
  {
   "cell_type": "code",
   "execution_count": 6,
   "id": "8989e69d",
   "metadata": {
    "ExecuteTime": {
     "end_time": "2022-12-03T16:56:55.596155Z",
     "start_time": "2022-12-03T16:56:55.570887Z"
    }
   },
   "outputs": [
    {
     "data": {
      "text/plain": [
       "['ER_10000_10_0.dimacs',\n",
       " 'ER_10000_10_1.dimacs',\n",
       " 'ER_10000_15_0.dimacs',\n",
       " 'ER_10000_15_1.dimacs',\n",
       " 'ER_10000_20_0.dimacs',\n",
       " 'ER_10000_20_1.dimacs',\n",
       " 'ER_1000_10_0.dimacs',\n",
       " 'ER_1000_10_1.dimacs',\n",
       " 'ER_1000_10_2.dimacs',\n",
       " 'ER_1000_10_3.dimacs',\n",
       " 'ER_1000_15_0.dimacs',\n",
       " 'ER_1000_15_1.dimacs',\n",
       " 'ER_1000_15_2.dimacs',\n",
       " 'ER_1000_15_3.dimacs',\n",
       " 'ER_1000_20_0.dimacs',\n",
       " 'ER_1000_20_1.dimacs',\n",
       " 'ER_1000_20_2.dimacs',\n",
       " 'ER_1000_20_3.dimacs',\n",
       " 'ER_20000_10_0.dimacs',\n",
       " 'ER_20000_10_1.dimacs',\n",
       " 'ER_20000_15_0.dimacs',\n",
       " 'ER_20000_15_1.dimacs',\n",
       " 'ER_20000_20_0.dimacs',\n",
       " 'ER_20000_20_1.dimacs',\n",
       " 'ER_2000_10_0.dimacs',\n",
       " 'ER_2000_10_1.dimacs',\n",
       " 'ER_2000_10_2.dimacs',\n",
       " 'ER_2000_10_3.dimacs',\n",
       " 'ER_2000_15_0.dimacs',\n",
       " 'ER_2000_15_1.dimacs',\n",
       " 'ER_2000_15_2.dimacs',\n",
       " 'ER_2000_15_3.dimacs',\n",
       " 'ER_2000_20_0.dimacs',\n",
       " 'ER_2000_20_1.dimacs',\n",
       " 'ER_2000_20_2.dimacs',\n",
       " 'ER_2000_20_3.dimacs',\n",
       " 'ER_30000_10_0.dimacs',\n",
       " 'ER_30000_15_0.dimacs',\n",
       " 'ER_30000_20_0.dimacs',\n",
       " 'ER_50000_10_0.dimacs',\n",
       " 'ER_50000_15_0.dimacs',\n",
       " 'ER_50000_20_0.dimacs',\n",
       " 'ER_5000_10_0.dimacs',\n",
       " 'ER_5000_10_1.dimacs',\n",
       " 'ER_5000_10_2.dimacs',\n",
       " 'ER_5000_10_3.dimacs',\n",
       " 'ER_5000_15_0.dimacs',\n",
       " 'ER_5000_15_1.dimacs',\n",
       " 'ER_5000_15_2.dimacs',\n",
       " 'ER_5000_15_3.dimacs',\n",
       " 'ER_5000_20_0.dimacs',\n",
       " 'ER_5000_20_1.dimacs',\n",
       " 'ER_5000_20_2.dimacs',\n",
       " 'ER_5000_20_3.dimacs']"
      ]
     },
     "execution_count": 6,
     "metadata": {},
     "output_type": "execute_result"
    }
   ],
   "source": [
    "PATH_INSTANCES = './BRKGA/instances/erdos/dimacs/'\n",
    "[graph for graph in os.listdir(PATH_INSTANCES)]"
   ]
  },
  {
   "cell_type": "markdown",
   "id": "1ff10795",
   "metadata": {},
   "source": [
    "## Análizando características topológicas de las redes en las soluciones óptimas"
   ]
  },
  {
   "cell_type": "code",
   "execution_count": 50,
   "id": "beb31b96",
   "metadata": {
    "ExecuteTime": {
     "end_time": "2022-12-16T13:24:15.930809Z",
     "start_time": "2022-12-16T13:24:15.819400Z"
    }
   },
   "outputs": [],
   "source": [
    "import igraph\n",
    "import networkx as nx\n",
    "import matplotlib.pyplot as plt\n",
    "\n",
    "PATH = './BRKGA/instances/scalefree/train/txt/graph1__2.5_1000_30.txt'\n",
    "#PATH = './BRKGA/instances/Erdos/train/txt/ER_5000_10_3.txt'\n",
    "G = igraph.Graph.Read_Edgelist(PATH, directed = False)\n",
    "G = G.to_networkx()\n",
    "\n",
    "PATH_OP = './BRKGA/instances/scalefree/train/optimal/graph1__2.5_1000_30.txt'\n",
    "#PATH_OP = './BRKGA/instances/Erdos/train/optimal/ER_5000_10_3.dimacs'\n",
    "solucion = []\n",
    "with open(PATH_OP) as f:\n",
    "    for line in f.readlines():\n",
    "        solucion.append(int(line.replace(\"\\n\", \"\")))\n"
   ]
  },
  {
   "cell_type": "code",
   "execution_count": 51,
   "id": "ddf7a892",
   "metadata": {
    "ExecuteTime": {
     "end_time": "2022-12-16T13:24:17.413791Z",
     "start_time": "2022-12-16T13:24:17.402808Z"
    }
   },
   "outputs": [
    {
     "name": "stdout",
     "output_type": "stream",
     "text": [
      "Tamaño de la solución: 168\n"
     ]
    }
   ],
   "source": [
    "print(f\"Tamaño de la solución: {len(solucion)}\")"
   ]
  },
  {
   "cell_type": "code",
   "execution_count": 52,
   "id": "2bad8d2b",
   "metadata": {
    "ExecuteTime": {
     "end_time": "2022-12-16T13:24:24.614089Z",
     "start_time": "2022-12-16T13:24:17.801106Z"
    }
   },
   "outputs": [],
   "source": [
    "BC = np.array(list(nx.betweenness_centrality(G, k = 500).values()))"
   ]
  },
  {
   "cell_type": "code",
   "execution_count": 53,
   "id": "80f5c8da",
   "metadata": {
    "ExecuteTime": {
     "end_time": "2022-12-16T13:24:27.182992Z",
     "start_time": "2022-12-16T13:24:24.805615Z"
    }
   },
   "outputs": [],
   "source": [
    "CC = np.array(list(nx.closeness_centrality(G).values()))"
   ]
  },
  {
   "cell_type": "code",
   "execution_count": 54,
   "id": "f02d9109",
   "metadata": {
    "ExecuteTime": {
     "end_time": "2022-12-16T13:24:27.597785Z",
     "start_time": "2022-12-16T13:24:27.375780Z"
    }
   },
   "outputs": [],
   "source": [
    "DG = np.array(list(nx.degree(G))).T[1]\n",
    "\n",
    "PR = np.array(list(nx.pagerank(G).values()))\n",
    "\n",
    "EC = np.array(list(nx.eigenvector_centrality(G).values()))\n",
    "\n",
    "features = [BC, PR, DG, CC, EC]\n",
    "#features = np.array(features).T\n",
    "names = [\"BC\", \"PageRank\", \"degree\", \"closeness_centrality\", \"EC\"]"
   ]
  },
  {
   "cell_type": "code",
   "execution_count": 55,
   "id": "5260f0de",
   "metadata": {
    "ExecuteTime": {
     "end_time": "2022-12-16T13:24:34.811389Z",
     "start_time": "2022-12-16T13:24:34.794385Z"
    }
   },
   "outputs": [
    {
     "name": "stdout",
     "output_type": "stream",
     "text": [
      " El 0.93 de los elementos para BC se encuentran en la solución\n",
      " El 0.96 de los elementos para PageRank se encuentran en la solución\n",
      " El 0.96 de los elementos para degree se encuentran en la solución\n",
      " El 0.95 de los elementos para closeness_centrality se encuentran en la solución\n",
      " El 0.93 de los elementos para EC se encuentran en la solución\n"
     ]
    }
   ],
   "source": [
    "k = len(solucion)\n",
    "for topo_feature, name in zip(features, names):\n",
    "    \n",
    "    TOP = np.argpartition(topo_feature, -k)[-k:]\n",
    "\n",
    "    print( f\" El {len(np.intersect1d(solucion, TOP)) / k :.2f} de los elementos para {name} se encuentran en la solución\")"
   ]
  },
  {
   "cell_type": "code",
   "execution_count": 46,
   "id": "aea6cdc8",
   "metadata": {
    "ExecuteTime": {
     "end_time": "2022-12-16T13:22:40.932484Z",
     "start_time": "2022-12-16T13:22:40.922487Z"
    }
   },
   "outputs": [],
   "source": [
    "Mask = np.zeros(G.number_of_nodes())\n",
    "Mask[solucion] = 1"
   ]
  },
  {
   "cell_type": "code",
   "execution_count": 49,
   "id": "9a074faa",
   "metadata": {
    "ExecuteTime": {
     "end_time": "2022-12-16T13:22:56.445127Z",
     "start_time": "2022-12-16T13:22:54.239725Z"
    }
   },
   "outputs": [
    {
     "data": {
      "image/png": "[encoded data removed]",
      "text/plain": [
       "<Figure size 640x480 with 1 Axes>"
      ]
     },
     "metadata": {},
     "output_type": "display_data"
    },
    {
     "data": {
      "image/png": "[encoded data removed]",
      "text/plain": [
       "<Figure size 640x480 with 1 Axes>"
      ]
     },
     "metadata": {},
     "output_type": "display_data"
    },
    {
     "data": {
      "image/png": "[encoded data removed]",
      "text/plain": [
       "<Figure size 640x480 with 1 Axes>"
      ]
     },
     "metadata": {},
     "output_type": "display_data"
    },
    {
     "data": {
      "image/png": "[encoded data removed]",
      "text/plain": [
       "<Figure size 640x480 with 1 Axes>"
      ]
     },
     "metadata": {},
     "output_type": "display_data"
    },
    {
     "data": {
      "image/png": "[encoded data removed]",
      "text/plain": [
       "<Figure size 640x480 with 1 Axes>"
      ]
     },
     "metadata": {},
     "output_type": "display_data"
    },
    {
     "data": {
      "image/png": "[encoded data removed]",
      "text/plain": [
       "<Figure size 640x480 with 1 Axes>"
      ]
     },
     "metadata": {},
     "output_type": "display_data"
    },
    {
     "data": {
      "image/png": "[encoded data removed]",
      "text/plain": [
       "<Figure size 640x480 with 1 Axes>"
      ]
     },
     "metadata": {},
     "output_type": "display_data"
    },
    {
     "data": {
      "image/png": "[encoded data removed]",
      "text/plain": [
       "<Figure size 640x480 with 1 Axes>"
      ]
     },
     "metadata": {},
     "output_type": "display_data"
    },
    {
     "data": {
      "image/png": "[encoded data removed]",
      "text/plain": [
       "<Figure size 640x480 with 1 Axes>"
      ]
     },
     "metadata": {},
     "output_type": "display_data"
    },
    {
     "data": {
      "image/png": "[encoded data removed]",
      "text/plain": [
       "<Figure size 640x480 with 1 Axes>"
      ]
     },
     "metadata": {},
     "output_type": "display_data"
    }
   ],
   "source": [
    "for i in range(len(features)):\n",
    "    for j in range(i + 1, len(features)):\n",
    "        if i == j:\n",
    "            continue\n",
    "        plt.scatter( features[i][Mask == 0], features[j][Mask == 0] , color = 'red', marker = 'x', label = 'Non_Target_set')\n",
    "        plt.scatter( features[i][Mask == 1], features[j][Mask == 1] , color = 'blue', marker = 'o', label = 'Target_set')\n",
    "        \n",
    "        plt.title(f\"{names[i]} vs {names[j]}\")\n",
    "        plt.xlabel(names[i])\n",
    "        plt.ylabel(names[j])\n",
    "        plt.grid()\n",
    "        plt.legend()\n",
    "        plt.show()"
   ]
  },
  {
   "cell_type": "code",
   "execution_count": null,
   "id": "d82f09a0",
   "metadata": {},
   "outputs": [],
   "source": [
    "# En teoría, el BC aporta menos que otras componentes"
   ]
  },
  {
   "cell_type": "markdown",
   "id": "fa8e51a4",
   "metadata": {},
   "source": [
    "## Calculando para los grafos"
   ]
  },
  {
   "cell_type": "code",
   "execution_count": 27,
   "id": "8145bc45",
   "metadata": {
    "ExecuteTime": {
     "end_time": "2022-12-12T18:44:11.318777Z",
     "start_time": "2022-12-12T18:44:11.296777Z"
    }
   },
   "outputs": [],
   "source": [
    "def getFeatures(G):\n",
    "    \n",
    "    BC = np.array(list(nx.betweenness_centrality(G, k = min(500, G.number_of_nodes())).values()))\n",
    "    CC = np.array(list(nx.closeness_centrality(G).values()))\n",
    "    LC = np.array(list(nx.load_centrality(G).values()))\n",
    "    DG = np.array(list(nx.degree(G))).T[1]\n",
    "    PR = np.array(list(nx.pagerank(G).values()))\n",
    "\n",
    "    features = [BC, PR, DG, CC, LC]\n",
    "    names = [\"BC\", \"PageRank\", \"degree\", \"closeness_centrality\", \"LC\"]\n",
    "    return np.array(features).T, names"
   ]
  },
  {
   "cell_type": "code",
   "execution_count": 227,
   "id": "0688ba04",
   "metadata": {
    "ExecuteTime": {
     "end_time": "2022-12-03T22:07:41.196461Z",
     "start_time": "2022-12-03T22:07:41.182409Z"
    }
   },
   "outputs": [],
   "source": [
    "def writeFeatures(PATH, ins, features, elapsed):\n",
    "    subfij = '_feat'\n",
    "    file2 = open(PATH + ins.split(\".\")[0] + subfij + \".txt\", 'w')\n",
    "    c = 0\n",
    "    \n",
    "    file2.write(f\"time: {elapsed}, n: {features.shape[0]}\")\n",
    "    file2.write('\\n')\n",
    "    \n",
    "    for f in features:\n",
    "        st = str(f).replace(\"\\n\", \"\").replace(\"[\", \"\").replace(\"]\", \"\").replace(\" \", \",\")\n",
    "        file2.write(st)\n",
    "        file2.write('\\n')\n",
    "        c += 1\n",
    "    file2.close()\n",
    "    print(f\"para {ins} se escribieron {c} lines\")"
   ]
  },
  {
   "cell_type": "code",
   "execution_count": 231,
   "id": "45a237f7",
   "metadata": {
    "ExecuteTime": {
     "end_time": "2022-12-03T22:12:18.398014Z",
     "start_time": "2022-12-03T22:12:16.520024Z"
    }
   },
   "outputs": [],
   "source": [
    "PATH = './BRKGA/instances/Erdos/train/txt/'\n",
    "PATH_save = './BRKGA/instances/Erdos/train/feats/'\n",
    "\n",
    "graphs = [graph for graph in os.listdir(PATH)]\n",
    "\n",
    "Graphs = []\n",
    "for ins in graphs:\n",
    "    G = igraph.Graph.Read_Edgelist(PATH+ins, directed = False)\n",
    "    G = G.to_networkx()\n",
    "    Graphs.append(G)"
   ]
  },
  {
   "cell_type": "code",
   "execution_count": 229,
   "id": "f8888549",
   "metadata": {
    "ExecuteTime": {
     "end_time": "2022-12-03T22:11:17.598857Z",
     "start_time": "2022-12-03T22:10:59.636544Z"
    }
   },
   "outputs": [
    {
     "name": "stdout",
     "output_type": "stream",
     "text": [
      "\n",
      "------------ 1 out of 36 ------------\n",
      "\n",
      "\n",
      "Next graph: ER_1000_10_0.txt\n",
      "\n",
      "Time elapsed: 7.376\n",
      "para ER_1000_10_0.txt se escribieron 1000 lines\n",
      "\n",
      "------------ 2 out of 36 ------------\n",
      "\n",
      "\n",
      "Next graph: ER_1000_10_1.txt\n",
      "\n",
      "Time elapsed: 7.872\n",
      "para ER_1000_10_1.txt se escribieron 1000 lines\n",
      "\n",
      "------------ 3 out of 36 ------------\n",
      "\n",
      "\n",
      "Next graph: ER_1000_10_2.txt\n"
     ]
    },
    {
     "ename": "KeyboardInterrupt",
     "evalue": "",
     "output_type": "error",
     "traceback": [
      "\u001b[1;31m---------------------------------------------------------------------------\u001b[0m",
      "\u001b[1;31mKeyboardInterrupt\u001b[0m                         Traceback (most recent call last)",
      "Input \u001b[1;32mIn [229]\u001b[0m, in \u001b[0;36m<cell line: 2>\u001b[1;34m()\u001b[0m\n\u001b[0;32m      5\u001b[0m \u001b[38;5;28mprint\u001b[39m(\u001b[38;5;124mf\u001b[39m\u001b[38;5;124m\"\u001b[39m\u001b[38;5;130;01m\\n\u001b[39;00m\u001b[38;5;124mNext graph: \u001b[39m\u001b[38;5;132;01m{\u001b[39;00mins\u001b[38;5;132;01m}\u001b[39;00m\u001b[38;5;124m\"\u001b[39m)\n\u001b[0;32m      7\u001b[0m s \u001b[38;5;241m=\u001b[39m time\u001b[38;5;241m.\u001b[39mtime()\n\u001b[1;32m----> 8\u001b[0m features, _ \u001b[38;5;241m=\u001b[39m \u001b[43mgetFeatures\u001b[49m\u001b[43m(\u001b[49m\u001b[43mG\u001b[49m\u001b[43m)\u001b[49m\n\u001b[0;32m      9\u001b[0m elapsed \u001b[38;5;241m=\u001b[39m time\u001b[38;5;241m.\u001b[39mtime() \u001b[38;5;241m-\u001b[39m s\n\u001b[0;32m     10\u001b[0m \u001b[38;5;28mprint\u001b[39m(\u001b[38;5;124mf\u001b[39m\u001b[38;5;124m\"\u001b[39m\u001b[38;5;130;01m\\n\u001b[39;00m\u001b[38;5;124mTime elapsed: \u001b[39m\u001b[38;5;132;01m{\u001b[39;00melapsed\u001b[38;5;132;01m:\u001b[39;00m\u001b[38;5;124m.3f\u001b[39m\u001b[38;5;132;01m}\u001b[39;00m\u001b[38;5;124m\"\u001b[39m)\n",
      "Input \u001b[1;32mIn [226]\u001b[0m, in \u001b[0;36mgetFeatures\u001b[1;34m(G)\u001b[0m\n\u001b[0;32m      1\u001b[0m \u001b[38;5;28;01mdef\u001b[39;00m \u001b[38;5;21mgetFeatures\u001b[39m(G):\n\u001b[1;32m----> 3\u001b[0m     BC \u001b[38;5;241m=\u001b[39m np\u001b[38;5;241m.\u001b[39marray(\u001b[38;5;28mlist\u001b[39m(\u001b[43mnx\u001b[49m\u001b[38;5;241;43m.\u001b[39;49m\u001b[43mbetweenness_centrality\u001b[49m\u001b[43m(\u001b[49m\u001b[43mG\u001b[49m\u001b[43m,\u001b[49m\u001b[43m \u001b[49m\u001b[43mk\u001b[49m\u001b[43m \u001b[49m\u001b[38;5;241;43m=\u001b[39;49m\u001b[43m \u001b[49m\u001b[38;5;241;43m500\u001b[39;49m\u001b[43m)\u001b[49m\u001b[38;5;241m.\u001b[39mvalues()))\n\u001b[0;32m      4\u001b[0m     CC \u001b[38;5;241m=\u001b[39m np\u001b[38;5;241m.\u001b[39marray(\u001b[38;5;28mlist\u001b[39m(nx\u001b[38;5;241m.\u001b[39mcloseness_centrality(G)\u001b[38;5;241m.\u001b[39mvalues()))\n\u001b[0;32m      5\u001b[0m     LC \u001b[38;5;241m=\u001b[39m np\u001b[38;5;241m.\u001b[39marray(\u001b[38;5;28mlist\u001b[39m(nx\u001b[38;5;241m.\u001b[39mload_centrality(G)\u001b[38;5;241m.\u001b[39mvalues()))\n",
      "File \u001b[1;32m<class 'networkx.utils.decorators.argmap'> compilation 5:5\u001b[0m, in \u001b[0;36margmap_betweenness_centrality_1\u001b[1;34m(G, k, normalized, weight, endpoints, seed)\u001b[0m\n\u001b[0;32m      3\u001b[0m \u001b[38;5;28;01mfrom\u001b[39;00m \u001b[38;5;21;01mcontextlib\u001b[39;00m \u001b[38;5;28;01mimport\u001b[39;00m contextmanager\n\u001b[0;32m      4\u001b[0m \u001b[38;5;28;01mfrom\u001b[39;00m \u001b[38;5;21;01mpathlib\u001b[39;00m \u001b[38;5;28;01mimport\u001b[39;00m Path\n\u001b[1;32m----> 5\u001b[0m \u001b[38;5;28;01mimport\u001b[39;00m \u001b[38;5;21;01mwarnings\u001b[39;00m\n\u001b[0;32m      7\u001b[0m \u001b[38;5;28;01mimport\u001b[39;00m \u001b[38;5;21;01mnetworkx\u001b[39;00m \u001b[38;5;28;01mas\u001b[39;00m \u001b[38;5;21;01mnx\u001b[39;00m\n\u001b[0;32m      8\u001b[0m \u001b[38;5;28;01mfrom\u001b[39;00m \u001b[38;5;21;01mnetworkx\u001b[39;00m\u001b[38;5;21;01m.\u001b[39;00m\u001b[38;5;21;01mutils\u001b[39;00m \u001b[38;5;28;01mimport\u001b[39;00m create_random_state, create_py_random_state\n",
      "File \u001b[1;32m~\\.conda\\envs\\DataScience\\lib\\site-packages\\networkx\\algorithms\\centrality\\betweenness.py:136\u001b[0m, in \u001b[0;36mbetweenness_centrality\u001b[1;34m(G, k, normalized, weight, endpoints, seed)\u001b[0m\n\u001b[0;32m    134\u001b[0m         betweenness, delta \u001b[38;5;241m=\u001b[39m _accumulate_endpoints(betweenness, S, P, sigma, s)\n\u001b[0;32m    135\u001b[0m     \u001b[38;5;28;01melse\u001b[39;00m:\n\u001b[1;32m--> 136\u001b[0m         betweenness, delta \u001b[38;5;241m=\u001b[39m \u001b[43m_accumulate_basic\u001b[49m\u001b[43m(\u001b[49m\u001b[43mbetweenness\u001b[49m\u001b[43m,\u001b[49m\u001b[43m \u001b[49m\u001b[43mS\u001b[49m\u001b[43m,\u001b[49m\u001b[43m \u001b[49m\u001b[43mP\u001b[49m\u001b[43m,\u001b[49m\u001b[43m \u001b[49m\u001b[43msigma\u001b[49m\u001b[43m,\u001b[49m\u001b[43m \u001b[49m\u001b[43ms\u001b[49m\u001b[43m)\u001b[49m\n\u001b[0;32m    137\u001b[0m \u001b[38;5;66;03m# rescaling\u001b[39;00m\n\u001b[0;32m    138\u001b[0m betweenness \u001b[38;5;241m=\u001b[39m _rescale(\n\u001b[0;32m    139\u001b[0m     betweenness,\n\u001b[0;32m    140\u001b[0m     \u001b[38;5;28mlen\u001b[39m(G),\n\u001b[1;32m   (...)\u001b[0m\n\u001b[0;32m    144\u001b[0m     endpoints\u001b[38;5;241m=\u001b[39mendpoints,\n\u001b[0;32m    145\u001b[0m )\n",
      "File \u001b[1;32m~\\.conda\\envs\\DataScience\\lib\\site-packages\\networkx\\algorithms\\centrality\\betweenness.py:321\u001b[0m, in \u001b[0;36m_accumulate_basic\u001b[1;34m(betweenness, S, P, sigma, s)\u001b[0m\n\u001b[0;32m    319\u001b[0m         delta[v] \u001b[38;5;241m+\u001b[39m\u001b[38;5;241m=\u001b[39m sigma[v] \u001b[38;5;241m*\u001b[39m coeff\n\u001b[0;32m    320\u001b[0m     \u001b[38;5;28;01mif\u001b[39;00m w \u001b[38;5;241m!=\u001b[39m s:\n\u001b[1;32m--> 321\u001b[0m         betweenness[w] \u001b[38;5;241m+\u001b[39m\u001b[38;5;241m=\u001b[39m \u001b[43mdelta\u001b[49m\u001b[43m[\u001b[49m\u001b[43mw\u001b[49m\u001b[43m]\u001b[49m\n\u001b[0;32m    322\u001b[0m \u001b[38;5;28;01mreturn\u001b[39;00m betweenness, delta\n",
      "\u001b[1;31mKeyboardInterrupt\u001b[0m: "
     ]
    }
   ],
   "source": [
    "c = 0\n",
    "for G, ins in zip(Graphs, graphs):\n",
    "    c+=1\n",
    "    print(f\"\\n------------ {c} out of {len(Graphs)} ------------\\n\")\n",
    "    print(f\"\\nNext graph: {ins}\")\n",
    "    \n",
    "    s = time.time()\n",
    "    features, _ = getFeatures(G)\n",
    "    elapsed = time.time() - s\n",
    "    print(f\"\\nTime elapsed: {elapsed:.3f}\")\n",
    "    \n",
    "    writeFeatures(PATH_save, ins, features, elapsed)\n",
    "    "
   ]
  },
  {
   "cell_type": "code",
   "execution_count": 204,
   "id": "327d700a",
   "metadata": {
    "ExecuteTime": {
     "end_time": "2022-12-03T21:54:49.915451Z",
     "start_time": "2022-12-03T21:54:49.894941Z"
    }
   },
   "outputs": [
    {
     "name": "stdout",
     "output_type": "stream",
     "text": [
      "[4.05108700e-03 1.13179135e-03 1.10000000e+01 3.09000928e-01\n",
      " 2.98765320e-03]\n"
     ]
    }
   ],
   "source": [
    "for f in features:\n",
    "    print(f)\n",
    "    break"
   ]
  },
  {
   "cell_type": "code",
   "execution_count": 218,
   "id": "854e82f0",
   "metadata": {
    "ExecuteTime": {
     "end_time": "2022-12-03T22:01:04.881961Z",
     "start_time": "2022-12-03T22:01:04.860022Z"
    }
   },
   "outputs": [
    {
     "data": {
      "text/plain": [
       "0.0018982196"
      ]
     },
     "execution_count": 218,
     "metadata": {},
     "output_type": "execute_result"
    }
   ],
   "source": [
    "float(str(f).replace(\"\\n\", \"\").replace(\"[\", \"\").replace(\"]\", \"\").replace(\" \", \",\").split(\",\")[0])"
   ]
  },
  {
   "cell_type": "markdown",
   "id": "9881e7f8",
   "metadata": {
    "ExecuteTime": {
     "end_time": "2022-12-03T21:59:20.888941Z",
     "start_time": "2022-12-03T21:59:20.878946Z"
    }
   },
   "source": [
    "## Logistic Regression to validate each feature"
   ]
  },
  {
   "cell_type": "code",
   "execution_count": 372,
   "id": "940d8304",
   "metadata": {
    "ExecuteTime": {
     "end_time": "2022-12-04T14:12:17.681455Z",
     "start_time": "2022-12-04T14:11:46.489936Z"
    }
   },
   "outputs": [],
   "source": [
    "features, names = getFeatures(G)\n",
    "y = np.zeros(G.number_of_nodes())\n",
    "y[solucion] = 1"
   ]
  },
  {
   "cell_type": "code",
   "execution_count": 373,
   "id": "8ee1512d",
   "metadata": {
    "ExecuteTime": {
     "end_time": "2022-12-04T14:12:20.660862Z",
     "start_time": "2022-12-04T14:12:20.647344Z"
    }
   },
   "outputs": [],
   "source": [
    "features = pd.DataFrame(features)\n",
    "features.columns = names"
   ]
  },
  {
   "cell_type": "code",
   "execution_count": 364,
   "id": "4476aafc",
   "metadata": {
    "ExecuteTime": {
     "end_time": "2022-12-04T14:10:30.294445Z",
     "start_time": "2022-12-04T14:10:30.248932Z"
    }
   },
   "outputs": [
    {
     "name": "stdout",
     "output_type": "stream",
     "text": [
      "Warning: Maximum number of iterations has been exceeded.\n",
      "         Current function value: 0.184193\n",
      "         Iterations: 35\n"
     ]
    },
    {
     "name": "stderr",
     "output_type": "stream",
     "text": [
      "C:\\Users\\Jairo Enrique\\.conda\\envs\\DataScience\\lib\\site-packages\\statsmodels\\base\\model.py:566: ConvergenceWarning: Maximum Likelihood optimization failed to converge. Check mle_retvals\n",
      "  warnings.warn(\"Maximum Likelihood optimization failed to \"\n"
     ]
    }
   ],
   "source": [
    "LR = sm.Logit(y, features).fit()"
   ]
  },
  {
   "cell_type": "code",
   "execution_count": 374,
   "id": "b4fc6b2f",
   "metadata": {
    "ExecuteTime": {
     "end_time": "2022-12-04T14:12:23.636577Z",
     "start_time": "2022-12-04T14:12:23.623575Z"
    }
   },
   "outputs": [
    {
     "data": {
      "text/plain": [
       "0.8180000000000001"
      ]
     },
     "execution_count": 374,
     "metadata": {},
     "output_type": "execute_result"
    }
   ],
   "source": [
    "1 - (np.sum(y) / len(y))"
   ]
  },
  {
   "cell_type": "code",
   "execution_count": 375,
   "id": "79b80392",
   "metadata": {
    "ExecuteTime": {
     "end_time": "2022-12-04T14:12:26.719907Z",
     "start_time": "2022-12-04T14:12:26.709907Z"
    }
   },
   "outputs": [],
   "source": [
    "y_pred = LR.predict(features)\n",
    "y_pred[y_pred < 0.5] = 0\n",
    "y_pred[y_pred >= 0.5] = 1\n"
   ]
  },
  {
   "cell_type": "code",
   "execution_count": 376,
   "id": "66cbfb06",
   "metadata": {
    "ExecuteTime": {
     "end_time": "2022-12-04T14:12:29.711748Z",
     "start_time": "2022-12-04T14:12:29.699748Z"
    }
   },
   "outputs": [
    {
     "data": {
      "text/plain": [
       "0.544"
      ]
     },
     "execution_count": 376,
     "metadata": {},
     "output_type": "execute_result"
    }
   ],
   "source": [
    "np.sum(y_pred == y) / len(y)"
   ]
  },
  {
   "cell_type": "code",
   "execution_count": 368,
   "id": "b625a58d",
   "metadata": {
    "ExecuteTime": {
     "end_time": "2022-12-04T14:10:58.608455Z",
     "start_time": "2022-12-04T14:10:58.581096Z"
    }
   },
   "outputs": [
    {
     "data": {
      "text/html": [
       "<table class=\"simpletable\">\n",
       "<caption>Logit Regression Results</caption>\n",
       "<tr>\n",
       "  <th>Dep. Variable:</th>           <td>y</td>        <th>  No. Observations:  </th>   <td>  2000</td>  \n",
       "</tr>\n",
       "<tr>\n",
       "  <th>Model:</th>                 <td>Logit</td>      <th>  Df Residuals:      </th>   <td>  1995</td>  \n",
       "</tr>\n",
       "<tr>\n",
       "  <th>Method:</th>                 <td>MLE</td>       <th>  Df Model:          </th>   <td>     4</td>  \n",
       "</tr>\n",
       "<tr>\n",
       "  <th>Date:</th>            <td>Sun, 04 Dec 2022</td> <th>  Pseudo R-squ.:     </th>   <td>0.5651</td>  \n",
       "</tr>\n",
       "<tr>\n",
       "  <th>Time:</th>                <td>15:10:58</td>     <th>  Log-Likelihood:    </th>  <td> -368.39</td> \n",
       "</tr>\n",
       "<tr>\n",
       "  <th>converged:</th>             <td>False</td>      <th>  LL-Null:           </th>  <td> -847.15</td> \n",
       "</tr>\n",
       "<tr>\n",
       "  <th>Covariance Type:</th>     <td>nonrobust</td>    <th>  LLR p-value:       </th> <td>5.708e-206</td>\n",
       "</tr>\n",
       "</table>\n",
       "<table class=\"simpletable\">\n",
       "<tr>\n",
       "            <td></td>              <th>coef</th>     <th>std err</th>      <th>z</th>      <th>P>|z|</th>  <th>[0.025</th>    <th>0.975]</th>  \n",
       "</tr>\n",
       "<tr>\n",
       "  <th>BC</th>                   <td>  142.4166</td> <td>  235.476</td> <td>    0.605</td> <td> 0.545</td> <td> -319.108</td> <td>  603.941</td>\n",
       "</tr>\n",
       "<tr>\n",
       "  <th>PageRank</th>             <td>-1.392e+04</td> <td> 8919.155</td> <td>   -1.560</td> <td> 0.119</td> <td>-3.14e+04</td> <td> 3564.950</td>\n",
       "</tr>\n",
       "<tr>\n",
       "  <th>degree</th>               <td>    1.7583</td> <td>    0.440</td> <td>    3.999</td> <td> 0.000</td> <td>    0.896</td> <td>    2.620</td>\n",
       "</tr>\n",
       "<tr>\n",
       "  <th>closeness_centrality</th> <td>  -54.4201</td> <td>    6.060</td> <td>   -8.980</td> <td> 0.000</td> <td>  -66.297</td> <td>  -42.543</td>\n",
       "</tr>\n",
       "<tr>\n",
       "  <th>LC</th>                   <td>  289.6700</td> <td>  730.853</td> <td>    0.396</td> <td> 0.692</td> <td>-1142.776</td> <td> 1722.116</td>\n",
       "</tr>\n",
       "</table>"
      ],
      "text/plain": [
       "<class 'statsmodels.iolib.summary.Summary'>\n",
       "\"\"\"\n",
       "                           Logit Regression Results                           \n",
       "==============================================================================\n",
       "Dep. Variable:                      y   No. Observations:                 2000\n",
       "Model:                          Logit   Df Residuals:                     1995\n",
       "Method:                           MLE   Df Model:                            4\n",
       "Date:                Sun, 04 Dec 2022   Pseudo R-squ.:                  0.5651\n",
       "Time:                        15:10:58   Log-Likelihood:                -368.39\n",
       "converged:                      False   LL-Null:                       -847.15\n",
       "Covariance Type:            nonrobust   LLR p-value:                5.708e-206\n",
       "========================================================================================\n",
       "                           coef    std err          z      P>|z|      [0.025      0.975]\n",
       "----------------------------------------------------------------------------------------\n",
       "BC                     142.4166    235.476      0.605      0.545    -319.108     603.941\n",
       "PageRank             -1.392e+04   8919.155     -1.560      0.119   -3.14e+04    3564.950\n",
       "degree                   1.7583      0.440      3.999      0.000       0.896       2.620\n",
       "closeness_centrality   -54.4201      6.060     -8.980      0.000     -66.297     -42.543\n",
       "LC                     289.6700    730.853      0.396      0.692   -1142.776    1722.116\n",
       "========================================================================================\n",
       "\"\"\""
      ]
     },
     "execution_count": 368,
     "metadata": {},
     "output_type": "execute_result"
    }
   ],
   "source": [
    "LR.summary()"
   ]
  },
  {
   "cell_type": "code",
   "execution_count": 377,
   "id": "e8a050aa",
   "metadata": {
    "ExecuteTime": {
     "end_time": "2022-12-04T14:12:35.659190Z",
     "start_time": "2022-12-04T14:12:35.637190Z"
    }
   },
   "outputs": [],
   "source": [
    "y_pred = LR.predict(features)"
   ]
  },
  {
   "cell_type": "code",
   "execution_count": 378,
   "id": "df04b956",
   "metadata": {
    "ExecuteTime": {
     "end_time": "2022-12-04T14:12:39.042361Z",
     "start_time": "2022-12-04T14:12:38.907725Z"
    }
   },
   "outputs": [
    {
     "data": {
      "text/plain": [
       "(array([  3.,   3.,   0.,   5.,   0.,   0.,   4.,   0.,  10., 339.]),\n",
       " array([0.05591658, 0.15032492, 0.24473326, 0.3391416 , 0.43354995,\n",
       "        0.52795829, 0.62236663, 0.71677497, 0.81118332, 0.90559166,\n",
       "        1.        ]),\n",
       " <BarContainer object of 10 artists>)"
      ]
     },
     "execution_count": 378,
     "metadata": {},
     "output_type": "execute_result"
    },
    {
     "data": {
      "image/png": "[encoded data removed]",
      "text/plain": [
       "<Figure size 640x480 with 1 Axes>"
      ]
     },
     "metadata": {},
     "output_type": "display_data"
    }
   ],
   "source": [
    "plt.hist(y_pred[solucion])"
   ]
  },
  {
   "cell_type": "markdown",
   "id": "cdf4a5e5",
   "metadata": {},
   "source": [
    "## Comparando y guardando las mejores instancias "
   ]
  },
  {
   "cell_type": "code",
   "execution_count": 3,
   "id": "2a41e89b",
   "metadata": {
    "ExecuteTime": {
     "end_time": "2022-12-16T09:26:51.831098Z",
     "start_time": "2022-12-16T09:26:51.811098Z"
    }
   },
   "outputs": [],
   "source": [
    "PATH_INSTANCES = './BRKGA/instances/Erdos/train/'\n",
    "import os"
   ]
  },
  {
   "cell_type": "code",
   "execution_count": 4,
   "id": "1d5859c6",
   "metadata": {
    "ExecuteTime": {
     "end_time": "2022-12-16T09:26:52.879336Z",
     "start_time": "2022-12-16T09:26:52.855255Z"
    }
   },
   "outputs": [],
   "source": [
    "graphs_aco = [graph for graph in os.listdir(PATH_INSTANCES + \"optimal_aco\")]\n",
    "graphs_brkga = [graph for graph in os.listdir(PATH_INSTANCES + \"optimal_brkga\")]"
   ]
  },
  {
   "cell_type": "code",
   "execution_count": 5,
   "id": "c6a0a3ba",
   "metadata": {
    "ExecuteTime": {
     "end_time": "2022-12-16T09:26:54.990564Z",
     "start_time": "2022-12-16T09:26:54.624790Z"
    }
   },
   "outputs": [],
   "source": [
    "Aco_len = []\n",
    "brkga_len = []\n",
    "\n",
    "for aco in graphs_aco:\n",
    "    with open(PATH_INSTANCES +\"optimal_aco/\"+ aco) as f:\n",
    "        Aco_len.append(len(f.readlines()))\n",
    "\n",
    "for brkga in graphs_brkga:\n",
    "    with open(PATH_INSTANCES +\"optimal_brkga/\"+ brkga) as f:\n",
    "        brkga_len.append(len(f.readlines()))\n"
   ]
  },
  {
   "cell_type": "code",
   "execution_count": 7,
   "id": "e6b3a81d",
   "metadata": {
    "ExecuteTime": {
     "end_time": "2022-12-16T09:28:19.343209Z",
     "start_time": "2022-12-16T09:28:19.327243Z"
    }
   },
   "outputs": [
    {
     "data": {
      "text/plain": [
       "['ER_1000_10_0.dimacs',\n",
       " 'ER_1000_10_1.dimacs',\n",
       " 'ER_1000_10_2.dimacs',\n",
       " 'ER_1000_10_3.dimacs',\n",
       " 'ER_1000_15_0.dimacs',\n",
       " 'ER_1000_15_1.dimacs',\n",
       " 'ER_1000_15_2.dimacs',\n",
       " 'ER_1000_15_3.dimacs',\n",
       " 'ER_1000_20_0.dimacs',\n",
       " 'ER_1000_20_1.dimacs',\n",
       " 'ER_1000_20_2.dimacs',\n",
       " 'ER_1000_20_3.dimacs',\n",
       " 'ER_2000_10_0.dimacs',\n",
       " 'ER_2000_10_1.dimacs',\n",
       " 'ER_2000_10_2.dimacs',\n",
       " 'ER_2000_10_3.dimacs',\n",
       " 'ER_2000_15_0.dimacs',\n",
       " 'ER_2000_15_1.dimacs',\n",
       " 'ER_2000_15_2.dimacs',\n",
       " 'ER_2000_15_3.dimacs',\n",
       " 'ER_2000_20_0.dimacs',\n",
       " 'ER_2000_20_1.dimacs',\n",
       " 'ER_2000_20_2.dimacs',\n",
       " 'ER_2000_20_3.dimacs',\n",
       " 'ER_5000_10_0.dimacs',\n",
       " 'ER_5000_10_1.dimacs',\n",
       " 'ER_5000_10_2.dimacs',\n",
       " 'ER_5000_10_3.dimacs',\n",
       " 'ER_5000_15_0.dimacs',\n",
       " 'ER_5000_15_1.dimacs',\n",
       " 'ER_5000_15_2.dimacs',\n",
       " 'ER_5000_15_3.dimacs',\n",
       " 'ER_5000_20_0.dimacs',\n",
       " 'ER_5000_20_1.dimacs',\n",
       " 'ER_5000_20_2.dimacs',\n",
       " 'ER_5000_20_3.dimacs']"
      ]
     },
     "execution_count": 7,
     "metadata": {},
     "output_type": "execute_result"
    }
   ],
   "source": [
    "graphs_aco"
   ]
  },
  {
   "cell_type": "code",
   "execution_count": 8,
   "id": "98081ffd",
   "metadata": {
    "ExecuteTime": {
     "end_time": "2022-12-16T09:28:50.641726Z",
     "start_time": "2022-12-16T09:28:50.621654Z"
    }
   },
   "outputs": [
    {
     "name": "stdout",
     "output_type": "stream",
     "text": [
      "Graph:ER_1000_10_0.dimacs\n",
      "Aco best solution: 141\n",
      "141 vs 142\n",
      "Graph:ER_1000_10_1.dimacs\n",
      "brkga best solution: 143\n",
      "148 vs 143\n",
      "Graph:ER_1000_10_2.dimacs\n",
      "brkga best solution: 146\n",
      "150 vs 146\n",
      "Graph:ER_1000_10_3.dimacs\n",
      "Aco best solution: 148\n",
      "148 vs 149\n",
      "Graph:ER_1000_15_0.dimacs\n",
      "Aco best solution: 185\n",
      "185 vs 186\n",
      "Graph:ER_1000_15_1.dimacs\n",
      "Aco best solution: 176\n",
      "176 vs 177\n",
      "Graph:ER_1000_15_2.dimacs\n",
      "brkga best solution: 178\n",
      "181 vs 178\n",
      "Graph:ER_1000_15_3.dimacs\n",
      "brkga best solution: 185\n",
      "189 vs 185\n",
      "Graph:ER_1000_20_0.dimacs\n",
      "brkga best solution: 199\n",
      "202 vs 199\n",
      "Graph:ER_1000_20_1.dimacs\n",
      "brkga best solution: 205\n",
      "213 vs 205\n",
      "Graph:ER_1000_20_2.dimacs\n",
      "brkga best solution: 203\n",
      "209 vs 203\n",
      "Graph:ER_1000_20_3.dimacs\n",
      "brkga best solution: 212\n",
      "216 vs 212\n",
      "Graph:ER_2000_10_0.dimacs\n",
      "brkga best solution: 301\n",
      "305 vs 301\n",
      "Graph:ER_2000_10_1.dimacs\n",
      "Aco best solution: 312\n",
      "312 vs 313\n",
      "Graph:ER_2000_10_2.dimacs\n",
      "Aco best solution: 306\n",
      "306 vs 310\n",
      "Graph:ER_2000_10_3.dimacs\n",
      "brkga best solution: 304\n",
      "305 vs 304\n",
      "Graph:ER_2000_15_0.dimacs\n",
      "brkga best solution: 364\n",
      "372 vs 364\n",
      "Graph:ER_2000_15_1.dimacs\n",
      "Aco best solution: 371\n",
      "371 vs 373\n",
      "Graph:ER_2000_15_2.dimacs\n",
      "Aco best solution: 379\n",
      "379 vs 381\n",
      "Graph:ER_2000_15_3.dimacs\n",
      "Aco best solution: 381\n",
      "381 vs 382\n",
      "Graph:ER_2000_20_0.dimacs\n",
      "Aco best solution: 426\n",
      "426 vs 427\n",
      "Graph:ER_2000_20_1.dimacs\n",
      "brkga best solution: 427\n",
      "429 vs 427\n",
      "Graph:ER_2000_20_2.dimacs\n",
      "brkga best solution: 428\n",
      "433 vs 428\n",
      "Graph:ER_2000_20_3.dimacs\n",
      "Aco best solution: 438\n",
      "438 vs 438\n",
      "Graph:ER_5000_10_0.dimacs\n",
      "Aco best solution: 760\n",
      "760 vs 773\n",
      "Graph:ER_5000_10_1.dimacs\n",
      "Aco best solution: 771\n",
      "771 vs 784\n",
      "Graph:ER_5000_10_2.dimacs\n",
      "Aco best solution: 764\n",
      "764 vs 786\n",
      "Graph:ER_5000_10_3.dimacs\n",
      "Aco best solution: 758\n",
      "758 vs 783\n",
      "Graph:ER_5000_15_0.dimacs\n",
      "Aco best solution: 954\n",
      "954 vs 990\n",
      "Graph:ER_5000_15_1.dimacs\n",
      "brkga best solution: 963\n",
      "966 vs 963\n",
      "Graph:ER_5000_15_2.dimacs\n",
      "Aco best solution: 955\n",
      "955 vs 969\n",
      "Graph:ER_5000_15_3.dimacs\n",
      "brkga best solution: 951\n",
      "954 vs 951\n",
      "Graph:ER_5000_20_0.dimacs\n",
      "Aco best solution: 1079\n",
      "1079 vs 1091\n",
      "Graph:ER_5000_20_1.dimacs\n",
      "Aco best solution: 1102\n",
      "1102 vs 1102\n",
      "Graph:ER_5000_20_2.dimacs\n",
      "brkga best solution: 1090\n",
      "1093 vs 1090\n",
      "Graph:ER_5000_20_3.dimacs\n",
      "Aco best solution: 1080\n",
      "1080 vs 1091\n"
     ]
    }
   ],
   "source": [
    "aco_best = 0\n",
    "for br, aco, graph in zip(brkga_len, Aco_len, graphs_aco):\n",
    "    print(f\"Graph:{graph}\")\n",
    "    if aco <= br:\n",
    "        #shutil.copy2(PATH_INSTANCES + \"optimal_aco/\" + graph, PATH_INSTANCES + \"optimal/\" + graph)\n",
    "        print(f\"Aco best solution: {aco}\")\n",
    "        aco_best += 1\n",
    "    else:\n",
    "        #shutil.copy2(PATH_INSTANCES + \"optimal_brkga/\" + graph, PATH_INSTANCES + \"optimal/\" + graph)\n",
    "        print(f\"brkga best solution: {br}\")\n",
    "        \n",
    "    print(aco, \"vs\", br)"
   ]
  },
  {
   "cell_type": "code",
   "execution_count": 68,
   "id": "5525378d",
   "metadata": {
    "ExecuteTime": {
     "end_time": "2022-12-11T19:16:46.507704Z",
     "start_time": "2022-12-11T19:16:46.493651Z"
    }
   },
   "outputs": [
    {
     "name": "stdout",
     "output_type": "stream",
     "text": [
      "Aco fue mejor en el 95.00% de las veces\n"
     ]
    }
   ],
   "source": [
    "print(f\"Aco fue mejor en el {(aco_best / len(graphs_aco))*100:.2f}% de las veces\")"
   ]
  },
  {
   "cell_type": "markdown",
   "id": "a40cc91e",
   "metadata": {},
   "source": [
    "## Generado scalefree ahora yo"
   ]
  },
  {
   "cell_type": "code",
   "execution_count": 23,
   "id": "51d90ed0",
   "metadata": {
    "ExecuteTime": {
     "end_time": "2022-12-09T19:03:07.910680Z",
     "start_time": "2022-12-09T19:03:07.842629Z"
    }
   },
   "outputs": [
    {
     "data": {
      "text/plain": [
       "<networkx.classes.graph.Graph at 0x1cc2549f8e0>"
      ]
     },
     "execution_count": 23,
     "metadata": {},
     "output_type": "execute_result"
    }
   ],
   "source": [
    "nx.barabasi_albert_graph(n = 1_000, m = 23, seed=10374196, initial_graph = None)"
   ]
  },
  {
   "cell_type": "code",
   "execution_count": 3,
   "id": "607a165b",
   "metadata": {
    "ExecuteTime": {
     "end_time": "2022-12-12T10:56:00.296809Z",
     "start_time": "2022-12-12T10:56:00.156651Z"
    }
   },
   "outputs": [],
   "source": [
    "import networkx as nx\n",
    "import igraph"
   ]
  },
  {
   "cell_type": "code",
   "execution_count": 70,
   "id": "7fba6e41",
   "metadata": {
    "ExecuteTime": {
     "end_time": "2022-12-12T11:07:40.698645Z",
     "start_time": "2022-12-12T11:07:40.659643Z"
    }
   },
   "outputs": [
    {
     "data": {
      "text/plain": [
       "['0 204',\n",
       " '0 501',\n",
       " '0 595',\n",
       " '0 648',\n",
       " '0 694',\n",
       " '0 724',\n",
       " '0 922',\n",
       " '1 131',\n",
       " '1 436',\n",
       " '1 523',\n",
       " '1 617',\n",
       " '1 695',\n",
       " '1 812',\n",
       " '1 975',\n",
       " '2 236',\n",
       " '2 429',\n",
       " '2 559',\n",
       " '2 661',\n",
       " '2 847',\n",
       " '2 955',\n",
       " '2 980',\n",
       " '2 997',\n",
       " '3 95',\n",
       " '3 113',\n",
       " '3 428',\n",
       " '3 475',\n",
       " '3 753',\n",
       " '3 804',\n",
       " '3 859',\n",
       " '3 948',\n",
       " '3 959',\n",
       " '3 970',\n",
       " '4 45',\n",
       " '4 323',\n",
       " '4 326',\n",
       " '4 583',\n",
       " '4 654',\n",
       " '4 664',\n",
       " '4 696',\n",
       " '4 898',\n",
       " '4 941',\n",
       " '4 944',\n",
       " '4 980',\n",
       " '5 315',\n",
       " '5 409',\n",
       " '5 467',\n",
       " '5 742',\n",
       " '5 886',\n",
       " '5 917',\n",
       " '6 341',\n",
       " '6 610',\n",
       " '6 639',\n",
       " '6 759',\n",
       " '6 845',\n",
       " '6 920',\n",
       " '6 942',\n",
       " '6 959',\n",
       " '7 305',\n",
       " '7 538',\n",
       " '7 547',\n",
       " '7 907',\n",
       " '8 121',\n",
       " '8 221',\n",
       " '8 553',\n",
       " '8 711',\n",
       " '8 768',\n",
       " '8 774',\n",
       " '8 790',\n",
       " '8 813',\n",
       " '8 912',\n",
       " '8 963',\n",
       " '9 273',\n",
       " '9 364',\n",
       " '9 435',\n",
       " '9 568',\n",
       " '9 810',\n",
       " '9 811',\n",
       " '9 983',\n",
       " '10 19',\n",
       " '10 98',\n",
       " '10 606',\n",
       " '10 871',\n",
       " '10 966',\n",
       " '10 990',\n",
       " '11 93',\n",
       " '11 272',\n",
       " '11 295',\n",
       " '11 380',\n",
       " '11 447',\n",
       " '11 519',\n",
       " '11 553',\n",
       " '11 569',\n",
       " '11 796',\n",
       " '11 821',\n",
       " '11 913',\n",
       " '11 916',\n",
       " '12 66',\n",
       " '12 651',\n",
       " '12 761',\n",
       " '12 764',\n",
       " '12 815',\n",
       " '12 834',\n",
       " '12 846',\n",
       " '13 33',\n",
       " '13 175',\n",
       " '13 374',\n",
       " '13 519',\n",
       " '13 700',\n",
       " '13 853',\n",
       " '13 923',\n",
       " '13 981',\n",
       " '14 252',\n",
       " '14 726',\n",
       " '14 825',\n",
       " '15 29',\n",
       " '15 49',\n",
       " '15 124',\n",
       " '15 200',\n",
       " '15 433',\n",
       " '15 487',\n",
       " '15 564',\n",
       " '15 698',\n",
       " '15 704',\n",
       " '15 875',\n",
       " '15 886',\n",
       " '15 941',\n",
       " '16 392',\n",
       " '16 427',\n",
       " '16 621',\n",
       " '16 664',\n",
       " '16 748',\n",
       " '16 829',\n",
       " '16 877',\n",
       " '16 979',\n",
       " '16 986',\n",
       " '17 65',\n",
       " '17 190',\n",
       " '17 494',\n",
       " '17 625',\n",
       " '17 642',\n",
       " '17 663',\n",
       " '17 728',\n",
       " '17 869',\n",
       " '17 961',\n",
       " '17 980',\n",
       " '17 988',\n",
       " '17 996',\n",
       " '18 193',\n",
       " '18 237',\n",
       " '18 615',\n",
       " '18 646',\n",
       " '18 876',\n",
       " '18 930',\n",
       " '18 980',\n",
       " '18 987',\n",
       " '18 991',\n",
       " '19 93',\n",
       " '19 199',\n",
       " '19 922',\n",
       " '19 948',\n",
       " '19 995',\n",
       " '20 179',\n",
       " '20 803',\n",
       " '20 869',\n",
       " '20 921',\n",
       " '20 947',\n",
       " '20 959',\n",
       " '20 962',\n",
       " '20 972',\n",
       " '21 77',\n",
       " '21 227',\n",
       " '21 552',\n",
       " '21 755',\n",
       " '21 760',\n",
       " '21 888',\n",
       " '21 985',\n",
       " '22 332',\n",
       " '22 670',\n",
       " '22 741',\n",
       " '22 759',\n",
       " '22 775',\n",
       " '22 801',\n",
       " '22 818',\n",
       " '22 846',\n",
       " '22 877',\n",
       " '22 913',\n",
       " '22 924',\n",
       " '22 957',\n",
       " '23 699',\n",
       " '23 754',\n",
       " '23 930',\n",
       " '23 932',\n",
       " '23 947',\n",
       " '23 985',\n",
       " '24 245',\n",
       " '24 390',\n",
       " '24 656',\n",
       " '24 916',\n",
       " '24 952',\n",
       " '24 964',\n",
       " '24 968',\n",
       " '24 972',\n",
       " '24 982',\n",
       " '24 989',\n",
       " '24 998',\n",
       " '25 154',\n",
       " '25 283',\n",
       " '25 382',\n",
       " '25 468',\n",
       " '25 612',\n",
       " '25 622',\n",
       " '25 819',\n",
       " '25 837',\n",
       " '25 899',\n",
       " '25 918',\n",
       " '25 938',\n",
       " '25 973',\n",
       " '25 997',\n",
       " '26 203',\n",
       " '26 290',\n",
       " '26 377',\n",
       " '26 561',\n",
       " '26 733',\n",
       " '26 787',\n",
       " '26 850',\n",
       " '26 898',\n",
       " '26 948',\n",
       " '26 957',\n",
       " '26 989',\n",
       " '27 88',\n",
       " '27 402',\n",
       " '27 849',\n",
       " '27 912',\n",
       " '27 936',\n",
       " '27 986',\n",
       " '28 152',\n",
       " '28 607',\n",
       " '28 629',\n",
       " '28 657',\n",
       " '28 702',\n",
       " '28 707',\n",
       " '28 809',\n",
       " '28 883',\n",
       " '28 971',\n",
       " '29 177',\n",
       " '29 289',\n",
       " '29 362',\n",
       " '29 418',\n",
       " '29 476',\n",
       " '29 960',\n",
       " '29 984',\n",
       " '30 71',\n",
       " '30 207',\n",
       " '30 440',\n",
       " '30 719',\n",
       " '30 798',\n",
       " '30 807',\n",
       " '30 985',\n",
       " '31 256',\n",
       " '31 289',\n",
       " '31 534',\n",
       " '31 641',\n",
       " '31 726',\n",
       " '31 749',\n",
       " '31 961',\n",
       " '32 534',\n",
       " '32 653',\n",
       " '32 746',\n",
       " '32 793',\n",
       " '32 901',\n",
       " '32 941',\n",
       " '32 967',\n",
       " '32 970',\n",
       " '33 90',\n",
       " '33 446',\n",
       " '33 640',\n",
       " '33 659',\n",
       " '33 899',\n",
       " '33 945',\n",
       " '33 988',\n",
       " '34 239',\n",
       " '34 321',\n",
       " '34 561',\n",
       " '34 770',\n",
       " '34 808',\n",
       " '34 926',\n",
       " '35 303',\n",
       " '35 609',\n",
       " '35 768',\n",
       " '35 889',\n",
       " '35 913',\n",
       " '36 499',\n",
       " '36 606',\n",
       " '36 875',\n",
       " '36 947',\n",
       " '36 965',\n",
       " '36 982',\n",
       " '37 174',\n",
       " '37 377',\n",
       " '37 552',\n",
       " '37 569',\n",
       " '37 699',\n",
       " '37 733',\n",
       " '37 901',\n",
       " '37 982',\n",
       " '38 202',\n",
       " '38 384',\n",
       " '38 614',\n",
       " '38 721',\n",
       " '38 829',\n",
       " '38 907',\n",
       " '39 180',\n",
       " '39 325',\n",
       " '39 391',\n",
       " '39 936',\n",
       " '39 972',\n",
       " '40 610',\n",
       " '40 645',\n",
       " '40 672',\n",
       " '40 745',\n",
       " '40 755',\n",
       " '40 832',\n",
       " '40 992',\n",
       " '41 476',\n",
       " '41 690',\n",
       " '41 843',\n",
       " '41 902',\n",
       " '41 955',\n",
       " '42 239',\n",
       " '42 593',\n",
       " '42 644',\n",
       " '42 687',\n",
       " '42 748',\n",
       " '42 839',\n",
       " '42 846',\n",
       " '42 880',\n",
       " '42 946',\n",
       " '42 979',\n",
       " '42 983',\n",
       " '42 985',\n",
       " '42 997',\n",
       " '43 609',\n",
       " '43 630',\n",
       " '43 781',\n",
       " '43 821',\n",
       " '43 912',\n",
       " '43 983',\n",
       " '43 991',\n",
       " '44 502',\n",
       " '44 719',\n",
       " '44 973',\n",
       " '45 733',\n",
       " '45 843',\n",
       " '45 935',\n",
       " '45 969',\n",
       " '45 993',\n",
       " '45 997',\n",
       " '46 77',\n",
       " '46 248',\n",
       " '46 744',\n",
       " '46 771',\n",
       " '46 776',\n",
       " '46 778',\n",
       " '46 779',\n",
       " '46 794',\n",
       " '46 869',\n",
       " '46 874',\n",
       " '46 911',\n",
       " '46 964',\n",
       " '47 355',\n",
       " '47 966',\n",
       " '47 968',\n",
       " '47 969',\n",
       " '48 295',\n",
       " '48 414',\n",
       " '48 423',\n",
       " '48 456',\n",
       " '48 585',\n",
       " '48 614',\n",
       " '48 627',\n",
       " '48 711',\n",
       " '48 938',\n",
       " '48 948',\n",
       " '49 92',\n",
       " '49 442',\n",
       " '49 542',\n",
       " '49 932',\n",
       " '49 972',\n",
       " '50 125',\n",
       " '50 231',\n",
       " '50 271',\n",
       " '50 394',\n",
       " '50 439',\n",
       " '50 622',\n",
       " '50 857',\n",
       " '50 892',\n",
       " '50 954',\n",
       " '50 958',\n",
       " '50 981',\n",
       " '50 989',\n",
       " '51 145',\n",
       " '51 515',\n",
       " '51 648',\n",
       " '51 704',\n",
       " '52 350',\n",
       " '52 708',\n",
       " '52 789',\n",
       " '52 793',\n",
       " '52 898',\n",
       " '52 972',\n",
       " '52 973',\n",
       " '53 311',\n",
       " '53 418',\n",
       " '53 479',\n",
       " '53 811',\n",
       " '53 912',\n",
       " '53 962',\n",
       " '54 930',\n",
       " '54 979',\n",
       " '54 982',\n",
       " '54 993',\n",
       " '55 400',\n",
       " '55 545',\n",
       " '55 796',\n",
       " '55 813',\n",
       " '55 853',\n",
       " '55 908',\n",
       " '55 971',\n",
       " '55 984',\n",
       " '56 228',\n",
       " '56 565',\n",
       " '56 720',\n",
       " '56 804',\n",
       " '56 832',\n",
       " '56 884',\n",
       " '56 921',\n",
       " '56 941',\n",
       " '56 959',\n",
       " '56 979',\n",
       " '56 990',\n",
       " '57 102',\n",
       " '57 144',\n",
       " '57 442',\n",
       " '57 506',\n",
       " '57 561',\n",
       " '57 679',\n",
       " '57 768',\n",
       " '57 827',\n",
       " '57 904',\n",
       " '58 254',\n",
       " '58 291',\n",
       " '58 377',\n",
       " '58 458',\n",
       " '58 675',\n",
       " '58 682',\n",
       " '58 783',\n",
       " '58 815',\n",
       " '58 868',\n",
       " '58 889',\n",
       " '58 926',\n",
       " '58 939',\n",
       " '58 960',\n",
       " '58 966',\n",
       " '58 986',\n",
       " '58 995',\n",
       " '58 997',\n",
       " '59 64',\n",
       " '59 166',\n",
       " '59 320',\n",
       " '59 342',\n",
       " '59 361',\n",
       " '59 505',\n",
       " '59 639',\n",
       " '59 679',\n",
       " '59 812',\n",
       " '59 917',\n",
       " '59 942',\n",
       " '60 461',\n",
       " '60 763',\n",
       " '60 890',\n",
       " '60 951',\n",
       " '60 959',\n",
       " '60 972',\n",
       " '60 979',\n",
       " '60 998',\n",
       " '61 292',\n",
       " '61 363',\n",
       " '61 393',\n",
       " '61 595',\n",
       " '61 619',\n",
       " '61 728',\n",
       " '61 779',\n",
       " '61 936',\n",
       " '61 970',\n",
       " '61 981',\n",
       " '61 983',\n",
       " '61 997',\n",
       " '62 111',\n",
       " '62 138',\n",
       " '62 222',\n",
       " '62 231',\n",
       " '62 743',\n",
       " '62 760',\n",
       " '62 793',\n",
       " '62 837',\n",
       " '62 992',\n",
       " '62 998',\n",
       " '63 279',\n",
       " '63 366',\n",
       " '63 782',\n",
       " '63 845',\n",
       " '63 878',\n",
       " '63 996',\n",
       " '64 192',\n",
       " '64 232',\n",
       " '64 302',\n",
       " '64 359',\n",
       " '64 402',\n",
       " '64 461',\n",
       " '64 491',\n",
       " '64 596',\n",
       " '64 633',\n",
       " '64 670',\n",
       " '64 674',\n",
       " '64 768',\n",
       " '64 778',\n",
       " '64 823',\n",
       " '64 963',\n",
       " '64 967',\n",
       " '64 985',\n",
       " '65 291',\n",
       " '65 316',\n",
       " '65 800',\n",
       " '65 804',\n",
       " '65 813',\n",
       " '65 889',\n",
       " '65 915',\n",
       " '65 945',\n",
       " '66 733',\n",
       " '66 738',\n",
       " '66 864',\n",
       " '66 873',\n",
       " '66 917',\n",
       " '66 951',\n",
       " '66 963',\n",
       " '67 227',\n",
       " '67 529',\n",
       " '67 702',\n",
       " '67 744',\n",
       " '67 894',\n",
       " '67 958',\n",
       " '67 968',\n",
       " '67 976',\n",
       " '67 979',\n",
       " '67 981',\n",
       " '67 989',\n",
       " '67 997',\n",
       " '68 492',\n",
       " '68 589',\n",
       " '68 789',\n",
       " '68 840',\n",
       " '68 880',\n",
       " '68 888',\n",
       " '68 920',\n",
       " '68 928',\n",
       " '68 971',\n",
       " '68 980',\n",
       " '68 984',\n",
       " '68 986',\n",
       " '69 316',\n",
       " '69 343',\n",
       " '69 927',\n",
       " '69 943',\n",
       " '69 962',\n",
       " '70 129',\n",
       " '70 335',\n",
       " '70 544',\n",
       " '70 586',\n",
       " '70 650',\n",
       " '70 836',\n",
       " '70 840',\n",
       " '70 904',\n",
       " '70 921',\n",
       " '70 959',\n",
       " '70 967',\n",
       " '70 997',\n",
       " '71 456',\n",
       " '71 498',\n",
       " '71 516',\n",
       " '71 534',\n",
       " '71 576',\n",
       " '71 596',\n",
       " '71 628',\n",
       " '71 899',\n",
       " '71 923',\n",
       " '71 948',\n",
       " '71 955',\n",
       " '72 394',\n",
       " '72 481',\n",
       " '72 495',\n",
       " '72 501',\n",
       " '72 677',\n",
       " '72 872',\n",
       " '72 879',\n",
       " '72 963',\n",
       " '72 988',\n",
       " '73 332',\n",
       " '73 505',\n",
       " '73 516',\n",
       " '73 696',\n",
       " '73 837',\n",
       " '73 924',\n",
       " '73 949',\n",
       " '74 413',\n",
       " '74 439',\n",
       " '74 475',\n",
       " '74 601',\n",
       " '74 669',\n",
       " '74 691',\n",
       " '74 857',\n",
       " '74 876',\n",
       " '74 889',\n",
       " '74 910',\n",
       " '74 928',\n",
       " '74 963',\n",
       " '74 965',\n",
       " '74 966',\n",
       " '75 182',\n",
       " '75 299',\n",
       " '75 490',\n",
       " '75 611',\n",
       " '75 755',\n",
       " '75 765',\n",
       " '75 775',\n",
       " '75 802',\n",
       " '75 841',\n",
       " '75 856',\n",
       " '75 913',\n",
       " '75 937',\n",
       " '75 965',\n",
       " '75 966',\n",
       " '76 379',\n",
       " '76 461',\n",
       " '76 837',\n",
       " '76 914',\n",
       " '77 157',\n",
       " '77 532',\n",
       " '77 585',\n",
       " '77 826',\n",
       " '77 835',\n",
       " '77 844',\n",
       " '77 870',\n",
       " '77 909',\n",
       " '77 922',\n",
       " '77 997',\n",
       " '78 98',\n",
       " '78 344',\n",
       " '78 453',\n",
       " '78 466',\n",
       " '78 473',\n",
       " '78 504',\n",
       " '78 730',\n",
       " '78 850',\n",
       " '78 911',\n",
       " '78 954',\n",
       " '78 980',\n",
       " '78 987',\n",
       " '78 999',\n",
       " '79 189',\n",
       " '79 433',\n",
       " '79 446',\n",
       " '79 616',\n",
       " '79 855',\n",
       " '79 896',\n",
       " '79 911',\n",
       " '80 505',\n",
       " '80 526',\n",
       " '80 574',\n",
       " '80 691',\n",
       " '80 811',\n",
       " '80 932',\n",
       " '80 971',\n",
       " '81 111',\n",
       " '81 616',\n",
       " '81 690',\n",
       " '81 787',\n",
       " '81 902',\n",
       " '81 929',\n",
       " '81 935',\n",
       " '81 942',\n",
       " '81 943',\n",
       " '81 955',\n",
       " '82 619',\n",
       " '82 690',\n",
       " '82 777',\n",
       " '82 835',\n",
       " '82 879',\n",
       " '82 933',\n",
       " '82 936',\n",
       " '82 994',\n",
       " '83 465',\n",
       " '83 639',\n",
       " '83 836',\n",
       " '83 926',\n",
       " '83 942',\n",
       " '83 971',\n",
       " '84 378',\n",
       " '84 422',\n",
       " '84 830',\n",
       " '84 859',\n",
       " '84 905',\n",
       " '84 977',\n",
       " '85 121',\n",
       " '85 402',\n",
       " '85 417',\n",
       " '85 552',\n",
       " '85 591',\n",
       " '85 640',\n",
       " '85 865',\n",
       " '85 894',\n",
       " '85 895',\n",
       " '85 937',\n",
       " '85 986',\n",
       " '86 499',\n",
       " '86 603',\n",
       " '86 757',\n",
       " '86 882',\n",
       " '86 884',\n",
       " '86 904',\n",
       " '86 914',\n",
       " '86 932',\n",
       " '86 953',\n",
       " '86 966',\n",
       " '86 988',\n",
       " '86 989',\n",
       " '87 574',\n",
       " '87 586',\n",
       " '87 683',\n",
       " '87 763',\n",
       " '87 815',\n",
       " '87 855',\n",
       " '87 894',\n",
       " '87 911',\n",
       " '87 923',\n",
       " '87 997',\n",
       " '88 299',\n",
       " '88 485',\n",
       " '88 577',\n",
       " '88 586',\n",
       " '88 742',\n",
       " '88 811',\n",
       " '88 825',\n",
       " '88 979',\n",
       " '88 993',\n",
       " '89 94',\n",
       " '89 565',\n",
       " '89 592',\n",
       " '89 630',\n",
       " '89 636',\n",
       " '89 846',\n",
       " '90 176',\n",
       " '90 270',\n",
       " '90 311',\n",
       " '90 444',\n",
       " '90 811',\n",
       " '90 946',\n",
       " '90 983',\n",
       " '91 523',\n",
       " '91 608',\n",
       " '91 663',\n",
       " '91 787',\n",
       " '91 807',\n",
       " '91 808',\n",
       " '91 865',\n",
       " '91 887',\n",
       " '91 971',\n",
       " '91 982',\n",
       " '92 126',\n",
       " '92 268',\n",
       " '92 642',\n",
       " '92 706',\n",
       " '92 813',\n",
       " '92 829',\n",
       " '92 848',\n",
       " '93 294',\n",
       " '93 460',\n",
       " '93 692',\n",
       " '93 719',\n",
       " '93 748',\n",
       " '93 842',\n",
       " '93 960',\n",
       " '93 974',\n",
       " '94 465',\n",
       " '94 612',\n",
       " '94 677',\n",
       " '94 826',\n",
       " '94 855',\n",
       " '94 975',\n",
       " '94 995',\n",
       " '95 333',\n",
       " '95 555',\n",
       " '95 601',\n",
       " '95 624',\n",
       " '95 660',\n",
       " '95 685',\n",
       " '95 688',\n",
       " '95 901',\n",
       " '95 954',\n",
       " '95 959',\n",
       " '96 456',\n",
       " '96 584',\n",
       " '96 718',\n",
       " '96 805',\n",
       " '96 812',\n",
       " '96 889',\n",
       " '96 895',\n",
       " '96 925',\n",
       " '96 969',\n",
       " '96 988',\n",
       " '97 159',\n",
       " '97 463',\n",
       " '97 534',\n",
       " '97 659',\n",
       " '97 667',\n",
       " '97 693',\n",
       " '97 790',\n",
       " '97 825',\n",
       " '97 905',\n",
       " '97 962',\n",
       " '97 983',\n",
       " '97 986',\n",
       " '98 489',\n",
       " '98 532',\n",
       " '98 701',\n",
       " '98 765',\n",
       " '98 834',\n",
       " '98 910',\n",
       " '98 955',\n",
       " '98 976',\n",
       " '98 997',\n",
       " '99 370',\n",
       " '99 454',\n",
       " '99 577',\n",
       " '99 580',\n",
       " '99 704',\n",
       " '99 713',\n",
       " '99 766',\n",
       " '99 792',\n",
       " '99 875',\n",
       " '99 894',\n",
       " '99 903',\n",
       " '99 912',\n",
       " '99 933',\n",
       " '99 935',\n",
       " '99 964',\n",
       " '99 974',\n",
       " '100 112',\n",
       " '100 438',\n",
       " '100 458',\n",
       " '100 694',\n",
       " '100 796',\n",
       " '100 889',\n",
       " '101 362',\n",
       " '101 364',\n",
       " '101 582',\n",
       " '101 601',\n",
       " '101 627',\n",
       " '101 668',\n",
       " '101 800',\n",
       " '101 815',\n",
       " '101 831',\n",
       " '101 839',\n",
       " '101 867',\n",
       " '101 886',\n",
       " '101 888',\n",
       " '101 906',\n",
       " '101 924',\n",
       " '102 382',\n",
       " '102 487',\n",
       " '102 635',\n",
       " '102 639',\n",
       " '102 675',\n",
       " '102 743',\n",
       " '102 773',\n",
       " '102 843',\n",
       " '102 901',\n",
       " '102 980',\n",
       " '102 994',\n",
       " '103 263',\n",
       " '103 483',\n",
       " '103 540',\n",
       " '103 568',\n",
       " '103 588',\n",
       " '103 824',\n",
       " '103 929',\n",
       " '103 942',\n",
       " '103 960',\n",
       " '103 997',\n",
       " '104 288',\n",
       " '104 329',\n",
       " '104 728',\n",
       " '104 844',\n",
       " '104 922',\n",
       " '104 979',\n",
       " '104 995',\n",
       " '105 162',\n",
       " '105 341',\n",
       " '105 480',\n",
       " '105 785',\n",
       " '105 786',\n",
       " '105 840',\n",
       " '105 957',\n",
       " '105 961',\n",
       " '106 287',\n",
       " '106 325',\n",
       " '106 334',\n",
       " '106 397',\n",
       " '106 443',\n",
       " '106 561',\n",
       " '106 635',\n",
       " '106 678',\n",
       " '107 422',\n",
       " '107 442',\n",
       " '107 495',\n",
       " '107 552',\n",
       " '107 779',\n",
       " '107 859',\n",
       " '107 867',\n",
       " '107 879',\n",
       " '107 983',\n",
       " '108 538',\n",
       " '108 594',\n",
       " '108 728',\n",
       " '108 792',\n",
       " '108 882',\n",
       " '108 956',\n",
       " '108 959',\n",
       " '109 168',\n",
       " '109 391',\n",
       " '109 551',\n",
       " '109 571',\n",
       " '109 623',\n",
       " '109 799',\n",
       " '109 815',\n",
       " '109 922',\n",
       " '109 936',\n",
       " '109 947',\n",
       " '109 967',\n",
       " '109 980',\n",
       " '110 267',\n",
       " '110 274',\n",
       " '110 346',\n",
       " '110 587',\n",
       " '110 711',\n",
       " '110 821',\n",
       " '110 832',\n",
       " '110 961',\n",
       " '110 973',\n",
       " '110 984',\n",
       " '110 999',\n",
       " '111 191',\n",
       " '111 197',\n",
       " '111 263',\n",
       " '111 368',\n",
       " '111 402',\n",
       " '111 460',\n",
       " '111 887',\n",
       " '111 889',\n",
       " '111 917',\n",
       " '111 993',\n",
       " '112 485',\n",
       " '112 911',\n",
       " '112 986',\n",
       " '112 989',\n",
       " '113 385',\n",
       " '113 897',\n",
       " '113 969',\n",
       " '114 320',\n",
       " '114 324',\n",
       " '114 595',\n",
       " '114 616',\n",
       " '114 790',\n",
       " '114 845',\n",
       " '114 913',\n",
       " '114 991',\n",
       " '115 282',\n",
       " '115 389',\n",
       " '115 649',\n",
       " '115 656',\n",
       " '115 725',\n",
       " '115 821',\n",
       " '115 879',\n",
       " '115 919',\n",
       " '115 928',\n",
       " '115 939',\n",
       " '115 978',\n",
       " '115 983',\n",
       " '116 460',\n",
       " '116 531',\n",
       " '116 538',\n",
       " ...]"
      ]
     },
     "execution_count": 70,
     "metadata": {},
     "output_type": "execute_result"
    }
   ],
   "source": [
    "VectorList"
   ]
  },
  {
   "cell_type": "code",
   "execution_count": 20,
   "id": "4d3753d6",
   "metadata": {
    "ExecuteTime": {
     "end_time": "2022-12-12T18:41:07.304681Z",
     "start_time": "2022-12-12T18:41:07.279687Z"
    }
   },
   "outputs": [],
   "source": [
    "PATH = './BRKGA/instances/socialnetworks/txt/graph_karate.txt'\n",
    "\n",
    "\n",
    "\n",
    "file1 = open(PATH, 'r')\n",
    "Lines = file1.readlines()\n",
    "VectorList = []\n",
    "for line in Lines:\n",
    "    VectorList.append(line.replace(\"\\n\",\"\"))\n",
    "    \n",
    "file1.close()\n",
    "G2 = nx.parse_edgelist(VectorList, nodetype=int)\n",
    "\n",
    "H = nx.Graph()\n",
    "H.add_nodes_from(sorted(G2.nodes(data=True)))\n",
    "H.add_edges_from(G2.edges(data=True))"
   ]
  },
  {
   "cell_type": "code",
   "execution_count": 21,
   "id": "595ce0a7",
   "metadata": {
    "ExecuteTime": {
     "end_time": "2022-12-12T18:41:16.956029Z",
     "start_time": "2022-12-12T18:41:16.943449Z"
    }
   },
   "outputs": [
    {
     "data": {
      "text/plain": [
       "array([ 0,  1,  2,  3,  4,  5,  6,  7,  8,  9, 10, 11, 12, 13, 14, 15, 16,\n",
       "       17, 18, 19, 20, 21, 22, 23, 24, 25, 26, 27, 28, 29, 30, 31, 32, 33,\n",
       "       34, 35, 36, 37, 38, 39, 40, 41, 42, 43, 44, 45, 46, 47, 48, 49, 50,\n",
       "       51, 52, 53, 54, 55, 56, 57, 58, 59, 60, 61])"
      ]
     },
     "execution_count": 21,
     "metadata": {},
     "output_type": "execute_result"
    }
   ],
   "source": [
    "np.array(list(H))"
   ]
  },
  {
   "cell_type": "code",
   "execution_count": 90,
   "id": "df1b6d31",
   "metadata": {
    "ExecuteTime": {
     "end_time": "2022-12-12T11:12:47.945165Z",
     "start_time": "2022-12-12T11:12:47.928165Z"
    },
    "scrolled": true
   },
   "outputs": [
    {
     "data": {
      "text/plain": [
       "True"
      ]
     },
     "execution_count": 90,
     "metadata": {},
     "output_type": "execute_result"
    }
   ],
   "source": [
    "G.is_directed() == H.is_directed()"
   ]
  },
  {
   "cell_type": "code",
   "execution_count": 91,
   "id": "77997a0b",
   "metadata": {
    "ExecuteTime": {
     "end_time": "2022-12-12T11:12:53.635984Z",
     "start_time": "2022-12-12T11:12:53.625985Z"
    }
   },
   "outputs": [
    {
     "data": {
      "text/plain": [
       "True"
      ]
     },
     "execution_count": 91,
     "metadata": {},
     "output_type": "execute_result"
    }
   ],
   "source": [
    "G.nodes() == H.nodes()"
   ]
  },
  {
   "cell_type": "code",
   "execution_count": 92,
   "id": "48b84039",
   "metadata": {
    "ExecuteTime": {
     "end_time": "2022-12-12T11:12:57.528502Z",
     "start_time": "2022-12-12T11:12:57.501496Z"
    }
   },
   "outputs": [
    {
     "data": {
      "text/plain": [
       "True"
      ]
     },
     "execution_count": 92,
     "metadata": {},
     "output_type": "execute_result"
    }
   ],
   "source": [
    "H.edges() == G.edges()"
   ]
  },
  {
   "cell_type": "code",
   "execution_count": 19,
   "id": "ffd804b0",
   "metadata": {
    "ExecuteTime": {
     "end_time": "2022-12-12T18:34:50.958412Z",
     "start_time": "2022-12-12T18:34:50.934824Z"
    }
   },
   "outputs": [
    {
     "data": {
      "text/plain": [
       "['b', 'a']"
      ]
     },
     "execution_count": 19,
     "metadata": {},
     "output_type": "execute_result"
    }
   ],
   "source": [
    "f = [\"a\", \"b\"]\n",
    "f.sort(reverse = True)\n",
    "f"
   ]
  },
  {
   "cell_type": "code",
   "execution_count": 68,
   "id": "2cdfb1b5",
   "metadata": {
    "ExecuteTime": {
     "end_time": "2022-12-12T11:07:23.601397Z",
     "start_time": "2022-12-12T11:07:23.587393Z"
    }
   },
   "outputs": [
    {
     "data": {
      "text/plain": [
       "[]"
      ]
     },
     "execution_count": 68,
     "metadata": {},
     "output_type": "execute_result"
    }
   ],
   "source": [
    "list(nx.isolates(G2))"
   ]
  },
  {
   "cell_type": "code",
   "execution_count": 30,
   "id": "ace08339",
   "metadata": {
    "ExecuteTime": {
     "end_time": "2022-12-12T18:44:22.700314Z",
     "start_time": "2022-12-12T18:44:22.682316Z"
    }
   },
   "outputs": [
    {
     "data": {
      "text/plain": [
       "62"
      ]
     },
     "execution_count": 30,
     "metadata": {},
     "output_type": "execute_result"
    }
   ],
   "source": [
    "H.number_of_nodes()"
   ]
  },
  {
   "cell_type": "code",
   "execution_count": 64,
   "id": "adf50885",
   "metadata": {
    "ExecuteTime": {
     "end_time": "2022-12-12T11:06:40.152834Z",
     "start_time": "2022-12-12T11:06:30.312962Z"
    }
   },
   "outputs": [],
   "source": [
    "F = getFeatures(G)"
   ]
  },
  {
   "cell_type": "code",
   "execution_count": 28,
   "id": "fedb40d1",
   "metadata": {
    "ExecuteTime": {
     "end_time": "2022-12-12T18:44:16.135373Z",
     "start_time": "2022-12-12T18:44:16.080374Z"
    }
   },
   "outputs": [],
   "source": [
    "F2 = getFeatures(H)"
   ]
  },
  {
   "cell_type": "code",
   "execution_count": 36,
   "id": "86f03c09",
   "metadata": {
    "ExecuteTime": {
     "end_time": "2022-12-12T18:50:33.326784Z",
     "start_time": "2022-12-12T18:50:33.313973Z"
    }
   },
   "outputs": [
    {
     "data": {
      "text/plain": [
       "(array([[1.90825962e-02, 1.69622067e-02, 6.00000000e+00, 3.46590909e-01,\n",
       "         1.95140154e-02],\n",
       "        [2.13324436e-01, 2.46577792e-02, 8.00000000e+00, 3.71951220e-01,\n",
       "         1.99196248e-01],\n",
       "        [9.07281243e-03, 1.33357337e-02, 4.00000000e+00, 2.82407407e-01,\n",
       "         1.00933515e-02],\n",
       "        [2.37379651e-03, 9.62733496e-03, 3.00000000e+00, 3.08080808e-01,\n",
       "         2.90528233e-03],\n",
       "        [0.00000000e+00, 5.07910163e-03, 1.00000000e+00, 2.48979592e-01,\n",
       "         0.00000000e+00],\n",
       "        [4.38030018e-03, 1.44347482e-02, 4.00000000e+00, 2.38281250e-01,\n",
       "         6.04223588e-03],\n",
       "        [2.93725367e-02, 2.00631445e-02, 6.00000000e+00, 2.67543860e-01,\n",
       "         2.78910926e-02],\n",
       "        [1.18238619e-01, 1.56457197e-02, 5.00000000e+00, 3.65269461e-01,\n",
       "         1.28002609e-01],\n",
       "        [2.23657376e-02, 1.70952547e-02, 6.00000000e+00, 3.63095238e-01,\n",
       "         2.28763336e-02],\n",
       "        [2.08943804e-02, 2.34702155e-02, 7.00000000e+00, 2.52066116e-01,\n",
       "         2.11086234e-02],\n",
       "        [1.60920209e-02, 1.51056238e-02, 5.00000000e+00, 3.12820513e-01,\n",
       "         1.71152095e-02],\n",
       "        [0.00000000e+00, 5.07910163e-03, 1.00000000e+00, 2.48979592e-01,\n",
       "         0.00000000e+00],\n",
       "        [0.00000000e+00, 4.83467205e-03, 1.00000000e+00, 2.68722467e-01,\n",
       "         0.00000000e+00],\n",
       "        [5.28463284e-02, 2.61699260e-02, 8.00000000e+00, 2.71111111e-01,\n",
       "         5.32972393e-02],\n",
       "        [6.19720048e-02, 3.21370297e-02, 1.20000000e+01, 3.76543210e-01,\n",
       "         6.29217408e-02],\n",
       "        [3.32922210e-02, 1.98786936e-02, 7.00000000e+00, 3.38888889e-01,\n",
       "         3.37468883e-02],\n",
       "        [3.30470986e-03, 1.66231105e-02, 6.00000000e+00, 3.29729730e-01,\n",
       "         3.12949952e-03],\n",
       "        [1.14300163e-01, 3.17411226e-02, 9.00000000e+00, 3.09644670e-01,\n",
       "         1.10820133e-01],\n",
       "        [1.48548997e-02, 1.93908978e-02, 7.00000000e+00, 3.37016575e-01,\n",
       "         1.57156302e-02],\n",
       "        [1.33143942e-02, 1.29309418e-02, 4.00000000e+00, 3.16062176e-01,\n",
       "         1.25320026e-02],\n",
       "        [1.02645740e-01, 2.46364683e-02, 9.00000000e+00, 3.91025641e-01,\n",
       "         9.98371932e-02],\n",
       "        [1.27006539e-02, 1.69349726e-02, 6.00000000e+00, 3.33333333e-01,\n",
       "         1.21666775e-02],\n",
       "        [0.00000000e+00, 5.41744335e-03, 1.00000000e+00, 2.37354086e-01,\n",
       "         0.00000000e+00],\n",
       "        [4.21827856e-02, 9.86199570e-03, 3.00000000e+00, 3.33333333e-01,\n",
       "         4.18755313e-02],\n",
       "        [7.38304349e-03, 1.69017080e-02, 6.00000000e+00, 3.12820513e-01,\n",
       "         7.30093677e-03],\n",
       "        [1.64411484e-03, 1.15080339e-02, 3.00000000e+00, 2.55230126e-01,\n",
       "         1.70512042e-03],\n",
       "        [4.36247723e-03, 1.12134157e-02, 3.00000000e+00, 2.77272727e-01,\n",
       "         4.44975713e-03],\n",
       "        [2.92368605e-02, 1.71355080e-02, 5.00000000e+00, 3.16062176e-01,\n",
       "         3.20500116e-02],\n",
       "        [6.67569547e-02, 1.48452012e-02, 5.00000000e+00, 3.65269461e-01,\n",
       "         6.62395011e-02],\n",
       "        [6.55292825e-02, 2.64524355e-02, 9.00000000e+00, 3.22751323e-01,\n",
       "         6.72190780e-02],\n",
       "        [3.30504608e-02, 1.53023683e-02, 5.00000000e+00, 3.22751323e-01,\n",
       "         3.19236997e-02],\n",
       "        [0.00000000e+00, 5.41744335e-03, 1.00000000e+00, 2.37354086e-01,\n",
       "         0.00000000e+00],\n",
       "        [3.27868852e-02, 1.33139289e-02, 3.00000000e+00, 2.16312057e-01,\n",
       "         3.27868852e-02],\n",
       "        [5.71664401e-02, 2.84167382e-02, 1.00000000e+01, 3.65269461e-01,\n",
       "         5.83833702e-02],\n",
       "        [3.26947597e-02, 1.59167608e-02, 5.00000000e+00, 3.16062176e-01,\n",
       "         3.18533698e-02],\n",
       "        [0.00000000e+00, 4.91750966e-03, 1.00000000e+00, 2.44979920e-01,\n",
       "         0.00000000e+00],\n",
       "        [2.48237196e-01, 2.06123354e-02, 7.00000000e+00, 4.17808219e-01,\n",
       "         2.40145286e-01],\n",
       "        [1.38569789e-01, 2.98689545e-02, 1.10000000e+01, 3.98692810e-01,\n",
       "         1.34280987e-01],\n",
       "        [4.53522388e-02, 2.39342110e-02, 8.00000000e+00, 3.29729730e-01,\n",
       "         4.50585480e-02],\n",
       "        [7.05167785e-02, 7.76617401e-03, 2.00000000e+00, 3.35164835e-01,\n",
       "         7.56532982e-02],\n",
       "        [1.43149518e-01, 2.19630689e-02, 8.00000000e+00, 4.03973510e-01,\n",
       "         1.49592719e-01],\n",
       "        [2.32516007e-02, 1.61446556e-02, 5.00000000e+00, 2.97560976e-01,\n",
       "         2.04469842e-02],\n",
       "        [2.91579519e-02, 1.76158642e-02, 6.00000000e+00, 3.29729730e-01,\n",
       "         2.95184426e-02],\n",
       "        [6.28306044e-02, 2.16865444e-02, 7.00000000e+00, 3.37016575e-01,\n",
       "         6.23551154e-02],\n",
       "        [1.20378058e-02, 1.28283872e-02, 4.00000000e+00, 3.11224490e-01,\n",
       "         1.23277171e-02],\n",
       "        [4.06704406e-02, 2.95071372e-02, 1.10000000e+01, 3.46590909e-01,\n",
       "         3.73123536e-02],\n",
       "        [3.00846694e-03, 8.82455334e-03, 2.00000000e+00, 2.56302521e-01,\n",
       "         3.75227687e-03],\n",
       "        [2.32014761e-02, 1.73372847e-02, 6.00000000e+00, 3.38888889e-01,\n",
       "         2.33870927e-02],\n",
       "        [0.00000000e+00, 5.26325794e-03, 1.00000000e+00, 2.32824427e-01,\n",
       "         0.00000000e+00],\n",
       "        [9.28961749e-04, 8.87543003e-03, 2.00000000e+00, 2.46963563e-01,\n",
       "         1.00182149e-03],\n",
       "        [3.34110349e-02, 1.92276578e-02, 7.00000000e+00, 3.50574713e-01,\n",
       "         3.20910313e-02],\n",
       "        [8.46772548e-02, 3.12923425e-02, 1.00000000e+01, 3.29729730e-01,\n",
       "         8.56496335e-02],\n",
       "        [1.92343449e-02, 1.20701506e-02, 4.00000000e+00, 3.42696629e-01,\n",
       "         2.18921416e-02],\n",
       "        [1.19307832e-03, 8.17972121e-03, 2.00000000e+00, 2.59574468e-01,\n",
       "         1.22723133e-03],\n",
       "        [9.91216468e-02, 2.16594518e-02, 7.00000000e+00, 3.24468085e-01,\n",
       "         1.00530618e-01],\n",
       "        [8.77469525e-04, 7.49283917e-03, 2.00000000e+00, 2.71111111e-01,\n",
       "         8.53825137e-04],\n",
       "        [1.36612022e-04, 8.32973572e-03, 2.00000000e+00, 2.13286713e-01,\n",
       "         1.36612022e-04],\n",
       "        [8.42046834e-02, 3.01089414e-02, 9.00000000e+00, 3.01980198e-01,\n",
       "         8.92006134e-02],\n",
       "        [0.00000000e+00, 4.96224728e-03, 1.00000000e+00, 2.48979592e-01,\n",
       "         0.00000000e+00],\n",
       "        [2.03327747e-02, 1.47653509e-02, 5.00000000e+00, 3.42696629e-01,\n",
       "         1.90552520e-02],\n",
       "        [0.00000000e+00, 6.19211066e-03, 1.00000000e+00, 1.78362573e-01,\n",
       "         0.00000000e+00],\n",
       "        [1.41949826e-02, 1.10373030e-02, 3.00000000e+00, 3.01980198e-01,\n",
       "         1.53502580e-02]]),\n",
       " ['BC', 'PageRank', 'degree', 'closeness_centrality', 'LC'])"
      ]
     },
     "execution_count": 36,
     "metadata": {},
     "output_type": "execute_result"
    }
   ],
   "source": [
    "F2"
   ]
  },
  {
   "cell_type": "code",
   "execution_count": 13,
   "id": "ea543a4b",
   "metadata": {
    "ExecuteTime": {
     "end_time": "2022-12-12T18:20:15.861052Z",
     "start_time": "2022-12-12T18:20:15.840258Z"
    }
   },
   "outputs": [],
   "source": [
    "with open(\"./tes.npy\", \"wb\") as f:\n",
    "    np.save(f, F2[0], allow_pickle=True)"
   ]
  },
  {
   "cell_type": "code",
   "execution_count": 31,
   "id": "fe8b20ad",
   "metadata": {
    "ExecuteTime": {
     "end_time": "2022-12-12T18:50:01.330488Z",
     "start_time": "2022-12-12T18:50:01.314351Z"
    }
   },
   "outputs": [],
   "source": [
    "with open(\"./tes.npy\", \"rb\") as f:\n",
    "    d = np.load(f, allow_pickle=True)"
   ]
  },
  {
   "cell_type": "code",
   "execution_count": 35,
   "id": "5e47d450",
   "metadata": {
    "ExecuteTime": {
     "end_time": "2022-12-12T18:50:24.597709Z",
     "start_time": "2022-12-12T18:50:24.588166Z"
    }
   },
   "outputs": [
    {
     "data": {
      "text/plain": [
       "array([array([1.90825962e-02, 2.13324436e-01, 9.07281243e-03, 2.37379651e-03,\n",
       "              0.00000000e+00, 4.38030018e-03, 2.93725367e-02, 1.18238619e-01,\n",
       "              2.23657376e-02, 2.08943804e-02, 1.60920209e-02, 0.00000000e+00,\n",
       "              0.00000000e+00, 5.28463284e-02, 6.19720048e-02, 3.32922210e-02,\n",
       "              3.30470986e-03, 1.14300163e-01, 1.48548997e-02, 1.33143942e-02,\n",
       "              1.02645740e-01, 1.27006539e-02, 0.00000000e+00, 4.21827856e-02,\n",
       "              7.38304349e-03, 1.64411484e-03, 4.36247723e-03, 2.92368605e-02,\n",
       "              6.67569547e-02, 6.55292825e-02, 3.30504608e-02, 0.00000000e+00,\n",
       "              3.27868852e-02, 5.71664401e-02, 3.26947597e-02, 0.00000000e+00,\n",
       "              2.48237196e-01, 1.38569789e-01, 4.53522388e-02, 7.05167785e-02,\n",
       "              1.43149518e-01, 2.32516007e-02, 2.91579519e-02, 6.28306044e-02,\n",
       "              1.20378058e-02, 4.06704406e-02, 3.00846694e-03, 2.32014761e-02,\n",
       "              0.00000000e+00, 9.28961749e-04, 3.34110349e-02, 8.46772548e-02,\n",
       "              1.92343449e-02, 1.19307832e-03, 9.91216468e-02, 8.77469525e-04,\n",
       "              1.36612022e-04, 8.42046834e-02, 0.00000000e+00, 2.03327747e-02,\n",
       "              0.00000000e+00, 1.41949826e-02])                               ,\n",
       "       array([0.01696221, 0.02465778, 0.01333573, 0.00962733, 0.0050791 ,\n",
       "              0.01443475, 0.02006314, 0.01564572, 0.01709525, 0.02347022,\n",
       "              0.01510562, 0.0050791 , 0.00483467, 0.02616993, 0.03213703,\n",
       "              0.01987869, 0.01662311, 0.03174112, 0.0193909 , 0.01293094,\n",
       "              0.02463647, 0.01693497, 0.00541744, 0.009862  , 0.01690171,\n",
       "              0.01150803, 0.01121342, 0.01713551, 0.0148452 , 0.02645244,\n",
       "              0.01530237, 0.00541744, 0.01331393, 0.02841674, 0.01591676,\n",
       "              0.00491751, 0.02061234, 0.02986895, 0.02393421, 0.00776617,\n",
       "              0.02196307, 0.01614466, 0.01761586, 0.02168654, 0.01282839,\n",
       "              0.02950714, 0.00882455, 0.01733728, 0.00526326, 0.00887543,\n",
       "              0.01922766, 0.03129234, 0.01207015, 0.00817972, 0.02165945,\n",
       "              0.00749284, 0.00832974, 0.03010894, 0.00496225, 0.01476535,\n",
       "              0.00619211, 0.0110373 ])                                   ,\n",
       "       1,\n",
       "       array([0.34659091, 0.37195122, 0.28240741, 0.30808081, 0.24897959,\n",
       "              0.23828125, 0.26754386, 0.36526946, 0.36309524, 0.25206612,\n",
       "              0.31282051, 0.24897959, 0.26872247, 0.27111111, 0.37654321,\n",
       "              0.33888889, 0.32972973, 0.30964467, 0.33701657, 0.31606218,\n",
       "              0.39102564, 0.33333333, 0.23735409, 0.33333333, 0.31282051,\n",
       "              0.25523013, 0.27727273, 0.31606218, 0.36526946, 0.32275132,\n",
       "              0.32275132, 0.23735409, 0.21631206, 0.36526946, 0.31606218,\n",
       "              0.24497992, 0.41780822, 0.39869281, 0.32972973, 0.33516484,\n",
       "              0.40397351, 0.29756098, 0.32972973, 0.33701657, 0.31122449,\n",
       "              0.34659091, 0.25630252, 0.33888889, 0.23282443, 0.24696356,\n",
       "              0.35057471, 0.32972973, 0.34269663, 0.25957447, 0.32446809,\n",
       "              0.27111111, 0.21328671, 0.3019802 , 0.24897959, 0.34269663,\n",
       "              0.17836257, 0.3019802 ])                                   ],\n",
       "      dtype=object)"
      ]
     },
     "execution_count": 35,
     "metadata": {},
     "output_type": "execute_result"
    }
   ],
   "source": [
    "d"
   ]
  },
  {
   "cell_type": "code",
   "execution_count": null,
   "id": "aeb0b375",
   "metadata": {},
   "outputs": [],
   "source": []
  },
  {
   "cell_type": "code",
   "execution_count": 56,
   "id": "5b36ae41",
   "metadata": {
    "ExecuteTime": {
     "end_time": "2022-12-16T15:10:48.148882Z",
     "start_time": "2022-12-16T15:10:48.132930Z"
    }
   },
   "outputs": [],
   "source": [
    "S = [[1,1,1,0], [0,0,1,1], [0,0,1,0], [0,1,1,1]]"
   ]
  },
  {
   "cell_type": "code",
   "execution_count": 59,
   "id": "470b37b5",
   "metadata": {
    "ExecuteTime": {
     "end_time": "2022-12-16T15:11:07.110516Z",
     "start_time": "2022-12-16T15:11:07.091192Z"
    }
   },
   "outputs": [
    {
     "data": {
      "text/plain": [
       "array([[ 1.,  1., -1., -1.],\n",
       "       [ 0., -1.,  0.,  1.],\n",
       "       [ 0.,  0.,  1.,  0.],\n",
       "       [ 0.,  1., -1.,  0.]])"
      ]
     },
     "execution_count": 59,
     "metadata": {},
     "output_type": "execute_result"
    }
   ],
   "source": [
    "np.linalg.inv(np.array(S))"
   ]
  },
  {
   "cell_type": "code",
   "execution_count": 61,
   "id": "2b0f5d90",
   "metadata": {
    "ExecuteTime": {
     "end_time": "2022-12-16T15:12:42.839504Z",
     "start_time": "2022-12-16T15:12:42.820711Z"
    }
   },
   "outputs": [
    {
     "data": {
      "text/plain": [
       "array([[0, 1, 0, 0, 1, 1, 0],\n",
       "       [1, 0, 0, 0, 1, 1, 1],\n",
       "       [0, 0, 1, 0, 1, 0, 1],\n",
       "       [0, 0, 0, 1, 0, 1, 1]])"
      ]
     },
     "execution_count": 61,
     "metadata": {},
     "output_type": "execute_result"
    }
   ],
   "source": [
    "GP = np.array([[0,1,0,0,1,1,0], [1,0,0,0,1,1,1],[0,0,1,0,1,0,1], [0,0,0,1,0,1,1]])\n",
    "GP"
   ]
  },
  {
   "cell_type": "code",
   "execution_count": 63,
   "id": "e3a39b5e",
   "metadata": {
    "ExecuteTime": {
     "end_time": "2022-12-16T15:13:13.424277Z",
     "start_time": "2022-12-16T15:13:13.410529Z"
    }
   },
   "outputs": [
    {
     "data": {
      "text/plain": [
       "array([[1, 1, 1, 0, 1, 0, 0],\n",
       "       [0, 0, 1, 1, 1, 1, 0],\n",
       "       [0, 0, 1, 0, 1, 0, 1],\n",
       "       [1, 0, 1, 1, 0, 0, 1]], dtype=int32)"
      ]
     },
     "execution_count": 63,
     "metadata": {},
     "output_type": "execute_result"
    }
   ],
   "source": [
    "np.dot(S, GP)%2"
   ]
  },
  {
   "cell_type": "markdown",
   "id": "6a8df049",
   "metadata": {},
   "source": [
    "## Paralelizando"
   ]
  },
  {
   "cell_type": "code",
   "execution_count": 2,
   "id": "8235616a",
   "metadata": {
    "ExecuteTime": {
     "end_time": "2023-02-23T01:12:58.324759Z",
     "start_time": "2023-02-23T01:12:57.731634Z"
    }
   },
   "outputs": [],
   "source": [
    "import multiprocessing as mp\n",
    "import numpy as np\n",
    "import networkx as nx\n",
    "import os\n",
    "import time\n",
    "import argparse\n",
    "import igraph"
   ]
  },
  {
   "cell_type": "code",
   "execution_count": 36,
   "id": "4cf0eb76",
   "metadata": {
    "ExecuteTime": {
     "end_time": "2023-02-23T01:37:45.295229Z",
     "start_time": "2023-02-23T01:37:45.281815Z"
    }
   },
   "outputs": [],
   "source": [
    "def getFeatures(G):\n",
    "    \n",
    "    BC = np.array(list(nx.betweenness_centrality(G, k = min(500, G.number_of_nodes()) ).values()))\n",
    "    CC = np.array(list(nx.closeness_centrality(G).values()))\n",
    "    #LC = np.array(list(nx.load_centrality(G).values()))\n",
    "    DG = np.array(list(nx.degree(G))).T[1]\n",
    "    PR = np.array(list(nx.pagerank(G).values()))\n",
    "\n",
    "    EC = np.array(list(nx.eigenvector_centrality(G).values()))\n",
    "\n",
    "    features = [BC, PR, DG, CC, EC]\n",
    "    names = [\"BC\", \"PageRank\", \"degree\", \"closeness_centrality\", \"E\"]#, \"LC\"]\n",
    "    return np.array(features).T, names"
   ]
  },
  {
   "cell_type": "code",
   "execution_count": 37,
   "id": "0497c427",
   "metadata": {
    "ExecuteTime": {
     "end_time": "2023-02-23T01:37:45.452521Z",
     "start_time": "2023-02-23T01:37:45.439920Z"
    }
   },
   "outputs": [],
   "source": [
    "def writeFeatures(G, PATH, ins, elapsed):\n",
    "    features, _ = getFeatures(G)\n",
    "    subfij = '_feat'\n",
    "    print(PATH + ins.split(\"/\")[-1].replace(\".txt\",\"\") + subfij + \".npy\")\n",
    "    with open(PATH + ins.split(\"/\")[-1].replace(\".txt\",\"\") + subfij + \".npy\", \"wb\") as f:\n",
    "        np.save(f, features, allow_pickle=True)\n"
   ]
  },
  {
   "cell_type": "code",
   "execution_count": 40,
   "id": "d1ec10cb",
   "metadata": {
    "ExecuteTime": {
     "end_time": "2023-02-23T01:39:57.755290Z",
     "start_time": "2023-02-23T01:39:57.614058Z"
    }
   },
   "outputs": [],
   "source": [
    "\n",
    "import numpy as np\n",
    "import networkx as nx\n",
    "import os\n",
    "import time\n",
    "import argparse\n",
    "\n",
    "\n",
    "# In[231]:\n",
    "PATH = \"./BRKGA/instances/socialnetworks/txt/graph_ncstrlwg2.txt\"\n",
    "\n",
    "graphs = [PATH]\n",
    "Graphs = []\n",
    "\n",
    "for ins in graphs:\n",
    "    file1 = open(ins, 'r')\n",
    "    \n",
    "    Lines = file1.readlines()\n",
    "    VectorList = []\n",
    "    for line in Lines:\n",
    "        VectorList.append(line.replace(\"\\n\",\"\"))\n",
    "\n",
    "    file1.close()\n",
    "    G2 = nx.parse_edgelist(VectorList, nodetype=int)\n",
    "\n",
    "    H = nx.Graph()\n",
    "    H.add_nodes_from(sorted(G2.nodes(data=True)))\n",
    "    H.add_edges_from(G2.edges(data=True))\n",
    "    \"\"\"\n",
    "    G = igraph.Graph.Read_Edgelist(PATH+ins, directed = False)\n",
    "    G = G.to_networkx()\n",
    "    \"\"\"\n",
    "    Graphs.append(H)\n",
    "\n",
    "# In[229]:\n"
   ]
  },
  {
   "cell_type": "code",
   "execution_count": 33,
   "id": "a43cd04a",
   "metadata": {
    "ExecuteTime": {
     "end_time": "2023-02-23T01:37:19.586927Z",
     "start_time": "2023-02-23T01:35:57.652884Z"
    }
   },
   "outputs": [
    {
     "name": "stdout",
     "output_type": "stream",
     "text": [
      "\n",
      "------------ 1 out of 1 ------------\n",
      "\n",
      "\n",
      "Next graph: ./BRKGA/instances/socialnetworks/txt/graph_ncstrlwg2.txt\n"
     ]
    },
    {
     "ename": "KeyboardInterrupt",
     "evalue": "",
     "output_type": "error",
     "traceback": [
      "\u001b[1;31m---------------------------------------------------------------------------\u001b[0m",
      "\u001b[1;31mKeyboardInterrupt\u001b[0m                         Traceback (most recent call last)",
      "Input \u001b[1;32mIn [33]\u001b[0m, in \u001b[0;36m<cell line: 3>\u001b[1;34m()\u001b[0m\n\u001b[0;32m      6\u001b[0m \u001b[38;5;28mprint\u001b[39m(\u001b[38;5;124mf\u001b[39m\u001b[38;5;124m\"\u001b[39m\u001b[38;5;130;01m\\n\u001b[39;00m\u001b[38;5;124mNext graph: \u001b[39m\u001b[38;5;132;01m{\u001b[39;00mins\u001b[38;5;132;01m}\u001b[39;00m\u001b[38;5;124m\"\u001b[39m)\n\u001b[0;32m      8\u001b[0m s \u001b[38;5;241m=\u001b[39m time\u001b[38;5;241m.\u001b[39mtime()\n\u001b[1;32m----> 9\u001b[0m features, _ \u001b[38;5;241m=\u001b[39m \u001b[43mgetFeatures\u001b[49m\u001b[43m(\u001b[49m\u001b[43mG\u001b[49m\u001b[43m)\u001b[49m\n\u001b[0;32m     10\u001b[0m elapsed \u001b[38;5;241m=\u001b[39m time\u001b[38;5;241m.\u001b[39mtime() \u001b[38;5;241m-\u001b[39m s\n\u001b[0;32m     11\u001b[0m \u001b[38;5;28mprint\u001b[39m(\u001b[38;5;124mf\u001b[39m\u001b[38;5;124m\"\u001b[39m\u001b[38;5;130;01m\\n\u001b[39;00m\u001b[38;5;124mTime elapsed: \u001b[39m\u001b[38;5;132;01m{\u001b[39;00melapsed\u001b[38;5;132;01m:\u001b[39;00m\u001b[38;5;124m.3f\u001b[39m\u001b[38;5;132;01m}\u001b[39;00m\u001b[38;5;124m\"\u001b[39m)\n",
      "Input \u001b[1;32mIn [25]\u001b[0m, in \u001b[0;36mgetFeatures\u001b[1;34m(G)\u001b[0m\n\u001b[0;32m      1\u001b[0m \u001b[38;5;28;01mdef\u001b[39;00m \u001b[38;5;21mgetFeatures\u001b[39m(G):\n\u001b[0;32m      3\u001b[0m     BC \u001b[38;5;241m=\u001b[39m np\u001b[38;5;241m.\u001b[39marray(\u001b[38;5;28mlist\u001b[39m(nx\u001b[38;5;241m.\u001b[39mbetweenness_centrality(G, k \u001b[38;5;241m=\u001b[39m \u001b[38;5;28mmin\u001b[39m(\u001b[38;5;241m500\u001b[39m, G\u001b[38;5;241m.\u001b[39mnumber_of_nodes()) )\u001b[38;5;241m.\u001b[39mvalues()))\n\u001b[1;32m----> 4\u001b[0m     CC \u001b[38;5;241m=\u001b[39m np\u001b[38;5;241m.\u001b[39marray(\u001b[38;5;28mlist\u001b[39m(\u001b[43mnx\u001b[49m\u001b[38;5;241;43m.\u001b[39;49m\u001b[43mcloseness_centrality\u001b[49m\u001b[43m(\u001b[49m\u001b[43mG\u001b[49m\u001b[43m)\u001b[49m\u001b[38;5;241m.\u001b[39mvalues()))\n\u001b[0;32m      5\u001b[0m     \u001b[38;5;66;03m#LC = np.array(list(nx.load_centrality(G).values()))\u001b[39;00m\n\u001b[0;32m      6\u001b[0m     DG \u001b[38;5;241m=\u001b[39m np\u001b[38;5;241m.\u001b[39marray(\u001b[38;5;28mlist\u001b[39m(nx\u001b[38;5;241m.\u001b[39mdegree(G)))\u001b[38;5;241m.\u001b[39mT[\u001b[38;5;241m1\u001b[39m]\n",
      "File \u001b[1;32m~\\.conda\\envs\\DataScience\\lib\\site-packages\\networkx\\algorithms\\centrality\\closeness.py:113\u001b[0m, in \u001b[0;36mcloseness_centrality\u001b[1;34m(G, u, distance, wf_improved)\u001b[0m\n\u001b[0;32m    111\u001b[0m closeness_centrality \u001b[38;5;241m=\u001b[39m {}\n\u001b[0;32m    112\u001b[0m \u001b[38;5;28;01mfor\u001b[39;00m n \u001b[38;5;129;01min\u001b[39;00m nodes:\n\u001b[1;32m--> 113\u001b[0m     sp \u001b[38;5;241m=\u001b[39m \u001b[43mpath_length\u001b[49m\u001b[43m(\u001b[49m\u001b[43mG\u001b[49m\u001b[43m,\u001b[49m\u001b[43m \u001b[49m\u001b[43mn\u001b[49m\u001b[43m)\u001b[49m\n\u001b[0;32m    114\u001b[0m     totsp \u001b[38;5;241m=\u001b[39m \u001b[38;5;28msum\u001b[39m(sp\u001b[38;5;241m.\u001b[39mvalues())\n\u001b[0;32m    115\u001b[0m     len_G \u001b[38;5;241m=\u001b[39m \u001b[38;5;28mlen\u001b[39m(G)\n",
      "File \u001b[1;32m~\\.conda\\envs\\DataScience\\lib\\site-packages\\networkx\\algorithms\\shortest_paths\\unweighted.py:59\u001b[0m, in \u001b[0;36msingle_source_shortest_path_length\u001b[1;34m(G, source, cutoff)\u001b[0m\n\u001b[0;32m     57\u001b[0m     cutoff \u001b[38;5;241m=\u001b[39m \u001b[38;5;28mfloat\u001b[39m(\u001b[38;5;124m\"\u001b[39m\u001b[38;5;124minf\u001b[39m\u001b[38;5;124m\"\u001b[39m)\n\u001b[0;32m     58\u001b[0m nextlevel \u001b[38;5;241m=\u001b[39m {source: \u001b[38;5;241m1\u001b[39m}\n\u001b[1;32m---> 59\u001b[0m \u001b[38;5;28;01mreturn\u001b[39;00m \u001b[38;5;28;43mdict\u001b[39;49m\u001b[43m(\u001b[49m\u001b[43m_single_shortest_path_length\u001b[49m\u001b[43m(\u001b[49m\u001b[43mG\u001b[49m\u001b[38;5;241;43m.\u001b[39;49m\u001b[43madj\u001b[49m\u001b[43m,\u001b[49m\u001b[43m \u001b[49m\u001b[43mnextlevel\u001b[49m\u001b[43m,\u001b[49m\u001b[43m \u001b[49m\u001b[43mcutoff\u001b[49m\u001b[43m)\u001b[49m\u001b[43m)\u001b[49m\n",
      "File \u001b[1;32m~\\.conda\\envs\\DataScience\\lib\\site-packages\\networkx\\algorithms\\shortest_paths\\unweighted.py:91\u001b[0m, in \u001b[0;36m_single_shortest_path_length\u001b[1;34m(adj, firstlevel, cutoff)\u001b[0m\n\u001b[0;32m     89\u001b[0m         \u001b[38;5;28;01mreturn\u001b[39;00m\n\u001b[0;32m     90\u001b[0m     \u001b[38;5;28;01mfor\u001b[39;00m v \u001b[38;5;129;01min\u001b[39;00m found:\n\u001b[1;32m---> 91\u001b[0m         \u001b[43mnextlevel\u001b[49m\u001b[38;5;241;43m.\u001b[39;49m\u001b[43mupdate\u001b[49m(adj[v])\n\u001b[0;32m     92\u001b[0m     level \u001b[38;5;241m+\u001b[39m\u001b[38;5;241m=\u001b[39m \u001b[38;5;241m1\u001b[39m\n\u001b[0;32m     93\u001b[0m \u001b[38;5;28;01mdel\u001b[39;00m seen\n",
      "\u001b[1;31mKeyboardInterrupt\u001b[0m: "
     ]
    }
   ],
   "source": [
    "c = 0\n",
    "PATH_save = \"./\"\n",
    "for G, ins in zip(Graphs, graphs):\n",
    "    c+=1\n",
    "    print(f\"\\n------------ {c} out of {len(Graphs)} ------------\\n\")\n",
    "    print(f\"\\nNext graph: {ins}\")\n",
    "    \n",
    "    s = time.time()\n",
    "    features, _ = getFeatures(G)\n",
    "    elapsed = time.time() - s\n",
    "    print(f\"\\nTime elapsed: {elapsed:.3f}\")\n",
    "    \n",
    "    writeFeatures(PATH_save, ins, features, elapsed)\n",
    "    "
   ]
  },
  {
   "cell_type": "code",
   "execution_count": null,
   "id": "e8250434",
   "metadata": {
    "ExecuteTime": {
     "start_time": "2023-02-23T01:39:59.548Z"
    }
   },
   "outputs": [
    {
     "name": "stdout",
     "output_type": "stream",
     "text": [
      "\n",
      "------------ 1 out of 1 ------------\n",
      "\n",
      "\n",
      "Next graph: ./BRKGA/instances/socialnetworks/txt/graph_ncstrlwg2.txt\n"
     ]
    }
   ],
   "source": [
    "c = 0\n",
    "PATH_save = \"./\"\n",
    "for G, ins in zip(Graphs, graphs):\n",
    "    \n",
    "    c+=1\n",
    "    print(f\"\\n------------ {c} out of {len(Graphs)} ------------\\n\")\n",
    "    print(f\"\\nNext graph: {ins}\")\n",
    "    p1 = mp.Process(target = writeFeatures, args = (G, PATH_save, ins, elapsed))\n",
    "    s = time.time()\n",
    "    p1.start()\n",
    "    elapsed = time.time() - s\n",
    "    print(f\"\\nTime elapsed: {elapsed:.3f}\")\n",
    "    \n",
    "    "
   ]
  },
  {
   "cell_type": "code",
   "execution_count": null,
   "id": "73299f3a",
   "metadata": {},
   "outputs": [],
   "source": [
    "import newtokx"
   ]
  },
  {
   "cell_type": "code",
   "execution_count": null,
   "id": "cfa56b3d",
   "metadata": {},
   "outputs": [],
   "source": []
  }
 ],
 "metadata": {
  "hide_input": false,
  "kernelspec": {
   "display_name": "Python 3 (ipykernel)",
   "language": "python",
   "name": "python3"
  },
  "language_info": {
   "codemirror_mode": {
    "name": "ipython",
    "version": 3
   },
   "file_extension": ".py",
   "mimetype": "text/x-python",
   "name": "python",
   "nbconvert_exporter": "python",
   "pygments_lexer": "ipython3",
   "version": "3.8.5"
  },
  "varInspector": {
   "cols": {
    "lenName": 16,
    "lenType": 16,
    "lenVar": 40
   },
   "kernels_config": {
    "python": {
     "delete_cmd_postfix": "",
     "delete_cmd_prefix": "del ",
     "library": "var_list.py",
     "varRefreshCmd": "print(var_dic_list())"
    },
    "r": {
     "delete_cmd_postfix": ") ",
     "delete_cmd_prefix": "rm(",
     "library": "var_list.r",
     "varRefreshCmd": "cat(var_dic_list()) "
    }
   },
   "types_to_exclude": [
    "module",
    "function",
    "builtin_function_or_method",
    "instance",
    "_Feature"
   ],
   "window_display": false
  }
 },
 "nbformat": 4,
 "nbformat_minor": 5
}
